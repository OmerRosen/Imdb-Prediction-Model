{
  "nbformat": 4,
  "nbformat_minor": 0,
  "metadata": {
    "colab": {
      "provenance": [],
      "toc_visible": true,
      "mount_file_id": "1SZdCkrz-thGqCjrjab1Vk5oXNcCCe2X6",
      "authorship_tag": "ABX9TyOgX9nQw7va6UQqcEVq+myi",
      "include_colab_link": true
    },
    "kernelspec": {
      "name": "python3",
      "display_name": "Python 3"
    },
    "language_info": {
      "name": "python"
    }
  },
  "cells": [
    {
      "cell_type": "markdown",
      "metadata": {
        "id": "view-in-github",
        "colab_type": "text"
      },
      "source": [
        "<a href=\"https://colab.research.google.com/github/OmerRosen/Kaggle/blob/main/IMDB_2022_Hit_or_Flop_Model_Exploration.ipynb\" target=\"_parent\"><img src=\"https://colab.research.google.com/assets/colab-badge.svg\" alt=\"Open In Colab\"/></a>"
      ]
    },
    {
      "cell_type": "code",
      "execution_count": 1,
      "metadata": {
        "id": "uzpK6mEXhIsz"
      },
      "outputs": [],
      "source": [
        "skip_slow_processes = False"
      ]
    },
    {
      "cell_type": "markdown",
      "source": [
        "# Model Exploring - Useful Functions"
      ],
      "metadata": {
        "id": "fC8D1kk2wz-F"
      }
    },
    {
      "cell_type": "markdown",
      "metadata": {
        "id": "2dbf591e-265c-4b5f-afa6-8fab23c9833d"
      },
      "source": [
        "Model Exploring</b><br>\n",
        "In this section we will train and fine-turn various models to achieve the best prediction on our test dataset."
      ]
    },
    {
      "cell_type": "markdown",
      "source": [
        "## Importing libraries"
      ],
      "metadata": {
        "id": "5OAfjWKUz_YY"
      }
    },
    {
      "cell_type": "code",
      "execution_count": 2,
      "metadata": {
        "id": "b02c5573-7444-4cab-87ad-14093fa465bb"
      },
      "outputs": [],
      "source": [
        "import os\n",
        "import math\n",
        "import warnings\n",
        "import itertools\n",
        "from timeit import default_timer as timer\n",
        "\n",
        "import numpy as np \n",
        "import pandas as pd \n",
        "import matplotlib.pyplot as plt\n",
        "\n",
        "import requests\n",
        "from bs4 import BeautifulSoup \n",
        "import re\n",
        "import time\n",
        "import progressbar\n",
        "\n",
        "from sklearn.model_selection import cross_val_score, train_test_split,cross_validate\n",
        "from sklearn.preprocessing import OneHotEncoder\n",
        "from sklearn import preprocessing\n",
        "from sklearn.base import clone\n",
        "from sklearn.preprocessing import StandardScaler\n",
        "from sklearn.metrics import roc_curve,auc,confusion_matrix\n",
        "from sklearn.impute import KNNImputer\n",
        "\n",
        "from sklearn.ensemble import RandomForestRegressor\n",
        "from sklearn.model_selection import train_test_split\n",
        "from sklearn.metrics import mean_squared_error, r2_score\n",
        "\n",
        "\n",
        "import seaborn as sns\n",
        "import inspect\n",
        "\n",
        "\n",
        "from sklearn.linear_model import LinearRegression\n",
        "from sklearn.tree import DecisionTreeRegressor\n",
        "\n",
        "from sklearn.ensemble import BaggingClassifier\n",
        "from sklearn.ensemble import RandomForestClassifier\n",
        "from sklearn.ensemble import AdaBoostRegressor\n",
        "from sklearn.ensemble import BaggingRegressor\n",
        "\n",
        "import xgboost as xgb\n",
        "\n",
        "from sklearn.metrics import mean_squared_error"
      ]
    },
    {
      "cell_type": "markdown",
      "source": [
        "# Load Processed Dataset"
      ],
      "metadata": {
        "id": "0JHrCaJ-uo1Q"
      }
    },
    {
      "cell_type": "code",
      "source": [
        "binary_columns = ['genere_action', 'genere_adventure', 'genere_fantasy', 'language_english', 'genere_comedy', 'language_mandarin', 'genere_horror', 'genere_thriller', 'language_spanish', 'genere_crime', 'genere_drama', 'language_russian', 'genere_history', 'language_italian', 'language_french', 'genere_romance', 'genere_mystery', 'genere_sci-fi', 'language_japanese', 'genere_animation', 'language_german', 'language_latin', 'language_arabic', 'genere_biography', 'language_hindi', 'language_chinese', 'genere_music', 'genere_sport', 'language_portuguese', 'genere_family', 'language_american sign language', 'genere_musical', 'language_hebrew', 'genere_war', 'genere_western', 'was_budget_missing', 'rating_catg_G', 'rating_catg_PG-13', 'rating_catg_R', 'rating_catg_Unrated', 'release_month_April', 'release_month_August', 'release_month_December', 'release_month_February', 'release_month_January', 'release_month_July', 'release_month_June', 'release_month_March', 'release_month_May', 'release_month_November', 'release_month_October', 'release_month_September', 'budget_currency_CAD', 'budget_currency_EUR', 'budget_currency_GBP', 'budget_currency_RUB', 'budget_currency_USD']\n",
        "numerical_columns = ['budget_usd', 'runtime_min', 'title_length', 'movie_desc_length', 'release_year', 'cast_count_total', 'cast_count_director', 'cast_count_writer', 'cast_count_cast', 'cast_count_producer', 'cast_count_composer', 'cast_count_cinematographer', 'cast_count_editor', 'cast_count_casting_director', 'cast_count_production_designer', 'cast_count_art_director', 'cast_count_set_decorator', 'cast_count_costume_designer', 'cast_count_production_manager', 'cast_count_special_effects', 'cast_count_visual_effects', 'cast_count_animation_department', 'cast_count_casting_department', 'cast_count_location_management', 'cast_count_music_department', 'cast_count_script_department', 'cast_count_transportation_department', 'cast_count_miscellaneous', 'cast_count_thanks', 'genre__count', 'language__count', 'main_crew_count', 'crew_age_avg', 'crew_age_missing', 'crew_female_count', 'crew_lgbt_count', 'crew_prestige_wins', 'crew_prestige_nominations', 'crew_awards_nominations']\n"
      ],
      "metadata": {
        "id": "X-xfjYjz4jcq"
      },
      "execution_count": 3,
      "outputs": []
    },
    {
      "cell_type": "code",
      "source": [
        "\n",
        "base_folder_path = \"/content/drive/My Drive/Harvard HW/Course 4 - Final Project\"\n",
        "file_path = os.path.join(base_folder_path,\"processed_dataset.csv\")\n",
        "X = pd.read_csv(file_path, index_col=\"movie_id\")\n",
        "X"
      ],
      "metadata": {
        "colab": {
          "base_uri": "https://localhost:8080/",
          "height": 519
        },
        "id": "XpuuC2XiurrI",
        "outputId": "4e21cd47-ac94-436b-c596-30136bfdfb40"
      },
      "execution_count": 4,
      "outputs": [
        {
          "output_type": "execute_result",
          "data": {
            "text/plain": [
              "            genere_action  genere_adventure  genere_fantasy  language_english  \\\n",
              "movie_id                                                                        \n",
              "tt1630029             1.0               1.0             1.0               1.0   \n",
              "tt6710474             1.0               1.0             0.0               1.0   \n",
              "tt9764362             0.0               0.0             0.0               1.0   \n",
              "tt7888964             1.0               0.0             0.0               1.0   \n",
              "tt10640346            0.0               0.0             0.0               1.0   \n",
              "...                   ...               ...             ...               ...   \n",
              "tt11378070            0.0               0.0             0.0               1.0   \n",
              "tt9278074             0.0               0.0             0.0               1.0   \n",
              "tt9510324             0.0               1.0             1.0               1.0   \n",
              "tt7599146             1.0               0.0             0.0               1.0   \n",
              "tt15132916            0.0               0.0             0.0               1.0   \n",
              "\n",
              "            genere_comedy  language_mandarin  genere_horror  genere_thriller  \\\n",
              "movie_id                                                                       \n",
              "tt1630029             0.0                0.0            0.0              0.0   \n",
              "tt6710474             1.0                1.0            0.0              0.0   \n",
              "tt9764362             1.0                0.0            1.0              1.0   \n",
              "tt7888964             0.0                0.0            0.0              0.0   \n",
              "tt10640346            1.0                0.0            0.0              0.0   \n",
              "...                   ...                ...            ...              ...   \n",
              "tt11378070            0.0                0.0            1.0              1.0   \n",
              "tt9278074             1.0                0.0            1.0              0.0   \n",
              "tt9510324             0.0                0.0            0.0              0.0   \n",
              "tt7599146             0.0                0.0            0.0              0.0   \n",
              "tt15132916            0.0                0.0            0.0              0.0   \n",
              "\n",
              "            language_spanish  genere_crime  ...  release_month_September  \\\n",
              "movie_id                                    ...                            \n",
              "tt1630029                0.0           0.0  ...                        0   \n",
              "tt6710474                0.0           0.0  ...                        0   \n",
              "tt9764362                1.0           0.0  ...                        0   \n",
              "tt7888964                1.0           1.0  ...                        0   \n",
              "tt10640346               1.0           0.0  ...                        0   \n",
              "...                      ...           ...  ...                      ...   \n",
              "tt11378070               0.0           0.0  ...                        0   \n",
              "tt9278074                0.0           0.0  ...                        0   \n",
              "tt9510324                0.0           0.0  ...                        0   \n",
              "tt7599146                1.0           0.0  ...                        0   \n",
              "tt15132916               0.0           0.0  ...                        0   \n",
              "\n",
              "            budget_currency_CAD  budget_currency_EUR  budget_currency_GBP  \\\n",
              "movie_id                                                                    \n",
              "tt1630029                     0                    0                    0   \n",
              "tt6710474                     0                    0                    0   \n",
              "tt9764362                     0                    0                    0   \n",
              "tt7888964                     0                    0                    0   \n",
              "tt10640346                    0                    0                    0   \n",
              "...                         ...                  ...                  ...   \n",
              "tt11378070                    0                    0                    0   \n",
              "tt9278074                     0                    0                    0   \n",
              "tt9510324                     0                    0                    0   \n",
              "tt7599146                     0                    0                    0   \n",
              "tt15132916                    0                    0                    0   \n",
              "\n",
              "            budget_currency_RUB  budget_currency_USD  \\\n",
              "movie_id                                               \n",
              "tt1630029                     0                    1   \n",
              "tt6710474                     0                    1   \n",
              "tt9764362                     0                    1   \n",
              "tt7888964                     0                    1   \n",
              "tt10640346                    0                    1   \n",
              "...                         ...                  ...   \n",
              "tt11378070                    0                    1   \n",
              "tt9278074                     0                    1   \n",
              "tt9510324                     0                    1   \n",
              "tt7599146                     0                    1   \n",
              "tt15132916                    0                    1   \n",
              "\n",
              "            y_opening_weekend_us_canada  y_gross_us_canada  y_metascore  \\\n",
              "movie_id                                                                  \n",
              "tt1630029                   134100226.0        683701972.0         67.0   \n",
              "tt6710474                      501305.0         77191785.0         81.0   \n",
              "tt9764362                     9004957.0         38501125.0         71.0   \n",
              "tt7888964                     6820100.0         27568035.0         64.0   \n",
              "tt10640346                    3603368.0         15351455.0         60.0   \n",
              "...                                 ...                ...          ...   \n",
              "tt11378070                          NaN                NaN          NaN   \n",
              "tt9278074                           NaN                NaN          NaN   \n",
              "tt9510324                           NaN                NaN          NaN   \n",
              "tt7599146                           NaN                NaN          NaN   \n",
              "tt15132916                          NaN                NaN          NaN   \n",
              "\n",
              "            y_user_rating  \n",
              "movie_id                   \n",
              "tt1630029             7.7  \n",
              "tt6710474             7.9  \n",
              "tt9764362             7.2  \n",
              "tt7888964             7.4  \n",
              "tt10640346            7.2  \n",
              "...                   ...  \n",
              "tt11378070            5.0  \n",
              "tt9278074             3.2  \n",
              "tt9510324             4.9  \n",
              "tt7599146             7.8  \n",
              "tt15132916            5.1  \n",
              "\n",
              "[3902 rows x 100 columns]"
            ],
            "text/html": [
              "\n",
              "  <div id=\"df-c4be8719-de24-4660-ab82-e403788de6a9\">\n",
              "    <div class=\"colab-df-container\">\n",
              "      <div>\n",
              "<style scoped>\n",
              "    .dataframe tbody tr th:only-of-type {\n",
              "        vertical-align: middle;\n",
              "    }\n",
              "\n",
              "    .dataframe tbody tr th {\n",
              "        vertical-align: top;\n",
              "    }\n",
              "\n",
              "    .dataframe thead th {\n",
              "        text-align: right;\n",
              "    }\n",
              "</style>\n",
              "<table border=\"1\" class=\"dataframe\">\n",
              "  <thead>\n",
              "    <tr style=\"text-align: right;\">\n",
              "      <th></th>\n",
              "      <th>genere_action</th>\n",
              "      <th>genere_adventure</th>\n",
              "      <th>genere_fantasy</th>\n",
              "      <th>language_english</th>\n",
              "      <th>genere_comedy</th>\n",
              "      <th>language_mandarin</th>\n",
              "      <th>genere_horror</th>\n",
              "      <th>genere_thriller</th>\n",
              "      <th>language_spanish</th>\n",
              "      <th>genere_crime</th>\n",
              "      <th>...</th>\n",
              "      <th>release_month_September</th>\n",
              "      <th>budget_currency_CAD</th>\n",
              "      <th>budget_currency_EUR</th>\n",
              "      <th>budget_currency_GBP</th>\n",
              "      <th>budget_currency_RUB</th>\n",
              "      <th>budget_currency_USD</th>\n",
              "      <th>y_opening_weekend_us_canada</th>\n",
              "      <th>y_gross_us_canada</th>\n",
              "      <th>y_metascore</th>\n",
              "      <th>y_user_rating</th>\n",
              "    </tr>\n",
              "    <tr>\n",
              "      <th>movie_id</th>\n",
              "      <th></th>\n",
              "      <th></th>\n",
              "      <th></th>\n",
              "      <th></th>\n",
              "      <th></th>\n",
              "      <th></th>\n",
              "      <th></th>\n",
              "      <th></th>\n",
              "      <th></th>\n",
              "      <th></th>\n",
              "      <th></th>\n",
              "      <th></th>\n",
              "      <th></th>\n",
              "      <th></th>\n",
              "      <th></th>\n",
              "      <th></th>\n",
              "      <th></th>\n",
              "      <th></th>\n",
              "      <th></th>\n",
              "      <th></th>\n",
              "      <th></th>\n",
              "    </tr>\n",
              "  </thead>\n",
              "  <tbody>\n",
              "    <tr>\n",
              "      <th>tt1630029</th>\n",
              "      <td>1.0</td>\n",
              "      <td>1.0</td>\n",
              "      <td>1.0</td>\n",
              "      <td>1.0</td>\n",
              "      <td>0.0</td>\n",
              "      <td>0.0</td>\n",
              "      <td>0.0</td>\n",
              "      <td>0.0</td>\n",
              "      <td>0.0</td>\n",
              "      <td>0.0</td>\n",
              "      <td>...</td>\n",
              "      <td>0</td>\n",
              "      <td>0</td>\n",
              "      <td>0</td>\n",
              "      <td>0</td>\n",
              "      <td>0</td>\n",
              "      <td>1</td>\n",
              "      <td>134100226.0</td>\n",
              "      <td>683701972.0</td>\n",
              "      <td>67.0</td>\n",
              "      <td>7.7</td>\n",
              "    </tr>\n",
              "    <tr>\n",
              "      <th>tt6710474</th>\n",
              "      <td>1.0</td>\n",
              "      <td>1.0</td>\n",
              "      <td>0.0</td>\n",
              "      <td>1.0</td>\n",
              "      <td>1.0</td>\n",
              "      <td>1.0</td>\n",
              "      <td>0.0</td>\n",
              "      <td>0.0</td>\n",
              "      <td>0.0</td>\n",
              "      <td>0.0</td>\n",
              "      <td>...</td>\n",
              "      <td>0</td>\n",
              "      <td>0</td>\n",
              "      <td>0</td>\n",
              "      <td>0</td>\n",
              "      <td>0</td>\n",
              "      <td>1</td>\n",
              "      <td>501305.0</td>\n",
              "      <td>77191785.0</td>\n",
              "      <td>81.0</td>\n",
              "      <td>7.9</td>\n",
              "    </tr>\n",
              "    <tr>\n",
              "      <th>tt9764362</th>\n",
              "      <td>0.0</td>\n",
              "      <td>0.0</td>\n",
              "      <td>0.0</td>\n",
              "      <td>1.0</td>\n",
              "      <td>1.0</td>\n",
              "      <td>0.0</td>\n",
              "      <td>1.0</td>\n",
              "      <td>1.0</td>\n",
              "      <td>1.0</td>\n",
              "      <td>0.0</td>\n",
              "      <td>...</td>\n",
              "      <td>0</td>\n",
              "      <td>0</td>\n",
              "      <td>0</td>\n",
              "      <td>0</td>\n",
              "      <td>0</td>\n",
              "      <td>1</td>\n",
              "      <td>9004957.0</td>\n",
              "      <td>38501125.0</td>\n",
              "      <td>71.0</td>\n",
              "      <td>7.2</td>\n",
              "    </tr>\n",
              "    <tr>\n",
              "      <th>tt7888964</th>\n",
              "      <td>1.0</td>\n",
              "      <td>0.0</td>\n",
              "      <td>0.0</td>\n",
              "      <td>1.0</td>\n",
              "      <td>0.0</td>\n",
              "      <td>0.0</td>\n",
              "      <td>0.0</td>\n",
              "      <td>0.0</td>\n",
              "      <td>1.0</td>\n",
              "      <td>1.0</td>\n",
              "      <td>...</td>\n",
              "      <td>0</td>\n",
              "      <td>0</td>\n",
              "      <td>0</td>\n",
              "      <td>0</td>\n",
              "      <td>0</td>\n",
              "      <td>1</td>\n",
              "      <td>6820100.0</td>\n",
              "      <td>27568035.0</td>\n",
              "      <td>64.0</td>\n",
              "      <td>7.4</td>\n",
              "    </tr>\n",
              "    <tr>\n",
              "      <th>tt10640346</th>\n",
              "      <td>0.0</td>\n",
              "      <td>0.0</td>\n",
              "      <td>0.0</td>\n",
              "      <td>1.0</td>\n",
              "      <td>1.0</td>\n",
              "      <td>0.0</td>\n",
              "      <td>0.0</td>\n",
              "      <td>0.0</td>\n",
              "      <td>1.0</td>\n",
              "      <td>0.0</td>\n",
              "      <td>...</td>\n",
              "      <td>0</td>\n",
              "      <td>0</td>\n",
              "      <td>0</td>\n",
              "      <td>0</td>\n",
              "      <td>0</td>\n",
              "      <td>1</td>\n",
              "      <td>3603368.0</td>\n",
              "      <td>15351455.0</td>\n",
              "      <td>60.0</td>\n",
              "      <td>7.2</td>\n",
              "    </tr>\n",
              "    <tr>\n",
              "      <th>...</th>\n",
              "      <td>...</td>\n",
              "      <td>...</td>\n",
              "      <td>...</td>\n",
              "      <td>...</td>\n",
              "      <td>...</td>\n",
              "      <td>...</td>\n",
              "      <td>...</td>\n",
              "      <td>...</td>\n",
              "      <td>...</td>\n",
              "      <td>...</td>\n",
              "      <td>...</td>\n",
              "      <td>...</td>\n",
              "      <td>...</td>\n",
              "      <td>...</td>\n",
              "      <td>...</td>\n",
              "      <td>...</td>\n",
              "      <td>...</td>\n",
              "      <td>...</td>\n",
              "      <td>...</td>\n",
              "      <td>...</td>\n",
              "      <td>...</td>\n",
              "    </tr>\n",
              "    <tr>\n",
              "      <th>tt11378070</th>\n",
              "      <td>0.0</td>\n",
              "      <td>0.0</td>\n",
              "      <td>0.0</td>\n",
              "      <td>1.0</td>\n",
              "      <td>0.0</td>\n",
              "      <td>0.0</td>\n",
              "      <td>1.0</td>\n",
              "      <td>1.0</td>\n",
              "      <td>0.0</td>\n",
              "      <td>0.0</td>\n",
              "      <td>...</td>\n",
              "      <td>0</td>\n",
              "      <td>0</td>\n",
              "      <td>0</td>\n",
              "      <td>0</td>\n",
              "      <td>0</td>\n",
              "      <td>1</td>\n",
              "      <td>NaN</td>\n",
              "      <td>NaN</td>\n",
              "      <td>NaN</td>\n",
              "      <td>5.0</td>\n",
              "    </tr>\n",
              "    <tr>\n",
              "      <th>tt9278074</th>\n",
              "      <td>0.0</td>\n",
              "      <td>0.0</td>\n",
              "      <td>0.0</td>\n",
              "      <td>1.0</td>\n",
              "      <td>1.0</td>\n",
              "      <td>0.0</td>\n",
              "      <td>1.0</td>\n",
              "      <td>0.0</td>\n",
              "      <td>0.0</td>\n",
              "      <td>0.0</td>\n",
              "      <td>...</td>\n",
              "      <td>0</td>\n",
              "      <td>0</td>\n",
              "      <td>0</td>\n",
              "      <td>0</td>\n",
              "      <td>0</td>\n",
              "      <td>1</td>\n",
              "      <td>NaN</td>\n",
              "      <td>NaN</td>\n",
              "      <td>NaN</td>\n",
              "      <td>3.2</td>\n",
              "    </tr>\n",
              "    <tr>\n",
              "      <th>tt9510324</th>\n",
              "      <td>0.0</td>\n",
              "      <td>1.0</td>\n",
              "      <td>1.0</td>\n",
              "      <td>1.0</td>\n",
              "      <td>0.0</td>\n",
              "      <td>0.0</td>\n",
              "      <td>0.0</td>\n",
              "      <td>0.0</td>\n",
              "      <td>0.0</td>\n",
              "      <td>0.0</td>\n",
              "      <td>...</td>\n",
              "      <td>0</td>\n",
              "      <td>0</td>\n",
              "      <td>0</td>\n",
              "      <td>0</td>\n",
              "      <td>0</td>\n",
              "      <td>1</td>\n",
              "      <td>NaN</td>\n",
              "      <td>NaN</td>\n",
              "      <td>NaN</td>\n",
              "      <td>4.9</td>\n",
              "    </tr>\n",
              "    <tr>\n",
              "      <th>tt7599146</th>\n",
              "      <td>1.0</td>\n",
              "      <td>0.0</td>\n",
              "      <td>0.0</td>\n",
              "      <td>1.0</td>\n",
              "      <td>0.0</td>\n",
              "      <td>0.0</td>\n",
              "      <td>0.0</td>\n",
              "      <td>0.0</td>\n",
              "      <td>1.0</td>\n",
              "      <td>0.0</td>\n",
              "      <td>...</td>\n",
              "      <td>0</td>\n",
              "      <td>0</td>\n",
              "      <td>0</td>\n",
              "      <td>0</td>\n",
              "      <td>0</td>\n",
              "      <td>1</td>\n",
              "      <td>NaN</td>\n",
              "      <td>NaN</td>\n",
              "      <td>NaN</td>\n",
              "      <td>7.8</td>\n",
              "    </tr>\n",
              "    <tr>\n",
              "      <th>tt15132916</th>\n",
              "      <td>0.0</td>\n",
              "      <td>0.0</td>\n",
              "      <td>0.0</td>\n",
              "      <td>1.0</td>\n",
              "      <td>0.0</td>\n",
              "      <td>0.0</td>\n",
              "      <td>0.0</td>\n",
              "      <td>0.0</td>\n",
              "      <td>0.0</td>\n",
              "      <td>0.0</td>\n",
              "      <td>...</td>\n",
              "      <td>0</td>\n",
              "      <td>0</td>\n",
              "      <td>0</td>\n",
              "      <td>0</td>\n",
              "      <td>0</td>\n",
              "      <td>1</td>\n",
              "      <td>NaN</td>\n",
              "      <td>NaN</td>\n",
              "      <td>NaN</td>\n",
              "      <td>5.1</td>\n",
              "    </tr>\n",
              "  </tbody>\n",
              "</table>\n",
              "<p>3902 rows × 100 columns</p>\n",
              "</div>\n",
              "      <button class=\"colab-df-convert\" onclick=\"convertToInteractive('df-c4be8719-de24-4660-ab82-e403788de6a9')\"\n",
              "              title=\"Convert this dataframe to an interactive table.\"\n",
              "              style=\"display:none;\">\n",
              "        \n",
              "  <svg xmlns=\"http://www.w3.org/2000/svg\" height=\"24px\"viewBox=\"0 0 24 24\"\n",
              "       width=\"24px\">\n",
              "    <path d=\"M0 0h24v24H0V0z\" fill=\"none\"/>\n",
              "    <path d=\"M18.56 5.44l.94 2.06.94-2.06 2.06-.94-2.06-.94-.94-2.06-.94 2.06-2.06.94zm-11 1L8.5 8.5l.94-2.06 2.06-.94-2.06-.94L8.5 2.5l-.94 2.06-2.06.94zm10 10l.94 2.06.94-2.06 2.06-.94-2.06-.94-.94-2.06-.94 2.06-2.06.94z\"/><path d=\"M17.41 7.96l-1.37-1.37c-.4-.4-.92-.59-1.43-.59-.52 0-1.04.2-1.43.59L10.3 9.45l-7.72 7.72c-.78.78-.78 2.05 0 2.83L4 21.41c.39.39.9.59 1.41.59.51 0 1.02-.2 1.41-.59l7.78-7.78 2.81-2.81c.8-.78.8-2.07 0-2.86zM5.41 20L4 18.59l7.72-7.72 1.47 1.35L5.41 20z\"/>\n",
              "  </svg>\n",
              "      </button>\n",
              "      \n",
              "  <style>\n",
              "    .colab-df-container {\n",
              "      display:flex;\n",
              "      flex-wrap:wrap;\n",
              "      gap: 12px;\n",
              "    }\n",
              "\n",
              "    .colab-df-convert {\n",
              "      background-color: #E8F0FE;\n",
              "      border: none;\n",
              "      border-radius: 50%;\n",
              "      cursor: pointer;\n",
              "      display: none;\n",
              "      fill: #1967D2;\n",
              "      height: 32px;\n",
              "      padding: 0 0 0 0;\n",
              "      width: 32px;\n",
              "    }\n",
              "\n",
              "    .colab-df-convert:hover {\n",
              "      background-color: #E2EBFA;\n",
              "      box-shadow: 0px 1px 2px rgba(60, 64, 67, 0.3), 0px 1px 3px 1px rgba(60, 64, 67, 0.15);\n",
              "      fill: #174EA6;\n",
              "    }\n",
              "\n",
              "    [theme=dark] .colab-df-convert {\n",
              "      background-color: #3B4455;\n",
              "      fill: #D2E3FC;\n",
              "    }\n",
              "\n",
              "    [theme=dark] .colab-df-convert:hover {\n",
              "      background-color: #434B5C;\n",
              "      box-shadow: 0px 1px 3px 1px rgba(0, 0, 0, 0.15);\n",
              "      filter: drop-shadow(0px 1px 2px rgba(0, 0, 0, 0.3));\n",
              "      fill: #FFFFFF;\n",
              "    }\n",
              "  </style>\n",
              "\n",
              "      <script>\n",
              "        const buttonEl =\n",
              "          document.querySelector('#df-c4be8719-de24-4660-ab82-e403788de6a9 button.colab-df-convert');\n",
              "        buttonEl.style.display =\n",
              "          google.colab.kernel.accessAllowed ? 'block' : 'none';\n",
              "\n",
              "        async function convertToInteractive(key) {\n",
              "          const element = document.querySelector('#df-c4be8719-de24-4660-ab82-e403788de6a9');\n",
              "          const dataTable =\n",
              "            await google.colab.kernel.invokeFunction('convertToInteractive',\n",
              "                                                     [key], {});\n",
              "          if (!dataTable) return;\n",
              "\n",
              "          const docLinkHtml = 'Like what you see? Visit the ' +\n",
              "            '<a target=\"_blank\" href=https://colab.research.google.com/notebooks/data_table.ipynb>data table notebook</a>'\n",
              "            + ' to learn more about interactive tables.';\n",
              "          element.innerHTML = '';\n",
              "          dataTable['output_type'] = 'display_data';\n",
              "          await google.colab.output.renderOutput(dataTable, element);\n",
              "          const docLink = document.createElement('div');\n",
              "          docLink.innerHTML = docLinkHtml;\n",
              "          element.appendChild(docLink);\n",
              "        }\n",
              "      </script>\n",
              "    </div>\n",
              "  </div>\n",
              "  "
            ]
          },
          "metadata": {},
          "execution_count": 4
        }
      ]
    },
    {
      "cell_type": "code",
      "source": [
        "y_opening_weekend_us_canada = X['y_opening_weekend_us_canada']\n",
        "y_gross_us_canada = X['y_gross_us_canada']\n",
        "y_metascore = X['y_metascore'] \n",
        "y_user_rating = X['y_user_rating']\n",
        "\n",
        "X_ohe_reduced = X[binary_columns+numerical_columns].copy()"
      ],
      "metadata": {
        "id": "g3dLwA0f41xu"
      },
      "execution_count": 5,
      "outputs": []
    },
    {
      "cell_type": "markdown",
      "metadata": {
        "id": "d998d520-596e-429f-af09-bd6025ddf3e1"
      },
      "source": [
        "List of models and hyper-parameters that we would like to examine:"
      ]
    },
    {
      "cell_type": "markdown",
      "source": [
        "## Function: Construct Hyper Parameter table:"
      ],
      "metadata": {
        "id": "-SDBedR-0Uqu"
      }
    },
    {
      "cell_type": "markdown",
      "metadata": {
        "id": "b63081b7-e31f-4776-868a-6b04a7acc18b"
      },
      "source": [
        "The function is meant to iterate over our list of models, match them with the hyper-parameters relevant to them and provide a row for each model-parameter-combination.:<br>"
      ]
    },
    {
      "cell_type": "code",
      "execution_count": 6,
      "metadata": {
        "id": "968679c4-dbd8-44db-9f20-85adcd23e65d"
      },
      "outputs": [],
      "source": [
        "all_model_types = {'LinearRegression':LinearRegression()\n",
        "                  ,'DecisionTreeRegressor':DecisionTreeRegressor()\n",
        "                  ,'BaggingRegressor ':BaggingRegressor()\n",
        "                  ,'RandomForestRegressor':RandomForestRegressor()\n",
        "                  ,'AdaBoostRegressor':AdaBoostRegressor()\n",
        "                  ,'XGBRegressor ':xgb.XGBRegressor()\n",
        "                 }"
      ]
    },
    {
      "cell_type": "markdown",
      "metadata": {
        "id": "0188afdc-39e8-4566-9e2b-3cf2c3aac58f"
      },
      "source": [
        "Since different models have different hyper-parameters, we have composed a list of all parameters across our models and the values for each hyper parameter we would like to explore."
      ]
    },
    {
      "cell_type": "code",
      "execution_count": 7,
      "metadata": {
        "id": "53aa82fa-379c-4841-9fa5-89129f6414f2"
      },
      "outputs": [],
      "source": [
        "parametersOfValue = {\n",
        "    'fit_intercept':[True,False],\n",
        "    'n_neighbors':[2,4,8,15,50,80],\n",
        "    'max_depth':[3,80],\n",
        "    'learning_rate':[0.01],\n",
        "    'random_state':[1],\n",
        "    'n_estimators':[500]\n",
        "    }\n",
        "\n",
        "if skip_slow_processes==False:\n",
        "  parametersOfValue['n_estimators'] = [500, 1000, 1500]\n",
        "  parametersOfValue['max_depth'] = [3,4,5,80,100]\n",
        "  parametersOfValue['learning_rate'] = [0.1,0.01,0.001]"
      ]
    },
    {
      "cell_type": "code",
      "execution_count": 8,
      "metadata": {
        "id": "14df52d5-b62b-4c89-a8f7-b24f50177312"
      },
      "outputs": [],
      "source": [
        "# get lists and output a dict of combinations:\n",
        "\n",
        "def create_combination_dict(classifierName,parametersOfValue):\n",
        "    prop_combinations = list(itertools.product(*(parametersOfValue[Name] for Name in parametersOfValue)))\n",
        "    combinationsDict ={}\n",
        "    for i,item in enumerate(prop_combinations):\n",
        "        modelTempName = \"%s_%s\"%(classifierName,i)\n",
        "        #print(modelTempName)\n",
        "        combinationsDict[modelTempName]={'model_type':classifierName}\n",
        "        for j,colName in enumerate(parametersOfValue.keys()):\n",
        "            combinationsDict[modelTempName][colName]=item[j]\n",
        "    \n",
        "    \n",
        "    return combinationsDict"
      ]
    },
    {
      "cell_type": "markdown",
      "metadata": {
        "id": "c3c35fb9-6e4a-4669-8da0-0c9ede48197e"
      },
      "source": [
        "<br>The get_hyperparameter_combinations_per_classifier function receives a classifier and creates n rows of hyper-parameter combinations (Based on parametersOfValue list)"
      ]
    },
    {
      "cell_type": "code",
      "execution_count": 9,
      "metadata": {
        "id": "8367d298-8d17-4302-82ed-90cebe1c672e",
        "outputId": "94c806b6-b962-4d29-c966-5fe8e7ff1899",
        "colab": {
          "base_uri": "https://localhost:8080/",
          "height": 131
        }
      },
      "outputs": [
        {
          "output_type": "stream",
          "name": "stdout",
          "text": [
            "Model Type: LinearRegression - 2 hyper-parameter combinations\n"
          ]
        },
        {
          "output_type": "execute_result",
          "data": {
            "text/plain": [
              "                          model_type fit_intercept\n",
              "LinearRegression_0  LinearRegression          True\n",
              "LinearRegression_1  LinearRegression         False"
            ],
            "text/html": [
              "\n",
              "  <div id=\"df-185eef88-ad00-4d3e-bbb8-7efaaba7f2a4\">\n",
              "    <div class=\"colab-df-container\">\n",
              "      <div>\n",
              "<style scoped>\n",
              "    .dataframe tbody tr th:only-of-type {\n",
              "        vertical-align: middle;\n",
              "    }\n",
              "\n",
              "    .dataframe tbody tr th {\n",
              "        vertical-align: top;\n",
              "    }\n",
              "\n",
              "    .dataframe thead th {\n",
              "        text-align: right;\n",
              "    }\n",
              "</style>\n",
              "<table border=\"1\" class=\"dataframe\">\n",
              "  <thead>\n",
              "    <tr style=\"text-align: right;\">\n",
              "      <th></th>\n",
              "      <th>model_type</th>\n",
              "      <th>fit_intercept</th>\n",
              "    </tr>\n",
              "  </thead>\n",
              "  <tbody>\n",
              "    <tr>\n",
              "      <th>LinearRegression_0</th>\n",
              "      <td>LinearRegression</td>\n",
              "      <td>True</td>\n",
              "    </tr>\n",
              "    <tr>\n",
              "      <th>LinearRegression_1</th>\n",
              "      <td>LinearRegression</td>\n",
              "      <td>False</td>\n",
              "    </tr>\n",
              "  </tbody>\n",
              "</table>\n",
              "</div>\n",
              "      <button class=\"colab-df-convert\" onclick=\"convertToInteractive('df-185eef88-ad00-4d3e-bbb8-7efaaba7f2a4')\"\n",
              "              title=\"Convert this dataframe to an interactive table.\"\n",
              "              style=\"display:none;\">\n",
              "        \n",
              "  <svg xmlns=\"http://www.w3.org/2000/svg\" height=\"24px\"viewBox=\"0 0 24 24\"\n",
              "       width=\"24px\">\n",
              "    <path d=\"M0 0h24v24H0V0z\" fill=\"none\"/>\n",
              "    <path d=\"M18.56 5.44l.94 2.06.94-2.06 2.06-.94-2.06-.94-.94-2.06-.94 2.06-2.06.94zm-11 1L8.5 8.5l.94-2.06 2.06-.94-2.06-.94L8.5 2.5l-.94 2.06-2.06.94zm10 10l.94 2.06.94-2.06 2.06-.94-2.06-.94-.94-2.06-.94 2.06-2.06.94z\"/><path d=\"M17.41 7.96l-1.37-1.37c-.4-.4-.92-.59-1.43-.59-.52 0-1.04.2-1.43.59L10.3 9.45l-7.72 7.72c-.78.78-.78 2.05 0 2.83L4 21.41c.39.39.9.59 1.41.59.51 0 1.02-.2 1.41-.59l7.78-7.78 2.81-2.81c.8-.78.8-2.07 0-2.86zM5.41 20L4 18.59l7.72-7.72 1.47 1.35L5.41 20z\"/>\n",
              "  </svg>\n",
              "      </button>\n",
              "      \n",
              "  <style>\n",
              "    .colab-df-container {\n",
              "      display:flex;\n",
              "      flex-wrap:wrap;\n",
              "      gap: 12px;\n",
              "    }\n",
              "\n",
              "    .colab-df-convert {\n",
              "      background-color: #E8F0FE;\n",
              "      border: none;\n",
              "      border-radius: 50%;\n",
              "      cursor: pointer;\n",
              "      display: none;\n",
              "      fill: #1967D2;\n",
              "      height: 32px;\n",
              "      padding: 0 0 0 0;\n",
              "      width: 32px;\n",
              "    }\n",
              "\n",
              "    .colab-df-convert:hover {\n",
              "      background-color: #E2EBFA;\n",
              "      box-shadow: 0px 1px 2px rgba(60, 64, 67, 0.3), 0px 1px 3px 1px rgba(60, 64, 67, 0.15);\n",
              "      fill: #174EA6;\n",
              "    }\n",
              "\n",
              "    [theme=dark] .colab-df-convert {\n",
              "      background-color: #3B4455;\n",
              "      fill: #D2E3FC;\n",
              "    }\n",
              "\n",
              "    [theme=dark] .colab-df-convert:hover {\n",
              "      background-color: #434B5C;\n",
              "      box-shadow: 0px 1px 3px 1px rgba(0, 0, 0, 0.15);\n",
              "      filter: drop-shadow(0px 1px 2px rgba(0, 0, 0, 0.3));\n",
              "      fill: #FFFFFF;\n",
              "    }\n",
              "  </style>\n",
              "\n",
              "      <script>\n",
              "        const buttonEl =\n",
              "          document.querySelector('#df-185eef88-ad00-4d3e-bbb8-7efaaba7f2a4 button.colab-df-convert');\n",
              "        buttonEl.style.display =\n",
              "          google.colab.kernel.accessAllowed ? 'block' : 'none';\n",
              "\n",
              "        async function convertToInteractive(key) {\n",
              "          const element = document.querySelector('#df-185eef88-ad00-4d3e-bbb8-7efaaba7f2a4');\n",
              "          const dataTable =\n",
              "            await google.colab.kernel.invokeFunction('convertToInteractive',\n",
              "                                                     [key], {});\n",
              "          if (!dataTable) return;\n",
              "\n",
              "          const docLinkHtml = 'Like what you see? Visit the ' +\n",
              "            '<a target=\"_blank\" href=https://colab.research.google.com/notebooks/data_table.ipynb>data table notebook</a>'\n",
              "            + ' to learn more about interactive tables.';\n",
              "          element.innerHTML = '';\n",
              "          dataTable['output_type'] = 'display_data';\n",
              "          await google.colab.output.renderOutput(dataTable, element);\n",
              "          const docLink = document.createElement('div');\n",
              "          docLink.innerHTML = docLinkHtml;\n",
              "          element.appendChild(docLink);\n",
              "        }\n",
              "      </script>\n",
              "    </div>\n",
              "  </div>\n",
              "  "
            ]
          },
          "metadata": {},
          "execution_count": 9
        }
      ],
      "source": [
        "def get_hyperparameter_combinations_per_classifier(classifierName,regression_model,parametersOfValue):\n",
        "\n",
        "    # Extract the hyper-parameters from our selected model:\n",
        "    paramList = regression_model.get_params()\n",
        "\n",
        "    classifierParametsOfValue = {}\n",
        "    \n",
        "    # Iterate over the parameters and match them to the parameter of value list:\n",
        "    for param in paramList:\n",
        "        if param in parametersOfValue.keys():\n",
        "            classifierParametsOfValue[param]=parametersOfValue[param]\n",
        "\n",
        "    # Convert list of hyper-parameters into a dictionary of parameter-combination\n",
        "    combinationsDict_ForModel = create_combination_dict(classifierName,classifierParametsOfValue)\n",
        "\n",
        "    relevantParametersForModel = combinationsDict_ForModel[list(combinationsDict_ForModel.keys())[0]].keys()\n",
        "    print('Model Type: %s - %s hyper-parameter combinations'%(classifierName,len(combinationsDict_ForModel)))\n",
        "    \n",
        "    return combinationsDict_ForModel\n",
        "\n",
        "\n",
        "### --------------------------------------------------------------------------------------------------------------------###\n",
        "#Example run:\n",
        "\n",
        "\n",
        "classifierName,regression_model = ('LinearRegression',LinearRegression())\n",
        "combinationsDict_ForModel = get_hyperparameter_combinations_per_classifier(classifierName,regression_model,parametersOfValue=parametersOfValue)\n",
        "pd.DataFrame(combinationsDict_ForModel).T.head(10)"
      ]
    },
    {
      "cell_type": "markdown",
      "metadata": {
        "id": "299ad62f-c4ed-4f4a-8a28-0fd7c447c898"
      },
      "source": [
        "<br>We then over our list of model, and for each model retrieve a list of all available hyper-parameter combinations and append them to dictionary"
      ]
    },
    {
      "cell_type": "code",
      "execution_count": 10,
      "metadata": {
        "id": "d62aef4f-f20c-4709-9de6-b9da3629b998",
        "outputId": "01f1e0ef-a92d-4515-94fe-5669d0a41a75",
        "colab": {
          "base_uri": "https://localhost:8080/",
          "height": 534
        }
      },
      "outputs": [
        {
          "output_type": "stream",
          "name": "stdout",
          "text": [
            "Model Type: LinearRegression - 2 hyper-parameter combinations\n",
            "Model Type: DecisionTreeRegressor - 5 hyper-parameter combinations\n",
            "Model Type: BaggingRegressor  - 3 hyper-parameter combinations\n",
            "Model Type: RandomForestRegressor - 15 hyper-parameter combinations\n",
            "Model Type: AdaBoostRegressor - 9 hyper-parameter combinations\n",
            "Model Type: XGBRegressor  - 45 hyper-parameter combinations\n"
          ]
        },
        {
          "output_type": "execute_result",
          "data": {
            "text/plain": [
              "                                    model_type fit_intercept max_depth  \\\n",
              "LinearRegression_0            LinearRegression          True       NaN   \n",
              "LinearRegression_1            LinearRegression         False       NaN   \n",
              "DecisionTreeRegressor_0  DecisionTreeRegressor           NaN         3   \n",
              "DecisionTreeRegressor_1  DecisionTreeRegressor           NaN         4   \n",
              "DecisionTreeRegressor_2  DecisionTreeRegressor           NaN         5   \n",
              "...                                        ...           ...       ...   \n",
              "XGBRegressor _40                 XGBRegressor            NaN        80   \n",
              "XGBRegressor _41                 XGBRegressor            NaN        80   \n",
              "XGBRegressor _42                 XGBRegressor            NaN       100   \n",
              "XGBRegressor _43                 XGBRegressor            NaN       100   \n",
              "XGBRegressor _44                 XGBRegressor            NaN       100   \n",
              "\n",
              "                        random_state n_estimators learning_rate  \n",
              "LinearRegression_0               NaN          NaN           NaN  \n",
              "LinearRegression_1               NaN          NaN           NaN  \n",
              "DecisionTreeRegressor_0            1          NaN           NaN  \n",
              "DecisionTreeRegressor_1            1          NaN           NaN  \n",
              "DecisionTreeRegressor_2            1          NaN           NaN  \n",
              "...                              ...          ...           ...  \n",
              "XGBRegressor _40                   1         1000         0.001  \n",
              "XGBRegressor _41                   1         1500         0.001  \n",
              "XGBRegressor _42                   1          500         0.001  \n",
              "XGBRegressor _43                   1         1000         0.001  \n",
              "XGBRegressor _44                   1         1500         0.001  \n",
              "\n",
              "[79 rows x 6 columns]"
            ],
            "text/html": [
              "\n",
              "  <div id=\"df-7d1bba3a-13e7-45cc-b2d4-1617fd1ef62d\">\n",
              "    <div class=\"colab-df-container\">\n",
              "      <div>\n",
              "<style scoped>\n",
              "    .dataframe tbody tr th:only-of-type {\n",
              "        vertical-align: middle;\n",
              "    }\n",
              "\n",
              "    .dataframe tbody tr th {\n",
              "        vertical-align: top;\n",
              "    }\n",
              "\n",
              "    .dataframe thead th {\n",
              "        text-align: right;\n",
              "    }\n",
              "</style>\n",
              "<table border=\"1\" class=\"dataframe\">\n",
              "  <thead>\n",
              "    <tr style=\"text-align: right;\">\n",
              "      <th></th>\n",
              "      <th>model_type</th>\n",
              "      <th>fit_intercept</th>\n",
              "      <th>max_depth</th>\n",
              "      <th>random_state</th>\n",
              "      <th>n_estimators</th>\n",
              "      <th>learning_rate</th>\n",
              "    </tr>\n",
              "  </thead>\n",
              "  <tbody>\n",
              "    <tr>\n",
              "      <th>LinearRegression_0</th>\n",
              "      <td>LinearRegression</td>\n",
              "      <td>True</td>\n",
              "      <td>NaN</td>\n",
              "      <td>NaN</td>\n",
              "      <td>NaN</td>\n",
              "      <td>NaN</td>\n",
              "    </tr>\n",
              "    <tr>\n",
              "      <th>LinearRegression_1</th>\n",
              "      <td>LinearRegression</td>\n",
              "      <td>False</td>\n",
              "      <td>NaN</td>\n",
              "      <td>NaN</td>\n",
              "      <td>NaN</td>\n",
              "      <td>NaN</td>\n",
              "    </tr>\n",
              "    <tr>\n",
              "      <th>DecisionTreeRegressor_0</th>\n",
              "      <td>DecisionTreeRegressor</td>\n",
              "      <td>NaN</td>\n",
              "      <td>3</td>\n",
              "      <td>1</td>\n",
              "      <td>NaN</td>\n",
              "      <td>NaN</td>\n",
              "    </tr>\n",
              "    <tr>\n",
              "      <th>DecisionTreeRegressor_1</th>\n",
              "      <td>DecisionTreeRegressor</td>\n",
              "      <td>NaN</td>\n",
              "      <td>4</td>\n",
              "      <td>1</td>\n",
              "      <td>NaN</td>\n",
              "      <td>NaN</td>\n",
              "    </tr>\n",
              "    <tr>\n",
              "      <th>DecisionTreeRegressor_2</th>\n",
              "      <td>DecisionTreeRegressor</td>\n",
              "      <td>NaN</td>\n",
              "      <td>5</td>\n",
              "      <td>1</td>\n",
              "      <td>NaN</td>\n",
              "      <td>NaN</td>\n",
              "    </tr>\n",
              "    <tr>\n",
              "      <th>...</th>\n",
              "      <td>...</td>\n",
              "      <td>...</td>\n",
              "      <td>...</td>\n",
              "      <td>...</td>\n",
              "      <td>...</td>\n",
              "      <td>...</td>\n",
              "    </tr>\n",
              "    <tr>\n",
              "      <th>XGBRegressor _40</th>\n",
              "      <td>XGBRegressor</td>\n",
              "      <td>NaN</td>\n",
              "      <td>80</td>\n",
              "      <td>1</td>\n",
              "      <td>1000</td>\n",
              "      <td>0.001</td>\n",
              "    </tr>\n",
              "    <tr>\n",
              "      <th>XGBRegressor _41</th>\n",
              "      <td>XGBRegressor</td>\n",
              "      <td>NaN</td>\n",
              "      <td>80</td>\n",
              "      <td>1</td>\n",
              "      <td>1500</td>\n",
              "      <td>0.001</td>\n",
              "    </tr>\n",
              "    <tr>\n",
              "      <th>XGBRegressor _42</th>\n",
              "      <td>XGBRegressor</td>\n",
              "      <td>NaN</td>\n",
              "      <td>100</td>\n",
              "      <td>1</td>\n",
              "      <td>500</td>\n",
              "      <td>0.001</td>\n",
              "    </tr>\n",
              "    <tr>\n",
              "      <th>XGBRegressor _43</th>\n",
              "      <td>XGBRegressor</td>\n",
              "      <td>NaN</td>\n",
              "      <td>100</td>\n",
              "      <td>1</td>\n",
              "      <td>1000</td>\n",
              "      <td>0.001</td>\n",
              "    </tr>\n",
              "    <tr>\n",
              "      <th>XGBRegressor _44</th>\n",
              "      <td>XGBRegressor</td>\n",
              "      <td>NaN</td>\n",
              "      <td>100</td>\n",
              "      <td>1</td>\n",
              "      <td>1500</td>\n",
              "      <td>0.001</td>\n",
              "    </tr>\n",
              "  </tbody>\n",
              "</table>\n",
              "<p>79 rows × 6 columns</p>\n",
              "</div>\n",
              "      <button class=\"colab-df-convert\" onclick=\"convertToInteractive('df-7d1bba3a-13e7-45cc-b2d4-1617fd1ef62d')\"\n",
              "              title=\"Convert this dataframe to an interactive table.\"\n",
              "              style=\"display:none;\">\n",
              "        \n",
              "  <svg xmlns=\"http://www.w3.org/2000/svg\" height=\"24px\"viewBox=\"0 0 24 24\"\n",
              "       width=\"24px\">\n",
              "    <path d=\"M0 0h24v24H0V0z\" fill=\"none\"/>\n",
              "    <path d=\"M18.56 5.44l.94 2.06.94-2.06 2.06-.94-2.06-.94-.94-2.06-.94 2.06-2.06.94zm-11 1L8.5 8.5l.94-2.06 2.06-.94-2.06-.94L8.5 2.5l-.94 2.06-2.06.94zm10 10l.94 2.06.94-2.06 2.06-.94-2.06-.94-.94-2.06-.94 2.06-2.06.94z\"/><path d=\"M17.41 7.96l-1.37-1.37c-.4-.4-.92-.59-1.43-.59-.52 0-1.04.2-1.43.59L10.3 9.45l-7.72 7.72c-.78.78-.78 2.05 0 2.83L4 21.41c.39.39.9.59 1.41.59.51 0 1.02-.2 1.41-.59l7.78-7.78 2.81-2.81c.8-.78.8-2.07 0-2.86zM5.41 20L4 18.59l7.72-7.72 1.47 1.35L5.41 20z\"/>\n",
              "  </svg>\n",
              "      </button>\n",
              "      \n",
              "  <style>\n",
              "    .colab-df-container {\n",
              "      display:flex;\n",
              "      flex-wrap:wrap;\n",
              "      gap: 12px;\n",
              "    }\n",
              "\n",
              "    .colab-df-convert {\n",
              "      background-color: #E8F0FE;\n",
              "      border: none;\n",
              "      border-radius: 50%;\n",
              "      cursor: pointer;\n",
              "      display: none;\n",
              "      fill: #1967D2;\n",
              "      height: 32px;\n",
              "      padding: 0 0 0 0;\n",
              "      width: 32px;\n",
              "    }\n",
              "\n",
              "    .colab-df-convert:hover {\n",
              "      background-color: #E2EBFA;\n",
              "      box-shadow: 0px 1px 2px rgba(60, 64, 67, 0.3), 0px 1px 3px 1px rgba(60, 64, 67, 0.15);\n",
              "      fill: #174EA6;\n",
              "    }\n",
              "\n",
              "    [theme=dark] .colab-df-convert {\n",
              "      background-color: #3B4455;\n",
              "      fill: #D2E3FC;\n",
              "    }\n",
              "\n",
              "    [theme=dark] .colab-df-convert:hover {\n",
              "      background-color: #434B5C;\n",
              "      box-shadow: 0px 1px 3px 1px rgba(0, 0, 0, 0.15);\n",
              "      filter: drop-shadow(0px 1px 2px rgba(0, 0, 0, 0.3));\n",
              "      fill: #FFFFFF;\n",
              "    }\n",
              "  </style>\n",
              "\n",
              "      <script>\n",
              "        const buttonEl =\n",
              "          document.querySelector('#df-7d1bba3a-13e7-45cc-b2d4-1617fd1ef62d button.colab-df-convert');\n",
              "        buttonEl.style.display =\n",
              "          google.colab.kernel.accessAllowed ? 'block' : 'none';\n",
              "\n",
              "        async function convertToInteractive(key) {\n",
              "          const element = document.querySelector('#df-7d1bba3a-13e7-45cc-b2d4-1617fd1ef62d');\n",
              "          const dataTable =\n",
              "            await google.colab.kernel.invokeFunction('convertToInteractive',\n",
              "                                                     [key], {});\n",
              "          if (!dataTable) return;\n",
              "\n",
              "          const docLinkHtml = 'Like what you see? Visit the ' +\n",
              "            '<a target=\"_blank\" href=https://colab.research.google.com/notebooks/data_table.ipynb>data table notebook</a>'\n",
              "            + ' to learn more about interactive tables.';\n",
              "          element.innerHTML = '';\n",
              "          dataTable['output_type'] = 'display_data';\n",
              "          await google.colab.output.renderOutput(dataTable, element);\n",
              "          const docLink = document.createElement('div');\n",
              "          docLink.innerHTML = docLinkHtml;\n",
              "          element.appendChild(docLink);\n",
              "        }\n",
              "      </script>\n",
              "    </div>\n",
              "  </div>\n",
              "  "
            ]
          },
          "metadata": {},
          "execution_count": 10
        }
      ],
      "source": [
        "def get_all_model_combinations(dict_of_models,parametersOfValue):\n",
        "  all_model_combinations = {}\n",
        "\n",
        "  for classifierName,regression_model in dict_of_models.items():\n",
        "      #print(classifierName,regression_model)\n",
        "      combinationsDict_ForModel = get_hyperparameter_combinations_per_classifier(classifierName,regression_model,parametersOfValue=parametersOfValue)\n",
        "      #print(combinationsDict_ForModel)\n",
        "      all_model_combinations.update(combinationsDict_ForModel)\n",
        "\n",
        "  all_model_combinations_df = pd.DataFrame(all_model_combinations).T\n",
        "  return all_model_combinations_df\n",
        "\n",
        "all_model_combinations_df = get_all_model_combinations(all_model_types,parametersOfValue)\n",
        "all_model_combinations_df"
      ]
    },
    {
      "cell_type": "markdown",
      "metadata": {
        "id": "7c49cf7b-749b-4b01-ad95-ff1058aa586c"
      },
      "source": [
        "<br>Our final result is a data frame containing all the model types and their hyper-parameters that we will use in our test."
      ]
    },
    {
      "cell_type": "code",
      "execution_count": 11,
      "metadata": {
        "id": "d0faaacd-c254-42c1-9745-783ba7cd4141",
        "outputId": "2c0e764b-620f-4fa2-c589-55772ad4e8fa",
        "colab": {
          "base_uri": "https://localhost:8080/",
          "height": 442
        }
      },
      "outputs": [
        {
          "output_type": "stream",
          "name": "stdout",
          "text": [
            "There are 79 different model combinations for us to test\n"
          ]
        },
        {
          "output_type": "execute_result",
          "data": {
            "text/plain": [
              "                                    model_type fit_intercept max_depth  \\\n",
              "LinearRegression_0            LinearRegression          True       NaN   \n",
              "LinearRegression_1            LinearRegression         False       NaN   \n",
              "DecisionTreeRegressor_0  DecisionTreeRegressor           NaN         3   \n",
              "DecisionTreeRegressor_1  DecisionTreeRegressor           NaN         4   \n",
              "DecisionTreeRegressor_2  DecisionTreeRegressor           NaN         5   \n",
              "...                                        ...           ...       ...   \n",
              "XGBRegressor _40                 XGBRegressor            NaN        80   \n",
              "XGBRegressor _41                 XGBRegressor            NaN        80   \n",
              "XGBRegressor _42                 XGBRegressor            NaN       100   \n",
              "XGBRegressor _43                 XGBRegressor            NaN       100   \n",
              "XGBRegressor _44                 XGBRegressor            NaN       100   \n",
              "\n",
              "                        random_state n_estimators learning_rate  \n",
              "LinearRegression_0               NaN          NaN           NaN  \n",
              "LinearRegression_1               NaN          NaN           NaN  \n",
              "DecisionTreeRegressor_0            1          NaN           NaN  \n",
              "DecisionTreeRegressor_1            1          NaN           NaN  \n",
              "DecisionTreeRegressor_2            1          NaN           NaN  \n",
              "...                              ...          ...           ...  \n",
              "XGBRegressor _40                   1         1000         0.001  \n",
              "XGBRegressor _41                   1         1500         0.001  \n",
              "XGBRegressor _42                   1          500         0.001  \n",
              "XGBRegressor _43                   1         1000         0.001  \n",
              "XGBRegressor _44                   1         1500         0.001  \n",
              "\n",
              "[79 rows x 6 columns]"
            ],
            "text/html": [
              "\n",
              "  <div id=\"df-96f2f743-652f-43b9-8614-878b3831e98f\">\n",
              "    <div class=\"colab-df-container\">\n",
              "      <div>\n",
              "<style scoped>\n",
              "    .dataframe tbody tr th:only-of-type {\n",
              "        vertical-align: middle;\n",
              "    }\n",
              "\n",
              "    .dataframe tbody tr th {\n",
              "        vertical-align: top;\n",
              "    }\n",
              "\n",
              "    .dataframe thead th {\n",
              "        text-align: right;\n",
              "    }\n",
              "</style>\n",
              "<table border=\"1\" class=\"dataframe\">\n",
              "  <thead>\n",
              "    <tr style=\"text-align: right;\">\n",
              "      <th></th>\n",
              "      <th>model_type</th>\n",
              "      <th>fit_intercept</th>\n",
              "      <th>max_depth</th>\n",
              "      <th>random_state</th>\n",
              "      <th>n_estimators</th>\n",
              "      <th>learning_rate</th>\n",
              "    </tr>\n",
              "  </thead>\n",
              "  <tbody>\n",
              "    <tr>\n",
              "      <th>LinearRegression_0</th>\n",
              "      <td>LinearRegression</td>\n",
              "      <td>True</td>\n",
              "      <td>NaN</td>\n",
              "      <td>NaN</td>\n",
              "      <td>NaN</td>\n",
              "      <td>NaN</td>\n",
              "    </tr>\n",
              "    <tr>\n",
              "      <th>LinearRegression_1</th>\n",
              "      <td>LinearRegression</td>\n",
              "      <td>False</td>\n",
              "      <td>NaN</td>\n",
              "      <td>NaN</td>\n",
              "      <td>NaN</td>\n",
              "      <td>NaN</td>\n",
              "    </tr>\n",
              "    <tr>\n",
              "      <th>DecisionTreeRegressor_0</th>\n",
              "      <td>DecisionTreeRegressor</td>\n",
              "      <td>NaN</td>\n",
              "      <td>3</td>\n",
              "      <td>1</td>\n",
              "      <td>NaN</td>\n",
              "      <td>NaN</td>\n",
              "    </tr>\n",
              "    <tr>\n",
              "      <th>DecisionTreeRegressor_1</th>\n",
              "      <td>DecisionTreeRegressor</td>\n",
              "      <td>NaN</td>\n",
              "      <td>4</td>\n",
              "      <td>1</td>\n",
              "      <td>NaN</td>\n",
              "      <td>NaN</td>\n",
              "    </tr>\n",
              "    <tr>\n",
              "      <th>DecisionTreeRegressor_2</th>\n",
              "      <td>DecisionTreeRegressor</td>\n",
              "      <td>NaN</td>\n",
              "      <td>5</td>\n",
              "      <td>1</td>\n",
              "      <td>NaN</td>\n",
              "      <td>NaN</td>\n",
              "    </tr>\n",
              "    <tr>\n",
              "      <th>...</th>\n",
              "      <td>...</td>\n",
              "      <td>...</td>\n",
              "      <td>...</td>\n",
              "      <td>...</td>\n",
              "      <td>...</td>\n",
              "      <td>...</td>\n",
              "    </tr>\n",
              "    <tr>\n",
              "      <th>XGBRegressor _40</th>\n",
              "      <td>XGBRegressor</td>\n",
              "      <td>NaN</td>\n",
              "      <td>80</td>\n",
              "      <td>1</td>\n",
              "      <td>1000</td>\n",
              "      <td>0.001</td>\n",
              "    </tr>\n",
              "    <tr>\n",
              "      <th>XGBRegressor _41</th>\n",
              "      <td>XGBRegressor</td>\n",
              "      <td>NaN</td>\n",
              "      <td>80</td>\n",
              "      <td>1</td>\n",
              "      <td>1500</td>\n",
              "      <td>0.001</td>\n",
              "    </tr>\n",
              "    <tr>\n",
              "      <th>XGBRegressor _42</th>\n",
              "      <td>XGBRegressor</td>\n",
              "      <td>NaN</td>\n",
              "      <td>100</td>\n",
              "      <td>1</td>\n",
              "      <td>500</td>\n",
              "      <td>0.001</td>\n",
              "    </tr>\n",
              "    <tr>\n",
              "      <th>XGBRegressor _43</th>\n",
              "      <td>XGBRegressor</td>\n",
              "      <td>NaN</td>\n",
              "      <td>100</td>\n",
              "      <td>1</td>\n",
              "      <td>1000</td>\n",
              "      <td>0.001</td>\n",
              "    </tr>\n",
              "    <tr>\n",
              "      <th>XGBRegressor _44</th>\n",
              "      <td>XGBRegressor</td>\n",
              "      <td>NaN</td>\n",
              "      <td>100</td>\n",
              "      <td>1</td>\n",
              "      <td>1500</td>\n",
              "      <td>0.001</td>\n",
              "    </tr>\n",
              "  </tbody>\n",
              "</table>\n",
              "<p>79 rows × 6 columns</p>\n",
              "</div>\n",
              "      <button class=\"colab-df-convert\" onclick=\"convertToInteractive('df-96f2f743-652f-43b9-8614-878b3831e98f')\"\n",
              "              title=\"Convert this dataframe to an interactive table.\"\n",
              "              style=\"display:none;\">\n",
              "        \n",
              "  <svg xmlns=\"http://www.w3.org/2000/svg\" height=\"24px\"viewBox=\"0 0 24 24\"\n",
              "       width=\"24px\">\n",
              "    <path d=\"M0 0h24v24H0V0z\" fill=\"none\"/>\n",
              "    <path d=\"M18.56 5.44l.94 2.06.94-2.06 2.06-.94-2.06-.94-.94-2.06-.94 2.06-2.06.94zm-11 1L8.5 8.5l.94-2.06 2.06-.94-2.06-.94L8.5 2.5l-.94 2.06-2.06.94zm10 10l.94 2.06.94-2.06 2.06-.94-2.06-.94-.94-2.06-.94 2.06-2.06.94z\"/><path d=\"M17.41 7.96l-1.37-1.37c-.4-.4-.92-.59-1.43-.59-.52 0-1.04.2-1.43.59L10.3 9.45l-7.72 7.72c-.78.78-.78 2.05 0 2.83L4 21.41c.39.39.9.59 1.41.59.51 0 1.02-.2 1.41-.59l7.78-7.78 2.81-2.81c.8-.78.8-2.07 0-2.86zM5.41 20L4 18.59l7.72-7.72 1.47 1.35L5.41 20z\"/>\n",
              "  </svg>\n",
              "      </button>\n",
              "      \n",
              "  <style>\n",
              "    .colab-df-container {\n",
              "      display:flex;\n",
              "      flex-wrap:wrap;\n",
              "      gap: 12px;\n",
              "    }\n",
              "\n",
              "    .colab-df-convert {\n",
              "      background-color: #E8F0FE;\n",
              "      border: none;\n",
              "      border-radius: 50%;\n",
              "      cursor: pointer;\n",
              "      display: none;\n",
              "      fill: #1967D2;\n",
              "      height: 32px;\n",
              "      padding: 0 0 0 0;\n",
              "      width: 32px;\n",
              "    }\n",
              "\n",
              "    .colab-df-convert:hover {\n",
              "      background-color: #E2EBFA;\n",
              "      box-shadow: 0px 1px 2px rgba(60, 64, 67, 0.3), 0px 1px 3px 1px rgba(60, 64, 67, 0.15);\n",
              "      fill: #174EA6;\n",
              "    }\n",
              "\n",
              "    [theme=dark] .colab-df-convert {\n",
              "      background-color: #3B4455;\n",
              "      fill: #D2E3FC;\n",
              "    }\n",
              "\n",
              "    [theme=dark] .colab-df-convert:hover {\n",
              "      background-color: #434B5C;\n",
              "      box-shadow: 0px 1px 3px 1px rgba(0, 0, 0, 0.15);\n",
              "      filter: drop-shadow(0px 1px 2px rgba(0, 0, 0, 0.3));\n",
              "      fill: #FFFFFF;\n",
              "    }\n",
              "  </style>\n",
              "\n",
              "      <script>\n",
              "        const buttonEl =\n",
              "          document.querySelector('#df-96f2f743-652f-43b9-8614-878b3831e98f button.colab-df-convert');\n",
              "        buttonEl.style.display =\n",
              "          google.colab.kernel.accessAllowed ? 'block' : 'none';\n",
              "\n",
              "        async function convertToInteractive(key) {\n",
              "          const element = document.querySelector('#df-96f2f743-652f-43b9-8614-878b3831e98f');\n",
              "          const dataTable =\n",
              "            await google.colab.kernel.invokeFunction('convertToInteractive',\n",
              "                                                     [key], {});\n",
              "          if (!dataTable) return;\n",
              "\n",
              "          const docLinkHtml = 'Like what you see? Visit the ' +\n",
              "            '<a target=\"_blank\" href=https://colab.research.google.com/notebooks/data_table.ipynb>data table notebook</a>'\n",
              "            + ' to learn more about interactive tables.';\n",
              "          element.innerHTML = '';\n",
              "          dataTable['output_type'] = 'display_data';\n",
              "          await google.colab.output.renderOutput(dataTable, element);\n",
              "          const docLink = document.createElement('div');\n",
              "          docLink.innerHTML = docLinkHtml;\n",
              "          element.appendChild(docLink);\n",
              "        }\n",
              "      </script>\n",
              "    </div>\n",
              "  </div>\n",
              "  "
            ]
          },
          "metadata": {},
          "execution_count": 11
        }
      ],
      "source": [
        "print(f'There are {all_model_combinations_df.shape[0]} different model combinations for us to test')\n",
        "all_model_combinations_df"
      ]
    },
    {
      "cell_type": "markdown",
      "source": [
        "## Function: Build and fit model for each record"
      ],
      "metadata": {
        "id": "JwCu2s56B8Pl"
      }
    },
    {
      "cell_type": "code",
      "execution_count": 12,
      "metadata": {
        "id": "40e645af-0d4a-434b-b930-f7e0c17ead25"
      },
      "outputs": [],
      "source": [
        "import inspect\n",
        "\n",
        "def run_various_models_return_results(all_model_combinations_df, dict_of_models, use_cross_validate = True, limit_features_list=None):\n",
        "  dict_of_fitted_models = {}\n",
        "\n",
        "  if limit_features_list is None:\n",
        "    cols_to_use = list(x_train_scaled.columns)\n",
        "  else:\n",
        "    cols_to_use = limit_features_list\n",
        "\n",
        "\n",
        "  num_of_model_combinations = all_model_combinations_df.shape[0]\n",
        "\n",
        "  for i,model_row in enumerate(all_model_combinations_df.T.items()):\n",
        "      \n",
        "      start = timer()\n",
        "      \n",
        "      # Take existing model and set it hyper parameters based on instructions:\n",
        "      model_name = model_row[0]\n",
        "      model_type = model_row[1][0]\n",
        "      regression_model = clone(dict_of_models[model_type])\n",
        "      model_props = regression_model.get_params()\n",
        "      \n",
        "      \n",
        "      model_properties_instructions = model_row[1][1:]\n",
        "      try:\n",
        "        if math.isnan(model_properties_instructions.get('estimator')):\n",
        "          model_properties_instructions['estimator'] = None      \n",
        "      except:\n",
        "        pass\n",
        "      \n",
        "      for prop_instruction in model_properties_instructions.index:\n",
        "          if (prop_instruction in list(model_props.keys())):\n",
        "              model_props[prop_instruction]=model_properties_instructions[prop_instruction]\n",
        "              \n",
        "      regression_model.set_params(**model_props)\n",
        "      \n",
        "      #print(f\"Model Name: {model_name} - {regression_model}\")\n",
        "      if use_cross_validate == True:\n",
        "        cross_val = cross_validate(regression_model, x_train_scaled[cols_to_use], y_train, cv=3, scoring='r2', return_train_score=True)\n",
        "      \n",
        "        train_score = (np.mean(cross_val['train_score']))\n",
        "        val_score = (np.mean(cross_val['test_score']))\n",
        "      else:\n",
        "        val_score = None\n",
        "      \n",
        "      # Fit on entire training data\n",
        "      regression_model.fit(x_train_scaled[cols_to_use], y_train)\n",
        "      test_score = regression_model.score(x_test_scaled[cols_to_use],y_test)\n",
        "      train_score = regression_model.score(x_train_scaled[cols_to_use],y_train)\n",
        "\n",
        "      #print(model_name,model_type,regression_model,train_score,test_score)\n",
        "      \n",
        "      all_model_combinations_df.at[model_name,'train_score']=train_score\n",
        "      all_model_combinations_df.at[model_name,'val_score']=val_score\n",
        "      all_model_combinations_df.at[model_name,'test_score_r2']=test_score\n",
        "      \n",
        "      yhat= regression_model.predict(x_test_scaled[cols_to_use])\n",
        "      mse = mean_squared_error(y_test, yhat)\n",
        "      all_model_combinations_df.at[model_name,'test_score_mse']=mse\n",
        "          \n",
        "      \n",
        "      all_model_combinations_df.at[model_name,'train_size']=x_train_scaled.shape[0]\n",
        "      all_model_combinations_df.at[model_name,'test_size']=x_test_scaled.shape[0]\n",
        "      all_model_combinations_df.at[model_name,'feature_n']=len(cols_to_use)\n",
        "          \n",
        "      \n",
        "      end = timer()\n",
        "      run_time_secs = round(end - start,4)\n",
        "      all_model_combinations_df.at[model_name,'run_time']=run_time_secs\n",
        "      \n",
        "      print(f\"Model #{i+1} of {num_of_model_combinations}\\nModel Name: {model_name}\\nModel Props: {model_props}\\nTrain_score: {round(train_score,3)} / Test_score: {round(test_score,3)}.\\n\")\n",
        "      \n",
        "      dict_of_fitted_models[model_name] = regression_model\n",
        "      \n",
        "  print(\"\\nFinished Run\")\n",
        "  return all_model_combinations_df.sort_values(by='test_score_r2', ascending=False) , dict_of_fitted_models"
      ]
    },
    {
      "cell_type": "code",
      "source": [
        "def is_nan(obj):\n",
        "    try:\n",
        "        return math.isnan(float(obj))\n",
        "    except (TypeError, ValueError):\n",
        "        return False\n",
        "\n",
        "obj = \"not a number\"\n",
        "\n",
        "if is_nan(obj):\n",
        "    print(\"The object is NaN\")\n",
        "else:\n",
        "    print(\"The object is not NaN\")"
      ],
      "metadata": {
        "colab": {
          "base_uri": "https://localhost:8080/"
        },
        "id": "xIG_6AT0URPo",
        "outputId": "d9534f41-b1d0-4602-8d72-6af1938c8660"
      },
      "execution_count": 13,
      "outputs": [
        {
          "output_type": "stream",
          "name": "stdout",
          "text": [
            "The object is not NaN\n"
          ]
        }
      ]
    },
    {
      "cell_type": "markdown",
      "source": [
        "## Function: Get Model's Desc"
      ],
      "metadata": {
        "id": "EkR5dXeOEKvF"
      }
    },
    {
      "cell_type": "code",
      "source": [
        "def get_model_desc(model_combinations_output):\n",
        "  string = \"\"\n",
        "  output_desc=\"\"\n",
        "  for key, val in model_combinations_output.items():\n",
        "    \n",
        "    cols_to_ignore = ['train_score','val_score','test_score_r2','test_score_mse','train_size','test_size','run_time','feature_n','random_state']\n",
        "    if not (is_nan(val) or key in cols_to_ignore):\n",
        "      string += f\"'{key}':{val} \"\n",
        "\n",
        "    if key in ('train_score','test_score_r2'):\n",
        "      output_desc += f\"'{key}':{np.round(val,3)} \"\n",
        "\n",
        "\n",
        "  return(f\"{string}\\n{output_desc}\")"
      ],
      "metadata": {
        "id": "GqbyXgiCTQID"
      },
      "execution_count": 14,
      "outputs": []
    },
    {
      "cell_type": "markdown",
      "source": [
        "## Function: Plot Test Results"
      ],
      "metadata": {
        "id": "Krzi6iWEGyqG"
      }
    },
    {
      "cell_type": "code",
      "source": [
        "import numpy as np\n",
        "import matplotlib.pyplot as plt\n",
        "\n",
        "def scatterplot_model_preformence(model_combinations_output, dict_of_fitted_models, plot_per_row=2):\n",
        "\n",
        "\n",
        "  n_plots = model_combinations_output.shape[0]\n",
        "  n_row = math.ceil(n_plots/plot_per_row)\n",
        "  fig, axes = plt.subplots(n_row, plot_per_row, figsize=(6 * plot_per_row,6 * n_row))\n",
        "\n",
        "  for i,model_name in enumerate(model_combinations_output.index):\n",
        "\n",
        "    fitted_model = dict_of_fitted_models[model_name] \n",
        "    model_desc = get_model_desc(model_combinations_output.loc[model_name])\n",
        "\n",
        "    fitted_model.fit(x_train_scaled, y_train.ravel())\n",
        "\n",
        "    # Make predictions\n",
        "    y_pred = fitted_model.predict(x_test_scaled)\n",
        "\n",
        "    #ax = axes[i] if n_plots > 1 else axes\n",
        "    ax = fig.add_subplot(n_row, plot_per_row,i+1)\n",
        "    ax.scatter(y_test, y_pred)\n",
        "    ax.set_title(model_desc)\n",
        "    ax.set_xlabel('True values')\n",
        "    ax.set_ylabel('Predicted values')\n",
        "    \n",
        "    # Plot a diagonal line for reference\n",
        "    limits = [np.min([ax.get_xlim(), ax.get_ylim()]), np.max([ax.get_xlim(), ax.get_ylim()])]\n",
        "    \n",
        "    #ax.set_xlim(limits)\n",
        "    #ax.set_ylim(limits)\n",
        "    ax.plot(limits, limits, 'k--', alpha=0.75, zorder=0)\n",
        "    \n",
        "  plt.tight_layout()\n",
        "  plt.show()\n",
        "\n"
      ],
      "metadata": {
        "id": "CpAtsDd3G7D4"
      },
      "execution_count": 15,
      "outputs": []
    },
    {
      "cell_type": "markdown",
      "source": [
        "## Function: Get feature importance from Random Forest"
      ],
      "metadata": {
        "id": "hWAJo2uxEW56"
      }
    },
    {
      "cell_type": "code",
      "source": [
        "def get_feature_importance_random_forest(rf_model, threshold=0):\n",
        "  top_feature_dict = {col:0 for col in feature_names}\n",
        "\n",
        "  for dtree in rf_model.estimators_:\n",
        "      top_feature_Id = dtree.tree_.feature[0]\n",
        "      top_feature_name = feature_names[top_feature_Id]\n",
        "      \n",
        "      top_feature_dict[top_feature_name]+=1\n",
        "      \n",
        "  top_features_rf = pd.DataFrame(top_feature_dict, index=[\"Top Count - Random Forest\"]).head(1).T\n",
        "\n",
        "  columns_to_run = list(top_features_rf[top_features_rf['Top Count - Random Forest']>0].index)\n",
        "  return top_features_rf.sort_values([\"Top Count - Random Forest\"], ascending=False),columns_to_run"
      ],
      "metadata": {
        "id": "n9yp70yEEaVw"
      },
      "execution_count": 16,
      "outputs": []
    },
    {
      "cell_type": "markdown",
      "source": [],
      "metadata": {
        "id": "MLI-L4sY9AHK"
      }
    },
    {
      "cell_type": "markdown",
      "source": [
        "## Function - Return fitted model from output"
      ],
      "metadata": {
        "id": "m9wzrrWv1jaX"
      }
    },
    {
      "cell_type": "code",
      "source": [
        "def output_to_fitted_model(selected_output,columns_to_run=None):\n",
        "  model_name = selected_output.head(1).index[0]\n",
        "  _,model_dict = run_various_models_return_results(selected_output, all_model_types, use_cross_validate=False, limit_features_list=columns_to_run)\n",
        "  trained_model = model_dict[model_name]\n",
        "\n",
        "  return trained_model"
      ],
      "metadata": {
        "id": "RPdZefXk1nQI"
      },
      "execution_count": 17,
      "outputs": []
    },
    {
      "cell_type": "markdown",
      "source": [
        "# First Week USD"
      ],
      "metadata": {
        "id": "rpKvCCXfEgNd"
      }
    },
    {
      "cell_type": "markdown",
      "source": [
        "## Data Preparing"
      ],
      "metadata": {
        "id": "P5cnXg64GmGR"
      }
    },
    {
      "cell_type": "markdown",
      "source": [
        "### Filter Missing Ys - Opening Week"
      ],
      "metadata": {
        "id": "PIZYl96acnUN"
      }
    },
    {
      "cell_type": "code",
      "source": [
        "opening_week_na_mask = y_opening_weekend_us_canada.isna()\n",
        "y_opening_week = y_opening_weekend_us_canada[~opening_week_na_mask]\n",
        "y_opening_week_log = np.log(y_opening_week)\n",
        "X_opening_week = X_ohe_reduced[~opening_week_na_mask]\n",
        "#X_opening_week.shape,y_opening_week.shape\n",
        "print(f\"Only {len(y_opening_week)} out of {len(opening_week_na_mask)} records had Opening Week Revenue and will be kept\")"
      ],
      "metadata": {
        "colab": {
          "base_uri": "https://localhost:8080/"
        },
        "id": "rghJs1CHxvpc",
        "outputId": "629d2a15-f34e-4dd2-ccc7-5a6ccdcd37bb"
      },
      "execution_count": 18,
      "outputs": [
        {
          "output_type": "stream",
          "name": "stdout",
          "text": [
            "Only 965 out of 3902 records had Opening Week Revenue and will be kept\n"
          ]
        }
      ]
    },
    {
      "cell_type": "code",
      "source": [
        "# Create figure and axis objects\n",
        "fig = plt.gcf()\n",
        "fig.set_size_inches(20,10)\n",
        "\n",
        "# Histogram\n",
        "ax1 = fig.add_subplot(1,2,1)\n",
        "ax1.hist(y_opening_week, bins=10, color='purple')\n",
        "ax1.set_xlabel('Opening Week')\n",
        "ax1.set_ylabel('Frequency')\n",
        "ax1.set_title('Histogram of Opening Week USD')\n",
        "\n",
        "\n",
        "# Box plot\n",
        "ax2 = fig.add_subplot(1,2,2)\n",
        "sns.boxplot(y=y_opening_week, color='orange', ax=ax2)\n",
        "ax2.set_title('Box Plot of Opening Week USD')\n",
        "ax2.set_ylabel('Opening Week USD')\n",
        "\n",
        "# Show plot\n",
        "plt.show()"
      ],
      "metadata": {
        "colab": {
          "base_uri": "https://localhost:8080/",
          "height": 872
        },
        "id": "aHHSwEH-HZF0",
        "outputId": "cb6305f0-51b3-4e60-8b8f-a2ebab98fbc6"
      },
      "execution_count": 19,
      "outputs": [
        {
          "output_type": "display_data",
          "data": {
            "text/plain": [
              "<Figure size 2000x1000 with 2 Axes>"
            ],
            "image/png": "[encoded data removed]"
          },
          "metadata": {}
        }
      ]
    },
    {
      "cell_type": "code",
      "source": [
        "# Create figure and axis objects\n",
        "fig = plt.gcf()\n",
        "fig.set_size_inches(20,10)\n",
        "# Histogram\n",
        "ax1 = fig.add_subplot(1,2,1)\n",
        "ax1.hist(y_opening_week_log, bins=10, color='purple')\n",
        "ax1.set_xlabel('Opening Week')\n",
        "ax1.set_ylabel('Frequency')\n",
        "ax1.set_title('Histogram of Opening Week USD (Log)')\n",
        "\n",
        "\n",
        "# Box plot\n",
        "ax2 = fig.add_subplot(1,2,2)\n",
        "sns.boxplot(y=y_opening_week_log, color='orange', ax=ax2)\n",
        "ax2.set_title('Box Plot of Opening Week USD (Log)')\n",
        "ax2.set_ylabel('Opening Week USD (Log)')\n",
        "\n",
        "# Show plot\n",
        "plt.show()"
      ],
      "metadata": {
        "colab": {
          "base_uri": "https://localhost:8080/",
          "height": 872
        },
        "id": "WKpfv2h8HcIP",
        "outputId": "e0d7d344-4ccd-4520-df89-2d8cce61df5b"
      },
      "execution_count": 20,
      "outputs": [
        {
          "output_type": "display_data",
          "data": {
            "text/plain": [
              "<Figure size 2000x1000 with 2 Axes>"
            ],
            "image/png": "[encoded data removed]"
          },
          "metadata": {}
        }
      ]
    },
    {
      "cell_type": "markdown",
      "source": [
        "### Scale Data - Opening Week"
      ],
      "metadata": {
        "id": "2vTObUyHc33Q"
      }
    },
    {
      "cell_type": "code",
      "source": [
        "scalar_opening_week = StandardScaler(copy=True, with_mean=True, with_std=True).fit(X_opening_week[numerical_columns])\n",
        "\n",
        "X_opening_week_scaled = pd.DataFrame(scalar_opening_week.transform(X_opening_week[numerical_columns]),columns=numerical_columns, index=X_opening_week.index)\n",
        "\n",
        "# Reintroduce Binary Columns:\n",
        "for binary_col in binary_columns:\n",
        "  bin_s = X_opening_week[binary_col]\n",
        "  X_opening_week_scaled[binary_col] = bin_s\n",
        "\n",
        "feature_names = X_opening_week_scaled.columns\n",
        "X_opening_week_scaled"
      ],
      "metadata": {
        "colab": {
          "base_uri": "https://localhost:8080/",
          "height": 519
        },
        "id": "yPAH1rls_QBW",
        "outputId": "98848abc-09f8-40d5-bfa0-0298052630f4"
      },
      "execution_count": 21,
      "outputs": [
        {
          "output_type": "execute_result",
          "data": {
            "text/plain": [
              "            budget_usd  runtime_min  title_length  movie_desc_length  \\\n",
              "movie_id                                                               \n",
              "tt1630029     6.363165     4.957605      1.556196           1.482682   \n",
              "tt6710474    -0.353729     1.849302      1.556196           0.455063   \n",
              "tt9764362     0.060450    -0.027409     -0.404286          -0.115836   \n",
              "tt7888964    -0.319714    -0.907118     -1.057780           0.455063   \n",
              "tt10640346    0.920820     4.781664     -1.057780           0.112523   \n",
              "...                ...          ...           ...                ...   \n",
              "tt6289224    -0.630023    -0.203351     -0.404286          -0.800916   \n",
              "tt6954136    -0.629848    -1.024412     -1.057780          -0.800916   \n",
              "tt2789014    -0.638552    -1.317648      0.902702           1.254323   \n",
              "tt6887540    -0.591472     0.441769      1.556196           1.025963   \n",
              "tt4887002    -0.586204    -0.437940      0.249208          -0.344196   \n",
              "\n",
              "            release_year  cast_count_total  cast_count_director  \\\n",
              "movie_id                                                          \n",
              "tt1630029       1.459928          2.698563            -0.256954   \n",
              "tt6710474       1.459928          0.050920             2.353157   \n",
              "tt9764362       1.459928         -0.197700            -0.256954   \n",
              "tt7888964       0.776362         -0.039487            -0.256954   \n",
              "tt10640346      1.459928          0.864586            -0.256954   \n",
              "...                  ...               ...                  ...   \n",
              "tt6289224       0.776362         -0.746601            -0.256954   \n",
              "tt6954136      -0.590772         -0.693326            -0.256954   \n",
              "tt2789014      -0.590772         -0.659423            -0.256954   \n",
              "tt6887540      -1.274338         -0.652965            -0.256954   \n",
              "tt4887002       0.092795         -0.630363            -0.256954   \n",
              "\n",
              "            cast_count_writer  cast_count_cast  cast_count_producer  ...  \\\n",
              "movie_id                                                             ...   \n",
              "tt1630029            2.028106         0.131590            -0.852764  ...   \n",
              "tt6710474           -0.473237        -0.357360             0.219829  ...   \n",
              "tt9764362           -0.473237        -0.520343            -0.614410  ...   \n",
              "tt7888964           -0.830572         0.070471            -0.256879  ...   \n",
              "tt10640346          -0.830572         7.914036             0.100652  ...   \n",
              "...                       ...              ...                  ...  ...   \n",
              "tt6289224           -0.115902        -0.377732            -0.137702  ...   \n",
              "tt6954136            0.241432        -0.499970            -1.210295  ...   \n",
              "tt2789014            0.598767        -0.520343            -0.852764  ...   \n",
              "tt6887540           -0.830572         0.151963            -0.971941  ...   \n",
              "tt4887002           -0.473237        -0.520343             0.219829  ...   \n",
              "\n",
              "            release_month_March  release_month_May  release_month_November  \\\n",
              "movie_id                                                                     \n",
              "tt1630029                     0                  0                       0   \n",
              "tt6710474                     0                  0                       0   \n",
              "tt9764362                     0                  0                       1   \n",
              "tt7888964                     1                  0                       0   \n",
              "tt10640346                    0                  0                       0   \n",
              "...                         ...                ...                     ...   \n",
              "tt6289224                     0                  0                       0   \n",
              "tt6954136                     0                  0                       0   \n",
              "tt2789014                     1                  0                       0   \n",
              "tt6887540                     0                  0                       0   \n",
              "tt4887002                     0                  0                       0   \n",
              "\n",
              "            release_month_October  release_month_September  \\\n",
              "movie_id                                                     \n",
              "tt1630029                       0                        0   \n",
              "tt6710474                       0                        0   \n",
              "tt9764362                       0                        0   \n",
              "tt7888964                       0                        0   \n",
              "tt10640346                      0                        0   \n",
              "...                           ...                      ...   \n",
              "tt6289224                       0                        0   \n",
              "tt6954136                       1                        0   \n",
              "tt2789014                       0                        0   \n",
              "tt6887540                       1                        0   \n",
              "tt4887002                       1                        0   \n",
              "\n",
              "            budget_currency_CAD  budget_currency_EUR  budget_currency_GBP  \\\n",
              "movie_id                                                                    \n",
              "tt1630029                     0                    0                    0   \n",
              "tt6710474                     0                    0                    0   \n",
              "tt9764362                     0                    0                    0   \n",
              "tt7888964                     0                    0                    0   \n",
              "tt10640346                    0                    0                    0   \n",
              "...                         ...                  ...                  ...   \n",
              "tt6289224                     0                    0                    0   \n",
              "tt6954136                     0                    0                    0   \n",
              "tt2789014                     0                    0                    0   \n",
              "tt6887540                     0                    0                    0   \n",
              "tt4887002                     0                    0                    0   \n",
              "\n",
              "            budget_currency_RUB  budget_currency_USD  \n",
              "movie_id                                              \n",
              "tt1630029                     0                    1  \n",
              "tt6710474                     0                    1  \n",
              "tt9764362                     0                    1  \n",
              "tt7888964                     0                    1  \n",
              "tt10640346                    0                    1  \n",
              "...                         ...                  ...  \n",
              "tt6289224                     0                    1  \n",
              "tt6954136                     0                    1  \n",
              "tt2789014                     0                    1  \n",
              "tt6887540                     0                    1  \n",
              "tt4887002                     0                    1  \n",
              "\n",
              "[965 rows x 96 columns]"
            ],
            "text/html": [
              "\n",
              "  <div id=\"df-6dabad05-b8b4-4f28-af63-4f73f7e9e33e\">\n",
              "    <div class=\"colab-df-container\">\n",
              "      <div>\n",
              "<style scoped>\n",
              "    .dataframe tbody tr th:only-of-type {\n",
              "        vertical-align: middle;\n",
              "    }\n",
              "\n",
              "    .dataframe tbody tr th {\n",
              "        vertical-align: top;\n",
              "    }\n",
              "\n",
              "    .dataframe thead th {\n",
              "        text-align: right;\n",
              "    }\n",
              "</style>\n",
              "<table border=\"1\" class=\"dataframe\">\n",
              "  <thead>\n",
              "    <tr style=\"text-align: right;\">\n",
              "      <th></th>\n",
              "      <th>budget_usd</th>\n",
              "      <th>runtime_min</th>\n",
              "      <th>title_length</th>\n",
              "      <th>movie_desc_length</th>\n",
              "      <th>release_year</th>\n",
              "      <th>cast_count_total</th>\n",
              "      <th>cast_count_director</th>\n",
              "      <th>cast_count_writer</th>\n",
              "      <th>cast_count_cast</th>\n",
              "      <th>cast_count_producer</th>\n",
              "      <th>...</th>\n",
              "      <th>release_month_March</th>\n",
              "      <th>release_month_May</th>\n",
              "      <th>release_month_November</th>\n",
              "      <th>release_month_October</th>\n",
              "      <th>release_month_September</th>\n",
              "      <th>budget_currency_CAD</th>\n",
              "      <th>budget_currency_EUR</th>\n",
              "      <th>budget_currency_GBP</th>\n",
              "      <th>budget_currency_RUB</th>\n",
              "      <th>budget_currency_USD</th>\n",
              "    </tr>\n",
              "    <tr>\n",
              "      <th>movie_id</th>\n",
              "      <th></th>\n",
              "      <th></th>\n",
              "      <th></th>\n",
              "      <th></th>\n",
              "      <th></th>\n",
              "      <th></th>\n",
              "      <th></th>\n",
              "      <th></th>\n",
              "      <th></th>\n",
              "      <th></th>\n",
              "      <th></th>\n",
              "      <th></th>\n",
              "      <th></th>\n",
              "      <th></th>\n",
              "      <th></th>\n",
              "      <th></th>\n",
              "      <th></th>\n",
              "      <th></th>\n",
              "      <th></th>\n",
              "      <th></th>\n",
              "      <th></th>\n",
              "    </tr>\n",
              "  </thead>\n",
              "  <tbody>\n",
              "    <tr>\n",
              "      <th>tt1630029</th>\n",
              "      <td>6.363165</td>\n",
              "      <td>4.957605</td>\n",
              "      <td>1.556196</td>\n",
              "      <td>1.482682</td>\n",
              "      <td>1.459928</td>\n",
              "      <td>2.698563</td>\n",
              "      <td>-0.256954</td>\n",
              "      <td>2.028106</td>\n",
              "      <td>0.131590</td>\n",
              "      <td>-0.852764</td>\n",
              "      <td>...</td>\n",
              "      <td>0</td>\n",
              "      <td>0</td>\n",
              "      <td>0</td>\n",
              "      <td>0</td>\n",
              "      <td>0</td>\n",
              "      <td>0</td>\n",
              "      <td>0</td>\n",
              "      <td>0</td>\n",
              "      <td>0</td>\n",
              "      <td>1</td>\n",
              "    </tr>\n",
              "    <tr>\n",
              "      <th>tt6710474</th>\n",
              "      <td>-0.353729</td>\n",
              "      <td>1.849302</td>\n",
              "      <td>1.556196</td>\n",
              "      <td>0.455063</td>\n",
              "      <td>1.459928</td>\n",
              "      <td>0.050920</td>\n",
              "      <td>2.353157</td>\n",
              "      <td>-0.473237</td>\n",
              "      <td>-0.357360</td>\n",
              "      <td>0.219829</td>\n",
              "      <td>...</td>\n",
              "      <td>0</td>\n",
              "      <td>0</td>\n",
              "      <td>0</td>\n",
              "      <td>0</td>\n",
              "      <td>0</td>\n",
              "      <td>0</td>\n",
              "      <td>0</td>\n",
              "      <td>0</td>\n",
              "      <td>0</td>\n",
              "      <td>1</td>\n",
              "    </tr>\n",
              "    <tr>\n",
              "      <th>tt9764362</th>\n",
              "      <td>0.060450</td>\n",
              "      <td>-0.027409</td>\n",
              "      <td>-0.404286</td>\n",
              "      <td>-0.115836</td>\n",
              "      <td>1.459928</td>\n",
              "      <td>-0.197700</td>\n",
              "      <td>-0.256954</td>\n",
              "      <td>-0.473237</td>\n",
              "      <td>-0.520343</td>\n",
              "      <td>-0.614410</td>\n",
              "      <td>...</td>\n",
              "      <td>0</td>\n",
              "      <td>0</td>\n",
              "      <td>1</td>\n",
              "      <td>0</td>\n",
              "      <td>0</td>\n",
              "      <td>0</td>\n",
              "      <td>0</td>\n",
              "      <td>0</td>\n",
              "      <td>0</td>\n",
              "      <td>1</td>\n",
              "    </tr>\n",
              "    <tr>\n",
              "      <th>tt7888964</th>\n",
              "      <td>-0.319714</td>\n",
              "      <td>-0.907118</td>\n",
              "      <td>-1.057780</td>\n",
              "      <td>0.455063</td>\n",
              "      <td>0.776362</td>\n",
              "      <td>-0.039487</td>\n",
              "      <td>-0.256954</td>\n",
              "      <td>-0.830572</td>\n",
              "      <td>0.070471</td>\n",
              "      <td>-0.256879</td>\n",
              "      <td>...</td>\n",
              "      <td>1</td>\n",
              "      <td>0</td>\n",
              "      <td>0</td>\n",
              "      <td>0</td>\n",
              "      <td>0</td>\n",
              "      <td>0</td>\n",
              "      <td>0</td>\n",
              "      <td>0</td>\n",
              "      <td>0</td>\n",
              "      <td>1</td>\n",
              "    </tr>\n",
              "    <tr>\n",
              "      <th>tt10640346</th>\n",
              "      <td>0.920820</td>\n",
              "      <td>4.781664</td>\n",
              "      <td>-1.057780</td>\n",
              "      <td>0.112523</td>\n",
              "      <td>1.459928</td>\n",
              "      <td>0.864586</td>\n",
              "      <td>-0.256954</td>\n",
              "      <td>-0.830572</td>\n",
              "      <td>7.914036</td>\n",
              "      <td>0.100652</td>\n",
              "      <td>...</td>\n",
              "      <td>0</td>\n",
              "      <td>0</td>\n",
              "      <td>0</td>\n",
              "      <td>0</td>\n",
              "      <td>0</td>\n",
              "      <td>0</td>\n",
              "      <td>0</td>\n",
              "      <td>0</td>\n",
              "      <td>0</td>\n",
              "      <td>1</td>\n",
              "    </tr>\n",
              "    <tr>\n",
              "      <th>...</th>\n",
              "      <td>...</td>\n",
              "      <td>...</td>\n",
              "      <td>...</td>\n",
              "      <td>...</td>\n",
              "      <td>...</td>\n",
              "      <td>...</td>\n",
              "      <td>...</td>\n",
              "      <td>...</td>\n",
              "      <td>...</td>\n",
              "      <td>...</td>\n",
              "      <td>...</td>\n",
              "      <td>...</td>\n",
              "      <td>...</td>\n",
              "      <td>...</td>\n",
              "      <td>...</td>\n",
              "      <td>...</td>\n",
              "      <td>...</td>\n",
              "      <td>...</td>\n",
              "      <td>...</td>\n",
              "      <td>...</td>\n",
              "      <td>...</td>\n",
              "    </tr>\n",
              "    <tr>\n",
              "      <th>tt6289224</th>\n",
              "      <td>-0.630023</td>\n",
              "      <td>-0.203351</td>\n",
              "      <td>-0.404286</td>\n",
              "      <td>-0.800916</td>\n",
              "      <td>0.776362</td>\n",
              "      <td>-0.746601</td>\n",
              "      <td>-0.256954</td>\n",
              "      <td>-0.115902</td>\n",
              "      <td>-0.377732</td>\n",
              "      <td>-0.137702</td>\n",
              "      <td>...</td>\n",
              "      <td>0</td>\n",
              "      <td>0</td>\n",
              "      <td>0</td>\n",
              "      <td>0</td>\n",
              "      <td>0</td>\n",
              "      <td>0</td>\n",
              "      <td>0</td>\n",
              "      <td>0</td>\n",
              "      <td>0</td>\n",
              "      <td>1</td>\n",
              "    </tr>\n",
              "    <tr>\n",
              "      <th>tt6954136</th>\n",
              "      <td>-0.629848</td>\n",
              "      <td>-1.024412</td>\n",
              "      <td>-1.057780</td>\n",
              "      <td>-0.800916</td>\n",
              "      <td>-0.590772</td>\n",
              "      <td>-0.693326</td>\n",
              "      <td>-0.256954</td>\n",
              "      <td>0.241432</td>\n",
              "      <td>-0.499970</td>\n",
              "      <td>-1.210295</td>\n",
              "      <td>...</td>\n",
              "      <td>0</td>\n",
              "      <td>0</td>\n",
              "      <td>0</td>\n",
              "      <td>1</td>\n",
              "      <td>0</td>\n",
              "      <td>0</td>\n",
              "      <td>0</td>\n",
              "      <td>0</td>\n",
              "      <td>0</td>\n",
              "      <td>1</td>\n",
              "    </tr>\n",
              "    <tr>\n",
              "      <th>tt2789014</th>\n",
              "      <td>-0.638552</td>\n",
              "      <td>-1.317648</td>\n",
              "      <td>0.902702</td>\n",
              "      <td>1.254323</td>\n",
              "      <td>-0.590772</td>\n",
              "      <td>-0.659423</td>\n",
              "      <td>-0.256954</td>\n",
              "      <td>0.598767</td>\n",
              "      <td>-0.520343</td>\n",
              "      <td>-0.852764</td>\n",
              "      <td>...</td>\n",
              "      <td>1</td>\n",
              "      <td>0</td>\n",
              "      <td>0</td>\n",
              "      <td>0</td>\n",
              "      <td>0</td>\n",
              "      <td>0</td>\n",
              "      <td>0</td>\n",
              "      <td>0</td>\n",
              "      <td>0</td>\n",
              "      <td>1</td>\n",
              "    </tr>\n",
              "    <tr>\n",
              "      <th>tt6887540</th>\n",
              "      <td>-0.591472</td>\n",
              "      <td>0.441769</td>\n",
              "      <td>1.556196</td>\n",
              "      <td>1.025963</td>\n",
              "      <td>-1.274338</td>\n",
              "      <td>-0.652965</td>\n",
              "      <td>-0.256954</td>\n",
              "      <td>-0.830572</td>\n",
              "      <td>0.151963</td>\n",
              "      <td>-0.971941</td>\n",
              "      <td>...</td>\n",
              "      <td>0</td>\n",
              "      <td>0</td>\n",
              "      <td>0</td>\n",
              "      <td>1</td>\n",
              "      <td>0</td>\n",
              "      <td>0</td>\n",
              "      <td>0</td>\n",
              "      <td>0</td>\n",
              "      <td>0</td>\n",
              "      <td>1</td>\n",
              "    </tr>\n",
              "    <tr>\n",
              "      <th>tt4887002</th>\n",
              "      <td>-0.586204</td>\n",
              "      <td>-0.437940</td>\n",
              "      <td>0.249208</td>\n",
              "      <td>-0.344196</td>\n",
              "      <td>0.092795</td>\n",
              "      <td>-0.630363</td>\n",
              "      <td>-0.256954</td>\n",
              "      <td>-0.473237</td>\n",
              "      <td>-0.520343</td>\n",
              "      <td>0.219829</td>\n",
              "      <td>...</td>\n",
              "      <td>0</td>\n",
              "      <td>0</td>\n",
              "      <td>0</td>\n",
              "      <td>1</td>\n",
              "      <td>0</td>\n",
              "      <td>0</td>\n",
              "      <td>0</td>\n",
              "      <td>0</td>\n",
              "      <td>0</td>\n",
              "      <td>1</td>\n",
              "    </tr>\n",
              "  </tbody>\n",
              "</table>\n",
              "<p>965 rows × 96 columns</p>\n",
              "</div>\n",
              "      <button class=\"colab-df-convert\" onclick=\"convertToInteractive('df-6dabad05-b8b4-4f28-af63-4f73f7e9e33e')\"\n",
              "              title=\"Convert this dataframe to an interactive table.\"\n",
              "              style=\"display:none;\">\n",
              "        \n",
              "  <svg xmlns=\"http://www.w3.org/2000/svg\" height=\"24px\"viewBox=\"0 0 24 24\"\n",
              "       width=\"24px\">\n",
              "    <path d=\"M0 0h24v24H0V0z\" fill=\"none\"/>\n",
              "    <path d=\"M18.56 5.44l.94 2.06.94-2.06 2.06-.94-2.06-.94-.94-2.06-.94 2.06-2.06.94zm-11 1L8.5 8.5l.94-2.06 2.06-.94-2.06-.94L8.5 2.5l-.94 2.06-2.06.94zm10 10l.94 2.06.94-2.06 2.06-.94-2.06-.94-.94-2.06-.94 2.06-2.06.94z\"/><path d=\"M17.41 7.96l-1.37-1.37c-.4-.4-.92-.59-1.43-.59-.52 0-1.04.2-1.43.59L10.3 9.45l-7.72 7.72c-.78.78-.78 2.05 0 2.83L4 21.41c.39.39.9.59 1.41.59.51 0 1.02-.2 1.41-.59l7.78-7.78 2.81-2.81c.8-.78.8-2.07 0-2.86zM5.41 20L4 18.59l7.72-7.72 1.47 1.35L5.41 20z\"/>\n",
              "  </svg>\n",
              "      </button>\n",
              "      \n",
              "  <style>\n",
              "    .colab-df-container {\n",
              "      display:flex;\n",
              "      flex-wrap:wrap;\n",
              "      gap: 12px;\n",
              "    }\n",
              "\n",
              "    .colab-df-convert {\n",
              "      background-color: #E8F0FE;\n",
              "      border: none;\n",
              "      border-radius: 50%;\n",
              "      cursor: pointer;\n",
              "      display: none;\n",
              "      fill: #1967D2;\n",
              "      height: 32px;\n",
              "      padding: 0 0 0 0;\n",
              "      width: 32px;\n",
              "    }\n",
              "\n",
              "    .colab-df-convert:hover {\n",
              "      background-color: #E2EBFA;\n",
              "      box-shadow: 0px 1px 2px rgba(60, 64, 67, 0.3), 0px 1px 3px 1px rgba(60, 64, 67, 0.15);\n",
              "      fill: #174EA6;\n",
              "    }\n",
              "\n",
              "    [theme=dark] .colab-df-convert {\n",
              "      background-color: #3B4455;\n",
              "      fill: #D2E3FC;\n",
              "    }\n",
              "\n",
              "    [theme=dark] .colab-df-convert:hover {\n",
              "      background-color: #434B5C;\n",
              "      box-shadow: 0px 1px 3px 1px rgba(0, 0, 0, 0.15);\n",
              "      filter: drop-shadow(0px 1px 2px rgba(0, 0, 0, 0.3));\n",
              "      fill: #FFFFFF;\n",
              "    }\n",
              "  </style>\n",
              "\n",
              "      <script>\n",
              "        const buttonEl =\n",
              "          document.querySelector('#df-6dabad05-b8b4-4f28-af63-4f73f7e9e33e button.colab-df-convert');\n",
              "        buttonEl.style.display =\n",
              "          google.colab.kernel.accessAllowed ? 'block' : 'none';\n",
              "\n",
              "        async function convertToInteractive(key) {\n",
              "          const element = document.querySelector('#df-6dabad05-b8b4-4f28-af63-4f73f7e9e33e');\n",
              "          const dataTable =\n",
              "            await google.colab.kernel.invokeFunction('convertToInteractive',\n",
              "                                                     [key], {});\n",
              "          if (!dataTable) return;\n",
              "\n",
              "          const docLinkHtml = 'Like what you see? Visit the ' +\n",
              "            '<a target=\"_blank\" href=https://colab.research.google.com/notebooks/data_table.ipynb>data table notebook</a>'\n",
              "            + ' to learn more about interactive tables.';\n",
              "          element.innerHTML = '';\n",
              "          dataTable['output_type'] = 'display_data';\n",
              "          await google.colab.output.renderOutput(dataTable, element);\n",
              "          const docLink = document.createElement('div');\n",
              "          docLink.innerHTML = docLinkHtml;\n",
              "          element.appendChild(docLink);\n",
              "        }\n",
              "      </script>\n",
              "    </div>\n",
              "  </div>\n",
              "  "
            ]
          },
          "metadata": {},
          "execution_count": 21
        }
      ]
    },
    {
      "cell_type": "markdown",
      "source": [
        "### Split Train-Test - Opening Week"
      ],
      "metadata": {
        "id": "zUXMBKFrc7Mx"
      }
    },
    {
      "cell_type": "code",
      "source": [
        "x_train_scaled, x_test_scaled, y_train, y_test = train_test_split(X_opening_week_scaled, y_opening_week_log, train_size = 0.8, random_state=0)\n",
        "print(f\"Train DataSet: {x_train_scaled.shape[0]} with {x_train_scaled.shape[1]} features\")\n",
        "print(f\"Test DataSet: {x_test_scaled.shape[0]} with {x_test_scaled.shape[1]} features\")"
      ],
      "metadata": {
        "colab": {
          "base_uri": "https://localhost:8080/"
        },
        "id": "NoMn5KvfzGwT",
        "outputId": "42333599-60ea-4f7e-f2c3-6d1110430a19"
      },
      "execution_count": 22,
      "outputs": [
        {
          "output_type": "stream",
          "name": "stdout",
          "text": [
            "Train DataSet: 772 with 96 features\n",
            "Test DataSet: 193 with 96 features\n"
          ]
        }
      ]
    },
    {
      "cell_type": "markdown",
      "source": [
        "## Basic Models - Opening Week USD"
      ],
      "metadata": {
        "id": "ljvZF28k0F4p"
      }
    },
    {
      "cell_type": "markdown",
      "source": [
        "### Basic Model - Setting (Linear and Tree)"
      ],
      "metadata": {
        "id": "r7bE-MFdFqBO"
      }
    },
    {
      "cell_type": "code",
      "source": [
        "parametersOfValue = {\n",
        "    'fit_intercept':[True,False],\n",
        "    'max_depth':[3,80],\n",
        "    'learning_rate':[0.01,0.001],\n",
        "    'random_state':[1],\n",
        "    'n_estimators':[500]\n",
        "    }\n",
        "\n",
        "if skip_slow_processes==False:\n",
        "  parametersOfValue['n_estimators'] = [500, 1000, 1500]\n",
        "  parametersOfValue['max_depth'] = [3,4,5,80,100]\n",
        "  parametersOfValue['learning_rate'] = [0.1,0.01,0.001]"
      ],
      "metadata": {
        "id": "GsFkZckbFq-i"
      },
      "execution_count": 23,
      "outputs": []
    },
    {
      "cell_type": "code",
      "source": [
        "models_to_use = {'LinearRegression':LinearRegression(),\n",
        "                  'DecisionTreeRegressor':DecisionTreeRegressor()\n",
        "                 }"
      ],
      "metadata": {
        "id": "7zWLbutf1PXV"
      },
      "execution_count": 24,
      "outputs": []
    },
    {
      "cell_type": "code",
      "source": [
        "all_model_combinations_df = get_all_model_combinations(models_to_use,parametersOfValue)\n",
        "all_model_combinations_df"
      ],
      "metadata": {
        "colab": {
          "base_uri": "https://localhost:8080/",
          "height": 306
        },
        "id": "6NDs8qd4AmM3",
        "outputId": "7f6b55d1-1a88-4f64-96b0-cda44717380b"
      },
      "execution_count": 25,
      "outputs": [
        {
          "output_type": "stream",
          "name": "stdout",
          "text": [
            "Model Type: LinearRegression - 2 hyper-parameter combinations\n",
            "Model Type: DecisionTreeRegressor - 5 hyper-parameter combinations\n"
          ]
        },
        {
          "output_type": "execute_result",
          "data": {
            "text/plain": [
              "                                    model_type fit_intercept max_depth  \\\n",
              "LinearRegression_0            LinearRegression          True       NaN   \n",
              "LinearRegression_1            LinearRegression         False       NaN   \n",
              "DecisionTreeRegressor_0  DecisionTreeRegressor           NaN         3   \n",
              "DecisionTreeRegressor_1  DecisionTreeRegressor           NaN         4   \n",
              "DecisionTreeRegressor_2  DecisionTreeRegressor           NaN         5   \n",
              "DecisionTreeRegressor_3  DecisionTreeRegressor           NaN        80   \n",
              "DecisionTreeRegressor_4  DecisionTreeRegressor           NaN       100   \n",
              "\n",
              "                        random_state  \n",
              "LinearRegression_0               NaN  \n",
              "LinearRegression_1               NaN  \n",
              "DecisionTreeRegressor_0            1  \n",
              "DecisionTreeRegressor_1            1  \n",
              "DecisionTreeRegressor_2            1  \n",
              "DecisionTreeRegressor_3            1  \n",
              "DecisionTreeRegressor_4            1  "
            ],
            "text/html": [
              "\n",
              "  <div id=\"df-fd67c8b2-e5bf-430b-95c5-50922502c1a6\">\n",
              "    <div class=\"colab-df-container\">\n",
              "      <div>\n",
              "<style scoped>\n",
              "    .dataframe tbody tr th:only-of-type {\n",
              "        vertical-align: middle;\n",
              "    }\n",
              "\n",
              "    .dataframe tbody tr th {\n",
              "        vertical-align: top;\n",
              "    }\n",
              "\n",
              "    .dataframe thead th {\n",
              "        text-align: right;\n",
              "    }\n",
              "</style>\n",
              "<table border=\"1\" class=\"dataframe\">\n",
              "  <thead>\n",
              "    <tr style=\"text-align: right;\">\n",
              "      <th></th>\n",
              "      <th>model_type</th>\n",
              "      <th>fit_intercept</th>\n",
              "      <th>max_depth</th>\n",
              "      <th>random_state</th>\n",
              "    </tr>\n",
              "  </thead>\n",
              "  <tbody>\n",
              "    <tr>\n",
              "      <th>LinearRegression_0</th>\n",
              "      <td>LinearRegression</td>\n",
              "      <td>True</td>\n",
              "      <td>NaN</td>\n",
              "      <td>NaN</td>\n",
              "    </tr>\n",
              "    <tr>\n",
              "      <th>LinearRegression_1</th>\n",
              "      <td>LinearRegression</td>\n",
              "      <td>False</td>\n",
              "      <td>NaN</td>\n",
              "      <td>NaN</td>\n",
              "    </tr>\n",
              "    <tr>\n",
              "      <th>DecisionTreeRegressor_0</th>\n",
              "      <td>DecisionTreeRegressor</td>\n",
              "      <td>NaN</td>\n",
              "      <td>3</td>\n",
              "      <td>1</td>\n",
              "    </tr>\n",
              "    <tr>\n",
              "      <th>DecisionTreeRegressor_1</th>\n",
              "      <td>DecisionTreeRegressor</td>\n",
              "      <td>NaN</td>\n",
              "      <td>4</td>\n",
              "      <td>1</td>\n",
              "    </tr>\n",
              "    <tr>\n",
              "      <th>DecisionTreeRegressor_2</th>\n",
              "      <td>DecisionTreeRegressor</td>\n",
              "      <td>NaN</td>\n",
              "      <td>5</td>\n",
              "      <td>1</td>\n",
              "    </tr>\n",
              "    <tr>\n",
              "      <th>DecisionTreeRegressor_3</th>\n",
              "      <td>DecisionTreeRegressor</td>\n",
              "      <td>NaN</td>\n",
              "      <td>80</td>\n",
              "      <td>1</td>\n",
              "    </tr>\n",
              "    <tr>\n",
              "      <th>DecisionTreeRegressor_4</th>\n",
              "      <td>DecisionTreeRegressor</td>\n",
              "      <td>NaN</td>\n",
              "      <td>100</td>\n",
              "      <td>1</td>\n",
              "    </tr>\n",
              "  </tbody>\n",
              "</table>\n",
              "</div>\n",
              "      <button class=\"colab-df-convert\" onclick=\"convertToInteractive('df-fd67c8b2-e5bf-430b-95c5-50922502c1a6')\"\n",
              "              title=\"Convert this dataframe to an interactive table.\"\n",
              "              style=\"display:none;\">\n",
              "        \n",
              "  <svg xmlns=\"http://www.w3.org/2000/svg\" height=\"24px\"viewBox=\"0 0 24 24\"\n",
              "       width=\"24px\">\n",
              "    <path d=\"M0 0h24v24H0V0z\" fill=\"none\"/>\n",
              "    <path d=\"M18.56 5.44l.94 2.06.94-2.06 2.06-.94-2.06-.94-.94-2.06-.94 2.06-2.06.94zm-11 1L8.5 8.5l.94-2.06 2.06-.94-2.06-.94L8.5 2.5l-.94 2.06-2.06.94zm10 10l.94 2.06.94-2.06 2.06-.94-2.06-.94-.94-2.06-.94 2.06-2.06.94z\"/><path d=\"M17.41 7.96l-1.37-1.37c-.4-.4-.92-.59-1.43-.59-.52 0-1.04.2-1.43.59L10.3 9.45l-7.72 7.72c-.78.78-.78 2.05 0 2.83L4 21.41c.39.39.9.59 1.41.59.51 0 1.02-.2 1.41-.59l7.78-7.78 2.81-2.81c.8-.78.8-2.07 0-2.86zM5.41 20L4 18.59l7.72-7.72 1.47 1.35L5.41 20z\"/>\n",
              "  </svg>\n",
              "      </button>\n",
              "      \n",
              "  <style>\n",
              "    .colab-df-container {\n",
              "      display:flex;\n",
              "      flex-wrap:wrap;\n",
              "      gap: 12px;\n",
              "    }\n",
              "\n",
              "    .colab-df-convert {\n",
              "      background-color: #E8F0FE;\n",
              "      border: none;\n",
              "      border-radius: 50%;\n",
              "      cursor: pointer;\n",
              "      display: none;\n",
              "      fill: #1967D2;\n",
              "      height: 32px;\n",
              "      padding: 0 0 0 0;\n",
              "      width: 32px;\n",
              "    }\n",
              "\n",
              "    .colab-df-convert:hover {\n",
              "      background-color: #E2EBFA;\n",
              "      box-shadow: 0px 1px 2px rgba(60, 64, 67, 0.3), 0px 1px 3px 1px rgba(60, 64, 67, 0.15);\n",
              "      fill: #174EA6;\n",
              "    }\n",
              "\n",
              "    [theme=dark] .colab-df-convert {\n",
              "      background-color: #3B4455;\n",
              "      fill: #D2E3FC;\n",
              "    }\n",
              "\n",
              "    [theme=dark] .colab-df-convert:hover {\n",
              "      background-color: #434B5C;\n",
              "      box-shadow: 0px 1px 3px 1px rgba(0, 0, 0, 0.15);\n",
              "      filter: drop-shadow(0px 1px 2px rgba(0, 0, 0, 0.3));\n",
              "      fill: #FFFFFF;\n",
              "    }\n",
              "  </style>\n",
              "\n",
              "      <script>\n",
              "        const buttonEl =\n",
              "          document.querySelector('#df-fd67c8b2-e5bf-430b-95c5-50922502c1a6 button.colab-df-convert');\n",
              "        buttonEl.style.display =\n",
              "          google.colab.kernel.accessAllowed ? 'block' : 'none';\n",
              "\n",
              "        async function convertToInteractive(key) {\n",
              "          const element = document.querySelector('#df-fd67c8b2-e5bf-430b-95c5-50922502c1a6');\n",
              "          const dataTable =\n",
              "            await google.colab.kernel.invokeFunction('convertToInteractive',\n",
              "                                                     [key], {});\n",
              "          if (!dataTable) return;\n",
              "\n",
              "          const docLinkHtml = 'Like what you see? Visit the ' +\n",
              "            '<a target=\"_blank\" href=https://colab.research.google.com/notebooks/data_table.ipynb>data table notebook</a>'\n",
              "            + ' to learn more about interactive tables.';\n",
              "          element.innerHTML = '';\n",
              "          dataTable['output_type'] = 'display_data';\n",
              "          await google.colab.output.renderOutput(dataTable, element);\n",
              "          const docLink = document.createElement('div');\n",
              "          docLink.innerHTML = docLinkHtml;\n",
              "          element.appendChild(docLink);\n",
              "        }\n",
              "      </script>\n",
              "    </div>\n",
              "  </div>\n",
              "  "
            ]
          },
          "metadata": {},
          "execution_count": 25
        }
      ]
    },
    {
      "cell_type": "code",
      "source": [
        "all_model_combinations_df, dict_of_fitted_models = run_various_models_return_results(all_model_combinations_df, all_model_types)"
      ],
      "metadata": {
        "colab": {
          "base_uri": "https://localhost:8080/"
        },
        "id": "hgLbV08grxvE",
        "outputId": "2fa22f1f-21a4-4c1a-92d7-017ee2c6452d"
      },
      "execution_count": 26,
      "outputs": [
        {
          "output_type": "stream",
          "name": "stdout",
          "text": [
            "Model #1 of 7\n",
            "Model Name: LinearRegression_0\n",
            "Model Props: {'copy_X': True, 'fit_intercept': True, 'n_jobs': None, 'positive': False}\n",
            "Train_score: 0.708 / Test_score: 0.519.\n",
            "\n",
            "Model #2 of 7\n",
            "Model Name: LinearRegression_1\n",
            "Model Props: {'copy_X': True, 'fit_intercept': False, 'n_jobs': None, 'positive': False}\n",
            "Train_score: 0.746 / Test_score: 0.586.\n",
            "\n",
            "Model #3 of 7\n",
            "Model Name: DecisionTreeRegressor_0\n",
            "Model Props: {'ccp_alpha': 0.0, 'criterion': 'squared_error', 'max_depth': 3, 'max_features': None, 'max_leaf_nodes': None, 'min_impurity_decrease': 0.0, 'min_samples_leaf': 1, 'min_samples_split': 2, 'min_weight_fraction_leaf': 0.0, 'random_state': 1, 'splitter': 'best'}\n",
            "Train_score: 0.713 / Test_score: 0.557.\n",
            "\n",
            "Model #4 of 7\n",
            "Model Name: DecisionTreeRegressor_1\n",
            "Model Props: {'ccp_alpha': 0.0, 'criterion': 'squared_error', 'max_depth': 4, 'max_features': None, 'max_leaf_nodes': None, 'min_impurity_decrease': 0.0, 'min_samples_leaf': 1, 'min_samples_split': 2, 'min_weight_fraction_leaf': 0.0, 'random_state': 1, 'splitter': 'best'}\n",
            "Train_score: 0.757 / Test_score: 0.586.\n",
            "\n",
            "Model #5 of 7\n",
            "Model Name: DecisionTreeRegressor_2\n",
            "Model Props: {'ccp_alpha': 0.0, 'criterion': 'squared_error', 'max_depth': 5, 'max_features': None, 'max_leaf_nodes': None, 'min_impurity_decrease': 0.0, 'min_samples_leaf': 1, 'min_samples_split': 2, 'min_weight_fraction_leaf': 0.0, 'random_state': 1, 'splitter': 'best'}\n",
            "Train_score: 0.797 / Test_score: 0.541.\n",
            "\n",
            "Model #6 of 7\n",
            "Model Name: DecisionTreeRegressor_3\n",
            "Model Props: {'ccp_alpha': 0.0, 'criterion': 'squared_error', 'max_depth': 80, 'max_features': None, 'max_leaf_nodes': None, 'min_impurity_decrease': 0.0, 'min_samples_leaf': 1, 'min_samples_split': 2, 'min_weight_fraction_leaf': 0.0, 'random_state': 1, 'splitter': 'best'}\n",
            "Train_score: 1.0 / Test_score: 0.336.\n",
            "\n",
            "Model #7 of 7\n",
            "Model Name: DecisionTreeRegressor_4\n",
            "Model Props: {'ccp_alpha': 0.0, 'criterion': 'squared_error', 'max_depth': 100, 'max_features': None, 'max_leaf_nodes': None, 'min_impurity_decrease': 0.0, 'min_samples_leaf': 1, 'min_samples_split': 2, 'min_weight_fraction_leaf': 0.0, 'random_state': 1, 'splitter': 'best'}\n",
            "Train_score: 1.0 / Test_score: 0.336.\n",
            "\n",
            "\n",
            "Finished Run\n"
          ]
        }
      ]
    },
    {
      "cell_type": "code",
      "source": [
        "all_model_combinations_df.head(15)"
      ],
      "metadata": {
        "colab": {
          "base_uri": "https://localhost:8080/",
          "height": 269
        },
        "id": "gTXBVE3nDZ2k",
        "outputId": "658402d1-5e3d-4f94-8393-0ff14cd17669"
      },
      "execution_count": 27,
      "outputs": [
        {
          "output_type": "execute_result",
          "data": {
            "text/plain": [
              "                                    model_type fit_intercept max_depth  \\\n",
              "LinearRegression_1            LinearRegression         False       NaN   \n",
              "DecisionTreeRegressor_1  DecisionTreeRegressor           NaN         4   \n",
              "DecisionTreeRegressor_0  DecisionTreeRegressor           NaN         3   \n",
              "DecisionTreeRegressor_2  DecisionTreeRegressor           NaN         5   \n",
              "LinearRegression_0            LinearRegression          True       NaN   \n",
              "DecisionTreeRegressor_3  DecisionTreeRegressor           NaN        80   \n",
              "DecisionTreeRegressor_4  DecisionTreeRegressor           NaN       100   \n",
              "\n",
              "                        random_state  train_score  val_score  test_score_r2  \\\n",
              "LinearRegression_1               NaN     0.746045   0.680264       0.586224   \n",
              "DecisionTreeRegressor_1            1     0.757416   0.644588       0.585594   \n",
              "DecisionTreeRegressor_0            1     0.713362   0.646465       0.556628   \n",
              "DecisionTreeRegressor_2            1     0.796517   0.627157       0.541437   \n",
              "LinearRegression_0               NaN     0.708441   0.680190       0.518669   \n",
              "DecisionTreeRegressor_3            1     1.000000   0.487396       0.336064   \n",
              "DecisionTreeRegressor_4            1     1.000000   0.487396       0.336064   \n",
              "\n",
              "                         test_score_mse  train_size  test_size  feature_n  \\\n",
              "LinearRegression_1             4.199961       772.0      193.0       96.0   \n",
              "DecisionTreeRegressor_1        4.206355       772.0      193.0       96.0   \n",
              "DecisionTreeRegressor_0        4.500379       772.0      193.0       96.0   \n",
              "DecisionTreeRegressor_2        4.654571       772.0      193.0       96.0   \n",
              "LinearRegression_0             4.885667       772.0      193.0       96.0   \n",
              "DecisionTreeRegressor_3        6.739173       772.0      193.0       96.0   \n",
              "DecisionTreeRegressor_4        6.739173       772.0      193.0       96.0   \n",
              "\n",
              "                         run_time  \n",
              "LinearRegression_1         0.1122  \n",
              "DecisionTreeRegressor_1    0.0677  \n",
              "DecisionTreeRegressor_0    0.0586  \n",
              "DecisionTreeRegressor_2    0.0477  \n",
              "LinearRegression_0         0.1340  \n",
              "DecisionTreeRegressor_3    0.0736  \n",
              "DecisionTreeRegressor_4    0.0786  "
            ],
            "text/html": [
              "\n",
              "  <div id=\"df-80b0cca6-5640-4ace-a87d-b96d328021b0\">\n",
              "    <div class=\"colab-df-container\">\n",
              "      <div>\n",
              "<style scoped>\n",
              "    .dataframe tbody tr th:only-of-type {\n",
              "        vertical-align: middle;\n",
              "    }\n",
              "\n",
              "    .dataframe tbody tr th {\n",
              "        vertical-align: top;\n",
              "    }\n",
              "\n",
              "    .dataframe thead th {\n",
              "        text-align: right;\n",
              "    }\n",
              "</style>\n",
              "<table border=\"1\" class=\"dataframe\">\n",
              "  <thead>\n",
              "    <tr style=\"text-align: right;\">\n",
              "      <th></th>\n",
              "      <th>model_type</th>\n",
              "      <th>fit_intercept</th>\n",
              "      <th>max_depth</th>\n",
              "      <th>random_state</th>\n",
              "      <th>train_score</th>\n",
              "      <th>val_score</th>\n",
              "      <th>test_score_r2</th>\n",
              "      <th>test_score_mse</th>\n",
              "      <th>train_size</th>\n",
              "      <th>test_size</th>\n",
              "      <th>feature_n</th>\n",
              "      <th>run_time</th>\n",
              "    </tr>\n",
              "  </thead>\n",
              "  <tbody>\n",
              "    <tr>\n",
              "      <th>LinearRegression_1</th>\n",
              "      <td>LinearRegression</td>\n",
              "      <td>False</td>\n",
              "      <td>NaN</td>\n",
              "      <td>NaN</td>\n",
              "      <td>0.746045</td>\n",
              "      <td>0.680264</td>\n",
              "      <td>0.586224</td>\n",
              "      <td>4.199961</td>\n",
              "      <td>772.0</td>\n",
              "      <td>193.0</td>\n",
              "      <td>96.0</td>\n",
              "      <td>0.1122</td>\n",
              "    </tr>\n",
              "    <tr>\n",
              "      <th>DecisionTreeRegressor_1</th>\n",
              "      <td>DecisionTreeRegressor</td>\n",
              "      <td>NaN</td>\n",
              "      <td>4</td>\n",
              "      <td>1</td>\n",
              "      <td>0.757416</td>\n",
              "      <td>0.644588</td>\n",
              "      <td>0.585594</td>\n",
              "      <td>4.206355</td>\n",
              "      <td>772.0</td>\n",
              "      <td>193.0</td>\n",
              "      <td>96.0</td>\n",
              "      <td>0.0677</td>\n",
              "    </tr>\n",
              "    <tr>\n",
              "      <th>DecisionTreeRegressor_0</th>\n",
              "      <td>DecisionTreeRegressor</td>\n",
              "      <td>NaN</td>\n",
              "      <td>3</td>\n",
              "      <td>1</td>\n",
              "      <td>0.713362</td>\n",
              "      <td>0.646465</td>\n",
              "      <td>0.556628</td>\n",
              "      <td>4.500379</td>\n",
              "      <td>772.0</td>\n",
              "      <td>193.0</td>\n",
              "      <td>96.0</td>\n",
              "      <td>0.0586</td>\n",
              "    </tr>\n",
              "    <tr>\n",
              "      <th>DecisionTreeRegressor_2</th>\n",
              "      <td>DecisionTreeRegressor</td>\n",
              "      <td>NaN</td>\n",
              "      <td>5</td>\n",
              "      <td>1</td>\n",
              "      <td>0.796517</td>\n",
              "      <td>0.627157</td>\n",
              "      <td>0.541437</td>\n",
              "      <td>4.654571</td>\n",
              "      <td>772.0</td>\n",
              "      <td>193.0</td>\n",
              "      <td>96.0</td>\n",
              "      <td>0.0477</td>\n",
              "    </tr>\n",
              "    <tr>\n",
              "      <th>LinearRegression_0</th>\n",
              "      <td>LinearRegression</td>\n",
              "      <td>True</td>\n",
              "      <td>NaN</td>\n",
              "      <td>NaN</td>\n",
              "      <td>0.708441</td>\n",
              "      <td>0.680190</td>\n",
              "      <td>0.518669</td>\n",
              "      <td>4.885667</td>\n",
              "      <td>772.0</td>\n",
              "      <td>193.0</td>\n",
              "      <td>96.0</td>\n",
              "      <td>0.1340</td>\n",
              "    </tr>\n",
              "    <tr>\n",
              "      <th>DecisionTreeRegressor_3</th>\n",
              "      <td>DecisionTreeRegressor</td>\n",
              "      <td>NaN</td>\n",
              "      <td>80</td>\n",
              "      <td>1</td>\n",
              "      <td>1.000000</td>\n",
              "      <td>0.487396</td>\n",
              "      <td>0.336064</td>\n",
              "      <td>6.739173</td>\n",
              "      <td>772.0</td>\n",
              "      <td>193.0</td>\n",
              "      <td>96.0</td>\n",
              "      <td>0.0736</td>\n",
              "    </tr>\n",
              "    <tr>\n",
              "      <th>DecisionTreeRegressor_4</th>\n",
              "      <td>DecisionTreeRegressor</td>\n",
              "      <td>NaN</td>\n",
              "      <td>100</td>\n",
              "      <td>1</td>\n",
              "      <td>1.000000</td>\n",
              "      <td>0.487396</td>\n",
              "      <td>0.336064</td>\n",
              "      <td>6.739173</td>\n",
              "      <td>772.0</td>\n",
              "      <td>193.0</td>\n",
              "      <td>96.0</td>\n",
              "      <td>0.0786</td>\n",
              "    </tr>\n",
              "  </tbody>\n",
              "</table>\n",
              "</div>\n",
              "      <button class=\"colab-df-convert\" onclick=\"convertToInteractive('df-80b0cca6-5640-4ace-a87d-b96d328021b0')\"\n",
              "              title=\"Convert this dataframe to an interactive table.\"\n",
              "              style=\"display:none;\">\n",
              "        \n",
              "  <svg xmlns=\"http://www.w3.org/2000/svg\" height=\"24px\"viewBox=\"0 0 24 24\"\n",
              "       width=\"24px\">\n",
              "    <path d=\"M0 0h24v24H0V0z\" fill=\"none\"/>\n",
              "    <path d=\"M18.56 5.44l.94 2.06.94-2.06 2.06-.94-2.06-.94-.94-2.06-.94 2.06-2.06.94zm-11 1L8.5 8.5l.94-2.06 2.06-.94-2.06-.94L8.5 2.5l-.94 2.06-2.06.94zm10 10l.94 2.06.94-2.06 2.06-.94-2.06-.94-.94-2.06-.94 2.06-2.06.94z\"/><path d=\"M17.41 7.96l-1.37-1.37c-.4-.4-.92-.59-1.43-.59-.52 0-1.04.2-1.43.59L10.3 9.45l-7.72 7.72c-.78.78-.78 2.05 0 2.83L4 21.41c.39.39.9.59 1.41.59.51 0 1.02-.2 1.41-.59l7.78-7.78 2.81-2.81c.8-.78.8-2.07 0-2.86zM5.41 20L4 18.59l7.72-7.72 1.47 1.35L5.41 20z\"/>\n",
              "  </svg>\n",
              "      </button>\n",
              "      \n",
              "  <style>\n",
              "    .colab-df-container {\n",
              "      display:flex;\n",
              "      flex-wrap:wrap;\n",
              "      gap: 12px;\n",
              "    }\n",
              "\n",
              "    .colab-df-convert {\n",
              "      background-color: #E8F0FE;\n",
              "      border: none;\n",
              "      border-radius: 50%;\n",
              "      cursor: pointer;\n",
              "      display: none;\n",
              "      fill: #1967D2;\n",
              "      height: 32px;\n",
              "      padding: 0 0 0 0;\n",
              "      width: 32px;\n",
              "    }\n",
              "\n",
              "    .colab-df-convert:hover {\n",
              "      background-color: #E2EBFA;\n",
              "      box-shadow: 0px 1px 2px rgba(60, 64, 67, 0.3), 0px 1px 3px 1px rgba(60, 64, 67, 0.15);\n",
              "      fill: #174EA6;\n",
              "    }\n",
              "\n",
              "    [theme=dark] .colab-df-convert {\n",
              "      background-color: #3B4455;\n",
              "      fill: #D2E3FC;\n",
              "    }\n",
              "\n",
              "    [theme=dark] .colab-df-convert:hover {\n",
              "      background-color: #434B5C;\n",
              "      box-shadow: 0px 1px 3px 1px rgba(0, 0, 0, 0.15);\n",
              "      filter: drop-shadow(0px 1px 2px rgba(0, 0, 0, 0.3));\n",
              "      fill: #FFFFFF;\n",
              "    }\n",
              "  </style>\n",
              "\n",
              "      <script>\n",
              "        const buttonEl =\n",
              "          document.querySelector('#df-80b0cca6-5640-4ace-a87d-b96d328021b0 button.colab-df-convert');\n",
              "        buttonEl.style.display =\n",
              "          google.colab.kernel.accessAllowed ? 'block' : 'none';\n",
              "\n",
              "        async function convertToInteractive(key) {\n",
              "          const element = document.querySelector('#df-80b0cca6-5640-4ace-a87d-b96d328021b0');\n",
              "          const dataTable =\n",
              "            await google.colab.kernel.invokeFunction('convertToInteractive',\n",
              "                                                     [key], {});\n",
              "          if (!dataTable) return;\n",
              "\n",
              "          const docLinkHtml = 'Like what you see? Visit the ' +\n",
              "            '<a target=\"_blank\" href=https://colab.research.google.com/notebooks/data_table.ipynb>data table notebook</a>'\n",
              "            + ' to learn more about interactive tables.';\n",
              "          element.innerHTML = '';\n",
              "          dataTable['output_type'] = 'display_data';\n",
              "          await google.colab.output.renderOutput(dataTable, element);\n",
              "          const docLink = document.createElement('div');\n",
              "          docLink.innerHTML = docLinkHtml;\n",
              "          element.appendChild(docLink);\n",
              "        }\n",
              "      </script>\n",
              "    </div>\n",
              "  </div>\n",
              "  "
            ]
          },
          "metadata": {},
          "execution_count": 27
        }
      ]
    },
    {
      "cell_type": "markdown",
      "metadata": {
        "id": "21bfc2fd-d2b2-4b20-af5c-009261dadf46"
      },
      "source": [
        "Finally, we will have a data frame containning our models, their instructions, and their resaults:"
      ]
    },
    {
      "cell_type": "markdown",
      "source": [
        "### Basic Models - Best Performing"
      ],
      "metadata": {
        "id": "KjjUG42kFUb-"
      }
    },
    {
      "cell_type": "markdown",
      "metadata": {
        "id": "ede114ff-5861-4d63-98b0-76b76824648e"
      },
      "source": [
        "<br><b>Best Performing model:</b><br>\n",
        "Since we collected all sort of output scores from our model, we can check and see which model performed best for each category:"
      ]
    },
    {
      "cell_type": "code",
      "execution_count": 28,
      "metadata": {
        "id": "88f17eda-d4c0-4587-9ee9-a10ff702ab64",
        "colab": {
          "base_uri": "https://localhost:8080/",
          "height": 162
        },
        "outputId": "9d1a760b-50b4-47c2-a135-66f186173e49"
      },
      "outputs": [
        {
          "output_type": "stream",
          "name": "stdout",
          "text": [
            "Top 3 performing models based on test_score Score\n"
          ]
        },
        {
          "output_type": "execute_result",
          "data": {
            "text/plain": [
              "                                    model_type fit_intercept max_depth  \\\n",
              "LinearRegression_1            LinearRegression         False       NaN   \n",
              "DecisionTreeRegressor_1  DecisionTreeRegressor           NaN         4   \n",
              "DecisionTreeRegressor_0  DecisionTreeRegressor           NaN         3   \n",
              "\n",
              "                         train_score  val_score  test_score_r2  \\\n",
              "LinearRegression_1          0.746045   0.680264       0.586224   \n",
              "DecisionTreeRegressor_1     0.757416   0.644588       0.585594   \n",
              "DecisionTreeRegressor_0     0.713362   0.646465       0.556628   \n",
              "\n",
              "                         test_score_mse  run_time  \n",
              "LinearRegression_1             4.199961    0.1122  \n",
              "DecisionTreeRegressor_1        4.206355    0.0677  \n",
              "DecisionTreeRegressor_0        4.500379    0.0586  "
            ],
            "text/html": [
              "\n",
              "  <div id=\"df-07539723-4ca2-4817-98c0-908b5cd371d7\">\n",
              "    <div class=\"colab-df-container\">\n",
              "      <div>\n",
              "<style scoped>\n",
              "    .dataframe tbody tr th:only-of-type {\n",
              "        vertical-align: middle;\n",
              "    }\n",
              "\n",
              "    .dataframe tbody tr th {\n",
              "        vertical-align: top;\n",
              "    }\n",
              "\n",
              "    .dataframe thead th {\n",
              "        text-align: right;\n",
              "    }\n",
              "</style>\n",
              "<table border=\"1\" class=\"dataframe\">\n",
              "  <thead>\n",
              "    <tr style=\"text-align: right;\">\n",
              "      <th></th>\n",
              "      <th>model_type</th>\n",
              "      <th>fit_intercept</th>\n",
              "      <th>max_depth</th>\n",
              "      <th>train_score</th>\n",
              "      <th>val_score</th>\n",
              "      <th>test_score_r2</th>\n",
              "      <th>test_score_mse</th>\n",
              "      <th>run_time</th>\n",
              "    </tr>\n",
              "  </thead>\n",
              "  <tbody>\n",
              "    <tr>\n",
              "      <th>LinearRegression_1</th>\n",
              "      <td>LinearRegression</td>\n",
              "      <td>False</td>\n",
              "      <td>NaN</td>\n",
              "      <td>0.746045</td>\n",
              "      <td>0.680264</td>\n",
              "      <td>0.586224</td>\n",
              "      <td>4.199961</td>\n",
              "      <td>0.1122</td>\n",
              "    </tr>\n",
              "    <tr>\n",
              "      <th>DecisionTreeRegressor_1</th>\n",
              "      <td>DecisionTreeRegressor</td>\n",
              "      <td>NaN</td>\n",
              "      <td>4</td>\n",
              "      <td>0.757416</td>\n",
              "      <td>0.644588</td>\n",
              "      <td>0.585594</td>\n",
              "      <td>4.206355</td>\n",
              "      <td>0.0677</td>\n",
              "    </tr>\n",
              "    <tr>\n",
              "      <th>DecisionTreeRegressor_0</th>\n",
              "      <td>DecisionTreeRegressor</td>\n",
              "      <td>NaN</td>\n",
              "      <td>3</td>\n",
              "      <td>0.713362</td>\n",
              "      <td>0.646465</td>\n",
              "      <td>0.556628</td>\n",
              "      <td>4.500379</td>\n",
              "      <td>0.0586</td>\n",
              "    </tr>\n",
              "  </tbody>\n",
              "</table>\n",
              "</div>\n",
              "      <button class=\"colab-df-convert\" onclick=\"convertToInteractive('df-07539723-4ca2-4817-98c0-908b5cd371d7')\"\n",
              "              title=\"Convert this dataframe to an interactive table.\"\n",
              "              style=\"display:none;\">\n",
              "        \n",
              "  <svg xmlns=\"http://www.w3.org/2000/svg\" height=\"24px\"viewBox=\"0 0 24 24\"\n",
              "       width=\"24px\">\n",
              "    <path d=\"M0 0h24v24H0V0z\" fill=\"none\"/>\n",
              "    <path d=\"M18.56 5.44l.94 2.06.94-2.06 2.06-.94-2.06-.94-.94-2.06-.94 2.06-2.06.94zm-11 1L8.5 8.5l.94-2.06 2.06-.94-2.06-.94L8.5 2.5l-.94 2.06-2.06.94zm10 10l.94 2.06.94-2.06 2.06-.94-2.06-.94-.94-2.06-.94 2.06-2.06.94z\"/><path d=\"M17.41 7.96l-1.37-1.37c-.4-.4-.92-.59-1.43-.59-.52 0-1.04.2-1.43.59L10.3 9.45l-7.72 7.72c-.78.78-.78 2.05 0 2.83L4 21.41c.39.39.9.59 1.41.59.51 0 1.02-.2 1.41-.59l7.78-7.78 2.81-2.81c.8-.78.8-2.07 0-2.86zM5.41 20L4 18.59l7.72-7.72 1.47 1.35L5.41 20z\"/>\n",
              "  </svg>\n",
              "      </button>\n",
              "      \n",
              "  <style>\n",
              "    .colab-df-container {\n",
              "      display:flex;\n",
              "      flex-wrap:wrap;\n",
              "      gap: 12px;\n",
              "    }\n",
              "\n",
              "    .colab-df-convert {\n",
              "      background-color: #E8F0FE;\n",
              "      border: none;\n",
              "      border-radius: 50%;\n",
              "      cursor: pointer;\n",
              "      display: none;\n",
              "      fill: #1967D2;\n",
              "      height: 32px;\n",
              "      padding: 0 0 0 0;\n",
              "      width: 32px;\n",
              "    }\n",
              "\n",
              "    .colab-df-convert:hover {\n",
              "      background-color: #E2EBFA;\n",
              "      box-shadow: 0px 1px 2px rgba(60, 64, 67, 0.3), 0px 1px 3px 1px rgba(60, 64, 67, 0.15);\n",
              "      fill: #174EA6;\n",
              "    }\n",
              "\n",
              "    [theme=dark] .colab-df-convert {\n",
              "      background-color: #3B4455;\n",
              "      fill: #D2E3FC;\n",
              "    }\n",
              "\n",
              "    [theme=dark] .colab-df-convert:hover {\n",
              "      background-color: #434B5C;\n",
              "      box-shadow: 0px 1px 3px 1px rgba(0, 0, 0, 0.15);\n",
              "      filter: drop-shadow(0px 1px 2px rgba(0, 0, 0, 0.3));\n",
              "      fill: #FFFFFF;\n",
              "    }\n",
              "  </style>\n",
              "\n",
              "      <script>\n",
              "        const buttonEl =\n",
              "          document.querySelector('#df-07539723-4ca2-4817-98c0-908b5cd371d7 button.colab-df-convert');\n",
              "        buttonEl.style.display =\n",
              "          google.colab.kernel.accessAllowed ? 'block' : 'none';\n",
              "\n",
              "        async function convertToInteractive(key) {\n",
              "          const element = document.querySelector('#df-07539723-4ca2-4817-98c0-908b5cd371d7');\n",
              "          const dataTable =\n",
              "            await google.colab.kernel.invokeFunction('convertToInteractive',\n",
              "                                                     [key], {});\n",
              "          if (!dataTable) return;\n",
              "\n",
              "          const docLinkHtml = 'Like what you see? Visit the ' +\n",
              "            '<a target=\"_blank\" href=https://colab.research.google.com/notebooks/data_table.ipynb>data table notebook</a>'\n",
              "            + ' to learn more about interactive tables.';\n",
              "          element.innerHTML = '';\n",
              "          dataTable['output_type'] = 'display_data';\n",
              "          await google.colab.output.renderOutput(dataTable, element);\n",
              "          const docLink = document.createElement('div');\n",
              "          docLink.innerHTML = docLinkHtml;\n",
              "          element.appendChild(docLink);\n",
              "        }\n",
              "      </script>\n",
              "    </div>\n",
              "  </div>\n",
              "  "
            ]
          },
          "metadata": {},
          "execution_count": 28
        }
      ],
      "source": [
        "cols_to_show = ['model_type','fit_intercept','max_depth','train_score','val_score','test_score_r2','test_score_mse','run_time']\n",
        "print(f\"Top 3 performing models based on test_score Score\")\n",
        "all_model_combinations_df[cols_to_show].sort_values(by='test_score_r2', ascending=False).head(3)"
      ]
    },
    {
      "cell_type": "markdown",
      "source": [
        "### Basic Models - Plot results"
      ],
      "metadata": {
        "id": "eeriW0nsFxDd"
      }
    },
    {
      "cell_type": "code",
      "source": [
        "scatterplot_model_preformence(all_model_combinations_df,dict_of_fitted_models)"
      ],
      "metadata": {
        "id": "trUh4fZXbUrL"
      },
      "execution_count": null,
      "outputs": []
    },
    {
      "cell_type": "code",
      "execution_count": null,
      "metadata": {
        "id": "1e511dc4-e01c-4c64-bf31-c4b6a8e6f9af"
      },
      "outputs": [],
      "source": [
        "best_performing_model = all_model_combinations_df.sort_values(by='test_score_r2', ascending=False).head(1)\n",
        "best_model = dict_of_fitted_models[best_performing_model.index[0]]\n",
        "print(f\"Our best performing model so far is {best_model} --> {round(best_performing_model['test_score_r2'][0],3)} test_score score\")"
      ]
    },
    {
      "cell_type": "code",
      "source": [
        "coefficients = best_model.coef_\n",
        "\n",
        "# Display feature importances\n",
        "feature_importances = pd.DataFrame(\n",
        "    {\"Feature\": feature_names, \"Importance\": np.abs(coefficients)}\n",
        ")\n",
        "feature_importances = feature_importances.sort_values(\n",
        "    by=\"Importance\", ascending=False\n",
        ")\n",
        "\n",
        "# Plot the feature importances\n",
        "plt.figure(figsize=(10, 5))\n",
        "plt.bar(feature_importances['Feature'].head(10), feature_importances['Importance'].head(10))\n",
        "plt.xlabel(\"Features\")\n",
        "plt.ylabel(\"Importance\")\n",
        "plt.title(\"Feature Importances\")\n",
        "plt.xticks(range(10), feature_importances['Feature'].head(10), rotation=45)\n",
        "plt.show()"
      ],
      "metadata": {
        "id": "C-FIw3G21Ykl"
      },
      "execution_count": null,
      "outputs": []
    },
    {
      "cell_type": "markdown",
      "source": [
        "## Boosting Models - Opening Week"
      ],
      "metadata": {
        "id": "P-SQVLLVdRG1"
      }
    },
    {
      "cell_type": "markdown",
      "metadata": {
        "id": "74bc8e84-1f9d-40d9-88df-b527f090df81"
      },
      "source": [
        "<br><b>Ensemble Models:</b><br>\n",
        "Ensemble models are machine learning algorithms that combine the predictions of multiple base models to make more accurate predictions."
      ]
    },
    {
      "cell_type": "markdown",
      "metadata": {
        "id": "c9b0bdbc-f26a-4833-8e8c-c509f10d0830"
      },
      "source": [
        "Unlike Single Classification models where we used cross-val on our training set, for Bootstrapping methods we will need to create a separate validation data-set"
      ]
    },
    {
      "cell_type": "code",
      "source": [
        "models_to_use = {'AdaBoostRegressor':AdaBoostRegressor()\n",
        "                  ,'XGBRegressor ':xgb.XGBRegressor()\n",
        "                 }"
      ],
      "metadata": {
        "id": "jeEQVmpg9IcP"
      },
      "execution_count": null,
      "outputs": []
    },
    {
      "cell_type": "code",
      "source": [
        "parametersOfValue = {\n",
        "    'estimator':[None],\n",
        "    'n_estimators':[500],\n",
        "    'max_depth':[50,80],\n",
        "    'learning_rate':[0.01,0.1],\n",
        "    'random_state':[1]\n",
        "    }\n",
        "\n",
        "if skip_slow_processes==False:\n",
        "  parametersOfValue['estimator'] = [None,best_model]\n",
        "  parametersOfValue['n_estimators'] = [1000, 2000]\n",
        "  parametersOfValue['max_depth'] = [20,50,80,100]"
      ],
      "metadata": {
        "id": "sekWoCFTdwjx"
      },
      "execution_count": null,
      "outputs": []
    },
    {
      "cell_type": "code",
      "source": [
        "boosting_model_combinations_df = get_all_model_combinations(models_to_use,parametersOfValue)\n",
        "boosting_model_combinations_df.head(15)"
      ],
      "metadata": {
        "id": "-CGZFd3Np6YN"
      },
      "execution_count": null,
      "outputs": []
    },
    {
      "cell_type": "code",
      "source": [
        "boosting_model_combinations_df, dict_boosting_models = run_various_models_return_results(boosting_model_combinations_df, all_model_types, use_cross_validate=False)"
      ],
      "metadata": {
        "id": "IhnEKkXCe8t8"
      },
      "execution_count": null,
      "outputs": []
    },
    {
      "cell_type": "code",
      "source": [
        "boosting_model_combinations_df.head(15)"
      ],
      "metadata": {
        "id": "FUUrpfTkxINn"
      },
      "execution_count": null,
      "outputs": []
    },
    {
      "cell_type": "markdown",
      "source": [
        "### Boosting - Plot Results"
      ],
      "metadata": {
        "id": "6X7OYqO2G8Qs"
      }
    },
    {
      "cell_type": "code",
      "source": [
        "scatterplot_model_preformence(boosting_model_combinations_df.head(6),dict_boosting_models)"
      ],
      "metadata": {
        "id": "GLVDNDX11W-a"
      },
      "execution_count": null,
      "outputs": []
    },
    {
      "cell_type": "markdown",
      "metadata": {
        "id": "d3389643-bdfe-4e3e-ac66-a23604692011"
      },
      "source": [
        "For Boosting model we would prefer to keep our trees shallow and non-complex, since they are built sequntially and we do not want to risk ovefitting.<br>\n",
        "Next, we would like to explor some highly deel trees:"
      ]
    },
    {
      "cell_type": "markdown",
      "source": [],
      "metadata": {
        "id": "rvnap79Vy2VC"
      }
    },
    {
      "cell_type": "markdown",
      "source": [
        "## Bagging Models - Opening Week"
      ],
      "metadata": {
        "id": "coKOkLR4y-cT"
      }
    },
    {
      "cell_type": "markdown",
      "metadata": {
        "id": "1e0754ae-ba07-4efb-afe7-9680a9b4919c"
      },
      "source": [
        "In BaggingClassifier, the subsets of the training data are generated using bootstrap sampling, which means that each subset is a random sample of the training data with replacement.<br>\n",
        "It involves training multiple base models independently on different subsets of the training data, and then combining the predictions of the individual base models to make a final prediction."
      ]
    },
    {
      "cell_type": "code",
      "source": [],
      "metadata": {
        "id": "VO2FndY1y3Y8"
      },
      "execution_count": null,
      "outputs": []
    },
    {
      "cell_type": "code",
      "source": [
        "dict_of_models = {'BaggingRegressor ':BaggingRegressor()\n",
        "                  ,'RandomForestRegressor':RandomForestRegressor()\n",
        "                 }"
      ],
      "metadata": {
        "id": "huBX6E7Ny3t4"
      },
      "execution_count": null,
      "outputs": []
    },
    {
      "cell_type": "code",
      "source": [
        "parametersOfValue = {\n",
        "    'estimator':[None], \n",
        "    'max_features': [int(math.sqrt(len(feature_names))), int(len(feature_names)/3)],\n",
        "    'n_estimators':[500],\n",
        "    'max_depth':[3,5],\n",
        "    'learning_rate':[0.01,0.001],\n",
        "    'random_state':[1]\n",
        "    }\n",
        "\n",
        "if skip_slow_processes==False:\n",
        "  parametersOfValue['n_estimators'] = [1000, 2000]\n",
        "  parametersOfValue['max_depth'] = [80,100]"
      ],
      "metadata": {
        "id": "niLeU8fHy3t4"
      },
      "execution_count": null,
      "outputs": []
    },
    {
      "cell_type": "code",
      "source": [
        "bagging_model_combinations_df = get_all_model_combinations(dict_of_models,parametersOfValue)\n",
        "bagging_model_combinations_df"
      ],
      "metadata": {
        "id": "8FiKcReSyieJ"
      },
      "execution_count": null,
      "outputs": []
    },
    {
      "cell_type": "code",
      "source": [
        "bagging_model_combinations_df, dict_bagging_models = run_various_models_return_results(bagging_model_combinations_df, all_model_types, use_cross_validate=False)"
      ],
      "metadata": {
        "id": "j4VsTUpzyieK"
      },
      "execution_count": null,
      "outputs": []
    },
    {
      "cell_type": "code",
      "source": [
        "bagging_model_combinations_df.head(15)"
      ],
      "metadata": {
        "id": "IT1dsmtHyieK"
      },
      "execution_count": null,
      "outputs": []
    },
    {
      "cell_type": "markdown",
      "source": [
        "### Bagging - Plot results"
      ],
      "metadata": {
        "id": "F8QBF1J5HBOY"
      }
    },
    {
      "cell_type": "code",
      "source": [
        "scatterplot_model_preformence(bagging_model_combinations_df.head(6),dict_bagging_models)"
      ],
      "metadata": {
        "id": "CHbdb1U5yieK"
      },
      "execution_count": null,
      "outputs": []
    },
    {
      "cell_type": "markdown",
      "metadata": {
        "id": "400afacf-6b1a-46e3-a9d6-304660c4b7fa"
      },
      "source": [
        "<br><b>Random Forest feature selection:</b><br>\n",
        "Same as bagging, only with random feature selection"
      ]
    },
    {
      "cell_type": "code",
      "source": [
        "best_bagging_model = dict_bagging_models[bagging_model_combinations_df.sort_values(by=\"test_score_r2\",ascending=False).head(1).index[0]]\n",
        "best_bagging_model"
      ],
      "metadata": {
        "id": "3ioKx4jYXxri"
      },
      "execution_count": null,
      "outputs": []
    },
    {
      "cell_type": "code",
      "execution_count": null,
      "metadata": {
        "id": "18a70c8a-bf79-4627-a054-6ef8ba3e9165"
      },
      "outputs": [],
      "source": [
        "def get_feature_importance_random_forest(rf_model, threshold=0):\n",
        "  top_feature_dict = {col:0 for col in feature_names}\n",
        "\n",
        "  for dtree in rf_model.estimators_:\n",
        "      top_feature_Id = dtree.tree_.feature[0]\n",
        "      top_feature_name = feature_names[top_feature_Id]\n",
        "      \n",
        "      top_feature_dict[top_feature_name]+=1\n",
        "      \n",
        "  top_features_rf = pd.DataFrame(top_feature_dict, index=[\"Top Count - Random Forest\"]).head(1).T\n",
        "\n",
        "  columns_to_run = list(top_features_rf[top_features_rf['Top Count - Random Forest']>0].index)\n",
        "  return top_features_rf.sort_values([\"Top Count - Random Forest\"], ascending=False),columns_to_run"
      ]
    },
    {
      "cell_type": "code",
      "execution_count": null,
      "metadata": {
        "id": "d67421fd-f0a3-43c4-8752-e967bb95fde9"
      },
      "outputs": [],
      "source": [
        "top_features_rf,columns_to_run = get_feature_importance_random_forest(best_bagging_model, threshold=0)\n",
        "print(f\"Columns To Keep: {columns_to_run}\")\n",
        "top_features_rf"
      ]
    },
    {
      "cell_type": "markdown",
      "source": [
        "## Feature Reduction - Opening Week"
      ],
      "metadata": {
        "id": "RnkIeYADrARD"
      }
    },
    {
      "cell_type": "code",
      "source": [
        "parametersOfValue = {\n",
        "    'estimator':[None], \n",
        "    'max_features': [int(math.sqrt(len(columns_to_run))), int(len(columns_to_run)/3)],\n",
        "    'n_estimators':[500],\n",
        "    'max_depth':[3,5],\n",
        "    'learning_rate':[0.01,0.001],\n",
        "    'random_state':[1]\n",
        "    }\n",
        "\n",
        "\n",
        "if skip_slow_processes==False:\n",
        "  parametersOfValue['estimator'] = [None,best_model]\n",
        "  parametersOfValue['n_estimators'] = [500, 1000, 1500]\n",
        "  parametersOfValue['max_depth'] = [3,4,5,80,100]\n",
        "  parametersOfValue['learning_rate'] = [0.1,0.01,0.001]"
      ],
      "metadata": {
        "id": "FM5OBDpGrfbT"
      },
      "execution_count": null,
      "outputs": []
    },
    {
      "cell_type": "code",
      "source": [
        "dict_of_models = {'DecisionTreeRegressor':DecisionTreeRegressor()\n",
        "                  ,'BaggingRegressor ':BaggingRegressor()\n",
        "                  ,'RandomForestRegressor':RandomForestRegressor()\n",
        "                 }"
      ],
      "metadata": {
        "id": "MWAw2JRmrfXy"
      },
      "execution_count": null,
      "outputs": []
    },
    {
      "cell_type": "code",
      "source": [
        "rf_model_thin_df = get_all_model_combinations(dict_of_models,parametersOfValue)\n",
        "rf_model_thin_df"
      ],
      "metadata": {
        "id": "ghlLjMJ3rv_o"
      },
      "execution_count": null,
      "outputs": []
    },
    {
      "cell_type": "markdown",
      "source": [
        "### Run thin models"
      ],
      "metadata": {
        "id": "btAeMS2EHJS1"
      }
    },
    {
      "cell_type": "code",
      "execution_count": null,
      "metadata": {
        "id": "a567df26-bac3-435d-aa77-0683b341eb3a"
      },
      "outputs": [],
      "source": [
        "rf_model_thin_df, dict_rf_model_thin = run_various_models_return_results(rf_model_thin_df, all_model_types, use_cross_validate=False, limit_features_list=columns_to_run)"
      ]
    },
    {
      "cell_type": "code",
      "source": [
        "rf_model_thin_df.index = 'Thin_' + rf_model_thin_df.index.astype(str)\n",
        "rf_model_thin_df.head(10)"
      ],
      "metadata": {
        "id": "LzM4i15vsJmK"
      },
      "execution_count": null,
      "outputs": []
    },
    {
      "cell_type": "markdown",
      "source": [
        "## Comapring all models - Opening Week"
      ],
      "metadata": {
        "id": "cLGcO1Ett2so"
      }
    },
    {
      "cell_type": "code",
      "source": [
        "all_models_output = boosting_model_combinations_df.append(bagging_model_combinations_df).append(rf_model_thin_df).append(all_model_combinations_df)\n",
        "all_models_output.sort_values(by=\"test_score_r2\", ascending=False).head(10)"
      ],
      "metadata": {
        "id": "BdYyrz69sZWW"
      },
      "execution_count": null,
      "outputs": []
    },
    {
      "cell_type": "markdown",
      "source": [
        "## Best Model - First Week USD"
      ],
      "metadata": {
        "id": "FgHrp-5e1Eej"
      }
    },
    {
      "cell_type": "code",
      "source": [
        "best_output_first_week = all_models_output.sort_values(by=\"test_score_r2\", ascending=False).head(1)\n",
        "best_model_first_week = output_to_fitted_model(best_output_first_week,columns_to_run=None)\n",
        "best_model_first_week"
      ],
      "metadata": {
        "id": "IUv6bXDZ1MMS"
      },
      "execution_count": null,
      "outputs": []
    },
    {
      "cell_type": "markdown",
      "source": [
        "# Gross Revenue USD"
      ],
      "metadata": {
        "id": "N_tf3a2qIQx7"
      }
    },
    {
      "cell_type": "markdown",
      "source": [
        "## Data Preparing"
      ],
      "metadata": {
        "id": "wDnus9bMIeNR"
      }
    },
    {
      "cell_type": "markdown",
      "source": [
        "### Filter Missing Ys - Gross Revenue"
      ],
      "metadata": {
        "id": "Eyyjwmw3IeNS"
      }
    },
    {
      "cell_type": "code",
      "source": [
        "gross_rev_na_mask = y_gross_us_canada.isna()\n",
        "y_gross_rev = y_gross_us_canada[~gross_rev_na_mask]\n",
        "y_gross_rev_log = np.log(y_gross_rev)\n",
        "X_gross_rev = X_ohe_reduced[~gross_rev_na_mask]\n",
        "#X_gross_rev.shape,y_gross_rev.shape\n",
        "print(f\"Only {len(y_gross_rev)} out of {len(gross_rev_na_mask)} records had Gross Rev Revenue and will be kept\")"
      ],
      "metadata": {
        "id": "_x8wPS-OIeNS"
      },
      "execution_count": null,
      "outputs": []
    },
    {
      "cell_type": "code",
      "source": [
        "# Create figure and axis objects\n",
        "fig = plt.gcf()\n",
        "fig.set_size_inches(20,10)\n",
        "\n",
        "# Histogram\n",
        "ax1 = fig.add_subplot(1,2,1)\n",
        "ax1.hist(y_gross_rev, bins=10, color='purple')\n",
        "ax1.set_xlabel('User rating')\n",
        "ax1.set_ylabel('Frequency')\n",
        "ax1.set_title('Histogram of Gross Revenue USD')\n",
        "\n",
        "\n",
        "# Box plot\n",
        "ax2 = fig.add_subplot(1,2,2)\n",
        "sns.boxplot(y=y_gross_rev, color='orange', ax=ax2)\n",
        "ax2.set_title('Box Plot of Gross Revenue USD')\n",
        "ax2.set_ylabel('Gross Revenue USD')\n",
        "\n",
        "# Show plot\n",
        "plt.show()"
      ],
      "metadata": {
        "id": "xi6zhr01IeNS"
      },
      "execution_count": null,
      "outputs": []
    },
    {
      "cell_type": "code",
      "source": [
        "# Create figure and axis objects\n",
        "fig = plt.gcf()\n",
        "fig.set_size_inches(20,10)\n",
        "\n",
        "# Histogram\n",
        "ax1 = fig.add_subplot(1,2,1)\n",
        "ax1.hist(y_gross_rev_log, bins=10, color='purple')\n",
        "ax1.set_xlabel('User rating')\n",
        "ax1.set_ylabel('Frequency')\n",
        "ax1.set_title('Histogram of Gross Revenue USD (Log)')\n",
        "\n",
        "\n",
        "# Box plot\n",
        "ax2 = fig.add_subplot(1,2,2)\n",
        "sns.boxplot(y=y_gross_rev_log, color='orange', ax=ax2)\n",
        "ax2.set_title('Box Plot of Gross Revenue USD (Log)')\n",
        "ax2.set_ylabel('Gross Revenue USD (Log)')\n",
        "\n",
        "# Show plot\n",
        "plt.show()"
      ],
      "metadata": {
        "id": "cfMA5BPpIeNS"
      },
      "execution_count": null,
      "outputs": []
    },
    {
      "cell_type": "markdown",
      "source": [
        "### Scale Data - Gross Revenue"
      ],
      "metadata": {
        "id": "QbQW2O6dIeNS"
      }
    },
    {
      "cell_type": "code",
      "source": [
        "scalar_gross_rev = StandardScaler(copy=True, with_mean=True, with_std=True).fit(X_gross_rev[numerical_columns])\n",
        "\n",
        "X_gross_rev_scaled = pd.DataFrame(scalar_gross_rev.transform(X_gross_rev[numerical_columns]),columns=numerical_columns, index=X_gross_rev.index)\n",
        "\n",
        "# Reintroduce Binary Columns:\n",
        "for binary_col in binary_columns:\n",
        "  bin_s = X_gross_rev[binary_col]\n",
        "  X_gross_rev_scaled[binary_col] = bin_s\n",
        "\n",
        "feature_names = X_gross_rev_scaled.columns\n",
        "X_gross_rev_scaled"
      ],
      "metadata": {
        "id": "JHuRgYZ1IeNS"
      },
      "execution_count": null,
      "outputs": []
    },
    {
      "cell_type": "markdown",
      "source": [
        "### Split Train-Test - Gross Revenue"
      ],
      "metadata": {
        "id": "1LjTKL69IeNS"
      }
    },
    {
      "cell_type": "code",
      "source": [
        "x_train_scaled, x_test_scaled, y_train, y_test = train_test_split(X_gross_rev_scaled, y_gross_rev_log, train_size = 0.8, random_state=0)\n",
        "print(f\"Train DataSet: {x_train_scaled.shape[0]} with {x_train_scaled.shape[1]} features\")\n",
        "print(f\"Test DataSet: {x_test_scaled.shape[0]} with {x_test_scaled.shape[1]} features\")"
      ],
      "metadata": {
        "id": "QsgCzOgjIeNS"
      },
      "execution_count": null,
      "outputs": []
    },
    {
      "cell_type": "markdown",
      "source": [
        "## Exploring all models - Gross Revenue"
      ],
      "metadata": {
        "id": "Bz2-zybxJXnk"
      }
    },
    {
      "cell_type": "code",
      "source": [
        "parametersOfValue = {\n",
        "    'estimator':[None], \n",
        "    'max_features': [int(math.sqrt(len(feature_names))), int(len(feature_names)/3)],\n",
        "    'n_estimators':[500],\n",
        "    'max_depth':[3,5],\n",
        "    'learning_rate':[0.01,0.001],\n",
        "    'random_state':[1]\n",
        "    }\n",
        "\n",
        "\n",
        "if skip_slow_processes==False:\n",
        "  parametersOfValue['estimator'] = [None,best_model]\n",
        "  parametersOfValue['n_estimators'] = [1000, 2000]\n",
        "  parametersOfValue['max_depth'] = [3,5,80,100]\n",
        "  parametersOfValue['learning_rate'] = [0.1,0.01]"
      ],
      "metadata": {
        "id": "viHXUjdAJj3l"
      },
      "execution_count": null,
      "outputs": []
    },
    {
      "cell_type": "code",
      "source": [
        "models_to_use = {#'LinearRegression':LinearRegression()\n",
        "                  #,'DecisionTreeRegressor':DecisionTreeRegressor()\n",
        "                  'BaggingRegressor ':BaggingRegressor()\n",
        "                  ,'RandomForestRegressor':RandomForestRegressor()\n",
        "                  ,'AdaBoostRegressor':AdaBoostRegressor()\n",
        "                  ,'XGBRegressor ':xgb.XGBRegressor()\n",
        "                 }"
      ],
      "metadata": {
        "id": "uMsLTQHuJj0j"
      },
      "execution_count": null,
      "outputs": []
    },
    {
      "cell_type": "code",
      "source": [
        "all_model_combinations_gross_rev = get_all_model_combinations(models_to_use,parametersOfValue)\n",
        "all_model_combinations_gross_rev.head(15)"
      ],
      "metadata": {
        "id": "GYKfxnzcJjxj"
      },
      "execution_count": null,
      "outputs": []
    },
    {
      "cell_type": "markdown",
      "source": [
        "Run the top 10 performing models using the narrowed dataset in hope to reduce "
      ],
      "metadata": {
        "id": "IHAb4VDFeZjZ"
      }
    },
    {
      "cell_type": "code",
      "source": [
        "all_model_combinations_gross_rev, dict_of_fitted_models_gross_rev = run_various_models_return_results(all_model_combinations_gross_rev, all_model_types)"
      ],
      "metadata": {
        "id": "zQ8y9dowJjvf"
      },
      "execution_count": null,
      "outputs": []
    },
    {
      "cell_type": "code",
      "source": [
        "all_model_combinations_gross_rev.sort_values(by=\"test_score_r2\", ascending=False)"
      ],
      "metadata": {
        "id": "4u8BNERrJjsU"
      },
      "execution_count": null,
      "outputs": []
    },
    {
      "cell_type": "code",
      "source": [
        "scatterplot_model_preformence(all_model_combinations_gross_rev.head(8),dict_of_fitted_models_gross_rev)"
      ],
      "metadata": {
        "id": "qH7cZydjK1MK"
      },
      "execution_count": null,
      "outputs": []
    },
    {
      "cell_type": "code",
      "source": [
        "best_output_gross_rev = all_model_combinations_gross_rev.sort_values(by=\"test_score_r2\", ascending=False).head(1)\n",
        "best_model_gross_rev = output_to_fitted_model(best_output_gross_rev,columns_to_run=None)\n",
        "best_model_gross_rev"
      ],
      "metadata": {
        "id": "shvyopgOK1QK"
      },
      "execution_count": null,
      "outputs": []
    },
    {
      "cell_type": "markdown",
      "source": [
        "# Meta Score"
      ],
      "metadata": {
        "id": "OwZOrfevmb4t"
      }
    },
    {
      "cell_type": "markdown",
      "source": [
        "## Data Preparing"
      ],
      "metadata": {
        "id": "be_hMzaUmhoN"
      }
    },
    {
      "cell_type": "markdown",
      "source": [
        "### Filter Missing Ys - Metascore"
      ],
      "metadata": {
        "id": "qqry7nTcmhoN"
      }
    },
    {
      "cell_type": "code",
      "source": [
        "metascore_na_mask = y_metascore.isna()\n",
        "y_metascore = y_metascore[~metascore_na_mask]\n",
        "X_metascore = X_ohe_reduced[~metascore_na_mask]\n",
        "#X_metascore.shape,y_metascore.shape\n",
        "print(f\"Only {len(y_metascore)} out of {len(metascore_na_mask)} records had Gross Rev Revenue and will be kept\")"
      ],
      "metadata": {
        "id": "EW-ot3LemhoN"
      },
      "execution_count": null,
      "outputs": []
    },
    {
      "cell_type": "code",
      "source": [
        "# Create figure and axis objects\n",
        "fig = plt.gcf()\n",
        "fig.set_size_inches(20,10)\n",
        "\n",
        "# Histogram\n",
        "ax1 = fig.add_subplot(1,2,1)\n",
        "ax1.hist(y_user_rating, bins=10, color='purple')\n",
        "ax1.set_xlabel('User rating')\n",
        "ax1.set_ylabel('Frequency')\n",
        "ax1.set_title('Histogram of User Metascore')\n",
        "\n",
        "\n",
        "# Box plot\n",
        "ax2 = fig.add_subplot(1,2,2)\n",
        "sns.boxplot(y=y_user_rating, color='orange', ax=ax2)\n",
        "ax2.set_title('Box Plot of Metascore')\n",
        "ax2.set_ylabel('Metascore')\n",
        "\n",
        "# Show plot\n",
        "plt.show()"
      ],
      "metadata": {
        "id": "Jk88aGhCmhoO"
      },
      "execution_count": null,
      "outputs": []
    },
    {
      "cell_type": "markdown",
      "source": [
        "### Scale Data - Metascore"
      ],
      "metadata": {
        "id": "nnWvM_yymhoO"
      }
    },
    {
      "cell_type": "code",
      "source": [
        "scalar_metascore = StandardScaler(copy=True, with_mean=True, with_std=True).fit(X_metascore[numerical_columns])\n",
        "\n",
        "X_metascore_scaled = pd.DataFrame(scalar_metascore.transform(X_metascore[numerical_columns]),columns=numerical_columns, index=X_metascore.index)\n",
        "\n",
        "# Reintroduce Binary Columns:\n",
        "for binary_col in binary_columns:\n",
        "  bin_s = X_metascore[binary_col]\n",
        "  X_metascore_scaled[binary_col] = bin_s\n",
        "\n",
        "feature_names = X_metascore_scaled.columns\n",
        "X_metascore_scaled"
      ],
      "metadata": {
        "id": "_IPjzYpkmhoO"
      },
      "execution_count": null,
      "outputs": []
    },
    {
      "cell_type": "markdown",
      "source": [
        "### Split Train-Test - Metascore"
      ],
      "metadata": {
        "id": "xNHnnIT_mhoO"
      }
    },
    {
      "cell_type": "code",
      "source": [
        "x_train_scaled, x_test_scaled, y_train, y_test = train_test_split(X_metascore_scaled, y_metascore, train_size = 0.8, random_state=0)\n",
        "print(f\"Train DataSet: {x_train_scaled.shape[0]} with {x_train_scaled.shape[1]} features\")\n",
        "print(f\"Test DataSet: {x_test_scaled.shape[0]} with {x_test_scaled.shape[1]} features\")"
      ],
      "metadata": {
        "id": "fsWVOwvHmhoO"
      },
      "execution_count": null,
      "outputs": []
    },
    {
      "cell_type": "markdown",
      "source": [
        "## Exploring all models - Metascore"
      ],
      "metadata": {
        "id": "Olco3Os4mhoO"
      }
    },
    {
      "cell_type": "code",
      "source": [
        "parametersOfValue = {\n",
        "    'estimator':[None], \n",
        "    'max_features': [int(math.sqrt(len(feature_names))), int(len(feature_names)/3)],\n",
        "    'n_estimators':[500],\n",
        "    'max_depth':[3,5],\n",
        "    'learning_rate':[0.01,0.001],\n",
        "    'random_state':[1]\n",
        "    }\n",
        "\n",
        "\n",
        "if skip_slow_processes==False:\n",
        "  parametersOfValue['n_estimators'] = [1000, 2000]\n",
        "  parametersOfValue['max_depth'] = [3,5,80,100]\n",
        "  parametersOfValue['learning_rate'] = [0.1,0.01]"
      ],
      "metadata": {
        "id": "u1Fn9LdjmhoP"
      },
      "execution_count": null,
      "outputs": []
    },
    {
      "cell_type": "code",
      "source": [
        "models_to_use = {#'LinearRegression':LinearRegression()\n",
        "                  #,'DecisionTreeRegressor':DecisionTreeRegressor()\n",
        "                  'BaggingRegressor ':BaggingRegressor()\n",
        "                  ,'RandomForestRegressor':RandomForestRegressor()\n",
        "                  ,'AdaBoostRegressor':AdaBoostRegressor()\n",
        "                  ,'XGBRegressor ':xgb.XGBRegressor()\n",
        "                 }"
      ],
      "metadata": {
        "id": "apKY4KAnmhoP"
      },
      "execution_count": null,
      "outputs": []
    },
    {
      "cell_type": "code",
      "source": [
        "all_model_combinations_metascore = get_all_model_combinations(models_to_use,parametersOfValue)\n",
        "all_model_combinations_metascore"
      ],
      "metadata": {
        "id": "H_Glx3zimhoP"
      },
      "execution_count": null,
      "outputs": []
    },
    {
      "cell_type": "code",
      "source": [
        "all_model_combinations_metascore, dict_of_fitted_models_metascore = run_various_models_return_results(all_model_combinations_metascore, all_model_types)"
      ],
      "metadata": {
        "id": "1qmwzECimhoP"
      },
      "execution_count": null,
      "outputs": []
    },
    {
      "cell_type": "code",
      "source": [
        "all_model_combinations_metascore.sort_values(by=\"test_score_r2\", ascending=False)"
      ],
      "metadata": {
        "id": "niJyuyNEmhoP"
      },
      "execution_count": null,
      "outputs": []
    },
    {
      "cell_type": "code",
      "source": [
        "scatterplot_model_preformence(all_model_combinations_metascore.head(8),dict_of_fitted_models_metascore)"
      ],
      "metadata": {
        "id": "IpwNOrTgmhoP"
      },
      "execution_count": null,
      "outputs": []
    },
    {
      "cell_type": "code",
      "source": [
        "best_output_metascore = all_model_combinations_metascore.sort_values(by=\"test_score_r2\", ascending=False).head(1)\n",
        "best_model_metascore = output_to_fitted_model(best_output_metascore,columns_to_run=None)\n",
        "best_model_metascore"
      ],
      "metadata": {
        "id": "PRvW19SAmhoP"
      },
      "execution_count": null,
      "outputs": []
    },
    {
      "cell_type": "code",
      "source": [],
      "metadata": {
        "id": "RcOiP4AqwUBZ"
      },
      "execution_count": null,
      "outputs": []
    },
    {
      "cell_type": "markdown",
      "source": [
        "# User Rating"
      ],
      "metadata": {
        "id": "TSQgR7t_wXzl"
      }
    },
    {
      "cell_type": "code",
      "source": [],
      "metadata": {
        "id": "D_3W_fzkwXzm"
      },
      "execution_count": null,
      "outputs": []
    },
    {
      "cell_type": "markdown",
      "source": [
        "## Data Preparing"
      ],
      "metadata": {
        "id": "2968FwKFwXzm"
      }
    },
    {
      "cell_type": "markdown",
      "source": [
        "### Filter Missing Ys - User Rating"
      ],
      "metadata": {
        "id": "9OG6_stmwXzm"
      }
    },
    {
      "cell_type": "code",
      "source": [
        "user_rating_na_mask = y_user_rating.isna()\n",
        "y_user_rating = y_user_rating[~user_rating_na_mask]\n",
        "X_user_rating = X_ohe_reduced[~user_rating_na_mask]\n",
        "#X_user_rating.shape,y_user_rating.shape\n",
        "print(f\"Only {len(y_user_rating)} out of {len(user_rating_na_mask)} records had Gross Rev Revenue and will be kept\")"
      ],
      "metadata": {
        "id": "kg7MXtQSwXzm"
      },
      "execution_count": null,
      "outputs": []
    },
    {
      "cell_type": "code",
      "source": [
        "y_user_rating"
      ],
      "metadata": {
        "id": "DNsZ8rxqfCYq"
      },
      "execution_count": null,
      "outputs": []
    },
    {
      "cell_type": "code",
      "source": [
        "# Create figure and axis objects\n",
        "fig = plt.gcf()\n",
        "fig.set_size_inches(20,10)\n",
        "\n",
        "# Histogram\n",
        "ax1 = fig.add_subplot(1,2,1)\n",
        "ax1.hist(y_user_rating, bins=10, color='purple')\n",
        "ax1.set_xlabel('User rating')\n",
        "ax1.set_ylabel('Frequency')\n",
        "ax1.set_title('Histogram of User Ratings')\n",
        "\n",
        "\n",
        "# Box plot\n",
        "ax2 = fig.add_subplot(1,2,2)\n",
        "sns.boxplot(y=y_user_rating, color='orange', ax=ax2)\n",
        "ax2.set_title('Box Plot of User Ratings')\n",
        "ax2.set_ylabel('User rating')\n",
        "\n",
        "# Show plot\n",
        "plt.show()"
      ],
      "metadata": {
        "id": "7UISGL_kwXzm"
      },
      "execution_count": null,
      "outputs": []
    },
    {
      "cell_type": "markdown",
      "source": [
        "### Scale Data - User Rating"
      ],
      "metadata": {
        "id": "RYcuU4Z7wXzn"
      }
    },
    {
      "cell_type": "code",
      "source": [
        "scalar_user_rating = StandardScaler(copy=True, with_mean=True, with_std=True).fit(X_user_rating[numerical_columns])\n",
        "\n",
        "X_user_rating_scaled = pd.DataFrame(scalar_user_rating.transform(X_user_rating[numerical_columns]),columns=numerical_columns, index=X_user_rating.index)\n",
        "\n",
        "# Reintroduce Binary Columns:\n",
        "for binary_col in binary_columns:\n",
        "  bin_s = X_user_rating[binary_col]\n",
        "  X_user_rating_scaled[binary_col] = bin_s\n",
        "\n",
        "feature_names = X_user_rating_scaled.columns\n",
        "X_user_rating_scaled"
      ],
      "metadata": {
        "id": "uHfJF-r6wXzn"
      },
      "execution_count": null,
      "outputs": []
    },
    {
      "cell_type": "markdown",
      "source": [
        "### Split Train-Test - User Rating"
      ],
      "metadata": {
        "id": "NZDygjlxwXzn"
      }
    },
    {
      "cell_type": "code",
      "source": [
        "x_train_scaled, x_test_scaled, y_train, y_test = train_test_split(X_user_rating_scaled, y_user_rating, train_size = 0.8, random_state=0)\n",
        "print(f\"Train DataSet: {x_train_scaled.shape[0]} with {x_train_scaled.shape[1]} features\")\n",
        "print(f\"Test DataSet: {x_test_scaled.shape[0]} with {x_test_scaled.shape[1]} features\")"
      ],
      "metadata": {
        "id": "b2VVAEXuwXzn"
      },
      "execution_count": null,
      "outputs": []
    },
    {
      "cell_type": "markdown",
      "source": [
        "## Exploring all models - User Rating"
      ],
      "metadata": {
        "id": "MhH9faXfwXzn"
      }
    },
    {
      "cell_type": "code",
      "source": [
        "parametersOfValue = {\n",
        "    'estimator':[None], \n",
        "    'max_features': [int(math.sqrt(len(feature_names))), int(len(feature_names)/3)],\n",
        "    'n_estimators':[500],\n",
        "    'max_depth':[3,5],\n",
        "    'learning_rate':[0.01,0.001],\n",
        "    'random_state':[1]\n",
        "    }\n",
        "\n",
        "\n",
        "if skip_slow_processes==False:\n",
        "  parametersOfValue['n_estimators'] = [1000, 2000]\n",
        "  parametersOfValue['max_depth'] = [3,5,80,100]\n",
        "  parametersOfValue['learning_rate'] = [0.1,0.01]"
      ],
      "metadata": {
        "id": "UrzK9_eFwXzn"
      },
      "execution_count": null,
      "outputs": []
    },
    {
      "cell_type": "code",
      "source": [
        "models_to_use = {#'LinearRegression':LinearRegression()\n",
        "                  #,'DecisionTreeRegressor':DecisionTreeRegressor()\n",
        "                  'BaggingRegressor ':BaggingRegressor()\n",
        "                  ,'RandomForestRegressor':RandomForestRegressor()\n",
        "                  ,'AdaBoostRegressor':AdaBoostRegressor()\n",
        "                  ,'XGBRegressor ':xgb.XGBRegressor()\n",
        "                 }"
      ],
      "metadata": {
        "id": "UK70FWi3wXzn"
      },
      "execution_count": null,
      "outputs": []
    },
    {
      "cell_type": "code",
      "source": [
        "all_model_combinations_user_rating = get_all_model_combinations(models_to_use,parametersOfValue)\n",
        "all_model_combinations_user_rating"
      ],
      "metadata": {
        "id": "XgSwwQU1wXzn"
      },
      "execution_count": null,
      "outputs": []
    },
    {
      "cell_type": "code",
      "source": [
        "all_model_combinations_user_rating, dict_of_fitted_models_user_rating = run_various_models_return_results(all_model_combinations_user_rating, all_model_types)"
      ],
      "metadata": {
        "id": "CsBM_RapwXzo"
      },
      "execution_count": null,
      "outputs": []
    },
    {
      "cell_type": "code",
      "source": [
        "all_model_combinations_user_rating.sort_values(by=\"test_score_r2\", ascending=False)"
      ],
      "metadata": {
        "id": "s5YRnEjFwXzo"
      },
      "execution_count": null,
      "outputs": []
    },
    {
      "cell_type": "code",
      "source": [
        "scatterplot_model_preformence(all_model_combinations_user_rating.head(6),dict_of_fitted_models_user_rating)"
      ],
      "metadata": {
        "id": "lghHjkrewXzo"
      },
      "execution_count": null,
      "outputs": []
    },
    {
      "cell_type": "code",
      "source": [
        "best_output_user_rating = all_model_combinations_user_rating.sort_values(by=\"test_score_r2\", ascending=False).head(1)\n",
        "best_model_user_rating = output_to_fitted_model(best_output_user_rating,columns_to_run=None)\n",
        "best_model_user_rating"
      ],
      "metadata": {
        "id": "M2Op-5rMwXzo"
      },
      "execution_count": null,
      "outputs": []
    },
    {
      "cell_type": "markdown",
      "source": [
        "# Unseen Data - Prediction"
      ],
      "metadata": {
        "id": "CTeM-rayyeLT"
      }
    },
    {
      "cell_type": "code",
      "source": [
        "base_folder_path = \"/content/drive/My Drive/Harvard HW/Course 4 - Final Project\"\n",
        "file_path = os.path.join(base_folder_path,\"future_processed_dataset.csv\")\n",
        "X_future = pd.read_csv(file_path, index_col=\"movie_id\")\n",
        "X_future"
      ],
      "metadata": {
        "id": "Z5xjsjB5ygyD"
      },
      "execution_count": null,
      "outputs": []
    },
    {
      "cell_type": "code",
      "source": [
        "raw_file_path = os.path.join(base_folder_path,\"future_imdb_movie_dataset_raw.csv\")\n",
        "X_future_raw = pd.read_csv(raw_file_path, index_col=\"movie_id\")\n",
        "X_future_raw['movie_name']"
      ],
      "metadata": {
        "id": "moESc0QLVCFD"
      },
      "execution_count": null,
      "outputs": []
    },
    {
      "cell_type": "code",
      "source": [
        "col_in_order = x_train_scaled.columns"
      ],
      "metadata": {
        "id": "NXviLbLXTpLP"
      },
      "execution_count": null,
      "outputs": []
    },
    {
      "cell_type": "code",
      "source": [
        "unseen_predictions_first_week = best_model_first_week.predict(X_future[col_in_order])\n",
        "unseen_predictions_gross_rev = best_model_gross_rev.predict(X_future[col_in_order])\n",
        "unseen_predictions_metascore = best_model_metascore.predict(X_future[col_in_order])\n",
        "unseen_predictions_user_rating = best_model_user_rating.predict(X_future[col_in_order])"
      ],
      "metadata": {
        "id": "95Pq_l8SGqVJ"
      },
      "execution_count": null,
      "outputs": []
    },
    {
      "cell_type": "code",
      "source": [
        "X_future"
      ],
      "metadata": {
        "id": "Tw9ZHUypYBCF"
      },
      "execution_count": null,
      "outputs": []
    },
    {
      "cell_type": "code",
      "source": [
        "movies_to_predict = X_future[['budget_usd']].head(50).copy()\n",
        "\n",
        "for i, row in enumerate(movies_to_predict.iterrows()):\n",
        "  \n",
        "  movie_id = row[0]\n",
        "  raw_move_details = X_future_raw[X_future_raw.index==movie_id]\n",
        "  movie_name = raw_move_details['movie_name'].values[0]\n",
        "  release_year = raw_move_details['release_year'].values[0]\n",
        "  release_month = raw_move_details['release_month'].values[0]\n",
        "  rating_catg = raw_move_details['rating_catg'].values[0]\n",
        "  #print(movie_id,movie_name,release_year,release_month,rating_catg)\n",
        "\n",
        "  pred_first_week = unseen_predictions_first_week[i]\n",
        "  pred_gross_rev = unseen_predictions_gross_rev[i]\n",
        "  pred_metascore = unseen_predictions_metascore[i]\n",
        "  pred_user_rating = unseen_predictions_user_rating[i]\n",
        "\n",
        "  movies_to_predict.at[movie_id,\"movie_name\"] = movie_name\n",
        "  movies_to_predict.at[movie_id,\"release_year\"] = release_year\n",
        "  movies_to_predict.at[movie_id,\"release_month\"] = release_month\n",
        "  movies_to_predict.at[movie_id,\"rating_catg\"] = rating_catg\n",
        "  movies_to_predict.at[movie_id,\"pred_first_week\"] = np.exp(pred_first_week)\n",
        "  movies_to_predict.at[movie_id,\"pred_gross_rev\"] = pred_gross_rev#np.exp(pred_gross_rev)\n",
        "  movies_to_predict.at[movie_id,\"pred_metascore\"] = pred_metascore\n",
        "  movies_to_predict.at[movie_id,\"pred_user_rating\"] = pred_user_rating\n",
        "\n",
        "movies_to_predict.round(2)"
      ],
      "metadata": {
        "id": "SSvo2jLzTya7"
      },
      "execution_count": null,
      "outputs": []
    },
    {
      "cell_type": "code",
      "source": [],
      "metadata": {
        "id": "AkdSuVgrXAzF"
      },
      "execution_count": null,
      "outputs": []
    }
  ]
}