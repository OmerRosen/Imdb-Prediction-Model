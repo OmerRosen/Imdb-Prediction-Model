{
  "cells": [
    {
      "cell_type": "markdown",
      "metadata": {
        "id": "view-in-github",
        "colab_type": "text"
      },
      "source": [
        "<a href=\"https://colab.research.google.com/github/OmerRosen/Kaggle/blob/main/IMDB_2022_Hit_or_Flop_Model_Exploration.ipynb\" target=\"_parent\"><img src=\"https://colab.research.google.com/assets/colab-badge.svg\" alt=\"Open In Colab\"/></a>"
      ]
    },
    {
      "cell_type": "code",
      "execution_count": 1,
      "metadata": {
        "id": "uzpK6mEXhIsz"
      },
      "outputs": [],
      "source": [
        "skip_slow_processes = False\n",
        "\n",
        "base_folder_path = \"/content/drive/My Drive/Harvard HW/Course 4 - Final Project\""
      ]
    },
    {
      "cell_type": "markdown",
      "metadata": {
        "id": "fC8D1kk2wz-F"
      },
      "source": [
        "# Model Exploring - Useful Functions"
      ]
    },
    {
      "cell_type": "markdown",
      "metadata": {
        "id": "2dbf591e-265c-4b5f-afa6-8fab23c9833d"
      },
      "source": [
        "Model Exploring</b><br>\n",
        "In this section we will train and fine-turn various models to achieve the best prediction on our test dataset."
      ]
    },
    {
      "cell_type": "markdown",
      "metadata": {
        "id": "5OAfjWKUz_YY"
      },
      "source": [
        "## Importing libraries"
      ]
    },
    {
      "cell_type": "code",
      "execution_count": 2,
      "metadata": {
        "colab": {
          "base_uri": "https://localhost:8080/"
        },
        "id": "50RICTIyCLPR",
        "outputId": "45a04f7f-98bb-4825-8409-5e775fab22c7"
      },
      "outputs": [
        {
          "output_type": "stream",
          "name": "stdout",
          "text": [
            "Looking in indexes: https://pypi.org/simple, https://us-python.pkg.dev/colab-wheels/public/simple/\n",
            "Requirement already satisfied: shap in /usr/local/lib/python3.10/dist-packages (0.41.0)\n",
            "Requirement already satisfied: numpy in /usr/local/lib/python3.10/dist-packages (from shap) (1.22.4)\n",
            "Requirement already satisfied: scipy in /usr/local/lib/python3.10/dist-packages (from shap) (1.10.1)\n",
            "Requirement already satisfied: scikit-learn in /usr/local/lib/python3.10/dist-packages (from shap) (1.2.2)\n",
            "Requirement already satisfied: pandas in /usr/local/lib/python3.10/dist-packages (from shap) (1.5.3)\n",
            "Requirement already satisfied: tqdm>4.25.0 in /usr/local/lib/python3.10/dist-packages (from shap) (4.65.0)\n",
            "Requirement already satisfied: packaging>20.9 in /usr/local/lib/python3.10/dist-packages (from shap) (23.1)\n",
            "Requirement already satisfied: slicer==0.0.7 in /usr/local/lib/python3.10/dist-packages (from shap) (0.0.7)\n",
            "Requirement already satisfied: numba in /usr/local/lib/python3.10/dist-packages (from shap) (0.56.4)\n",
            "Requirement already satisfied: cloudpickle in /usr/local/lib/python3.10/dist-packages (from shap) (2.2.1)\n",
            "Requirement already satisfied: llvmlite<0.40,>=0.39.0dev0 in /usr/local/lib/python3.10/dist-packages (from numba->shap) (0.39.1)\n",
            "Requirement already satisfied: setuptools in /usr/local/lib/python3.10/dist-packages (from numba->shap) (67.7.2)\n",
            "Requirement already satisfied: python-dateutil>=2.8.1 in /usr/local/lib/python3.10/dist-packages (from pandas->shap) (2.8.2)\n",
            "Requirement already satisfied: pytz>=2020.1 in /usr/local/lib/python3.10/dist-packages (from pandas->shap) (2022.7.1)\n",
            "Requirement already satisfied: joblib>=1.1.1 in /usr/local/lib/python3.10/dist-packages (from scikit-learn->shap) (1.2.0)\n",
            "Requirement already satisfied: threadpoolctl>=2.0.0 in /usr/local/lib/python3.10/dist-packages (from scikit-learn->shap) (3.1.0)\n",
            "Requirement already satisfied: six>=1.5 in /usr/local/lib/python3.10/dist-packages (from python-dateutil>=2.8.1->pandas->shap) (1.16.0)\n"
          ]
        }
      ],
      "source": [
        "!pip install shap"
      ]
    },
    {
      "cell_type": "code",
      "execution_count": 3,
      "metadata": {
        "id": "b02c5573-7444-4cab-87ad-14093fa465bb"
      },
      "outputs": [],
      "source": [
        "import os\n",
        "import math\n",
        "import warnings\n",
        "import itertools\n",
        "from timeit import default_timer as timer\n",
        "\n",
        "import numpy as np \n",
        "import pandas as pd \n",
        "import matplotlib.pyplot as plt\n",
        "\n",
        "import requests\n",
        "from bs4 import BeautifulSoup \n",
        "import re\n",
        "import time\n",
        "import progressbar\n",
        "\n",
        "from sklearn.model_selection import cross_val_score, train_test_split,cross_validate\n",
        "from sklearn.preprocessing import OneHotEncoder\n",
        "from sklearn import preprocessing\n",
        "from sklearn.base import clone\n",
        "from sklearn.preprocessing import StandardScaler\n",
        "from sklearn.metrics import roc_curve,auc,confusion_matrix\n",
        "from sklearn.impute import KNNImputer\n",
        "\n",
        "from sklearn.ensemble import RandomForestRegressor\n",
        "from sklearn.model_selection import train_test_split\n",
        "from sklearn.metrics import mean_squared_error, r2_score\n",
        "\n",
        "\n",
        "import seaborn as sns\n",
        "import inspect\n",
        "\n",
        "\n",
        "from sklearn.linear_model import LinearRegression\n",
        "from sklearn.tree import DecisionTreeRegressor\n",
        "\n",
        "from sklearn.ensemble import BaggingClassifier\n",
        "from sklearn.ensemble import RandomForestClassifier\n",
        "from sklearn.ensemble import AdaBoostRegressor\n",
        "from sklearn.ensemble import BaggingRegressor\n",
        "\n",
        "import xgboost as xgb\n",
        "\n",
        "from sklearn.metrics import mean_squared_error\n",
        "import shap\n"
      ]
    },
    {
      "cell_type": "markdown",
      "metadata": {
        "id": "0JHrCaJ-uo1Q"
      },
      "source": [
        "# Load Processed Dataset"
      ]
    },
    {
      "cell_type": "code",
      "execution_count": 4,
      "metadata": {
        "id": "X-xfjYjz4jcq"
      },
      "outputs": [],
      "source": [
        "binary_columns = ['covid_lockdown','genere_action', 'genere_adventure', 'genere_fantasy', 'language_english', 'genere_comedy', 'language_mandarin', 'genere_horror', 'genere_thriller', 'language_spanish', 'genere_crime', 'genere_drama', 'language_russian', 'genere_history', 'language_italian', 'language_french', 'genere_romance', 'genere_mystery', 'genere_sci-fi', 'language_japanese', 'genere_animation', 'language_german', 'language_latin', 'language_arabic', 'genere_biography', 'language_hindi', 'language_chinese', 'genere_music', 'genere_sport', 'genere_family', 'genere_musical', 'genere_war', 'genere_western', 'was_budget_missing', 'rating_catg_G', 'rating_catg_PG-13', 'rating_catg_R', 'rating_catg_Unrated', 'release_month_April', 'release_month_August', 'release_month_December', 'release_month_February', 'release_month_January', 'release_month_July', 'release_month_June', 'release_month_March', 'release_month_May', 'release_month_November', 'release_month_October', 'release_month_September', 'budget_currency_CAD', 'budget_currency_GBP', 'budget_currency_USD']\n",
        "numerical_columns = ['budget_usd', 'runtime_min', 'title_length', 'movie_desc_length', 'cast_count_total', 'cast_count_director', 'cast_count_writer', 'cast_count_cast', 'cast_count_producer', 'cast_count_composer', 'cast_count_cinematographer', 'cast_count_editor', 'cast_count_casting_director', 'cast_count_production_designer', 'cast_count_art_director', 'cast_count_set_decorator', 'cast_count_costume_designer', 'cast_count_production_manager', 'cast_count_special_effects', 'cast_count_visual_effects', 'cast_count_animation_department', 'cast_count_casting_department', 'cast_count_costume_department', 'cast_count_editorial_department', 'cast_count_location_management', 'cast_count_music_department', 'cast_count_script_department', 'cast_count_transportation_department', 'cast_count_miscellaneous', 'cast_count_thanks', 'genre__count', 'language__count', 'main_crew_count', 'crew_age_avg', 'crew_age_missing', 'crew_female_count', 'crew_lgbt_count', 'crew_prestige_wins', 'crew_prestige_nominations', 'crew_awards_nominations']\n"
      ]
    },
    {
      "cell_type": "code",
      "execution_count": 5,
      "metadata": {
        "colab": {
          "base_uri": "https://localhost:8080/",
          "height": 519
        },
        "id": "XpuuC2XiurrI",
        "outputId": "e28ddee3-fd43-4012-a7ed-888875ea3e3b"
      },
      "outputs": [
        {
          "output_type": "execute_result",
          "data": {
            "text/plain": [
              "            covid_lockdown  genere_action  genere_adventure  genere_fantasy  \\\n",
              "movie_id                                                                      \n",
              "tt1630029              0.0            1.0               1.0             1.0   \n",
              "tt6710474              0.0            1.0               1.0             0.0   \n",
              "tt9764362              0.0            0.0               0.0             0.0   \n",
              "tt7888964              1.0            1.0               0.0             0.0   \n",
              "tt10640346             0.0            0.0               0.0             0.0   \n",
              "...                    ...            ...               ...             ...   \n",
              "tt5731746              0.0            1.0               0.0             1.0   \n",
              "tt10958102             1.0            0.0               0.0             0.0   \n",
              "tt17291716             0.0            0.0               0.0             0.0   \n",
              "tt12758486             0.0            0.0               0.0             0.0   \n",
              "tt10327842             0.0            0.0               0.0             0.0   \n",
              "\n",
              "            language_english  genere_comedy  language_mandarin  genere_horror  \\\n",
              "movie_id                                                                        \n",
              "tt1630029                1.0            0.0                0.0            0.0   \n",
              "tt6710474                1.0            1.0                1.0            0.0   \n",
              "tt9764362                1.0            1.0                0.0            1.0   \n",
              "tt7888964                1.0            0.0                0.0            0.0   \n",
              "tt10640346               1.0            1.0                0.0            0.0   \n",
              "...                      ...            ...                ...            ...   \n",
              "tt5731746                1.0            0.0                0.0            1.0   \n",
              "tt10958102               1.0            1.0                0.0            0.0   \n",
              "tt17291716               1.0            0.0                0.0            0.0   \n",
              "tt12758486               1.0            0.0                0.0            0.0   \n",
              "tt10327842               1.0            0.0                0.0            1.0   \n",
              "\n",
              "            genere_thriller  language_spanish  ...  release_month_November  \\\n",
              "movie_id                                       ...                           \n",
              "tt1630029               0.0               0.0  ...                       0   \n",
              "tt6710474               0.0               0.0  ...                       0   \n",
              "tt9764362               1.0               1.0  ...                       1   \n",
              "tt7888964               0.0               1.0  ...                       0   \n",
              "tt10640346              0.0               1.0  ...                       0   \n",
              "...                     ...               ...  ...                     ...   \n",
              "tt5731746               0.0               0.0  ...                       1   \n",
              "tt10958102              0.0               0.0  ...                       0   \n",
              "tt17291716              1.0               0.0  ...                       0   \n",
              "tt12758486              0.0               0.0  ...                       0   \n",
              "tt10327842              0.0               0.0  ...                       0   \n",
              "\n",
              "            release_month_October  release_month_September  \\\n",
              "movie_id                                                     \n",
              "tt1630029                       0                        0   \n",
              "tt6710474                       0                        0   \n",
              "tt9764362                       0                        0   \n",
              "tt7888964                       0                        0   \n",
              "tt10640346                      0                        0   \n",
              "...                           ...                      ...   \n",
              "tt5731746                       0                        0   \n",
              "tt10958102                      0                        0   \n",
              "tt17291716                      0                        0   \n",
              "tt12758486                      0                        0   \n",
              "tt10327842                      1                        0   \n",
              "\n",
              "            budget_currency_CAD  budget_currency_GBP  budget_currency_USD  \\\n",
              "movie_id                                                                    \n",
              "tt1630029                     0                    0                    1   \n",
              "tt6710474                     0                    0                    1   \n",
              "tt9764362                     0                    0                    1   \n",
              "tt7888964                     0                    0                    1   \n",
              "tt10640346                    0                    0                    1   \n",
              "...                         ...                  ...                  ...   \n",
              "tt5731746                     0                    0                    1   \n",
              "tt10958102                    0                    0                    1   \n",
              "tt17291716                    0                    0                    1   \n",
              "tt12758486                    0                    0                    1   \n",
              "tt10327842                    0                    0                    1   \n",
              "\n",
              "            y_opening_weekend_us_canada  y_gross_us_canada  y_metascore  \\\n",
              "movie_id                                                                  \n",
              "tt1630029                   134100226.0        683890614.0         67.0   \n",
              "tt6710474                      501305.0         77191785.0         81.0   \n",
              "tt9764362                     9004957.0         38501125.0         71.0   \n",
              "tt7888964                     6820100.0         27568035.0         64.0   \n",
              "tt10640346                    3603368.0         15351455.0         60.0   \n",
              "...                                 ...                ...          ...   \n",
              "tt5731746                           NaN                NaN          NaN   \n",
              "tt10958102                          NaN                NaN          NaN   \n",
              "tt17291716                          NaN                NaN          NaN   \n",
              "tt12758486                    1521288.0          2322053.0         67.0   \n",
              "tt10327842                          NaN                NaN         30.0   \n",
              "\n",
              "            y_user_rating  \n",
              "movie_id                   \n",
              "tt1630029             7.7  \n",
              "tt6710474             7.9  \n",
              "tt9764362             7.2  \n",
              "tt7888964             7.4  \n",
              "tt10640346            7.2  \n",
              "...                   ...  \n",
              "tt5731746             4.5  \n",
              "tt10958102            4.9  \n",
              "tt17291716            5.0  \n",
              "tt12758486            6.7  \n",
              "tt10327842            3.2  \n",
              "\n",
              "[2403 rows x 97 columns]"
            ],
            "text/html": [
              "\n",
              "  <div id=\"df-2b5459e6-6cde-4889-a9a7-b6ef471833c1\">\n",
              "    <div class=\"colab-df-container\">\n",
              "      <div>\n",
              "<style scoped>\n",
              "    .dataframe tbody tr th:only-of-type {\n",
              "        vertical-align: middle;\n",
              "    }\n",
              "\n",
              "    .dataframe tbody tr th {\n",
              "        vertical-align: top;\n",
              "    }\n",
              "\n",
              "    .dataframe thead th {\n",
              "        text-align: right;\n",
              "    }\n",
              "</style>\n",
              "<table border=\"1\" class=\"dataframe\">\n",
              "  <thead>\n",
              "    <tr style=\"text-align: right;\">\n",
              "      <th></th>\n",
              "      <th>covid_lockdown</th>\n",
              "      <th>genere_action</th>\n",
              "      <th>genere_adventure</th>\n",
              "      <th>genere_fantasy</th>\n",
              "      <th>language_english</th>\n",
              "      <th>genere_comedy</th>\n",
              "      <th>language_mandarin</th>\n",
              "      <th>genere_horror</th>\n",
              "      <th>genere_thriller</th>\n",
              "      <th>language_spanish</th>\n",
              "      <th>...</th>\n",
              "      <th>release_month_November</th>\n",
              "      <th>release_month_October</th>\n",
              "      <th>release_month_September</th>\n",
              "      <th>budget_currency_CAD</th>\n",
              "      <th>budget_currency_GBP</th>\n",
              "      <th>budget_currency_USD</th>\n",
              "      <th>y_opening_weekend_us_canada</th>\n",
              "      <th>y_gross_us_canada</th>\n",
              "      <th>y_metascore</th>\n",
              "      <th>y_user_rating</th>\n",
              "    </tr>\n",
              "    <tr>\n",
              "      <th>movie_id</th>\n",
              "      <th></th>\n",
              "      <th></th>\n",
              "      <th></th>\n",
              "      <th></th>\n",
              "      <th></th>\n",
              "      <th></th>\n",
              "      <th></th>\n",
              "      <th></th>\n",
              "      <th></th>\n",
              "      <th></th>\n",
              "      <th></th>\n",
              "      <th></th>\n",
              "      <th></th>\n",
              "      <th></th>\n",
              "      <th></th>\n",
              "      <th></th>\n",
              "      <th></th>\n",
              "      <th></th>\n",
              "      <th></th>\n",
              "      <th></th>\n",
              "      <th></th>\n",
              "    </tr>\n",
              "  </thead>\n",
              "  <tbody>\n",
              "    <tr>\n",
              "      <th>tt1630029</th>\n",
              "      <td>0.0</td>\n",
              "      <td>1.0</td>\n",
              "      <td>1.0</td>\n",
              "      <td>1.0</td>\n",
              "      <td>1.0</td>\n",
              "      <td>0.0</td>\n",
              "      <td>0.0</td>\n",
              "      <td>0.0</td>\n",
              "      <td>0.0</td>\n",
              "      <td>0.0</td>\n",
              "      <td>...</td>\n",
              "      <td>0</td>\n",
              "      <td>0</td>\n",
              "      <td>0</td>\n",
              "      <td>0</td>\n",
              "      <td>0</td>\n",
              "      <td>1</td>\n",
              "      <td>134100226.0</td>\n",
              "      <td>683890614.0</td>\n",
              "      <td>67.0</td>\n",
              "      <td>7.7</td>\n",
              "    </tr>\n",
              "    <tr>\n",
              "      <th>tt6710474</th>\n",
              "      <td>0.0</td>\n",
              "      <td>1.0</td>\n",
              "      <td>1.0</td>\n",
              "      <td>0.0</td>\n",
              "      <td>1.0</td>\n",
              "      <td>1.0</td>\n",
              "      <td>1.0</td>\n",
              "      <td>0.0</td>\n",
              "      <td>0.0</td>\n",
              "      <td>0.0</td>\n",
              "      <td>...</td>\n",
              "      <td>0</td>\n",
              "      <td>0</td>\n",
              "      <td>0</td>\n",
              "      <td>0</td>\n",
              "      <td>0</td>\n",
              "      <td>1</td>\n",
              "      <td>501305.0</td>\n",
              "      <td>77191785.0</td>\n",
              "      <td>81.0</td>\n",
              "      <td>7.9</td>\n",
              "    </tr>\n",
              "    <tr>\n",
              "      <th>tt9764362</th>\n",
              "      <td>0.0</td>\n",
              "      <td>0.0</td>\n",
              "      <td>0.0</td>\n",
              "      <td>0.0</td>\n",
              "      <td>1.0</td>\n",
              "      <td>1.0</td>\n",
              "      <td>0.0</td>\n",
              "      <td>1.0</td>\n",
              "      <td>1.0</td>\n",
              "      <td>1.0</td>\n",
              "      <td>...</td>\n",
              "      <td>1</td>\n",
              "      <td>0</td>\n",
              "      <td>0</td>\n",
              "      <td>0</td>\n",
              "      <td>0</td>\n",
              "      <td>1</td>\n",
              "      <td>9004957.0</td>\n",
              "      <td>38501125.0</td>\n",
              "      <td>71.0</td>\n",
              "      <td>7.2</td>\n",
              "    </tr>\n",
              "    <tr>\n",
              "      <th>tt7888964</th>\n",
              "      <td>1.0</td>\n",
              "      <td>1.0</td>\n",
              "      <td>0.0</td>\n",
              "      <td>0.0</td>\n",
              "      <td>1.0</td>\n",
              "      <td>0.0</td>\n",
              "      <td>0.0</td>\n",
              "      <td>0.0</td>\n",
              "      <td>0.0</td>\n",
              "      <td>1.0</td>\n",
              "      <td>...</td>\n",
              "      <td>0</td>\n",
              "      <td>0</td>\n",
              "      <td>0</td>\n",
              "      <td>0</td>\n",
              "      <td>0</td>\n",
              "      <td>1</td>\n",
              "      <td>6820100.0</td>\n",
              "      <td>27568035.0</td>\n",
              "      <td>64.0</td>\n",
              "      <td>7.4</td>\n",
              "    </tr>\n",
              "    <tr>\n",
              "      <th>tt10640346</th>\n",
              "      <td>0.0</td>\n",
              "      <td>0.0</td>\n",
              "      <td>0.0</td>\n",
              "      <td>0.0</td>\n",
              "      <td>1.0</td>\n",
              "      <td>1.0</td>\n",
              "      <td>0.0</td>\n",
              "      <td>0.0</td>\n",
              "      <td>0.0</td>\n",
              "      <td>1.0</td>\n",
              "      <td>...</td>\n",
              "      <td>0</td>\n",
              "      <td>0</td>\n",
              "      <td>0</td>\n",
              "      <td>0</td>\n",
              "      <td>0</td>\n",
              "      <td>1</td>\n",
              "      <td>3603368.0</td>\n",
              "      <td>15351455.0</td>\n",
              "      <td>60.0</td>\n",
              "      <td>7.2</td>\n",
              "    </tr>\n",
              "    <tr>\n",
              "      <th>...</th>\n",
              "      <td>...</td>\n",
              "      <td>...</td>\n",
              "      <td>...</td>\n",
              "      <td>...</td>\n",
              "      <td>...</td>\n",
              "      <td>...</td>\n",
              "      <td>...</td>\n",
              "      <td>...</td>\n",
              "      <td>...</td>\n",
              "      <td>...</td>\n",
              "      <td>...</td>\n",
              "      <td>...</td>\n",
              "      <td>...</td>\n",
              "      <td>...</td>\n",
              "      <td>...</td>\n",
              "      <td>...</td>\n",
              "      <td>...</td>\n",
              "      <td>...</td>\n",
              "      <td>...</td>\n",
              "      <td>...</td>\n",
              "      <td>...</td>\n",
              "    </tr>\n",
              "    <tr>\n",
              "      <th>tt5731746</th>\n",
              "      <td>0.0</td>\n",
              "      <td>1.0</td>\n",
              "      <td>0.0</td>\n",
              "      <td>1.0</td>\n",
              "      <td>1.0</td>\n",
              "      <td>0.0</td>\n",
              "      <td>0.0</td>\n",
              "      <td>1.0</td>\n",
              "      <td>0.0</td>\n",
              "      <td>0.0</td>\n",
              "      <td>...</td>\n",
              "      <td>1</td>\n",
              "      <td>0</td>\n",
              "      <td>0</td>\n",
              "      <td>0</td>\n",
              "      <td>0</td>\n",
              "      <td>1</td>\n",
              "      <td>NaN</td>\n",
              "      <td>NaN</td>\n",
              "      <td>NaN</td>\n",
              "      <td>4.5</td>\n",
              "    </tr>\n",
              "    <tr>\n",
              "      <th>tt10958102</th>\n",
              "      <td>1.0</td>\n",
              "      <td>0.0</td>\n",
              "      <td>0.0</td>\n",
              "      <td>0.0</td>\n",
              "      <td>1.0</td>\n",
              "      <td>1.0</td>\n",
              "      <td>0.0</td>\n",
              "      <td>0.0</td>\n",
              "      <td>0.0</td>\n",
              "      <td>0.0</td>\n",
              "      <td>...</td>\n",
              "      <td>0</td>\n",
              "      <td>0</td>\n",
              "      <td>0</td>\n",
              "      <td>0</td>\n",
              "      <td>0</td>\n",
              "      <td>1</td>\n",
              "      <td>NaN</td>\n",
              "      <td>NaN</td>\n",
              "      <td>NaN</td>\n",
              "      <td>4.9</td>\n",
              "    </tr>\n",
              "    <tr>\n",
              "      <th>tt17291716</th>\n",
              "      <td>0.0</td>\n",
              "      <td>0.0</td>\n",
              "      <td>0.0</td>\n",
              "      <td>0.0</td>\n",
              "      <td>1.0</td>\n",
              "      <td>0.0</td>\n",
              "      <td>0.0</td>\n",
              "      <td>0.0</td>\n",
              "      <td>1.0</td>\n",
              "      <td>0.0</td>\n",
              "      <td>...</td>\n",
              "      <td>0</td>\n",
              "      <td>0</td>\n",
              "      <td>0</td>\n",
              "      <td>0</td>\n",
              "      <td>0</td>\n",
              "      <td>1</td>\n",
              "      <td>NaN</td>\n",
              "      <td>NaN</td>\n",
              "      <td>NaN</td>\n",
              "      <td>5.0</td>\n",
              "    </tr>\n",
              "    <tr>\n",
              "      <th>tt12758486</th>\n",
              "      <td>0.0</td>\n",
              "      <td>0.0</td>\n",
              "      <td>0.0</td>\n",
              "      <td>0.0</td>\n",
              "      <td>1.0</td>\n",
              "      <td>0.0</td>\n",
              "      <td>0.0</td>\n",
              "      <td>0.0</td>\n",
              "      <td>0.0</td>\n",
              "      <td>0.0</td>\n",
              "      <td>...</td>\n",
              "      <td>0</td>\n",
              "      <td>0</td>\n",
              "      <td>0</td>\n",
              "      <td>0</td>\n",
              "      <td>0</td>\n",
              "      <td>1</td>\n",
              "      <td>1521288.0</td>\n",
              "      <td>2322053.0</td>\n",
              "      <td>67.0</td>\n",
              "      <td>6.7</td>\n",
              "    </tr>\n",
              "    <tr>\n",
              "      <th>tt10327842</th>\n",
              "      <td>0.0</td>\n",
              "      <td>0.0</td>\n",
              "      <td>0.0</td>\n",
              "      <td>0.0</td>\n",
              "      <td>1.0</td>\n",
              "      <td>0.0</td>\n",
              "      <td>0.0</td>\n",
              "      <td>1.0</td>\n",
              "      <td>0.0</td>\n",
              "      <td>0.0</td>\n",
              "      <td>...</td>\n",
              "      <td>0</td>\n",
              "      <td>1</td>\n",
              "      <td>0</td>\n",
              "      <td>0</td>\n",
              "      <td>0</td>\n",
              "      <td>1</td>\n",
              "      <td>NaN</td>\n",
              "      <td>NaN</td>\n",
              "      <td>30.0</td>\n",
              "      <td>3.2</td>\n",
              "    </tr>\n",
              "  </tbody>\n",
              "</table>\n",
              "<p>2403 rows × 97 columns</p>\n",
              "</div>\n",
              "      <button class=\"colab-df-convert\" onclick=\"convertToInteractive('df-2b5459e6-6cde-4889-a9a7-b6ef471833c1')\"\n",
              "              title=\"Convert this dataframe to an interactive table.\"\n",
              "              style=\"display:none;\">\n",
              "        \n",
              "  <svg xmlns=\"http://www.w3.org/2000/svg\" height=\"24px\"viewBox=\"0 0 24 24\"\n",
              "       width=\"24px\">\n",
              "    <path d=\"M0 0h24v24H0V0z\" fill=\"none\"/>\n",
              "    <path d=\"M18.56 5.44l.94 2.06.94-2.06 2.06-.94-2.06-.94-.94-2.06-.94 2.06-2.06.94zm-11 1L8.5 8.5l.94-2.06 2.06-.94-2.06-.94L8.5 2.5l-.94 2.06-2.06.94zm10 10l.94 2.06.94-2.06 2.06-.94-2.06-.94-.94-2.06-.94 2.06-2.06.94z\"/><path d=\"M17.41 7.96l-1.37-1.37c-.4-.4-.92-.59-1.43-.59-.52 0-1.04.2-1.43.59L10.3 9.45l-7.72 7.72c-.78.78-.78 2.05 0 2.83L4 21.41c.39.39.9.59 1.41.59.51 0 1.02-.2 1.41-.59l7.78-7.78 2.81-2.81c.8-.78.8-2.07 0-2.86zM5.41 20L4 18.59l7.72-7.72 1.47 1.35L5.41 20z\"/>\n",
              "  </svg>\n",
              "      </button>\n",
              "      \n",
              "  <style>\n",
              "    .colab-df-container {\n",
              "      display:flex;\n",
              "      flex-wrap:wrap;\n",
              "      gap: 12px;\n",
              "    }\n",
              "\n",
              "    .colab-df-convert {\n",
              "      background-color: #E8F0FE;\n",
              "      border: none;\n",
              "      border-radius: 50%;\n",
              "      cursor: pointer;\n",
              "      display: none;\n",
              "      fill: #1967D2;\n",
              "      height: 32px;\n",
              "      padding: 0 0 0 0;\n",
              "      width: 32px;\n",
              "    }\n",
              "\n",
              "    .colab-df-convert:hover {\n",
              "      background-color: #E2EBFA;\n",
              "      box-shadow: 0px 1px 2px rgba(60, 64, 67, 0.3), 0px 1px 3px 1px rgba(60, 64, 67, 0.15);\n",
              "      fill: #174EA6;\n",
              "    }\n",
              "\n",
              "    [theme=dark] .colab-df-convert {\n",
              "      background-color: #3B4455;\n",
              "      fill: #D2E3FC;\n",
              "    }\n",
              "\n",
              "    [theme=dark] .colab-df-convert:hover {\n",
              "      background-color: #434B5C;\n",
              "      box-shadow: 0px 1px 3px 1px rgba(0, 0, 0, 0.15);\n",
              "      filter: drop-shadow(0px 1px 2px rgba(0, 0, 0, 0.3));\n",
              "      fill: #FFFFFF;\n",
              "    }\n",
              "  </style>\n",
              "\n",
              "      <script>\n",
              "        const buttonEl =\n",
              "          document.querySelector('#df-2b5459e6-6cde-4889-a9a7-b6ef471833c1 button.colab-df-convert');\n",
              "        buttonEl.style.display =\n",
              "          google.colab.kernel.accessAllowed ? 'block' : 'none';\n",
              "\n",
              "        async function convertToInteractive(key) {\n",
              "          const element = document.querySelector('#df-2b5459e6-6cde-4889-a9a7-b6ef471833c1');\n",
              "          const dataTable =\n",
              "            await google.colab.kernel.invokeFunction('convertToInteractive',\n",
              "                                                     [key], {});\n",
              "          if (!dataTable) return;\n",
              "\n",
              "          const docLinkHtml = 'Like what you see? Visit the ' +\n",
              "            '<a target=\"_blank\" href=https://colab.research.google.com/notebooks/data_table.ipynb>data table notebook</a>'\n",
              "            + ' to learn more about interactive tables.';\n",
              "          element.innerHTML = '';\n",
              "          dataTable['output_type'] = 'display_data';\n",
              "          await google.colab.output.renderOutput(dataTable, element);\n",
              "          const docLink = document.createElement('div');\n",
              "          docLink.innerHTML = docLinkHtml;\n",
              "          element.appendChild(docLink);\n",
              "        }\n",
              "      </script>\n",
              "    </div>\n",
              "  </div>\n",
              "  "
            ]
          },
          "metadata": {},
          "execution_count": 5
        }
      ],
      "source": [
        "\n",
        "\n",
        "file_path = os.path.join(base_folder_path,\"3_processed_imdb_dataset.csv\")\n",
        "X = pd.read_csv(file_path, index_col=\"movie_id\")\n",
        "X"
      ]
    },
    {
      "cell_type": "code",
      "execution_count": 6,
      "metadata": {
        "id": "g3dLwA0f41xu"
      },
      "outputs": [],
      "source": [
        "y_opening_weekend_us_canada_raw = X['y_opening_weekend_us_canada']\n",
        "y_gross_us_canada_raw = X['y_gross_us_canada']\n",
        "y_metascore_raw = X['y_metascore'] \n",
        "y_user_rating_raw = X['y_user_rating']\n",
        "\n",
        "X_ohe_reduced = X[binary_columns+numerical_columns].copy()"
      ]
    },
    {
      "cell_type": "markdown",
      "metadata": {
        "id": "d998d520-596e-429f-af09-bd6025ddf3e1"
      },
      "source": [
        "List of models and hyper-parameters that we would like to examine:"
      ]
    },
    {
      "cell_type": "markdown",
      "metadata": {
        "id": "-SDBedR-0Uqu"
      },
      "source": [
        "## Function: Construct Hyper Parameter table:"
      ]
    },
    {
      "cell_type": "markdown",
      "metadata": {
        "id": "b63081b7-e31f-4776-868a-6b04a7acc18b"
      },
      "source": [
        "The function is meant to iterate over our list of models, match them with the hyper-parameters relevant to them and provide a row for each model-parameter-combination.:<br>"
      ]
    },
    {
      "cell_type": "code",
      "execution_count": 7,
      "metadata": {
        "id": "968679c4-dbd8-44db-9f20-85adcd23e65d"
      },
      "outputs": [],
      "source": [
        "all_model_types = {'LinearRegression':LinearRegression()\n",
        "                  ,'DecisionTreeRegressor':DecisionTreeRegressor()\n",
        "                  ,'BaggingRegressor ':BaggingRegressor()\n",
        "                  ,'RandomForestRegressor':RandomForestRegressor()\n",
        "                  ,'AdaBoostRegressor':AdaBoostRegressor()\n",
        "                  ,'XGBRegressor ':xgb.XGBRegressor()\n",
        "                 }"
      ]
    },
    {
      "cell_type": "markdown",
      "metadata": {
        "id": "0188afdc-39e8-4566-9e2b-3cf2c3aac58f"
      },
      "source": [
        "Since different models have different hyper-parameters, we have composed a list of all parameters across our models and the values for each hyper parameter we would like to explore."
      ]
    },
    {
      "cell_type": "code",
      "execution_count": 8,
      "metadata": {
        "id": "53aa82fa-379c-4841-9fa5-89129f6414f2"
      },
      "outputs": [],
      "source": [
        "parametersOfValue = {\n",
        "    'fit_intercept':[True,False],\n",
        "    'max_depth':[3,80],\n",
        "    'learning_rate':[0.01],\n",
        "    'random_state':[1],\n",
        "    'n_estimators':[300]\n",
        "    }\n",
        "\n",
        "if skip_slow_processes==False:\n",
        "  parametersOfValue['n_estimators'] = [1500]\n",
        "  parametersOfValue['max_depth'] = [3,4,5,80,100]\n",
        "  parametersOfValue['learning_rate'] = [0.1,0.01,0.001]"
      ]
    },
    {
      "cell_type": "code",
      "execution_count": 9,
      "metadata": {
        "id": "14df52d5-b62b-4c89-a8f7-b24f50177312"
      },
      "outputs": [],
      "source": [
        "# get lists and output a dict of combinations:\n",
        "\n",
        "def create_combination_dict(classifierName,parametersOfValue):\n",
        "    prop_combinations = list(itertools.product(*(parametersOfValue[Name] for Name in parametersOfValue)))\n",
        "    combinationsDict ={}\n",
        "    for i,item in enumerate(prop_combinations):\n",
        "        modelTempName = \"%s_%s\"%(classifierName,i)\n",
        "        #print(modelTempName)\n",
        "        combinationsDict[modelTempName]={'model_type':classifierName}\n",
        "        for j,colName in enumerate(parametersOfValue.keys()):\n",
        "            combinationsDict[modelTempName][colName]=item[j]\n",
        "    \n",
        "    \n",
        "    return combinationsDict"
      ]
    },
    {
      "cell_type": "markdown",
      "metadata": {
        "id": "c3c35fb9-6e4a-4669-8da0-0c9ede48197e"
      },
      "source": [
        "<br>The get_hyperparameter_combinations_per_classifier function receives a classifier and creates n rows of hyper-parameter combinations (Based on parametersOfValue list)"
      ]
    },
    {
      "cell_type": "code",
      "execution_count": 10,
      "metadata": {
        "colab": {
          "base_uri": "https://localhost:8080/",
          "height": 131
        },
        "id": "8367d298-8d17-4302-82ed-90cebe1c672e",
        "outputId": "a479eeb6-9b44-49dc-98cc-24d1a5eda59b"
      },
      "outputs": [
        {
          "output_type": "stream",
          "name": "stdout",
          "text": [
            "Model Type: LinearRegression - 2 hyper-parameter combinations\n"
          ]
        },
        {
          "output_type": "execute_result",
          "data": {
            "text/plain": [
              "                          model_type fit_intercept\n",
              "LinearRegression_0  LinearRegression          True\n",
              "LinearRegression_1  LinearRegression         False"
            ],
            "text/html": [
              "\n",
              "  <div id=\"df-8f67496d-2d89-4819-aa7d-43a37d305484\">\n",
              "    <div class=\"colab-df-container\">\n",
              "      <div>\n",
              "<style scoped>\n",
              "    .dataframe tbody tr th:only-of-type {\n",
              "        vertical-align: middle;\n",
              "    }\n",
              "\n",
              "    .dataframe tbody tr th {\n",
              "        vertical-align: top;\n",
              "    }\n",
              "\n",
              "    .dataframe thead th {\n",
              "        text-align: right;\n",
              "    }\n",
              "</style>\n",
              "<table border=\"1\" class=\"dataframe\">\n",
              "  <thead>\n",
              "    <tr style=\"text-align: right;\">\n",
              "      <th></th>\n",
              "      <th>model_type</th>\n",
              "      <th>fit_intercept</th>\n",
              "    </tr>\n",
              "  </thead>\n",
              "  <tbody>\n",
              "    <tr>\n",
              "      <th>LinearRegression_0</th>\n",
              "      <td>LinearRegression</td>\n",
              "      <td>True</td>\n",
              "    </tr>\n",
              "    <tr>\n",
              "      <th>LinearRegression_1</th>\n",
              "      <td>LinearRegression</td>\n",
              "      <td>False</td>\n",
              "    </tr>\n",
              "  </tbody>\n",
              "</table>\n",
              "</div>\n",
              "      <button class=\"colab-df-convert\" onclick=\"convertToInteractive('df-8f67496d-2d89-4819-aa7d-43a37d305484')\"\n",
              "              title=\"Convert this dataframe to an interactive table.\"\n",
              "              style=\"display:none;\">\n",
              "        \n",
              "  <svg xmlns=\"http://www.w3.org/2000/svg\" height=\"24px\"viewBox=\"0 0 24 24\"\n",
              "       width=\"24px\">\n",
              "    <path d=\"M0 0h24v24H0V0z\" fill=\"none\"/>\n",
              "    <path d=\"M18.56 5.44l.94 2.06.94-2.06 2.06-.94-2.06-.94-.94-2.06-.94 2.06-2.06.94zm-11 1L8.5 8.5l.94-2.06 2.06-.94-2.06-.94L8.5 2.5l-.94 2.06-2.06.94zm10 10l.94 2.06.94-2.06 2.06-.94-2.06-.94-.94-2.06-.94 2.06-2.06.94z\"/><path d=\"M17.41 7.96l-1.37-1.37c-.4-.4-.92-.59-1.43-.59-.52 0-1.04.2-1.43.59L10.3 9.45l-7.72 7.72c-.78.78-.78 2.05 0 2.83L4 21.41c.39.39.9.59 1.41.59.51 0 1.02-.2 1.41-.59l7.78-7.78 2.81-2.81c.8-.78.8-2.07 0-2.86zM5.41 20L4 18.59l7.72-7.72 1.47 1.35L5.41 20z\"/>\n",
              "  </svg>\n",
              "      </button>\n",
              "      \n",
              "  <style>\n",
              "    .colab-df-container {\n",
              "      display:flex;\n",
              "      flex-wrap:wrap;\n",
              "      gap: 12px;\n",
              "    }\n",
              "\n",
              "    .colab-df-convert {\n",
              "      background-color: #E8F0FE;\n",
              "      border: none;\n",
              "      border-radius: 50%;\n",
              "      cursor: pointer;\n",
              "      display: none;\n",
              "      fill: #1967D2;\n",
              "      height: 32px;\n",
              "      padding: 0 0 0 0;\n",
              "      width: 32px;\n",
              "    }\n",
              "\n",
              "    .colab-df-convert:hover {\n",
              "      background-color: #E2EBFA;\n",
              "      box-shadow: 0px 1px 2px rgba(60, 64, 67, 0.3), 0px 1px 3px 1px rgba(60, 64, 67, 0.15);\n",
              "      fill: #174EA6;\n",
              "    }\n",
              "\n",
              "    [theme=dark] .colab-df-convert {\n",
              "      background-color: #3B4455;\n",
              "      fill: #D2E3FC;\n",
              "    }\n",
              "\n",
              "    [theme=dark] .colab-df-convert:hover {\n",
              "      background-color: #434B5C;\n",
              "      box-shadow: 0px 1px 3px 1px rgba(0, 0, 0, 0.15);\n",
              "      filter: drop-shadow(0px 1px 2px rgba(0, 0, 0, 0.3));\n",
              "      fill: #FFFFFF;\n",
              "    }\n",
              "  </style>\n",
              "\n",
              "      <script>\n",
              "        const buttonEl =\n",
              "          document.querySelector('#df-8f67496d-2d89-4819-aa7d-43a37d305484 button.colab-df-convert');\n",
              "        buttonEl.style.display =\n",
              "          google.colab.kernel.accessAllowed ? 'block' : 'none';\n",
              "\n",
              "        async function convertToInteractive(key) {\n",
              "          const element = document.querySelector('#df-8f67496d-2d89-4819-aa7d-43a37d305484');\n",
              "          const dataTable =\n",
              "            await google.colab.kernel.invokeFunction('convertToInteractive',\n",
              "                                                     [key], {});\n",
              "          if (!dataTable) return;\n",
              "\n",
              "          const docLinkHtml = 'Like what you see? Visit the ' +\n",
              "            '<a target=\"_blank\" href=https://colab.research.google.com/notebooks/data_table.ipynb>data table notebook</a>'\n",
              "            + ' to learn more about interactive tables.';\n",
              "          element.innerHTML = '';\n",
              "          dataTable['output_type'] = 'display_data';\n",
              "          await google.colab.output.renderOutput(dataTable, element);\n",
              "          const docLink = document.createElement('div');\n",
              "          docLink.innerHTML = docLinkHtml;\n",
              "          element.appendChild(docLink);\n",
              "        }\n",
              "      </script>\n",
              "    </div>\n",
              "  </div>\n",
              "  "
            ]
          },
          "metadata": {},
          "execution_count": 10
        }
      ],
      "source": [
        "def get_hyperparameter_combinations_per_classifier(classifierName,regression_model,parametersOfValue):\n",
        "\n",
        "    # Extract the hyper-parameters from our selected model:\n",
        "    paramList = regression_model.get_params()\n",
        "\n",
        "    classifierParametsOfValue = {}\n",
        "    \n",
        "    # Iterate over the parameters and match them to the parameter of value list:\n",
        "    for param in paramList:\n",
        "        if param in parametersOfValue.keys():\n",
        "            classifierParametsOfValue[param]=parametersOfValue[param]\n",
        "\n",
        "    # Convert list of hyper-parameters into a dictionary of parameter-combination\n",
        "    combinationsDict_ForModel = create_combination_dict(classifierName,classifierParametsOfValue)\n",
        "\n",
        "    relevantParametersForModel = combinationsDict_ForModel[list(combinationsDict_ForModel.keys())[0]].keys()\n",
        "    print('Model Type: %s - %s hyper-parameter combinations'%(classifierName,len(combinationsDict_ForModel)))\n",
        "    \n",
        "    return combinationsDict_ForModel\n",
        "\n",
        "\n",
        "### --------------------------------------------------------------------------------------------------------------------###\n",
        "#Example run:\n",
        "\n",
        "\n",
        "classifierName,regression_model = ('LinearRegression',LinearRegression())\n",
        "combinationsDict_ForModel = get_hyperparameter_combinations_per_classifier(classifierName,regression_model,parametersOfValue=parametersOfValue)\n",
        "pd.DataFrame(combinationsDict_ForModel).T.head(10)"
      ]
    },
    {
      "cell_type": "markdown",
      "metadata": {
        "id": "299ad62f-c4ed-4f4a-8a28-0fd7c447c898"
      },
      "source": [
        "<br>We then over our list of model, and for each model retrieve a list of all available hyper-parameter combinations and append them to dictionary"
      ]
    },
    {
      "cell_type": "code",
      "execution_count": 11,
      "metadata": {
        "colab": {
          "base_uri": "https://localhost:8080/"
        },
        "id": "d62aef4f-f20c-4709-9de6-b9da3629b998",
        "outputId": "92c415ac-58ca-434b-d6ca-f68df540f03b"
      },
      "outputs": [
        {
          "output_type": "stream",
          "name": "stdout",
          "text": [
            "Model Type: LinearRegression - 2 hyper-parameter combinations\n",
            "Model Type: DecisionTreeRegressor - 5 hyper-parameter combinations\n",
            "Model Type: BaggingRegressor  - 1 hyper-parameter combinations\n",
            "Model Type: RandomForestRegressor - 5 hyper-parameter combinations\n",
            "Model Type: AdaBoostRegressor - 3 hyper-parameter combinations\n",
            "Model Type: XGBRegressor  - 15 hyper-parameter combinations\n"
          ]
        }
      ],
      "source": [
        "def get_all_model_combinations(dict_of_models,parametersOfValue):\n",
        "  all_model_combinations = {}\n",
        "\n",
        "  for classifierName,regression_model in dict_of_models.items():\n",
        "      #print(classifierName,regression_model)\n",
        "      combinationsDict_ForModel = get_hyperparameter_combinations_per_classifier(classifierName,regression_model,parametersOfValue=parametersOfValue)\n",
        "      #print(combinationsDict_ForModel)\n",
        "      all_model_combinations.update(combinationsDict_ForModel)\n",
        "\n",
        "  all_model_combinations_df = pd.DataFrame(all_model_combinations).T\n",
        "  return all_model_combinations_df\n",
        "\n",
        "all_model_combinations_df = get_all_model_combinations(all_model_types,parametersOfValue)"
      ]
    },
    {
      "cell_type": "markdown",
      "metadata": {
        "id": "7c49cf7b-749b-4b01-ad95-ff1058aa586c"
      },
      "source": [
        "<br>Our final result is a data frame containing all the model types and their hyper-parameters that we will use in our test."
      ]
    },
    {
      "cell_type": "code",
      "execution_count": 12,
      "metadata": {
        "colab": {
          "base_uri": "https://localhost:8080/",
          "height": 1000
        },
        "id": "d0faaacd-c254-42c1-9745-783ba7cd4141",
        "outputId": "1908072b-6808-4e3b-bec7-d1e28cd9128f"
      },
      "outputs": [
        {
          "output_type": "stream",
          "name": "stdout",
          "text": [
            "There are 31 different model combinations for us to test\n"
          ]
        },
        {
          "output_type": "execute_result",
          "data": {
            "text/plain": [
              "                                    model_type fit_intercept max_depth  \\\n",
              "LinearRegression_0            LinearRegression          True       NaN   \n",
              "LinearRegression_1            LinearRegression         False       NaN   \n",
              "DecisionTreeRegressor_0  DecisionTreeRegressor           NaN         3   \n",
              "DecisionTreeRegressor_1  DecisionTreeRegressor           NaN         4   \n",
              "DecisionTreeRegressor_2  DecisionTreeRegressor           NaN         5   \n",
              "DecisionTreeRegressor_3  DecisionTreeRegressor           NaN        80   \n",
              "DecisionTreeRegressor_4  DecisionTreeRegressor           NaN       100   \n",
              "BaggingRegressor _0          BaggingRegressor            NaN       NaN   \n",
              "RandomForestRegressor_0  RandomForestRegressor           NaN         3   \n",
              "RandomForestRegressor_1  RandomForestRegressor           NaN         4   \n",
              "RandomForestRegressor_2  RandomForestRegressor           NaN         5   \n",
              "RandomForestRegressor_3  RandomForestRegressor           NaN        80   \n",
              "RandomForestRegressor_4  RandomForestRegressor           NaN       100   \n",
              "AdaBoostRegressor_0          AdaBoostRegressor           NaN       NaN   \n",
              "AdaBoostRegressor_1          AdaBoostRegressor           NaN       NaN   \n",
              "AdaBoostRegressor_2          AdaBoostRegressor           NaN       NaN   \n",
              "XGBRegressor _0                  XGBRegressor            NaN         3   \n",
              "XGBRegressor _1                  XGBRegressor            NaN         4   \n",
              "XGBRegressor _2                  XGBRegressor            NaN         5   \n",
              "XGBRegressor _3                  XGBRegressor            NaN        80   \n",
              "XGBRegressor _4                  XGBRegressor            NaN       100   \n",
              "XGBRegressor _5                  XGBRegressor            NaN         3   \n",
              "XGBRegressor _6                  XGBRegressor            NaN         4   \n",
              "XGBRegressor _7                  XGBRegressor            NaN         5   \n",
              "XGBRegressor _8                  XGBRegressor            NaN        80   \n",
              "XGBRegressor _9                  XGBRegressor            NaN       100   \n",
              "XGBRegressor _10                 XGBRegressor            NaN         3   \n",
              "XGBRegressor _11                 XGBRegressor            NaN         4   \n",
              "XGBRegressor _12                 XGBRegressor            NaN         5   \n",
              "XGBRegressor _13                 XGBRegressor            NaN        80   \n",
              "XGBRegressor _14                 XGBRegressor            NaN       100   \n",
              "\n",
              "                        random_state n_estimators learning_rate  \n",
              "LinearRegression_0               NaN          NaN           NaN  \n",
              "LinearRegression_1               NaN          NaN           NaN  \n",
              "DecisionTreeRegressor_0            1          NaN           NaN  \n",
              "DecisionTreeRegressor_1            1          NaN           NaN  \n",
              "DecisionTreeRegressor_2            1          NaN           NaN  \n",
              "DecisionTreeRegressor_3            1          NaN           NaN  \n",
              "DecisionTreeRegressor_4            1          NaN           NaN  \n",
              "BaggingRegressor _0                1         1500           NaN  \n",
              "RandomForestRegressor_0            1         1500           NaN  \n",
              "RandomForestRegressor_1            1         1500           NaN  \n",
              "RandomForestRegressor_2            1         1500           NaN  \n",
              "RandomForestRegressor_3            1         1500           NaN  \n",
              "RandomForestRegressor_4            1         1500           NaN  \n",
              "AdaBoostRegressor_0                1         1500           0.1  \n",
              "AdaBoostRegressor_1                1         1500          0.01  \n",
              "AdaBoostRegressor_2                1         1500         0.001  \n",
              "XGBRegressor _0                    1         1500           0.1  \n",
              "XGBRegressor _1                    1         1500           0.1  \n",
              "XGBRegressor _2                    1         1500           0.1  \n",
              "XGBRegressor _3                    1         1500           0.1  \n",
              "XGBRegressor _4                    1         1500           0.1  \n",
              "XGBRegressor _5                    1         1500          0.01  \n",
              "XGBRegressor _6                    1         1500          0.01  \n",
              "XGBRegressor _7                    1         1500          0.01  \n",
              "XGBRegressor _8                    1         1500          0.01  \n",
              "XGBRegressor _9                    1         1500          0.01  \n",
              "XGBRegressor _10                   1         1500         0.001  \n",
              "XGBRegressor _11                   1         1500         0.001  \n",
              "XGBRegressor _12                   1         1500         0.001  \n",
              "XGBRegressor _13                   1         1500         0.001  \n",
              "XGBRegressor _14                   1         1500         0.001  "
            ],
            "text/html": [
              "\n",
              "  <div id=\"df-2a3a63d5-5c8f-4bb2-aceb-9e6a7d6c89c7\">\n",
              "    <div class=\"colab-df-container\">\n",
              "      <div>\n",
              "<style scoped>\n",
              "    .dataframe tbody tr th:only-of-type {\n",
              "        vertical-align: middle;\n",
              "    }\n",
              "\n",
              "    .dataframe tbody tr th {\n",
              "        vertical-align: top;\n",
              "    }\n",
              "\n",
              "    .dataframe thead th {\n",
              "        text-align: right;\n",
              "    }\n",
              "</style>\n",
              "<table border=\"1\" class=\"dataframe\">\n",
              "  <thead>\n",
              "    <tr style=\"text-align: right;\">\n",
              "      <th></th>\n",
              "      <th>model_type</th>\n",
              "      <th>fit_intercept</th>\n",
              "      <th>max_depth</th>\n",
              "      <th>random_state</th>\n",
              "      <th>n_estimators</th>\n",
              "      <th>learning_rate</th>\n",
              "    </tr>\n",
              "  </thead>\n",
              "  <tbody>\n",
              "    <tr>\n",
              "      <th>LinearRegression_0</th>\n",
              "      <td>LinearRegression</td>\n",
              "      <td>True</td>\n",
              "      <td>NaN</td>\n",
              "      <td>NaN</td>\n",
              "      <td>NaN</td>\n",
              "      <td>NaN</td>\n",
              "    </tr>\n",
              "    <tr>\n",
              "      <th>LinearRegression_1</th>\n",
              "      <td>LinearRegression</td>\n",
              "      <td>False</td>\n",
              "      <td>NaN</td>\n",
              "      <td>NaN</td>\n",
              "      <td>NaN</td>\n",
              "      <td>NaN</td>\n",
              "    </tr>\n",
              "    <tr>\n",
              "      <th>DecisionTreeRegressor_0</th>\n",
              "      <td>DecisionTreeRegressor</td>\n",
              "      <td>NaN</td>\n",
              "      <td>3</td>\n",
              "      <td>1</td>\n",
              "      <td>NaN</td>\n",
              "      <td>NaN</td>\n",
              "    </tr>\n",
              "    <tr>\n",
              "      <th>DecisionTreeRegressor_1</th>\n",
              "      <td>DecisionTreeRegressor</td>\n",
              "      <td>NaN</td>\n",
              "      <td>4</td>\n",
              "      <td>1</td>\n",
              "      <td>NaN</td>\n",
              "      <td>NaN</td>\n",
              "    </tr>\n",
              "    <tr>\n",
              "      <th>DecisionTreeRegressor_2</th>\n",
              "      <td>DecisionTreeRegressor</td>\n",
              "      <td>NaN</td>\n",
              "      <td>5</td>\n",
              "      <td>1</td>\n",
              "      <td>NaN</td>\n",
              "      <td>NaN</td>\n",
              "    </tr>\n",
              "    <tr>\n",
              "      <th>DecisionTreeRegressor_3</th>\n",
              "      <td>DecisionTreeRegressor</td>\n",
              "      <td>NaN</td>\n",
              "      <td>80</td>\n",
              "      <td>1</td>\n",
              "      <td>NaN</td>\n",
              "      <td>NaN</td>\n",
              "    </tr>\n",
              "    <tr>\n",
              "      <th>DecisionTreeRegressor_4</th>\n",
              "      <td>DecisionTreeRegressor</td>\n",
              "      <td>NaN</td>\n",
              "      <td>100</td>\n",
              "      <td>1</td>\n",
              "      <td>NaN</td>\n",
              "      <td>NaN</td>\n",
              "    </tr>\n",
              "    <tr>\n",
              "      <th>BaggingRegressor _0</th>\n",
              "      <td>BaggingRegressor</td>\n",
              "      <td>NaN</td>\n",
              "      <td>NaN</td>\n",
              "      <td>1</td>\n",
              "      <td>1500</td>\n",
              "      <td>NaN</td>\n",
              "    </tr>\n",
              "    <tr>\n",
              "      <th>RandomForestRegressor_0</th>\n",
              "      <td>RandomForestRegressor</td>\n",
              "      <td>NaN</td>\n",
              "      <td>3</td>\n",
              "      <td>1</td>\n",
              "      <td>1500</td>\n",
              "      <td>NaN</td>\n",
              "    </tr>\n",
              "    <tr>\n",
              "      <th>RandomForestRegressor_1</th>\n",
              "      <td>RandomForestRegressor</td>\n",
              "      <td>NaN</td>\n",
              "      <td>4</td>\n",
              "      <td>1</td>\n",
              "      <td>1500</td>\n",
              "      <td>NaN</td>\n",
              "    </tr>\n",
              "    <tr>\n",
              "      <th>RandomForestRegressor_2</th>\n",
              "      <td>RandomForestRegressor</td>\n",
              "      <td>NaN</td>\n",
              "      <td>5</td>\n",
              "      <td>1</td>\n",
              "      <td>1500</td>\n",
              "      <td>NaN</td>\n",
              "    </tr>\n",
              "    <tr>\n",
              "      <th>RandomForestRegressor_3</th>\n",
              "      <td>RandomForestRegressor</td>\n",
              "      <td>NaN</td>\n",
              "      <td>80</td>\n",
              "      <td>1</td>\n",
              "      <td>1500</td>\n",
              "      <td>NaN</td>\n",
              "    </tr>\n",
              "    <tr>\n",
              "      <th>RandomForestRegressor_4</th>\n",
              "      <td>RandomForestRegressor</td>\n",
              "      <td>NaN</td>\n",
              "      <td>100</td>\n",
              "      <td>1</td>\n",
              "      <td>1500</td>\n",
              "      <td>NaN</td>\n",
              "    </tr>\n",
              "    <tr>\n",
              "      <th>AdaBoostRegressor_0</th>\n",
              "      <td>AdaBoostRegressor</td>\n",
              "      <td>NaN</td>\n",
              "      <td>NaN</td>\n",
              "      <td>1</td>\n",
              "      <td>1500</td>\n",
              "      <td>0.1</td>\n",
              "    </tr>\n",
              "    <tr>\n",
              "      <th>AdaBoostRegressor_1</th>\n",
              "      <td>AdaBoostRegressor</td>\n",
              "      <td>NaN</td>\n",
              "      <td>NaN</td>\n",
              "      <td>1</td>\n",
              "      <td>1500</td>\n",
              "      <td>0.01</td>\n",
              "    </tr>\n",
              "    <tr>\n",
              "      <th>AdaBoostRegressor_2</th>\n",
              "      <td>AdaBoostRegressor</td>\n",
              "      <td>NaN</td>\n",
              "      <td>NaN</td>\n",
              "      <td>1</td>\n",
              "      <td>1500</td>\n",
              "      <td>0.001</td>\n",
              "    </tr>\n",
              "    <tr>\n",
              "      <th>XGBRegressor _0</th>\n",
              "      <td>XGBRegressor</td>\n",
              "      <td>NaN</td>\n",
              "      <td>3</td>\n",
              "      <td>1</td>\n",
              "      <td>1500</td>\n",
              "      <td>0.1</td>\n",
              "    </tr>\n",
              "    <tr>\n",
              "      <th>XGBRegressor _1</th>\n",
              "      <td>XGBRegressor</td>\n",
              "      <td>NaN</td>\n",
              "      <td>4</td>\n",
              "      <td>1</td>\n",
              "      <td>1500</td>\n",
              "      <td>0.1</td>\n",
              "    </tr>\n",
              "    <tr>\n",
              "      <th>XGBRegressor _2</th>\n",
              "      <td>XGBRegressor</td>\n",
              "      <td>NaN</td>\n",
              "      <td>5</td>\n",
              "      <td>1</td>\n",
              "      <td>1500</td>\n",
              "      <td>0.1</td>\n",
              "    </tr>\n",
              "    <tr>\n",
              "      <th>XGBRegressor _3</th>\n",
              "      <td>XGBRegressor</td>\n",
              "      <td>NaN</td>\n",
              "      <td>80</td>\n",
              "      <td>1</td>\n",
              "      <td>1500</td>\n",
              "      <td>0.1</td>\n",
              "    </tr>\n",
              "    <tr>\n",
              "      <th>XGBRegressor _4</th>\n",
              "      <td>XGBRegressor</td>\n",
              "      <td>NaN</td>\n",
              "      <td>100</td>\n",
              "      <td>1</td>\n",
              "      <td>1500</td>\n",
              "      <td>0.1</td>\n",
              "    </tr>\n",
              "    <tr>\n",
              "      <th>XGBRegressor _5</th>\n",
              "      <td>XGBRegressor</td>\n",
              "      <td>NaN</td>\n",
              "      <td>3</td>\n",
              "      <td>1</td>\n",
              "      <td>1500</td>\n",
              "      <td>0.01</td>\n",
              "    </tr>\n",
              "    <tr>\n",
              "      <th>XGBRegressor _6</th>\n",
              "      <td>XGBRegressor</td>\n",
              "      <td>NaN</td>\n",
              "      <td>4</td>\n",
              "      <td>1</td>\n",
              "      <td>1500</td>\n",
              "      <td>0.01</td>\n",
              "    </tr>\n",
              "    <tr>\n",
              "      <th>XGBRegressor _7</th>\n",
              "      <td>XGBRegressor</td>\n",
              "      <td>NaN</td>\n",
              "      <td>5</td>\n",
              "      <td>1</td>\n",
              "      <td>1500</td>\n",
              "      <td>0.01</td>\n",
              "    </tr>\n",
              "    <tr>\n",
              "      <th>XGBRegressor _8</th>\n",
              "      <td>XGBRegressor</td>\n",
              "      <td>NaN</td>\n",
              "      <td>80</td>\n",
              "      <td>1</td>\n",
              "      <td>1500</td>\n",
              "      <td>0.01</td>\n",
              "    </tr>\n",
              "    <tr>\n",
              "      <th>XGBRegressor _9</th>\n",
              "      <td>XGBRegressor</td>\n",
              "      <td>NaN</td>\n",
              "      <td>100</td>\n",
              "      <td>1</td>\n",
              "      <td>1500</td>\n",
              "      <td>0.01</td>\n",
              "    </tr>\n",
              "    <tr>\n",
              "      <th>XGBRegressor _10</th>\n",
              "      <td>XGBRegressor</td>\n",
              "      <td>NaN</td>\n",
              "      <td>3</td>\n",
              "      <td>1</td>\n",
              "      <td>1500</td>\n",
              "      <td>0.001</td>\n",
              "    </tr>\n",
              "    <tr>\n",
              "      <th>XGBRegressor _11</th>\n",
              "      <td>XGBRegressor</td>\n",
              "      <td>NaN</td>\n",
              "      <td>4</td>\n",
              "      <td>1</td>\n",
              "      <td>1500</td>\n",
              "      <td>0.001</td>\n",
              "    </tr>\n",
              "    <tr>\n",
              "      <th>XGBRegressor _12</th>\n",
              "      <td>XGBRegressor</td>\n",
              "      <td>NaN</td>\n",
              "      <td>5</td>\n",
              "      <td>1</td>\n",
              "      <td>1500</td>\n",
              "      <td>0.001</td>\n",
              "    </tr>\n",
              "    <tr>\n",
              "      <th>XGBRegressor _13</th>\n",
              "      <td>XGBRegressor</td>\n",
              "      <td>NaN</td>\n",
              "      <td>80</td>\n",
              "      <td>1</td>\n",
              "      <td>1500</td>\n",
              "      <td>0.001</td>\n",
              "    </tr>\n",
              "    <tr>\n",
              "      <th>XGBRegressor _14</th>\n",
              "      <td>XGBRegressor</td>\n",
              "      <td>NaN</td>\n",
              "      <td>100</td>\n",
              "      <td>1</td>\n",
              "      <td>1500</td>\n",
              "      <td>0.001</td>\n",
              "    </tr>\n",
              "  </tbody>\n",
              "</table>\n",
              "</div>\n",
              "      <button class=\"colab-df-convert\" onclick=\"convertToInteractive('df-2a3a63d5-5c8f-4bb2-aceb-9e6a7d6c89c7')\"\n",
              "              title=\"Convert this dataframe to an interactive table.\"\n",
              "              style=\"display:none;\">\n",
              "        \n",
              "  <svg xmlns=\"http://www.w3.org/2000/svg\" height=\"24px\"viewBox=\"0 0 24 24\"\n",
              "       width=\"24px\">\n",
              "    <path d=\"M0 0h24v24H0V0z\" fill=\"none\"/>\n",
              "    <path d=\"M18.56 5.44l.94 2.06.94-2.06 2.06-.94-2.06-.94-.94-2.06-.94 2.06-2.06.94zm-11 1L8.5 8.5l.94-2.06 2.06-.94-2.06-.94L8.5 2.5l-.94 2.06-2.06.94zm10 10l.94 2.06.94-2.06 2.06-.94-2.06-.94-.94-2.06-.94 2.06-2.06.94z\"/><path d=\"M17.41 7.96l-1.37-1.37c-.4-.4-.92-.59-1.43-.59-.52 0-1.04.2-1.43.59L10.3 9.45l-7.72 7.72c-.78.78-.78 2.05 0 2.83L4 21.41c.39.39.9.59 1.41.59.51 0 1.02-.2 1.41-.59l7.78-7.78 2.81-2.81c.8-.78.8-2.07 0-2.86zM5.41 20L4 18.59l7.72-7.72 1.47 1.35L5.41 20z\"/>\n",
              "  </svg>\n",
              "      </button>\n",
              "      \n",
              "  <style>\n",
              "    .colab-df-container {\n",
              "      display:flex;\n",
              "      flex-wrap:wrap;\n",
              "      gap: 12px;\n",
              "    }\n",
              "\n",
              "    .colab-df-convert {\n",
              "      background-color: #E8F0FE;\n",
              "      border: none;\n",
              "      border-radius: 50%;\n",
              "      cursor: pointer;\n",
              "      display: none;\n",
              "      fill: #1967D2;\n",
              "      height: 32px;\n",
              "      padding: 0 0 0 0;\n",
              "      width: 32px;\n",
              "    }\n",
              "\n",
              "    .colab-df-convert:hover {\n",
              "      background-color: #E2EBFA;\n",
              "      box-shadow: 0px 1px 2px rgba(60, 64, 67, 0.3), 0px 1px 3px 1px rgba(60, 64, 67, 0.15);\n",
              "      fill: #174EA6;\n",
              "    }\n",
              "\n",
              "    [theme=dark] .colab-df-convert {\n",
              "      background-color: #3B4455;\n",
              "      fill: #D2E3FC;\n",
              "    }\n",
              "\n",
              "    [theme=dark] .colab-df-convert:hover {\n",
              "      background-color: #434B5C;\n",
              "      box-shadow: 0px 1px 3px 1px rgba(0, 0, 0, 0.15);\n",
              "      filter: drop-shadow(0px 1px 2px rgba(0, 0, 0, 0.3));\n",
              "      fill: #FFFFFF;\n",
              "    }\n",
              "  </style>\n",
              "\n",
              "      <script>\n",
              "        const buttonEl =\n",
              "          document.querySelector('#df-2a3a63d5-5c8f-4bb2-aceb-9e6a7d6c89c7 button.colab-df-convert');\n",
              "        buttonEl.style.display =\n",
              "          google.colab.kernel.accessAllowed ? 'block' : 'none';\n",
              "\n",
              "        async function convertToInteractive(key) {\n",
              "          const element = document.querySelector('#df-2a3a63d5-5c8f-4bb2-aceb-9e6a7d6c89c7');\n",
              "          const dataTable =\n",
              "            await google.colab.kernel.invokeFunction('convertToInteractive',\n",
              "                                                     [key], {});\n",
              "          if (!dataTable) return;\n",
              "\n",
              "          const docLinkHtml = 'Like what you see? Visit the ' +\n",
              "            '<a target=\"_blank\" href=https://colab.research.google.com/notebooks/data_table.ipynb>data table notebook</a>'\n",
              "            + ' to learn more about interactive tables.';\n",
              "          element.innerHTML = '';\n",
              "          dataTable['output_type'] = 'display_data';\n",
              "          await google.colab.output.renderOutput(dataTable, element);\n",
              "          const docLink = document.createElement('div');\n",
              "          docLink.innerHTML = docLinkHtml;\n",
              "          element.appendChild(docLink);\n",
              "        }\n",
              "      </script>\n",
              "    </div>\n",
              "  </div>\n",
              "  "
            ]
          },
          "metadata": {},
          "execution_count": 12
        }
      ],
      "source": [
        "print(f'There are {all_model_combinations_df.shape[0]} different model combinations for us to test')\n",
        "all_model_combinations_df"
      ]
    },
    {
      "cell_type": "markdown",
      "metadata": {
        "id": "JwCu2s56B8Pl"
      },
      "source": [
        "## Function: Build and fit model for each record"
      ]
    },
    {
      "cell_type": "code",
      "execution_count": 13,
      "metadata": {
        "id": "40e645af-0d4a-434b-b930-f7e0c17ead25"
      },
      "outputs": [],
      "source": [
        "import inspect\n",
        "\n",
        "def run_various_models_return_results(all_model_combinations_df, dict_of_models, use_cross_validate = True, limit_features_list=None):\n",
        "  dict_of_fitted_models = {}\n",
        "\n",
        "  if limit_features_list is None:\n",
        "    cols_to_use = list(x_train_scaled.columns)\n",
        "  else:\n",
        "    cols_to_use = limit_features_list\n",
        "\n",
        "\n",
        "  num_of_model_combinations = all_model_combinations_df.shape[0]\n",
        "\n",
        "  for i,model_row in enumerate(all_model_combinations_df.T.items()):\n",
        "      \n",
        "      try:\n",
        "        start = timer()\n",
        "        \n",
        "        # Take existing model and set it hyper parameters based on instructions:\n",
        "        model_name = model_row[0]\n",
        "        model_type = model_row[1][0]\n",
        "        regression_model = clone(dict_of_models[model_type])\n",
        "        model_props = regression_model.get_params()\n",
        "        \n",
        "        \n",
        "        model_properties_instructions = model_row[1][1:]\n",
        "        #try:\n",
        "        #  if math.isnan(model_properties_instructions.get('estimator')):\n",
        "        #    model_properties_instructions['estimator'] = None      \n",
        "        #except:\n",
        "        #  pass\n",
        "        \n",
        "        for prop_instruction in model_properties_instructions.index:\n",
        "            if (prop_instruction in list(model_props.keys())):\n",
        "                model_props[prop_instruction]=model_properties_instructions[prop_instruction]\n",
        "                \n",
        "        regression_model.set_params(**model_props)\n",
        "        \n",
        "        #print(f\"Model Name: {model_name} - {regression_model}\")\n",
        "        if use_cross_validate == True:\n",
        "          cross_val = cross_validate(regression_model, x_train_scaled[cols_to_use], y_train, cv=3, scoring='r2', return_train_score=True)\n",
        "        \n",
        "          train_score = (np.mean(cross_val['train_score']))\n",
        "          val_score = (np.mean(cross_val['test_score']))\n",
        "        else:\n",
        "          val_score = None\n",
        "        \n",
        "        # Fit on entire training data\n",
        "        regression_model.fit(x_train_scaled[cols_to_use], y_train)\n",
        "        test_score = regression_model.score(x_test_scaled[cols_to_use],y_test)\n",
        "        train_score = regression_model.score(x_train_scaled[cols_to_use],y_train)\n",
        "\n",
        "        \n",
        "        all_model_combinations_df.at[model_name,'train_score']=train_score\n",
        "        all_model_combinations_df.at[model_name,'val_score']=val_score\n",
        "        all_model_combinations_df.at[model_name,'test_score_r2']=test_score\n",
        "        \n",
        "        yhat= regression_model.predict(x_test_scaled[cols_to_use])\n",
        "        mse = mean_squared_error(y_test, yhat)\n",
        "        all_model_combinations_df.at[model_name,'test_score_mse']=mse\n",
        "        all_model_combinations_df.at[model_name,'test_score_rmse']=np.sqrt(mse)\n",
        "            \n",
        "        \n",
        "        all_model_combinations_df.at[model_name,'train_size']=x_train_scaled.shape[0]\n",
        "        all_model_combinations_df.at[model_name,'test_size']=x_test_scaled.shape[0]\n",
        "        all_model_combinations_df.at[model_name,'feature_n']=len(cols_to_use)\n",
        "            \n",
        "        \n",
        "        end = timer()\n",
        "        run_time_secs = round(end - start,4)\n",
        "        all_model_combinations_df.at[model_name,'run_time']=run_time_secs\n",
        "        \n",
        "        print(f\"Model #{i+1} of {num_of_model_combinations}\\nModel Name: {model_name}\\nModel Props: {model_props}\\nTrain_score: {round(train_score,3)} / Test_score: {round(test_score,3)}.\\n\")\n",
        "        \n",
        "        dict_of_fitted_models[model_name] = regression_model\n",
        "      except Exception as ex:\n",
        "        print(f\"Failed to fit model. {model_row}.\\nException: {ex}\")\n",
        "        all_model_combinations_df.at[model_name,'train_score']=0\n",
        "        all_model_combinations_df.at[model_name,'val_score']=0\n",
        "        all_model_combinations_df.at[model_name,'test_score_r2']=0\n",
        "\n",
        "      \n",
        "  print(\"\\nFinished Run\")\n",
        "  return all_model_combinations_df.sort_values(by='test_score_r2', ascending=False) , dict_of_fitted_models"
      ]
    },
    {
      "cell_type": "code",
      "execution_count": 14,
      "metadata": {
        "colab": {
          "base_uri": "https://localhost:8080/"
        },
        "id": "xIG_6AT0URPo",
        "outputId": "4c2f50f5-c672-438f-ac41-250a2c48a687"
      },
      "outputs": [
        {
          "output_type": "stream",
          "name": "stdout",
          "text": [
            "The object is not NaN\n"
          ]
        }
      ],
      "source": [
        "def is_nan(obj):\n",
        "    try:\n",
        "        return math.isnan(float(obj))\n",
        "    except (TypeError, ValueError):\n",
        "        return False\n",
        "\n",
        "obj = \"not a number\"\n",
        "\n",
        "if is_nan(obj):\n",
        "    print(\"The object is NaN\")\n",
        "else:\n",
        "    print(\"The object is not NaN\")"
      ]
    },
    {
      "cell_type": "markdown",
      "metadata": {
        "id": "EkR5dXeOEKvF"
      },
      "source": [
        "## Function: Get Model's Desc"
      ]
    },
    {
      "cell_type": "code",
      "execution_count": 15,
      "metadata": {
        "id": "GqbyXgiCTQID"
      },
      "outputs": [],
      "source": [
        "def get_model_desc(model_combinations_output):\n",
        "  string = \"\"\n",
        "  output_desc=\"\"\n",
        "  count = 1\n",
        "  for key, val in model_combinations_output.items():\n",
        "    \n",
        "    cols_to_ignore = ['train_score','val_score','test_score_r2','test_score_mse','test_score_rmse','train_size','test_size','run_time','feature_n','random_state']\n",
        "    should_be_ignored = is_nan(val) or key in cols_to_ignore or val is None or val == False or val == 0\n",
        "    #print(key, val,should_be_ignored)\n",
        "    if not should_be_ignored:\n",
        "      string += f\"'{key}':{val} \"\n",
        "    \n",
        "      if count%2==0:\n",
        "        string += \"\\n\"\n",
        "      \n",
        "      count+=1\n",
        "\n",
        "    if key in ('train_score','test_score_r2'):\n",
        "      output_desc += f\"'{key}':{np.round(val,3)} \"\n",
        "\n",
        "\n",
        "  return(f\"{string}\\n{output_desc}\")"
      ]
    },
    {
      "cell_type": "code",
      "execution_count": 16,
      "metadata": {
        "id": "pCcCv6ER-pNn"
      },
      "outputs": [],
      "source": [
        "def get_model_desc_single_model(model):\n",
        "  string = \"\"\n",
        "  count = 1\n",
        "  for i, (key, val) in enumerate(model.get_params().items()):\n",
        "    \n",
        "    cols_to_ignore = ['random_state']\n",
        "    should_be_ignored = is_nan(val) or key in cols_to_ignore or val is None or val == False or val == 0\n",
        "    #print(key, val,should_be_ignored)\n",
        "    if not should_be_ignored:\n",
        "      string += f\"'{key}':{val} \"\n",
        "    \n",
        "      if count%3==0:\n",
        "        string += \"\\n\"\n",
        "      \n",
        "      count+=1\n",
        "\n",
        "  #print(string)\n",
        "  return(f\"{string}\")"
      ]
    },
    {
      "cell_type": "markdown",
      "metadata": {
        "id": "Krzi6iWEGyqG"
      },
      "source": [
        "## Function: Plot Test Results"
      ]
    },
    {
      "cell_type": "code",
      "execution_count": 17,
      "metadata": {
        "id": "CpAtsDd3G7D4"
      },
      "outputs": [],
      "source": [
        "import numpy as np\n",
        "import matplotlib.pyplot as plt\n",
        "\n",
        "def scatterplot_model_preformence(model_combinations_output, dict_of_fitted_models, plot_per_row=2):\n",
        "\n",
        "\n",
        "  n_plots = model_combinations_output.shape[0]\n",
        "  n_row = math.ceil(n_plots/plot_per_row)\n",
        "  fig, axes = plt.subplots(n_row, plot_per_row, figsize=(6 * plot_per_row,6 * n_row))\n",
        "\n",
        "  for i,model_name in enumerate(model_combinations_output.index):\n",
        "\n",
        "    fitted_model = dict_of_fitted_models[model_name] \n",
        "    model_desc = get_model_desc(model_combinations_output.loc[model_name])\n",
        "\n",
        "    fitted_model.fit(x_train_scaled, y_train.ravel())\n",
        "\n",
        "    # Make predictions\n",
        "    y_pred = fitted_model.predict(x_test_scaled)\n",
        "\n",
        "    #ax = axes[i] if n_plots > 1 else axes\n",
        "    ax = fig.add_subplot(n_row, plot_per_row,i+1)\n",
        "    ax.scatter(y_test, y_pred)\n",
        "    ax.set_title(model_desc, fontsize=13)\n",
        "    ax.set_xlabel('True values')\n",
        "    ax.set_ylabel('Predicted values')\n",
        "    \n",
        "    # Plot a diagonal line for reference\n",
        "    limits = [np.min([ax.get_xlim(), ax.get_ylim()]), np.max([ax.get_xlim(), ax.get_ylim()])]\n",
        "    \n",
        "    #ax.set_xlim(limits)\n",
        "    #ax.set_ylim(limits)\n",
        "    ax.plot(limits, limits, 'k--', alpha=0.75, zorder=0)\n",
        "    \n",
        "  plt.tight_layout()\n",
        "  plt.show()\n",
        "\n"
      ]
    },
    {
      "cell_type": "markdown",
      "metadata": {
        "id": "hWAJo2uxEW56"
      },
      "source": [
        "## Function: Get feature importance from Random Forest"
      ]
    },
    {
      "cell_type": "code",
      "execution_count": 18,
      "metadata": {
        "id": "n9yp70yEEaVw"
      },
      "outputs": [],
      "source": [
        "def get_feature_importance_random_forest(rf_model, threshold=0):\n",
        "  top_feature_dict = {col:0 for col in feature_names}\n",
        "\n",
        "  for dtree in rf_model.estimators_:\n",
        "      top_feature_Id = dtree.tree_.feature[0]\n",
        "      top_feature_name = feature_names[top_feature_Id]\n",
        "      \n",
        "      top_feature_dict[top_feature_name]+=1\n",
        "      \n",
        "  top_features_rf = pd.DataFrame(top_feature_dict, index=[\"Top Count - Random Forest\"]).head(1).T\n",
        "\n",
        "  columns_to_run = list(top_features_rf[top_features_rf['Top Count - Random Forest']>0].index)\n",
        "  return top_features_rf.sort_values([\"Top Count - Random Forest\"], ascending=False),columns_to_run"
      ]
    },
    {
      "cell_type": "markdown",
      "metadata": {
        "id": "MLI-L4sY9AHK"
      },
      "source": []
    },
    {
      "cell_type": "markdown",
      "metadata": {
        "id": "m9wzrrWv1jaX"
      },
      "source": [
        "## Function - Return fitted model from output"
      ]
    },
    {
      "cell_type": "code",
      "execution_count": 19,
      "metadata": {
        "id": "RPdZefXk1nQI"
      },
      "outputs": [],
      "source": [
        "def output_to_fitted_model(selected_output,columns_to_run=None):\n",
        "  model_name = selected_output.head(1).index[0]\n",
        "  _,model_dict = run_various_models_return_results(selected_output, all_model_types, use_cross_validate=False, limit_features_list=columns_to_run)\n",
        "  trained_model = model_dict[model_name]\n",
        "\n",
        "  return trained_model"
      ]
    },
    {
      "cell_type": "markdown",
      "source": [
        "## Function: Use Scaler on Unseen Data"
      ],
      "metadata": {
        "id": "7eiPlG1DuJ8E"
      }
    },
    {
      "cell_type": "code",
      "source": [
        "def use_scalar_on_unseen_data(scalar, X):\n",
        "  X_scaled = pd.DataFrame(scalar.transform(X[numerical_columns]),columns=numerical_columns, index=X.index)\n",
        "\n",
        "  # Reintroduce Binary Columns:\n",
        "  for binary_col in binary_columns:\n",
        "    bin_s = X[binary_col]\n",
        "    X_scaled[binary_col] = bin_s\n",
        "\n",
        "  feature_names = X_scaled.columns\n",
        "  X_scaled"
      ],
      "metadata": {
        "id": "JLZIaWawuJPQ"
      },
      "execution_count": 20,
      "outputs": []
    },
    {
      "cell_type": "markdown",
      "metadata": {
        "id": "rpKvCCXfEgNd"
      },
      "source": [
        "# First Week USD"
      ]
    },
    {
      "cell_type": "markdown",
      "metadata": {
        "id": "P5cnXg64GmGR"
      },
      "source": [
        "## Data Preparing"
      ]
    },
    {
      "cell_type": "markdown",
      "metadata": {
        "id": "PIZYl96acnUN"
      },
      "source": [
        "### Filter Missing Ys - Opening Week"
      ]
    },
    {
      "cell_type": "code",
      "execution_count": 21,
      "metadata": {
        "colab": {
          "base_uri": "https://localhost:8080/"
        },
        "id": "rghJs1CHxvpc",
        "outputId": "9519a23d-0a15-4e71-89ca-8d2afacd4f46"
      },
      "outputs": [
        {
          "output_type": "stream",
          "name": "stdout",
          "text": [
            "Only 643 out of 2403 records had Opening Week Revenue and will be kept\n"
          ]
        }
      ],
      "source": [
        "minimum_threshold_to_filter_out = 70000\n",
        "opening_week_na_mask = np.logical_or(y_opening_weekend_us_canada_raw.isna(), y_opening_weekend_us_canada_raw < minimum_threshold_to_filter_out)\n",
        "y_opening_week = y_opening_weekend_us_canada_raw[~opening_week_na_mask].copy()\n",
        "y_opening_week_log = np.log(y_opening_week)\n",
        "X_opening_week = X_ohe_reduced[~opening_week_na_mask].copy()\n",
        "#X_opening_week.shape,y_opening_week.shape\n",
        "print(f\"Only {len(y_opening_week)} out of {len(opening_week_na_mask)} records had Opening Week Revenue and will be kept\")"
      ]
    },
    {
      "cell_type": "code",
      "execution_count": 22,
      "metadata": {
        "colab": {
          "base_uri": "https://localhost:8080/",
          "height": 872
        },
        "id": "aHHSwEH-HZF0",
        "outputId": "ea89399f-66fd-4f02-f991-9cff1c823528"
      },
      "outputs": [
        {
          "output_type": "display_data",
          "data": {
            "text/plain": [
              "<Figure size 2000x1000 with 2 Axes>"
            ],
            "image/png": "[encoded data removed]"
          },
          "metadata": {}
        }
      ],
      "source": [
        "# Create figure and axis objects\n",
        "fig = plt.gcf()\n",
        "fig.set_size_inches(20,10)\n",
        "\n",
        "# Histogram\n",
        "ax1 = fig.add_subplot(1,2,1)\n",
        "ax1.hist(y_opening_week, bins=10, color='purple')\n",
        "ax1.set_xlabel('Opening Week')\n",
        "ax1.set_ylabel('Frequency')\n",
        "ax1.set_title('Histogram of Opening Week USD')\n",
        "\n",
        "\n",
        "# Box plot\n",
        "ax2 = fig.add_subplot(1,2,2)\n",
        "sns.boxplot(y=y_opening_week, color='orange', ax=ax2)\n",
        "ax2.set_title('Box Plot of Opening Week USD')\n",
        "ax2.set_ylabel('Opening Week USD')\n",
        "\n",
        "# Show plot\n",
        "plt.show()"
      ]
    },
    {
      "cell_type": "code",
      "execution_count": 23,
      "metadata": {
        "colab": {
          "base_uri": "https://localhost:8080/",
          "height": 872
        },
        "id": "WKpfv2h8HcIP",
        "outputId": "920f76fe-5625-4135-a29d-cb48710deee5"
      },
      "outputs": [
        {
          "output_type": "display_data",
          "data": {
            "text/plain": [
              "<Figure size 2000x1000 with 2 Axes>"
            ],
            "image/png": "[encoded data removed]"
          },
          "metadata": {}
        }
      ],
      "source": [
        "# Create figure and axis objects\n",
        "fig = plt.gcf()\n",
        "fig.set_size_inches(20,10)\n",
        "# Histogram\n",
        "ax1 = fig.add_subplot(1,2,1)\n",
        "ax1.hist(y_opening_week_log, bins=10, color='purple')\n",
        "ax1.set_xlabel('Opening Week')\n",
        "ax1.set_ylabel('Frequency')\n",
        "ax1.set_title('Histogram of Opening Week USD (Log)')\n",
        "\n",
        "\n",
        "# Box plot\n",
        "ax2 = fig.add_subplot(1,2,2)\n",
        "sns.boxplot(y=y_opening_week_log, color='orange', ax=ax2)\n",
        "ax2.set_title('Box Plot of Opening Week USD (Log)')\n",
        "ax2.set_ylabel('Opening Week USD (Log)')\n",
        "\n",
        "# Show plot\n",
        "plt.show()"
      ]
    },
    {
      "cell_type": "markdown",
      "metadata": {
        "id": "2vTObUyHc33Q"
      },
      "source": [
        "### Scale Data - Opening Week"
      ]
    },
    {
      "cell_type": "code",
      "execution_count": 24,
      "metadata": {
        "colab": {
          "base_uri": "https://localhost:8080/",
          "height": 519
        },
        "id": "yPAH1rls_QBW",
        "outputId": "42e5f7e7-99f4-47ca-a8fb-29152698cbb1"
      },
      "outputs": [
        {
          "output_type": "execute_result",
          "data": {
            "text/plain": [
              "            budget_usd  runtime_min  title_length  movie_desc_length  \\\n",
              "movie_id                                                               \n",
              "tt1630029     5.360949     4.586336      1.469120           1.572621   \n",
              "tt6710474    -0.534471     1.597223      1.469120           0.525473   \n",
              "tt9764362    -0.170946    -0.207525     -0.416397          -0.056275   \n",
              "tt7888964    -0.504616    -1.053500     -1.044903           0.525473   \n",
              "tt10640346    0.584201     4.417140     -1.044903           0.176424   \n",
              "...                ...          ...           ...                ...   \n",
              "tt6512428    -0.738185     0.469255     -1.044903           1.339921   \n",
              "tt7374952    -0.645109    -0.151127     -0.416397          -0.405324   \n",
              "tt6862538    -0.715158    -0.940704     -0.416397           0.990872   \n",
              "tt10765852   -0.755445     2.217604      2.726132          -1.103422   \n",
              "tt12758486   -0.589404    -0.151127     -1.044903           1.456271   \n",
              "\n",
              "            cast_count_total  cast_count_director  cast_count_writer  \\\n",
              "movie_id                                                               \n",
              "tt1630029           2.172935            -0.288797           1.753594   \n",
              "tt6710474          -0.209125             2.524783          -0.640378   \n",
              "tt9764362          -0.430813            -0.288797          -0.640378   \n",
              "tt7888964          -0.290266            -0.288797          -0.982375   \n",
              "tt10640346          0.522590            -0.288797          -0.982375   \n",
              "...                      ...                  ...                ...   \n",
              "tt6512428          -0.758274            -0.288797          -0.298382   \n",
              "tt7374952          -0.690174            -0.288797          -0.298382   \n",
              "tt6862538          -0.845211            -0.288797           0.727606   \n",
              "tt10765852         -0.982860            -0.288797          -1.324371   \n",
              "tt12758486         -0.661195            -0.288797          -0.982375   \n",
              "\n",
              "            cast_count_cast  cast_count_producer  cast_count_composer  ...  \\\n",
              "movie_id                                                               ...   \n",
              "tt1630029         -0.011573            -0.906072            -0.305169  ...   \n",
              "tt6710474         -0.503710             0.254238            -0.305169  ...   \n",
              "tt9764362         -0.661194            -0.648226            -0.305169  ...   \n",
              "tt7888964         -0.090315            -0.261456            -0.305169  ...   \n",
              "tt10640346         7.508293             0.125314            -0.305169  ...   \n",
              "...                     ...                  ...                  ...  ...   \n",
              "tt6512428         -0.424968            -0.519302            -0.305169  ...   \n",
              "tt7374952         -0.484025             0.769931            -0.305169  ...   \n",
              "tt6862538         -0.484025             1.027777            -0.305169  ...   \n",
              "tt10765852        -1.212389            -1.421765            -2.139036  ...   \n",
              "tt12758486        -0.720251            -0.261456            -0.305169  ...   \n",
              "\n",
              "            release_month_July  release_month_June  release_month_March  \\\n",
              "movie_id                                                                  \n",
              "tt1630029                    0                   0                    0   \n",
              "tt6710474                    0                   0                    0   \n",
              "tt9764362                    0                   0                    0   \n",
              "tt7888964                    0                   0                    1   \n",
              "tt10640346                   0                   0                    0   \n",
              "...                        ...                 ...                  ...   \n",
              "tt6512428                    0                   0                    0   \n",
              "tt7374952                    0                   0                    0   \n",
              "tt6862538                    0                   0                    0   \n",
              "tt10765852                   0                   0                    0   \n",
              "tt12758486                   0                   0                    0   \n",
              "\n",
              "            release_month_May  release_month_November  release_month_October  \\\n",
              "movie_id                                                                       \n",
              "tt1630029                   0                       0                      0   \n",
              "tt6710474                   0                       0                      0   \n",
              "tt9764362                   0                       1                      0   \n",
              "tt7888964                   0                       0                      0   \n",
              "tt10640346                  0                       0                      0   \n",
              "...                       ...                     ...                    ...   \n",
              "tt6512428                   0                       0                      1   \n",
              "tt7374952                   1                       0                      0   \n",
              "tt6862538                   0                       0                      1   \n",
              "tt10765852                  0                       0                      1   \n",
              "tt12758486                  0                       0                      0   \n",
              "\n",
              "            release_month_September  budget_currency_CAD  budget_currency_GBP  \\\n",
              "movie_id                                                                        \n",
              "tt1630029                         0                    0                    0   \n",
              "tt6710474                         0                    0                    0   \n",
              "tt9764362                         0                    0                    0   \n",
              "tt7888964                         0                    0                    0   \n",
              "tt10640346                        0                    0                    0   \n",
              "...                             ...                  ...                  ...   \n",
              "tt6512428                         0                    0                    0   \n",
              "tt7374952                         0                    0                    0   \n",
              "tt6862538                         0                    0                    0   \n",
              "tt10765852                        0                    0                    0   \n",
              "tt12758486                        0                    0                    0   \n",
              "\n",
              "            budget_currency_USD  \n",
              "movie_id                         \n",
              "tt1630029                     1  \n",
              "tt6710474                     1  \n",
              "tt9764362                     1  \n",
              "tt7888964                     1  \n",
              "tt10640346                    1  \n",
              "...                         ...  \n",
              "tt6512428                     1  \n",
              "tt7374952                     1  \n",
              "tt6862538                     1  \n",
              "tt10765852                    1  \n",
              "tt12758486                    1  \n",
              "\n",
              "[643 rows x 93 columns]"
            ],
            "text/html": [
              "\n",
              "  <div id=\"df-b1710b9f-4987-4627-bb1f-662c7e85675f\">\n",
              "    <div class=\"colab-df-container\">\n",
              "      <div>\n",
              "<style scoped>\n",
              "    .dataframe tbody tr th:only-of-type {\n",
              "        vertical-align: middle;\n",
              "    }\n",
              "\n",
              "    .dataframe tbody tr th {\n",
              "        vertical-align: top;\n",
              "    }\n",
              "\n",
              "    .dataframe thead th {\n",
              "        text-align: right;\n",
              "    }\n",
              "</style>\n",
              "<table border=\"1\" class=\"dataframe\">\n",
              "  <thead>\n",
              "    <tr style=\"text-align: right;\">\n",
              "      <th></th>\n",
              "      <th>budget_usd</th>\n",
              "      <th>runtime_min</th>\n",
              "      <th>title_length</th>\n",
              "      <th>movie_desc_length</th>\n",
              "      <th>cast_count_total</th>\n",
              "      <th>cast_count_director</th>\n",
              "      <th>cast_count_writer</th>\n",
              "      <th>cast_count_cast</th>\n",
              "      <th>cast_count_producer</th>\n",
              "      <th>cast_count_composer</th>\n",
              "      <th>...</th>\n",
              "      <th>release_month_July</th>\n",
              "      <th>release_month_June</th>\n",
              "      <th>release_month_March</th>\n",
              "      <th>release_month_May</th>\n",
              "      <th>release_month_November</th>\n",
              "      <th>release_month_October</th>\n",
              "      <th>release_month_September</th>\n",
              "      <th>budget_currency_CAD</th>\n",
              "      <th>budget_currency_GBP</th>\n",
              "      <th>budget_currency_USD</th>\n",
              "    </tr>\n",
              "    <tr>\n",
              "      <th>movie_id</th>\n",
              "      <th></th>\n",
              "      <th></th>\n",
              "      <th></th>\n",
              "      <th></th>\n",
              "      <th></th>\n",
              "      <th></th>\n",
              "      <th></th>\n",
              "      <th></th>\n",
              "      <th></th>\n",
              "      <th></th>\n",
              "      <th></th>\n",
              "      <th></th>\n",
              "      <th></th>\n",
              "      <th></th>\n",
              "      <th></th>\n",
              "      <th></th>\n",
              "      <th></th>\n",
              "      <th></th>\n",
              "      <th></th>\n",
              "      <th></th>\n",
              "      <th></th>\n",
              "    </tr>\n",
              "  </thead>\n",
              "  <tbody>\n",
              "    <tr>\n",
              "      <th>tt1630029</th>\n",
              "      <td>5.360949</td>\n",
              "      <td>4.586336</td>\n",
              "      <td>1.469120</td>\n",
              "      <td>1.572621</td>\n",
              "      <td>2.172935</td>\n",
              "      <td>-0.288797</td>\n",
              "      <td>1.753594</td>\n",
              "      <td>-0.011573</td>\n",
              "      <td>-0.906072</td>\n",
              "      <td>-0.305169</td>\n",
              "      <td>...</td>\n",
              "      <td>0</td>\n",
              "      <td>0</td>\n",
              "      <td>0</td>\n",
              "      <td>0</td>\n",
              "      <td>0</td>\n",
              "      <td>0</td>\n",
              "      <td>0</td>\n",
              "      <td>0</td>\n",
              "      <td>0</td>\n",
              "      <td>1</td>\n",
              "    </tr>\n",
              "    <tr>\n",
              "      <th>tt6710474</th>\n",
              "      <td>-0.534471</td>\n",
              "      <td>1.597223</td>\n",
              "      <td>1.469120</td>\n",
              "      <td>0.525473</td>\n",
              "      <td>-0.209125</td>\n",
              "      <td>2.524783</td>\n",
              "      <td>-0.640378</td>\n",
              "      <td>-0.503710</td>\n",
              "      <td>0.254238</td>\n",
              "      <td>-0.305169</td>\n",
              "      <td>...</td>\n",
              "      <td>0</td>\n",
              "      <td>0</td>\n",
              "      <td>0</td>\n",
              "      <td>0</td>\n",
              "      <td>0</td>\n",
              "      <td>0</td>\n",
              "      <td>0</td>\n",
              "      <td>0</td>\n",
              "      <td>0</td>\n",
              "      <td>1</td>\n",
              "    </tr>\n",
              "    <tr>\n",
              "      <th>tt9764362</th>\n",
              "      <td>-0.170946</td>\n",
              "      <td>-0.207525</td>\n",
              "      <td>-0.416397</td>\n",
              "      <td>-0.056275</td>\n",
              "      <td>-0.430813</td>\n",
              "      <td>-0.288797</td>\n",
              "      <td>-0.640378</td>\n",
              "      <td>-0.661194</td>\n",
              "      <td>-0.648226</td>\n",
              "      <td>-0.305169</td>\n",
              "      <td>...</td>\n",
              "      <td>0</td>\n",
              "      <td>0</td>\n",
              "      <td>0</td>\n",
              "      <td>0</td>\n",
              "      <td>1</td>\n",
              "      <td>0</td>\n",
              "      <td>0</td>\n",
              "      <td>0</td>\n",
              "      <td>0</td>\n",
              "      <td>1</td>\n",
              "    </tr>\n",
              "    <tr>\n",
              "      <th>tt7888964</th>\n",
              "      <td>-0.504616</td>\n",
              "      <td>-1.053500</td>\n",
              "      <td>-1.044903</td>\n",
              "      <td>0.525473</td>\n",
              "      <td>-0.290266</td>\n",
              "      <td>-0.288797</td>\n",
              "      <td>-0.982375</td>\n",
              "      <td>-0.090315</td>\n",
              "      <td>-0.261456</td>\n",
              "      <td>-0.305169</td>\n",
              "      <td>...</td>\n",
              "      <td>0</td>\n",
              "      <td>0</td>\n",
              "      <td>1</td>\n",
              "      <td>0</td>\n",
              "      <td>0</td>\n",
              "      <td>0</td>\n",
              "      <td>0</td>\n",
              "      <td>0</td>\n",
              "      <td>0</td>\n",
              "      <td>1</td>\n",
              "    </tr>\n",
              "    <tr>\n",
              "      <th>tt10640346</th>\n",
              "      <td>0.584201</td>\n",
              "      <td>4.417140</td>\n",
              "      <td>-1.044903</td>\n",
              "      <td>0.176424</td>\n",
              "      <td>0.522590</td>\n",
              "      <td>-0.288797</td>\n",
              "      <td>-0.982375</td>\n",
              "      <td>7.508293</td>\n",
              "      <td>0.125314</td>\n",
              "      <td>-0.305169</td>\n",
              "      <td>...</td>\n",
              "      <td>0</td>\n",
              "      <td>0</td>\n",
              "      <td>0</td>\n",
              "      <td>0</td>\n",
              "      <td>0</td>\n",
              "      <td>0</td>\n",
              "      <td>0</td>\n",
              "      <td>0</td>\n",
              "      <td>0</td>\n",
              "      <td>1</td>\n",
              "    </tr>\n",
              "    <tr>\n",
              "      <th>...</th>\n",
              "      <td>...</td>\n",
              "      <td>...</td>\n",
              "      <td>...</td>\n",
              "      <td>...</td>\n",
              "      <td>...</td>\n",
              "      <td>...</td>\n",
              "      <td>...</td>\n",
              "      <td>...</td>\n",
              "      <td>...</td>\n",
              "      <td>...</td>\n",
              "      <td>...</td>\n",
              "      <td>...</td>\n",
              "      <td>...</td>\n",
              "      <td>...</td>\n",
              "      <td>...</td>\n",
              "      <td>...</td>\n",
              "      <td>...</td>\n",
              "      <td>...</td>\n",
              "      <td>...</td>\n",
              "      <td>...</td>\n",
              "      <td>...</td>\n",
              "    </tr>\n",
              "    <tr>\n",
              "      <th>tt6512428</th>\n",
              "      <td>-0.738185</td>\n",
              "      <td>0.469255</td>\n",
              "      <td>-1.044903</td>\n",
              "      <td>1.339921</td>\n",
              "      <td>-0.758274</td>\n",
              "      <td>-0.288797</td>\n",
              "      <td>-0.298382</td>\n",
              "      <td>-0.424968</td>\n",
              "      <td>-0.519302</td>\n",
              "      <td>-0.305169</td>\n",
              "      <td>...</td>\n",
              "      <td>0</td>\n",
              "      <td>0</td>\n",
              "      <td>0</td>\n",
              "      <td>0</td>\n",
              "      <td>0</td>\n",
              "      <td>1</td>\n",
              "      <td>0</td>\n",
              "      <td>0</td>\n",
              "      <td>0</td>\n",
              "      <td>1</td>\n",
              "    </tr>\n",
              "    <tr>\n",
              "      <th>tt7374952</th>\n",
              "      <td>-0.645109</td>\n",
              "      <td>-0.151127</td>\n",
              "      <td>-0.416397</td>\n",
              "      <td>-0.405324</td>\n",
              "      <td>-0.690174</td>\n",
              "      <td>-0.288797</td>\n",
              "      <td>-0.298382</td>\n",
              "      <td>-0.484025</td>\n",
              "      <td>0.769931</td>\n",
              "      <td>-0.305169</td>\n",
              "      <td>...</td>\n",
              "      <td>0</td>\n",
              "      <td>0</td>\n",
              "      <td>0</td>\n",
              "      <td>1</td>\n",
              "      <td>0</td>\n",
              "      <td>0</td>\n",
              "      <td>0</td>\n",
              "      <td>0</td>\n",
              "      <td>0</td>\n",
              "      <td>1</td>\n",
              "    </tr>\n",
              "    <tr>\n",
              "      <th>tt6862538</th>\n",
              "      <td>-0.715158</td>\n",
              "      <td>-0.940704</td>\n",
              "      <td>-0.416397</td>\n",
              "      <td>0.990872</td>\n",
              "      <td>-0.845211</td>\n",
              "      <td>-0.288797</td>\n",
              "      <td>0.727606</td>\n",
              "      <td>-0.484025</td>\n",
              "      <td>1.027777</td>\n",
              "      <td>-0.305169</td>\n",
              "      <td>...</td>\n",
              "      <td>0</td>\n",
              "      <td>0</td>\n",
              "      <td>0</td>\n",
              "      <td>0</td>\n",
              "      <td>0</td>\n",
              "      <td>1</td>\n",
              "      <td>0</td>\n",
              "      <td>0</td>\n",
              "      <td>0</td>\n",
              "      <td>1</td>\n",
              "    </tr>\n",
              "    <tr>\n",
              "      <th>tt10765852</th>\n",
              "      <td>-0.755445</td>\n",
              "      <td>2.217604</td>\n",
              "      <td>2.726132</td>\n",
              "      <td>-1.103422</td>\n",
              "      <td>-0.982860</td>\n",
              "      <td>-0.288797</td>\n",
              "      <td>-1.324371</td>\n",
              "      <td>-1.212389</td>\n",
              "      <td>-1.421765</td>\n",
              "      <td>-2.139036</td>\n",
              "      <td>...</td>\n",
              "      <td>0</td>\n",
              "      <td>0</td>\n",
              "      <td>0</td>\n",
              "      <td>0</td>\n",
              "      <td>0</td>\n",
              "      <td>1</td>\n",
              "      <td>0</td>\n",
              "      <td>0</td>\n",
              "      <td>0</td>\n",
              "      <td>1</td>\n",
              "    </tr>\n",
              "    <tr>\n",
              "      <th>tt12758486</th>\n",
              "      <td>-0.589404</td>\n",
              "      <td>-0.151127</td>\n",
              "      <td>-1.044903</td>\n",
              "      <td>1.456271</td>\n",
              "      <td>-0.661195</td>\n",
              "      <td>-0.288797</td>\n",
              "      <td>-0.982375</td>\n",
              "      <td>-0.720251</td>\n",
              "      <td>-0.261456</td>\n",
              "      <td>-0.305169</td>\n",
              "      <td>...</td>\n",
              "      <td>0</td>\n",
              "      <td>0</td>\n",
              "      <td>0</td>\n",
              "      <td>0</td>\n",
              "      <td>0</td>\n",
              "      <td>0</td>\n",
              "      <td>0</td>\n",
              "      <td>0</td>\n",
              "      <td>0</td>\n",
              "      <td>1</td>\n",
              "    </tr>\n",
              "  </tbody>\n",
              "</table>\n",
              "<p>643 rows × 93 columns</p>\n",
              "</div>\n",
              "      <button class=\"colab-df-convert\" onclick=\"convertToInteractive('df-b1710b9f-4987-4627-bb1f-662c7e85675f')\"\n",
              "              title=\"Convert this dataframe to an interactive table.\"\n",
              "              style=\"display:none;\">\n",
              "        \n",
              "  <svg xmlns=\"http://www.w3.org/2000/svg\" height=\"24px\"viewBox=\"0 0 24 24\"\n",
              "       width=\"24px\">\n",
              "    <path d=\"M0 0h24v24H0V0z\" fill=\"none\"/>\n",
              "    <path d=\"M18.56 5.44l.94 2.06.94-2.06 2.06-.94-2.06-.94-.94-2.06-.94 2.06-2.06.94zm-11 1L8.5 8.5l.94-2.06 2.06-.94-2.06-.94L8.5 2.5l-.94 2.06-2.06.94zm10 10l.94 2.06.94-2.06 2.06-.94-2.06-.94-.94-2.06-.94 2.06-2.06.94z\"/><path d=\"M17.41 7.96l-1.37-1.37c-.4-.4-.92-.59-1.43-.59-.52 0-1.04.2-1.43.59L10.3 9.45l-7.72 7.72c-.78.78-.78 2.05 0 2.83L4 21.41c.39.39.9.59 1.41.59.51 0 1.02-.2 1.41-.59l7.78-7.78 2.81-2.81c.8-.78.8-2.07 0-2.86zM5.41 20L4 18.59l7.72-7.72 1.47 1.35L5.41 20z\"/>\n",
              "  </svg>\n",
              "      </button>\n",
              "      \n",
              "  <style>\n",
              "    .colab-df-container {\n",
              "      display:flex;\n",
              "      flex-wrap:wrap;\n",
              "      gap: 12px;\n",
              "    }\n",
              "\n",
              "    .colab-df-convert {\n",
              "      background-color: #E8F0FE;\n",
              "      border: none;\n",
              "      border-radius: 50%;\n",
              "      cursor: pointer;\n",
              "      display: none;\n",
              "      fill: #1967D2;\n",
              "      height: 32px;\n",
              "      padding: 0 0 0 0;\n",
              "      width: 32px;\n",
              "    }\n",
              "\n",
              "    .colab-df-convert:hover {\n",
              "      background-color: #E2EBFA;\n",
              "      box-shadow: 0px 1px 2px rgba(60, 64, 67, 0.3), 0px 1px 3px 1px rgba(60, 64, 67, 0.15);\n",
              "      fill: #174EA6;\n",
              "    }\n",
              "\n",
              "    [theme=dark] .colab-df-convert {\n",
              "      background-color: #3B4455;\n",
              "      fill: #D2E3FC;\n",
              "    }\n",
              "\n",
              "    [theme=dark] .colab-df-convert:hover {\n",
              "      background-color: #434B5C;\n",
              "      box-shadow: 0px 1px 3px 1px rgba(0, 0, 0, 0.15);\n",
              "      filter: drop-shadow(0px 1px 2px rgba(0, 0, 0, 0.3));\n",
              "      fill: #FFFFFF;\n",
              "    }\n",
              "  </style>\n",
              "\n",
              "      <script>\n",
              "        const buttonEl =\n",
              "          document.querySelector('#df-b1710b9f-4987-4627-bb1f-662c7e85675f button.colab-df-convert');\n",
              "        buttonEl.style.display =\n",
              "          google.colab.kernel.accessAllowed ? 'block' : 'none';\n",
              "\n",
              "        async function convertToInteractive(key) {\n",
              "          const element = document.querySelector('#df-b1710b9f-4987-4627-bb1f-662c7e85675f');\n",
              "          const dataTable =\n",
              "            await google.colab.kernel.invokeFunction('convertToInteractive',\n",
              "                                                     [key], {});\n",
              "          if (!dataTable) return;\n",
              "\n",
              "          const docLinkHtml = 'Like what you see? Visit the ' +\n",
              "            '<a target=\"_blank\" href=https://colab.research.google.com/notebooks/data_table.ipynb>data table notebook</a>'\n",
              "            + ' to learn more about interactive tables.';\n",
              "          element.innerHTML = '';\n",
              "          dataTable['output_type'] = 'display_data';\n",
              "          await google.colab.output.renderOutput(dataTable, element);\n",
              "          const docLink = document.createElement('div');\n",
              "          docLink.innerHTML = docLinkHtml;\n",
              "          element.appendChild(docLink);\n",
              "        }\n",
              "      </script>\n",
              "    </div>\n",
              "  </div>\n",
              "  "
            ]
          },
          "metadata": {},
          "execution_count": 24
        }
      ],
      "source": [
        "scalar_opening_week = StandardScaler(copy=True, with_mean=True, with_std=True).fit(X_opening_week[numerical_columns])\n",
        "\n",
        "X_opening_week_scaled = pd.DataFrame(scalar_opening_week.transform(X_opening_week[numerical_columns]),columns=numerical_columns, index=X_opening_week.index)\n",
        "\n",
        "# Reintroduce Binary Columns:\n",
        "for binary_col in binary_columns:\n",
        "  bin_s = X_opening_week[binary_col]\n",
        "  X_opening_week_scaled[binary_col] = bin_s\n",
        "\n",
        "feature_names = X_opening_week_scaled.columns\n",
        "X_opening_week_scaled"
      ]
    },
    {
      "cell_type": "markdown",
      "metadata": {
        "id": "zUXMBKFrc7Mx"
      },
      "source": [
        "### Split Train-Test - Opening Week"
      ]
    },
    {
      "cell_type": "code",
      "execution_count": 25,
      "metadata": {
        "colab": {
          "base_uri": "https://localhost:8080/"
        },
        "id": "NoMn5KvfzGwT",
        "outputId": "b2fd8a0c-d072-46e8-fdcd-4a94ab8f0f3c"
      },
      "outputs": [
        {
          "output_type": "stream",
          "name": "stdout",
          "text": [
            "Train DataSet: 514 with 93 features\n",
            "Test DataSet: 129 with 93 features\n"
          ]
        }
      ],
      "source": [
        "x_train_scaled, x_test_scaled, y_train, y_test = train_test_split(X_opening_week_scaled, y_opening_week_log, train_size = 0.8, random_state=0)\n",
        "print(f\"Train DataSet: {x_train_scaled.shape[0]} with {x_train_scaled.shape[1]} features\")\n",
        "print(f\"Test DataSet: {x_test_scaled.shape[0]} with {x_test_scaled.shape[1]} features\")"
      ]
    },
    {
      "cell_type": "code",
      "execution_count": 26,
      "metadata": {
        "colab": {
          "base_uri": "https://localhost:8080/"
        },
        "id": "oDysYcr0fz0q",
        "outputId": "2602456b-a552-4af9-82d8-d6bf29f3838c"
      },
      "outputs": [
        {
          "output_type": "execute_result",
          "data": {
            "text/plain": [
              "0.5594274620769808"
            ]
          },
          "metadata": {},
          "execution_count": 26
        }
      ],
      "source": [
        "lr = LinearRegression(fit_intercept=True)\n",
        "lr.fit(x_train_scaled,y_train)\n",
        "lr.score(x_test_scaled,y_test)"
      ]
    },
    {
      "cell_type": "markdown",
      "metadata": {
        "id": "ljvZF28k0F4p"
      },
      "source": [
        "## Basic Models - Opening Week USD"
      ]
    },
    {
      "cell_type": "markdown",
      "metadata": {
        "id": "r7bE-MFdFqBO"
      },
      "source": [
        "### Basic Model - Setting (Linear and Tree)"
      ]
    },
    {
      "cell_type": "code",
      "execution_count": 27,
      "metadata": {
        "id": "GsFkZckbFq-i"
      },
      "outputs": [],
      "source": [
        "parametersOfValue = {\n",
        "    'fit_intercept':[True,False],\n",
        "    'max_depth':[3,80],\n",
        "    'learning_rate':[0.01],\n",
        "    'random_state':[1],\n",
        "    'n_estimators':[300]\n",
        "    }\n",
        "\n",
        "if skip_slow_processes==False:\n",
        "  parametersOfValue['n_estimators'] = [1500]\n",
        "  parametersOfValue['max_depth'] = [3,4,5,50,80,100]\n",
        "  parametersOfValue['learning_rate'] = [0.1,0.01,0.001]"
      ]
    },
    {
      "cell_type": "code",
      "execution_count": 28,
      "metadata": {
        "id": "7zWLbutf1PXV"
      },
      "outputs": [],
      "source": [
        "models_to_use = {'LinearRegression':LinearRegression(),\n",
        "                  'DecisionTreeRegressor':DecisionTreeRegressor()\n",
        "                 }"
      ]
    },
    {
      "cell_type": "code",
      "execution_count": 29,
      "metadata": {
        "colab": {
          "base_uri": "https://localhost:8080/",
          "height": 338
        },
        "id": "6NDs8qd4AmM3",
        "outputId": "1a06e4c7-9be2-4f45-b515-eac06a6d893d"
      },
      "outputs": [
        {
          "output_type": "stream",
          "name": "stdout",
          "text": [
            "Model Type: LinearRegression - 2 hyper-parameter combinations\n",
            "Model Type: DecisionTreeRegressor - 6 hyper-parameter combinations\n"
          ]
        },
        {
          "output_type": "execute_result",
          "data": {
            "text/plain": [
              "                                    model_type fit_intercept max_depth  \\\n",
              "LinearRegression_0            LinearRegression          True       NaN   \n",
              "LinearRegression_1            LinearRegression         False       NaN   \n",
              "DecisionTreeRegressor_0  DecisionTreeRegressor           NaN         3   \n",
              "DecisionTreeRegressor_1  DecisionTreeRegressor           NaN         4   \n",
              "DecisionTreeRegressor_2  DecisionTreeRegressor           NaN         5   \n",
              "DecisionTreeRegressor_3  DecisionTreeRegressor           NaN        50   \n",
              "DecisionTreeRegressor_4  DecisionTreeRegressor           NaN        80   \n",
              "DecisionTreeRegressor_5  DecisionTreeRegressor           NaN       100   \n",
              "\n",
              "                        random_state  \n",
              "LinearRegression_0               NaN  \n",
              "LinearRegression_1               NaN  \n",
              "DecisionTreeRegressor_0            1  \n",
              "DecisionTreeRegressor_1            1  \n",
              "DecisionTreeRegressor_2            1  \n",
              "DecisionTreeRegressor_3            1  \n",
              "DecisionTreeRegressor_4            1  \n",
              "DecisionTreeRegressor_5            1  "
            ],
            "text/html": [
              "\n",
              "  <div id=\"df-9cbddd04-b0b6-4fe8-8ccc-1c3becfa6cdd\">\n",
              "    <div class=\"colab-df-container\">\n",
              "      <div>\n",
              "<style scoped>\n",
              "    .dataframe tbody tr th:only-of-type {\n",
              "        vertical-align: middle;\n",
              "    }\n",
              "\n",
              "    .dataframe tbody tr th {\n",
              "        vertical-align: top;\n",
              "    }\n",
              "\n",
              "    .dataframe thead th {\n",
              "        text-align: right;\n",
              "    }\n",
              "</style>\n",
              "<table border=\"1\" class=\"dataframe\">\n",
              "  <thead>\n",
              "    <tr style=\"text-align: right;\">\n",
              "      <th></th>\n",
              "      <th>model_type</th>\n",
              "      <th>fit_intercept</th>\n",
              "      <th>max_depth</th>\n",
              "      <th>random_state</th>\n",
              "    </tr>\n",
              "  </thead>\n",
              "  <tbody>\n",
              "    <tr>\n",
              "      <th>LinearRegression_0</th>\n",
              "      <td>LinearRegression</td>\n",
              "      <td>True</td>\n",
              "      <td>NaN</td>\n",
              "      <td>NaN</td>\n",
              "    </tr>\n",
              "    <tr>\n",
              "      <th>LinearRegression_1</th>\n",
              "      <td>LinearRegression</td>\n",
              "      <td>False</td>\n",
              "      <td>NaN</td>\n",
              "      <td>NaN</td>\n",
              "    </tr>\n",
              "    <tr>\n",
              "      <th>DecisionTreeRegressor_0</th>\n",
              "      <td>DecisionTreeRegressor</td>\n",
              "      <td>NaN</td>\n",
              "      <td>3</td>\n",
              "      <td>1</td>\n",
              "    </tr>\n",
              "    <tr>\n",
              "      <th>DecisionTreeRegressor_1</th>\n",
              "      <td>DecisionTreeRegressor</td>\n",
              "      <td>NaN</td>\n",
              "      <td>4</td>\n",
              "      <td>1</td>\n",
              "    </tr>\n",
              "    <tr>\n",
              "      <th>DecisionTreeRegressor_2</th>\n",
              "      <td>DecisionTreeRegressor</td>\n",
              "      <td>NaN</td>\n",
              "      <td>5</td>\n",
              "      <td>1</td>\n",
              "    </tr>\n",
              "    <tr>\n",
              "      <th>DecisionTreeRegressor_3</th>\n",
              "      <td>DecisionTreeRegressor</td>\n",
              "      <td>NaN</td>\n",
              "      <td>50</td>\n",
              "      <td>1</td>\n",
              "    </tr>\n",
              "    <tr>\n",
              "      <th>DecisionTreeRegressor_4</th>\n",
              "      <td>DecisionTreeRegressor</td>\n",
              "      <td>NaN</td>\n",
              "      <td>80</td>\n",
              "      <td>1</td>\n",
              "    </tr>\n",
              "    <tr>\n",
              "      <th>DecisionTreeRegressor_5</th>\n",
              "      <td>DecisionTreeRegressor</td>\n",
              "      <td>NaN</td>\n",
              "      <td>100</td>\n",
              "      <td>1</td>\n",
              "    </tr>\n",
              "  </tbody>\n",
              "</table>\n",
              "</div>\n",
              "      <button class=\"colab-df-convert\" onclick=\"convertToInteractive('df-9cbddd04-b0b6-4fe8-8ccc-1c3becfa6cdd')\"\n",
              "              title=\"Convert this dataframe to an interactive table.\"\n",
              "              style=\"display:none;\">\n",
              "        \n",
              "  <svg xmlns=\"http://www.w3.org/2000/svg\" height=\"24px\"viewBox=\"0 0 24 24\"\n",
              "       width=\"24px\">\n",
              "    <path d=\"M0 0h24v24H0V0z\" fill=\"none\"/>\n",
              "    <path d=\"M18.56 5.44l.94 2.06.94-2.06 2.06-.94-2.06-.94-.94-2.06-.94 2.06-2.06.94zm-11 1L8.5 8.5l.94-2.06 2.06-.94-2.06-.94L8.5 2.5l-.94 2.06-2.06.94zm10 10l.94 2.06.94-2.06 2.06-.94-2.06-.94-.94-2.06-.94 2.06-2.06.94z\"/><path d=\"M17.41 7.96l-1.37-1.37c-.4-.4-.92-.59-1.43-.59-.52 0-1.04.2-1.43.59L10.3 9.45l-7.72 7.72c-.78.78-.78 2.05 0 2.83L4 21.41c.39.39.9.59 1.41.59.51 0 1.02-.2 1.41-.59l7.78-7.78 2.81-2.81c.8-.78.8-2.07 0-2.86zM5.41 20L4 18.59l7.72-7.72 1.47 1.35L5.41 20z\"/>\n",
              "  </svg>\n",
              "      </button>\n",
              "      \n",
              "  <style>\n",
              "    .colab-df-container {\n",
              "      display:flex;\n",
              "      flex-wrap:wrap;\n",
              "      gap: 12px;\n",
              "    }\n",
              "\n",
              "    .colab-df-convert {\n",
              "      background-color: #E8F0FE;\n",
              "      border: none;\n",
              "      border-radius: 50%;\n",
              "      cursor: pointer;\n",
              "      display: none;\n",
              "      fill: #1967D2;\n",
              "      height: 32px;\n",
              "      padding: 0 0 0 0;\n",
              "      width: 32px;\n",
              "    }\n",
              "\n",
              "    .colab-df-convert:hover {\n",
              "      background-color: #E2EBFA;\n",
              "      box-shadow: 0px 1px 2px rgba(60, 64, 67, 0.3), 0px 1px 3px 1px rgba(60, 64, 67, 0.15);\n",
              "      fill: #174EA6;\n",
              "    }\n",
              "\n",
              "    [theme=dark] .colab-df-convert {\n",
              "      background-color: #3B4455;\n",
              "      fill: #D2E3FC;\n",
              "    }\n",
              "\n",
              "    [theme=dark] .colab-df-convert:hover {\n",
              "      background-color: #434B5C;\n",
              "      box-shadow: 0px 1px 3px 1px rgba(0, 0, 0, 0.15);\n",
              "      filter: drop-shadow(0px 1px 2px rgba(0, 0, 0, 0.3));\n",
              "      fill: #FFFFFF;\n",
              "    }\n",
              "  </style>\n",
              "\n",
              "      <script>\n",
              "        const buttonEl =\n",
              "          document.querySelector('#df-9cbddd04-b0b6-4fe8-8ccc-1c3becfa6cdd button.colab-df-convert');\n",
              "        buttonEl.style.display =\n",
              "          google.colab.kernel.accessAllowed ? 'block' : 'none';\n",
              "\n",
              "        async function convertToInteractive(key) {\n",
              "          const element = document.querySelector('#df-9cbddd04-b0b6-4fe8-8ccc-1c3becfa6cdd');\n",
              "          const dataTable =\n",
              "            await google.colab.kernel.invokeFunction('convertToInteractive',\n",
              "                                                     [key], {});\n",
              "          if (!dataTable) return;\n",
              "\n",
              "          const docLinkHtml = 'Like what you see? Visit the ' +\n",
              "            '<a target=\"_blank\" href=https://colab.research.google.com/notebooks/data_table.ipynb>data table notebook</a>'\n",
              "            + ' to learn more about interactive tables.';\n",
              "          element.innerHTML = '';\n",
              "          dataTable['output_type'] = 'display_data';\n",
              "          await google.colab.output.renderOutput(dataTable, element);\n",
              "          const docLink = document.createElement('div');\n",
              "          docLink.innerHTML = docLinkHtml;\n",
              "          element.appendChild(docLink);\n",
              "        }\n",
              "      </script>\n",
              "    </div>\n",
              "  </div>\n",
              "  "
            ]
          },
          "metadata": {},
          "execution_count": 29
        }
      ],
      "source": [
        "all_model_combinations_df = get_all_model_combinations(models_to_use,parametersOfValue)\n",
        "all_model_combinations_df"
      ]
    },
    {
      "cell_type": "code",
      "execution_count": 30,
      "metadata": {
        "colab": {
          "base_uri": "https://localhost:8080/"
        },
        "id": "hgLbV08grxvE",
        "outputId": "84962d1b-1767-4b06-a1aa-74e9c3b45f63"
      },
      "outputs": [
        {
          "output_type": "stream",
          "name": "stdout",
          "text": [
            "Model #1 of 8\n",
            "Model Name: LinearRegression_0\n",
            "Model Props: {'copy_X': True, 'fit_intercept': True, 'n_jobs': None, 'positive': False}\n",
            "Train_score: 0.729 / Test_score: 0.559.\n",
            "\n",
            "Model #2 of 8\n",
            "Model Name: LinearRegression_1\n",
            "Model Props: {'copy_X': True, 'fit_intercept': False, 'n_jobs': None, 'positive': False}\n",
            "Train_score: 0.749 / Test_score: 0.609.\n",
            "\n",
            "Model #3 of 8\n",
            "Model Name: DecisionTreeRegressor_0\n",
            "Model Props: {'ccp_alpha': 0.0, 'criterion': 'squared_error', 'max_depth': 3, 'max_features': None, 'max_leaf_nodes': None, 'min_impurity_decrease': 0.0, 'min_samples_leaf': 1, 'min_samples_split': 2, 'min_weight_fraction_leaf': 0.0, 'random_state': 1, 'splitter': 'best'}\n",
            "Train_score: 0.61 / Test_score: 0.55.\n",
            "\n",
            "Model #4 of 8\n",
            "Model Name: DecisionTreeRegressor_1\n",
            "Model Props: {'ccp_alpha': 0.0, 'criterion': 'squared_error', 'max_depth': 4, 'max_features': None, 'max_leaf_nodes': None, 'min_impurity_decrease': 0.0, 'min_samples_leaf': 1, 'min_samples_split': 2, 'min_weight_fraction_leaf': 0.0, 'random_state': 1, 'splitter': 'best'}\n",
            "Train_score: 0.677 / Test_score: 0.481.\n",
            "\n",
            "Model #5 of 8\n",
            "Model Name: DecisionTreeRegressor_2\n",
            "Model Props: {'ccp_alpha': 0.0, 'criterion': 'squared_error', 'max_depth': 5, 'max_features': None, 'max_leaf_nodes': None, 'min_impurity_decrease': 0.0, 'min_samples_leaf': 1, 'min_samples_split': 2, 'min_weight_fraction_leaf': 0.0, 'random_state': 1, 'splitter': 'best'}\n",
            "Train_score: 0.745 / Test_score: 0.45.\n",
            "\n",
            "Model #6 of 8\n",
            "Model Name: DecisionTreeRegressor_3\n",
            "Model Props: {'ccp_alpha': 0.0, 'criterion': 'squared_error', 'max_depth': 50, 'max_features': None, 'max_leaf_nodes': None, 'min_impurity_decrease': 0.0, 'min_samples_leaf': 1, 'min_samples_split': 2, 'min_weight_fraction_leaf': 0.0, 'random_state': 1, 'splitter': 'best'}\n",
            "Train_score: 1.0 / Test_score: 0.254.\n",
            "\n",
            "Model #7 of 8\n",
            "Model Name: DecisionTreeRegressor_4\n",
            "Model Props: {'ccp_alpha': 0.0, 'criterion': 'squared_error', 'max_depth': 80, 'max_features': None, 'max_leaf_nodes': None, 'min_impurity_decrease': 0.0, 'min_samples_leaf': 1, 'min_samples_split': 2, 'min_weight_fraction_leaf': 0.0, 'random_state': 1, 'splitter': 'best'}\n",
            "Train_score: 1.0 / Test_score: 0.254.\n",
            "\n",
            "Model #8 of 8\n",
            "Model Name: DecisionTreeRegressor_5\n",
            "Model Props: {'ccp_alpha': 0.0, 'criterion': 'squared_error', 'max_depth': 100, 'max_features': None, 'max_leaf_nodes': None, 'min_impurity_decrease': 0.0, 'min_samples_leaf': 1, 'min_samples_split': 2, 'min_weight_fraction_leaf': 0.0, 'random_state': 1, 'splitter': 'best'}\n",
            "Train_score: 1.0 / Test_score: 0.254.\n",
            "\n",
            "\n",
            "Finished Run\n"
          ]
        }
      ],
      "source": [
        "all_model_combinations_df, dict_of_fitted_models = run_various_models_return_results(all_model_combinations_df, all_model_types, use_cross_validate=False)"
      ]
    },
    {
      "cell_type": "code",
      "execution_count": 31,
      "metadata": {
        "colab": {
          "base_uri": "https://localhost:8080/",
          "height": 300
        },
        "id": "gTXBVE3nDZ2k",
        "outputId": "3e6fd4a4-6dc2-43d9-be53-feedce524309"
      },
      "outputs": [
        {
          "output_type": "execute_result",
          "data": {
            "text/plain": [
              "                                    model_type fit_intercept max_depth  \\\n",
              "LinearRegression_1            LinearRegression         False       NaN   \n",
              "LinearRegression_0            LinearRegression          True       NaN   \n",
              "DecisionTreeRegressor_0  DecisionTreeRegressor           NaN         3   \n",
              "DecisionTreeRegressor_1  DecisionTreeRegressor           NaN         4   \n",
              "DecisionTreeRegressor_2  DecisionTreeRegressor           NaN         5   \n",
              "DecisionTreeRegressor_3  DecisionTreeRegressor           NaN        50   \n",
              "DecisionTreeRegressor_4  DecisionTreeRegressor           NaN        80   \n",
              "DecisionTreeRegressor_5  DecisionTreeRegressor           NaN       100   \n",
              "\n",
              "                        random_state  train_score  val_score  test_score_r2  \\\n",
              "LinearRegression_1               NaN     0.749098        NaN       0.608550   \n",
              "LinearRegression_0               NaN     0.728699        NaN       0.559427   \n",
              "DecisionTreeRegressor_0            1     0.610182        NaN       0.549811   \n",
              "DecisionTreeRegressor_1            1     0.676989        NaN       0.481087   \n",
              "DecisionTreeRegressor_2            1     0.744847        NaN       0.449827   \n",
              "DecisionTreeRegressor_3            1     1.000000        NaN       0.253577   \n",
              "DecisionTreeRegressor_4            1     1.000000        NaN       0.253577   \n",
              "DecisionTreeRegressor_5            1     1.000000        NaN       0.253577   \n",
              "\n",
              "                         test_score_mse  test_score_rmse  train_size  \\\n",
              "LinearRegression_1             1.697231         1.302778       514.0   \n",
              "LinearRegression_0             1.910217         1.382106       514.0   \n",
              "DecisionTreeRegressor_0        1.951912         1.397109       514.0   \n",
              "DecisionTreeRegressor_1        2.249883         1.499961       514.0   \n",
              "DecisionTreeRegressor_2        2.385418         1.544480       514.0   \n",
              "DecisionTreeRegressor_3        3.236311         1.798975       514.0   \n",
              "DecisionTreeRegressor_4        3.236311         1.798975       514.0   \n",
              "DecisionTreeRegressor_5        3.236311         1.798975       514.0   \n",
              "\n",
              "                         test_size  feature_n  run_time  \n",
              "LinearRegression_1           129.0       93.0    0.0662  \n",
              "LinearRegression_0           129.0       93.0    0.0930  \n",
              "DecisionTreeRegressor_0      129.0       93.0    0.0667  \n",
              "DecisionTreeRegressor_1      129.0       93.0    0.0360  \n",
              "DecisionTreeRegressor_2      129.0       93.0    0.0454  \n",
              "DecisionTreeRegressor_3      129.0       93.0    0.0458  \n",
              "DecisionTreeRegressor_4      129.0       93.0    0.0514  \n",
              "DecisionTreeRegressor_5      129.0       93.0    0.0373  "
            ],
            "text/html": [
              "\n",
              "  <div id=\"df-c5c1cecb-601b-459d-9573-104064b89dcc\">\n",
              "    <div class=\"colab-df-container\">\n",
              "      <div>\n",
              "<style scoped>\n",
              "    .dataframe tbody tr th:only-of-type {\n",
              "        vertical-align: middle;\n",
              "    }\n",
              "\n",
              "    .dataframe tbody tr th {\n",
              "        vertical-align: top;\n",
              "    }\n",
              "\n",
              "    .dataframe thead th {\n",
              "        text-align: right;\n",
              "    }\n",
              "</style>\n",
              "<table border=\"1\" class=\"dataframe\">\n",
              "  <thead>\n",
              "    <tr style=\"text-align: right;\">\n",
              "      <th></th>\n",
              "      <th>model_type</th>\n",
              "      <th>fit_intercept</th>\n",
              "      <th>max_depth</th>\n",
              "      <th>random_state</th>\n",
              "      <th>train_score</th>\n",
              "      <th>val_score</th>\n",
              "      <th>test_score_r2</th>\n",
              "      <th>test_score_mse</th>\n",
              "      <th>test_score_rmse</th>\n",
              "      <th>train_size</th>\n",
              "      <th>test_size</th>\n",
              "      <th>feature_n</th>\n",
              "      <th>run_time</th>\n",
              "    </tr>\n",
              "  </thead>\n",
              "  <tbody>\n",
              "    <tr>\n",
              "      <th>LinearRegression_1</th>\n",
              "      <td>LinearRegression</td>\n",
              "      <td>False</td>\n",
              "      <td>NaN</td>\n",
              "      <td>NaN</td>\n",
              "      <td>0.749098</td>\n",
              "      <td>NaN</td>\n",
              "      <td>0.608550</td>\n",
              "      <td>1.697231</td>\n",
              "      <td>1.302778</td>\n",
              "      <td>514.0</td>\n",
              "      <td>129.0</td>\n",
              "      <td>93.0</td>\n",
              "      <td>0.0662</td>\n",
              "    </tr>\n",
              "    <tr>\n",
              "      <th>LinearRegression_0</th>\n",
              "      <td>LinearRegression</td>\n",
              "      <td>True</td>\n",
              "      <td>NaN</td>\n",
              "      <td>NaN</td>\n",
              "      <td>0.728699</td>\n",
              "      <td>NaN</td>\n",
              "      <td>0.559427</td>\n",
              "      <td>1.910217</td>\n",
              "      <td>1.382106</td>\n",
              "      <td>514.0</td>\n",
              "      <td>129.0</td>\n",
              "      <td>93.0</td>\n",
              "      <td>0.0930</td>\n",
              "    </tr>\n",
              "    <tr>\n",
              "      <th>DecisionTreeRegressor_0</th>\n",
              "      <td>DecisionTreeRegressor</td>\n",
              "      <td>NaN</td>\n",
              "      <td>3</td>\n",
              "      <td>1</td>\n",
              "      <td>0.610182</td>\n",
              "      <td>NaN</td>\n",
              "      <td>0.549811</td>\n",
              "      <td>1.951912</td>\n",
              "      <td>1.397109</td>\n",
              "      <td>514.0</td>\n",
              "      <td>129.0</td>\n",
              "      <td>93.0</td>\n",
              "      <td>0.0667</td>\n",
              "    </tr>\n",
              "    <tr>\n",
              "      <th>DecisionTreeRegressor_1</th>\n",
              "      <td>DecisionTreeRegressor</td>\n",
              "      <td>NaN</td>\n",
              "      <td>4</td>\n",
              "      <td>1</td>\n",
              "      <td>0.676989</td>\n",
              "      <td>NaN</td>\n",
              "      <td>0.481087</td>\n",
              "      <td>2.249883</td>\n",
              "      <td>1.499961</td>\n",
              "      <td>514.0</td>\n",
              "      <td>129.0</td>\n",
              "      <td>93.0</td>\n",
              "      <td>0.0360</td>\n",
              "    </tr>\n",
              "    <tr>\n",
              "      <th>DecisionTreeRegressor_2</th>\n",
              "      <td>DecisionTreeRegressor</td>\n",
              "      <td>NaN</td>\n",
              "      <td>5</td>\n",
              "      <td>1</td>\n",
              "      <td>0.744847</td>\n",
              "      <td>NaN</td>\n",
              "      <td>0.449827</td>\n",
              "      <td>2.385418</td>\n",
              "      <td>1.544480</td>\n",
              "      <td>514.0</td>\n",
              "      <td>129.0</td>\n",
              "      <td>93.0</td>\n",
              "      <td>0.0454</td>\n",
              "    </tr>\n",
              "    <tr>\n",
              "      <th>DecisionTreeRegressor_3</th>\n",
              "      <td>DecisionTreeRegressor</td>\n",
              "      <td>NaN</td>\n",
              "      <td>50</td>\n",
              "      <td>1</td>\n",
              "      <td>1.000000</td>\n",
              "      <td>NaN</td>\n",
              "      <td>0.253577</td>\n",
              "      <td>3.236311</td>\n",
              "      <td>1.798975</td>\n",
              "      <td>514.0</td>\n",
              "      <td>129.0</td>\n",
              "      <td>93.0</td>\n",
              "      <td>0.0458</td>\n",
              "    </tr>\n",
              "    <tr>\n",
              "      <th>DecisionTreeRegressor_4</th>\n",
              "      <td>DecisionTreeRegressor</td>\n",
              "      <td>NaN</td>\n",
              "      <td>80</td>\n",
              "      <td>1</td>\n",
              "      <td>1.000000</td>\n",
              "      <td>NaN</td>\n",
              "      <td>0.253577</td>\n",
              "      <td>3.236311</td>\n",
              "      <td>1.798975</td>\n",
              "      <td>514.0</td>\n",
              "      <td>129.0</td>\n",
              "      <td>93.0</td>\n",
              "      <td>0.0514</td>\n",
              "    </tr>\n",
              "    <tr>\n",
              "      <th>DecisionTreeRegressor_5</th>\n",
              "      <td>DecisionTreeRegressor</td>\n",
              "      <td>NaN</td>\n",
              "      <td>100</td>\n",
              "      <td>1</td>\n",
              "      <td>1.000000</td>\n",
              "      <td>NaN</td>\n",
              "      <td>0.253577</td>\n",
              "      <td>3.236311</td>\n",
              "      <td>1.798975</td>\n",
              "      <td>514.0</td>\n",
              "      <td>129.0</td>\n",
              "      <td>93.0</td>\n",
              "      <td>0.0373</td>\n",
              "    </tr>\n",
              "  </tbody>\n",
              "</table>\n",
              "</div>\n",
              "      <button class=\"colab-df-convert\" onclick=\"convertToInteractive('df-c5c1cecb-601b-459d-9573-104064b89dcc')\"\n",
              "              title=\"Convert this dataframe to an interactive table.\"\n",
              "              style=\"display:none;\">\n",
              "        \n",
              "  <svg xmlns=\"http://www.w3.org/2000/svg\" height=\"24px\"viewBox=\"0 0 24 24\"\n",
              "       width=\"24px\">\n",
              "    <path d=\"M0 0h24v24H0V0z\" fill=\"none\"/>\n",
              "    <path d=\"M18.56 5.44l.94 2.06.94-2.06 2.06-.94-2.06-.94-.94-2.06-.94 2.06-2.06.94zm-11 1L8.5 8.5l.94-2.06 2.06-.94-2.06-.94L8.5 2.5l-.94 2.06-2.06.94zm10 10l.94 2.06.94-2.06 2.06-.94-2.06-.94-.94-2.06-.94 2.06-2.06.94z\"/><path d=\"M17.41 7.96l-1.37-1.37c-.4-.4-.92-.59-1.43-.59-.52 0-1.04.2-1.43.59L10.3 9.45l-7.72 7.72c-.78.78-.78 2.05 0 2.83L4 21.41c.39.39.9.59 1.41.59.51 0 1.02-.2 1.41-.59l7.78-7.78 2.81-2.81c.8-.78.8-2.07 0-2.86zM5.41 20L4 18.59l7.72-7.72 1.47 1.35L5.41 20z\"/>\n",
              "  </svg>\n",
              "      </button>\n",
              "      \n",
              "  <style>\n",
              "    .colab-df-container {\n",
              "      display:flex;\n",
              "      flex-wrap:wrap;\n",
              "      gap: 12px;\n",
              "    }\n",
              "\n",
              "    .colab-df-convert {\n",
              "      background-color: #E8F0FE;\n",
              "      border: none;\n",
              "      border-radius: 50%;\n",
              "      cursor: pointer;\n",
              "      display: none;\n",
              "      fill: #1967D2;\n",
              "      height: 32px;\n",
              "      padding: 0 0 0 0;\n",
              "      width: 32px;\n",
              "    }\n",
              "\n",
              "    .colab-df-convert:hover {\n",
              "      background-color: #E2EBFA;\n",
              "      box-shadow: 0px 1px 2px rgba(60, 64, 67, 0.3), 0px 1px 3px 1px rgba(60, 64, 67, 0.15);\n",
              "      fill: #174EA6;\n",
              "    }\n",
              "\n",
              "    [theme=dark] .colab-df-convert {\n",
              "      background-color: #3B4455;\n",
              "      fill: #D2E3FC;\n",
              "    }\n",
              "\n",
              "    [theme=dark] .colab-df-convert:hover {\n",
              "      background-color: #434B5C;\n",
              "      box-shadow: 0px 1px 3px 1px rgba(0, 0, 0, 0.15);\n",
              "      filter: drop-shadow(0px 1px 2px rgba(0, 0, 0, 0.3));\n",
              "      fill: #FFFFFF;\n",
              "    }\n",
              "  </style>\n",
              "\n",
              "      <script>\n",
              "        const buttonEl =\n",
              "          document.querySelector('#df-c5c1cecb-601b-459d-9573-104064b89dcc button.colab-df-convert');\n",
              "        buttonEl.style.display =\n",
              "          google.colab.kernel.accessAllowed ? 'block' : 'none';\n",
              "\n",
              "        async function convertToInteractive(key) {\n",
              "          const element = document.querySelector('#df-c5c1cecb-601b-459d-9573-104064b89dcc');\n",
              "          const dataTable =\n",
              "            await google.colab.kernel.invokeFunction('convertToInteractive',\n",
              "                                                     [key], {});\n",
              "          if (!dataTable) return;\n",
              "\n",
              "          const docLinkHtml = 'Like what you see? Visit the ' +\n",
              "            '<a target=\"_blank\" href=https://colab.research.google.com/notebooks/data_table.ipynb>data table notebook</a>'\n",
              "            + ' to learn more about interactive tables.';\n",
              "          element.innerHTML = '';\n",
              "          dataTable['output_type'] = 'display_data';\n",
              "          await google.colab.output.renderOutput(dataTable, element);\n",
              "          const docLink = document.createElement('div');\n",
              "          docLink.innerHTML = docLinkHtml;\n",
              "          element.appendChild(docLink);\n",
              "        }\n",
              "      </script>\n",
              "    </div>\n",
              "  </div>\n",
              "  "
            ]
          },
          "metadata": {},
          "execution_count": 31
        }
      ],
      "source": [
        "all_model_combinations_df.sort_values(by='test_score_r2', ascending=False).head(10)"
      ]
    },
    {
      "cell_type": "markdown",
      "metadata": {
        "id": "21bfc2fd-d2b2-4b20-af5c-009261dadf46"
      },
      "source": [
        "Finally, we will have a data frame containning our models, their instructions, and their resaults:"
      ]
    },
    {
      "cell_type": "markdown",
      "metadata": {
        "id": "KjjUG42kFUb-"
      },
      "source": [
        "### Basic Models - Best Performing"
      ]
    },
    {
      "cell_type": "markdown",
      "metadata": {
        "id": "ede114ff-5861-4d63-98b0-76b76824648e"
      },
      "source": [
        "<br><b>Best Performing model:</b><br>\n",
        "Since we collected all sort of output scores from our model, we can check and see which model performed best for each category:"
      ]
    },
    {
      "cell_type": "code",
      "execution_count": 32,
      "metadata": {
        "colab": {
          "base_uri": "https://localhost:8080/",
          "height": 319
        },
        "id": "88f17eda-d4c0-4587-9ee9-a10ff702ab64",
        "outputId": "49749afe-8c66-4f57-8367-ad5273f2b193"
      },
      "outputs": [
        {
          "output_type": "stream",
          "name": "stdout",
          "text": [
            "Top 3 performing models based on test_score Score\n"
          ]
        },
        {
          "output_type": "execute_result",
          "data": {
            "text/plain": [
              "                                    model_type fit_intercept max_depth  \\\n",
              "LinearRegression_1            LinearRegression         False       NaN   \n",
              "LinearRegression_0            LinearRegression          True       NaN   \n",
              "DecisionTreeRegressor_0  DecisionTreeRegressor           NaN         3   \n",
              "DecisionTreeRegressor_1  DecisionTreeRegressor           NaN         4   \n",
              "DecisionTreeRegressor_2  DecisionTreeRegressor           NaN         5   \n",
              "DecisionTreeRegressor_3  DecisionTreeRegressor           NaN        50   \n",
              "DecisionTreeRegressor_4  DecisionTreeRegressor           NaN        80   \n",
              "DecisionTreeRegressor_5  DecisionTreeRegressor           NaN       100   \n",
              "\n",
              "                         train_score  val_score  test_score_r2  \\\n",
              "LinearRegression_1          0.749098        NaN       0.608550   \n",
              "LinearRegression_0          0.728699        NaN       0.559427   \n",
              "DecisionTreeRegressor_0     0.610182        NaN       0.549811   \n",
              "DecisionTreeRegressor_1     0.676989        NaN       0.481087   \n",
              "DecisionTreeRegressor_2     0.744847        NaN       0.449827   \n",
              "DecisionTreeRegressor_3     1.000000        NaN       0.253577   \n",
              "DecisionTreeRegressor_4     1.000000        NaN       0.253577   \n",
              "DecisionTreeRegressor_5     1.000000        NaN       0.253577   \n",
              "\n",
              "                         test_score_mse  run_time  \n",
              "LinearRegression_1             1.697231    0.0662  \n",
              "LinearRegression_0             1.910217    0.0930  \n",
              "DecisionTreeRegressor_0        1.951912    0.0667  \n",
              "DecisionTreeRegressor_1        2.249883    0.0360  \n",
              "DecisionTreeRegressor_2        2.385418    0.0454  \n",
              "DecisionTreeRegressor_3        3.236311    0.0458  \n",
              "DecisionTreeRegressor_4        3.236311    0.0514  \n",
              "DecisionTreeRegressor_5        3.236311    0.0373  "
            ],
            "text/html": [
              "\n",
              "  <div id=\"df-21057386-9cb0-4163-8c44-d75c396c50c8\">\n",
              "    <div class=\"colab-df-container\">\n",
              "      <div>\n",
              "<style scoped>\n",
              "    .dataframe tbody tr th:only-of-type {\n",
              "        vertical-align: middle;\n",
              "    }\n",
              "\n",
              "    .dataframe tbody tr th {\n",
              "        vertical-align: top;\n",
              "    }\n",
              "\n",
              "    .dataframe thead th {\n",
              "        text-align: right;\n",
              "    }\n",
              "</style>\n",
              "<table border=\"1\" class=\"dataframe\">\n",
              "  <thead>\n",
              "    <tr style=\"text-align: right;\">\n",
              "      <th></th>\n",
              "      <th>model_type</th>\n",
              "      <th>fit_intercept</th>\n",
              "      <th>max_depth</th>\n",
              "      <th>train_score</th>\n",
              "      <th>val_score</th>\n",
              "      <th>test_score_r2</th>\n",
              "      <th>test_score_mse</th>\n",
              "      <th>run_time</th>\n",
              "    </tr>\n",
              "  </thead>\n",
              "  <tbody>\n",
              "    <tr>\n",
              "      <th>LinearRegression_1</th>\n",
              "      <td>LinearRegression</td>\n",
              "      <td>False</td>\n",
              "      <td>NaN</td>\n",
              "      <td>0.749098</td>\n",
              "      <td>NaN</td>\n",
              "      <td>0.608550</td>\n",
              "      <td>1.697231</td>\n",
              "      <td>0.0662</td>\n",
              "    </tr>\n",
              "    <tr>\n",
              "      <th>LinearRegression_0</th>\n",
              "      <td>LinearRegression</td>\n",
              "      <td>True</td>\n",
              "      <td>NaN</td>\n",
              "      <td>0.728699</td>\n",
              "      <td>NaN</td>\n",
              "      <td>0.559427</td>\n",
              "      <td>1.910217</td>\n",
              "      <td>0.0930</td>\n",
              "    </tr>\n",
              "    <tr>\n",
              "      <th>DecisionTreeRegressor_0</th>\n",
              "      <td>DecisionTreeRegressor</td>\n",
              "      <td>NaN</td>\n",
              "      <td>3</td>\n",
              "      <td>0.610182</td>\n",
              "      <td>NaN</td>\n",
              "      <td>0.549811</td>\n",
              "      <td>1.951912</td>\n",
              "      <td>0.0667</td>\n",
              "    </tr>\n",
              "    <tr>\n",
              "      <th>DecisionTreeRegressor_1</th>\n",
              "      <td>DecisionTreeRegressor</td>\n",
              "      <td>NaN</td>\n",
              "      <td>4</td>\n",
              "      <td>0.676989</td>\n",
              "      <td>NaN</td>\n",
              "      <td>0.481087</td>\n",
              "      <td>2.249883</td>\n",
              "      <td>0.0360</td>\n",
              "    </tr>\n",
              "    <tr>\n",
              "      <th>DecisionTreeRegressor_2</th>\n",
              "      <td>DecisionTreeRegressor</td>\n",
              "      <td>NaN</td>\n",
              "      <td>5</td>\n",
              "      <td>0.744847</td>\n",
              "      <td>NaN</td>\n",
              "      <td>0.449827</td>\n",
              "      <td>2.385418</td>\n",
              "      <td>0.0454</td>\n",
              "    </tr>\n",
              "    <tr>\n",
              "      <th>DecisionTreeRegressor_3</th>\n",
              "      <td>DecisionTreeRegressor</td>\n",
              "      <td>NaN</td>\n",
              "      <td>50</td>\n",
              "      <td>1.000000</td>\n",
              "      <td>NaN</td>\n",
              "      <td>0.253577</td>\n",
              "      <td>3.236311</td>\n",
              "      <td>0.0458</td>\n",
              "    </tr>\n",
              "    <tr>\n",
              "      <th>DecisionTreeRegressor_4</th>\n",
              "      <td>DecisionTreeRegressor</td>\n",
              "      <td>NaN</td>\n",
              "      <td>80</td>\n",
              "      <td>1.000000</td>\n",
              "      <td>NaN</td>\n",
              "      <td>0.253577</td>\n",
              "      <td>3.236311</td>\n",
              "      <td>0.0514</td>\n",
              "    </tr>\n",
              "    <tr>\n",
              "      <th>DecisionTreeRegressor_5</th>\n",
              "      <td>DecisionTreeRegressor</td>\n",
              "      <td>NaN</td>\n",
              "      <td>100</td>\n",
              "      <td>1.000000</td>\n",
              "      <td>NaN</td>\n",
              "      <td>0.253577</td>\n",
              "      <td>3.236311</td>\n",
              "      <td>0.0373</td>\n",
              "    </tr>\n",
              "  </tbody>\n",
              "</table>\n",
              "</div>\n",
              "      <button class=\"colab-df-convert\" onclick=\"convertToInteractive('df-21057386-9cb0-4163-8c44-d75c396c50c8')\"\n",
              "              title=\"Convert this dataframe to an interactive table.\"\n",
              "              style=\"display:none;\">\n",
              "        \n",
              "  <svg xmlns=\"http://www.w3.org/2000/svg\" height=\"24px\"viewBox=\"0 0 24 24\"\n",
              "       width=\"24px\">\n",
              "    <path d=\"M0 0h24v24H0V0z\" fill=\"none\"/>\n",
              "    <path d=\"M18.56 5.44l.94 2.06.94-2.06 2.06-.94-2.06-.94-.94-2.06-.94 2.06-2.06.94zm-11 1L8.5 8.5l.94-2.06 2.06-.94-2.06-.94L8.5 2.5l-.94 2.06-2.06.94zm10 10l.94 2.06.94-2.06 2.06-.94-2.06-.94-.94-2.06-.94 2.06-2.06.94z\"/><path d=\"M17.41 7.96l-1.37-1.37c-.4-.4-.92-.59-1.43-.59-.52 0-1.04.2-1.43.59L10.3 9.45l-7.72 7.72c-.78.78-.78 2.05 0 2.83L4 21.41c.39.39.9.59 1.41.59.51 0 1.02-.2 1.41-.59l7.78-7.78 2.81-2.81c.8-.78.8-2.07 0-2.86zM5.41 20L4 18.59l7.72-7.72 1.47 1.35L5.41 20z\"/>\n",
              "  </svg>\n",
              "      </button>\n",
              "      \n",
              "  <style>\n",
              "    .colab-df-container {\n",
              "      display:flex;\n",
              "      flex-wrap:wrap;\n",
              "      gap: 12px;\n",
              "    }\n",
              "\n",
              "    .colab-df-convert {\n",
              "      background-color: #E8F0FE;\n",
              "      border: none;\n",
              "      border-radius: 50%;\n",
              "      cursor: pointer;\n",
              "      display: none;\n",
              "      fill: #1967D2;\n",
              "      height: 32px;\n",
              "      padding: 0 0 0 0;\n",
              "      width: 32px;\n",
              "    }\n",
              "\n",
              "    .colab-df-convert:hover {\n",
              "      background-color: #E2EBFA;\n",
              "      box-shadow: 0px 1px 2px rgba(60, 64, 67, 0.3), 0px 1px 3px 1px rgba(60, 64, 67, 0.15);\n",
              "      fill: #174EA6;\n",
              "    }\n",
              "\n",
              "    [theme=dark] .colab-df-convert {\n",
              "      background-color: #3B4455;\n",
              "      fill: #D2E3FC;\n",
              "    }\n",
              "\n",
              "    [theme=dark] .colab-df-convert:hover {\n",
              "      background-color: #434B5C;\n",
              "      box-shadow: 0px 1px 3px 1px rgba(0, 0, 0, 0.15);\n",
              "      filter: drop-shadow(0px 1px 2px rgba(0, 0, 0, 0.3));\n",
              "      fill: #FFFFFF;\n",
              "    }\n",
              "  </style>\n",
              "\n",
              "      <script>\n",
              "        const buttonEl =\n",
              "          document.querySelector('#df-21057386-9cb0-4163-8c44-d75c396c50c8 button.colab-df-convert');\n",
              "        buttonEl.style.display =\n",
              "          google.colab.kernel.accessAllowed ? 'block' : 'none';\n",
              "\n",
              "        async function convertToInteractive(key) {\n",
              "          const element = document.querySelector('#df-21057386-9cb0-4163-8c44-d75c396c50c8');\n",
              "          const dataTable =\n",
              "            await google.colab.kernel.invokeFunction('convertToInteractive',\n",
              "                                                     [key], {});\n",
              "          if (!dataTable) return;\n",
              "\n",
              "          const docLinkHtml = 'Like what you see? Visit the ' +\n",
              "            '<a target=\"_blank\" href=https://colab.research.google.com/notebooks/data_table.ipynb>data table notebook</a>'\n",
              "            + ' to learn more about interactive tables.';\n",
              "          element.innerHTML = '';\n",
              "          dataTable['output_type'] = 'display_data';\n",
              "          await google.colab.output.renderOutput(dataTable, element);\n",
              "          const docLink = document.createElement('div');\n",
              "          docLink.innerHTML = docLinkHtml;\n",
              "          element.appendChild(docLink);\n",
              "        }\n",
              "      </script>\n",
              "    </div>\n",
              "  </div>\n",
              "  "
            ]
          },
          "metadata": {},
          "execution_count": 32
        }
      ],
      "source": [
        "cols_to_show = ['model_type','fit_intercept','max_depth','train_score','val_score','test_score_r2','test_score_mse','run_time']\n",
        "print(f\"Top 3 performing models based on test_score Score\")\n",
        "all_model_combinations_df[cols_to_show].sort_values(by='test_score_r2', ascending=False).head(10)"
      ]
    },
    {
      "cell_type": "markdown",
      "metadata": {
        "id": "eeriW0nsFxDd"
      },
      "source": [
        "### Basic Models - Plot results"
      ]
    },
    {
      "cell_type": "code",
      "execution_count": 33,
      "metadata": {
        "colab": {
          "base_uri": "https://localhost:8080/",
          "height": 1000
        },
        "id": "trUh4fZXbUrL",
        "outputId": "6617c216-0630-49c7-849e-47895ae2f1c7"
      },
      "outputs": [
        {
          "output_type": "display_data",
          "data": {
            "text/plain": [
              "<Figure size 1200x2400 with 16 Axes>"
            ],
            "image/png": "[encoded data removed]"
          },
          "metadata": {}
        }
      ],
      "source": [
        "scatterplot_model_preformence(all_model_combinations_df,dict_of_fitted_models)"
      ]
    },
    {
      "cell_type": "code",
      "execution_count": 34,
      "metadata": {
        "colab": {
          "base_uri": "https://localhost:8080/"
        },
        "id": "1e511dc4-e01c-4c64-bf31-c4b6a8e6f9af",
        "outputId": "583f38e3-b12c-4bb6-ac0c-c2d4bbecbf1f"
      },
      "outputs": [
        {
          "output_type": "stream",
          "name": "stdout",
          "text": [
            "Our best performing model so far is LinearRegression(fit_intercept=False) --> 0.609 test_score score\n"
          ]
        }
      ],
      "source": [
        "best_performing_model = all_model_combinations_df[all_model_combinations_df['model_type']=='LinearRegression'].sort_values(by='test_score_r2', ascending=False).head(1)\n",
        "best_model = dict_of_fitted_models[best_performing_model.index[0]]\n",
        "print(f\"Our best performing model so far is {best_model} --> {round(best_performing_model['test_score_r2'][0],3)} test_score score\")"
      ]
    },
    {
      "cell_type": "code",
      "execution_count": 35,
      "metadata": {
        "colab": {
          "base_uri": "https://localhost:8080/",
          "height": 591
        },
        "id": "C-FIw3G21Ykl",
        "outputId": "34ceaa56-65b3-4b26-908e-b6b9d75b4bc9"
      },
      "outputs": [
        {
          "output_type": "display_data",
          "data": {
            "text/plain": [
              "<Figure size 1000x500 with 1 Axes>"
            ],
            "image/png": "[encoded data removed]"
          },
          "metadata": {}
        }
      ],
      "source": [
        "coefficients = best_model.coef_\n",
        "\n",
        "# Display feature importances\n",
        "feature_importances = pd.DataFrame(\n",
        "    {\"Feature\": feature_names, \"Importance\": np.abs(coefficients)}\n",
        ")\n",
        "feature_importances = feature_importances.sort_values(\n",
        "    by=\"Importance\", ascending=False\n",
        ")\n",
        "\n",
        "# Plot the feature importances\n",
        "plt.figure(figsize=(10, 5))\n",
        "plt.bar(feature_importances['Feature'].head(10), feature_importances['Importance'].head(10))\n",
        "plt.xlabel(\"Features\")\n",
        "plt.ylabel(\"Importance\")\n",
        "plt.title(\"Feature Importances\")\n",
        "plt.xticks(range(10), feature_importances['Feature'].head(10), rotation=45)\n",
        "plt.show()"
      ]
    },
    {
      "cell_type": "markdown",
      "metadata": {
        "id": "P-SQVLLVdRG1"
      },
      "source": [
        "## Boosting Models - Opening Week"
      ]
    },
    {
      "cell_type": "markdown",
      "metadata": {
        "id": "74bc8e84-1f9d-40d9-88df-b527f090df81"
      },
      "source": [
        "<br><b>Ensemble Models:</b><br>\n",
        "Ensemble models are machine learning algorithms that combine the predictions of multiple base models to make more accurate predictions."
      ]
    },
    {
      "cell_type": "markdown",
      "metadata": {
        "id": "c9b0bdbc-f26a-4833-8e8c-c509f10d0830"
      },
      "source": [
        "Unlike Single Classification models where we used cross-val on our training set, for Bootstrapping methods we will need to create a separate validation data-set"
      ]
    },
    {
      "cell_type": "code",
      "execution_count": 36,
      "metadata": {
        "id": "jeEQVmpg9IcP"
      },
      "outputs": [],
      "source": [
        "models_to_use = {'AdaBoostRegressor':AdaBoostRegressor()\n",
        "                  ,'XGBRegressor ':xgb.XGBRegressor()\n",
        "                 }"
      ]
    },
    {
      "cell_type": "code",
      "execution_count": 37,
      "metadata": {
        "id": "sekWoCFTdwjx"
      },
      "outputs": [],
      "source": [
        "parametersOfValue = {\n",
        "    'estimator':[None],\n",
        "    'n_estimators':[300],\n",
        "    'max_depth':[3,4],\n",
        "    'learning_rate':[0.01,0.1],\n",
        "    'random_state':[1]\n",
        "    }\n",
        "\n",
        "if skip_slow_processes==False:\n",
        "  parametersOfValue['estimator'] = [None,best_model]\n",
        "  parametersOfValue['n_estimators'] = [100,200,300,500]\n",
        "  parametersOfValue['max_depth'] = [3,4,5]"
      ]
    },
    {
      "cell_type": "code",
      "execution_count": 38,
      "metadata": {
        "colab": {
          "base_uri": "https://localhost:8080/",
          "height": 557
        },
        "id": "-CGZFd3Np6YN",
        "outputId": "039aaa73-3863-4928-987d-2f85cafa34ac"
      },
      "outputs": [
        {
          "output_type": "stream",
          "name": "stdout",
          "text": [
            "Model Type: AdaBoostRegressor - 16 hyper-parameter combinations\n",
            "Model Type: XGBRegressor  - 24 hyper-parameter combinations\n"
          ]
        },
        {
          "output_type": "execute_result",
          "data": {
            "text/plain": [
              "                             model_type  \\\n",
              "AdaBoostRegressor_0   AdaBoostRegressor   \n",
              "AdaBoostRegressor_1   AdaBoostRegressor   \n",
              "AdaBoostRegressor_2   AdaBoostRegressor   \n",
              "AdaBoostRegressor_3   AdaBoostRegressor   \n",
              "AdaBoostRegressor_4   AdaBoostRegressor   \n",
              "AdaBoostRegressor_5   AdaBoostRegressor   \n",
              "AdaBoostRegressor_6   AdaBoostRegressor   \n",
              "AdaBoostRegressor_7   AdaBoostRegressor   \n",
              "AdaBoostRegressor_8   AdaBoostRegressor   \n",
              "AdaBoostRegressor_9   AdaBoostRegressor   \n",
              "AdaBoostRegressor_10  AdaBoostRegressor   \n",
              "AdaBoostRegressor_11  AdaBoostRegressor   \n",
              "AdaBoostRegressor_12  AdaBoostRegressor   \n",
              "AdaBoostRegressor_13  AdaBoostRegressor   \n",
              "AdaBoostRegressor_14  AdaBoostRegressor   \n",
              "\n",
              "                                                  estimator learning_rate  \\\n",
              "AdaBoostRegressor_0                                    None          0.01   \n",
              "AdaBoostRegressor_1                                    None          0.01   \n",
              "AdaBoostRegressor_2                                    None          0.01   \n",
              "AdaBoostRegressor_3                                    None          0.01   \n",
              "AdaBoostRegressor_4                                    None           0.1   \n",
              "AdaBoostRegressor_5                                    None           0.1   \n",
              "AdaBoostRegressor_6                                    None           0.1   \n",
              "AdaBoostRegressor_7                                    None           0.1   \n",
              "AdaBoostRegressor_8   LinearRegression(fit_intercept=False)          0.01   \n",
              "AdaBoostRegressor_9   LinearRegression(fit_intercept=False)          0.01   \n",
              "AdaBoostRegressor_10  LinearRegression(fit_intercept=False)          0.01   \n",
              "AdaBoostRegressor_11  LinearRegression(fit_intercept=False)          0.01   \n",
              "AdaBoostRegressor_12  LinearRegression(fit_intercept=False)           0.1   \n",
              "AdaBoostRegressor_13  LinearRegression(fit_intercept=False)           0.1   \n",
              "AdaBoostRegressor_14  LinearRegression(fit_intercept=False)           0.1   \n",
              "\n",
              "                     n_estimators random_state max_depth  \n",
              "AdaBoostRegressor_0           100            1       NaN  \n",
              "AdaBoostRegressor_1           200            1       NaN  \n",
              "AdaBoostRegressor_2           300            1       NaN  \n",
              "AdaBoostRegressor_3           500            1       NaN  \n",
              "AdaBoostRegressor_4           100            1       NaN  \n",
              "AdaBoostRegressor_5           200            1       NaN  \n",
              "AdaBoostRegressor_6           300            1       NaN  \n",
              "AdaBoostRegressor_7           500            1       NaN  \n",
              "AdaBoostRegressor_8           100            1       NaN  \n",
              "AdaBoostRegressor_9           200            1       NaN  \n",
              "AdaBoostRegressor_10          300            1       NaN  \n",
              "AdaBoostRegressor_11          500            1       NaN  \n",
              "AdaBoostRegressor_12          100            1       NaN  \n",
              "AdaBoostRegressor_13          200            1       NaN  \n",
              "AdaBoostRegressor_14          300            1       NaN  "
            ],
            "text/html": [
              "\n",
              "  <div id=\"df-b0a87487-777d-41a8-be91-85aaa1ed1752\">\n",
              "    <div class=\"colab-df-container\">\n",
              "      <div>\n",
              "<style scoped>\n",
              "    .dataframe tbody tr th:only-of-type {\n",
              "        vertical-align: middle;\n",
              "    }\n",
              "\n",
              "    .dataframe tbody tr th {\n",
              "        vertical-align: top;\n",
              "    }\n",
              "\n",
              "    .dataframe thead th {\n",
              "        text-align: right;\n",
              "    }\n",
              "</style>\n",
              "<table border=\"1\" class=\"dataframe\">\n",
              "  <thead>\n",
              "    <tr style=\"text-align: right;\">\n",
              "      <th></th>\n",
              "      <th>model_type</th>\n",
              "      <th>estimator</th>\n",
              "      <th>learning_rate</th>\n",
              "      <th>n_estimators</th>\n",
              "      <th>random_state</th>\n",
              "      <th>max_depth</th>\n",
              "    </tr>\n",
              "  </thead>\n",
              "  <tbody>\n",
              "    <tr>\n",
              "      <th>AdaBoostRegressor_0</th>\n",
              "      <td>AdaBoostRegressor</td>\n",
              "      <td>None</td>\n",
              "      <td>0.01</td>\n",
              "      <td>100</td>\n",
              "      <td>1</td>\n",
              "      <td>NaN</td>\n",
              "    </tr>\n",
              "    <tr>\n",
              "      <th>AdaBoostRegressor_1</th>\n",
              "      <td>AdaBoostRegressor</td>\n",
              "      <td>None</td>\n",
              "      <td>0.01</td>\n",
              "      <td>200</td>\n",
              "      <td>1</td>\n",
              "      <td>NaN</td>\n",
              "    </tr>\n",
              "    <tr>\n",
              "      <th>AdaBoostRegressor_2</th>\n",
              "      <td>AdaBoostRegressor</td>\n",
              "      <td>None</td>\n",
              "      <td>0.01</td>\n",
              "      <td>300</td>\n",
              "      <td>1</td>\n",
              "      <td>NaN</td>\n",
              "    </tr>\n",
              "    <tr>\n",
              "      <th>AdaBoostRegressor_3</th>\n",
              "      <td>AdaBoostRegressor</td>\n",
              "      <td>None</td>\n",
              "      <td>0.01</td>\n",
              "      <td>500</td>\n",
              "      <td>1</td>\n",
              "      <td>NaN</td>\n",
              "    </tr>\n",
              "    <tr>\n",
              "      <th>AdaBoostRegressor_4</th>\n",
              "      <td>AdaBoostRegressor</td>\n",
              "      <td>None</td>\n",
              "      <td>0.1</td>\n",
              "      <td>100</td>\n",
              "      <td>1</td>\n",
              "      <td>NaN</td>\n",
              "    </tr>\n",
              "    <tr>\n",
              "      <th>AdaBoostRegressor_5</th>\n",
              "      <td>AdaBoostRegressor</td>\n",
              "      <td>None</td>\n",
              "      <td>0.1</td>\n",
              "      <td>200</td>\n",
              "      <td>1</td>\n",
              "      <td>NaN</td>\n",
              "    </tr>\n",
              "    <tr>\n",
              "      <th>AdaBoostRegressor_6</th>\n",
              "      <td>AdaBoostRegressor</td>\n",
              "      <td>None</td>\n",
              "      <td>0.1</td>\n",
              "      <td>300</td>\n",
              "      <td>1</td>\n",
              "      <td>NaN</td>\n",
              "    </tr>\n",
              "    <tr>\n",
              "      <th>AdaBoostRegressor_7</th>\n",
              "      <td>AdaBoostRegressor</td>\n",
              "      <td>None</td>\n",
              "      <td>0.1</td>\n",
              "      <td>500</td>\n",
              "      <td>1</td>\n",
              "      <td>NaN</td>\n",
              "    </tr>\n",
              "    <tr>\n",
              "      <th>AdaBoostRegressor_8</th>\n",
              "      <td>AdaBoostRegressor</td>\n",
              "      <td>LinearRegression(fit_intercept=False)</td>\n",
              "      <td>0.01</td>\n",
              "      <td>100</td>\n",
              "      <td>1</td>\n",
              "      <td>NaN</td>\n",
              "    </tr>\n",
              "    <tr>\n",
              "      <th>AdaBoostRegressor_9</th>\n",
              "      <td>AdaBoostRegressor</td>\n",
              "      <td>LinearRegression(fit_intercept=False)</td>\n",
              "      <td>0.01</td>\n",
              "      <td>200</td>\n",
              "      <td>1</td>\n",
              "      <td>NaN</td>\n",
              "    </tr>\n",
              "    <tr>\n",
              "      <th>AdaBoostRegressor_10</th>\n",
              "      <td>AdaBoostRegressor</td>\n",
              "      <td>LinearRegression(fit_intercept=False)</td>\n",
              "      <td>0.01</td>\n",
              "      <td>300</td>\n",
              "      <td>1</td>\n",
              "      <td>NaN</td>\n",
              "    </tr>\n",
              "    <tr>\n",
              "      <th>AdaBoostRegressor_11</th>\n",
              "      <td>AdaBoostRegressor</td>\n",
              "      <td>LinearRegression(fit_intercept=False)</td>\n",
              "      <td>0.01</td>\n",
              "      <td>500</td>\n",
              "      <td>1</td>\n",
              "      <td>NaN</td>\n",
              "    </tr>\n",
              "    <tr>\n",
              "      <th>AdaBoostRegressor_12</th>\n",
              "      <td>AdaBoostRegressor</td>\n",
              "      <td>LinearRegression(fit_intercept=False)</td>\n",
              "      <td>0.1</td>\n",
              "      <td>100</td>\n",
              "      <td>1</td>\n",
              "      <td>NaN</td>\n",
              "    </tr>\n",
              "    <tr>\n",
              "      <th>AdaBoostRegressor_13</th>\n",
              "      <td>AdaBoostRegressor</td>\n",
              "      <td>LinearRegression(fit_intercept=False)</td>\n",
              "      <td>0.1</td>\n",
              "      <td>200</td>\n",
              "      <td>1</td>\n",
              "      <td>NaN</td>\n",
              "    </tr>\n",
              "    <tr>\n",
              "      <th>AdaBoostRegressor_14</th>\n",
              "      <td>AdaBoostRegressor</td>\n",
              "      <td>LinearRegression(fit_intercept=False)</td>\n",
              "      <td>0.1</td>\n",
              "      <td>300</td>\n",
              "      <td>1</td>\n",
              "      <td>NaN</td>\n",
              "    </tr>\n",
              "  </tbody>\n",
              "</table>\n",
              "</div>\n",
              "      <button class=\"colab-df-convert\" onclick=\"convertToInteractive('df-b0a87487-777d-41a8-be91-85aaa1ed1752')\"\n",
              "              title=\"Convert this dataframe to an interactive table.\"\n",
              "              style=\"display:none;\">\n",
              "        \n",
              "  <svg xmlns=\"http://www.w3.org/2000/svg\" height=\"24px\"viewBox=\"0 0 24 24\"\n",
              "       width=\"24px\">\n",
              "    <path d=\"M0 0h24v24H0V0z\" fill=\"none\"/>\n",
              "    <path d=\"M18.56 5.44l.94 2.06.94-2.06 2.06-.94-2.06-.94-.94-2.06-.94 2.06-2.06.94zm-11 1L8.5 8.5l.94-2.06 2.06-.94-2.06-.94L8.5 2.5l-.94 2.06-2.06.94zm10 10l.94 2.06.94-2.06 2.06-.94-2.06-.94-.94-2.06-.94 2.06-2.06.94z\"/><path d=\"M17.41 7.96l-1.37-1.37c-.4-.4-.92-.59-1.43-.59-.52 0-1.04.2-1.43.59L10.3 9.45l-7.72 7.72c-.78.78-.78 2.05 0 2.83L4 21.41c.39.39.9.59 1.41.59.51 0 1.02-.2 1.41-.59l7.78-7.78 2.81-2.81c.8-.78.8-2.07 0-2.86zM5.41 20L4 18.59l7.72-7.72 1.47 1.35L5.41 20z\"/>\n",
              "  </svg>\n",
              "      </button>\n",
              "      \n",
              "  <style>\n",
              "    .colab-df-container {\n",
              "      display:flex;\n",
              "      flex-wrap:wrap;\n",
              "      gap: 12px;\n",
              "    }\n",
              "\n",
              "    .colab-df-convert {\n",
              "      background-color: #E8F0FE;\n",
              "      border: none;\n",
              "      border-radius: 50%;\n",
              "      cursor: pointer;\n",
              "      display: none;\n",
              "      fill: #1967D2;\n",
              "      height: 32px;\n",
              "      padding: 0 0 0 0;\n",
              "      width: 32px;\n",
              "    }\n",
              "\n",
              "    .colab-df-convert:hover {\n",
              "      background-color: #E2EBFA;\n",
              "      box-shadow: 0px 1px 2px rgba(60, 64, 67, 0.3), 0px 1px 3px 1px rgba(60, 64, 67, 0.15);\n",
              "      fill: #174EA6;\n",
              "    }\n",
              "\n",
              "    [theme=dark] .colab-df-convert {\n",
              "      background-color: #3B4455;\n",
              "      fill: #D2E3FC;\n",
              "    }\n",
              "\n",
              "    [theme=dark] .colab-df-convert:hover {\n",
              "      background-color: #434B5C;\n",
              "      box-shadow: 0px 1px 3px 1px rgba(0, 0, 0, 0.15);\n",
              "      filter: drop-shadow(0px 1px 2px rgba(0, 0, 0, 0.3));\n",
              "      fill: #FFFFFF;\n",
              "    }\n",
              "  </style>\n",
              "\n",
              "      <script>\n",
              "        const buttonEl =\n",
              "          document.querySelector('#df-b0a87487-777d-41a8-be91-85aaa1ed1752 button.colab-df-convert');\n",
              "        buttonEl.style.display =\n",
              "          google.colab.kernel.accessAllowed ? 'block' : 'none';\n",
              "\n",
              "        async function convertToInteractive(key) {\n",
              "          const element = document.querySelector('#df-b0a87487-777d-41a8-be91-85aaa1ed1752');\n",
              "          const dataTable =\n",
              "            await google.colab.kernel.invokeFunction('convertToInteractive',\n",
              "                                                     [key], {});\n",
              "          if (!dataTable) return;\n",
              "\n",
              "          const docLinkHtml = 'Like what you see? Visit the ' +\n",
              "            '<a target=\"_blank\" href=https://colab.research.google.com/notebooks/data_table.ipynb>data table notebook</a>'\n",
              "            + ' to learn more about interactive tables.';\n",
              "          element.innerHTML = '';\n",
              "          dataTable['output_type'] = 'display_data';\n",
              "          await google.colab.output.renderOutput(dataTable, element);\n",
              "          const docLink = document.createElement('div');\n",
              "          docLink.innerHTML = docLinkHtml;\n",
              "          element.appendChild(docLink);\n",
              "        }\n",
              "      </script>\n",
              "    </div>\n",
              "  </div>\n",
              "  "
            ]
          },
          "metadata": {},
          "execution_count": 38
        }
      ],
      "source": [
        "boosting_model_combinations_df = get_all_model_combinations(models_to_use,parametersOfValue)\n",
        "boosting_model_combinations_df.head(15)"
      ]
    },
    {
      "cell_type": "code",
      "execution_count": null,
      "metadata": {
        "colab": {
          "base_uri": "https://localhost:8080/"
        },
        "id": "IhnEKkXCe8t8",
        "outputId": "debb0c56-9173-4f34-d3f9-347858c28c73"
      },
      "outputs": [
        {
          "output_type": "stream",
          "name": "stdout",
          "text": [
            "Model #1 of 40\n",
            "Model Name: AdaBoostRegressor_0\n",
            "Model Props: {'base_estimator': 'deprecated', 'estimator': None, 'learning_rate': 0.01, 'loss': 'linear', 'n_estimators': 100, 'random_state': 1}\n",
            "Train_score: 0.661 / Test_score: 0.623.\n",
            "\n",
            "Model #2 of 40\n",
            "Model Name: AdaBoostRegressor_1\n",
            "Model Props: {'base_estimator': 'deprecated', 'estimator': None, 'learning_rate': 0.01, 'loss': 'linear', 'n_estimators': 200, 'random_state': 1}\n",
            "Train_score: 0.672 / Test_score: 0.626.\n",
            "\n",
            "Model #3 of 40\n",
            "Model Name: AdaBoostRegressor_2\n",
            "Model Props: {'base_estimator': 'deprecated', 'estimator': None, 'learning_rate': 0.01, 'loss': 'linear', 'n_estimators': 300, 'random_state': 1}\n",
            "Train_score: 0.681 / Test_score: 0.629.\n",
            "\n",
            "Model #4 of 40\n",
            "Model Name: AdaBoostRegressor_3\n",
            "Model Props: {'base_estimator': 'deprecated', 'estimator': None, 'learning_rate': 0.01, 'loss': 'linear', 'n_estimators': 500, 'random_state': 1}\n",
            "Train_score: 0.692 / Test_score: 0.632.\n",
            "\n",
            "Model #5 of 40\n",
            "Model Name: AdaBoostRegressor_4\n",
            "Model Props: {'base_estimator': 'deprecated', 'estimator': None, 'learning_rate': 0.1, 'loss': 'linear', 'n_estimators': 100, 'random_state': 1}\n",
            "Train_score: 0.707 / Test_score: 0.64.\n",
            "\n",
            "Model #6 of 40\n",
            "Model Name: AdaBoostRegressor_5\n",
            "Model Props: {'base_estimator': 'deprecated', 'estimator': None, 'learning_rate': 0.1, 'loss': 'linear', 'n_estimators': 200, 'random_state': 1}\n",
            "Train_score: 0.721 / Test_score: 0.643.\n",
            "\n",
            "Model #7 of 40\n",
            "Model Name: AdaBoostRegressor_6\n",
            "Model Props: {'base_estimator': 'deprecated', 'estimator': None, 'learning_rate': 0.1, 'loss': 'linear', 'n_estimators': 300, 'random_state': 1}\n",
            "Train_score: 0.727 / Test_score: 0.644.\n",
            "\n",
            "Model #8 of 40\n",
            "Model Name: AdaBoostRegressor_7\n",
            "Model Props: {'base_estimator': 'deprecated', 'estimator': None, 'learning_rate': 0.1, 'loss': 'linear', 'n_estimators': 500, 'random_state': 1}\n",
            "Train_score: 0.728 / Test_score: 0.644.\n",
            "\n",
            "Model #9 of 40\n",
            "Model Name: AdaBoostRegressor_8\n",
            "Model Props: {'base_estimator': 'deprecated', 'estimator': LinearRegression(fit_intercept=False), 'learning_rate': 0.01, 'loss': 'linear', 'n_estimators': 100, 'random_state': 1}\n",
            "Train_score: 0.762 / Test_score: 0.611.\n",
            "\n"
          ]
        }
      ],
      "source": [
        "boosting_model_combinations_df, dict_boosting_models = run_various_models_return_results(boosting_model_combinations_df, all_model_types, use_cross_validate=False)"
      ]
    },
    {
      "cell_type": "code",
      "execution_count": null,
      "metadata": {
        "id": "FUUrpfTkxINn"
      },
      "outputs": [],
      "source": [
        "boosting_model_combinations_df.head(15)"
      ]
    },
    {
      "cell_type": "markdown",
      "metadata": {
        "id": "6X7OYqO2G8Qs"
      },
      "source": [
        "### Boosting - Plot Results"
      ]
    },
    {
      "cell_type": "code",
      "execution_count": null,
      "metadata": {
        "id": "GLVDNDX11W-a"
      },
      "outputs": [],
      "source": [
        "scatterplot_model_preformence(boosting_model_combinations_df.head(6),dict_boosting_models)"
      ]
    },
    {
      "cell_type": "markdown",
      "metadata": {
        "id": "d3389643-bdfe-4e3e-ac66-a23604692011"
      },
      "source": [
        "For Boosting model we would prefer to keep our trees shallow and non-complex, since they are built sequntially and we do not want to risk ovefitting.<br>\n",
        "Next, we would like to explor some highly deel trees:"
      ]
    },
    {
      "cell_type": "markdown",
      "metadata": {
        "id": "rvnap79Vy2VC"
      },
      "source": []
    },
    {
      "cell_type": "markdown",
      "metadata": {
        "id": "coKOkLR4y-cT"
      },
      "source": [
        "## Bagging Models - Opening Week"
      ]
    },
    {
      "cell_type": "markdown",
      "metadata": {
        "id": "1e0754ae-ba07-4efb-afe7-9680a9b4919c"
      },
      "source": [
        "In BaggingClassifier, the subsets of the training data are generated using bootstrap sampling, which means that each subset is a random sample of the training data with replacement.<br>\n",
        "It involves training multiple base models independently on different subsets of the training data, and then combining the predictions of the individual base models to make a final prediction."
      ]
    },
    {
      "cell_type": "code",
      "execution_count": null,
      "metadata": {
        "id": "VO2FndY1y3Y8"
      },
      "outputs": [],
      "source": []
    },
    {
      "cell_type": "code",
      "execution_count": null,
      "metadata": {
        "id": "huBX6E7Ny3t4"
      },
      "outputs": [],
      "source": [
        "dict_of_models = {'BaggingRegressor ':BaggingRegressor()\n",
        "                  ,'RandomForestRegressor':RandomForestRegressor()\n",
        "                 }"
      ]
    },
    {
      "cell_type": "code",
      "execution_count": null,
      "metadata": {
        "id": "niLeU8fHy3t4"
      },
      "outputs": [],
      "source": [
        "parametersOfValue = {\n",
        "    'estimator':[None], \n",
        "    'max_features': [int(math.sqrt(len(feature_names))), int(len(feature_names)/3)],\n",
        "    'n_estimators':[300],\n",
        "    'max_depth':[3,80],\n",
        "    'learning_rate':[0.01,0.001],\n",
        "    'random_state':[1]\n",
        "    }\n",
        "\n",
        "if skip_slow_processes==False:\n",
        "  parametersOfValue['n_estimators'] = [500,2500]\n",
        "  parametersOfValue['max_depth'] = [50,80,150]"
      ]
    },
    {
      "cell_type": "code",
      "execution_count": null,
      "metadata": {
        "id": "8FiKcReSyieJ"
      },
      "outputs": [],
      "source": [
        "bagging_model_combinations_df = get_all_model_combinations(dict_of_models,parametersOfValue)\n",
        "bagging_model_combinations_df"
      ]
    },
    {
      "cell_type": "code",
      "execution_count": null,
      "metadata": {
        "id": "j4VsTUpzyieK"
      },
      "outputs": [],
      "source": [
        "bagging_model_combinations_df, dict_bagging_models = run_various_models_return_results(bagging_model_combinations_df, all_model_types, use_cross_validate=False)"
      ]
    },
    {
      "cell_type": "code",
      "execution_count": null,
      "metadata": {
        "id": "IT1dsmtHyieK"
      },
      "outputs": [],
      "source": [
        "bagging_model_combinations_df.head(15)"
      ]
    },
    {
      "cell_type": "markdown",
      "metadata": {
        "id": "F8QBF1J5HBOY"
      },
      "source": [
        "### Bagging - Plot results"
      ]
    },
    {
      "cell_type": "code",
      "execution_count": null,
      "metadata": {
        "id": "CHbdb1U5yieK"
      },
      "outputs": [],
      "source": [
        "scatterplot_model_preformence(bagging_model_combinations_df.head(6),dict_bagging_models)"
      ]
    },
    {
      "cell_type": "markdown",
      "metadata": {
        "id": "400afacf-6b1a-46e3-a9d6-304660c4b7fa"
      },
      "source": [
        "<br><b>Random Forest feature selection:</b><br>\n",
        "Same as bagging, only with random feature selection"
      ]
    },
    {
      "cell_type": "code",
      "execution_count": null,
      "metadata": {
        "id": "3ioKx4jYXxri"
      },
      "outputs": [],
      "source": [
        "best_rf_result = bagging_model_combinations_df[bagging_model_combinations_df['model_type']=='RandomForestRegressor'].sort_values(by=\"test_score_r2\",ascending=False).head(1).index[0]\n",
        "best_rf_model = dict_bagging_models[best_rf_result]\n",
        "best_rf_model"
      ]
    },
    {
      "cell_type": "code",
      "execution_count": null,
      "metadata": {
        "id": "37JmelW3CXEx"
      },
      "outputs": [],
      "source": [
        "# Create figure and axis objects\n",
        "fig = plt.gcf()\n",
        "fig.set_size_inches(20,10)\n",
        "\n",
        "# Histogram\n",
        "ax1 = fig.add_subplot(1,2,1)\n",
        "ax1.hist(y_opening_week, bins=10, color='purple')\n",
        "ax1.set_xlabel('Opening Week')\n",
        "ax1.set_ylabel('Frequency')\n",
        "ax1.set_title('Histogram of Opening Week USD')\n",
        "\n",
        "\n",
        "# Box plot\n",
        "ax2 = fig.add_subplot(1,2,2)\n",
        "sns.boxplot(y=y_opening_week, color='orange', ax=ax2)\n",
        "ax2.set_title('Box Plot of Opening Week USD')\n",
        "ax2.set_ylabel('Opening Week USD')\n",
        "\n",
        "# Show plot\n",
        "plt.show()"
      ]
    },
    {
      "cell_type": "code",
      "execution_count": null,
      "metadata": {
        "id": "d67421fd-f0a3-43c4-8752-e967bb95fde9"
      },
      "outputs": [],
      "source": [
        "def plot_feature_importance(rf_model, threshold):\n",
        "    # Get feature importance\n",
        "    importances = rf_model.feature_importances_\n",
        "    features = rf_model.feature_names_in_\n",
        "\n",
        "    importance_dict = dict(zip(features, importances))\n",
        "    sorted_importance = sorted(importance_dict.items(), key=lambda x: x[1], reverse=True)\n",
        "\n",
        "    features = [x[0] for x in sorted_importance if x[1] >= threshold]\n",
        "    importances = [x[1] for x in sorted_importance if x[1] >= threshold]\n",
        "    \n",
        "    # Create a bar plot of the feature importance\n",
        "    fig = plt.gcf()\n",
        "    fig.set_size_inches(8,8)\n",
        "\n",
        "    ax1 = fig.add_subplot(1,1,1)\n",
        "    ax1.barh(features, importances, color='orange')\n",
        "    ax1.set_xlabel('Importance Score')\n",
        "    ax1.set_ylabel('Feature Name')\n",
        "    model_title = get_model_desc_single_model(rf_model)\n",
        "    ax1.set_title(f'Feature Importance\\n{model_title}', fontsize=10)\n",
        "    # Create a list of features with importance score above threshold\n",
        "    important_features = [feature for feature, importance in importance_dict.items() if importance >= threshold]\n",
        "    # Return the list of important features\n",
        "\n",
        "    fig.show()\n",
        "\n",
        "\n",
        "    return important_features"
      ]
    },
    {
      "cell_type": "code",
      "execution_count": null,
      "metadata": {
        "id": "yp2CQplZTBQK"
      },
      "outputs": [],
      "source": [
        "columns_to_run = plot_feature_importance(best_rf_model, threshold=0.01)"
      ]
    },
    {
      "cell_type": "markdown",
      "metadata": {
        "id": "TD3sDGuYomhq"
      },
      "source": [
        "## SHAP Plot - Opening Week"
      ]
    },
    {
      "cell_type": "code",
      "execution_count": null,
      "metadata": {
        "id": "9sohI9beLIY5"
      },
      "outputs": [],
      "source": [
        "def plot_shape(rf_model, feature_name ,max_display=25):\n",
        "    \n",
        "    explainer = shap.TreeExplainer(rf_model)\n",
        "    sample = x_train_scaled[:50]\n",
        "    shap_values = explainer.shap_values(sample)\n",
        "    shap.summary_plot(shap_values, sample, title=\"Shap Plot\",plot_size=(18,12), max_display=max_display, show=False)\n",
        "\n",
        "    plt.title(f\"SHAP Plot - {feature_name}\\n\", fontsize=16)\n",
        "    plt.show()"
      ]
    },
    {
      "cell_type": "code",
      "execution_count": null,
      "metadata": {
        "id": "iRaRJeKwkvPi"
      },
      "outputs": [],
      "source": [
        "plot_shape(best_rf_model, feature_name= \"First Week Rev (USD)\")"
      ]
    },
    {
      "cell_type": "markdown",
      "metadata": {
        "id": "RnkIeYADrARD"
      },
      "source": [
        "## Feature Reduction - Opening Week"
      ]
    },
    {
      "cell_type": "code",
      "execution_count": null,
      "metadata": {
        "id": "FM5OBDpGrfbT"
      },
      "outputs": [],
      "source": [
        "parametersOfValue = {\n",
        "    'estimator':[None], \n",
        "    'max_features': [int(math.sqrt(len(columns_to_run))), int(len(columns_to_run)/3)],\n",
        "    'n_estimators':[300],\n",
        "    'max_depth':[3,80],\n",
        "    'learning_rate':[0.01],\n",
        "    'random_state':[1]\n",
        "        }\n",
        "\n",
        "\n",
        "if skip_slow_processes==False:\n",
        "  parametersOfValue['estimator'] = [None,best_model]\n",
        "  parametersOfValue['n_estimators'] = [1000]\n",
        "  parametersOfValue['max_depth'] = [3,4,5,80,100]\n",
        "  parametersOfValue['learning_rate'] = [0.1,0.01,0.001]"
      ]
    },
    {
      "cell_type": "code",
      "execution_count": null,
      "metadata": {
        "id": "MWAw2JRmrfXy"
      },
      "outputs": [],
      "source": [
        "dict_of_models = {'DecisionTreeRegressor':DecisionTreeRegressor()\n",
        "                  ,'BaggingRegressor ':BaggingRegressor()\n",
        "                  ,'RandomForestRegressor':RandomForestRegressor()\n",
        "                 }"
      ]
    },
    {
      "cell_type": "code",
      "execution_count": null,
      "metadata": {
        "id": "ghlLjMJ3rv_o"
      },
      "outputs": [],
      "source": [
        "rf_model_thin_df = get_all_model_combinations(dict_of_models,parametersOfValue)\n",
        "rf_model_thin_df"
      ]
    },
    {
      "cell_type": "markdown",
      "metadata": {
        "id": "btAeMS2EHJS1"
      },
      "source": [
        "### Run thin models"
      ]
    },
    {
      "cell_type": "code",
      "execution_count": null,
      "metadata": {
        "id": "a567df26-bac3-435d-aa77-0683b341eb3a"
      },
      "outputs": [],
      "source": [
        "rf_model_thin_df, dict_rf_model_thin = run_various_models_return_results(rf_model_thin_df, all_model_types, use_cross_validate=False, limit_features_list=columns_to_run)"
      ]
    },
    {
      "cell_type": "code",
      "execution_count": null,
      "metadata": {
        "id": "LzM4i15vsJmK"
      },
      "outputs": [],
      "source": [
        "rf_model_thin_df.index = 'Thin_' + rf_model_thin_df.index.astype(str)\n",
        "rf_model_thin_df.head(10)"
      ]
    },
    {
      "cell_type": "markdown",
      "metadata": {
        "id": "cLGcO1Ett2so"
      },
      "source": [
        "## Comapring all models - Opening Week"
      ]
    },
    {
      "cell_type": "code",
      "execution_count": null,
      "metadata": {
        "id": "BdYyrz69sZWW"
      },
      "outputs": [],
      "source": [
        "all_models_output = boosting_model_combinations_df.append(bagging_model_combinations_df).append(rf_model_thin_df).append(all_model_combinations_df)\n",
        "all_models_output.sort_values(by=\"test_score_r2\", ascending=False).head(10)"
      ]
    },
    {
      "cell_type": "markdown",
      "metadata": {
        "id": "FgHrp-5e1Eej"
      },
      "source": [
        "## Best Model - First Week USD"
      ]
    },
    {
      "cell_type": "code",
      "execution_count": null,
      "metadata": {
        "id": "IUv6bXDZ1MMS"
      },
      "outputs": [],
      "source": [
        "best_output_first_week = all_models_output[all_models_output['model_type']!='LinearRegression'].sort_values(by=\"test_score_r2\", ascending=False).head(1)\n",
        "best_model_first_week = output_to_fitted_model(best_output_first_week,columns_to_run=None)\n",
        "best_model_first_week"
      ]
    },
    {
      "cell_type": "markdown",
      "metadata": {
        "id": "N_tf3a2qIQx7"
      },
      "source": [
        "# Gross Revenue USD"
      ]
    },
    {
      "cell_type": "markdown",
      "metadata": {
        "id": "wDnus9bMIeNR"
      },
      "source": [
        "## Data Preparing"
      ]
    },
    {
      "cell_type": "markdown",
      "metadata": {
        "id": "Eyyjwmw3IeNS"
      },
      "source": [
        "### Filter Missing Ys - Gross Revenue"
      ]
    },
    {
      "cell_type": "code",
      "execution_count": null,
      "metadata": {
        "id": "_x8wPS-OIeNS"
      },
      "outputs": [],
      "source": [
        "minimum_threshold_to_filter_out = 100000\n",
        "gross_rev_na_mask = np.logical_or(y_gross_us_canada_raw.isna(), y_gross_us_canada_raw < minimum_threshold_to_filter_out)\n",
        "y_gross_rev = y_gross_us_canada_raw[~gross_rev_na_mask].copy()\n",
        "y_gross_rev_log = np.log(y_gross_rev)\n",
        "X_gross_rev = X_ohe_reduced[~gross_rev_na_mask].copy()\n",
        "#X_gross_rev.shape,y_gross_rev.shape\n",
        "print(f\"Only {len(y_gross_rev)} out of {len(gross_rev_na_mask)} records had Gross Rev Revenue and will be kept\")"
      ]
    },
    {
      "cell_type": "code",
      "execution_count": null,
      "metadata": {
        "id": "xi6zhr01IeNS"
      },
      "outputs": [],
      "source": [
        "# Create figure and axis objects\n",
        "fig = plt.gcf()\n",
        "fig.set_size_inches(20,10)\n",
        "\n",
        "# Histogram\n",
        "ax1 = fig.add_subplot(1,2,1)\n",
        "ax1.hist(y_gross_rev, bins=10, color='purple')\n",
        "ax1.set_xlabel('User rating')\n",
        "ax1.set_ylabel('Frequency')\n",
        "ax1.set_title('Histogram of Gross Revenue USD')\n",
        "\n",
        "\n",
        "# Box plot\n",
        "ax2 = fig.add_subplot(1,2,2)\n",
        "sns.boxplot(y=y_gross_rev, color='orange', ax=ax2)\n",
        "ax2.set_title('Box Plot of Gross Revenue USD')\n",
        "ax2.set_ylabel('Gross Revenue USD')\n",
        "\n",
        "# Show plot\n",
        "plt.show()"
      ]
    },
    {
      "cell_type": "code",
      "execution_count": null,
      "metadata": {
        "id": "cfMA5BPpIeNS"
      },
      "outputs": [],
      "source": [
        "# Create figure and axis objects\n",
        "fig = plt.gcf()\n",
        "fig.set_size_inches(20,10)\n",
        "\n",
        "# Histogram\n",
        "ax1 = fig.add_subplot(1,2,1)\n",
        "ax1.hist(y_gross_rev_log, bins=10, color='purple')\n",
        "ax1.set_xlabel('User rating')\n",
        "ax1.set_ylabel('Frequency')\n",
        "ax1.set_title('Histogram of Gross Revenue USD (Log)')\n",
        "\n",
        "\n",
        "# Box plot\n",
        "ax2 = fig.add_subplot(1,2,2)\n",
        "sns.boxplot(y=y_gross_rev_log, color='orange', ax=ax2)\n",
        "ax2.set_title('Box Plot of Gross Revenue USD (Log)')\n",
        "ax2.set_ylabel('Gross Revenue USD (Log)')\n",
        "\n",
        "# Show plot\n",
        "plt.show()"
      ]
    },
    {
      "cell_type": "markdown",
      "metadata": {
        "id": "QbQW2O6dIeNS"
      },
      "source": [
        "### Scale Data - Gross Revenue"
      ]
    },
    {
      "cell_type": "code",
      "execution_count": null,
      "metadata": {
        "id": "JHuRgYZ1IeNS"
      },
      "outputs": [],
      "source": [
        "scalar_gross_rev = StandardScaler(copy=True, with_mean=True, with_std=True).fit(X_gross_rev[numerical_columns])\n",
        "\n",
        "X_gross_rev_scaled = pd.DataFrame(scalar_gross_rev.transform(X_gross_rev[numerical_columns]),columns=numerical_columns, index=X_gross_rev.index)\n",
        "\n",
        "# Reintroduce Binary Columns:\n",
        "for binary_col in binary_columns:\n",
        "  bin_s = X_gross_rev[binary_col]\n",
        "  X_gross_rev_scaled[binary_col] = bin_s\n",
        "\n",
        "feature_names = X_gross_rev_scaled.columns\n",
        "X_gross_rev_scaled"
      ]
    },
    {
      "cell_type": "markdown",
      "metadata": {
        "id": "1LjTKL69IeNS"
      },
      "source": [
        "### Split Train-Test - Gross Revenue"
      ]
    },
    {
      "cell_type": "code",
      "execution_count": null,
      "metadata": {
        "id": "QsgCzOgjIeNS"
      },
      "outputs": [],
      "source": [
        "x_train_scaled, x_test_scaled, y_train, y_test = train_test_split(X_gross_rev_scaled, y_gross_rev_log, train_size = 0.8, random_state=0)\n",
        "print(f\"Train DataSet: {x_train_scaled.shape[0]} with {x_train_scaled.shape[1]} features\")\n",
        "print(f\"Test DataSet: {x_test_scaled.shape[0]} with {x_test_scaled.shape[1]} features\")"
      ]
    },
    {
      "cell_type": "markdown",
      "metadata": {
        "id": "Bz2-zybxJXnk"
      },
      "source": [
        "## Exploring all models - Gross Revenue"
      ]
    },
    {
      "cell_type": "code",
      "execution_count": null,
      "metadata": {
        "id": "viHXUjdAJj3l"
      },
      "outputs": [],
      "source": [
        "parametersOfValue = {\n",
        "    'estimator':[None], \n",
        "    'max_features': [int(math.sqrt(len(feature_names))), int(len(feature_names)/3)],\n",
        "    'n_estimators':[300],\n",
        "    'max_depth':[3,80],\n",
        "    'learning_rate':[0.01],\n",
        "    'random_state':[1]\n",
        "    }\n",
        "\n",
        "\n",
        "if skip_slow_processes==False:\n",
        "  parametersOfValue['estimator'] = [None,best_model]\n",
        "  parametersOfValue['n_estimators'] = [300,1000, 2500]\n",
        "  parametersOfValue['max_depth'] = [3,5,100,150]\n",
        "  parametersOfValue['learning_rate'] = [0.1,0.01]"
      ]
    },
    {
      "cell_type": "code",
      "execution_count": null,
      "metadata": {
        "id": "uMsLTQHuJj0j"
      },
      "outputs": [],
      "source": [
        "models_to_use = {#'LinearRegression':LinearRegression()\n",
        "                  #,'DecisionTreeRegressor':DecisionTreeRegressor()\n",
        "                  #'BaggingRegressor ':BaggingRegressor()\n",
        "                  'RandomForestRegressor':RandomForestRegressor()\n",
        "                  #,'AdaBoostRegressor':AdaBoostRegressor()\n",
        "                  ,'XGBRegressor ':xgb.XGBRegressor()\n",
        "                 }"
      ]
    },
    {
      "cell_type": "code",
      "execution_count": null,
      "metadata": {
        "id": "GYKfxnzcJjxj"
      },
      "outputs": [],
      "source": [
        "all_model_combinations_gross_rev = get_all_model_combinations(models_to_use,parametersOfValue)\n",
        "all_model_combinations_gross_rev.head(15)"
      ]
    },
    {
      "cell_type": "markdown",
      "metadata": {
        "id": "IHAb4VDFeZjZ"
      },
      "source": [
        "Run the top 10 performing models using the narrowed dataset in hope to reduce "
      ]
    },
    {
      "cell_type": "code",
      "execution_count": null,
      "metadata": {
        "id": "zQ8y9dowJjvf"
      },
      "outputs": [],
      "source": [
        "all_model_combinations_gross_rev, dict_of_fitted_models_gross_rev = run_various_models_return_results(all_model_combinations_gross_rev, all_model_types, use_cross_validate=False)"
      ]
    },
    {
      "cell_type": "code",
      "execution_count": null,
      "metadata": {
        "id": "4u8BNERrJjsU"
      },
      "outputs": [],
      "source": [
        "all_model_combinations_gross_rev.sort_values(by=\"test_score_r2\", ascending=False).head(15)"
      ]
    },
    {
      "cell_type": "markdown",
      "metadata": {
        "id": "XaBNd2CJPsRA"
      },
      "source": [
        "## Model Performence - Gross Rev"
      ]
    },
    {
      "cell_type": "code",
      "execution_count": null,
      "metadata": {
        "id": "qH7cZydjK1MK"
      },
      "outputs": [],
      "source": [
        "scatterplot_model_preformence(all_model_combinations_gross_rev.head(8),dict_of_fitted_models_gross_rev)"
      ]
    },
    {
      "cell_type": "code",
      "execution_count": null,
      "metadata": {
        "id": "shvyopgOK1QK"
      },
      "outputs": [],
      "source": [
        "best_output_gross_rev = all_model_combinations_gross_rev.sort_values(by=\"test_score_r2\", ascending=False).head(1)\n",
        "best_model_gross_rev = output_to_fitted_model(best_output_gross_rev,columns_to_run=None)\n",
        "best_model_gross_rev"
      ]
    },
    {
      "cell_type": "markdown",
      "metadata": {
        "id": "KBh1lq6NP1gZ"
      },
      "source": [
        "## Feature Importance - Gross Rev"
      ]
    },
    {
      "cell_type": "code",
      "execution_count": null,
      "metadata": {
        "id": "UcBrruGWP5wB"
      },
      "outputs": [],
      "source": [
        "columns_to_run = plot_feature_importance(best_model_gross_rev, threshold=0.009)"
      ]
    },
    {
      "cell_type": "code",
      "execution_count": null,
      "metadata": {
        "id": "ErtEtklrP76u"
      },
      "outputs": [],
      "source": [
        "best_rf_output = all_model_combinations_gross_rev[all_model_combinations_gross_rev['model_type']=='RandomForestRegressor'].sort_values(by=\"test_score_r2\", ascending=False).head(1)\n",
        "best_rf_model_gross_rev = output_to_fitted_model(best_rf_output,columns_to_run=None)\n",
        "best_rf_model_gross_rev"
      ]
    },
    {
      "cell_type": "markdown",
      "metadata": {
        "id": "fALsrrM5ofUi"
      },
      "source": [
        "## SHAP Plot - Gross Rev."
      ]
    },
    {
      "cell_type": "code",
      "execution_count": null,
      "metadata": {
        "id": "tbW4l7XEP5tJ"
      },
      "outputs": [],
      "source": [
        "plot_shape(best_rf_model_gross_rev, feature_name= \"Gross Revenue (USD)\")"
      ]
    },
    {
      "cell_type": "markdown",
      "metadata": {
        "id": "OwZOrfevmb4t"
      },
      "source": [
        "# Meta Score"
      ]
    },
    {
      "cell_type": "markdown",
      "metadata": {
        "id": "be_hMzaUmhoN"
      },
      "source": [
        "## Data Preparing"
      ]
    },
    {
      "cell_type": "markdown",
      "metadata": {
        "id": "qqry7nTcmhoN"
      },
      "source": [
        "### Filter Missing Ys - Metascore"
      ]
    },
    {
      "cell_type": "code",
      "execution_count": null,
      "metadata": {
        "id": "EW-ot3LemhoN"
      },
      "outputs": [],
      "source": [
        "minimum_threshold_to_filter_out = 0\n",
        "metascore_na_mask = np.logical_or(y_metascore_raw.isna(), y_metascore_raw < minimum_threshold_to_filter_out)\n",
        "metascore_na_mask = metascore_na_mask #| gross_rev_na_mask # Try using gross_rev_na_mask as an additional mask for metascore\n",
        "y_metascore = y_metascore_raw[~metascore_na_mask].copy()\n",
        "X_metascore = X_ohe_reduced[~metascore_na_mask].copy()\n",
        "#X_metascore.shape,y_metascore.shape\n",
        "print(f\"Only {len(y_metascore)} out of {len(metascore_na_mask)} records had Gross Rev Revenue and will be kept\")"
      ]
    },
    {
      "cell_type": "code",
      "execution_count": null,
      "metadata": {
        "id": "Jk88aGhCmhoO"
      },
      "outputs": [],
      "source": [
        "# Create figure and axis objects\n",
        "fig = plt.gcf()\n",
        "fig.set_size_inches(20,10)\n",
        "\n",
        "# Histogram\n",
        "ax1 = fig.add_subplot(1,2,1)\n",
        "ax1.hist(y_metascore, bins=10, color='purple')\n",
        "ax1.set_xlabel('User rating')\n",
        "ax1.set_ylabel('Frequency')\n",
        "ax1.set_title('Histogram of User Metascore')\n",
        "\n",
        "\n",
        "# Box plot\n",
        "ax2 = fig.add_subplot(1,2,2)\n",
        "sns.boxplot(y=y_metascore, color='orange', ax=ax2)\n",
        "ax2.set_title('Box Plot of Metascore')\n",
        "ax2.set_ylabel('Metascore')\n",
        "\n",
        "# Show plot\n",
        "plt.show()"
      ]
    },
    {
      "cell_type": "markdown",
      "metadata": {
        "id": "nnWvM_yymhoO"
      },
      "source": [
        "### Scale Data - Metascore"
      ]
    },
    {
      "cell_type": "code",
      "execution_count": null,
      "metadata": {
        "id": "_IPjzYpkmhoO"
      },
      "outputs": [],
      "source": [
        "scalar_metascore = StandardScaler(copy=True, with_mean=True, with_std=True).fit(X_metascore[numerical_columns])\n",
        "\n",
        "X_metascore_scaled = pd.DataFrame(scalar_metascore.transform(X_metascore[numerical_columns]),columns=numerical_columns, index=X_metascore.index)\n",
        "\n",
        "# Reintroduce Binary Columns:\n",
        "for binary_col in binary_columns:\n",
        "  bin_s = X_metascore[binary_col]\n",
        "  X_metascore_scaled[binary_col] = bin_s\n",
        "\n",
        "feature_names = X_metascore_scaled.columns\n",
        "X_metascore_scaled"
      ]
    },
    {
      "cell_type": "markdown",
      "metadata": {
        "id": "xNHnnIT_mhoO"
      },
      "source": [
        "### Split Train-Test - Metascore"
      ]
    },
    {
      "cell_type": "code",
      "execution_count": null,
      "metadata": {
        "id": "fsWVOwvHmhoO"
      },
      "outputs": [],
      "source": [
        "x_train_scaled, x_test_scaled, y_train, y_test = train_test_split(X_metascore_scaled, y_metascore, train_size = 0.8, random_state=1)\n",
        "print(f\"Train DataSet: {x_train_scaled.shape[0]} with {x_train_scaled.shape[1]} features\")\n",
        "print(f\"Test DataSet: {x_test_scaled.shape[0]} with {x_test_scaled.shape[1]} features\")"
      ]
    },
    {
      "cell_type": "markdown",
      "metadata": {
        "id": "Olco3Os4mhoO"
      },
      "source": [
        "## Exploring all models - Metascore"
      ]
    },
    {
      "cell_type": "code",
      "execution_count": null,
      "metadata": {
        "id": "u1Fn9LdjmhoP"
      },
      "outputs": [],
      "source": [
        "parametersOfValue = {\n",
        "    'estimator':[None], \n",
        "    'max_features': [int(math.sqrt(len(feature_names))), int(len(feature_names)/3)],\n",
        "    'n_estimators':[300],\n",
        "    'max_depth':[3,80],\n",
        "    'learning_rate':[0.01],\n",
        "    'random_state':[1]\n",
        "    }\n",
        "\n",
        "\n",
        "if skip_slow_processes==False:\n",
        "  parametersOfValue['n_estimators'] = [300,1000, 2500]\n",
        "  parametersOfValue['max_depth'] = [3,5,100,150]\n",
        "  parametersOfValue['learning_rate'] = [0.1,0.01]"
      ]
    },
    {
      "cell_type": "code",
      "execution_count": null,
      "metadata": {
        "id": "apKY4KAnmhoP"
      },
      "outputs": [],
      "source": [
        "models_to_use = {#'LinearRegression':LinearRegression()\n",
        "                  #,'DecisionTreeRegressor':DecisionTreeRegressor()\n",
        "                  #'BaggingRegressor ':BaggingRegressor()\n",
        "                  'RandomForestRegressor':RandomForestRegressor()\n",
        "                  #,'AdaBoostRegressor':AdaBoostRegressor()\n",
        "                  ,'XGBRegressor ':xgb.XGBRegressor()\n",
        "                 }"
      ]
    },
    {
      "cell_type": "code",
      "execution_count": null,
      "metadata": {
        "id": "H_Glx3zimhoP"
      },
      "outputs": [],
      "source": [
        "all_model_combinations_metascore = get_all_model_combinations(models_to_use,parametersOfValue)\n",
        "all_model_combinations_metascore"
      ]
    },
    {
      "cell_type": "code",
      "execution_count": null,
      "metadata": {
        "id": "1qmwzECimhoP"
      },
      "outputs": [],
      "source": [
        "all_model_combinations_metascore, dict_of_fitted_models_metascore = run_various_models_return_results(all_model_combinations_metascore, all_model_types, use_cross_validate=False)"
      ]
    },
    {
      "cell_type": "code",
      "execution_count": null,
      "metadata": {
        "id": "niJyuyNEmhoP"
      },
      "outputs": [],
      "source": [
        "all_model_combinations_metascore.sort_values(by=\"test_score_r2\", ascending=False)"
      ]
    },
    {
      "cell_type": "code",
      "execution_count": null,
      "metadata": {
        "id": "IpwNOrTgmhoP"
      },
      "outputs": [],
      "source": [
        "scatterplot_model_preformence(all_model_combinations_metascore.head(8),dict_of_fitted_models_metascore)"
      ]
    },
    {
      "cell_type": "code",
      "execution_count": null,
      "metadata": {
        "id": "PRvW19SAmhoP"
      },
      "outputs": [],
      "source": [
        "best_output_metascore = all_model_combinations_metascore.sort_values(by=\"test_score_r2\", ascending=False).head(1)\n",
        "best_model_metascore = output_to_fitted_model(best_output_metascore,columns_to_run=None)\n",
        "best_model_metascore"
      ]
    },
    {
      "cell_type": "markdown",
      "metadata": {
        "id": "zrqGHsTrRpLr"
      },
      "source": [
        "## Feature Importance - Metascore"
      ]
    },
    {
      "cell_type": "code",
      "execution_count": null,
      "metadata": {
        "id": "RcOiP4AqwUBZ"
      },
      "outputs": [],
      "source": [
        "columns_to_run_metascore = plot_feature_importance(best_model_metascore, threshold=0.01)"
      ]
    },
    {
      "cell_type": "code",
      "execution_count": null,
      "metadata": {
        "id": "5_Bbns9qRpLr"
      },
      "outputs": [],
      "source": [
        "best_rf_output = all_model_combinations_metascore[all_model_combinations_metascore['model_type']=='RandomForestRegressor'].sort_values(by=\"test_score_r2\", ascending=False).head(1)\n",
        "best_rf_model_metascore = output_to_fitted_model(best_rf_output,columns_to_run=None)\n",
        "best_rf_model_metascore"
      ]
    },
    {
      "cell_type": "markdown",
      "metadata": {
        "id": "fTnkFJRGobtm"
      },
      "source": [
        "## SHAP Plot - Metascore"
      ]
    },
    {
      "cell_type": "code",
      "execution_count": null,
      "metadata": {
        "id": "J0JGloI2RpLs"
      },
      "outputs": [],
      "source": [
        "plot_shape(best_rf_model_metascore, feature_name= \"Critic Metascore\")"
      ]
    },
    {
      "cell_type": "markdown",
      "metadata": {
        "id": "TSQgR7t_wXzl"
      },
      "source": [
        "# User Rating"
      ]
    },
    {
      "cell_type": "code",
      "execution_count": null,
      "metadata": {
        "id": "D_3W_fzkwXzm"
      },
      "outputs": [],
      "source": []
    },
    {
      "cell_type": "markdown",
      "metadata": {
        "id": "2968FwKFwXzm"
      },
      "source": [
        "## Data Preparing"
      ]
    },
    {
      "cell_type": "markdown",
      "metadata": {
        "id": "9OG6_stmwXzm"
      },
      "source": [
        "### Filter Missing Ys - User Rating"
      ]
    },
    {
      "cell_type": "code",
      "execution_count": null,
      "metadata": {
        "id": "kg7MXtQSwXzm"
      },
      "outputs": [],
      "source": [
        "minimum_threshold_to_filter_out = 0\n",
        "user_rating_na_mask = np.logical_or(y_user_rating_raw.isna(), y_user_rating_raw < minimum_threshold_to_filter_out)\n",
        "y_user_rating = y_user_rating_raw[~user_rating_na_mask].copy()\n",
        "X_user_rating = X_ohe_reduced[~user_rating_na_mask].copy()\n",
        "#X_user_rating.shape,y_user_rating.shape\n",
        "print(f\"Only {len(y_user_rating)} out of {len(user_rating_na_mask)} records had Gross Rev Revenue and will be kept\")"
      ]
    },
    {
      "cell_type": "code",
      "execution_count": null,
      "metadata": {
        "id": "DNsZ8rxqfCYq"
      },
      "outputs": [],
      "source": [
        "y_user_rating"
      ]
    },
    {
      "cell_type": "code",
      "execution_count": null,
      "metadata": {
        "id": "7UISGL_kwXzm"
      },
      "outputs": [],
      "source": [
        "# Create figure and axis objects\n",
        "fig = plt.gcf()\n",
        "fig.set_size_inches(20,10)\n",
        "\n",
        "# Histogram\n",
        "ax1 = fig.add_subplot(1,2,1)\n",
        "ax1.hist(y_user_rating, bins=10, color='purple')\n",
        "ax1.set_xlabel('User rating')\n",
        "ax1.set_ylabel('Frequency')\n",
        "ax1.set_title('Histogram of User Ratings')\n",
        "\n",
        "\n",
        "# Box plot\n",
        "ax2 = fig.add_subplot(1,2,2)\n",
        "sns.boxplot(y=y_user_rating, color='orange', ax=ax2)\n",
        "ax2.set_title('Box Plot of User Ratings')\n",
        "ax2.set_ylabel('User rating')\n",
        "\n",
        "# Show plot\n",
        "plt.show()"
      ]
    },
    {
      "cell_type": "markdown",
      "metadata": {
        "id": "RYcuU4Z7wXzn"
      },
      "source": [
        "### Scale Data - User Rating"
      ]
    },
    {
      "cell_type": "code",
      "execution_count": null,
      "metadata": {
        "id": "uHfJF-r6wXzn"
      },
      "outputs": [],
      "source": [
        "scalar_user_rating = StandardScaler(copy=True, with_mean=True, with_std=True).fit(X_user_rating[numerical_columns])\n",
        "\n",
        "X_user_rating_scaled = pd.DataFrame(scalar_user_rating.transform(X_user_rating[numerical_columns]),columns=numerical_columns, index=X_user_rating.index)\n",
        "\n",
        "# Reintroduce Binary Columns:\n",
        "for binary_col in binary_columns:\n",
        "  bin_s = X_user_rating[binary_col]\n",
        "  X_user_rating_scaled[binary_col] = bin_s\n",
        "\n",
        "feature_names = X_user_rating_scaled.columns\n",
        "X_user_rating_scaled"
      ]
    },
    {
      "cell_type": "markdown",
      "metadata": {
        "id": "NZDygjlxwXzn"
      },
      "source": [
        "### Split Train-Test - User Rating"
      ]
    },
    {
      "cell_type": "code",
      "execution_count": null,
      "metadata": {
        "id": "b2VVAEXuwXzn"
      },
      "outputs": [],
      "source": [
        "x_train_scaled, x_test_scaled, y_train, y_test = train_test_split(X_user_rating_scaled, y_user_rating, train_size = 0.8, random_state=0)\n",
        "print(f\"Train DataSet: {x_train_scaled.shape[0]} with {x_train_scaled.shape[1]} features\")\n",
        "print(f\"Test DataSet: {x_test_scaled.shape[0]} with {x_test_scaled.shape[1]} features\")"
      ]
    },
    {
      "cell_type": "markdown",
      "metadata": {
        "id": "MhH9faXfwXzn"
      },
      "source": [
        "## Exploring all models - User Rating"
      ]
    },
    {
      "cell_type": "code",
      "execution_count": null,
      "metadata": {
        "id": "UrzK9_eFwXzn"
      },
      "outputs": [],
      "source": [
        "parametersOfValue = {\n",
        "    'estimator':[None], \n",
        "    'max_features': [int(math.sqrt(len(feature_names))), int(len(feature_names)/3)],\n",
        "    'n_estimators':[300],\n",
        "    'max_depth':[3,80],\n",
        "    'learning_rate':[0.01],\n",
        "    'random_state':[1]\n",
        "    }\n",
        "\n",
        "\n",
        "if skip_slow_processes==False:\n",
        "  parametersOfValue['n_estimators'] = [300,1000, 2500]\n",
        "  parametersOfValue['max_depth'] = [3,5,100,150]\n",
        "  parametersOfValue['learning_rate'] = [0.1,0.01]"
      ]
    },
    {
      "cell_type": "code",
      "execution_count": null,
      "metadata": {
        "id": "UK70FWi3wXzn"
      },
      "outputs": [],
      "source": [
        "models_to_use = {#'LinearRegression':LinearRegression()\n",
        "                  #,'DecisionTreeRegressor':DecisionTreeRegressor()\n",
        "                  #'BaggingRegressor ':BaggingRegressor()\n",
        "                  'RandomForestRegressor':RandomForestRegressor()\n",
        "                  #,'AdaBoostRegressor':AdaBoostRegressor()\n",
        "                  ,'XGBRegressor ':xgb.XGBRegressor()\n",
        "                 }"
      ]
    },
    {
      "cell_type": "code",
      "execution_count": null,
      "metadata": {
        "id": "XgSwwQU1wXzn"
      },
      "outputs": [],
      "source": [
        "all_model_combinations_user_rating = get_all_model_combinations(models_to_use,parametersOfValue)\n",
        "all_model_combinations_user_rating"
      ]
    },
    {
      "cell_type": "code",
      "execution_count": null,
      "metadata": {
        "id": "CsBM_RapwXzo"
      },
      "outputs": [],
      "source": [
        "all_model_combinations_user_rating, dict_of_fitted_models_user_rating = run_various_models_return_results(all_model_combinations_user_rating, all_model_types, use_cross_validate=False)"
      ]
    },
    {
      "cell_type": "code",
      "execution_count": null,
      "metadata": {
        "id": "s5YRnEjFwXzo"
      },
      "outputs": [],
      "source": [
        "all_model_combinations_user_rating.sort_values(by=\"test_score_r2\", ascending=False)"
      ]
    },
    {
      "cell_type": "code",
      "execution_count": null,
      "metadata": {
        "id": "lghHjkrewXzo"
      },
      "outputs": [],
      "source": [
        "scatterplot_model_preformence(all_model_combinations_user_rating.head(6),dict_of_fitted_models_user_rating)"
      ]
    },
    {
      "cell_type": "code",
      "execution_count": null,
      "metadata": {
        "id": "M2Op-5rMwXzo"
      },
      "outputs": [],
      "source": [
        "best_output_user_rating = all_model_combinations_user_rating.sort_values(by=\"test_score_r2\", ascending=False).head(1)\n",
        "best_model_user_rating = output_to_fitted_model(best_output_user_rating,columns_to_run=None)\n",
        "best_model_user_rating"
      ]
    },
    {
      "cell_type": "markdown",
      "metadata": {
        "id": "YJgeTF_zR0X1"
      },
      "source": [
        "## Feature Importance - User Rating"
      ]
    },
    {
      "cell_type": "code",
      "execution_count": null,
      "metadata": {
        "id": "dpc2ltZbYkvj"
      },
      "outputs": [],
      "source": [
        "columns_to_run = plot_feature_importance(best_model_user_rating, threshold=0.01)"
      ]
    },
    {
      "cell_type": "code",
      "execution_count": null,
      "metadata": {
        "id": "NoQelVfgR0X2"
      },
      "outputs": [],
      "source": [
        "best_rf_output = all_model_combinations_user_rating[all_model_combinations_user_rating['model_type']=='RandomForestRegressor'].sort_values(by=\"test_score_r2\", ascending=False).head(1)\n",
        "best_rf_model_user_rating = output_to_fitted_model(best_rf_output,columns_to_run=None)\n",
        "best_rf_model_user_rating"
      ]
    },
    {
      "cell_type": "markdown",
      "metadata": {
        "id": "fZqxAHxloW78"
      },
      "source": [
        "## SHAP Plot - User Rating"
      ]
    },
    {
      "cell_type": "code",
      "execution_count": null,
      "metadata": {
        "id": "chZj__dUR0X3"
      },
      "outputs": [],
      "source": [
        "plot_shape(best_rf_model_user_rating, feature_name= \"User Rating\")"
      ]
    },
    {
      "cell_type": "code",
      "source": [],
      "metadata": {
        "id": "cMDSeKiIu-mE"
      },
      "execution_count": null,
      "outputs": []
    },
    {
      "cell_type": "markdown",
      "metadata": {
        "id": "CTeM-rayyeLT"
      },
      "source": [
        "# Unseen Data - Prediction"
      ]
    },
    {
      "cell_type": "code",
      "execution_count": null,
      "metadata": {
        "id": "Z5xjsjB5ygyD"
      },
      "outputs": [],
      "source": [
        "file_path = os.path.join(base_folder_path,\"3_processed_imdb_dataset_future.csv\")\n",
        "X_future = pd.read_csv(file_path, index_col=\"movie_id\")\n",
        "X_future"
      ]
    },
    {
      "cell_type": "code",
      "execution_count": null,
      "metadata": {
        "id": "moESc0QLVCFD"
      },
      "outputs": [],
      "source": [
        "raw_file_path = os.path.join(base_folder_path,\"2_scrapped_imdb_dataset_future.csv\")\n",
        "X_future_raw = pd.read_csv(raw_file_path, index_col=\"movie_id\")\n",
        "X_future_raw['movie_name']"
      ]
    },
    {
      "cell_type": "code",
      "execution_count": null,
      "metadata": {
        "id": "NXviLbLXTpLP"
      },
      "outputs": [],
      "source": [
        "col_in_order = x_train_scaled.columns"
      ]
    },
    {
      "cell_type": "markdown",
      "source": [
        "## Scaling Unseen data"
      ],
      "metadata": {
        "id": "3PF5F_gcvB0g"
      }
    },
    {
      "cell_type": "code",
      "source": [
        "def use_scalar_on_unseen_data(scalar, X):\n",
        "  X_scaled = pd.DataFrame(scalar.transform(X[numerical_columns]),columns=numerical_columns, index=X.index)\n",
        "\n",
        "  # Reintroduce Binary Columns:\n",
        "  for binary_col in binary_columns:\n",
        "    bin_s = X[binary_col]\n",
        "    X_scaled[binary_col] = bin_s\n",
        "\n",
        "  feature_names = X_scaled.columns\n",
        "  return X_scaled"
      ],
      "metadata": {
        "id": "fPWrONIl0Zm8"
      },
      "execution_count": null,
      "outputs": []
    },
    {
      "cell_type": "code",
      "source": [
        "X_future_opening_week = use_scalar_on_unseen_data(scalar_opening_week, X_future)\n",
        "X_future_gross_rev = use_scalar_on_unseen_data(scalar_gross_rev, X_future)\n",
        "X_future_metascore = use_scalar_on_unseen_data(scalar_metascore, X_future)\n",
        "X_future_user_rating = use_scalar_on_unseen_data(scalar_user_rating, X_future)"
      ],
      "metadata": {
        "id": "8fAZ4XEdvTXo"
      },
      "execution_count": null,
      "outputs": []
    },
    {
      "cell_type": "markdown",
      "metadata": {
        "id": "HfkTXDYuMgGF"
      },
      "source": [
        "## Predicting using top selected models"
      ]
    },
    {
      "cell_type": "code",
      "execution_count": null,
      "metadata": {
        "id": "oI45LJ2Rm3SR"
      },
      "outputs": [],
      "source": [
        "best_output_first_week.columns"
      ]
    },
    {
      "cell_type": "code",
      "execution_count": null,
      "metadata": {
        "id": "fFLo1Y8IMkOb"
      },
      "outputs": [],
      "source": [
        "best_output_first_week['predictor'] = 'opening_week'\n",
        "best_output_gross_rev['predictor'] = 'gross_rev'\n",
        "best_output_metascore['predictor'] = 'metascore'\n",
        "best_output_user_rating['predictor'] = 'user_rating'\n",
        "selected_models_per_predictor = best_output_first_week.append(best_output_gross_rev).append(best_output_metascore).append(best_output_user_rating)\n",
        "selected_models_per_predictor[['predictor','model_type','train_score','test_score_r2', 'test_score_mse', 'test_score_rmse','n_estimators', 'train_size','test_size', 'feature_n', 'run_time', 'max_features']]"
      ]
    },
    {
      "cell_type": "code",
      "execution_count": null,
      "metadata": {
        "id": "95Pq_l8SGqVJ"
      },
      "outputs": [],
      "source": [
        "unseen_predictions_opening_week = best_model_first_week.predict(X_future[col_in_order])\n",
        "unseen_predictions_gross_rev = best_model_gross_rev.predict(X_future[col_in_order])\n",
        "unseen_predictions_metascore = best_model_metascore.predict(X_future[col_in_order])\n",
        "unseen_predictions_user_rating = best_model_user_rating.predict(X_future[col_in_order])"
      ]
    },
    {
      "cell_type": "code",
      "execution_count": null,
      "metadata": {
        "id": "SSvo2jLzTya7"
      },
      "outputs": [],
      "source": [
        "movies_to_predict = X_future[['budget_usd']].head(50).copy()\n",
        "\n",
        "for i, row in enumerate(movies_to_predict.iterrows()):\n",
        "  \n",
        "  movie_id = row[0]\n",
        "  raw_move_details = X_future_raw[X_future_raw.index==movie_id]\n",
        "  movie_name = raw_move_details['movie_name'].values[0]\n",
        "  release_year = raw_move_details['release_year'].values[0]\n",
        "  release_month = raw_move_details['release_month'].values[0]\n",
        "  rating_catg = raw_move_details['rating_catg'].values[0]\n",
        "  #print(movie_id,movie_name,release_year,release_month,rating_catg)\n",
        "\n",
        "  pred_opening_week = unseen_predictions_opening_week[i]\n",
        "  pred_gross_rev = unseen_predictions_gross_rev[i]\n",
        "  pred_metascore = unseen_predictions_metascore[i]\n",
        "  pred_user_rating = unseen_predictions_user_rating[i]\n",
        "\n",
        "  movies_to_predict.at[movie_id,\"movie_name\"] = movie_name\n",
        "  movies_to_predict.at[movie_id,\"release_year\"] = release_year\n",
        "  movies_to_predict.at[movie_id,\"release_month\"] = release_month\n",
        "  movies_to_predict.at[movie_id,\"rating_catg\"] = rating_catg\n",
        "  movies_to_predict.at[movie_id,\"pred_opening_week\"] = np.exp(pred_opening_week).astype(int)\n",
        "  movies_to_predict.at[movie_id,\"pred_gross_rev\"] = np.exp(pred_gross_rev).astype(int)\n",
        "  movies_to_predict.at[movie_id,\"pred_metascore\"] = pred_metascore\n",
        "  movies_to_predict.at[movie_id,\"pred_user_rating\"] = pred_user_rating*10\n",
        "\n",
        "\n",
        "movies_to_predict.round().style.format({'budget_usd': '${:,.2f}', 'pred_opening_week': '${:,.2f}', 'pred_gross_rev': '${:,.2f}', 'pred_metascore': int, 'pred_user_rating':int, 'release_year':str})"
      ]
    },
    {
      "cell_type": "code",
      "execution_count": null,
      "metadata": {
        "id": "AkdSuVgrXAzF"
      },
      "outputs": [],
      "source": [
        "file_path_unseen_data_processed = os.path.join(base_folder_path,\"4_imdb_dataset_future_perdictions.csv\")\n",
        "movies_to_predict.to_csv(file_path_unseen_data_processed, index=True, index_label=\"movie_id\")"
      ]
    }
  ],
  "metadata": {
    "colab": {
      "provenance": [],
      "mount_file_id": "1SZdCkrz-thGqCjrjab1Vk5oXNcCCe2X6",
      "authorship_tag": "ABX9TyNq3JEeolo9u73CDK8NG3aI",
      "include_colab_link": true
    },
    "kernelspec": {
      "display_name": "Python 3",
      "name": "python3"
    },
    "language_info": {
      "name": "python"
    }
  },
  "nbformat": 4,
  "nbformat_minor": 0
}