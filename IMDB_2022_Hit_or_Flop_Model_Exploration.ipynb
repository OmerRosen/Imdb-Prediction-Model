{
  "nbformat": 4,
  "nbformat_minor": 0,
  "metadata": {
    "colab": {
      "provenance": [],
      "toc_visible": true,
      "mount_file_id": "1SZdCkrz-thGqCjrjab1Vk5oXNcCCe2X6",
      "authorship_tag": "ABX9TyMqAXyVxFYdZUotxTPJKJrd",
      "include_colab_link": true
    },
    "kernelspec": {
      "name": "python3",
      "display_name": "Python 3"
    },
    "language_info": {
      "name": "python"
    }
  },
  "cells": [
    {
      "cell_type": "markdown",
      "metadata": {
        "id": "view-in-github",
        "colab_type": "text"
      },
      "source": [
        "<a href=\"https://colab.research.google.com/github/OmerRosen/Kaggle/blob/main/IMDB_2022_Hit_or_Flop_Model_Exploration.ipynb\" target=\"_parent\"><img src=\"https://colab.research.google.com/assets/colab-badge.svg\" alt=\"Open In Colab\"/></a>"
      ]
    },
    {
      "cell_type": "code",
      "execution_count": 1,
      "metadata": {
        "id": "uzpK6mEXhIsz"
      },
      "outputs": [],
      "source": [
        "skip_slow_processes = True"
      ]
    },
    {
      "cell_type": "markdown",
      "source": [
        "# Model Exploring - Useful Functions"
      ],
      "metadata": {
        "id": "fC8D1kk2wz-F"
      }
    },
    {
      "cell_type": "markdown",
      "metadata": {
        "id": "2dbf591e-265c-4b5f-afa6-8fab23c9833d"
      },
      "source": [
        "Model Exploring</b><br>\n",
        "In this section we will train and fine-turn various models to achieve the best prediction on our test dataset."
      ]
    },
    {
      "cell_type": "markdown",
      "source": [
        "## Importing libraries"
      ],
      "metadata": {
        "id": "5OAfjWKUz_YY"
      }
    },
    {
      "cell_type": "code",
      "execution_count": 2,
      "metadata": {
        "id": "b02c5573-7444-4cab-87ad-14093fa465bb"
      },
      "outputs": [],
      "source": [
        "import os\n",
        "import math\n",
        "import warnings\n",
        "import itertools\n",
        "from timeit import default_timer as timer\n",
        "\n",
        "import numpy as np \n",
        "import pandas as pd \n",
        "import matplotlib.pyplot as plt\n",
        "\n",
        "import requests\n",
        "from bs4 import BeautifulSoup \n",
        "import re\n",
        "import time\n",
        "import progressbar\n",
        "\n",
        "from sklearn.model_selection import cross_val_score, train_test_split,cross_validate\n",
        "from sklearn.preprocessing import OneHotEncoder\n",
        "from sklearn import preprocessing\n",
        "from sklearn.base import clone\n",
        "from sklearn.preprocessing import StandardScaler\n",
        "from sklearn.metrics import roc_curve,auc,confusion_matrix\n",
        "from sklearn.impute import KNNImputer\n",
        "\n",
        "from sklearn.ensemble import RandomForestRegressor\n",
        "from sklearn.model_selection import train_test_split\n",
        "from sklearn.metrics import mean_squared_error, r2_score\n",
        "\n",
        "\n",
        "import seaborn as sns\n",
        "import inspect\n",
        "\n",
        "\n",
        "from sklearn.linear_model import LinearRegression\n",
        "from sklearn.tree import DecisionTreeRegressor\n",
        "\n",
        "from sklearn.ensemble import BaggingClassifier\n",
        "from sklearn.ensemble import RandomForestClassifier\n",
        "from sklearn.ensemble import AdaBoostRegressor\n",
        "from sklearn.ensemble import BaggingRegressor\n",
        "\n",
        "import xgboost as xgb\n",
        "\n",
        "from sklearn.metrics import mean_squared_error"
      ]
    },
    {
      "cell_type": "markdown",
      "source": [
        "# Load Processed Dataset"
      ],
      "metadata": {
        "id": "0JHrCaJ-uo1Q"
      }
    },
    {
      "cell_type": "code",
      "source": [
        "binary_columns = ['genere_action', 'genere_adventure', 'genere_fantasy', 'language_english', 'genere_comedy', 'language_mandarin', 'genere_horror', 'genere_thriller', 'language_spanish', 'genere_crime', 'genere_drama', 'language_russian', 'genere_history', 'language_italian', 'language_french', 'genere_romance', 'genere_mystery', 'genere_sci-fi', 'language_japanese', 'genere_animation', 'language_german', 'language_latin', 'language_arabic', 'genere_biography', 'language_hindi', 'language_chinese', 'genere_music', 'genere_sport', 'language_portuguese', 'genere_family', 'language_american sign language', 'genere_musical', 'language_hebrew', 'genere_war', 'genere_western', 'was_budget_missing', 'rating_catg_G', 'rating_catg_PG-13', 'rating_catg_R', 'rating_catg_Unrated', 'release_month_April', 'release_month_August', 'release_month_December', 'release_month_February', 'release_month_January', 'release_month_July', 'release_month_June', 'release_month_March', 'release_month_May', 'release_month_November', 'release_month_October', 'release_month_September', 'budget_currency_CAD', 'budget_currency_EUR', 'budget_currency_GBP', 'budget_currency_RUB', 'budget_currency_USD']\n",
        "numerical_columns = ['budget_usd', 'runtime_min', 'title_length', 'movie_desc_length', 'release_year', 'cast_count_total', 'cast_count_director', 'cast_count_writer', 'cast_count_cast', 'cast_count_producer', 'cast_count_composer', 'cast_count_cinematographer', 'cast_count_editor', 'cast_count_casting_director', 'cast_count_production_designer', 'cast_count_art_director', 'cast_count_set_decorator', 'cast_count_costume_designer', 'cast_count_production_manager', 'cast_count_special_effects', 'cast_count_visual_effects', 'cast_count_animation_department', 'cast_count_casting_department', 'cast_count_location_management', 'cast_count_music_department', 'cast_count_script_department', 'cast_count_transportation_department', 'cast_count_miscellaneous', 'cast_count_thanks', 'genre__count', 'language__count', 'main_crew_count', 'crew_age_avg', 'crew_age_missing', 'crew_female_count', 'crew_lgbt_count', 'crew_prestige_wins', 'crew_prestige_nominations', 'crew_awards_nominations']\n"
      ],
      "metadata": {
        "id": "X-xfjYjz4jcq"
      },
      "execution_count": 3,
      "outputs": []
    },
    {
      "cell_type": "code",
      "source": [
        "\n",
        "base_folder_path = \"/content/drive/My Drive/Harvard HW/Course 4 - Final Project\"\n",
        "file_path = os.path.join(base_folder_path,\"processed_dataset.csv\")\n",
        "X = pd.read_csv(file_path)\n",
        "X"
      ],
      "metadata": {
        "colab": {
          "base_uri": "https://localhost:8080/",
          "height": 488
        },
        "id": "XpuuC2XiurrI",
        "outputId": "aaa6129e-5a04-40dd-d53c-ac2a71b74242"
      },
      "execution_count": 4,
      "outputs": [
        {
          "output_type": "execute_result",
          "data": {
            "text/plain": [
              "        movie_id  genere_action  genere_adventure  genere_fantasy  \\\n",
              "0      tt1630029            1.0               1.0             1.0   \n",
              "1      tt6710474            1.0               1.0             0.0   \n",
              "2      tt9764362            0.0               0.0             0.0   \n",
              "3      tt7888964            1.0               0.0             0.0   \n",
              "4     tt10640346            0.0               0.0             0.0   \n",
              "...          ...            ...               ...             ...   \n",
              "3896   tt7084614            0.0               0.0             0.0   \n",
              "3897  tt11378070            0.0               0.0             0.0   \n",
              "3898   tt9278074            0.0               0.0             0.0   \n",
              "3899   tt9510324            0.0               1.0             1.0   \n",
              "3900   tt7599146            1.0               0.0             0.0   \n",
              "\n",
              "      language_english  genere_comedy  language_mandarin  genere_horror  \\\n",
              "0                  1.0            0.0                0.0            0.0   \n",
              "1                  1.0            1.0                1.0            0.0   \n",
              "2                  1.0            1.0                0.0            1.0   \n",
              "3                  1.0            0.0                0.0            0.0   \n",
              "4                  1.0            1.0                0.0            0.0   \n",
              "...                ...            ...                ...            ...   \n",
              "3896               1.0            0.0                0.0            0.0   \n",
              "3897               1.0            0.0                0.0            1.0   \n",
              "3898               1.0            1.0                0.0            1.0   \n",
              "3899               1.0            0.0                0.0            0.0   \n",
              "3900               1.0            0.0                0.0            0.0   \n",
              "\n",
              "      genere_thriller  language_spanish  ...  release_month_October  \\\n",
              "0                 0.0               0.0  ...                      0   \n",
              "1                 0.0               0.0  ...                      0   \n",
              "2                 1.0               1.0  ...                      0   \n",
              "3                 0.0               1.0  ...                      0   \n",
              "4                 0.0               1.0  ...                      0   \n",
              "...               ...               ...  ...                    ...   \n",
              "3896              1.0               0.0  ...                      1   \n",
              "3897              1.0               0.0  ...                      0   \n",
              "3898              0.0               0.0  ...                      1   \n",
              "3899              0.0               0.0  ...                      0   \n",
              "3900              0.0               1.0  ...                      1   \n",
              "\n",
              "      release_month_September  budget_currency_CAD  budget_currency_EUR  \\\n",
              "0                           0                    0                    0   \n",
              "1                           0                    0                    0   \n",
              "2                           0                    0                    0   \n",
              "3                           0                    0                    0   \n",
              "4                           0                    0                    0   \n",
              "...                       ...                  ...                  ...   \n",
              "3896                        0                    0                    0   \n",
              "3897                        0                    0                    0   \n",
              "3898                        0                    0                    0   \n",
              "3899                        0                    0                    0   \n",
              "3900                        0                    0                    0   \n",
              "\n",
              "      budget_currency_GBP  budget_currency_RUB  budget_currency_USD  \\\n",
              "0                       0                    0                    1   \n",
              "1                       0                    0                    1   \n",
              "2                       0                    0                    1   \n",
              "3                       0                    0                    1   \n",
              "4                       0                    0                    1   \n",
              "...                   ...                  ...                  ...   \n",
              "3896                    0                    0                    1   \n",
              "3897                    0                    0                    1   \n",
              "3898                    0                    0                    1   \n",
              "3899                    0                    0                    1   \n",
              "3900                    0                    0                    1   \n",
              "\n",
              "      y_opening_weekend_us_canada  y_gross_us_canada  y_metascore  \n",
              "0                             7.7        683701972.0         67.0  \n",
              "1                             7.9         77191785.0         81.0  \n",
              "2                             7.2         38501125.0         71.0  \n",
              "3                             7.4         27568035.0         64.0  \n",
              "4                             7.2         15351455.0         60.0  \n",
              "...                           ...                ...          ...  \n",
              "3896                          4.5                NaN          NaN  \n",
              "3897                          5.0                NaN          NaN  \n",
              "3898                          3.2                NaN          NaN  \n",
              "3899                          4.9                NaN          NaN  \n",
              "3900                          7.8                NaN          NaN  \n",
              "\n",
              "[3901 rows x 100 columns]"
            ],
            "text/html": [
              "\n",
              "  <div id=\"df-098b742f-5206-4399-865c-00989b3caa50\">\n",
              "    <div class=\"colab-df-container\">\n",
              "      <div>\n",
              "<style scoped>\n",
              "    .dataframe tbody tr th:only-of-type {\n",
              "        vertical-align: middle;\n",
              "    }\n",
              "\n",
              "    .dataframe tbody tr th {\n",
              "        vertical-align: top;\n",
              "    }\n",
              "\n",
              "    .dataframe thead th {\n",
              "        text-align: right;\n",
              "    }\n",
              "</style>\n",
              "<table border=\"1\" class=\"dataframe\">\n",
              "  <thead>\n",
              "    <tr style=\"text-align: right;\">\n",
              "      <th></th>\n",
              "      <th>movie_id</th>\n",
              "      <th>genere_action</th>\n",
              "      <th>genere_adventure</th>\n",
              "      <th>genere_fantasy</th>\n",
              "      <th>language_english</th>\n",
              "      <th>genere_comedy</th>\n",
              "      <th>language_mandarin</th>\n",
              "      <th>genere_horror</th>\n",
              "      <th>genere_thriller</th>\n",
              "      <th>language_spanish</th>\n",
              "      <th>...</th>\n",
              "      <th>release_month_October</th>\n",
              "      <th>release_month_September</th>\n",
              "      <th>budget_currency_CAD</th>\n",
              "      <th>budget_currency_EUR</th>\n",
              "      <th>budget_currency_GBP</th>\n",
              "      <th>budget_currency_RUB</th>\n",
              "      <th>budget_currency_USD</th>\n",
              "      <th>y_opening_weekend_us_canada</th>\n",
              "      <th>y_gross_us_canada</th>\n",
              "      <th>y_metascore</th>\n",
              "    </tr>\n",
              "  </thead>\n",
              "  <tbody>\n",
              "    <tr>\n",
              "      <th>0</th>\n",
              "      <td>tt1630029</td>\n",
              "      <td>1.0</td>\n",
              "      <td>1.0</td>\n",
              "      <td>1.0</td>\n",
              "      <td>1.0</td>\n",
              "      <td>0.0</td>\n",
              "      <td>0.0</td>\n",
              "      <td>0.0</td>\n",
              "      <td>0.0</td>\n",
              "      <td>0.0</td>\n",
              "      <td>...</td>\n",
              "      <td>0</td>\n",
              "      <td>0</td>\n",
              "      <td>0</td>\n",
              "      <td>0</td>\n",
              "      <td>0</td>\n",
              "      <td>0</td>\n",
              "      <td>1</td>\n",
              "      <td>7.7</td>\n",
              "      <td>683701972.0</td>\n",
              "      <td>67.0</td>\n",
              "    </tr>\n",
              "    <tr>\n",
              "      <th>1</th>\n",
              "      <td>tt6710474</td>\n",
              "      <td>1.0</td>\n",
              "      <td>1.0</td>\n",
              "      <td>0.0</td>\n",
              "      <td>1.0</td>\n",
              "      <td>1.0</td>\n",
              "      <td>1.0</td>\n",
              "      <td>0.0</td>\n",
              "      <td>0.0</td>\n",
              "      <td>0.0</td>\n",
              "      <td>...</td>\n",
              "      <td>0</td>\n",
              "      <td>0</td>\n",
              "      <td>0</td>\n",
              "      <td>0</td>\n",
              "      <td>0</td>\n",
              "      <td>0</td>\n",
              "      <td>1</td>\n",
              "      <td>7.9</td>\n",
              "      <td>77191785.0</td>\n",
              "      <td>81.0</td>\n",
              "    </tr>\n",
              "    <tr>\n",
              "      <th>2</th>\n",
              "      <td>tt9764362</td>\n",
              "      <td>0.0</td>\n",
              "      <td>0.0</td>\n",
              "      <td>0.0</td>\n",
              "      <td>1.0</td>\n",
              "      <td>1.0</td>\n",
              "      <td>0.0</td>\n",
              "      <td>1.0</td>\n",
              "      <td>1.0</td>\n",
              "      <td>1.0</td>\n",
              "      <td>...</td>\n",
              "      <td>0</td>\n",
              "      <td>0</td>\n",
              "      <td>0</td>\n",
              "      <td>0</td>\n",
              "      <td>0</td>\n",
              "      <td>0</td>\n",
              "      <td>1</td>\n",
              "      <td>7.2</td>\n",
              "      <td>38501125.0</td>\n",
              "      <td>71.0</td>\n",
              "    </tr>\n",
              "    <tr>\n",
              "      <th>3</th>\n",
              "      <td>tt7888964</td>\n",
              "      <td>1.0</td>\n",
              "      <td>0.0</td>\n",
              "      <td>0.0</td>\n",
              "      <td>1.0</td>\n",
              "      <td>0.0</td>\n",
              "      <td>0.0</td>\n",
              "      <td>0.0</td>\n",
              "      <td>0.0</td>\n",
              "      <td>1.0</td>\n",
              "      <td>...</td>\n",
              "      <td>0</td>\n",
              "      <td>0</td>\n",
              "      <td>0</td>\n",
              "      <td>0</td>\n",
              "      <td>0</td>\n",
              "      <td>0</td>\n",
              "      <td>1</td>\n",
              "      <td>7.4</td>\n",
              "      <td>27568035.0</td>\n",
              "      <td>64.0</td>\n",
              "    </tr>\n",
              "    <tr>\n",
              "      <th>4</th>\n",
              "      <td>tt10640346</td>\n",
              "      <td>0.0</td>\n",
              "      <td>0.0</td>\n",
              "      <td>0.0</td>\n",
              "      <td>1.0</td>\n",
              "      <td>1.0</td>\n",
              "      <td>0.0</td>\n",
              "      <td>0.0</td>\n",
              "      <td>0.0</td>\n",
              "      <td>1.0</td>\n",
              "      <td>...</td>\n",
              "      <td>0</td>\n",
              "      <td>0</td>\n",
              "      <td>0</td>\n",
              "      <td>0</td>\n",
              "      <td>0</td>\n",
              "      <td>0</td>\n",
              "      <td>1</td>\n",
              "      <td>7.2</td>\n",
              "      <td>15351455.0</td>\n",
              "      <td>60.0</td>\n",
              "    </tr>\n",
              "    <tr>\n",
              "      <th>...</th>\n",
              "      <td>...</td>\n",
              "      <td>...</td>\n",
              "      <td>...</td>\n",
              "      <td>...</td>\n",
              "      <td>...</td>\n",
              "      <td>...</td>\n",
              "      <td>...</td>\n",
              "      <td>...</td>\n",
              "      <td>...</td>\n",
              "      <td>...</td>\n",
              "      <td>...</td>\n",
              "      <td>...</td>\n",
              "      <td>...</td>\n",
              "      <td>...</td>\n",
              "      <td>...</td>\n",
              "      <td>...</td>\n",
              "      <td>...</td>\n",
              "      <td>...</td>\n",
              "      <td>...</td>\n",
              "      <td>...</td>\n",
              "      <td>...</td>\n",
              "    </tr>\n",
              "    <tr>\n",
              "      <th>3896</th>\n",
              "      <td>tt7084614</td>\n",
              "      <td>0.0</td>\n",
              "      <td>0.0</td>\n",
              "      <td>0.0</td>\n",
              "      <td>1.0</td>\n",
              "      <td>0.0</td>\n",
              "      <td>0.0</td>\n",
              "      <td>0.0</td>\n",
              "      <td>1.0</td>\n",
              "      <td>0.0</td>\n",
              "      <td>...</td>\n",
              "      <td>1</td>\n",
              "      <td>0</td>\n",
              "      <td>0</td>\n",
              "      <td>0</td>\n",
              "      <td>0</td>\n",
              "      <td>0</td>\n",
              "      <td>1</td>\n",
              "      <td>4.5</td>\n",
              "      <td>NaN</td>\n",
              "      <td>NaN</td>\n",
              "    </tr>\n",
              "    <tr>\n",
              "      <th>3897</th>\n",
              "      <td>tt11378070</td>\n",
              "      <td>0.0</td>\n",
              "      <td>0.0</td>\n",
              "      <td>0.0</td>\n",
              "      <td>1.0</td>\n",
              "      <td>0.0</td>\n",
              "      <td>0.0</td>\n",
              "      <td>1.0</td>\n",
              "      <td>1.0</td>\n",
              "      <td>0.0</td>\n",
              "      <td>...</td>\n",
              "      <td>0</td>\n",
              "      <td>0</td>\n",
              "      <td>0</td>\n",
              "      <td>0</td>\n",
              "      <td>0</td>\n",
              "      <td>0</td>\n",
              "      <td>1</td>\n",
              "      <td>5.0</td>\n",
              "      <td>NaN</td>\n",
              "      <td>NaN</td>\n",
              "    </tr>\n",
              "    <tr>\n",
              "      <th>3898</th>\n",
              "      <td>tt9278074</td>\n",
              "      <td>0.0</td>\n",
              "      <td>0.0</td>\n",
              "      <td>0.0</td>\n",
              "      <td>1.0</td>\n",
              "      <td>1.0</td>\n",
              "      <td>0.0</td>\n",
              "      <td>1.0</td>\n",
              "      <td>0.0</td>\n",
              "      <td>0.0</td>\n",
              "      <td>...</td>\n",
              "      <td>1</td>\n",
              "      <td>0</td>\n",
              "      <td>0</td>\n",
              "      <td>0</td>\n",
              "      <td>0</td>\n",
              "      <td>0</td>\n",
              "      <td>1</td>\n",
              "      <td>3.2</td>\n",
              "      <td>NaN</td>\n",
              "      <td>NaN</td>\n",
              "    </tr>\n",
              "    <tr>\n",
              "      <th>3899</th>\n",
              "      <td>tt9510324</td>\n",
              "      <td>0.0</td>\n",
              "      <td>1.0</td>\n",
              "      <td>1.0</td>\n",
              "      <td>1.0</td>\n",
              "      <td>0.0</td>\n",
              "      <td>0.0</td>\n",
              "      <td>0.0</td>\n",
              "      <td>0.0</td>\n",
              "      <td>0.0</td>\n",
              "      <td>...</td>\n",
              "      <td>0</td>\n",
              "      <td>0</td>\n",
              "      <td>0</td>\n",
              "      <td>0</td>\n",
              "      <td>0</td>\n",
              "      <td>0</td>\n",
              "      <td>1</td>\n",
              "      <td>4.9</td>\n",
              "      <td>NaN</td>\n",
              "      <td>NaN</td>\n",
              "    </tr>\n",
              "    <tr>\n",
              "      <th>3900</th>\n",
              "      <td>tt7599146</td>\n",
              "      <td>1.0</td>\n",
              "      <td>0.0</td>\n",
              "      <td>0.0</td>\n",
              "      <td>1.0</td>\n",
              "      <td>0.0</td>\n",
              "      <td>0.0</td>\n",
              "      <td>0.0</td>\n",
              "      <td>0.0</td>\n",
              "      <td>1.0</td>\n",
              "      <td>...</td>\n",
              "      <td>1</td>\n",
              "      <td>0</td>\n",
              "      <td>0</td>\n",
              "      <td>0</td>\n",
              "      <td>0</td>\n",
              "      <td>0</td>\n",
              "      <td>1</td>\n",
              "      <td>7.8</td>\n",
              "      <td>NaN</td>\n",
              "      <td>NaN</td>\n",
              "    </tr>\n",
              "  </tbody>\n",
              "</table>\n",
              "<p>3901 rows × 100 columns</p>\n",
              "</div>\n",
              "      <button class=\"colab-df-convert\" onclick=\"convertToInteractive('df-098b742f-5206-4399-865c-00989b3caa50')\"\n",
              "              title=\"Convert this dataframe to an interactive table.\"\n",
              "              style=\"display:none;\">\n",
              "        \n",
              "  <svg xmlns=\"http://www.w3.org/2000/svg\" height=\"24px\"viewBox=\"0 0 24 24\"\n",
              "       width=\"24px\">\n",
              "    <path d=\"M0 0h24v24H0V0z\" fill=\"none\"/>\n",
              "    <path d=\"M18.56 5.44l.94 2.06.94-2.06 2.06-.94-2.06-.94-.94-2.06-.94 2.06-2.06.94zm-11 1L8.5 8.5l.94-2.06 2.06-.94-2.06-.94L8.5 2.5l-.94 2.06-2.06.94zm10 10l.94 2.06.94-2.06 2.06-.94-2.06-.94-.94-2.06-.94 2.06-2.06.94z\"/><path d=\"M17.41 7.96l-1.37-1.37c-.4-.4-.92-.59-1.43-.59-.52 0-1.04.2-1.43.59L10.3 9.45l-7.72 7.72c-.78.78-.78 2.05 0 2.83L4 21.41c.39.39.9.59 1.41.59.51 0 1.02-.2 1.41-.59l7.78-7.78 2.81-2.81c.8-.78.8-2.07 0-2.86zM5.41 20L4 18.59l7.72-7.72 1.47 1.35L5.41 20z\"/>\n",
              "  </svg>\n",
              "      </button>\n",
              "      \n",
              "  <style>\n",
              "    .colab-df-container {\n",
              "      display:flex;\n",
              "      flex-wrap:wrap;\n",
              "      gap: 12px;\n",
              "    }\n",
              "\n",
              "    .colab-df-convert {\n",
              "      background-color: #E8F0FE;\n",
              "      border: none;\n",
              "      border-radius: 50%;\n",
              "      cursor: pointer;\n",
              "      display: none;\n",
              "      fill: #1967D2;\n",
              "      height: 32px;\n",
              "      padding: 0 0 0 0;\n",
              "      width: 32px;\n",
              "    }\n",
              "\n",
              "    .colab-df-convert:hover {\n",
              "      background-color: #E2EBFA;\n",
              "      box-shadow: 0px 1px 2px rgba(60, 64, 67, 0.3), 0px 1px 3px 1px rgba(60, 64, 67, 0.15);\n",
              "      fill: #174EA6;\n",
              "    }\n",
              "\n",
              "    [theme=dark] .colab-df-convert {\n",
              "      background-color: #3B4455;\n",
              "      fill: #D2E3FC;\n",
              "    }\n",
              "\n",
              "    [theme=dark] .colab-df-convert:hover {\n",
              "      background-color: #434B5C;\n",
              "      box-shadow: 0px 1px 3px 1px rgba(0, 0, 0, 0.15);\n",
              "      filter: drop-shadow(0px 1px 2px rgba(0, 0, 0, 0.3));\n",
              "      fill: #FFFFFF;\n",
              "    }\n",
              "  </style>\n",
              "\n",
              "      <script>\n",
              "        const buttonEl =\n",
              "          document.querySelector('#df-098b742f-5206-4399-865c-00989b3caa50 button.colab-df-convert');\n",
              "        buttonEl.style.display =\n",
              "          google.colab.kernel.accessAllowed ? 'block' : 'none';\n",
              "\n",
              "        async function convertToInteractive(key) {\n",
              "          const element = document.querySelector('#df-098b742f-5206-4399-865c-00989b3caa50');\n",
              "          const dataTable =\n",
              "            await google.colab.kernel.invokeFunction('convertToInteractive',\n",
              "                                                     [key], {});\n",
              "          if (!dataTable) return;\n",
              "\n",
              "          const docLinkHtml = 'Like what you see? Visit the ' +\n",
              "            '<a target=\"_blank\" href=https://colab.research.google.com/notebooks/data_table.ipynb>data table notebook</a>'\n",
              "            + ' to learn more about interactive tables.';\n",
              "          element.innerHTML = '';\n",
              "          dataTable['output_type'] = 'display_data';\n",
              "          await google.colab.output.renderOutput(dataTable, element);\n",
              "          const docLink = document.createElement('div');\n",
              "          docLink.innerHTML = docLinkHtml;\n",
              "          element.appendChild(docLink);\n",
              "        }\n",
              "      </script>\n",
              "    </div>\n",
              "  </div>\n",
              "  "
            ]
          },
          "metadata": {},
          "execution_count": 4
        }
      ]
    },
    {
      "cell_type": "code",
      "source": [
        "y_opening_weekend_us_canada = X['y_opening_weekend_us_canada']\n",
        "y_gross_us_canada = X['y_gross_us_canada']\n",
        "y_metascore = X['y_metascore'] \n",
        "y_user_rating = X['y_opening_weekend_us_canada']\n",
        "\n",
        "X_ohe_reduced = X[binary_columns+numerical_columns].copy()"
      ],
      "metadata": {
        "id": "g3dLwA0f41xu"
      },
      "execution_count": 5,
      "outputs": []
    },
    {
      "cell_type": "markdown",
      "metadata": {
        "id": "d998d520-596e-429f-af09-bd6025ddf3e1"
      },
      "source": [
        "List of models and hyper-parameters that we would like to examine:"
      ]
    },
    {
      "cell_type": "markdown",
      "source": [
        "## Function: Construct Hyper Parameter table:"
      ],
      "metadata": {
        "id": "-SDBedR-0Uqu"
      }
    },
    {
      "cell_type": "markdown",
      "metadata": {
        "id": "b63081b7-e31f-4776-868a-6b04a7acc18b"
      },
      "source": [
        "The function is meant to iterate over our list of models, match them with the hyper-parameters relevant to them and provide a row for each model-parameter-combination.:<br>"
      ]
    },
    {
      "cell_type": "code",
      "execution_count": 6,
      "metadata": {
        "id": "968679c4-dbd8-44db-9f20-85adcd23e65d"
      },
      "outputs": [],
      "source": [
        "all_model_types = {'LinearRegression':LinearRegression()\n",
        "                  ,'DecisionTreeRegressor':DecisionTreeRegressor()\n",
        "                  ,'BaggingRegressor ':BaggingRegressor()\n",
        "                  ,'RandomForestRegressor':RandomForestRegressor()\n",
        "                  ,'AdaBoostRegressor':AdaBoostRegressor()\n",
        "                  ,'XGBRegressor ':xgb.XGBRegressor()\n",
        "                 }"
      ]
    },
    {
      "cell_type": "markdown",
      "metadata": {
        "id": "0188afdc-39e8-4566-9e2b-3cf2c3aac58f"
      },
      "source": [
        "Since different models have different hyper-parameters, we have composed a list of all parameters across our models and the values for each hyper parameter we would like to explore."
      ]
    },
    {
      "cell_type": "code",
      "execution_count": 7,
      "metadata": {
        "id": "53aa82fa-379c-4841-9fa5-89129f6414f2"
      },
      "outputs": [],
      "source": [
        "parametersOfValue = {\n",
        "    'fit_intercept':[True,False],\n",
        "    'n_neighbors':[2,4,8,15,50,80],\n",
        "    'max_depth':[3,80],\n",
        "    'learning_rate':[0.01],\n",
        "    'random_state':[1],\n",
        "    'n_estimators':[500]\n",
        "    }\n",
        "\n",
        "if skip_slow_processes==False:\n",
        "  parametersOfValue['n_estimators'] = [500, 1000, 1500]\n",
        "  parametersOfValue['max_depth'] = [3,4,5,80,100]\n",
        "  parametersOfValue['learning_rate'] = [0.1,0.01,0.001]"
      ]
    },
    {
      "cell_type": "code",
      "execution_count": 8,
      "metadata": {
        "id": "14df52d5-b62b-4c89-a8f7-b24f50177312"
      },
      "outputs": [],
      "source": [
        "# get lists and output a dict of combinations:\n",
        "\n",
        "def create_combination_dict(classifierName,parametersOfValue):\n",
        "    prop_combinations = list(itertools.product(*(parametersOfValue[Name] for Name in parametersOfValue)))\n",
        "    combinationsDict ={}\n",
        "    for i,item in enumerate(prop_combinations):\n",
        "        modelTempName = \"%s_%s\"%(classifierName,i)\n",
        "        #print(modelTempName)\n",
        "        combinationsDict[modelTempName]={'model_type':classifierName}\n",
        "        for j,colName in enumerate(parametersOfValue.keys()):\n",
        "            combinationsDict[modelTempName][colName]=item[j]\n",
        "    \n",
        "    \n",
        "    return combinationsDict"
      ]
    },
    {
      "cell_type": "markdown",
      "metadata": {
        "id": "c3c35fb9-6e4a-4669-8da0-0c9ede48197e"
      },
      "source": [
        "<br>The get_hyperparameter_combinations_per_classifier function receives a classifier and creates n rows of hyper-parameter combinations (Based on parametersOfValue list)"
      ]
    },
    {
      "cell_type": "code",
      "execution_count": 9,
      "metadata": {
        "id": "8367d298-8d17-4302-82ed-90cebe1c672e",
        "outputId": "674407ca-2ad0-4471-bb1f-a44ce9479987",
        "colab": {
          "base_uri": "https://localhost:8080/",
          "height": 131
        }
      },
      "outputs": [
        {
          "output_type": "stream",
          "name": "stdout",
          "text": [
            "Model Type: LinearRegression - 2 hyper-parameter combinations\n"
          ]
        },
        {
          "output_type": "execute_result",
          "data": {
            "text/plain": [
              "                          model_type fit_intercept\n",
              "LinearRegression_0  LinearRegression          True\n",
              "LinearRegression_1  LinearRegression         False"
            ],
            "text/html": [
              "\n",
              "  <div id=\"df-ca21c359-9c3f-4b55-913e-9a7247542fe9\">\n",
              "    <div class=\"colab-df-container\">\n",
              "      <div>\n",
              "<style scoped>\n",
              "    .dataframe tbody tr th:only-of-type {\n",
              "        vertical-align: middle;\n",
              "    }\n",
              "\n",
              "    .dataframe tbody tr th {\n",
              "        vertical-align: top;\n",
              "    }\n",
              "\n",
              "    .dataframe thead th {\n",
              "        text-align: right;\n",
              "    }\n",
              "</style>\n",
              "<table border=\"1\" class=\"dataframe\">\n",
              "  <thead>\n",
              "    <tr style=\"text-align: right;\">\n",
              "      <th></th>\n",
              "      <th>model_type</th>\n",
              "      <th>fit_intercept</th>\n",
              "    </tr>\n",
              "  </thead>\n",
              "  <tbody>\n",
              "    <tr>\n",
              "      <th>LinearRegression_0</th>\n",
              "      <td>LinearRegression</td>\n",
              "      <td>True</td>\n",
              "    </tr>\n",
              "    <tr>\n",
              "      <th>LinearRegression_1</th>\n",
              "      <td>LinearRegression</td>\n",
              "      <td>False</td>\n",
              "    </tr>\n",
              "  </tbody>\n",
              "</table>\n",
              "</div>\n",
              "      <button class=\"colab-df-convert\" onclick=\"convertToInteractive('df-ca21c359-9c3f-4b55-913e-9a7247542fe9')\"\n",
              "              title=\"Convert this dataframe to an interactive table.\"\n",
              "              style=\"display:none;\">\n",
              "        \n",
              "  <svg xmlns=\"http://www.w3.org/2000/svg\" height=\"24px\"viewBox=\"0 0 24 24\"\n",
              "       width=\"24px\">\n",
              "    <path d=\"M0 0h24v24H0V0z\" fill=\"none\"/>\n",
              "    <path d=\"M18.56 5.44l.94 2.06.94-2.06 2.06-.94-2.06-.94-.94-2.06-.94 2.06-2.06.94zm-11 1L8.5 8.5l.94-2.06 2.06-.94-2.06-.94L8.5 2.5l-.94 2.06-2.06.94zm10 10l.94 2.06.94-2.06 2.06-.94-2.06-.94-.94-2.06-.94 2.06-2.06.94z\"/><path d=\"M17.41 7.96l-1.37-1.37c-.4-.4-.92-.59-1.43-.59-.52 0-1.04.2-1.43.59L10.3 9.45l-7.72 7.72c-.78.78-.78 2.05 0 2.83L4 21.41c.39.39.9.59 1.41.59.51 0 1.02-.2 1.41-.59l7.78-7.78 2.81-2.81c.8-.78.8-2.07 0-2.86zM5.41 20L4 18.59l7.72-7.72 1.47 1.35L5.41 20z\"/>\n",
              "  </svg>\n",
              "      </button>\n",
              "      \n",
              "  <style>\n",
              "    .colab-df-container {\n",
              "      display:flex;\n",
              "      flex-wrap:wrap;\n",
              "      gap: 12px;\n",
              "    }\n",
              "\n",
              "    .colab-df-convert {\n",
              "      background-color: #E8F0FE;\n",
              "      border: none;\n",
              "      border-radius: 50%;\n",
              "      cursor: pointer;\n",
              "      display: none;\n",
              "      fill: #1967D2;\n",
              "      height: 32px;\n",
              "      padding: 0 0 0 0;\n",
              "      width: 32px;\n",
              "    }\n",
              "\n",
              "    .colab-df-convert:hover {\n",
              "      background-color: #E2EBFA;\n",
              "      box-shadow: 0px 1px 2px rgba(60, 64, 67, 0.3), 0px 1px 3px 1px rgba(60, 64, 67, 0.15);\n",
              "      fill: #174EA6;\n",
              "    }\n",
              "\n",
              "    [theme=dark] .colab-df-convert {\n",
              "      background-color: #3B4455;\n",
              "      fill: #D2E3FC;\n",
              "    }\n",
              "\n",
              "    [theme=dark] .colab-df-convert:hover {\n",
              "      background-color: #434B5C;\n",
              "      box-shadow: 0px 1px 3px 1px rgba(0, 0, 0, 0.15);\n",
              "      filter: drop-shadow(0px 1px 2px rgba(0, 0, 0, 0.3));\n",
              "      fill: #FFFFFF;\n",
              "    }\n",
              "  </style>\n",
              "\n",
              "      <script>\n",
              "        const buttonEl =\n",
              "          document.querySelector('#df-ca21c359-9c3f-4b55-913e-9a7247542fe9 button.colab-df-convert');\n",
              "        buttonEl.style.display =\n",
              "          google.colab.kernel.accessAllowed ? 'block' : 'none';\n",
              "\n",
              "        async function convertToInteractive(key) {\n",
              "          const element = document.querySelector('#df-ca21c359-9c3f-4b55-913e-9a7247542fe9');\n",
              "          const dataTable =\n",
              "            await google.colab.kernel.invokeFunction('convertToInteractive',\n",
              "                                                     [key], {});\n",
              "          if (!dataTable) return;\n",
              "\n",
              "          const docLinkHtml = 'Like what you see? Visit the ' +\n",
              "            '<a target=\"_blank\" href=https://colab.research.google.com/notebooks/data_table.ipynb>data table notebook</a>'\n",
              "            + ' to learn more about interactive tables.';\n",
              "          element.innerHTML = '';\n",
              "          dataTable['output_type'] = 'display_data';\n",
              "          await google.colab.output.renderOutput(dataTable, element);\n",
              "          const docLink = document.createElement('div');\n",
              "          docLink.innerHTML = docLinkHtml;\n",
              "          element.appendChild(docLink);\n",
              "        }\n",
              "      </script>\n",
              "    </div>\n",
              "  </div>\n",
              "  "
            ]
          },
          "metadata": {},
          "execution_count": 9
        }
      ],
      "source": [
        "def get_hyperparameter_combinations_per_classifier(classifierName,regression_model,parametersOfValue):\n",
        "\n",
        "    # Extract the hyper-parameters from our selected model:\n",
        "    paramList = regression_model.get_params()\n",
        "\n",
        "    classifierParametsOfValue = {}\n",
        "    \n",
        "    # Iterate over the parameters and match them to the parameter of value list:\n",
        "    for param in paramList:\n",
        "        if param in parametersOfValue.keys():\n",
        "            classifierParametsOfValue[param]=parametersOfValue[param]\n",
        "\n",
        "    # Convert list of hyper-parameters into a dictionary of parameter-combination\n",
        "    combinationsDict_ForModel = create_combination_dict(classifierName,classifierParametsOfValue)\n",
        "\n",
        "    relevantParametersForModel = combinationsDict_ForModel[list(combinationsDict_ForModel.keys())[0]].keys()\n",
        "    print('Model Type: %s - %s hyper-parameter combinations'%(classifierName,len(combinationsDict_ForModel)))\n",
        "    \n",
        "    return combinationsDict_ForModel\n",
        "\n",
        "\n",
        "### --------------------------------------------------------------------------------------------------------------------###\n",
        "#Example run:\n",
        "\n",
        "\n",
        "classifierName,regression_model = ('LinearRegression',LinearRegression())\n",
        "combinationsDict_ForModel = get_hyperparameter_combinations_per_classifier(classifierName,regression_model,parametersOfValue=parametersOfValue)\n",
        "pd.DataFrame(combinationsDict_ForModel).T.head(10)"
      ]
    },
    {
      "cell_type": "markdown",
      "metadata": {
        "id": "299ad62f-c4ed-4f4a-8a28-0fd7c447c898"
      },
      "source": [
        "<br>We then over our list of model, and for each model retrieve a list of all available hyper-parameter combinations and append them to dictionary"
      ]
    },
    {
      "cell_type": "code",
      "execution_count": 10,
      "metadata": {
        "id": "d62aef4f-f20c-4709-9de6-b9da3629b998",
        "outputId": "df7434e5-c605-4101-aaba-51a60f7b9ee4",
        "colab": {
          "base_uri": "https://localhost:8080/",
          "height": 476
        }
      },
      "outputs": [
        {
          "output_type": "stream",
          "name": "stdout",
          "text": [
            "Model Type: LinearRegression - 2 hyper-parameter combinations\n",
            "Model Type: DecisionTreeRegressor - 2 hyper-parameter combinations\n",
            "Model Type: BaggingRegressor  - 1 hyper-parameter combinations\n",
            "Model Type: RandomForestRegressor - 2 hyper-parameter combinations\n",
            "Model Type: AdaBoostRegressor - 1 hyper-parameter combinations\n",
            "Model Type: XGBRegressor  - 2 hyper-parameter combinations\n"
          ]
        },
        {
          "output_type": "execute_result",
          "data": {
            "text/plain": [
              "                                    model_type fit_intercept max_depth  \\\n",
              "LinearRegression_0            LinearRegression          True       NaN   \n",
              "LinearRegression_1            LinearRegression         False       NaN   \n",
              "DecisionTreeRegressor_0  DecisionTreeRegressor           NaN         3   \n",
              "DecisionTreeRegressor_1  DecisionTreeRegressor           NaN        80   \n",
              "BaggingRegressor _0          BaggingRegressor            NaN       NaN   \n",
              "RandomForestRegressor_0  RandomForestRegressor           NaN         3   \n",
              "RandomForestRegressor_1  RandomForestRegressor           NaN        80   \n",
              "AdaBoostRegressor_0          AdaBoostRegressor           NaN       NaN   \n",
              "XGBRegressor _0                  XGBRegressor            NaN         3   \n",
              "XGBRegressor _1                  XGBRegressor            NaN        80   \n",
              "\n",
              "                        random_state n_estimators learning_rate  \n",
              "LinearRegression_0               NaN          NaN           NaN  \n",
              "LinearRegression_1               NaN          NaN           NaN  \n",
              "DecisionTreeRegressor_0            1          NaN           NaN  \n",
              "DecisionTreeRegressor_1            1          NaN           NaN  \n",
              "BaggingRegressor _0                1          500           NaN  \n",
              "RandomForestRegressor_0            1          500           NaN  \n",
              "RandomForestRegressor_1            1          500           NaN  \n",
              "AdaBoostRegressor_0                1          500          0.01  \n",
              "XGBRegressor _0                    1          500          0.01  \n",
              "XGBRegressor _1                    1          500          0.01  "
            ],
            "text/html": [
              "\n",
              "  <div id=\"df-fc34c4b0-024e-4e4c-bd3c-25694811b358\">\n",
              "    <div class=\"colab-df-container\">\n",
              "      <div>\n",
              "<style scoped>\n",
              "    .dataframe tbody tr th:only-of-type {\n",
              "        vertical-align: middle;\n",
              "    }\n",
              "\n",
              "    .dataframe tbody tr th {\n",
              "        vertical-align: top;\n",
              "    }\n",
              "\n",
              "    .dataframe thead th {\n",
              "        text-align: right;\n",
              "    }\n",
              "</style>\n",
              "<table border=\"1\" class=\"dataframe\">\n",
              "  <thead>\n",
              "    <tr style=\"text-align: right;\">\n",
              "      <th></th>\n",
              "      <th>model_type</th>\n",
              "      <th>fit_intercept</th>\n",
              "      <th>max_depth</th>\n",
              "      <th>random_state</th>\n",
              "      <th>n_estimators</th>\n",
              "      <th>learning_rate</th>\n",
              "    </tr>\n",
              "  </thead>\n",
              "  <tbody>\n",
              "    <tr>\n",
              "      <th>LinearRegression_0</th>\n",
              "      <td>LinearRegression</td>\n",
              "      <td>True</td>\n",
              "      <td>NaN</td>\n",
              "      <td>NaN</td>\n",
              "      <td>NaN</td>\n",
              "      <td>NaN</td>\n",
              "    </tr>\n",
              "    <tr>\n",
              "      <th>LinearRegression_1</th>\n",
              "      <td>LinearRegression</td>\n",
              "      <td>False</td>\n",
              "      <td>NaN</td>\n",
              "      <td>NaN</td>\n",
              "      <td>NaN</td>\n",
              "      <td>NaN</td>\n",
              "    </tr>\n",
              "    <tr>\n",
              "      <th>DecisionTreeRegressor_0</th>\n",
              "      <td>DecisionTreeRegressor</td>\n",
              "      <td>NaN</td>\n",
              "      <td>3</td>\n",
              "      <td>1</td>\n",
              "      <td>NaN</td>\n",
              "      <td>NaN</td>\n",
              "    </tr>\n",
              "    <tr>\n",
              "      <th>DecisionTreeRegressor_1</th>\n",
              "      <td>DecisionTreeRegressor</td>\n",
              "      <td>NaN</td>\n",
              "      <td>80</td>\n",
              "      <td>1</td>\n",
              "      <td>NaN</td>\n",
              "      <td>NaN</td>\n",
              "    </tr>\n",
              "    <tr>\n",
              "      <th>BaggingRegressor _0</th>\n",
              "      <td>BaggingRegressor</td>\n",
              "      <td>NaN</td>\n",
              "      <td>NaN</td>\n",
              "      <td>1</td>\n",
              "      <td>500</td>\n",
              "      <td>NaN</td>\n",
              "    </tr>\n",
              "    <tr>\n",
              "      <th>RandomForestRegressor_0</th>\n",
              "      <td>RandomForestRegressor</td>\n",
              "      <td>NaN</td>\n",
              "      <td>3</td>\n",
              "      <td>1</td>\n",
              "      <td>500</td>\n",
              "      <td>NaN</td>\n",
              "    </tr>\n",
              "    <tr>\n",
              "      <th>RandomForestRegressor_1</th>\n",
              "      <td>RandomForestRegressor</td>\n",
              "      <td>NaN</td>\n",
              "      <td>80</td>\n",
              "      <td>1</td>\n",
              "      <td>500</td>\n",
              "      <td>NaN</td>\n",
              "    </tr>\n",
              "    <tr>\n",
              "      <th>AdaBoostRegressor_0</th>\n",
              "      <td>AdaBoostRegressor</td>\n",
              "      <td>NaN</td>\n",
              "      <td>NaN</td>\n",
              "      <td>1</td>\n",
              "      <td>500</td>\n",
              "      <td>0.01</td>\n",
              "    </tr>\n",
              "    <tr>\n",
              "      <th>XGBRegressor _0</th>\n",
              "      <td>XGBRegressor</td>\n",
              "      <td>NaN</td>\n",
              "      <td>3</td>\n",
              "      <td>1</td>\n",
              "      <td>500</td>\n",
              "      <td>0.01</td>\n",
              "    </tr>\n",
              "    <tr>\n",
              "      <th>XGBRegressor _1</th>\n",
              "      <td>XGBRegressor</td>\n",
              "      <td>NaN</td>\n",
              "      <td>80</td>\n",
              "      <td>1</td>\n",
              "      <td>500</td>\n",
              "      <td>0.01</td>\n",
              "    </tr>\n",
              "  </tbody>\n",
              "</table>\n",
              "</div>\n",
              "      <button class=\"colab-df-convert\" onclick=\"convertToInteractive('df-fc34c4b0-024e-4e4c-bd3c-25694811b358')\"\n",
              "              title=\"Convert this dataframe to an interactive table.\"\n",
              "              style=\"display:none;\">\n",
              "        \n",
              "  <svg xmlns=\"http://www.w3.org/2000/svg\" height=\"24px\"viewBox=\"0 0 24 24\"\n",
              "       width=\"24px\">\n",
              "    <path d=\"M0 0h24v24H0V0z\" fill=\"none\"/>\n",
              "    <path d=\"M18.56 5.44l.94 2.06.94-2.06 2.06-.94-2.06-.94-.94-2.06-.94 2.06-2.06.94zm-11 1L8.5 8.5l.94-2.06 2.06-.94-2.06-.94L8.5 2.5l-.94 2.06-2.06.94zm10 10l.94 2.06.94-2.06 2.06-.94-2.06-.94-.94-2.06-.94 2.06-2.06.94z\"/><path d=\"M17.41 7.96l-1.37-1.37c-.4-.4-.92-.59-1.43-.59-.52 0-1.04.2-1.43.59L10.3 9.45l-7.72 7.72c-.78.78-.78 2.05 0 2.83L4 21.41c.39.39.9.59 1.41.59.51 0 1.02-.2 1.41-.59l7.78-7.78 2.81-2.81c.8-.78.8-2.07 0-2.86zM5.41 20L4 18.59l7.72-7.72 1.47 1.35L5.41 20z\"/>\n",
              "  </svg>\n",
              "      </button>\n",
              "      \n",
              "  <style>\n",
              "    .colab-df-container {\n",
              "      display:flex;\n",
              "      flex-wrap:wrap;\n",
              "      gap: 12px;\n",
              "    }\n",
              "\n",
              "    .colab-df-convert {\n",
              "      background-color: #E8F0FE;\n",
              "      border: none;\n",
              "      border-radius: 50%;\n",
              "      cursor: pointer;\n",
              "      display: none;\n",
              "      fill: #1967D2;\n",
              "      height: 32px;\n",
              "      padding: 0 0 0 0;\n",
              "      width: 32px;\n",
              "    }\n",
              "\n",
              "    .colab-df-convert:hover {\n",
              "      background-color: #E2EBFA;\n",
              "      box-shadow: 0px 1px 2px rgba(60, 64, 67, 0.3), 0px 1px 3px 1px rgba(60, 64, 67, 0.15);\n",
              "      fill: #174EA6;\n",
              "    }\n",
              "\n",
              "    [theme=dark] .colab-df-convert {\n",
              "      background-color: #3B4455;\n",
              "      fill: #D2E3FC;\n",
              "    }\n",
              "\n",
              "    [theme=dark] .colab-df-convert:hover {\n",
              "      background-color: #434B5C;\n",
              "      box-shadow: 0px 1px 3px 1px rgba(0, 0, 0, 0.15);\n",
              "      filter: drop-shadow(0px 1px 2px rgba(0, 0, 0, 0.3));\n",
              "      fill: #FFFFFF;\n",
              "    }\n",
              "  </style>\n",
              "\n",
              "      <script>\n",
              "        const buttonEl =\n",
              "          document.querySelector('#df-fc34c4b0-024e-4e4c-bd3c-25694811b358 button.colab-df-convert');\n",
              "        buttonEl.style.display =\n",
              "          google.colab.kernel.accessAllowed ? 'block' : 'none';\n",
              "\n",
              "        async function convertToInteractive(key) {\n",
              "          const element = document.querySelector('#df-fc34c4b0-024e-4e4c-bd3c-25694811b358');\n",
              "          const dataTable =\n",
              "            await google.colab.kernel.invokeFunction('convertToInteractive',\n",
              "                                                     [key], {});\n",
              "          if (!dataTable) return;\n",
              "\n",
              "          const docLinkHtml = 'Like what you see? Visit the ' +\n",
              "            '<a target=\"_blank\" href=https://colab.research.google.com/notebooks/data_table.ipynb>data table notebook</a>'\n",
              "            + ' to learn more about interactive tables.';\n",
              "          element.innerHTML = '';\n",
              "          dataTable['output_type'] = 'display_data';\n",
              "          await google.colab.output.renderOutput(dataTable, element);\n",
              "          const docLink = document.createElement('div');\n",
              "          docLink.innerHTML = docLinkHtml;\n",
              "          element.appendChild(docLink);\n",
              "        }\n",
              "      </script>\n",
              "    </div>\n",
              "  </div>\n",
              "  "
            ]
          },
          "metadata": {},
          "execution_count": 10
        }
      ],
      "source": [
        "def get_all_model_combinations(dict_of_models,parametersOfValue):\n",
        "  all_model_combinations = {}\n",
        "\n",
        "  for classifierName,regression_model in dict_of_models.items():\n",
        "      #print(classifierName,regression_model)\n",
        "      combinationsDict_ForModel = get_hyperparameter_combinations_per_classifier(classifierName,regression_model,parametersOfValue=parametersOfValue)\n",
        "      #print(combinationsDict_ForModel)\n",
        "      all_model_combinations.update(combinationsDict_ForModel)\n",
        "\n",
        "  all_model_combinations_df = pd.DataFrame(all_model_combinations).T\n",
        "  return all_model_combinations_df\n",
        "\n",
        "all_model_combinations_df = get_all_model_combinations(all_model_types,parametersOfValue)\n",
        "all_model_combinations_df"
      ]
    },
    {
      "cell_type": "markdown",
      "metadata": {
        "id": "7c49cf7b-749b-4b01-ad95-ff1058aa586c"
      },
      "source": [
        "<br>Our final result is a data frame containing all the model types and their hyper-parameters that we will use in our test."
      ]
    },
    {
      "cell_type": "code",
      "execution_count": 11,
      "metadata": {
        "id": "d0faaacd-c254-42c1-9745-783ba7cd4141",
        "outputId": "89c1c913-bc5f-42f6-f950-25ce7539538d",
        "colab": {
          "base_uri": "https://localhost:8080/",
          "height": 382
        }
      },
      "outputs": [
        {
          "output_type": "stream",
          "name": "stdout",
          "text": [
            "There are 10 different model combinations for us to test\n"
          ]
        },
        {
          "output_type": "execute_result",
          "data": {
            "text/plain": [
              "                                    model_type fit_intercept max_depth  \\\n",
              "LinearRegression_0            LinearRegression          True       NaN   \n",
              "LinearRegression_1            LinearRegression         False       NaN   \n",
              "DecisionTreeRegressor_0  DecisionTreeRegressor           NaN         3   \n",
              "DecisionTreeRegressor_1  DecisionTreeRegressor           NaN        80   \n",
              "BaggingRegressor _0          BaggingRegressor            NaN       NaN   \n",
              "RandomForestRegressor_0  RandomForestRegressor           NaN         3   \n",
              "RandomForestRegressor_1  RandomForestRegressor           NaN        80   \n",
              "AdaBoostRegressor_0          AdaBoostRegressor           NaN       NaN   \n",
              "XGBRegressor _0                  XGBRegressor            NaN         3   \n",
              "XGBRegressor _1                  XGBRegressor            NaN        80   \n",
              "\n",
              "                        random_state n_estimators learning_rate  \n",
              "LinearRegression_0               NaN          NaN           NaN  \n",
              "LinearRegression_1               NaN          NaN           NaN  \n",
              "DecisionTreeRegressor_0            1          NaN           NaN  \n",
              "DecisionTreeRegressor_1            1          NaN           NaN  \n",
              "BaggingRegressor _0                1          500           NaN  \n",
              "RandomForestRegressor_0            1          500           NaN  \n",
              "RandomForestRegressor_1            1          500           NaN  \n",
              "AdaBoostRegressor_0                1          500          0.01  \n",
              "XGBRegressor _0                    1          500          0.01  \n",
              "XGBRegressor _1                    1          500          0.01  "
            ],
            "text/html": [
              "\n",
              "  <div id=\"df-469f1d56-ad4e-4860-8954-ab344b9b923d\">\n",
              "    <div class=\"colab-df-container\">\n",
              "      <div>\n",
              "<style scoped>\n",
              "    .dataframe tbody tr th:only-of-type {\n",
              "        vertical-align: middle;\n",
              "    }\n",
              "\n",
              "    .dataframe tbody tr th {\n",
              "        vertical-align: top;\n",
              "    }\n",
              "\n",
              "    .dataframe thead th {\n",
              "        text-align: right;\n",
              "    }\n",
              "</style>\n",
              "<table border=\"1\" class=\"dataframe\">\n",
              "  <thead>\n",
              "    <tr style=\"text-align: right;\">\n",
              "      <th></th>\n",
              "      <th>model_type</th>\n",
              "      <th>fit_intercept</th>\n",
              "      <th>max_depth</th>\n",
              "      <th>random_state</th>\n",
              "      <th>n_estimators</th>\n",
              "      <th>learning_rate</th>\n",
              "    </tr>\n",
              "  </thead>\n",
              "  <tbody>\n",
              "    <tr>\n",
              "      <th>LinearRegression_0</th>\n",
              "      <td>LinearRegression</td>\n",
              "      <td>True</td>\n",
              "      <td>NaN</td>\n",
              "      <td>NaN</td>\n",
              "      <td>NaN</td>\n",
              "      <td>NaN</td>\n",
              "    </tr>\n",
              "    <tr>\n",
              "      <th>LinearRegression_1</th>\n",
              "      <td>LinearRegression</td>\n",
              "      <td>False</td>\n",
              "      <td>NaN</td>\n",
              "      <td>NaN</td>\n",
              "      <td>NaN</td>\n",
              "      <td>NaN</td>\n",
              "    </tr>\n",
              "    <tr>\n",
              "      <th>DecisionTreeRegressor_0</th>\n",
              "      <td>DecisionTreeRegressor</td>\n",
              "      <td>NaN</td>\n",
              "      <td>3</td>\n",
              "      <td>1</td>\n",
              "      <td>NaN</td>\n",
              "      <td>NaN</td>\n",
              "    </tr>\n",
              "    <tr>\n",
              "      <th>DecisionTreeRegressor_1</th>\n",
              "      <td>DecisionTreeRegressor</td>\n",
              "      <td>NaN</td>\n",
              "      <td>80</td>\n",
              "      <td>1</td>\n",
              "      <td>NaN</td>\n",
              "      <td>NaN</td>\n",
              "    </tr>\n",
              "    <tr>\n",
              "      <th>BaggingRegressor _0</th>\n",
              "      <td>BaggingRegressor</td>\n",
              "      <td>NaN</td>\n",
              "      <td>NaN</td>\n",
              "      <td>1</td>\n",
              "      <td>500</td>\n",
              "      <td>NaN</td>\n",
              "    </tr>\n",
              "    <tr>\n",
              "      <th>RandomForestRegressor_0</th>\n",
              "      <td>RandomForestRegressor</td>\n",
              "      <td>NaN</td>\n",
              "      <td>3</td>\n",
              "      <td>1</td>\n",
              "      <td>500</td>\n",
              "      <td>NaN</td>\n",
              "    </tr>\n",
              "    <tr>\n",
              "      <th>RandomForestRegressor_1</th>\n",
              "      <td>RandomForestRegressor</td>\n",
              "      <td>NaN</td>\n",
              "      <td>80</td>\n",
              "      <td>1</td>\n",
              "      <td>500</td>\n",
              "      <td>NaN</td>\n",
              "    </tr>\n",
              "    <tr>\n",
              "      <th>AdaBoostRegressor_0</th>\n",
              "      <td>AdaBoostRegressor</td>\n",
              "      <td>NaN</td>\n",
              "      <td>NaN</td>\n",
              "      <td>1</td>\n",
              "      <td>500</td>\n",
              "      <td>0.01</td>\n",
              "    </tr>\n",
              "    <tr>\n",
              "      <th>XGBRegressor _0</th>\n",
              "      <td>XGBRegressor</td>\n",
              "      <td>NaN</td>\n",
              "      <td>3</td>\n",
              "      <td>1</td>\n",
              "      <td>500</td>\n",
              "      <td>0.01</td>\n",
              "    </tr>\n",
              "    <tr>\n",
              "      <th>XGBRegressor _1</th>\n",
              "      <td>XGBRegressor</td>\n",
              "      <td>NaN</td>\n",
              "      <td>80</td>\n",
              "      <td>1</td>\n",
              "      <td>500</td>\n",
              "      <td>0.01</td>\n",
              "    </tr>\n",
              "  </tbody>\n",
              "</table>\n",
              "</div>\n",
              "      <button class=\"colab-df-convert\" onclick=\"convertToInteractive('df-469f1d56-ad4e-4860-8954-ab344b9b923d')\"\n",
              "              title=\"Convert this dataframe to an interactive table.\"\n",
              "              style=\"display:none;\">\n",
              "        \n",
              "  <svg xmlns=\"http://www.w3.org/2000/svg\" height=\"24px\"viewBox=\"0 0 24 24\"\n",
              "       width=\"24px\">\n",
              "    <path d=\"M0 0h24v24H0V0z\" fill=\"none\"/>\n",
              "    <path d=\"M18.56 5.44l.94 2.06.94-2.06 2.06-.94-2.06-.94-.94-2.06-.94 2.06-2.06.94zm-11 1L8.5 8.5l.94-2.06 2.06-.94-2.06-.94L8.5 2.5l-.94 2.06-2.06.94zm10 10l.94 2.06.94-2.06 2.06-.94-2.06-.94-.94-2.06-.94 2.06-2.06.94z\"/><path d=\"M17.41 7.96l-1.37-1.37c-.4-.4-.92-.59-1.43-.59-.52 0-1.04.2-1.43.59L10.3 9.45l-7.72 7.72c-.78.78-.78 2.05 0 2.83L4 21.41c.39.39.9.59 1.41.59.51 0 1.02-.2 1.41-.59l7.78-7.78 2.81-2.81c.8-.78.8-2.07 0-2.86zM5.41 20L4 18.59l7.72-7.72 1.47 1.35L5.41 20z\"/>\n",
              "  </svg>\n",
              "      </button>\n",
              "      \n",
              "  <style>\n",
              "    .colab-df-container {\n",
              "      display:flex;\n",
              "      flex-wrap:wrap;\n",
              "      gap: 12px;\n",
              "    }\n",
              "\n",
              "    .colab-df-convert {\n",
              "      background-color: #E8F0FE;\n",
              "      border: none;\n",
              "      border-radius: 50%;\n",
              "      cursor: pointer;\n",
              "      display: none;\n",
              "      fill: #1967D2;\n",
              "      height: 32px;\n",
              "      padding: 0 0 0 0;\n",
              "      width: 32px;\n",
              "    }\n",
              "\n",
              "    .colab-df-convert:hover {\n",
              "      background-color: #E2EBFA;\n",
              "      box-shadow: 0px 1px 2px rgba(60, 64, 67, 0.3), 0px 1px 3px 1px rgba(60, 64, 67, 0.15);\n",
              "      fill: #174EA6;\n",
              "    }\n",
              "\n",
              "    [theme=dark] .colab-df-convert {\n",
              "      background-color: #3B4455;\n",
              "      fill: #D2E3FC;\n",
              "    }\n",
              "\n",
              "    [theme=dark] .colab-df-convert:hover {\n",
              "      background-color: #434B5C;\n",
              "      box-shadow: 0px 1px 3px 1px rgba(0, 0, 0, 0.15);\n",
              "      filter: drop-shadow(0px 1px 2px rgba(0, 0, 0, 0.3));\n",
              "      fill: #FFFFFF;\n",
              "    }\n",
              "  </style>\n",
              "\n",
              "      <script>\n",
              "        const buttonEl =\n",
              "          document.querySelector('#df-469f1d56-ad4e-4860-8954-ab344b9b923d button.colab-df-convert');\n",
              "        buttonEl.style.display =\n",
              "          google.colab.kernel.accessAllowed ? 'block' : 'none';\n",
              "\n",
              "        async function convertToInteractive(key) {\n",
              "          const element = document.querySelector('#df-469f1d56-ad4e-4860-8954-ab344b9b923d');\n",
              "          const dataTable =\n",
              "            await google.colab.kernel.invokeFunction('convertToInteractive',\n",
              "                                                     [key], {});\n",
              "          if (!dataTable) return;\n",
              "\n",
              "          const docLinkHtml = 'Like what you see? Visit the ' +\n",
              "            '<a target=\"_blank\" href=https://colab.research.google.com/notebooks/data_table.ipynb>data table notebook</a>'\n",
              "            + ' to learn more about interactive tables.';\n",
              "          element.innerHTML = '';\n",
              "          dataTable['output_type'] = 'display_data';\n",
              "          await google.colab.output.renderOutput(dataTable, element);\n",
              "          const docLink = document.createElement('div');\n",
              "          docLink.innerHTML = docLinkHtml;\n",
              "          element.appendChild(docLink);\n",
              "        }\n",
              "      </script>\n",
              "    </div>\n",
              "  </div>\n",
              "  "
            ]
          },
          "metadata": {},
          "execution_count": 11
        }
      ],
      "source": [
        "print(f'There are {all_model_combinations_df.shape[0]} different model combinations for us to test')\n",
        "all_model_combinations_df"
      ]
    },
    {
      "cell_type": "markdown",
      "source": [
        "## Function: Build and fit model for each record"
      ],
      "metadata": {
        "id": "JwCu2s56B8Pl"
      }
    },
    {
      "cell_type": "code",
      "execution_count": 28,
      "metadata": {
        "id": "40e645af-0d4a-434b-b930-f7e0c17ead25"
      },
      "outputs": [],
      "source": [
        "import inspect\n",
        "\n",
        "def run_various_models_return_results(all_model_combinations_df, dict_of_models, use_cross_validate = True, limit_features_list=None):\n",
        "  dict_of_fitted_models = {}\n",
        "\n",
        "  if limit_features_list is None:\n",
        "    cols_to_use = list(x_train_scaled.columns)\n",
        "  else:\n",
        "    cols_to_use = limit_features_list\n",
        "\n",
        "\n",
        "  num_of_model_combinations = all_model_combinations_df.shape[0]\n",
        "\n",
        "  for i,model_row in enumerate(all_model_combinations_df.T.items()):\n",
        "      \n",
        "      start = timer()\n",
        "      \n",
        "      # Take existing model and set it hyper parameters based on instructions:\n",
        "      model_name = model_row[0]\n",
        "      model_type = model_row[1][0]\n",
        "      regression_model = clone(dict_of_models[model_type])\n",
        "      model_props = regression_model.get_params()\n",
        "      \n",
        "      \n",
        "      model_properties_instructions = model_row[1][1:]\n",
        "      try:\n",
        "        if math.isnan(model_properties_instructions.get('estimator')):\n",
        "          model_properties_instructions['estimator'] = None      \n",
        "      except:\n",
        "        pass\n",
        "      \n",
        "      for prop_instruction in model_properties_instructions.index:\n",
        "          if (prop_instruction in list(model_props.keys())):\n",
        "              model_props[prop_instruction]=model_properties_instructions[prop_instruction]\n",
        "              \n",
        "      regression_model.set_params(**model_props)\n",
        "      \n",
        "      #print(f\"Model Name: {model_name} - {regression_model}\")\n",
        "      if use_cross_validate == True:\n",
        "        cross_val = cross_validate(regression_model, x_train_scaled[cols_to_use], y_train, cv=3, scoring='r2', return_train_score=True)\n",
        "      \n",
        "        train_score = (np.mean(cross_val['train_score']))\n",
        "        val_score = (np.mean(cross_val['test_score']))\n",
        "      else:\n",
        "        val_score = None\n",
        "      \n",
        "      # Fit on entire training data\n",
        "      regression_model.fit(x_train_scaled[cols_to_use], y_train)\n",
        "      test_score = regression_model.score(x_test_scaled[cols_to_use],y_test)\n",
        "      train_score = regression_model.score(x_train_scaled[cols_to_use],y_train)\n",
        "\n",
        "      #print(model_name,model_type,regression_model,train_score,test_score)\n",
        "      \n",
        "      all_model_combinations_df.at[model_name,'train_score']=train_score\n",
        "      all_model_combinations_df.at[model_name,'val_score']=val_score\n",
        "      all_model_combinations_df.at[model_name,'test_score_r2']=test_score\n",
        "      \n",
        "      yhat= regression_model.predict(x_test_scaled[cols_to_use])\n",
        "      mse = mean_squared_error(y_test, yhat)\n",
        "      all_model_combinations_df.at[model_name,'test_score_mse']=mse\n",
        "          \n",
        "      \n",
        "      all_model_combinations_df.at[model_name,'train_size']=x_train_scaled.shape[0]\n",
        "      all_model_combinations_df.at[model_name,'test_size']=x_test_scaled.shape[0]\n",
        "      all_model_combinations_df.at[model_name,'feature_n']=len(cols_to_use)\n",
        "          \n",
        "      \n",
        "      end = timer()\n",
        "      run_time_secs = round(end - start,4)\n",
        "      all_model_combinations_df.at[model_name,'run_time']=run_time_secs\n",
        "      \n",
        "      print(f\"Model #{i+1} of {num_of_model_combinations}\\nModel Name: {model_name}\\nModel Props: {model_props}\\nTrain_score: {round(train_score,3)} / Test_score: {round(test_score,3)}.\\n\")\n",
        "      \n",
        "      dict_of_fitted_models[model_name] = regression_model\n",
        "      \n",
        "  print(\"\\nFinished Run\")\n",
        "  return all_model_combinations_df.sort_values(by='test_score_r2', ascending=False) , dict_of_fitted_models"
      ]
    },
    {
      "cell_type": "code",
      "source": [
        "def is_nan(obj):\n",
        "    try:\n",
        "        return math.isnan(float(obj))\n",
        "    except (TypeError, ValueError):\n",
        "        return False\n",
        "\n",
        "obj = \"not a number\"\n",
        "\n",
        "if is_nan(obj):\n",
        "    print(\"The object is NaN\")\n",
        "else:\n",
        "    print(\"The object is not NaN\")"
      ],
      "metadata": {
        "colab": {
          "base_uri": "https://localhost:8080/"
        },
        "id": "xIG_6AT0URPo",
        "outputId": "b280e080-90c8-4dbc-c0f1-aac1786acbc1"
      },
      "execution_count": 29,
      "outputs": [
        {
          "output_type": "stream",
          "name": "stdout",
          "text": [
            "The object is not NaN\n"
          ]
        }
      ]
    },
    {
      "cell_type": "markdown",
      "source": [
        "## Function: Get Model's Desc"
      ],
      "metadata": {
        "id": "EkR5dXeOEKvF"
      }
    },
    {
      "cell_type": "code",
      "source": [
        "def get_model_desc(model_combinations_output):\n",
        "  string = \"\"\n",
        "  output_desc=\"\"\n",
        "  for key, val in model_combinations_output.items():\n",
        "    \n",
        "    cols_to_ignore = ['train_score','val_score','test_score_r2','test_score_mse','train_size','test_size','run_time','feature_n','random_state']\n",
        "    if not (is_nan(val) or key in cols_to_ignore):\n",
        "      string += f\"'{key}':{val} \"\n",
        "\n",
        "    if key in ('train_score','test_score_r2'):\n",
        "      output_desc += f\"'{key}':{np.round(val,3)} \"\n",
        "\n",
        "\n",
        "  return(f\"{string}\\n{output_desc}\")"
      ],
      "metadata": {
        "id": "GqbyXgiCTQID"
      },
      "execution_count": 30,
      "outputs": []
    },
    {
      "cell_type": "markdown",
      "source": [
        "## Function: Plot Test Results"
      ],
      "metadata": {
        "id": "Krzi6iWEGyqG"
      }
    },
    {
      "cell_type": "code",
      "source": [
        "import numpy as np\n",
        "import matplotlib.pyplot as plt\n",
        "\n",
        "def scatterplot_model_preformence(model_combinations_output, dict_of_fitted_models, plot_per_row=2):\n",
        "\n",
        "\n",
        "  n_plots = model_combinations_output.shape[0]\n",
        "  n_row = math.ceil(n_plots/plot_per_row)\n",
        "  fig, axes = plt.subplots(n_row, plot_per_row, figsize=(6 * plot_per_row,6 * n_row))\n",
        "\n",
        "  for i,model_name in enumerate(model_combinations_output.index):\n",
        "\n",
        "    fitted_model = dict_of_fitted_models[model_name] \n",
        "    model_desc = get_model_desc(model_combinations_output.loc[model_name])\n",
        "\n",
        "    fitted_model.fit(x_train_scaled, y_train.ravel())\n",
        "\n",
        "    # Make predictions\n",
        "    y_pred = fitted_model.predict(x_test_scaled)\n",
        "\n",
        "    #ax = axes[i] if n_plots > 1 else axes\n",
        "    ax = fig.add_subplot(n_row, plot_per_row,i+1)\n",
        "    ax.scatter(y_test, y_pred)\n",
        "    ax.set_title(model_desc)\n",
        "    ax.set_xlabel('True values')\n",
        "    ax.set_ylabel('Predicted values')\n",
        "    \n",
        "    # Plot a diagonal line for reference\n",
        "    limits = [np.min([ax.get_xlim(), ax.get_ylim()]), np.max([ax.get_xlim(), ax.get_ylim()])]\n",
        "    \n",
        "    ax.set_xlim(limits)\n",
        "    ax.set_ylim(limits)\n",
        "    ax.plot(limits, limits, 'k--', alpha=0.75, zorder=0)\n",
        "    \n",
        "  plt.tight_layout()\n",
        "  plt.show()\n",
        "\n"
      ],
      "metadata": {
        "id": "CpAtsDd3G7D4"
      },
      "execution_count": 31,
      "outputs": []
    },
    {
      "cell_type": "markdown",
      "source": [
        "## Function: Get feature importance from Random Forest"
      ],
      "metadata": {
        "id": "hWAJo2uxEW56"
      }
    },
    {
      "cell_type": "code",
      "source": [
        "def get_feature_importance_random_forest(rf_model, threshold=0):\n",
        "  top_feature_dict = {col:0 for col in feature_names}\n",
        "\n",
        "  for dtree in rf_model.estimators_:\n",
        "      top_feature_Id = dtree.tree_.feature[0]\n",
        "      top_feature_name = feature_names[top_feature_Id]\n",
        "      \n",
        "      top_feature_dict[top_feature_name]+=1\n",
        "      \n",
        "  top_features_rf = pd.DataFrame(top_feature_dict, index=[\"Top Count - Random Forest\"]).head(1).T\n",
        "\n",
        "  columns_to_run = list(top_features_rf[top_features_rf['Top Count - Random Forest']>0].index)\n",
        "  return top_features_rf.sort_values([\"Top Count - Random Forest\"], ascending=False),columns_to_run"
      ],
      "metadata": {
        "id": "n9yp70yEEaVw"
      },
      "execution_count": 32,
      "outputs": []
    },
    {
      "cell_type": "markdown",
      "source": [],
      "metadata": {
        "id": "MLI-L4sY9AHK"
      }
    },
    {
      "cell_type": "markdown",
      "source": [
        "## Function - Return fitted model from output"
      ],
      "metadata": {
        "id": "m9wzrrWv1jaX"
      }
    },
    {
      "cell_type": "code",
      "source": [
        "def output_to_fitted_model(selected_output,columns_to_run=None):\n",
        "  model_name = selected_output.head(1).index[0]\n",
        "  _,model_dict = run_various_models_return_results(selected_output, all_model_types, use_cross_validate=False, limit_features_list=columns_to_run)\n",
        "  trained_model = model_dict[model_name]\n",
        "\n",
        "  return trained_model"
      ],
      "metadata": {
        "id": "RPdZefXk1nQI"
      },
      "execution_count": 33,
      "outputs": []
    },
    {
      "cell_type": "markdown",
      "source": [
        "# First Week USD"
      ],
      "metadata": {
        "id": "rpKvCCXfEgNd"
      }
    },
    {
      "cell_type": "markdown",
      "source": [
        "## Data Preparing"
      ],
      "metadata": {
        "id": "P5cnXg64GmGR"
      }
    },
    {
      "cell_type": "markdown",
      "source": [
        "### Filter Missing Ys - Opening Week"
      ],
      "metadata": {
        "id": "PIZYl96acnUN"
      }
    },
    {
      "cell_type": "code",
      "source": [
        "opening_week_na_mask = y_opening_weekend_us_canada.isna()\n",
        "y_opening_week = y_opening_weekend_us_canada[~opening_week_na_mask]\n",
        "y_opening_week_log = np.log(y_opening_week)\n",
        "X_opening_week = X_ohe_reduced[~opening_week_na_mask]\n",
        "X_opening_week.shape,y_opening_week.shape\n",
        "print(f\"Only {len(y_opening_week)} out of {len(opening_week_na_mask)} records had Opening Week Revenue and will be kept\")"
      ],
      "metadata": {
        "colab": {
          "base_uri": "https://localhost:8080/"
        },
        "id": "rghJs1CHxvpc",
        "outputId": "5f301b5d-ad83-4e2e-c6f8-2bf50f2c0f01"
      },
      "execution_count": 34,
      "outputs": [
        {
          "output_type": "stream",
          "name": "stdout",
          "text": [
            "Only 3901 out of 3901 records had Opening Week Revenue and will be kept\n"
          ]
        }
      ]
    },
    {
      "cell_type": "code",
      "source": [
        "# Create the histogram\n",
        "plt.hist(y_opening_week, bins=20)  # You can adjust the number of bins as needed\n",
        "\n",
        "# Add labels\n",
        "plt.xlabel('Value')\n",
        "plt.ylabel('Frequency')\n",
        "\n",
        "# Add a title\n",
        "plt.title('Histogram of opening_week')\n",
        "\n",
        "# Display the plot\n",
        "plt.show()"
      ],
      "metadata": {
        "colab": {
          "base_uri": "https://localhost:8080/",
          "height": 472
        },
        "id": "aHHSwEH-HZF0",
        "outputId": "f1f4210a-dbfb-4bcf-cdfe-a6baeddd4710"
      },
      "execution_count": 35,
      "outputs": [
        {
          "output_type": "display_data",
          "data": {
            "text/plain": [
              "<Figure size 640x480 with 1 Axes>"
            ],
            "image/png": "[encoded data removed]"
          },
          "metadata": {}
        }
      ]
    },
    {
      "cell_type": "code",
      "source": [
        "# Create the histogram\n",
        "plt.hist(y_opening_week_log, bins=20)  # You can adjust the number of bins as needed\n",
        "\n",
        "# Add labels\n",
        "plt.xlabel('Value')\n",
        "plt.ylabel('Frequency')\n",
        "\n",
        "# Add a title\n",
        "plt.title('Histogram of opening_week_log')\n",
        "\n",
        "# Display the plot\n",
        "plt.show()"
      ],
      "metadata": {
        "colab": {
          "base_uri": "https://localhost:8080/",
          "height": 472
        },
        "id": "WKpfv2h8HcIP",
        "outputId": "c17bf537-1666-4c29-bbce-faf20424f7a3"
      },
      "execution_count": 36,
      "outputs": [
        {
          "output_type": "display_data",
          "data": {
            "text/plain": [
              "<Figure size 640x480 with 1 Axes>"
            ],
            "image/png": "[encoded data removed]"
          },
          "metadata": {}
        }
      ]
    },
    {
      "cell_type": "markdown",
      "source": [
        "### Scale Data - Opening Week"
      ],
      "metadata": {
        "id": "2vTObUyHc33Q"
      }
    },
    {
      "cell_type": "code",
      "source": [
        "scalar_opening_week = StandardScaler(copy=True, with_mean=True, with_std=True).fit(X_opening_week[numerical_columns])\n",
        "\n",
        "X_opening_week_scaled = pd.DataFrame(scalar_opening_week.transform(X_opening_week[numerical_columns]),columns=numerical_columns, index=X_opening_week.index)\n",
        "\n",
        "# Reintroduce Binary Columns:\n",
        "for binary_col in binary_columns:\n",
        "  bin_s = X_opening_week[binary_col]\n",
        "  X_opening_week_scaled[binary_col] = bin_s\n",
        "\n",
        "feature_names = X_opening_week_scaled.columns\n",
        "X_opening_week_scaled"
      ],
      "metadata": {
        "colab": {
          "base_uri": "https://localhost:8080/",
          "height": 488
        },
        "id": "yPAH1rls_QBW",
        "outputId": "62dfa084-be7e-47b7-8e99-ca9c71e04a6a"
      },
      "execution_count": 37,
      "outputs": [
        {
          "output_type": "execute_result",
          "data": {
            "text/plain": [
              "      budget_usd  runtime_min  title_length  movie_desc_length  release_year  \\\n",
              "0      10.794462     5.855444      1.585410           1.311455      1.349766   \n",
              "1       0.024508     2.566679      1.585410           0.306547      1.349766   \n",
              "2       0.688607     0.581009     -0.425215          -0.251735      1.349766   \n",
              "3       0.079047    -0.349774     -1.095424           0.306547      0.650598   \n",
              "4       2.068136     5.669288     -1.095424          -0.028422      1.349766   \n",
              "...          ...          ...           ...                ...           ...   \n",
              "3896   -0.433464     0.456905     -0.425215           0.641516     -1.446908   \n",
              "3897   -0.417661    -0.349774      0.244993           0.641516      0.650598   \n",
              "3898   -0.429409    -0.660034      0.915201           0.194891     -1.446908   \n",
              "3899   -0.394919    -0.846191      0.915201          -0.586704     -0.048571   \n",
              "3900   -0.324905     2.318470      0.244993          -0.363391      1.349766   \n",
              "\n",
              "      cast_count_total  cast_count_director  cast_count_writer  \\\n",
              "0             5.075463            -0.185591           2.666758   \n",
              "1             0.797710             1.364710          -0.231943   \n",
              "2             0.396019            -0.185591          -0.231943   \n",
              "3             0.651640            -0.185591          -0.646043   \n",
              "4             2.112337            -0.185591          -0.646043   \n",
              "...                ...                  ...                ...   \n",
              "3896         -0.592560            -0.185591          -0.646043   \n",
              "3897         -0.535175            -0.185591          -0.231943   \n",
              "3898         -0.647336            -0.185591          -0.646043   \n",
              "3899         -0.511700            -0.185591          -0.231943   \n",
              "3900         -0.279553            -0.185591          -0.231943   \n",
              "\n",
              "      cast_count_cast  cast_count_producer  ...  release_month_March  \\\n",
              "0            0.687615            -0.554004  ...                    0   \n",
              "1            0.051784             0.436954  ...                    0   \n",
              "2           -0.160160            -0.333791  ...                    0   \n",
              "3            0.608137            -0.003472  ...                    1   \n",
              "4           10.807935             0.326848  ...                    0   \n",
              "...               ...                  ...  ...                  ...   \n",
              "3896        -0.848978            -0.884324  ...                    0   \n",
              "3897        -0.584048            -0.994431  ...                    0   \n",
              "3898        -1.007935            -1.104537  ...                    0   \n",
              "3899        -0.663527            -0.333791  ...                    0   \n",
              "3900        -0.504569            -0.003472  ...                    0   \n",
              "\n",
              "      release_month_May  release_month_November  release_month_October  \\\n",
              "0                     0                       0                      0   \n",
              "1                     0                       0                      0   \n",
              "2                     0                       1                      0   \n",
              "3                     0                       0                      0   \n",
              "4                     0                       0                      0   \n",
              "...                 ...                     ...                    ...   \n",
              "3896                  0                       0                      1   \n",
              "3897                  1                       0                      0   \n",
              "3898                  0                       0                      1   \n",
              "3899                  0                       0                      0   \n",
              "3900                  0                       0                      1   \n",
              "\n",
              "      release_month_September  budget_currency_CAD  budget_currency_EUR  \\\n",
              "0                           0                    0                    0   \n",
              "1                           0                    0                    0   \n",
              "2                           0                    0                    0   \n",
              "3                           0                    0                    0   \n",
              "4                           0                    0                    0   \n",
              "...                       ...                  ...                  ...   \n",
              "3896                        0                    0                    0   \n",
              "3897                        0                    0                    0   \n",
              "3898                        0                    0                    0   \n",
              "3899                        0                    0                    0   \n",
              "3900                        0                    0                    0   \n",
              "\n",
              "      budget_currency_GBP  budget_currency_RUB  budget_currency_USD  \n",
              "0                       0                    0                    1  \n",
              "1                       0                    0                    1  \n",
              "2                       0                    0                    1  \n",
              "3                       0                    0                    1  \n",
              "4                       0                    0                    1  \n",
              "...                   ...                  ...                  ...  \n",
              "3896                    0                    0                    1  \n",
              "3897                    0                    0                    1  \n",
              "3898                    0                    0                    1  \n",
              "3899                    0                    0                    1  \n",
              "3900                    0                    0                    1  \n",
              "\n",
              "[3901 rows x 96 columns]"
            ],
            "text/html": [
              "\n",
              "  <div id=\"df-89ceaec0-8270-4f77-b72e-e85b611d39fc\">\n",
              "    <div class=\"colab-df-container\">\n",
              "      <div>\n",
              "<style scoped>\n",
              "    .dataframe tbody tr th:only-of-type {\n",
              "        vertical-align: middle;\n",
              "    }\n",
              "\n",
              "    .dataframe tbody tr th {\n",
              "        vertical-align: top;\n",
              "    }\n",
              "\n",
              "    .dataframe thead th {\n",
              "        text-align: right;\n",
              "    }\n",
              "</style>\n",
              "<table border=\"1\" class=\"dataframe\">\n",
              "  <thead>\n",
              "    <tr style=\"text-align: right;\">\n",
              "      <th></th>\n",
              "      <th>budget_usd</th>\n",
              "      <th>runtime_min</th>\n",
              "      <th>title_length</th>\n",
              "      <th>movie_desc_length</th>\n",
              "      <th>release_year</th>\n",
              "      <th>cast_count_total</th>\n",
              "      <th>cast_count_director</th>\n",
              "      <th>cast_count_writer</th>\n",
              "      <th>cast_count_cast</th>\n",
              "      <th>cast_count_producer</th>\n",
              "      <th>...</th>\n",
              "      <th>release_month_March</th>\n",
              "      <th>release_month_May</th>\n",
              "      <th>release_month_November</th>\n",
              "      <th>release_month_October</th>\n",
              "      <th>release_month_September</th>\n",
              "      <th>budget_currency_CAD</th>\n",
              "      <th>budget_currency_EUR</th>\n",
              "      <th>budget_currency_GBP</th>\n",
              "      <th>budget_currency_RUB</th>\n",
              "      <th>budget_currency_USD</th>\n",
              "    </tr>\n",
              "  </thead>\n",
              "  <tbody>\n",
              "    <tr>\n",
              "      <th>0</th>\n",
              "      <td>10.794462</td>\n",
              "      <td>5.855444</td>\n",
              "      <td>1.585410</td>\n",
              "      <td>1.311455</td>\n",
              "      <td>1.349766</td>\n",
              "      <td>5.075463</td>\n",
              "      <td>-0.185591</td>\n",
              "      <td>2.666758</td>\n",
              "      <td>0.687615</td>\n",
              "      <td>-0.554004</td>\n",
              "      <td>...</td>\n",
              "      <td>0</td>\n",
              "      <td>0</td>\n",
              "      <td>0</td>\n",
              "      <td>0</td>\n",
              "      <td>0</td>\n",
              "      <td>0</td>\n",
              "      <td>0</td>\n",
              "      <td>0</td>\n",
              "      <td>0</td>\n",
              "      <td>1</td>\n",
              "    </tr>\n",
              "    <tr>\n",
              "      <th>1</th>\n",
              "      <td>0.024508</td>\n",
              "      <td>2.566679</td>\n",
              "      <td>1.585410</td>\n",
              "      <td>0.306547</td>\n",
              "      <td>1.349766</td>\n",
              "      <td>0.797710</td>\n",
              "      <td>1.364710</td>\n",
              "      <td>-0.231943</td>\n",
              "      <td>0.051784</td>\n",
              "      <td>0.436954</td>\n",
              "      <td>...</td>\n",
              "      <td>0</td>\n",
              "      <td>0</td>\n",
              "      <td>0</td>\n",
              "      <td>0</td>\n",
              "      <td>0</td>\n",
              "      <td>0</td>\n",
              "      <td>0</td>\n",
              "      <td>0</td>\n",
              "      <td>0</td>\n",
              "      <td>1</td>\n",
              "    </tr>\n",
              "    <tr>\n",
              "      <th>2</th>\n",
              "      <td>0.688607</td>\n",
              "      <td>0.581009</td>\n",
              "      <td>-0.425215</td>\n",
              "      <td>-0.251735</td>\n",
              "      <td>1.349766</td>\n",
              "      <td>0.396019</td>\n",
              "      <td>-0.185591</td>\n",
              "      <td>-0.231943</td>\n",
              "      <td>-0.160160</td>\n",
              "      <td>-0.333791</td>\n",
              "      <td>...</td>\n",
              "      <td>0</td>\n",
              "      <td>0</td>\n",
              "      <td>1</td>\n",
              "      <td>0</td>\n",
              "      <td>0</td>\n",
              "      <td>0</td>\n",
              "      <td>0</td>\n",
              "      <td>0</td>\n",
              "      <td>0</td>\n",
              "      <td>1</td>\n",
              "    </tr>\n",
              "    <tr>\n",
              "      <th>3</th>\n",
              "      <td>0.079047</td>\n",
              "      <td>-0.349774</td>\n",
              "      <td>-1.095424</td>\n",
              "      <td>0.306547</td>\n",
              "      <td>0.650598</td>\n",
              "      <td>0.651640</td>\n",
              "      <td>-0.185591</td>\n",
              "      <td>-0.646043</td>\n",
              "      <td>0.608137</td>\n",
              "      <td>-0.003472</td>\n",
              "      <td>...</td>\n",
              "      <td>1</td>\n",
              "      <td>0</td>\n",
              "      <td>0</td>\n",
              "      <td>0</td>\n",
              "      <td>0</td>\n",
              "      <td>0</td>\n",
              "      <td>0</td>\n",
              "      <td>0</td>\n",
              "      <td>0</td>\n",
              "      <td>1</td>\n",
              "    </tr>\n",
              "    <tr>\n",
              "      <th>4</th>\n",
              "      <td>2.068136</td>\n",
              "      <td>5.669288</td>\n",
              "      <td>-1.095424</td>\n",
              "      <td>-0.028422</td>\n",
              "      <td>1.349766</td>\n",
              "      <td>2.112337</td>\n",
              "      <td>-0.185591</td>\n",
              "      <td>-0.646043</td>\n",
              "      <td>10.807935</td>\n",
              "      <td>0.326848</td>\n",
              "      <td>...</td>\n",
              "      <td>0</td>\n",
              "      <td>0</td>\n",
              "      <td>0</td>\n",
              "      <td>0</td>\n",
              "      <td>0</td>\n",
              "      <td>0</td>\n",
              "      <td>0</td>\n",
              "      <td>0</td>\n",
              "      <td>0</td>\n",
              "      <td>1</td>\n",
              "    </tr>\n",
              "    <tr>\n",
              "      <th>...</th>\n",
              "      <td>...</td>\n",
              "      <td>...</td>\n",
              "      <td>...</td>\n",
              "      <td>...</td>\n",
              "      <td>...</td>\n",
              "      <td>...</td>\n",
              "      <td>...</td>\n",
              "      <td>...</td>\n",
              "      <td>...</td>\n",
              "      <td>...</td>\n",
              "      <td>...</td>\n",
              "      <td>...</td>\n",
              "      <td>...</td>\n",
              "      <td>...</td>\n",
              "      <td>...</td>\n",
              "      <td>...</td>\n",
              "      <td>...</td>\n",
              "      <td>...</td>\n",
              "      <td>...</td>\n",
              "      <td>...</td>\n",
              "      <td>...</td>\n",
              "    </tr>\n",
              "    <tr>\n",
              "      <th>3896</th>\n",
              "      <td>-0.433464</td>\n",
              "      <td>0.456905</td>\n",
              "      <td>-0.425215</td>\n",
              "      <td>0.641516</td>\n",
              "      <td>-1.446908</td>\n",
              "      <td>-0.592560</td>\n",
              "      <td>-0.185591</td>\n",
              "      <td>-0.646043</td>\n",
              "      <td>-0.848978</td>\n",
              "      <td>-0.884324</td>\n",
              "      <td>...</td>\n",
              "      <td>0</td>\n",
              "      <td>0</td>\n",
              "      <td>0</td>\n",
              "      <td>1</td>\n",
              "      <td>0</td>\n",
              "      <td>0</td>\n",
              "      <td>0</td>\n",
              "      <td>0</td>\n",
              "      <td>0</td>\n",
              "      <td>1</td>\n",
              "    </tr>\n",
              "    <tr>\n",
              "      <th>3897</th>\n",
              "      <td>-0.417661</td>\n",
              "      <td>-0.349774</td>\n",
              "      <td>0.244993</td>\n",
              "      <td>0.641516</td>\n",
              "      <td>0.650598</td>\n",
              "      <td>-0.535175</td>\n",
              "      <td>-0.185591</td>\n",
              "      <td>-0.231943</td>\n",
              "      <td>-0.584048</td>\n",
              "      <td>-0.994431</td>\n",
              "      <td>...</td>\n",
              "      <td>0</td>\n",
              "      <td>1</td>\n",
              "      <td>0</td>\n",
              "      <td>0</td>\n",
              "      <td>0</td>\n",
              "      <td>0</td>\n",
              "      <td>0</td>\n",
              "      <td>0</td>\n",
              "      <td>0</td>\n",
              "      <td>1</td>\n",
              "    </tr>\n",
              "    <tr>\n",
              "      <th>3898</th>\n",
              "      <td>-0.429409</td>\n",
              "      <td>-0.660034</td>\n",
              "      <td>0.915201</td>\n",
              "      <td>0.194891</td>\n",
              "      <td>-1.446908</td>\n",
              "      <td>-0.647336</td>\n",
              "      <td>-0.185591</td>\n",
              "      <td>-0.646043</td>\n",
              "      <td>-1.007935</td>\n",
              "      <td>-1.104537</td>\n",
              "      <td>...</td>\n",
              "      <td>0</td>\n",
              "      <td>0</td>\n",
              "      <td>0</td>\n",
              "      <td>1</td>\n",
              "      <td>0</td>\n",
              "      <td>0</td>\n",
              "      <td>0</td>\n",
              "      <td>0</td>\n",
              "      <td>0</td>\n",
              "      <td>1</td>\n",
              "    </tr>\n",
              "    <tr>\n",
              "      <th>3899</th>\n",
              "      <td>-0.394919</td>\n",
              "      <td>-0.846191</td>\n",
              "      <td>0.915201</td>\n",
              "      <td>-0.586704</td>\n",
              "      <td>-0.048571</td>\n",
              "      <td>-0.511700</td>\n",
              "      <td>-0.185591</td>\n",
              "      <td>-0.231943</td>\n",
              "      <td>-0.663527</td>\n",
              "      <td>-0.333791</td>\n",
              "      <td>...</td>\n",
              "      <td>0</td>\n",
              "      <td>0</td>\n",
              "      <td>0</td>\n",
              "      <td>0</td>\n",
              "      <td>0</td>\n",
              "      <td>0</td>\n",
              "      <td>0</td>\n",
              "      <td>0</td>\n",
              "      <td>0</td>\n",
              "      <td>1</td>\n",
              "    </tr>\n",
              "    <tr>\n",
              "      <th>3900</th>\n",
              "      <td>-0.324905</td>\n",
              "      <td>2.318470</td>\n",
              "      <td>0.244993</td>\n",
              "      <td>-0.363391</td>\n",
              "      <td>1.349766</td>\n",
              "      <td>-0.279553</td>\n",
              "      <td>-0.185591</td>\n",
              "      <td>-0.231943</td>\n",
              "      <td>-0.504569</td>\n",
              "      <td>-0.003472</td>\n",
              "      <td>...</td>\n",
              "      <td>0</td>\n",
              "      <td>0</td>\n",
              "      <td>0</td>\n",
              "      <td>1</td>\n",
              "      <td>0</td>\n",
              "      <td>0</td>\n",
              "      <td>0</td>\n",
              "      <td>0</td>\n",
              "      <td>0</td>\n",
              "      <td>1</td>\n",
              "    </tr>\n",
              "  </tbody>\n",
              "</table>\n",
              "<p>3901 rows × 96 columns</p>\n",
              "</div>\n",
              "      <button class=\"colab-df-convert\" onclick=\"convertToInteractive('df-89ceaec0-8270-4f77-b72e-e85b611d39fc')\"\n",
              "              title=\"Convert this dataframe to an interactive table.\"\n",
              "              style=\"display:none;\">\n",
              "        \n",
              "  <svg xmlns=\"http://www.w3.org/2000/svg\" height=\"24px\"viewBox=\"0 0 24 24\"\n",
              "       width=\"24px\">\n",
              "    <path d=\"M0 0h24v24H0V0z\" fill=\"none\"/>\n",
              "    <path d=\"M18.56 5.44l.94 2.06.94-2.06 2.06-.94-2.06-.94-.94-2.06-.94 2.06-2.06.94zm-11 1L8.5 8.5l.94-2.06 2.06-.94-2.06-.94L8.5 2.5l-.94 2.06-2.06.94zm10 10l.94 2.06.94-2.06 2.06-.94-2.06-.94-.94-2.06-.94 2.06-2.06.94z\"/><path d=\"M17.41 7.96l-1.37-1.37c-.4-.4-.92-.59-1.43-.59-.52 0-1.04.2-1.43.59L10.3 9.45l-7.72 7.72c-.78.78-.78 2.05 0 2.83L4 21.41c.39.39.9.59 1.41.59.51 0 1.02-.2 1.41-.59l7.78-7.78 2.81-2.81c.8-.78.8-2.07 0-2.86zM5.41 20L4 18.59l7.72-7.72 1.47 1.35L5.41 20z\"/>\n",
              "  </svg>\n",
              "      </button>\n",
              "      \n",
              "  <style>\n",
              "    .colab-df-container {\n",
              "      display:flex;\n",
              "      flex-wrap:wrap;\n",
              "      gap: 12px;\n",
              "    }\n",
              "\n",
              "    .colab-df-convert {\n",
              "      background-color: #E8F0FE;\n",
              "      border: none;\n",
              "      border-radius: 50%;\n",
              "      cursor: pointer;\n",
              "      display: none;\n",
              "      fill: #1967D2;\n",
              "      height: 32px;\n",
              "      padding: 0 0 0 0;\n",
              "      width: 32px;\n",
              "    }\n",
              "\n",
              "    .colab-df-convert:hover {\n",
              "      background-color: #E2EBFA;\n",
              "      box-shadow: 0px 1px 2px rgba(60, 64, 67, 0.3), 0px 1px 3px 1px rgba(60, 64, 67, 0.15);\n",
              "      fill: #174EA6;\n",
              "    }\n",
              "\n",
              "    [theme=dark] .colab-df-convert {\n",
              "      background-color: #3B4455;\n",
              "      fill: #D2E3FC;\n",
              "    }\n",
              "\n",
              "    [theme=dark] .colab-df-convert:hover {\n",
              "      background-color: #434B5C;\n",
              "      box-shadow: 0px 1px 3px 1px rgba(0, 0, 0, 0.15);\n",
              "      filter: drop-shadow(0px 1px 2px rgba(0, 0, 0, 0.3));\n",
              "      fill: #FFFFFF;\n",
              "    }\n",
              "  </style>\n",
              "\n",
              "      <script>\n",
              "        const buttonEl =\n",
              "          document.querySelector('#df-89ceaec0-8270-4f77-b72e-e85b611d39fc button.colab-df-convert');\n",
              "        buttonEl.style.display =\n",
              "          google.colab.kernel.accessAllowed ? 'block' : 'none';\n",
              "\n",
              "        async function convertToInteractive(key) {\n",
              "          const element = document.querySelector('#df-89ceaec0-8270-4f77-b72e-e85b611d39fc');\n",
              "          const dataTable =\n",
              "            await google.colab.kernel.invokeFunction('convertToInteractive',\n",
              "                                                     [key], {});\n",
              "          if (!dataTable) return;\n",
              "\n",
              "          const docLinkHtml = 'Like what you see? Visit the ' +\n",
              "            '<a target=\"_blank\" href=https://colab.research.google.com/notebooks/data_table.ipynb>data table notebook</a>'\n",
              "            + ' to learn more about interactive tables.';\n",
              "          element.innerHTML = '';\n",
              "          dataTable['output_type'] = 'display_data';\n",
              "          await google.colab.output.renderOutput(dataTable, element);\n",
              "          const docLink = document.createElement('div');\n",
              "          docLink.innerHTML = docLinkHtml;\n",
              "          element.appendChild(docLink);\n",
              "        }\n",
              "      </script>\n",
              "    </div>\n",
              "  </div>\n",
              "  "
            ]
          },
          "metadata": {},
          "execution_count": 37
        }
      ]
    },
    {
      "cell_type": "markdown",
      "source": [
        "### Split Train-Test - Opening Week"
      ],
      "metadata": {
        "id": "zUXMBKFrc7Mx"
      }
    },
    {
      "cell_type": "code",
      "source": [
        "x_train_scaled, x_test_scaled, y_train, y_test = train_test_split(X_opening_week_scaled, y_opening_week_log, train_size = 0.8, random_state=0)\n",
        "print(f\"Train DataSet: {x_train_scaled.shape[0]} with {x_train_scaled.shape[1]} features\")\n",
        "print(f\"Test DataSet: {x_test_scaled.shape[0]} with {x_test_scaled.shape[1]} features\")"
      ],
      "metadata": {
        "colab": {
          "base_uri": "https://localhost:8080/"
        },
        "id": "NoMn5KvfzGwT",
        "outputId": "b6a5702c-e6a3-4ec0-e26a-748a77b21f93"
      },
      "execution_count": 38,
      "outputs": [
        {
          "output_type": "stream",
          "name": "stdout",
          "text": [
            "Train DataSet: 3120 with 96 features\n",
            "Test DataSet: 781 with 96 features\n"
          ]
        }
      ]
    },
    {
      "cell_type": "markdown",
      "source": [
        "## Basic Models - Opening Week USD"
      ],
      "metadata": {
        "id": "ljvZF28k0F4p"
      }
    },
    {
      "cell_type": "markdown",
      "source": [
        "### Basic Model - Setting (Linear and Tree)"
      ],
      "metadata": {
        "id": "r7bE-MFdFqBO"
      }
    },
    {
      "cell_type": "code",
      "source": [
        "dict_of_models = {'LinearRegression':LinearRegression(),\n",
        "                  'DecisionTreeRegressor':DecisionTreeRegressor()\n",
        "                 }"
      ],
      "metadata": {
        "id": "WBMpr773Frie"
      },
      "execution_count": 39,
      "outputs": []
    },
    {
      "cell_type": "code",
      "source": [
        "parametersOfValue = {\n",
        "    'fit_intercept':[True,False],\n",
        "    'max_depth':[3,80],\n",
        "    'learning_rate':[0.01,0.001],\n",
        "    'random_state':[1],\n",
        "    'n_estimators':[500]\n",
        "    }\n",
        "\n",
        "if skip_slow_processes==False:\n",
        "  parametersOfValue['n_estimators'] = [500, 1000, 1500]\n",
        "  parametersOfValue['max_depth'] = [3,4,5,80,100]\n",
        "  parametersOfValue['learning_rate'] = [0.1,0.01,0.001]"
      ],
      "metadata": {
        "id": "GsFkZckbFq-i"
      },
      "execution_count": 40,
      "outputs": []
    },
    {
      "cell_type": "code",
      "source": [
        "all_model_combinations_df = get_all_model_combinations(dict_of_models,parametersOfValue)\n",
        "all_model_combinations_df"
      ],
      "metadata": {
        "colab": {
          "base_uri": "https://localhost:8080/",
          "height": 213
        },
        "id": "6NDs8qd4AmM3",
        "outputId": "5310891c-ac50-4333-8d57-aad13ec0600e"
      },
      "execution_count": 41,
      "outputs": [
        {
          "output_type": "stream",
          "name": "stdout",
          "text": [
            "Model Type: LinearRegression - 2 hyper-parameter combinations\n",
            "Model Type: DecisionTreeRegressor - 2 hyper-parameter combinations\n"
          ]
        },
        {
          "output_type": "execute_result",
          "data": {
            "text/plain": [
              "                                    model_type fit_intercept max_depth  \\\n",
              "LinearRegression_0            LinearRegression          True       NaN   \n",
              "LinearRegression_1            LinearRegression         False       NaN   \n",
              "DecisionTreeRegressor_0  DecisionTreeRegressor           NaN         3   \n",
              "DecisionTreeRegressor_1  DecisionTreeRegressor           NaN        80   \n",
              "\n",
              "                        random_state  \n",
              "LinearRegression_0               NaN  \n",
              "LinearRegression_1               NaN  \n",
              "DecisionTreeRegressor_0            1  \n",
              "DecisionTreeRegressor_1            1  "
            ],
            "text/html": [
              "\n",
              "  <div id=\"df-d03146c3-0a90-4bf5-a87a-2b5e80379d3c\">\n",
              "    <div class=\"colab-df-container\">\n",
              "      <div>\n",
              "<style scoped>\n",
              "    .dataframe tbody tr th:only-of-type {\n",
              "        vertical-align: middle;\n",
              "    }\n",
              "\n",
              "    .dataframe tbody tr th {\n",
              "        vertical-align: top;\n",
              "    }\n",
              "\n",
              "    .dataframe thead th {\n",
              "        text-align: right;\n",
              "    }\n",
              "</style>\n",
              "<table border=\"1\" class=\"dataframe\">\n",
              "  <thead>\n",
              "    <tr style=\"text-align: right;\">\n",
              "      <th></th>\n",
              "      <th>model_type</th>\n",
              "      <th>fit_intercept</th>\n",
              "      <th>max_depth</th>\n",
              "      <th>random_state</th>\n",
              "    </tr>\n",
              "  </thead>\n",
              "  <tbody>\n",
              "    <tr>\n",
              "      <th>LinearRegression_0</th>\n",
              "      <td>LinearRegression</td>\n",
              "      <td>True</td>\n",
              "      <td>NaN</td>\n",
              "      <td>NaN</td>\n",
              "    </tr>\n",
              "    <tr>\n",
              "      <th>LinearRegression_1</th>\n",
              "      <td>LinearRegression</td>\n",
              "      <td>False</td>\n",
              "      <td>NaN</td>\n",
              "      <td>NaN</td>\n",
              "    </tr>\n",
              "    <tr>\n",
              "      <th>DecisionTreeRegressor_0</th>\n",
              "      <td>DecisionTreeRegressor</td>\n",
              "      <td>NaN</td>\n",
              "      <td>3</td>\n",
              "      <td>1</td>\n",
              "    </tr>\n",
              "    <tr>\n",
              "      <th>DecisionTreeRegressor_1</th>\n",
              "      <td>DecisionTreeRegressor</td>\n",
              "      <td>NaN</td>\n",
              "      <td>80</td>\n",
              "      <td>1</td>\n",
              "    </tr>\n",
              "  </tbody>\n",
              "</table>\n",
              "</div>\n",
              "      <button class=\"colab-df-convert\" onclick=\"convertToInteractive('df-d03146c3-0a90-4bf5-a87a-2b5e80379d3c')\"\n",
              "              title=\"Convert this dataframe to an interactive table.\"\n",
              "              style=\"display:none;\">\n",
              "        \n",
              "  <svg xmlns=\"http://www.w3.org/2000/svg\" height=\"24px\"viewBox=\"0 0 24 24\"\n",
              "       width=\"24px\">\n",
              "    <path d=\"M0 0h24v24H0V0z\" fill=\"none\"/>\n",
              "    <path d=\"M18.56 5.44l.94 2.06.94-2.06 2.06-.94-2.06-.94-.94-2.06-.94 2.06-2.06.94zm-11 1L8.5 8.5l.94-2.06 2.06-.94-2.06-.94L8.5 2.5l-.94 2.06-2.06.94zm10 10l.94 2.06.94-2.06 2.06-.94-2.06-.94-.94-2.06-.94 2.06-2.06.94z\"/><path d=\"M17.41 7.96l-1.37-1.37c-.4-.4-.92-.59-1.43-.59-.52 0-1.04.2-1.43.59L10.3 9.45l-7.72 7.72c-.78.78-.78 2.05 0 2.83L4 21.41c.39.39.9.59 1.41.59.51 0 1.02-.2 1.41-.59l7.78-7.78 2.81-2.81c.8-.78.8-2.07 0-2.86zM5.41 20L4 18.59l7.72-7.72 1.47 1.35L5.41 20z\"/>\n",
              "  </svg>\n",
              "      </button>\n",
              "      \n",
              "  <style>\n",
              "    .colab-df-container {\n",
              "      display:flex;\n",
              "      flex-wrap:wrap;\n",
              "      gap: 12px;\n",
              "    }\n",
              "\n",
              "    .colab-df-convert {\n",
              "      background-color: #E8F0FE;\n",
              "      border: none;\n",
              "      border-radius: 50%;\n",
              "      cursor: pointer;\n",
              "      display: none;\n",
              "      fill: #1967D2;\n",
              "      height: 32px;\n",
              "      padding: 0 0 0 0;\n",
              "      width: 32px;\n",
              "    }\n",
              "\n",
              "    .colab-df-convert:hover {\n",
              "      background-color: #E2EBFA;\n",
              "      box-shadow: 0px 1px 2px rgba(60, 64, 67, 0.3), 0px 1px 3px 1px rgba(60, 64, 67, 0.15);\n",
              "      fill: #174EA6;\n",
              "    }\n",
              "\n",
              "    [theme=dark] .colab-df-convert {\n",
              "      background-color: #3B4455;\n",
              "      fill: #D2E3FC;\n",
              "    }\n",
              "\n",
              "    [theme=dark] .colab-df-convert:hover {\n",
              "      background-color: #434B5C;\n",
              "      box-shadow: 0px 1px 3px 1px rgba(0, 0, 0, 0.15);\n",
              "      filter: drop-shadow(0px 1px 2px rgba(0, 0, 0, 0.3));\n",
              "      fill: #FFFFFF;\n",
              "    }\n",
              "  </style>\n",
              "\n",
              "      <script>\n",
              "        const buttonEl =\n",
              "          document.querySelector('#df-d03146c3-0a90-4bf5-a87a-2b5e80379d3c button.colab-df-convert');\n",
              "        buttonEl.style.display =\n",
              "          google.colab.kernel.accessAllowed ? 'block' : 'none';\n",
              "\n",
              "        async function convertToInteractive(key) {\n",
              "          const element = document.querySelector('#df-d03146c3-0a90-4bf5-a87a-2b5e80379d3c');\n",
              "          const dataTable =\n",
              "            await google.colab.kernel.invokeFunction('convertToInteractive',\n",
              "                                                     [key], {});\n",
              "          if (!dataTable) return;\n",
              "\n",
              "          const docLinkHtml = 'Like what you see? Visit the ' +\n",
              "            '<a target=\"_blank\" href=https://colab.research.google.com/notebooks/data_table.ipynb>data table notebook</a>'\n",
              "            + ' to learn more about interactive tables.';\n",
              "          element.innerHTML = '';\n",
              "          dataTable['output_type'] = 'display_data';\n",
              "          await google.colab.output.renderOutput(dataTable, element);\n",
              "          const docLink = document.createElement('div');\n",
              "          docLink.innerHTML = docLinkHtml;\n",
              "          element.appendChild(docLink);\n",
              "        }\n",
              "      </script>\n",
              "    </div>\n",
              "  </div>\n",
              "  "
            ]
          },
          "metadata": {},
          "execution_count": 41
        }
      ]
    },
    {
      "cell_type": "code",
      "source": [
        "all_model_combinations_df, dict_of_fitted_models = run_various_models_return_results(all_model_combinations_df, all_model_types)"
      ],
      "metadata": {
        "colab": {
          "base_uri": "https://localhost:8080/"
        },
        "id": "hgLbV08grxvE",
        "outputId": "e2199653-b846-43e0-c8a3-0cf54dd27209"
      },
      "execution_count": 42,
      "outputs": [
        {
          "output_type": "stream",
          "name": "stdout",
          "text": [
            "Model #1 of 4\n",
            "Model Name: LinearRegression_0\n",
            "Model Props: {'copy_X': True, 'fit_intercept': True, 'n_jobs': None, 'positive': False}\n",
            "Train_score: 0.426 / Test_score: 0.373.\n",
            "\n",
            "Model #2 of 4\n",
            "Model Name: LinearRegression_1\n",
            "Model Props: {'copy_X': True, 'fit_intercept': False, 'n_jobs': None, 'positive': False}\n",
            "Train_score: 0.433 / Test_score: 0.388.\n",
            "\n",
            "Model #3 of 4\n",
            "Model Name: DecisionTreeRegressor_0\n",
            "Model Props: {'ccp_alpha': 0.0, 'criterion': 'squared_error', 'max_depth': 3, 'max_features': None, 'max_leaf_nodes': None, 'min_impurity_decrease': 0.0, 'min_samples_leaf': 1, 'min_samples_split': 2, 'min_weight_fraction_leaf': 0.0, 'random_state': 1, 'splitter': 'best'}\n",
            "Train_score: 0.331 / Test_score: 0.322.\n",
            "\n",
            "Model #4 of 4\n",
            "Model Name: DecisionTreeRegressor_1\n",
            "Model Props: {'ccp_alpha': 0.0, 'criterion': 'squared_error', 'max_depth': 80, 'max_features': None, 'max_leaf_nodes': None, 'min_impurity_decrease': 0.0, 'min_samples_leaf': 1, 'min_samples_split': 2, 'min_weight_fraction_leaf': 0.0, 'random_state': 1, 'splitter': 'best'}\n",
            "Train_score: 1.0 / Test_score: -0.133.\n",
            "\n",
            "\n",
            "Finished Run\n"
          ]
        }
      ]
    },
    {
      "cell_type": "code",
      "source": [
        "all_model_combinations_df"
      ],
      "metadata": {
        "colab": {
          "base_uri": "https://localhost:8080/",
          "height": 175
        },
        "id": "gTXBVE3nDZ2k",
        "outputId": "9f1ac466-627d-4bee-9439-ff280ed0f377"
      },
      "execution_count": 43,
      "outputs": [
        {
          "output_type": "execute_result",
          "data": {
            "text/plain": [
              "                                    model_type fit_intercept max_depth  \\\n",
              "LinearRegression_1            LinearRegression         False       NaN   \n",
              "LinearRegression_0            LinearRegression          True       NaN   \n",
              "DecisionTreeRegressor_0  DecisionTreeRegressor           NaN         3   \n",
              "DecisionTreeRegressor_1  DecisionTreeRegressor           NaN        80   \n",
              "\n",
              "                        random_state  train_score     val_score  \\\n",
              "LinearRegression_1               NaN     0.433458 -1.985955e+19   \n",
              "LinearRegression_0               NaN     0.426228 -1.165525e+17   \n",
              "DecisionTreeRegressor_0            1     0.331245  3.036125e-01   \n",
              "DecisionTreeRegressor_1            1     1.000000 -1.162023e-01   \n",
              "\n",
              "                         test_score_r2  test_score_mse  train_size  test_size  \\\n",
              "LinearRegression_1            0.387799        0.044231      3120.0      781.0   \n",
              "LinearRegression_0            0.373018        0.045299      3120.0      781.0   \n",
              "DecisionTreeRegressor_0       0.321814        0.048999      3120.0      781.0   \n",
              "DecisionTreeRegressor_1      -0.133220        0.081874      3120.0      781.0   \n",
              "\n",
              "                         feature_n  run_time  \n",
              "LinearRegression_1            96.0    0.3625  \n",
              "LinearRegression_0            96.0    0.3885  \n",
              "DecisionTreeRegressor_0       96.0    0.1653  \n",
              "DecisionTreeRegressor_1       96.0    0.3507  "
            ],
            "text/html": [
              "\n",
              "  <div id=\"df-e71495ee-6b7e-49de-920e-a9667d6250b8\">\n",
              "    <div class=\"colab-df-container\">\n",
              "      <div>\n",
              "<style scoped>\n",
              "    .dataframe tbody tr th:only-of-type {\n",
              "        vertical-align: middle;\n",
              "    }\n",
              "\n",
              "    .dataframe tbody tr th {\n",
              "        vertical-align: top;\n",
              "    }\n",
              "\n",
              "    .dataframe thead th {\n",
              "        text-align: right;\n",
              "    }\n",
              "</style>\n",
              "<table border=\"1\" class=\"dataframe\">\n",
              "  <thead>\n",
              "    <tr style=\"text-align: right;\">\n",
              "      <th></th>\n",
              "      <th>model_type</th>\n",
              "      <th>fit_intercept</th>\n",
              "      <th>max_depth</th>\n",
              "      <th>random_state</th>\n",
              "      <th>train_score</th>\n",
              "      <th>val_score</th>\n",
              "      <th>test_score_r2</th>\n",
              "      <th>test_score_mse</th>\n",
              "      <th>train_size</th>\n",
              "      <th>test_size</th>\n",
              "      <th>feature_n</th>\n",
              "      <th>run_time</th>\n",
              "    </tr>\n",
              "  </thead>\n",
              "  <tbody>\n",
              "    <tr>\n",
              "      <th>LinearRegression_1</th>\n",
              "      <td>LinearRegression</td>\n",
              "      <td>False</td>\n",
              "      <td>NaN</td>\n",
              "      <td>NaN</td>\n",
              "      <td>0.433458</td>\n",
              "      <td>-1.985955e+19</td>\n",
              "      <td>0.387799</td>\n",
              "      <td>0.044231</td>\n",
              "      <td>3120.0</td>\n",
              "      <td>781.0</td>\n",
              "      <td>96.0</td>\n",
              "      <td>0.3625</td>\n",
              "    </tr>\n",
              "    <tr>\n",
              "      <th>LinearRegression_0</th>\n",
              "      <td>LinearRegression</td>\n",
              "      <td>True</td>\n",
              "      <td>NaN</td>\n",
              "      <td>NaN</td>\n",
              "      <td>0.426228</td>\n",
              "      <td>-1.165525e+17</td>\n",
              "      <td>0.373018</td>\n",
              "      <td>0.045299</td>\n",
              "      <td>3120.0</td>\n",
              "      <td>781.0</td>\n",
              "      <td>96.0</td>\n",
              "      <td>0.3885</td>\n",
              "    </tr>\n",
              "    <tr>\n",
              "      <th>DecisionTreeRegressor_0</th>\n",
              "      <td>DecisionTreeRegressor</td>\n",
              "      <td>NaN</td>\n",
              "      <td>3</td>\n",
              "      <td>1</td>\n",
              "      <td>0.331245</td>\n",
              "      <td>3.036125e-01</td>\n",
              "      <td>0.321814</td>\n",
              "      <td>0.048999</td>\n",
              "      <td>3120.0</td>\n",
              "      <td>781.0</td>\n",
              "      <td>96.0</td>\n",
              "      <td>0.1653</td>\n",
              "    </tr>\n",
              "    <tr>\n",
              "      <th>DecisionTreeRegressor_1</th>\n",
              "      <td>DecisionTreeRegressor</td>\n",
              "      <td>NaN</td>\n",
              "      <td>80</td>\n",
              "      <td>1</td>\n",
              "      <td>1.000000</td>\n",
              "      <td>-1.162023e-01</td>\n",
              "      <td>-0.133220</td>\n",
              "      <td>0.081874</td>\n",
              "      <td>3120.0</td>\n",
              "      <td>781.0</td>\n",
              "      <td>96.0</td>\n",
              "      <td>0.3507</td>\n",
              "    </tr>\n",
              "  </tbody>\n",
              "</table>\n",
              "</div>\n",
              "      <button class=\"colab-df-convert\" onclick=\"convertToInteractive('df-e71495ee-6b7e-49de-920e-a9667d6250b8')\"\n",
              "              title=\"Convert this dataframe to an interactive table.\"\n",
              "              style=\"display:none;\">\n",
              "        \n",
              "  <svg xmlns=\"http://www.w3.org/2000/svg\" height=\"24px\"viewBox=\"0 0 24 24\"\n",
              "       width=\"24px\">\n",
              "    <path d=\"M0 0h24v24H0V0z\" fill=\"none\"/>\n",
              "    <path d=\"M18.56 5.44l.94 2.06.94-2.06 2.06-.94-2.06-.94-.94-2.06-.94 2.06-2.06.94zm-11 1L8.5 8.5l.94-2.06 2.06-.94-2.06-.94L8.5 2.5l-.94 2.06-2.06.94zm10 10l.94 2.06.94-2.06 2.06-.94-2.06-.94-.94-2.06-.94 2.06-2.06.94z\"/><path d=\"M17.41 7.96l-1.37-1.37c-.4-.4-.92-.59-1.43-.59-.52 0-1.04.2-1.43.59L10.3 9.45l-7.72 7.72c-.78.78-.78 2.05 0 2.83L4 21.41c.39.39.9.59 1.41.59.51 0 1.02-.2 1.41-.59l7.78-7.78 2.81-2.81c.8-.78.8-2.07 0-2.86zM5.41 20L4 18.59l7.72-7.72 1.47 1.35L5.41 20z\"/>\n",
              "  </svg>\n",
              "      </button>\n",
              "      \n",
              "  <style>\n",
              "    .colab-df-container {\n",
              "      display:flex;\n",
              "      flex-wrap:wrap;\n",
              "      gap: 12px;\n",
              "    }\n",
              "\n",
              "    .colab-df-convert {\n",
              "      background-color: #E8F0FE;\n",
              "      border: none;\n",
              "      border-radius: 50%;\n",
              "      cursor: pointer;\n",
              "      display: none;\n",
              "      fill: #1967D2;\n",
              "      height: 32px;\n",
              "      padding: 0 0 0 0;\n",
              "      width: 32px;\n",
              "    }\n",
              "\n",
              "    .colab-df-convert:hover {\n",
              "      background-color: #E2EBFA;\n",
              "      box-shadow: 0px 1px 2px rgba(60, 64, 67, 0.3), 0px 1px 3px 1px rgba(60, 64, 67, 0.15);\n",
              "      fill: #174EA6;\n",
              "    }\n",
              "\n",
              "    [theme=dark] .colab-df-convert {\n",
              "      background-color: #3B4455;\n",
              "      fill: #D2E3FC;\n",
              "    }\n",
              "\n",
              "    [theme=dark] .colab-df-convert:hover {\n",
              "      background-color: #434B5C;\n",
              "      box-shadow: 0px 1px 3px 1px rgba(0, 0, 0, 0.15);\n",
              "      filter: drop-shadow(0px 1px 2px rgba(0, 0, 0, 0.3));\n",
              "      fill: #FFFFFF;\n",
              "    }\n",
              "  </style>\n",
              "\n",
              "      <script>\n",
              "        const buttonEl =\n",
              "          document.querySelector('#df-e71495ee-6b7e-49de-920e-a9667d6250b8 button.colab-df-convert');\n",
              "        buttonEl.style.display =\n",
              "          google.colab.kernel.accessAllowed ? 'block' : 'none';\n",
              "\n",
              "        async function convertToInteractive(key) {\n",
              "          const element = document.querySelector('#df-e71495ee-6b7e-49de-920e-a9667d6250b8');\n",
              "          const dataTable =\n",
              "            await google.colab.kernel.invokeFunction('convertToInteractive',\n",
              "                                                     [key], {});\n",
              "          if (!dataTable) return;\n",
              "\n",
              "          const docLinkHtml = 'Like what you see? Visit the ' +\n",
              "            '<a target=\"_blank\" href=https://colab.research.google.com/notebooks/data_table.ipynb>data table notebook</a>'\n",
              "            + ' to learn more about interactive tables.';\n",
              "          element.innerHTML = '';\n",
              "          dataTable['output_type'] = 'display_data';\n",
              "          await google.colab.output.renderOutput(dataTable, element);\n",
              "          const docLink = document.createElement('div');\n",
              "          docLink.innerHTML = docLinkHtml;\n",
              "          element.appendChild(docLink);\n",
              "        }\n",
              "      </script>\n",
              "    </div>\n",
              "  </div>\n",
              "  "
            ]
          },
          "metadata": {},
          "execution_count": 43
        }
      ]
    },
    {
      "cell_type": "markdown",
      "metadata": {
        "id": "21bfc2fd-d2b2-4b20-af5c-009261dadf46"
      },
      "source": [
        "Finally, we will have a data frame containning our models, their instructions, and their resaults:"
      ]
    },
    {
      "cell_type": "markdown",
      "source": [
        "### Basic Models - Best Performing"
      ],
      "metadata": {
        "id": "KjjUG42kFUb-"
      }
    },
    {
      "cell_type": "markdown",
      "metadata": {
        "id": "ede114ff-5861-4d63-98b0-76b76824648e"
      },
      "source": [
        "<br><b>Best Performing model:</b><br>\n",
        "Since we collected all sort of output scores from our model, we can check and see which model performed best for each category:"
      ]
    },
    {
      "cell_type": "code",
      "execution_count": 44,
      "metadata": {
        "id": "88f17eda-d4c0-4587-9ee9-a10ff702ab64",
        "colab": {
          "base_uri": "https://localhost:8080/",
          "height": 163
        },
        "outputId": "752c916d-ae1e-4ff3-f1e2-6bd43144f8cb"
      },
      "outputs": [
        {
          "output_type": "stream",
          "name": "stdout",
          "text": [
            "Top 3 performing models based on test_score Score\n"
          ]
        },
        {
          "output_type": "execute_result",
          "data": {
            "text/plain": [
              "                                    model_type fit_intercept max_depth  \\\n",
              "LinearRegression_1            LinearRegression         False       NaN   \n",
              "LinearRegression_0            LinearRegression          True       NaN   \n",
              "DecisionTreeRegressor_0  DecisionTreeRegressor           NaN         3   \n",
              "\n",
              "                         train_score     val_score  test_score_r2  \\\n",
              "LinearRegression_1          0.433458 -1.985955e+19       0.387799   \n",
              "LinearRegression_0          0.426228 -1.165525e+17       0.373018   \n",
              "DecisionTreeRegressor_0     0.331245  3.036125e-01       0.321814   \n",
              "\n",
              "                         test_score_mse  run_time  \n",
              "LinearRegression_1             0.044231    0.3625  \n",
              "LinearRegression_0             0.045299    0.3885  \n",
              "DecisionTreeRegressor_0        0.048999    0.1653  "
            ],
            "text/html": [
              "\n",
              "  <div id=\"df-719fb97b-510e-4684-8c1f-60137c720411\">\n",
              "    <div class=\"colab-df-container\">\n",
              "      <div>\n",
              "<style scoped>\n",
              "    .dataframe tbody tr th:only-of-type {\n",
              "        vertical-align: middle;\n",
              "    }\n",
              "\n",
              "    .dataframe tbody tr th {\n",
              "        vertical-align: top;\n",
              "    }\n",
              "\n",
              "    .dataframe thead th {\n",
              "        text-align: right;\n",
              "    }\n",
              "</style>\n",
              "<table border=\"1\" class=\"dataframe\">\n",
              "  <thead>\n",
              "    <tr style=\"text-align: right;\">\n",
              "      <th></th>\n",
              "      <th>model_type</th>\n",
              "      <th>fit_intercept</th>\n",
              "      <th>max_depth</th>\n",
              "      <th>train_score</th>\n",
              "      <th>val_score</th>\n",
              "      <th>test_score_r2</th>\n",
              "      <th>test_score_mse</th>\n",
              "      <th>run_time</th>\n",
              "    </tr>\n",
              "  </thead>\n",
              "  <tbody>\n",
              "    <tr>\n",
              "      <th>LinearRegression_1</th>\n",
              "      <td>LinearRegression</td>\n",
              "      <td>False</td>\n",
              "      <td>NaN</td>\n",
              "      <td>0.433458</td>\n",
              "      <td>-1.985955e+19</td>\n",
              "      <td>0.387799</td>\n",
              "      <td>0.044231</td>\n",
              "      <td>0.3625</td>\n",
              "    </tr>\n",
              "    <tr>\n",
              "      <th>LinearRegression_0</th>\n",
              "      <td>LinearRegression</td>\n",
              "      <td>True</td>\n",
              "      <td>NaN</td>\n",
              "      <td>0.426228</td>\n",
              "      <td>-1.165525e+17</td>\n",
              "      <td>0.373018</td>\n",
              "      <td>0.045299</td>\n",
              "      <td>0.3885</td>\n",
              "    </tr>\n",
              "    <tr>\n",
              "      <th>DecisionTreeRegressor_0</th>\n",
              "      <td>DecisionTreeRegressor</td>\n",
              "      <td>NaN</td>\n",
              "      <td>3</td>\n",
              "      <td>0.331245</td>\n",
              "      <td>3.036125e-01</td>\n",
              "      <td>0.321814</td>\n",
              "      <td>0.048999</td>\n",
              "      <td>0.1653</td>\n",
              "    </tr>\n",
              "  </tbody>\n",
              "</table>\n",
              "</div>\n",
              "      <button class=\"colab-df-convert\" onclick=\"convertToInteractive('df-719fb97b-510e-4684-8c1f-60137c720411')\"\n",
              "              title=\"Convert this dataframe to an interactive table.\"\n",
              "              style=\"display:none;\">\n",
              "        \n",
              "  <svg xmlns=\"http://www.w3.org/2000/svg\" height=\"24px\"viewBox=\"0 0 24 24\"\n",
              "       width=\"24px\">\n",
              "    <path d=\"M0 0h24v24H0V0z\" fill=\"none\"/>\n",
              "    <path d=\"M18.56 5.44l.94 2.06.94-2.06 2.06-.94-2.06-.94-.94-2.06-.94 2.06-2.06.94zm-11 1L8.5 8.5l.94-2.06 2.06-.94-2.06-.94L8.5 2.5l-.94 2.06-2.06.94zm10 10l.94 2.06.94-2.06 2.06-.94-2.06-.94-.94-2.06-.94 2.06-2.06.94z\"/><path d=\"M17.41 7.96l-1.37-1.37c-.4-.4-.92-.59-1.43-.59-.52 0-1.04.2-1.43.59L10.3 9.45l-7.72 7.72c-.78.78-.78 2.05 0 2.83L4 21.41c.39.39.9.59 1.41.59.51 0 1.02-.2 1.41-.59l7.78-7.78 2.81-2.81c.8-.78.8-2.07 0-2.86zM5.41 20L4 18.59l7.72-7.72 1.47 1.35L5.41 20z\"/>\n",
              "  </svg>\n",
              "      </button>\n",
              "      \n",
              "  <style>\n",
              "    .colab-df-container {\n",
              "      display:flex;\n",
              "      flex-wrap:wrap;\n",
              "      gap: 12px;\n",
              "    }\n",
              "\n",
              "    .colab-df-convert {\n",
              "      background-color: #E8F0FE;\n",
              "      border: none;\n",
              "      border-radius: 50%;\n",
              "      cursor: pointer;\n",
              "      display: none;\n",
              "      fill: #1967D2;\n",
              "      height: 32px;\n",
              "      padding: 0 0 0 0;\n",
              "      width: 32px;\n",
              "    }\n",
              "\n",
              "    .colab-df-convert:hover {\n",
              "      background-color: #E2EBFA;\n",
              "      box-shadow: 0px 1px 2px rgba(60, 64, 67, 0.3), 0px 1px 3px 1px rgba(60, 64, 67, 0.15);\n",
              "      fill: #174EA6;\n",
              "    }\n",
              "\n",
              "    [theme=dark] .colab-df-convert {\n",
              "      background-color: #3B4455;\n",
              "      fill: #D2E3FC;\n",
              "    }\n",
              "\n",
              "    [theme=dark] .colab-df-convert:hover {\n",
              "      background-color: #434B5C;\n",
              "      box-shadow: 0px 1px 3px 1px rgba(0, 0, 0, 0.15);\n",
              "      filter: drop-shadow(0px 1px 2px rgba(0, 0, 0, 0.3));\n",
              "      fill: #FFFFFF;\n",
              "    }\n",
              "  </style>\n",
              "\n",
              "      <script>\n",
              "        const buttonEl =\n",
              "          document.querySelector('#df-719fb97b-510e-4684-8c1f-60137c720411 button.colab-df-convert');\n",
              "        buttonEl.style.display =\n",
              "          google.colab.kernel.accessAllowed ? 'block' : 'none';\n",
              "\n",
              "        async function convertToInteractive(key) {\n",
              "          const element = document.querySelector('#df-719fb97b-510e-4684-8c1f-60137c720411');\n",
              "          const dataTable =\n",
              "            await google.colab.kernel.invokeFunction('convertToInteractive',\n",
              "                                                     [key], {});\n",
              "          if (!dataTable) return;\n",
              "\n",
              "          const docLinkHtml = 'Like what you see? Visit the ' +\n",
              "            '<a target=\"_blank\" href=https://colab.research.google.com/notebooks/data_table.ipynb>data table notebook</a>'\n",
              "            + ' to learn more about interactive tables.';\n",
              "          element.innerHTML = '';\n",
              "          dataTable['output_type'] = 'display_data';\n",
              "          await google.colab.output.renderOutput(dataTable, element);\n",
              "          const docLink = document.createElement('div');\n",
              "          docLink.innerHTML = docLinkHtml;\n",
              "          element.appendChild(docLink);\n",
              "        }\n",
              "      </script>\n",
              "    </div>\n",
              "  </div>\n",
              "  "
            ]
          },
          "metadata": {},
          "execution_count": 44
        }
      ],
      "source": [
        "cols_to_show = ['model_type','fit_intercept','max_depth','train_score','val_score','test_score_r2','test_score_mse','run_time']\n",
        "print(f\"Top 3 performing models based on test_score Score\")\n",
        "all_model_combinations_df[cols_to_show].sort_values(by='test_score_r2', ascending=False).head(3)"
      ]
    },
    {
      "cell_type": "markdown",
      "source": [
        "### Basic Models - Plot results"
      ],
      "metadata": {
        "id": "eeriW0nsFxDd"
      }
    },
    {
      "cell_type": "code",
      "source": [
        "scatterplot_model_preformence(all_model_combinations_df,dict_of_fitted_models)"
      ],
      "metadata": {
        "colab": {
          "base_uri": "https://localhost:8080/",
          "height": 1000
        },
        "id": "trUh4fZXbUrL",
        "outputId": "67629af4-5f26-4931-d770-2980ecb24f8a"
      },
      "execution_count": 45,
      "outputs": [
        {
          "output_type": "display_data",
          "data": {
            "text/plain": [
              "<Figure size 1200x1200 with 8 Axes>"
            ],
            "image/png": "[encoded data removed]"
          },
          "metadata": {}
        }
      ]
    },
    {
      "cell_type": "code",
      "execution_count": 46,
      "metadata": {
        "id": "1e511dc4-e01c-4c64-bf31-c4b6a8e6f9af",
        "colab": {
          "base_uri": "https://localhost:8080/"
        },
        "outputId": "edc4ed4f-e72b-46c5-9db2-bdea64d8e937"
      },
      "outputs": [
        {
          "output_type": "stream",
          "name": "stdout",
          "text": [
            "Our best performing model so far is LinearRegression(fit_intercept=False) --> 0.388 test_score score\n"
          ]
        }
      ],
      "source": [
        "best_performing_model = all_model_combinations_df.sort_values(by='test_score_r2', ascending=False).head(1)\n",
        "best_model = dict_of_fitted_models[best_performing_model.index[0]]\n",
        "print(f\"Our best performing model so far is {best_model} --> {round(best_performing_model['test_score_r2'][0],3)} test_score score\")"
      ]
    },
    {
      "cell_type": "code",
      "source": [
        "coefficients = best_model.coef_\n",
        "\n",
        "# Display feature importances\n",
        "feature_importances = pd.DataFrame(\n",
        "    {\"Feature\": feature_names, \"Importance\": np.abs(coefficients)}\n",
        ")\n",
        "feature_importances = feature_importances.sort_values(\n",
        "    by=\"Importance\", ascending=False\n",
        ")\n",
        "\n",
        "# Plot the feature importances\n",
        "plt.figure(figsize=(10, 5))\n",
        "plt.bar(feature_importances['Feature'].head(10), feature_importances['Importance'].head(10))\n",
        "plt.xlabel(\"Features\")\n",
        "plt.ylabel(\"Importance\")\n",
        "plt.title(\"Feature Importances\")\n",
        "plt.xticks(range(10), feature_importances['Feature'].head(10), rotation=45)\n",
        "plt.show()"
      ],
      "metadata": {
        "colab": {
          "base_uri": "https://localhost:8080/",
          "height": 592
        },
        "id": "C-FIw3G21Ykl",
        "outputId": "2813424c-b721-4558-a648-80a3ac491c87"
      },
      "execution_count": 47,
      "outputs": [
        {
          "output_type": "display_data",
          "data": {
            "text/plain": [
              "<Figure size 1000x500 with 1 Axes>"
            ],
            "image/png": "[encoded data removed]"
          },
          "metadata": {}
        }
      ]
    },
    {
      "cell_type": "markdown",
      "source": [
        "## Boosting Models - Opening Week"
      ],
      "metadata": {
        "id": "P-SQVLLVdRG1"
      }
    },
    {
      "cell_type": "markdown",
      "metadata": {
        "id": "74bc8e84-1f9d-40d9-88df-b527f090df81"
      },
      "source": [
        "<br><b>Ensemble Models:</b><br>\n",
        "Ensemble models are machine learning algorithms that combine the predictions of multiple base models to make more accurate predictions."
      ]
    },
    {
      "cell_type": "markdown",
      "metadata": {
        "id": "c9b0bdbc-f26a-4833-8e8c-c509f10d0830"
      },
      "source": [
        "Unlike Single Classification models where we used cross-val on our training set, for Bootstrapping methods we will need to create a separate validation data-set"
      ]
    },
    {
      "cell_type": "code",
      "source": [
        "dict_of_models = {'AdaBoostRegressor':AdaBoostRegressor()\n",
        "                  ,'XGBRegressor ':xgb.XGBRegressor()\n",
        "                 }"
      ],
      "metadata": {
        "id": "jeEQVmpg9IcP"
      },
      "execution_count": 48,
      "outputs": []
    },
    {
      "cell_type": "code",
      "source": [
        "parametersOfValue = {\n",
        "    'estimator':[None],\n",
        "    'n_estimators':[500],\n",
        "    'max_depth':[50,80],\n",
        "    'learning_rate':[0.01,0.1],\n",
        "    'random_state':[1]\n",
        "    }\n",
        "\n",
        "if skip_slow_processes==False:\n",
        "  parametersOfValue['estimator'] = [None,best_model]\n",
        "  parametersOfValue['n_estimators'] = [500,1000, 2000]\n",
        "  parametersOfValue['max_depth'] = [20,50,80,100]\n",
        "  parametersOfValue['learning_rate'] = [0.1,0.01,0.001]"
      ],
      "metadata": {
        "id": "sekWoCFTdwjx"
      },
      "execution_count": 49,
      "outputs": []
    },
    {
      "cell_type": "code",
      "source": [
        "boosting_model_combinations_df = get_all_model_combinations(dict_of_models,parametersOfValue)\n",
        "boosting_model_combinations_df"
      ],
      "metadata": {
        "colab": {
          "base_uri": "https://localhost:8080/",
          "height": 275
        },
        "id": "-CGZFd3Np6YN",
        "outputId": "70504b99-6f18-46a1-b956-587c2f12807b"
      },
      "execution_count": 50,
      "outputs": [
        {
          "output_type": "stream",
          "name": "stdout",
          "text": [
            "Model Type: AdaBoostRegressor - 2 hyper-parameter combinations\n",
            "Model Type: XGBRegressor  - 4 hyper-parameter combinations\n"
          ]
        },
        {
          "output_type": "execute_result",
          "data": {
            "text/plain": [
              "                            model_type estimator learning_rate n_estimators  \\\n",
              "AdaBoostRegressor_0  AdaBoostRegressor      None          0.01          500   \n",
              "AdaBoostRegressor_1  AdaBoostRegressor      None           0.1          500   \n",
              "XGBRegressor _0          XGBRegressor        NaN          0.01          500   \n",
              "XGBRegressor _1          XGBRegressor        NaN          0.01          500   \n",
              "XGBRegressor _2          XGBRegressor        NaN           0.1          500   \n",
              "XGBRegressor _3          XGBRegressor        NaN           0.1          500   \n",
              "\n",
              "                    random_state max_depth  \n",
              "AdaBoostRegressor_0            1       NaN  \n",
              "AdaBoostRegressor_1            1       NaN  \n",
              "XGBRegressor _0                1        50  \n",
              "XGBRegressor _1                1        80  \n",
              "XGBRegressor _2                1        50  \n",
              "XGBRegressor _3                1        80  "
            ],
            "text/html": [
              "\n",
              "  <div id=\"df-504f010e-2b03-4133-9da8-4b050cebd33f\">\n",
              "    <div class=\"colab-df-container\">\n",
              "      <div>\n",
              "<style scoped>\n",
              "    .dataframe tbody tr th:only-of-type {\n",
              "        vertical-align: middle;\n",
              "    }\n",
              "\n",
              "    .dataframe tbody tr th {\n",
              "        vertical-align: top;\n",
              "    }\n",
              "\n",
              "    .dataframe thead th {\n",
              "        text-align: right;\n",
              "    }\n",
              "</style>\n",
              "<table border=\"1\" class=\"dataframe\">\n",
              "  <thead>\n",
              "    <tr style=\"text-align: right;\">\n",
              "      <th></th>\n",
              "      <th>model_type</th>\n",
              "      <th>estimator</th>\n",
              "      <th>learning_rate</th>\n",
              "      <th>n_estimators</th>\n",
              "      <th>random_state</th>\n",
              "      <th>max_depth</th>\n",
              "    </tr>\n",
              "  </thead>\n",
              "  <tbody>\n",
              "    <tr>\n",
              "      <th>AdaBoostRegressor_0</th>\n",
              "      <td>AdaBoostRegressor</td>\n",
              "      <td>None</td>\n",
              "      <td>0.01</td>\n",
              "      <td>500</td>\n",
              "      <td>1</td>\n",
              "      <td>NaN</td>\n",
              "    </tr>\n",
              "    <tr>\n",
              "      <th>AdaBoostRegressor_1</th>\n",
              "      <td>AdaBoostRegressor</td>\n",
              "      <td>None</td>\n",
              "      <td>0.1</td>\n",
              "      <td>500</td>\n",
              "      <td>1</td>\n",
              "      <td>NaN</td>\n",
              "    </tr>\n",
              "    <tr>\n",
              "      <th>XGBRegressor _0</th>\n",
              "      <td>XGBRegressor</td>\n",
              "      <td>NaN</td>\n",
              "      <td>0.01</td>\n",
              "      <td>500</td>\n",
              "      <td>1</td>\n",
              "      <td>50</td>\n",
              "    </tr>\n",
              "    <tr>\n",
              "      <th>XGBRegressor _1</th>\n",
              "      <td>XGBRegressor</td>\n",
              "      <td>NaN</td>\n",
              "      <td>0.01</td>\n",
              "      <td>500</td>\n",
              "      <td>1</td>\n",
              "      <td>80</td>\n",
              "    </tr>\n",
              "    <tr>\n",
              "      <th>XGBRegressor _2</th>\n",
              "      <td>XGBRegressor</td>\n",
              "      <td>NaN</td>\n",
              "      <td>0.1</td>\n",
              "      <td>500</td>\n",
              "      <td>1</td>\n",
              "      <td>50</td>\n",
              "    </tr>\n",
              "    <tr>\n",
              "      <th>XGBRegressor _3</th>\n",
              "      <td>XGBRegressor</td>\n",
              "      <td>NaN</td>\n",
              "      <td>0.1</td>\n",
              "      <td>500</td>\n",
              "      <td>1</td>\n",
              "      <td>80</td>\n",
              "    </tr>\n",
              "  </tbody>\n",
              "</table>\n",
              "</div>\n",
              "      <button class=\"colab-df-convert\" onclick=\"convertToInteractive('df-504f010e-2b03-4133-9da8-4b050cebd33f')\"\n",
              "              title=\"Convert this dataframe to an interactive table.\"\n",
              "              style=\"display:none;\">\n",
              "        \n",
              "  <svg xmlns=\"http://www.w3.org/2000/svg\" height=\"24px\"viewBox=\"0 0 24 24\"\n",
              "       width=\"24px\">\n",
              "    <path d=\"M0 0h24v24H0V0z\" fill=\"none\"/>\n",
              "    <path d=\"M18.56 5.44l.94 2.06.94-2.06 2.06-.94-2.06-.94-.94-2.06-.94 2.06-2.06.94zm-11 1L8.5 8.5l.94-2.06 2.06-.94-2.06-.94L8.5 2.5l-.94 2.06-2.06.94zm10 10l.94 2.06.94-2.06 2.06-.94-2.06-.94-.94-2.06-.94 2.06-2.06.94z\"/><path d=\"M17.41 7.96l-1.37-1.37c-.4-.4-.92-.59-1.43-.59-.52 0-1.04.2-1.43.59L10.3 9.45l-7.72 7.72c-.78.78-.78 2.05 0 2.83L4 21.41c.39.39.9.59 1.41.59.51 0 1.02-.2 1.41-.59l7.78-7.78 2.81-2.81c.8-.78.8-2.07 0-2.86zM5.41 20L4 18.59l7.72-7.72 1.47 1.35L5.41 20z\"/>\n",
              "  </svg>\n",
              "      </button>\n",
              "      \n",
              "  <style>\n",
              "    .colab-df-container {\n",
              "      display:flex;\n",
              "      flex-wrap:wrap;\n",
              "      gap: 12px;\n",
              "    }\n",
              "\n",
              "    .colab-df-convert {\n",
              "      background-color: #E8F0FE;\n",
              "      border: none;\n",
              "      border-radius: 50%;\n",
              "      cursor: pointer;\n",
              "      display: none;\n",
              "      fill: #1967D2;\n",
              "      height: 32px;\n",
              "      padding: 0 0 0 0;\n",
              "      width: 32px;\n",
              "    }\n",
              "\n",
              "    .colab-df-convert:hover {\n",
              "      background-color: #E2EBFA;\n",
              "      box-shadow: 0px 1px 2px rgba(60, 64, 67, 0.3), 0px 1px 3px 1px rgba(60, 64, 67, 0.15);\n",
              "      fill: #174EA6;\n",
              "    }\n",
              "\n",
              "    [theme=dark] .colab-df-convert {\n",
              "      background-color: #3B4455;\n",
              "      fill: #D2E3FC;\n",
              "    }\n",
              "\n",
              "    [theme=dark] .colab-df-convert:hover {\n",
              "      background-color: #434B5C;\n",
              "      box-shadow: 0px 1px 3px 1px rgba(0, 0, 0, 0.15);\n",
              "      filter: drop-shadow(0px 1px 2px rgba(0, 0, 0, 0.3));\n",
              "      fill: #FFFFFF;\n",
              "    }\n",
              "  </style>\n",
              "\n",
              "      <script>\n",
              "        const buttonEl =\n",
              "          document.querySelector('#df-504f010e-2b03-4133-9da8-4b050cebd33f button.colab-df-convert');\n",
              "        buttonEl.style.display =\n",
              "          google.colab.kernel.accessAllowed ? 'block' : 'none';\n",
              "\n",
              "        async function convertToInteractive(key) {\n",
              "          const element = document.querySelector('#df-504f010e-2b03-4133-9da8-4b050cebd33f');\n",
              "          const dataTable =\n",
              "            await google.colab.kernel.invokeFunction('convertToInteractive',\n",
              "                                                     [key], {});\n",
              "          if (!dataTable) return;\n",
              "\n",
              "          const docLinkHtml = 'Like what you see? Visit the ' +\n",
              "            '<a target=\"_blank\" href=https://colab.research.google.com/notebooks/data_table.ipynb>data table notebook</a>'\n",
              "            + ' to learn more about interactive tables.';\n",
              "          element.innerHTML = '';\n",
              "          dataTable['output_type'] = 'display_data';\n",
              "          await google.colab.output.renderOutput(dataTable, element);\n",
              "          const docLink = document.createElement('div');\n",
              "          docLink.innerHTML = docLinkHtml;\n",
              "          element.appendChild(docLink);\n",
              "        }\n",
              "      </script>\n",
              "    </div>\n",
              "  </div>\n",
              "  "
            ]
          },
          "metadata": {},
          "execution_count": 50
        }
      ]
    },
    {
      "cell_type": "code",
      "source": [
        "boosting_model_combinations_df, dict_boosting_models = run_various_models_return_results(boosting_model_combinations_df, all_model_types, use_cross_validate=False)"
      ],
      "metadata": {
        "colab": {
          "base_uri": "https://localhost:8080/"
        },
        "id": "IhnEKkXCe8t8",
        "outputId": "b7c9627b-c480-495f-975a-a35398b9c917"
      },
      "execution_count": 51,
      "outputs": [
        {
          "output_type": "stream",
          "name": "stdout",
          "text": [
            "Model #1 of 6\n",
            "Model Name: AdaBoostRegressor_0\n",
            "Model Props: {'base_estimator': 'deprecated', 'estimator': None, 'learning_rate': 0.01, 'loss': 'linear', 'n_estimators': 500, 'random_state': 1}\n",
            "Train_score: 0.383 / Test_score: 0.352.\n",
            "\n",
            "Model #2 of 6\n",
            "Model Name: AdaBoostRegressor_1\n",
            "Model Props: {'base_estimator': 'deprecated', 'estimator': None, 'learning_rate': 0.1, 'loss': 'linear', 'n_estimators': 500, 'random_state': 1}\n",
            "Train_score: 0.332 / Test_score: 0.253.\n",
            "\n",
            "Model #3 of 6\n",
            "Model Name: XGBRegressor _0\n",
            "Model Props: {'objective': 'reg:squarederror', 'base_score': None, 'booster': None, 'callbacks': None, 'colsample_bylevel': None, 'colsample_bynode': None, 'colsample_bytree': None, 'early_stopping_rounds': None, 'enable_categorical': False, 'eval_metric': None, 'feature_types': None, 'gamma': None, 'gpu_id': None, 'grow_policy': None, 'importance_type': None, 'interaction_constraints': None, 'learning_rate': 0.01, 'max_bin': None, 'max_cat_threshold': None, 'max_cat_to_onehot': None, 'max_delta_step': None, 'max_depth': 50, 'max_leaves': None, 'min_child_weight': None, 'missing': nan, 'monotone_constraints': None, 'n_estimators': 500, 'n_jobs': None, 'num_parallel_tree': None, 'predictor': None, 'random_state': 1, 'reg_alpha': None, 'reg_lambda': None, 'sampling_method': None, 'scale_pos_weight': None, 'subsample': None, 'tree_method': None, 'validate_parameters': None, 'verbosity': None}\n",
            "Train_score: 0.996 / Test_score: 0.385.\n",
            "\n",
            "Model #4 of 6\n",
            "Model Name: XGBRegressor _1\n",
            "Model Props: {'objective': 'reg:squarederror', 'base_score': None, 'booster': None, 'callbacks': None, 'colsample_bylevel': None, 'colsample_bynode': None, 'colsample_bytree': None, 'early_stopping_rounds': None, 'enable_categorical': False, 'eval_metric': None, 'feature_types': None, 'gamma': None, 'gpu_id': None, 'grow_policy': None, 'importance_type': None, 'interaction_constraints': None, 'learning_rate': 0.01, 'max_bin': None, 'max_cat_threshold': None, 'max_cat_to_onehot': None, 'max_delta_step': None, 'max_depth': 80, 'max_leaves': None, 'min_child_weight': None, 'missing': nan, 'monotone_constraints': None, 'n_estimators': 500, 'n_jobs': None, 'num_parallel_tree': None, 'predictor': None, 'random_state': 1, 'reg_alpha': None, 'reg_lambda': None, 'sampling_method': None, 'scale_pos_weight': None, 'subsample': None, 'tree_method': None, 'validate_parameters': None, 'verbosity': None}\n",
            "Train_score: 0.996 / Test_score: 0.385.\n",
            "\n",
            "Model #5 of 6\n",
            "Model Name: XGBRegressor _2\n",
            "Model Props: {'objective': 'reg:squarederror', 'base_score': None, 'booster': None, 'callbacks': None, 'colsample_bylevel': None, 'colsample_bynode': None, 'colsample_bytree': None, 'early_stopping_rounds': None, 'enable_categorical': False, 'eval_metric': None, 'feature_types': None, 'gamma': None, 'gpu_id': None, 'grow_policy': None, 'importance_type': None, 'interaction_constraints': None, 'learning_rate': 0.1, 'max_bin': None, 'max_cat_threshold': None, 'max_cat_to_onehot': None, 'max_delta_step': None, 'max_depth': 50, 'max_leaves': None, 'min_child_weight': None, 'missing': nan, 'monotone_constraints': None, 'n_estimators': 500, 'n_jobs': None, 'num_parallel_tree': None, 'predictor': None, 'random_state': 1, 'reg_alpha': None, 'reg_lambda': None, 'sampling_method': None, 'scale_pos_weight': None, 'subsample': None, 'tree_method': None, 'validate_parameters': None, 'verbosity': None}\n",
            "Train_score: 1.0 / Test_score: 0.402.\n",
            "\n",
            "Model #6 of 6\n",
            "Model Name: XGBRegressor _3\n",
            "Model Props: {'objective': 'reg:squarederror', 'base_score': None, 'booster': None, 'callbacks': None, 'colsample_bylevel': None, 'colsample_bynode': None, 'colsample_bytree': None, 'early_stopping_rounds': None, 'enable_categorical': False, 'eval_metric': None, 'feature_types': None, 'gamma': None, 'gpu_id': None, 'grow_policy': None, 'importance_type': None, 'interaction_constraints': None, 'learning_rate': 0.1, 'max_bin': None, 'max_cat_threshold': None, 'max_cat_to_onehot': None, 'max_delta_step': None, 'max_depth': 80, 'max_leaves': None, 'min_child_weight': None, 'missing': nan, 'monotone_constraints': None, 'n_estimators': 500, 'n_jobs': None, 'num_parallel_tree': None, 'predictor': None, 'random_state': 1, 'reg_alpha': None, 'reg_lambda': None, 'sampling_method': None, 'scale_pos_weight': None, 'subsample': None, 'tree_method': None, 'validate_parameters': None, 'verbosity': None}\n",
            "Train_score: 1.0 / Test_score: 0.402.\n",
            "\n",
            "\n",
            "Finished Run\n"
          ]
        }
      ]
    },
    {
      "cell_type": "code",
      "source": [
        "boosting_model_combinations_df"
      ],
      "metadata": {
        "colab": {
          "base_uri": "https://localhost:8080/",
          "height": 238
        },
        "id": "FUUrpfTkxINn",
        "outputId": "4f628768-a5fd-42e0-973c-fbcdc828510f"
      },
      "execution_count": 52,
      "outputs": [
        {
          "output_type": "execute_result",
          "data": {
            "text/plain": [
              "                            model_type estimator learning_rate n_estimators  \\\n",
              "XGBRegressor _2          XGBRegressor       None           0.1          500   \n",
              "XGBRegressor _3          XGBRegressor       None           0.1          500   \n",
              "XGBRegressor _0          XGBRegressor       None          0.01          500   \n",
              "XGBRegressor _1          XGBRegressor       None          0.01          500   \n",
              "AdaBoostRegressor_0  AdaBoostRegressor      None          0.01          500   \n",
              "AdaBoostRegressor_1  AdaBoostRegressor      None           0.1          500   \n",
              "\n",
              "                    random_state max_depth  train_score  val_score  \\\n",
              "XGBRegressor _2                1        50     0.999997        NaN   \n",
              "XGBRegressor _3                1        80     0.999997        NaN   \n",
              "XGBRegressor _0                1        50     0.996428        NaN   \n",
              "XGBRegressor _1                1        80     0.996428        NaN   \n",
              "AdaBoostRegressor_0            1       NaN     0.383069        NaN   \n",
              "AdaBoostRegressor_1            1       NaN     0.332343        NaN   \n",
              "\n",
              "                     test_score_r2  test_score_mse  train_size  test_size  \\\n",
              "XGBRegressor _2           0.401709        0.043226      3120.0      781.0   \n",
              "XGBRegressor _3           0.401588        0.043235      3120.0      781.0   \n",
              "XGBRegressor _0           0.385140        0.044423      3120.0      781.0   \n",
              "XGBRegressor _1           0.385140        0.044423      3120.0      781.0   \n",
              "AdaBoostRegressor_0       0.352440        0.046786      3120.0      781.0   \n",
              "AdaBoostRegressor_1       0.252916        0.053976      3120.0      781.0   \n",
              "\n",
              "                     feature_n  run_time  \n",
              "XGBRegressor _2           96.0   13.4325  \n",
              "XGBRegressor _3           96.0   13.6110  \n",
              "XGBRegressor _0           96.0   47.8778  \n",
              "XGBRegressor _1           96.0   46.7266  \n",
              "AdaBoostRegressor_0       96.0   14.1897  \n",
              "AdaBoostRegressor_1       96.0    4.2479  "
            ],
            "text/html": [
              "\n",
              "  <div id=\"df-91651412-6be6-46af-b5a4-3679315f7c0a\">\n",
              "    <div class=\"colab-df-container\">\n",
              "      <div>\n",
              "<style scoped>\n",
              "    .dataframe tbody tr th:only-of-type {\n",
              "        vertical-align: middle;\n",
              "    }\n",
              "\n",
              "    .dataframe tbody tr th {\n",
              "        vertical-align: top;\n",
              "    }\n",
              "\n",
              "    .dataframe thead th {\n",
              "        text-align: right;\n",
              "    }\n",
              "</style>\n",
              "<table border=\"1\" class=\"dataframe\">\n",
              "  <thead>\n",
              "    <tr style=\"text-align: right;\">\n",
              "      <th></th>\n",
              "      <th>model_type</th>\n",
              "      <th>estimator</th>\n",
              "      <th>learning_rate</th>\n",
              "      <th>n_estimators</th>\n",
              "      <th>random_state</th>\n",
              "      <th>max_depth</th>\n",
              "      <th>train_score</th>\n",
              "      <th>val_score</th>\n",
              "      <th>test_score_r2</th>\n",
              "      <th>test_score_mse</th>\n",
              "      <th>train_size</th>\n",
              "      <th>test_size</th>\n",
              "      <th>feature_n</th>\n",
              "      <th>run_time</th>\n",
              "    </tr>\n",
              "  </thead>\n",
              "  <tbody>\n",
              "    <tr>\n",
              "      <th>XGBRegressor _2</th>\n",
              "      <td>XGBRegressor</td>\n",
              "      <td>None</td>\n",
              "      <td>0.1</td>\n",
              "      <td>500</td>\n",
              "      <td>1</td>\n",
              "      <td>50</td>\n",
              "      <td>0.999997</td>\n",
              "      <td>NaN</td>\n",
              "      <td>0.401709</td>\n",
              "      <td>0.043226</td>\n",
              "      <td>3120.0</td>\n",
              "      <td>781.0</td>\n",
              "      <td>96.0</td>\n",
              "      <td>13.4325</td>\n",
              "    </tr>\n",
              "    <tr>\n",
              "      <th>XGBRegressor _3</th>\n",
              "      <td>XGBRegressor</td>\n",
              "      <td>None</td>\n",
              "      <td>0.1</td>\n",
              "      <td>500</td>\n",
              "      <td>1</td>\n",
              "      <td>80</td>\n",
              "      <td>0.999997</td>\n",
              "      <td>NaN</td>\n",
              "      <td>0.401588</td>\n",
              "      <td>0.043235</td>\n",
              "      <td>3120.0</td>\n",
              "      <td>781.0</td>\n",
              "      <td>96.0</td>\n",
              "      <td>13.6110</td>\n",
              "    </tr>\n",
              "    <tr>\n",
              "      <th>XGBRegressor _0</th>\n",
              "      <td>XGBRegressor</td>\n",
              "      <td>None</td>\n",
              "      <td>0.01</td>\n",
              "      <td>500</td>\n",
              "      <td>1</td>\n",
              "      <td>50</td>\n",
              "      <td>0.996428</td>\n",
              "      <td>NaN</td>\n",
              "      <td>0.385140</td>\n",
              "      <td>0.044423</td>\n",
              "      <td>3120.0</td>\n",
              "      <td>781.0</td>\n",
              "      <td>96.0</td>\n",
              "      <td>47.8778</td>\n",
              "    </tr>\n",
              "    <tr>\n",
              "      <th>XGBRegressor _1</th>\n",
              "      <td>XGBRegressor</td>\n",
              "      <td>None</td>\n",
              "      <td>0.01</td>\n",
              "      <td>500</td>\n",
              "      <td>1</td>\n",
              "      <td>80</td>\n",
              "      <td>0.996428</td>\n",
              "      <td>NaN</td>\n",
              "      <td>0.385140</td>\n",
              "      <td>0.044423</td>\n",
              "      <td>3120.0</td>\n",
              "      <td>781.0</td>\n",
              "      <td>96.0</td>\n",
              "      <td>46.7266</td>\n",
              "    </tr>\n",
              "    <tr>\n",
              "      <th>AdaBoostRegressor_0</th>\n",
              "      <td>AdaBoostRegressor</td>\n",
              "      <td>None</td>\n",
              "      <td>0.01</td>\n",
              "      <td>500</td>\n",
              "      <td>1</td>\n",
              "      <td>NaN</td>\n",
              "      <td>0.383069</td>\n",
              "      <td>NaN</td>\n",
              "      <td>0.352440</td>\n",
              "      <td>0.046786</td>\n",
              "      <td>3120.0</td>\n",
              "      <td>781.0</td>\n",
              "      <td>96.0</td>\n",
              "      <td>14.1897</td>\n",
              "    </tr>\n",
              "    <tr>\n",
              "      <th>AdaBoostRegressor_1</th>\n",
              "      <td>AdaBoostRegressor</td>\n",
              "      <td>None</td>\n",
              "      <td>0.1</td>\n",
              "      <td>500</td>\n",
              "      <td>1</td>\n",
              "      <td>NaN</td>\n",
              "      <td>0.332343</td>\n",
              "      <td>NaN</td>\n",
              "      <td>0.252916</td>\n",
              "      <td>0.053976</td>\n",
              "      <td>3120.0</td>\n",
              "      <td>781.0</td>\n",
              "      <td>96.0</td>\n",
              "      <td>4.2479</td>\n",
              "    </tr>\n",
              "  </tbody>\n",
              "</table>\n",
              "</div>\n",
              "      <button class=\"colab-df-convert\" onclick=\"convertToInteractive('df-91651412-6be6-46af-b5a4-3679315f7c0a')\"\n",
              "              title=\"Convert this dataframe to an interactive table.\"\n",
              "              style=\"display:none;\">\n",
              "        \n",
              "  <svg xmlns=\"http://www.w3.org/2000/svg\" height=\"24px\"viewBox=\"0 0 24 24\"\n",
              "       width=\"24px\">\n",
              "    <path d=\"M0 0h24v24H0V0z\" fill=\"none\"/>\n",
              "    <path d=\"M18.56 5.44l.94 2.06.94-2.06 2.06-.94-2.06-.94-.94-2.06-.94 2.06-2.06.94zm-11 1L8.5 8.5l.94-2.06 2.06-.94-2.06-.94L8.5 2.5l-.94 2.06-2.06.94zm10 10l.94 2.06.94-2.06 2.06-.94-2.06-.94-.94-2.06-.94 2.06-2.06.94z\"/><path d=\"M17.41 7.96l-1.37-1.37c-.4-.4-.92-.59-1.43-.59-.52 0-1.04.2-1.43.59L10.3 9.45l-7.72 7.72c-.78.78-.78 2.05 0 2.83L4 21.41c.39.39.9.59 1.41.59.51 0 1.02-.2 1.41-.59l7.78-7.78 2.81-2.81c.8-.78.8-2.07 0-2.86zM5.41 20L4 18.59l7.72-7.72 1.47 1.35L5.41 20z\"/>\n",
              "  </svg>\n",
              "      </button>\n",
              "      \n",
              "  <style>\n",
              "    .colab-df-container {\n",
              "      display:flex;\n",
              "      flex-wrap:wrap;\n",
              "      gap: 12px;\n",
              "    }\n",
              "\n",
              "    .colab-df-convert {\n",
              "      background-color: #E8F0FE;\n",
              "      border: none;\n",
              "      border-radius: 50%;\n",
              "      cursor: pointer;\n",
              "      display: none;\n",
              "      fill: #1967D2;\n",
              "      height: 32px;\n",
              "      padding: 0 0 0 0;\n",
              "      width: 32px;\n",
              "    }\n",
              "\n",
              "    .colab-df-convert:hover {\n",
              "      background-color: #E2EBFA;\n",
              "      box-shadow: 0px 1px 2px rgba(60, 64, 67, 0.3), 0px 1px 3px 1px rgba(60, 64, 67, 0.15);\n",
              "      fill: #174EA6;\n",
              "    }\n",
              "\n",
              "    [theme=dark] .colab-df-convert {\n",
              "      background-color: #3B4455;\n",
              "      fill: #D2E3FC;\n",
              "    }\n",
              "\n",
              "    [theme=dark] .colab-df-convert:hover {\n",
              "      background-color: #434B5C;\n",
              "      box-shadow: 0px 1px 3px 1px rgba(0, 0, 0, 0.15);\n",
              "      filter: drop-shadow(0px 1px 2px rgba(0, 0, 0, 0.3));\n",
              "      fill: #FFFFFF;\n",
              "    }\n",
              "  </style>\n",
              "\n",
              "      <script>\n",
              "        const buttonEl =\n",
              "          document.querySelector('#df-91651412-6be6-46af-b5a4-3679315f7c0a button.colab-df-convert');\n",
              "        buttonEl.style.display =\n",
              "          google.colab.kernel.accessAllowed ? 'block' : 'none';\n",
              "\n",
              "        async function convertToInteractive(key) {\n",
              "          const element = document.querySelector('#df-91651412-6be6-46af-b5a4-3679315f7c0a');\n",
              "          const dataTable =\n",
              "            await google.colab.kernel.invokeFunction('convertToInteractive',\n",
              "                                                     [key], {});\n",
              "          if (!dataTable) return;\n",
              "\n",
              "          const docLinkHtml = 'Like what you see? Visit the ' +\n",
              "            '<a target=\"_blank\" href=https://colab.research.google.com/notebooks/data_table.ipynb>data table notebook</a>'\n",
              "            + ' to learn more about interactive tables.';\n",
              "          element.innerHTML = '';\n",
              "          dataTable['output_type'] = 'display_data';\n",
              "          await google.colab.output.renderOutput(dataTable, element);\n",
              "          const docLink = document.createElement('div');\n",
              "          docLink.innerHTML = docLinkHtml;\n",
              "          element.appendChild(docLink);\n",
              "        }\n",
              "      </script>\n",
              "    </div>\n",
              "  </div>\n",
              "  "
            ]
          },
          "metadata": {},
          "execution_count": 52
        }
      ]
    },
    {
      "cell_type": "markdown",
      "source": [
        "### Boosting - Plot Results"
      ],
      "metadata": {
        "id": "6X7OYqO2G8Qs"
      }
    },
    {
      "cell_type": "code",
      "source": [
        "scatterplot_model_preformence(boosting_model_combinations_df.head(6),dict_boosting_models)"
      ],
      "metadata": {
        "id": "GLVDNDX11W-a"
      },
      "execution_count": null,
      "outputs": []
    },
    {
      "cell_type": "markdown",
      "metadata": {
        "id": "d3389643-bdfe-4e3e-ac66-a23604692011"
      },
      "source": [
        "For Boosting model we would prefer to keep our trees shallow and non-complex, since they are built sequntially and we do not want to risk ovefitting.<br>\n",
        "Next, we would like to explor some highly deel trees:"
      ]
    },
    {
      "cell_type": "markdown",
      "source": [],
      "metadata": {
        "id": "rvnap79Vy2VC"
      }
    },
    {
      "cell_type": "markdown",
      "source": [
        "## Bagging Models - Opening Week"
      ],
      "metadata": {
        "id": "coKOkLR4y-cT"
      }
    },
    {
      "cell_type": "markdown",
      "metadata": {
        "id": "1e0754ae-ba07-4efb-afe7-9680a9b4919c"
      },
      "source": [
        "In BaggingClassifier, the subsets of the training data are generated using bootstrap sampling, which means that each subset is a random sample of the training data with replacement.<br>\n",
        "It involves training multiple base models independently on different subsets of the training data, and then combining the predictions of the individual base models to make a final prediction."
      ]
    },
    {
      "cell_type": "code",
      "source": [],
      "metadata": {
        "id": "VO2FndY1y3Y8"
      },
      "execution_count": null,
      "outputs": []
    },
    {
      "cell_type": "code",
      "source": [
        "dict_of_models = {'BaggingRegressor ':BaggingRegressor()\n",
        "                  ,'RandomForestRegressor':RandomForestRegressor()\n",
        "                 }"
      ],
      "metadata": {
        "id": "huBX6E7Ny3t4"
      },
      "execution_count": null,
      "outputs": []
    },
    {
      "cell_type": "code",
      "source": [
        "parametersOfValue = {\n",
        "    'estimator':[None], \n",
        "    'max_features': [int(math.sqrt(len(feature_names))), int(len(feature_names)/3)],\n",
        "    'n_estimators':[500],\n",
        "    'max_depth':[3,5],\n",
        "    'learning_rate':[0.01,0.001],\n",
        "    'random_state':[1]\n",
        "    }\n",
        "\n",
        "if skip_slow_processes==False:\n",
        "  parametersOfValue['estimator'] = [None,best_model]\n",
        "  parametersOfValue['n_estimators'] = [500, 1000, 1500]\n",
        "  parametersOfValue['max_depth'] = [3,4,5,80,100]\n",
        "  parametersOfValue['learning_rate'] = [0.1,0.01,0.001]"
      ],
      "metadata": {
        "id": "niLeU8fHy3t4"
      },
      "execution_count": null,
      "outputs": []
    },
    {
      "cell_type": "code",
      "source": [
        "bagging_model_combinations_df = get_all_model_combinations(dict_of_models,parametersOfValue)\n",
        "bagging_model_combinations_df"
      ],
      "metadata": {
        "id": "8FiKcReSyieJ"
      },
      "execution_count": null,
      "outputs": []
    },
    {
      "cell_type": "code",
      "source": [
        "bagging_model_combinations_df, dict_bagging_models = run_various_models_return_results(bagging_model_combinations_df, all_model_types, use_cross_validate=False)"
      ],
      "metadata": {
        "id": "j4VsTUpzyieK"
      },
      "execution_count": null,
      "outputs": []
    },
    {
      "cell_type": "code",
      "source": [
        "bagging_model_combinations_df"
      ],
      "metadata": {
        "id": "IT1dsmtHyieK"
      },
      "execution_count": null,
      "outputs": []
    },
    {
      "cell_type": "markdown",
      "source": [
        "### Bagging - Plot results"
      ],
      "metadata": {
        "id": "F8QBF1J5HBOY"
      }
    },
    {
      "cell_type": "code",
      "source": [
        "scatterplot_model_preformence(bagging_model_combinations_df.head(6),dict_bagging_models)"
      ],
      "metadata": {
        "id": "CHbdb1U5yieK"
      },
      "execution_count": null,
      "outputs": []
    },
    {
      "cell_type": "markdown",
      "metadata": {
        "id": "400afacf-6b1a-46e3-a9d6-304660c4b7fa"
      },
      "source": [
        "<br><b>Random Forest feature selection:</b><br>\n",
        "Same as bagging, only with random feature selection"
      ]
    },
    {
      "cell_type": "code",
      "source": [
        "best_bagging_model = dict_bagging_models[bagging_model_combinations_df.sort_values(by=\"test_score_r2\",ascending=False).head(1).index[0]]\n",
        "best_bagging_model"
      ],
      "metadata": {
        "id": "3ioKx4jYXxri"
      },
      "execution_count": null,
      "outputs": []
    },
    {
      "cell_type": "code",
      "execution_count": null,
      "metadata": {
        "id": "18a70c8a-bf79-4627-a054-6ef8ba3e9165"
      },
      "outputs": [],
      "source": [
        "def get_feature_importance_random_forest(rf_model, threshold=0):\n",
        "  top_feature_dict = {col:0 for col in feature_names}\n",
        "\n",
        "  for dtree in rf_model.estimators_:\n",
        "      top_feature_Id = dtree.tree_.feature[0]\n",
        "      top_feature_name = feature_names[top_feature_Id]\n",
        "      \n",
        "      top_feature_dict[top_feature_name]+=1\n",
        "      \n",
        "  top_features_rf = pd.DataFrame(top_feature_dict, index=[\"Top Count - Random Forest\"]).head(1).T\n",
        "\n",
        "  columns_to_run = list(top_features_rf[top_features_rf['Top Count - Random Forest']>0].index)\n",
        "  return top_features_rf.sort_values([\"Top Count - Random Forest\"], ascending=False),columns_to_run"
      ]
    },
    {
      "cell_type": "code",
      "execution_count": null,
      "metadata": {
        "id": "d67421fd-f0a3-43c4-8752-e967bb95fde9"
      },
      "outputs": [],
      "source": [
        "top_features_rf,columns_to_run = get_feature_importance_random_forest(best_bagging_model, threshold=0)\n",
        "print(f\"Columns To Keep: {columns_to_run}\")\n",
        "top_features_rf"
      ]
    },
    {
      "cell_type": "markdown",
      "source": [
        "## Feature Reduction - Opening Week"
      ],
      "metadata": {
        "id": "RnkIeYADrARD"
      }
    },
    {
      "cell_type": "code",
      "source": [
        "parametersOfValue = {\n",
        "    'estimator':[None], \n",
        "    'max_features': [int(math.sqrt(len(columns_to_run))), int(len(columns_to_run)/3)],\n",
        "    'n_estimators':[500],\n",
        "    'max_depth':[3,5],\n",
        "    'learning_rate':[0.01,0.001],\n",
        "    'random_state':[1]\n",
        "    }\n",
        "\n",
        "\n",
        "if skip_slow_processes==False:\n",
        "  parametersOfValue['estimator'] = [None,best_model]\n",
        "  parametersOfValue['n_estimators'] = [500, 1000, 1500]\n",
        "  parametersOfValue['max_depth'] = [3,4,5,80,100]\n",
        "  parametersOfValue['learning_rate'] = [0.1,0.01,0.001]"
      ],
      "metadata": {
        "id": "FM5OBDpGrfbT"
      },
      "execution_count": null,
      "outputs": []
    },
    {
      "cell_type": "code",
      "source": [
        "dict_of_models = {'DecisionTreeRegressor':DecisionTreeRegressor()\n",
        "                  ,'BaggingRegressor ':BaggingRegressor()\n",
        "                  ,'RandomForestRegressor':RandomForestRegressor()\n",
        "                 }"
      ],
      "metadata": {
        "id": "MWAw2JRmrfXy"
      },
      "execution_count": null,
      "outputs": []
    },
    {
      "cell_type": "code",
      "source": [
        "rf_model_thin_df = get_all_model_combinations(dict_of_models,parametersOfValue)\n",
        "rf_model_thin_df"
      ],
      "metadata": {
        "id": "ghlLjMJ3rv_o"
      },
      "execution_count": null,
      "outputs": []
    },
    {
      "cell_type": "markdown",
      "source": [
        "### Run thin models"
      ],
      "metadata": {
        "id": "btAeMS2EHJS1"
      }
    },
    {
      "cell_type": "code",
      "execution_count": null,
      "metadata": {
        "id": "a567df26-bac3-435d-aa77-0683b341eb3a"
      },
      "outputs": [],
      "source": [
        "rf_model_thin_df, dict_rf_model_thin = run_various_models_return_results(rf_model_thin_df, all_model_types, use_cross_validate=False, limit_features_list=columns_to_run)"
      ]
    },
    {
      "cell_type": "code",
      "source": [
        "rf_model_thin_df.index = 'Thin_' + rf_model_thin_df.index.astype(str)\n",
        "rf_model_thin_df"
      ],
      "metadata": {
        "id": "LzM4i15vsJmK"
      },
      "execution_count": null,
      "outputs": []
    },
    {
      "cell_type": "markdown",
      "source": [
        "## Comapring all models - Opening Week"
      ],
      "metadata": {
        "id": "cLGcO1Ett2so"
      }
    },
    {
      "cell_type": "code",
      "source": [
        "all_models_output = boosting_model_combinations_df.append(bagging_model_combinations_df).append(rf_model_thin_df).append(all_model_combinations_df)\n",
        "all_models_output.sort_values(by=\"test_score_r2\", ascending=False)"
      ],
      "metadata": {
        "id": "BdYyrz69sZWW"
      },
      "execution_count": null,
      "outputs": []
    },
    {
      "cell_type": "markdown",
      "source": [
        "## Best Model - First Week USD"
      ],
      "metadata": {
        "id": "FgHrp-5e1Eej"
      }
    },
    {
      "cell_type": "code",
      "source": [
        "best_output_first_week = all_models_output.sort_values(by=\"test_score_r2\", ascending=False).head(1)\n",
        "best_model_first_week = output_to_fitted_model(best_output_first_week,columns_to_run=None)\n",
        "best_model_first_week"
      ],
      "metadata": {
        "id": "IUv6bXDZ1MMS"
      },
      "execution_count": null,
      "outputs": []
    },
    {
      "cell_type": "markdown",
      "source": [
        "# Gross Revenue USD"
      ],
      "metadata": {
        "id": "N_tf3a2qIQx7"
      }
    },
    {
      "cell_type": "markdown",
      "source": [
        "## Data Preparing"
      ],
      "metadata": {
        "id": "wDnus9bMIeNR"
      }
    },
    {
      "cell_type": "markdown",
      "source": [
        "### Filter Missing Ys - Gross Revenue"
      ],
      "metadata": {
        "id": "Eyyjwmw3IeNS"
      }
    },
    {
      "cell_type": "code",
      "source": [
        "gross_rev_na_mask = y_gross_us_canada.isna()\n",
        "y_gross_rev = y_gross_us_canada[~gross_rev_na_mask]\n",
        "y_gross_rev_log = np.log(y_gross_rev)\n",
        "X_gross_rev = X_ohe_reduced[~gross_rev_na_mask]\n",
        "X_gross_rev.shape,y_gross_rev.shape\n",
        "print(f\"Only {len(y_gross_rev)} out of {len(gross_rev_na_mask)} records had Gross Rev Revenue and will be kept\")"
      ],
      "metadata": {
        "id": "_x8wPS-OIeNS"
      },
      "execution_count": null,
      "outputs": []
    },
    {
      "cell_type": "code",
      "source": [
        "# Create the histogram\n",
        "plt.hist(y_gross_rev, bins=20)  # You can adjust the number of bins as needed\n",
        "\n",
        "# Add labels\n",
        "plt.xlabel('Value')\n",
        "plt.ylabel('Frequency')\n",
        "\n",
        "# Add a title\n",
        "plt.title('Histogram of gross_rev')\n",
        "\n",
        "# Display the plot\n",
        "plt.show()"
      ],
      "metadata": {
        "id": "xi6zhr01IeNS"
      },
      "execution_count": null,
      "outputs": []
    },
    {
      "cell_type": "code",
      "source": [
        "# Create the histogram\n",
        "plt.hist(y_gross_rev_log, bins=20)  # You can adjust the number of bins as needed\n",
        "\n",
        "# Add labels\n",
        "plt.xlabel('Value')\n",
        "plt.ylabel('Frequency')\n",
        "\n",
        "# Add a title\n",
        "plt.title('Histogram of gross_rev_log')\n",
        "\n",
        "# Display the plot\n",
        "plt.show()"
      ],
      "metadata": {
        "id": "cfMA5BPpIeNS"
      },
      "execution_count": null,
      "outputs": []
    },
    {
      "cell_type": "markdown",
      "source": [
        "### Scale Data - Gross Revenue"
      ],
      "metadata": {
        "id": "QbQW2O6dIeNS"
      }
    },
    {
      "cell_type": "code",
      "source": [
        "scalar_gross_rev = StandardScaler(copy=True, with_mean=True, with_std=True).fit(X_gross_rev[numerical_columns])\n",
        "\n",
        "X_gross_rev_scaled = pd.DataFrame(scalar_gross_rev.transform(X_gross_rev[numerical_columns]),columns=numerical_columns, index=X_gross_rev.index)\n",
        "\n",
        "# Reintroduce Binary Columns:\n",
        "for binary_col in binary_columns:\n",
        "  bin_s = X_gross_rev[binary_col]\n",
        "  X_gross_rev_scaled[binary_col] = bin_s\n",
        "\n",
        "feature_names = X_gross_rev_scaled.columns\n",
        "X_gross_rev_scaled"
      ],
      "metadata": {
        "id": "JHuRgYZ1IeNS"
      },
      "execution_count": null,
      "outputs": []
    },
    {
      "cell_type": "markdown",
      "source": [
        "### Split Train-Test - Gross Revenue"
      ],
      "metadata": {
        "id": "1LjTKL69IeNS"
      }
    },
    {
      "cell_type": "code",
      "source": [
        "x_train_scaled, x_test_scaled, y_train, y_test = train_test_split(X_gross_rev_scaled, y_gross_rev_log, train_size = 0.8, random_state=0)\n",
        "print(f\"Train DataSet: {x_train_scaled.shape[0]} with {x_train_scaled.shape[1]} features\")\n",
        "print(f\"Test DataSet: {x_test_scaled.shape[0]} with {x_test_scaled.shape[1]} features\")"
      ],
      "metadata": {
        "id": "QsgCzOgjIeNS"
      },
      "execution_count": null,
      "outputs": []
    },
    {
      "cell_type": "markdown",
      "source": [
        "## Exploring all models - Gross Revenue"
      ],
      "metadata": {
        "id": "Bz2-zybxJXnk"
      }
    },
    {
      "cell_type": "code",
      "source": [
        "parametersOfValue = {\n",
        "    'estimator':[None], \n",
        "    'max_features': [int(math.sqrt(len(feature_names))), int(len(feature_names)/3)],\n",
        "    'n_estimators':[500],\n",
        "    'max_depth':[3,5],\n",
        "    'learning_rate':[0.01,0.001],\n",
        "    'random_state':[1]\n",
        "    }\n",
        "\n",
        "\n",
        "if skip_slow_processes==False:\n",
        "  parametersOfValue['estimator'] = [None,best_model]\n",
        "  parametersOfValue['n_estimators'] = [500, 1000, 2000]\n",
        "  parametersOfValue['max_depth'] = [3,4,5,80,100]\n",
        "  parametersOfValue['learning_rate'] = [0.1,0.01,0.001]"
      ],
      "metadata": {
        "id": "viHXUjdAJj3l"
      },
      "execution_count": null,
      "outputs": []
    },
    {
      "cell_type": "code",
      "source": [
        "all_model_types = {'LinearRegression':LinearRegression()\n",
        "                  ,'DecisionTreeRegressor':DecisionTreeRegressor()\n",
        "                  ,'BaggingRegressor ':BaggingRegressor()\n",
        "                  ,'RandomForestRegressor':RandomForestRegressor()\n",
        "                  ,'AdaBoostRegressor':AdaBoostRegressor()\n",
        "                  ,'XGBRegressor ':xgb.XGBRegressor()\n",
        "                 }"
      ],
      "metadata": {
        "id": "uMsLTQHuJj0j"
      },
      "execution_count": null,
      "outputs": []
    },
    {
      "cell_type": "code",
      "source": [
        "all_model_combinations_gross_rev = get_all_model_combinations(all_model_types,parametersOfValue)\n",
        "all_model_combinations_gross_rev"
      ],
      "metadata": {
        "id": "GYKfxnzcJjxj"
      },
      "execution_count": null,
      "outputs": []
    },
    {
      "cell_type": "markdown",
      "source": [
        "Run the top 10 performing models using the narrowed dataset in hope to reduce "
      ],
      "metadata": {
        "id": "IHAb4VDFeZjZ"
      }
    },
    {
      "cell_type": "code",
      "source": [
        "all_model_combinations_gross_rev, dict_of_fitted_models_gross_rev = run_various_models_return_results(all_model_combinations_gross_rev.head(10), all_model_types)"
      ],
      "metadata": {
        "id": "zQ8y9dowJjvf"
      },
      "execution_count": null,
      "outputs": []
    },
    {
      "cell_type": "code",
      "source": [
        "all_model_combinations_gross_rev.sort_values(by=\"test_score_r2\", ascending=False)"
      ],
      "metadata": {
        "id": "4u8BNERrJjsU"
      },
      "execution_count": null,
      "outputs": []
    },
    {
      "cell_type": "code",
      "source": [
        "scatterplot_model_preformence(all_model_combinations_gross_rev.head(8),dict_of_fitted_models_gross_rev)"
      ],
      "metadata": {
        "id": "qH7cZydjK1MK"
      },
      "execution_count": null,
      "outputs": []
    },
    {
      "cell_type": "code",
      "source": [
        "best_output_gross_rev = all_model_combinations_gross_rev.sort_values(by=\"test_score_r2\", ascending=False).head(1)\n",
        "best_model_gross_rev = output_to_fitted_model(best_output_gross_rev,columns_to_run=None)\n",
        "best_model_gross_rev"
      ],
      "metadata": {
        "id": "shvyopgOK1QK"
      },
      "execution_count": null,
      "outputs": []
    },
    {
      "cell_type": "markdown",
      "source": [
        "# Meta Score"
      ],
      "metadata": {
        "id": "OwZOrfevmb4t"
      }
    },
    {
      "cell_type": "code",
      "source": [],
      "metadata": {
        "id": "c35vAMhmmhOj"
      },
      "execution_count": null,
      "outputs": []
    },
    {
      "cell_type": "markdown",
      "source": [
        "## Data Preparing"
      ],
      "metadata": {
        "id": "be_hMzaUmhoN"
      }
    },
    {
      "cell_type": "markdown",
      "source": [
        "### Filter Missing Ys - Metascore"
      ],
      "metadata": {
        "id": "qqry7nTcmhoN"
      }
    },
    {
      "cell_type": "code",
      "source": [
        "metascore_na_mask = y_metascore.isna()\n",
        "y_metascore = y_metascore[~metascore_na_mask]\n",
        "X_metascore = X_ohe_reduced[~metascore_na_mask]\n",
        "X_metascore.shape,y_metascore.shape\n",
        "print(f\"Only {len(y_metascore)} out of {len(metascore_na_mask)} records had Gross Rev Revenue and will be kept\")"
      ],
      "metadata": {
        "id": "EW-ot3LemhoN"
      },
      "execution_count": null,
      "outputs": []
    },
    {
      "cell_type": "code",
      "source": [
        "y_metascore"
      ],
      "metadata": {
        "id": "oWimZABurM_h"
      },
      "execution_count": null,
      "outputs": []
    },
    {
      "cell_type": "code",
      "source": [
        "# Create the histogram\n",
        "plt.hist(y_metascore, bins=25)  # You can adjust the number of bins as needed\n",
        "\n",
        "# Add labels\n",
        "plt.xlabel('Value')\n",
        "plt.ylabel('Frequency')\n",
        "\n",
        "# Add a title\n",
        "plt.title('Histogram of metascore')\n",
        "\n",
        "# Display the plot\n",
        "plt.show()"
      ],
      "metadata": {
        "id": "Jk88aGhCmhoO"
      },
      "execution_count": null,
      "outputs": []
    },
    {
      "cell_type": "markdown",
      "source": [
        "### Scale Data - Metascore"
      ],
      "metadata": {
        "id": "nnWvM_yymhoO"
      }
    },
    {
      "cell_type": "code",
      "source": [
        "scalar_metascore = StandardScaler(copy=True, with_mean=True, with_std=True).fit(X_metascore[numerical_columns])\n",
        "\n",
        "X_metascore_scaled = pd.DataFrame(scalar_metascore.transform(X_metascore[numerical_columns]),columns=numerical_columns, index=X_metascore.index)\n",
        "\n",
        "# Reintroduce Binary Columns:\n",
        "for binary_col in binary_columns:\n",
        "  bin_s = X_metascore[binary_col]\n",
        "  X_metascore_scaled[binary_col] = bin_s\n",
        "\n",
        "feature_names = X_metascore_scaled.columns\n",
        "X_metascore_scaled"
      ],
      "metadata": {
        "id": "_IPjzYpkmhoO"
      },
      "execution_count": null,
      "outputs": []
    },
    {
      "cell_type": "markdown",
      "source": [
        "### Split Train-Test - Metascore"
      ],
      "metadata": {
        "id": "xNHnnIT_mhoO"
      }
    },
    {
      "cell_type": "code",
      "source": [
        "x_train_scaled, x_test_scaled, y_train, y_test = train_test_split(X_metascore_scaled, y_metascore, train_size = 0.8, random_state=0)\n",
        "print(f\"Train DataSet: {x_train_scaled.shape[0]} with {x_train_scaled.shape[1]} features\")\n",
        "print(f\"Test DataSet: {x_test_scaled.shape[0]} with {x_test_scaled.shape[1]} features\")"
      ],
      "metadata": {
        "id": "fsWVOwvHmhoO"
      },
      "execution_count": null,
      "outputs": []
    },
    {
      "cell_type": "markdown",
      "source": [
        "## Exploring all models - Metascore"
      ],
      "metadata": {
        "id": "Olco3Os4mhoO"
      }
    },
    {
      "cell_type": "code",
      "source": [
        "parametersOfValue = {\n",
        "    'estimator':[None], \n",
        "    'max_features': [int(math.sqrt(len(feature_names))), int(len(feature_names)/3)],\n",
        "    'n_estimators':[500],\n",
        "    'max_depth':[3,5],\n",
        "    'learning_rate':[0.01,0.001],\n",
        "    'random_state':[1]\n",
        "    }\n",
        "\n",
        "\n",
        "if skip_slow_processes==False:\n",
        "  parametersOfValue['estimator'] = [None,best_model]\n",
        "  parametersOfValue['n_estimators'] = [500, 1000, 2000]\n",
        "  parametersOfValue['max_depth'] = [3,4,5,80,100]\n",
        "  parametersOfValue['learning_rate'] = [0.1,0.01,0.001]"
      ],
      "metadata": {
        "id": "u1Fn9LdjmhoP"
      },
      "execution_count": null,
      "outputs": []
    },
    {
      "cell_type": "code",
      "source": [
        "all_model_types = {'LinearRegression':LinearRegression()\n",
        "                  ,'DecisionTreeRegressor':DecisionTreeRegressor()\n",
        "                  ,'BaggingRegressor ':BaggingRegressor()\n",
        "                  ,'RandomForestRegressor':RandomForestRegressor()\n",
        "                  ,'AdaBoostRegressor':AdaBoostRegressor()\n",
        "                  ,'XGBRegressor ':xgb.XGBRegressor()\n",
        "                 }"
      ],
      "metadata": {
        "id": "apKY4KAnmhoP"
      },
      "execution_count": null,
      "outputs": []
    },
    {
      "cell_type": "code",
      "source": [
        "all_model_combinations_metascore = get_all_model_combinations(all_model_types,parametersOfValue)\n",
        "all_model_combinations_metascore"
      ],
      "metadata": {
        "id": "H_Glx3zimhoP"
      },
      "execution_count": null,
      "outputs": []
    },
    {
      "cell_type": "code",
      "source": [
        "all_model_combinations_metascore, dict_of_fitted_models_metascore = run_various_models_return_results(all_model_combinations_metascore, all_model_types)"
      ],
      "metadata": {
        "id": "1qmwzECimhoP"
      },
      "execution_count": null,
      "outputs": []
    },
    {
      "cell_type": "code",
      "source": [
        "all_model_combinations_metascore.sort_values(by=\"test_score_r2\", ascending=False)"
      ],
      "metadata": {
        "id": "niJyuyNEmhoP"
      },
      "execution_count": null,
      "outputs": []
    },
    {
      "cell_type": "code",
      "source": [
        "scatterplot_model_preformence(all_model_combinations_metascore.head(8),dict_of_fitted_models_metascore)"
      ],
      "metadata": {
        "id": "IpwNOrTgmhoP"
      },
      "execution_count": null,
      "outputs": []
    },
    {
      "cell_type": "code",
      "source": [
        "best_output_metascore = all_model_combinations_metascore.sort_values(by=\"test_score_r2\", ascending=False).head(1)\n",
        "best_model_metascore = output_to_fitted_model(best_output_metascore,columns_to_run=None)\n",
        "best_model_metascore"
      ],
      "metadata": {
        "id": "PRvW19SAmhoP"
      },
      "execution_count": null,
      "outputs": []
    },
    {
      "cell_type": "code",
      "source": [],
      "metadata": {
        "id": "RcOiP4AqwUBZ"
      },
      "execution_count": null,
      "outputs": []
    },
    {
      "cell_type": "markdown",
      "source": [
        "# User Rating"
      ],
      "metadata": {
        "id": "TSQgR7t_wXzl"
      }
    },
    {
      "cell_type": "code",
      "source": [],
      "metadata": {
        "id": "D_3W_fzkwXzm"
      },
      "execution_count": null,
      "outputs": []
    },
    {
      "cell_type": "markdown",
      "source": [
        "## Data Preparing"
      ],
      "metadata": {
        "id": "2968FwKFwXzm"
      }
    },
    {
      "cell_type": "markdown",
      "source": [
        "### Filter Missing Ys - User Rating"
      ],
      "metadata": {
        "id": "9OG6_stmwXzm"
      }
    },
    {
      "cell_type": "code",
      "source": [
        "user_rating_na_mask = y_user_rating.isna()\n",
        "y_user_rating = y_user_rating[~user_rating_na_mask]\n",
        "X_user_rating = X_ohe_reduced[~user_rating_na_mask]\n",
        "X_user_rating.shape,y_user_rating.shape\n",
        "print(f\"Only {len(y_user_rating)} out of {len(user_rating_na_mask)} records had Gross Rev Revenue and will be kept\")"
      ],
      "metadata": {
        "id": "kg7MXtQSwXzm"
      },
      "execution_count": null,
      "outputs": []
    },
    {
      "cell_type": "code",
      "source": [
        "y_user_rating"
      ],
      "metadata": {
        "id": "DsqtwzY1wXzm"
      },
      "execution_count": null,
      "outputs": []
    },
    {
      "cell_type": "code",
      "source": [
        "# Create the histogram\n",
        "plt.hist(y_user_rating, bins=25)  # You can adjust the number of bins as needed\n",
        "\n",
        "# Add labels\n",
        "plt.xlabel('Value')\n",
        "plt.ylabel('Frequency')\n",
        "\n",
        "# Add a title\n",
        "plt.title('Histogram of user_rating')\n",
        "\n",
        "# Display the plot\n",
        "plt.show()"
      ],
      "metadata": {
        "id": "7UISGL_kwXzm"
      },
      "execution_count": null,
      "outputs": []
    },
    {
      "cell_type": "markdown",
      "source": [
        "### Scale Data - User Rating"
      ],
      "metadata": {
        "id": "RYcuU4Z7wXzn"
      }
    },
    {
      "cell_type": "code",
      "source": [
        "scalar_user_rating = StandardScaler(copy=True, with_mean=True, with_std=True).fit(X_user_rating[numerical_columns])\n",
        "\n",
        "X_user_rating_scaled = pd.DataFrame(scalar_user_rating.transform(X_user_rating[numerical_columns]),columns=numerical_columns, index=X_user_rating.index)\n",
        "\n",
        "# Reintroduce Binary Columns:\n",
        "for binary_col in binary_columns:\n",
        "  bin_s = X_user_rating[binary_col]\n",
        "  X_user_rating_scaled[binary_col] = bin_s\n",
        "\n",
        "feature_names = X_user_rating_scaled.columns\n",
        "X_user_rating_scaled"
      ],
      "metadata": {
        "id": "uHfJF-r6wXzn"
      },
      "execution_count": null,
      "outputs": []
    },
    {
      "cell_type": "markdown",
      "source": [
        "### Split Train-Test - User Rating"
      ],
      "metadata": {
        "id": "NZDygjlxwXzn"
      }
    },
    {
      "cell_type": "code",
      "source": [
        "x_train_scaled, x_test_scaled, y_train, y_test = train_test_split(X_user_rating_scaled, y_user_rating, train_size = 0.8, random_state=0)\n",
        "print(f\"Train DataSet: {x_train_scaled.shape[0]} with {x_train_scaled.shape[1]} features\")\n",
        "print(f\"Test DataSet: {x_test_scaled.shape[0]} with {x_test_scaled.shape[1]} features\")"
      ],
      "metadata": {
        "id": "b2VVAEXuwXzn"
      },
      "execution_count": null,
      "outputs": []
    },
    {
      "cell_type": "markdown",
      "source": [
        "## Exploring all models - User Rating"
      ],
      "metadata": {
        "id": "MhH9faXfwXzn"
      }
    },
    {
      "cell_type": "code",
      "source": [
        "parametersOfValue = {\n",
        "    'estimator':[None], \n",
        "    'max_features': [int(math.sqrt(len(feature_names))), int(len(feature_names)/3)],\n",
        "    'n_estimators':[500],\n",
        "    'max_depth':[3,5],\n",
        "    'learning_rate':[0.01,0.001],\n",
        "    'random_state':[1]\n",
        "    }\n",
        "\n",
        "\n",
        "if skip_slow_processes==False:\n",
        "  parametersOfValue['estimator'] = [None,best_model]\n",
        "  parametersOfValue['n_estimators'] = [500, 1000, 2000]\n",
        "  parametersOfValue['max_depth'] = [3,4,5,80,100]\n",
        "  parametersOfValue['learning_rate'] = [0.1,0.01,0.001]"
      ],
      "metadata": {
        "id": "UrzK9_eFwXzn"
      },
      "execution_count": null,
      "outputs": []
    },
    {
      "cell_type": "code",
      "source": [
        "all_model_types = {'LinearRegression':LinearRegression()\n",
        "                  ,'DecisionTreeRegressor':DecisionTreeRegressor()\n",
        "                  ,'BaggingRegressor ':BaggingRegressor()\n",
        "                  ,'RandomForestRegressor':RandomForestRegressor()\n",
        "                  ,'AdaBoostRegressor':AdaBoostRegressor()\n",
        "                  ,'XGBRegressor ':xgb.XGBRegressor()\n",
        "                 }"
      ],
      "metadata": {
        "id": "UK70FWi3wXzn"
      },
      "execution_count": null,
      "outputs": []
    },
    {
      "cell_type": "code",
      "source": [
        "all_model_combinations_user_rating = get_all_model_combinations(all_model_types,parametersOfValue)\n",
        "all_model_combinations_user_rating"
      ],
      "metadata": {
        "id": "XgSwwQU1wXzn"
      },
      "execution_count": null,
      "outputs": []
    },
    {
      "cell_type": "code",
      "source": [
        "all_model_combinations_user_rating, dict_of_fitted_models_user_rating = run_various_models_return_results(all_model_combinations_user_rating, all_model_types)"
      ],
      "metadata": {
        "id": "CsBM_RapwXzo"
      },
      "execution_count": null,
      "outputs": []
    },
    {
      "cell_type": "code",
      "source": [
        "all_model_combinations_user_rating.sort_values(by=\"test_score_r2\", ascending=False)"
      ],
      "metadata": {
        "id": "s5YRnEjFwXzo"
      },
      "execution_count": null,
      "outputs": []
    },
    {
      "cell_type": "code",
      "source": [
        "scatterplot_model_preformence(all_model_combinations_user_rating.head(8),dict_of_fitted_models_user_rating)"
      ],
      "metadata": {
        "id": "lghHjkrewXzo"
      },
      "execution_count": null,
      "outputs": []
    },
    {
      "cell_type": "code",
      "source": [
        "best_output_user_rating = all_model_combinations_user_rating.sort_values(by=\"test_score_r2\", ascending=False).head(1)\n",
        "best_model_user_rating = output_to_fitted_model(best_output_user_rating,columns_to_run=None)\n",
        "best_model_user_rating"
      ],
      "metadata": {
        "id": "M2Op-5rMwXzo"
      },
      "execution_count": null,
      "outputs": []
    }
  ]
}