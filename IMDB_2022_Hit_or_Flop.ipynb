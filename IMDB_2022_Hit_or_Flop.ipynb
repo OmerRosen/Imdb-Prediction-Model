{
  "nbformat": 4,
  "nbformat_minor": 0,
  "metadata": {
    "colab": {
      "provenance": [],
      "mount_file_id": "1VKO5RplugE39AX9PFp1h1v2qiD8gM0hY",
      "authorship_tag": "ABX9TyNXqWT5njAFjtzyt+NyILoV",
      "include_colab_link": true
    },
    "kernelspec": {
      "name": "python3",
      "display_name": "Python 3"
    },
    "language_info": {
      "name": "python"
    }
  },
  "cells": [
    {
      "cell_type": "markdown",
      "metadata": {
        "id": "view-in-github",
        "colab_type": "text"
      },
      "source": [
        "<a href=\"https://colab.research.google.com/github/OmerRosen/Kaggle/blob/main/IMDB_2022_Hit_or_Flop.ipynb\" target=\"_parent\"><img src=\"https://colab.research.google.com/assets/colab-badge.svg\" alt=\"Open In Colab\"/></a>"
      ]
    },
    {
      "cell_type": "markdown",
      "source": [
        "# IMDB 2022 - Hit or Flop"
      ],
      "metadata": {
        "id": "NQFvvfWPy8yF"
      }
    },
    {
      "cell_type": "markdown",
      "source": [
        "## Data Collection"
      ],
      "metadata": {
        "id": "y0Rjw492zB7x"
      }
    },
    {
      "cell_type": "markdown",
      "source": [
        "### Data Requirments"
      ],
      "metadata": {
        "id": "YgCYDZTUzHKE"
      }
    },
    {
      "cell_type": "markdown",
      "source": [
        "# Feature collection mission\n",
        "\n",
        "# Main list Page:\n",
        "* Movie Id\n",
        "* Movie Title\n",
        "* Movie year\n",
        "* Rating\n",
        "* MetaScore - Outcome\n",
        "* Description\n",
        "* Poster\n",
        "* Directore name + Link\n",
        "* Stars\n",
        "* Votes - Output\n",
        "* Genre\n",
        "\n",
        "# Movie Page:\n",
        "* Movie Length\n",
        "* Rank\n",
        "* Writer\n",
        "* Star #1\n",
        "* Star #2\n",
        "* Star #3\n",
        "* User eviews\n",
        "* Critic reviews\n",
        "* Number of photos posted\n",
        "* Storyline - Text\n",
        "* Tag line\n",
        "* Release Date - Month\n",
        "* Country of origin\n",
        "* Additional Lanaguages\n",
        "* Country of filming\n",
        "* Production companies\n",
        "* Budget\n",
        "* Opening Weekend Date\n",
        "* Gross US & Canada - Output\n",
        "* Opening weekend US & Canada - Output\n",
        "* Gross worldwide - Output\n",
        "* Color - Color\n",
        "* Color - Black&White\n",
        "* Sound mix - Dolby Digital\n",
        "* Sound mix - Dolby Atmos\n",
        "* Aspect ratio\n",
        "\n",
        "# Director Page:\n",
        "* Director Age\n",
        "* Is Top 500?\n",
        "* Director Gender (Based on bio)\n",
        "* Previous film count - As Director\n",
        "* Previous film count - As Writer\n",
        "* Previous film count - As As Producer\n",
        "* Director Publicity listing count\n",
        "\n",
        "# Information Abount Cast:\n",
        "* Full list of cast and their profile links\n",
        "* Number of cast members\n",
        "* Produced by - Is top 500?\n",
        "* Music by - Is top 500?\n",
        "* Cinematography by  - Is top 500\n",
        "* Film Editing by   - Is top 500\n",
        "* Art Direction by  - Is top 500\n",
        "* Number of Production Management\n",
        "* Number of Art Department\n",
        "* Number of Sound Department\n",
        "* Number of Camera and Electrical Department\n",
        "* Number of Editorial Department\n",
        "* Number of Music Department\n",
        "* Number of Additional Crew\n",
        "\n",
        "# Actor Page\n",
        "* Is Top 5000?\n",
        "* Is Top 500?\n",
        "* Is Top 100 (aka - Has numberical rank)\n",
        "* Is Top 10 (aka - Has numberical rank)\n",
        "* Numerical Rank (Could be none)\n",
        "* Gender\n",
        "* Age\n",
        "* Oscar nominations \n",
        "* Birth country\n",
        "\n",
        "# Production COmpanies (Filter)\n",
        "* Num of previous titles\n",
        "\n",
        "\n",
        "# Aggragated data:\n",
        "* How many male stars\n",
        "* How many female stars\n",
        "* Avrage cast memeber age\n",
        "* Max/Min age of cast member\n",
        "* Number of unique birth countries of actors\n",
        "* Total number of Oscar numinatior for cast\n",
        "* Num cast members in top 5000\n",
        "* Num cast memebers in top 500\n",
        "* Num cast members in top 100\n",
        "* Num cast members in top 10"
      ],
      "metadata": {
        "id": "iJMm4uv_zRNh"
      }
    },
    {
      "cell_type": "markdown",
      "source": [
        "# IMDB Scraper"
      ],
      "metadata": {
        "id": "miwov1QlN7-G"
      }
    },
    {
      "cell_type": "markdown",
      "source": [
        "## Build functions for collecting movie details"
      ],
      "metadata": {
        "id": "OCmEiQzqGt7L"
      }
    },
    {
      "cell_type": "code",
      "source": [
        "import requests\n",
        "from IPython.core.display import HTML\n",
        "import json\n",
        "from time import sleep\n",
        "import re\n",
        "import requests\n",
        "from bs4 import BeautifulSoup\n",
        "import matplotlib.pyplot as plt\n",
        "import numpy as np\n",
        "import pandas as pd\n",
        "import seaborn as sns\n",
        "import os\n",
        "import time\n",
        "import traceback\n"
      ],
      "metadata": {
        "id": "SoeHu2EVOyw6"
      },
      "execution_count": 1,
      "outputs": []
    },
    {
      "cell_type": "code",
      "source": [
        "base_url = \"https://www.imdb.com\"\n",
        "\n",
        "start_date = \"2022-01-01\"\n",
        "end_date = \"2022-12-31\"\n",
        "minimum_votes = 10 # Minimum vote amount to coolect movie\n",
        "start_point = 1 # Start from movie #1-50\n",
        "\n",
        "movie_search_url = f\"{base_url}/search/title/?title_type=feature&release_date={start_date},{end_date}&num_votes={minimum_votes},&{start_point}anguages=en&start=1&ref_=adv_nxt\"\n",
        "movie_search_url"
      ],
      "metadata": {
        "colab": {
          "base_uri": "https://localhost:8080/",
          "height": 35
        },
        "id": "9aLLijszN2JX",
        "outputId": "14e9efb3-fde9-4a62-ed02-de3a749d5e94"
      },
      "execution_count": 2,
      "outputs": [
        {
          "output_type": "execute_result",
          "data": {
            "text/plain": [
              "'https://www.imdb.com/search/title/?title_type=feature&release_date=2022-01-01,2022-12-31&num_votes=10,&1anguages=en&start=1&ref_=adv_nxt'"
            ],
            "application/vnd.google.colaboratory.intrinsic+json": {
              "type": "string"
            }
          },
          "metadata": {},
          "execution_count": 2
        }
      ]
    },
    {
      "cell_type": "code",
      "source": [
        "headers = {\n",
        "    \"User-Agent\": \"Mozilla/5.0 (Windows NT 10.0; Win64; x64) AppleWebKit/537.36 (KHTML, like Gecko) Chrome/58.0.3029.110 Safari/537.36\"\n",
        "}\n",
        "\n",
        "list_of_50_movies = requests.get(f'{movie_search_url}', headers=headers, timeout=10)\n",
        "list_of_50_movies"
      ],
      "metadata": {
        "colab": {
          "base_uri": "https://localhost:8080/"
        },
        "id": "FPZnOmt7O4ZO",
        "outputId": "71608a67-1b7a-484b-e9f4-588f6fb60f84"
      },
      "execution_count": 3,
      "outputs": [
        {
          "output_type": "execute_result",
          "data": {
            "text/plain": [
              "<Response [200]>"
            ]
          },
          "metadata": {},
          "execution_count": 3
        }
      ]
    },
    {
      "cell_type": "code",
      "source": [
        "list_of_50_movies_soup = BeautifulSoup(list_of_50_movies.text, 'html.parser').find_all('div',{'class':'lister-item mode-advanced'})\n"
      ],
      "metadata": {
        "id": "fXP7YHhYPEFJ"
      },
      "execution_count": 4,
      "outputs": []
    },
    {
      "cell_type": "code",
      "source": [
        "movie_search_page = list_of_50_movies_soup[0]"
      ],
      "metadata": {
        "id": "TPVLgEErQ1ix"
      },
      "execution_count": 5,
      "outputs": []
    },
    {
      "cell_type": "code",
      "source": [
        "def get_basic_details(movie_search_page):\n",
        "  search_box_info = {}\n",
        "  search_box_info['movie_name'] = movie_search_page.find('a')\n",
        "  search_box_info['movie_page_url'] = f\"{base_url}{movie_search_page.find('a')['href']}\"\n",
        "\n",
        "  try:\n",
        "    search_box_info['movie_place'] = None if not movie_search_page.find('span',{'class':'lister-item-index unbold text-primary'}) else movie_search_page.find('span',{'class':'lister-item-index unbold text-primary'}).text.replace('.','')\n",
        "    search_box_info['movie_id'] = None if not search_box_info['movie_page_url'] else search_box_info['movie_page_url'].split('/')[-2]\n",
        "    search_box_info['movie_name'] = None if not movie_search_page.find('a').find('img') else movie_search_page.find('a').find('img')['alt'].strip()\n",
        "    search_box_info['movie_thubmnail'] = None if not movie_search_page.find('a').find('img') else movie_search_page.find('a').find('img')['src']\n",
        "    #search_box_info['movie_year'] = None if not movie_search_page.find('span',{'class':'lister-item-year text-muted unbold'}) else movie_search_page.find('span',{'class':'lister-item-year text-muted unbold'}).text.replace('(','').replace(')','')\n",
        "    #search_box_info['movie_rating'] = None if not movie_search_page.find('strong') else movie_search_page.find('strong').text\n",
        "    search_box_info['movie_metascore'] = None if not movie_search_page.find('span', {'class': 'metascore'}) else movie_search_page.find('span', {'class': 'metascore'}).text.strip()\n",
        "    search_box_info['movie_description'] = None if not movie_search_page.find_all('p',{'class':'text-muted'}) else movie_search_page.find_all('p',{'class':'text-muted'})[1].text.strip()\n",
        "    search_box_info['runtime_min'] = None if not movie_search_page.find('span',{'class':'runtime'}) else movie_search_page.find('span',{'class':'runtime'}).text.split(' ')[0]\n",
        "\n",
        "    bottom_box_info = movie_search_page.find('p',{'class':'sort-num_votes-visible'}).find_all('span')\n",
        "    search_box_info['movie_vote_num'] = bottom_box_info[1]['data-value']\n",
        "    search_box_info['movie_gross'] = bottom_box_info[4]['data-value'] if len(bottom_box_info)>2 else None;\n",
        "\n",
        "    search_box_info['movie_rating'] = None if not movie_search_page.find_all('p',{'class':'text-muted'})[0].find('span',{'class':'certificate'}) else movie_search_page.find_all('p',{'class':'text-muted'})[0].find('span',{'class':'certificate'}).text.strip()\n",
        "    search_box_info['movie_genere'] = None if not movie_search_page.find_all('p',{'class':'text-muted'})[0].find('span',{'class':'genre'}) else movie_search_page.find_all('p',{'class':'text-muted'})[0].find('span',{'class':'genre'}).text.strip()\n",
        "\n",
        "    search_box_info['__SuccsefullyCollectBasicDetails'] = True;\n",
        "\n",
        "  except Exception as e:\n",
        "    print(f\"Failed extracting data for movie: {search_box_info['movie_name']}. \\nUrl: {search_box_info['movie_page_url']}.\\n Error:\\n{e}\")\n",
        "    traceback.print_exc()\n",
        "    search_box_info['__SuccsefullyCollectBasicDetails'] = False;\n",
        "\n",
        "\n",
        "  return search_box_info"
      ],
      "metadata": {
        "id": "ma8O2qtIaahp"
      },
      "execution_count": 6,
      "outputs": []
    },
    {
      "cell_type": "code",
      "source": [
        "movie_search_page = list_of_50_movies_soup[1]\n",
        "search_box_info = get_basic_details(movie_search_page)\n",
        "search_box_info\n",
        "\n"
      ],
      "metadata": {
        "colab": {
          "base_uri": "https://localhost:8080/"
        },
        "id": "nSPtu7JccDLW",
        "outputId": "dde4e4fd-dd02-478b-e067-9afe85557cdb"
      },
      "execution_count": 7,
      "outputs": [
        {
          "output_type": "execute_result",
          "data": {
            "text/plain": [
              "{'movie_name': 'Everything Everywhere All at Once',\n",
              " 'movie_page_url': 'https://www.imdb.com/title/tt6710474/?ref_=adv_li_i',\n",
              " 'movie_place': '2',\n",
              " 'movie_id': 'tt6710474',\n",
              " 'movie_thubmnail': 'https://m.media-amazon.com/images/S/sash/4FyxwxECzL-U1J8.png',\n",
              " 'movie_metascore': '81',\n",
              " 'movie_description': 'A middle-aged Chinese immigrant is swept up into an insane adventure in which she alone can save existence by exploring other universes and connecting with the lives she could have led.',\n",
              " 'runtime_min': '139',\n",
              " 'movie_vote_num': '413956',\n",
              " 'movie_gross': '72,861,480',\n",
              " 'movie_rating': 'R',\n",
              " 'movie_genere': 'Action, Adventure, Comedy',\n",
              " '__SuccsefullyCollectBasicDetails': True}"
            ]
          },
          "metadata": {},
          "execution_count": 7
        }
      ]
    },
    {
      "cell_type": "code",
      "source": [
        "movie_main_page = requests.get(search_box_info['movie_page_url'], headers=headers)\n",
        "movie_main_page_soup = BeautifulSoup(movie_main_page.text, 'html.parser')"
      ],
      "metadata": {
        "id": "HcDJ2qcBlNUM"
      },
      "execution_count": 8,
      "outputs": []
    },
    {
      "cell_type": "code",
      "source": [
        "def get_extended_details(movie_page_url, movie_name):\n",
        "  movie_page_dict = {}\n",
        "\n",
        "  try:\n",
        "\n",
        "    movie_main_page = requests.get(movie_page_url, headers=headers)\n",
        "    movie_main_page_soup = BeautifulSoup(movie_main_page.text, 'html.parser')   \n",
        "\n",
        "    year_rating = movie_main_page_soup.find('ul',{\"class\":\"ipc-inline-list ipc-inline-list--show-dividers sc-afe43def-4 kdXikI baseAlt\"}).find_all('a')\n",
        "\n",
        "    movie_page_dict['movie_year'] = year_rating[0].text if len(year_rating)>0 else None\n",
        "    movie_page_dict['movie_rating'] = year_rating[1].text if len(year_rating)>1 else None\n",
        "\n",
        "    director_box = movie_main_page_soup.find('span',string=\"Director\") if movie_main_page_soup.find('span',string=\"Directors\") is None else movie_main_page_soup.find('span',string=\"Directors\")\n",
        "    if director_box == None:\n",
        "      director_box = movie_main_page_soup.find('a',string=\"Director\") if movie_main_page_soup.find('span',string=\"Directors\") is None else movie_main_page_soup.find('a',string=\"Directors\")\n",
        "    director_box = director_box.find_next_sibling()\n",
        "    movie_page_dict['director_name'] = director_box.find('a').text\n",
        "    movie_page_dict['director_url'] = f\"{base_url}{director_box.find('a')['href']}\"\n",
        "    movie_page_dict['director_id'] = movie_page_dict['director_url'].split('/')[-2]\n",
        "\n",
        "    writers_box = movie_main_page_soup.find('span',string=\"Writer\") if movie_main_page_soup.find('span',string=\"Writers\") is None else movie_main_page_soup.find('span',string=\"Writers\")\n",
        "    if writers_box == None:\n",
        "      writers_box = movie_main_page_soup.find('span',string=\"Writer\") if movie_main_page_soup.find('a',string=\"Writers\") is None else movie_main_page_soup.find('a',string=\"Writers\")\n",
        "    # If not writer specified - Assume director is also writer\n",
        "    writers_box = writers_box.find_next_sibling() if writers_box!=None else director_box\n",
        "    movie_page_dict['writer_name'] = writers_box.find('a').text\n",
        "    movie_page_dict['writer_url'] = f\"{base_url}{writers_box.find('a')['href']}\"\n",
        "    movie_page_dict['writer_id'] = movie_page_dict['writer_url'].split('/')[-2]\n",
        "\n",
        "    movie_page_dict['movie_cast_url'] = movie_main_page_soup.find('a',{'class':'ipc-metadata-list-item__label ipc-metadata-list-item__label--link'})['href']\n",
        "    movie_page_dict['movie_cast_url'] = f\"{base_url}{movie_page_dict['movie_cast_url']}\"\n",
        "    stars_box = movie_main_page_soup.find('a',{'class':'ipc-metadata-list-item__label ipc-metadata-list-item__label--link'}).find_parent().find_all('a')\n",
        "    for i,star_box in enumerate(stars_box[1:-1]):\n",
        "      star_num = f'star_{i+1}'\n",
        "      movie_page_dict[f'{star_num}_name'] = star_box.text.strip()\n",
        "      movie_page_dict[f'{star_num}_url'] = f\"{base_url}{star_box['href']}\"\n",
        "      movie_page_dict[f'{star_num}_id'] = star_box['href'].split('/')[-2]\n",
        "\n",
        "    review_scores = movie_main_page_soup.find_all('span',{'class':'score'})\n",
        "    movie_page_dict['user_reviews_count'] = review_scores[0].text if len(review_scores)>0 else None\n",
        "    movie_page_dict['critic_reviews_count'] = review_scores[1].text if len(review_scores)>1 else None\n",
        "\n",
        "    movie_page_dict['release_date'] = movie_main_page_soup.find('a',{'class':'ipc-metadata-list-item__label ipc-metadata-list-item__label--link'}, string=\"Release date\").find_parent().find('a',{'class':'ipc-metadata-list-item__list-content-item ipc-metadata-list-item__list-content-item--link'}).text.split('(')[0].strip()\n",
        "    movie_page_dict['release_date']\n",
        "\n",
        "    movie_page_dict['budget'] = movie_main_page_soup.find('span',{'class':'ipc-metadata-list-item__label'}, string=\"Budget\")\n",
        "    if (movie_page_dict['budget']!=None):\n",
        "      movie_page_dict['budget'] = movie_page_dict['budget'].find_next_sibling().find('span',{'class':'ipc-metadata-list-item__list-content-item'}).text.split('(')[0].strip()\n",
        "\n",
        "    movie_page_dict['gross_worldwide'] = movie_main_page_soup.find('span',{'class':'ipc-metadata-list-item__label'}, string=\"Gross worldwide\")\n",
        "    if (movie_page_dict['gross_worldwide']!=None):\n",
        "      movie_page_dict['gross_worldwide'] = movie_page_dict['gross_worldwide'].find_next_sibling().find('span',{'class':'ipc-metadata-list-item__list-content-item'}).text.split('(')[0].strip()\n",
        "\n",
        "    movie_page_dict['gross_us_canada'] = movie_main_page_soup.find('span',{'class':'ipc-metadata-list-item__label'}, string=\"Gross US & Canada\")\n",
        "    if (movie_page_dict['gross_us_canada']!=None):\n",
        "      movie_page_dict['gross_us_canada'] = movie_page_dict['gross_us_canada'].find_next_sibling().find('span',{'class':'ipc-metadata-list-item__list-content-item'}).text.split('(')[0].strip()\n",
        "\n",
        "    movie_page_dict['opening_weekend_us_canada'] = movie_main_page_soup.find('span',{'class':'ipc-metadata-list-item__label'}, string=\"Opening weekend US & Canada\")\n",
        "    if (movie_page_dict['opening_weekend_us_canada']!=None):\n",
        "      movie_page_dict['opening_weekend_us_canada'] = movie_page_dict['opening_weekend_us_canada'].find_next_sibling().find('span',{'class':'ipc-metadata-list-item__list-content-item'}).text.split('(')[0].strip()\n",
        "\n",
        "    movie_page_dict['origin_country'] = movie_main_page_soup.find('span',{'class':'ipc-metadata-list-item__label'}, string=\"Country of origin\")\n",
        "    if (movie_page_dict['origin_country']!=None):\n",
        "      movie_page_dict['origin_country'] = movie_page_dict['origin_country'].find_next_sibling().find('a').text.split('(')[0].strip()\n",
        "\n",
        "    languages = movie_main_page_soup.find('span',string=\"Language\") if movie_main_page_soup.find('span',string=\"Languages\") is None else movie_main_page_soup.find('span',string=\"Languages\")\n",
        "    languages = [] if not languages else languages.find_next_sibling().find_all('a')\n",
        "    movie_page_dict['languages'] = \",\".join([language.text for language in languages])\n",
        "\n",
        "    movie_page_dict['__SuccsefullyCollectExtandedDetails'] = True;\n",
        "\n",
        "    \n",
        "\n",
        "  except Exception as e:\n",
        "    print(f\"Failed extracting data for movie: {movie_name}. \\nUrl: {movie_page_url}.\\n Error:\\n{e}\")\n",
        "    traceback.print_exc()\n",
        "    movie_page_dict['__SuccsefullyCollectExtandedDetails'] = False;\n",
        "\n",
        "  return movie_page_dict\n",
        "\n",
        "\n",
        "get_extended_details(search_box_info['movie_page_url'],search_box_info['movie_name'])"
      ],
      "metadata": {
        "colab": {
          "base_uri": "https://localhost:8080/"
        },
        "id": "XH4irJSLculw",
        "outputId": "9c3fe670-82a8-4bb4-aa6c-582a9616cd34"
      },
      "execution_count": 9,
      "outputs": [
        {
          "output_type": "execute_result",
          "data": {
            "text/plain": [
              "{'movie_year': '2022',\n",
              " 'movie_rating': 'R',\n",
              " 'director_name': 'Daniel Kwan',\n",
              " 'director_url': 'https://www.imdb.com/name/nm3453283/?ref_=tt_ov_dr',\n",
              " 'director_id': 'nm3453283',\n",
              " 'writer_name': 'Daniel Kwan',\n",
              " 'writer_url': 'https://www.imdb.com/name/nm3453283/?ref_=tt_ov_wr',\n",
              " 'writer_id': 'nm3453283',\n",
              " 'movie_cast_url': 'https://www.imdb.com/title/tt6710474/fullcredits/cast?ref_=tt_ov_st_sm',\n",
              " 'star_1_name': 'Michelle Yeoh',\n",
              " 'star_1_url': 'https://www.imdb.com/name/nm0000706/?ref_=tt_ov_st',\n",
              " 'star_1_id': 'nm0000706',\n",
              " 'star_2_name': 'Stephanie Hsu',\n",
              " 'star_2_url': 'https://www.imdb.com/name/nm3513533/?ref_=tt_ov_st',\n",
              " 'star_2_id': 'nm3513533',\n",
              " 'star_3_name': 'Jamie Lee Curtis',\n",
              " 'star_3_url': 'https://www.imdb.com/name/nm0000130/?ref_=tt_ov_st',\n",
              " 'star_3_id': 'nm0000130',\n",
              " 'user_reviews_count': '3.3K',\n",
              " 'critic_reviews_count': '395',\n",
              " 'release_date': 'April 8, 2022',\n",
              " 'budget': '$14,300,000',\n",
              " 'gross_worldwide': '$135,728,167',\n",
              " 'gross_us_canada': '$77,020,896',\n",
              " 'opening_weekend_us_canada': '$501,305',\n",
              " 'origin_country': 'United States',\n",
              " 'languages': 'English,Mandarin,Cantonese',\n",
              " '__SuccsefullyCollectExtandedDetails': True}"
            ]
          },
          "metadata": {},
          "execution_count": 9
        }
      ]
    },
    {
      "cell_type": "code",
      "source": [
        "# print(search_box_info['movie_page_url'],search_box_info['movie_name'])\n",
        "# cast_url = movie_main_page_soup.find('a',{'class':'ipc-metadata-list-item__label ipc-metadata-list-item__label--link'})['href']\n",
        "# cast_url = f\"{base_url}{cast_url}\"\n",
        "# cast_url"
      ],
      "metadata": {
        "id": "vEii_FS-9zTJ"
      },
      "execution_count": 10,
      "outputs": []
    },
    {
      "cell_type": "markdown",
      "source": [
        "## Cursor for collecting movies in batches"
      ],
      "metadata": {
        "id": "TxMZRWuGG3SA"
      }
    },
    {
      "cell_type": "code",
      "source": [
        "# Fixed parameters:\n",
        "base_url = \"https://www.imdb.com\"\n",
        "\n",
        "start_date = \"2022-01-01\"\n",
        "end_date = \"2022-12-31\"\n",
        "minimum_votes = 20 # Minimum vote amount to coolect movie\n",
        "\n",
        "headers = {\"User-Agent\": \"Mozilla/5.0 (Windows NT 10.0; Win64; x64) AppleWebKit/537.36 (KHTML, like Gecko) Chrome/58.0.3029.110 Safari/537.36\"}"
      ],
      "metadata": {
        "id": "NZCEUr1_HFkQ"
      },
      "execution_count": 11,
      "outputs": []
    },
    {
      "cell_type": "code",
      "source": [
        "# Dynamic parameters:\n",
        "\n",
        "start_point = 1 # Start from movie #1-50\n",
        "\n",
        "movie_search_url_50_batch = f\"{base_url}/search/title/?title_type=feature&release_date={start_date},{end_date}&num_votes={minimum_votes},&user_rating=1.0,10.0&countries=us&languages=en&start={start_point}&ref_=adv_nxt\"\n",
        "print(f\"movie_search_url_50_batch: {movie_search_url_50_batch}\")\n",
        "search_page = requests.get(f'{movie_search_url_50_batch}', headers=headers, timeout=10)\n",
        "search_page_soup = BeautifulSoup(list_of_50_movies.text, 'html.parser')\n",
        "list_of_50_movies_soup = search_page_soup.find_all('div',{'class':'lister-item mode-advanced'})\n",
        "\n",
        "max_num_of_results = search_page_soup.find('div',{'class':'desc'}).find('span').text.split(' ')[2].replace(\",\", \"\")\n",
        "max_num_of_results = int(max_num_of_results)\n",
        "\n",
        "print(f\"max_num_of_results: {max_num_of_results}\")"
      ],
      "metadata": {
        "id": "RYjnulARhT5c",
        "colab": {
          "base_uri": "https://localhost:8080/"
        },
        "outputId": "799e64d8-349a-4d6d-8587-acb39bfdc702"
      },
      "execution_count": 12,
      "outputs": [
        {
          "output_type": "stream",
          "name": "stdout",
          "text": [
            "movie_search_url_50_batch: https://www.imdb.com/search/title/?title_type=feature&release_date=2022-01-01,2022-12-31&num_votes=20,&user_rating=1.0,10.0&countries=us&languages=en&start=1&ref_=adv_nxt\n",
            "max_num_of_results: 6302\n"
          ]
        }
      ]
    },
    {
      "cell_type": "code",
      "source": [
        "search_page = requests.get(f'{movie_search_url_50_batch}', headers=headers, timeout=10)\n",
        "search_page_soup = BeautifulSoup(search_page.text, 'html.parser')\n",
        "list_of_50_movies_soup = search_page_soup.find_all('div',{'class':'lister-item mode-advanced'})\n",
        "\n",
        "max_num_of_results = search_page_soup.find('div',{'class':'desc'}).find('span').text.split(' ')[2].replace(\",\", \"\")\n",
        "max_num_of_results = int(max_num_of_results)\n",
        "max_num_of_results"
      ],
      "metadata": {
        "colab": {
          "base_uri": "https://localhost:8080/"
        },
        "id": "EU7uRvT1iI9t",
        "outputId": "09cf6538-fe7b-469b-a877-1733d9c7516a"
      },
      "execution_count": 16,
      "outputs": [
        {
          "output_type": "execute_result",
          "data": {
            "text/plain": [
              "1383"
            ]
          },
          "metadata": {},
          "execution_count": 16
        }
      ]
    },
    {
      "cell_type": "code",
      "source": [
        "total_movie_dataset = []\n",
        "total_actor_dataset = []\n",
        "total_director_dataset = []\n",
        "\n",
        "start_point = 1 # Start from movie #1-50\n",
        "\n",
        "while start_point < max_num_of_results-50:\n",
        "\n",
        "  movie_search_url_50_batch = f\"{base_url}/search/title/?title_type=feature&release_date={start_date},{end_date}&num_votes={minimum_votes},&languages=en&start={start_point}&ref_=adv_nxt\"\n",
        "  print(f\"movie_search_url_50_batch start point {start_point}: {movie_search_url_50_batch}\")\n",
        "  search_page = requests.get(f'{movie_search_url_50_batch}', headers=headers, timeout=10)\n",
        "  search_page_soup = BeautifulSoup(search_page.text, 'html.parser')\n",
        "  list_of_50_movies_soup = search_page_soup.find_all('div',{'class':'lister-item mode-advanced'})\n",
        "\n",
        "  for i,movie in enumerate(list_of_50_movies_soup):\n",
        "    movie_data = {}\n",
        "\n",
        "    basic_data = get_basic_details(movie)\n",
        "    movie_data.update(basic_data)\n",
        "\n",
        "    if basic_data['__SuccsefullyCollectBasicDetails']==True:\n",
        "      movie_main_page = requests.get(basic_data['movie_page_url'], headers=headers)\n",
        "      movie_main_page_soup = BeautifulSoup(movie_main_page.text, 'html.parser')   \n",
        "\n",
        "      if i%30==0:\n",
        "        print(basic_data['movie_name'],basic_data['movie_page_url'])\n",
        "\n",
        "      extended_deta = get_extended_details(basic_data['movie_page_url'],basic_data['movie_name'])\n",
        "      movie_data.update(extended_deta)\n",
        "\n",
        "      sleep(0.1)\n",
        "\n",
        "      total_movie_dataset.append(movie_data)\n",
        "    else:\n",
        "      movie_data['__SuccsefullyCollectExtandedDetails'] = False;\n",
        "      print(f\"Skipping extanded data for: {basic_data['movie_name']} - {basic_data['movie_page_url']}\")\n",
        "\n",
        "  movie_dataset = pd.DataFrame(total_movie_dataset)\n",
        "  movie_dataset.to_csv(\"/content/drive/My Drive/Harvard HW/Course 4 - Final Project/total_movie_dataset.csv\", index=False)\n",
        "\n",
        "  start_point += 50"
      ],
      "metadata": {
        "colab": {
          "base_uri": "https://localhost:8080/"
        },
        "id": "9ASPUpIMHT2J",
        "outputId": "275f4b9c-10b5-45a7-c541-1ea65f01db2e"
      },
      "execution_count": null,
      "outputs": [
        {
          "output_type": "stream",
          "name": "stdout",
          "text": [
            "movie_search_url_50_batch start point 1: https://www.imdb.com/search/title/?title_type=feature&release_date=2022-01-01,2022-12-31&num_votes=20,&languages=en&start=1&ref_=adv_nxt\n",
            "Avatar: The Way of Water https://www.imdb.com/title/tt1630029/?ref_=adv_li_i\n"
          ]
        }
      ]
    },
    {
      "cell_type": "code",
      "source": [
        "movie_dataset = pd.DataFrame(total_movie_dataset)\n",
        "movie_dataset.to_csv(\"/content/drive/My Drive/Harvard HW/Course 4 - Final Project/total_movie_dataset.csv\", index=False)\n",
        "\n",
        "movie_dataset"
      ],
      "metadata": {
        "id": "1zPMKZlwevQ5"
      },
      "execution_count": null,
      "outputs": []
    },
    {
      "cell_type": "code",
      "source": [
        "languages = movie_main_page_soup.find('span',string=\"Language\") if movie_main_page_soup.find('span',string=\"Languages\") is None else movie_main_page_soup.find('span',string=\"Languages\")\n",
        "languages = [] if not languages else languages.find_next_sibling().find_all('a')\n",
        "\",\".join([language.text for language in languages])"
      ],
      "metadata": {
        "id": "-j2y88dH1chv"
      },
      "execution_count": null,
      "outputs": []
    },
    {
      "cell_type": "code",
      "source": [
        "# movie_main_page_soup\n",
        "# writers_box = movie_main_page_soup.find('span',string=\"Writer\") if movie_main_page_soup.find('a',string=\"Writers\") is None else movie_main_page_soup.find('a',string=\"Writers\")\n",
        "# writers_box = writers_box.find_next_sibling()\n",
        "# writers_box"
      ],
      "metadata": {
        "id": "mDjtqHinj9cA"
      },
      "execution_count": null,
      "outputs": []
    },
    {
      "cell_type": "code",
      "source": [],
      "metadata": {
        "id": "3ILsPPc9dUkH"
      },
      "execution_count": null,
      "outputs": []
    }
  ]
}