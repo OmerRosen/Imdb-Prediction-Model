{
  "nbformat": 4,
  "nbformat_minor": 0,
  "metadata": {
    "colab": {
      "provenance": [],
      "toc_visible": true,
      "authorship_tag": "ABX9TyMhEgseckCmMVSq2ik9CVL9",
      "include_colab_link": true
    },
    "kernelspec": {
      "name": "python3",
      "display_name": "Python 3"
    },
    "language_info": {
      "name": "python"
    }
  },
  "cells": [
    {
      "cell_type": "markdown",
      "metadata": {
        "id": "view-in-github",
        "colab_type": "text"
      },
      "source": [
        "<a href=\"https://colab.research.google.com/github/OmerRosen/Kaggle/blob/main/IMDB_2022_Hit_or_Flop.ipynb\" target=\"_parent\"><img src=\"https://colab.research.google.com/assets/colab-badge.svg\" alt=\"Open In Colab\"/></a>"
      ]
    },
    {
      "cell_type": "markdown",
      "source": [
        "# IMDB 2022 - Hit or Flop"
      ],
      "metadata": {
        "id": "NQFvvfWPy8yF"
      }
    },
    {
      "cell_type": "markdown",
      "source": [
        "## Data Collection"
      ],
      "metadata": {
        "id": "y0Rjw492zB7x"
      }
    },
    {
      "cell_type": "markdown",
      "source": [
        "### Data Requirments"
      ],
      "metadata": {
        "id": "YgCYDZTUzHKE"
      }
    },
    {
      "cell_type": "markdown",
      "source": [
        "# Feature collection mission\n",
        "\n",
        "# Main list Page:\n",
        "* Movie Id\n",
        "* Movie Title\n",
        "* Movie year\n",
        "* Rating\n",
        "* MetaScore - Outcome\n",
        "* Description\n",
        "* Poster\n",
        "* Directore name + Link\n",
        "* Stars\n",
        "* Votes - Output\n",
        "* Genre\n",
        "\n",
        "# Movie Page:\n",
        "* Movie Length\n",
        "* Rank\n",
        "* Writer\n",
        "* Star #1\n",
        "* Star #2\n",
        "* Star #3\n",
        "* # User eviews\n",
        "* # Critic reviews\n",
        "* Number of photos posted\n",
        "* Storyline - Text\n",
        "* Tag line\n",
        "* Release Date - Month\n",
        "* Country of origin\n",
        "* Additional Lanaguages\n",
        "* Country of filming\n",
        "* Production companies\n",
        "* Budget\n",
        "* Opening Weekend Date\n",
        "* Gross US & Canada - Output\n",
        "* Opening weekend US & Canada - Output\n",
        "* Gross worldwide - Output\n",
        "* Color - Color\n",
        "* Color - Black&White\n",
        "* Sound mix - Dolby Digital\n",
        "* Sound mix - Dolby Atmos\n",
        "Aspect ratio\n",
        "\n",
        "# Director Page:\n",
        "* Director Age\n",
        "* Is Top 500?\n",
        "* Director Gender (Based on bio)\n",
        "* Previous film count - As Director\n",
        "* Previous film count - As Writer\n",
        "* Previous film count - As As Producer\n",
        "* Director Publicity listing count\n",
        "\n",
        "# Information Abount Cast:\n",
        "* Full list of cast and their profile links\n",
        "* Number of cast members\n",
        "* Produced by - Is top 500?\n",
        "* Music by - Is top 500?\n",
        "* Cinematography by  - Is top 500\n",
        "* Film Editing by   - Is top 500\n",
        "* Art Direction by  - Is top 500\n",
        "* Number of Production Management\n",
        "* Number of Art Department\n",
        "* Number of Sound Department\n",
        "* Number of Camera and Electrical Department\n",
        "* Number of Editorial Department\n",
        "* Number of Music Department\n",
        "* Number of Additional Crew\n",
        "\n",
        "# Actor Page\n",
        "* Is Top 5000?\n",
        "* Is Top 500?\n",
        "* Is Top 100 (aka - Has numberical rank)\n",
        "* Is Top 10 (aka - Has numberical rank)\n",
        "* Numerical Rank (Could be none)\n",
        "* Gender\n",
        "* Age\n",
        "* Oscar nominations \n",
        "* Birth country\n",
        "\n",
        "# Production COmpanies (Filter)\n",
        "* Num of previous titles\n",
        "\n",
        "\n",
        "# Aggragated data:\n",
        "* How many male stars\n",
        "* How many female stars\n",
        "* Avrage cast memeber age\n",
        "* Max/Min age of cast member\n",
        "* Number of unique birth countries of actors\n",
        "* Total number of Oscar numinatior for cast\n",
        "* Num cast members in top 5000\n",
        "* Num cast memebers in top 500\n",
        "* Num cast members in top 100\n",
        "* Num cast members in top 10"
      ],
      "metadata": {
        "id": "iJMm4uv_zRNh"
      }
    },
    {
      "cell_type": "code",
      "execution_count": null,
      "metadata": {
        "id": "3e54BCIRn-EC"
      },
      "outputs": [],
      "source": [
        "Main list Page:\n",
        "* Movie Id\n",
        "* Movie Title\n",
        "* Movie year\n",
        "* Rating\n",
        "* MetaScore - Outcome\n",
        "* Description\n",
        "* Poster\n",
        "* Directore name + Link\n",
        "* Stars\n",
        "* Votes - Output\n",
        "* Genre\n",
        "\n",
        "Movie Page:\n",
        "* Movie Length\n",
        "* Rank\n",
        "* Writer\n",
        "* Star #1\n",
        "* Star #2\n",
        "* Star #3\n",
        "* # User eviews\n",
        "* # Critic reviews\n",
        "* Number of photos posted\n",
        "* Storyline - Text\n",
        "* Tag line\n",
        "* Release Date - Month\n",
        "* Country of origin\n",
        "* Additional Lanaguages\n",
        "* Country of filming\n",
        "* Production companies\n",
        "* Budget\n",
        "* Opening Weekend Date\n",
        "* Gross US & Canada - Output\n",
        "* Opening weekend US & Canada - Output\n",
        "* Gross worldwide - Output\n",
        "* Color - Color\n",
        "* Color - Black&White\n",
        "* Sound mix - Dolby Digital\n",
        "* Sound mix - Dolby Atmos\n",
        "Aspect ratio\n",
        "\n",
        "Director Page:\n",
        "* Director Age\n",
        "* Is Top 500?\n",
        "* Director Gender (Based on bio)\n",
        "* Previous film count - As Director\n",
        "* Previous film count - As Writer\n",
        "* Previous film count - As As Producer\n",
        "* Director Publicity listing count\n",
        "\n",
        "Information Abount Cast:\n",
        "# Full list of cast and their profile links\n",
        "# Number of cast members\n",
        "# Produced by - Is top 500?\n",
        "# Music by - Is top 500?\n",
        "# Cinematography by  - Is top 500\n",
        "# Film Editing by   - Is top 500\n",
        "# Art Direction by  - Is top 500\n",
        "# Number of Production Management\n",
        "# Number of Art Department\n",
        "# Number of Sound Department\n",
        "# Number of Camera and Electrical Department\n",
        "# Number of Editorial Department\n",
        "# Number of Music Department\n",
        "# Number of Additional Crew\n",
        "\n",
        "# Actor Page\n",
        "* Is Top 5000?\n",
        "* Is Top 500?\n",
        "* Is Top 100 (aka - Has numberical rank)\n",
        "* Is Top 10 (aka - Has numberical rank)\n",
        "* Numerical Rank (Could be none)\n",
        "* Gender\n",
        "* Age\n",
        "* Oscar nominations \n",
        "* Birth country\n",
        "\n",
        "# Production COmpanies (Filter)\n",
        "* Num of previous titles\n",
        "\n",
        "\n",
        "Aggragated data:\n",
        "How many male stars\n",
        "How many female stars\n",
        "Avrage cast memeber age\n",
        "Max/Min age of cast member\n",
        "Number of unique birth countries of actors\n",
        "Total number of Oscar numinatior for cast\n",
        "# cast members in top 5000\n",
        "# cast memebers in top 500\n",
        "# cast members in top 100\n",
        "# cast members in top 10"
      ]
    },
    {
      "cell_type": "code",
      "source": [],
      "metadata": {
        "id": "rYXTLNRfokwK"
      },
      "execution_count": null,
      "outputs": []
    },
    {
      "cell_type": "markdown",
      "source": [
        "# IMDB Scraper"
      ],
      "metadata": {
        "id": "miwov1QlN7-G"
      }
    },
    {
      "cell_type": "code",
      "source": [
        "import requests\n",
        "from IPython.core.display import HTML\n",
        "import json\n",
        "from time import sleep\n",
        "import re\n",
        "import requests\n",
        "from bs4 import BeautifulSoup\n",
        "import matplotlib.pyplot as plt\n",
        "import numpy as np\n",
        "import pandas as pd\n",
        "import seaborn as sns\n",
        "import os\n",
        "import time"
      ],
      "metadata": {
        "id": "SoeHu2EVOyw6"
      },
      "execution_count": 7,
      "outputs": []
    },
    {
      "cell_type": "code",
      "source": [
        "base_url = \"https://www.imdb.com\"\n",
        "movie_search_url = f\"{base_url}/search/title/?title_type=feature&release_date=2022-01-01,2022-12-31&num_votes=10,&languages=en&start=1&ref_=adv_nxt\"\n",
        "movie_search_url"
      ],
      "metadata": {
        "colab": {
          "base_uri": "https://localhost:8080/",
          "height": 35
        },
        "id": "9aLLijszN2JX",
        "outputId": "36153186-c7cc-4e35-e9a0-25beb6fb8990"
      },
      "execution_count": 8,
      "outputs": [
        {
          "output_type": "execute_result",
          "data": {
            "text/plain": [
              "'https://www.imdb.com/search/title/?title_type=feature&release_date=2022-01-01,2022-12-31&num_votes=10,&languages=en&start=1&ref_=adv_nxt'"
            ],
            "application/vnd.google.colaboratory.intrinsic+json": {
              "type": "string"
            }
          },
          "metadata": {},
          "execution_count": 8
        }
      ]
    },
    {
      "cell_type": "code",
      "source": [
        "headers = {\n",
        "    \"User-Agent\": \"Mozilla/5.0 (Windows NT 10.0; Win64; x64) AppleWebKit/537.36 (KHTML, like Gecko) Chrome/58.0.3029.110 Safari/537.36\"\n",
        "}\n",
        "\n",
        "list_of_50_movies = requests.get(f'{movie_search_url}', headers=headers)\n",
        "list_of_50_movies"
      ],
      "metadata": {
        "colab": {
          "base_uri": "https://localhost:8080/"
        },
        "id": "FPZnOmt7O4ZO",
        "outputId": "e277ed2d-7873-46d7-9577-b39d882e0836"
      },
      "execution_count": 81,
      "outputs": [
        {
          "output_type": "execute_result",
          "data": {
            "text/plain": [
              "<Response [200]>"
            ]
          },
          "metadata": {},
          "execution_count": 81
        }
      ]
    },
    {
      "cell_type": "code",
      "source": [
        "list_of_50_movies_soup = BeautifulSoup(list_of_50_movies.text, 'html.parser').find_all('div',{'class':'lister-item mode-advanced'})\n",
        "\n"
      ],
      "metadata": {
        "colab": {
          "base_uri": "https://localhost:8080/"
        },
        "id": "fXP7YHhYPEFJ",
        "outputId": "d448810a-875c-446d-9eb5-e0cff5b52661"
      },
      "execution_count": 15,
      "outputs": [
        {
          "output_type": "execute_result",
          "data": {
            "text/plain": [
              "50"
            ]
          },
          "metadata": {},
          "execution_count": 15
        }
      ]
    },
    {
      "cell_type": "code",
      "source": [
        "#     Main list Page:\n",
        "  #Movie Id \n",
        "  #Movie Title\n",
        "  #Movie Link\n",
        "#Movie Thumbnail -- Need to overcome thumbnail load time\n",
        "  #Movie year\n",
        "  #Rating\n",
        "  #MetaScore - Outcome\n",
        "  #Description\n",
        "#Directore name + Link -- Will collect from movie page\n",
        "#Stars -- Will collect from movie page\n",
        "  #Votes - Output\n",
        "  #Movie gross\n",
        "#Genre"
      ],
      "metadata": {
        "id": "oOgu9XnEPjNU"
      },
      "execution_count": null,
      "outputs": []
    },
    {
      "cell_type": "code",
      "source": [
        "movie_search_page = list_of_50_movies_soup[0]\n",
        "movie_search_page"
      ],
      "metadata": {
        "colab": {
          "base_uri": "https://localhost:8080/",
          "height": 35
        },
        "id": "TPVLgEErQ1ix",
        "outputId": "5ca5e242-e152-4ec8-c755-225db1d653a3"
      },
      "execution_count": 69,
      "outputs": [
        {
          "output_type": "execute_result",
          "data": {
            "text/plain": [
              "'Action, Adventure, Comedy'"
            ],
            "application/vnd.google.colaboratory.intrinsic+json": {
              "type": "string"
            }
          },
          "metadata": {},
          "execution_count": 69
        }
      ]
    },
    {
      "cell_type": "code",
      "source": [
        "def get_basic_details(search_box_info):\n",
        "  search_box_info = {}\n",
        "\n",
        "  search_box_info['movie_id'] = movie_search_page.find('span',{'class':'lister-item-index unbold text-primary'}).text.replace('.','')\n",
        "  search_box_info['movie_name'] = movie_search_page.find('a')\n",
        "  search_box_info['movie_page_url'] = f\"{base_url}{movie_search_page.find('a')['href']}\"\n",
        "  search_box_info['movie_name'] = movie_search_page.find('a').find('img')['alt'].strip()\n",
        "  search_box_info['movie_thubmnail'] = movie_search_page.find('a').find('img')['src']\n",
        "  search_box_info['movie_year'] = movie_search_page.find('span',{'class':'lister-item-year text-muted unbold'}).text.replace('(','').replace(')','')\n",
        "  search_box_info['movie_rating'] = movie_search_page.find('strong').text\n",
        "  search_box_info['movie_metascore'] = movie_search_page.find('span',{'class':'metascore'}).text.strip()\n",
        "  search_box_info['movie_description'] = movie_search_page.find_all('p',{'class':'text-muted'})[1].text.strip()\n",
        "  search_box_info['runtime_min'] = movie_search_page.find('span',{'class':'runtime'}).text.split(' ')[0]\n",
        "\n",
        "  bottom_box_info = movie_search_page.find('p',{'class':'sort-num_votes-visible'}).find_all('span')\n",
        "  search_box_info['movie_vote_num'] = bottom_box_info[1]['data-value']\n",
        "  search_box_info['movie_gross'] = bottom_box_info[4]['data-value'] if len(bottom_box_info)>2 else None;\n",
        "\n",
        "  search_box_info['movie_rating'] = movie_search_page.find_all('p',{'class':'text-muted'})[0].find('span',{'class':'certificate'}).text.strip()\n",
        "  search_box_info['movie_genere'] = movie_search_page.find_all('p',{'class':'text-muted'})[0].find('span',{'class':'genre'}).text.strip()\n",
        "\n",
        "  return search_box_info"
      ],
      "metadata": {
        "id": "ma8O2qtIaahp"
      },
      "execution_count": 121,
      "outputs": []
    },
    {
      "cell_type": "code",
      "source": [
        "movie_search_page = list_of_50_movies_soup[0]\n",
        "search_box_info = get_basic_details(movie_search_page)\n",
        "search_box_info\n",
        "\n"
      ],
      "metadata": {
        "colab": {
          "base_uri": "https://localhost:8080/"
        },
        "id": "nSPtu7JccDLW",
        "outputId": "2de6812a-9a83-4fb2-fa76-88dee16c4de3"
      },
      "execution_count": 122,
      "outputs": [
        {
          "output_type": "execute_result",
          "data": {
            "text/plain": [
              "{'movie_id': '1',\n",
              " 'movie_name': 'Everything Everywhere All at Once',\n",
              " 'movie_page_url': 'https://www.imdb.com/title/tt6710474/',\n",
              " 'movie_thubmnail': 'https://m.media-amazon.com/images/S/sash/4FyxwxECzL-U1J8.png',\n",
              " 'movie_year': '2022',\n",
              " 'movie_rating': 'R',\n",
              " 'movie_metascore': '81',\n",
              " 'movie_description': 'A middle-aged Chinese immigrant is swept up into an insane adventure in which she alone can save existence by exploring other universes and connecting with the lives she could have led.',\n",
              " 'runtime_min': '139',\n",
              " 'movie_vote_num': '392847',\n",
              " 'movie_gross': '72,861,480',\n",
              " 'movie_genere': 'Action, Adventure, Comedy'}"
            ]
          },
          "metadata": {},
          "execution_count": 122
        }
      ]
    },
    {
      "cell_type": "code",
      "source": [
        "movie_main_page = requests.get(search_box_info['movie_page_url'], headers=headers)\n",
        "movie_main_page_soup = BeautifulSoup(movie_main_page.text, 'html.parser')"
      ],
      "metadata": {
        "id": "HcDJ2qcBlNUM"
      },
      "execution_count": null,
      "outputs": []
    },
    {
      "cell_type": "code",
      "source": [
        "director_box = movie_main_page_soup.find('ul',{'class':'ipc-metadata-list ipc-metadata-list--dividers-all title-pc-list ipc-metadata-list--baseAlt'}).find('span',string=\"Directors\").find_parent()\n",
        "director_name = director_box.find('a').text\n",
        "director_url = f\"{base_url}{director_box.find('a')['href']}\"\n",
        "director_url"
      ],
      "metadata": {
        "colab": {
          "base_uri": "https://localhost:8080/",
          "height": 35
        },
        "id": "XH4irJSLculw",
        "outputId": "43b7a0a8-d03a-4468-9aae-079f7938b04e"
      },
      "execution_count": 118,
      "outputs": [
        {
          "output_type": "execute_result",
          "data": {
            "text/plain": [
              "'https://www.imdb.com/name/nm3453283/?ref_=tt_ov_dr'"
            ],
            "application/vnd.google.colaboratory.intrinsic+json": {
              "type": "string"
            }
          },
          "metadata": {},
          "execution_count": 118
        }
      ]
    },
    {
      "cell_type": "code",
      "source": [],
      "metadata": {
        "id": "RYjnulARhT5c"
      },
      "execution_count": null,
      "outputs": []
    }
  ]
}