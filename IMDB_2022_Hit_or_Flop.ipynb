{
  "nbformat": 4,
  "nbformat_minor": 0,
  "metadata": {
    "colab": {
      "provenance": [],
      "toc_visible": true,
      "mount_file_id": "1_ZuJF2lhHRui4fu7P101KKc4AUqEmZvP",
      "authorship_tag": "ABX9TyOowyL7qKID+9iU/gpQY5VG",
      "include_colab_link": true
    },
    "kernelspec": {
      "name": "python3",
      "display_name": "Python 3"
    },
    "language_info": {
      "name": "python"
    }
  },
  "cells": [
    {
      "cell_type": "markdown",
      "metadata": {
        "id": "view-in-github",
        "colab_type": "text"
      },
      "source": [
        "<a href=\"https://colab.research.google.com/github/OmerRosen/Kaggle/blob/main/IMDB_2022_Hit_or_Flop.ipynb\" target=\"_parent\"><img src=\"https://colab.research.google.com/assets/colab-badge.svg\" alt=\"Open In Colab\"/></a>"
      ]
    },
    {
      "cell_type": "markdown",
      "source": [
        "# IMDB 2022 - Hit or Flop"
      ],
      "metadata": {
        "id": "NQFvvfWPy8yF"
      }
    },
    {
      "cell_type": "markdown",
      "source": [
        "## Mission Statement"
      ],
      "metadata": {
        "id": "y0Rjw492zB7x"
      }
    },
    {
      "cell_type": "markdown",
      "source": [
        "### Data To Collect"
      ],
      "metadata": {
        "id": "YgCYDZTUzHKE"
      }
    },
    {
      "cell_type": "markdown",
      "source": [
        "#### Search box page:\n",
        "* Movie Id\n",
        "* Movie Title\n",
        "* Movie year\n",
        "* Rating\n",
        "* MetaScore - Outcome\n",
        "* Description\n",
        "* Poster\n",
        "* Directore name + Link\n",
        "* Stars\n",
        "* Votes - Output\n",
        "* Genre"
      ],
      "metadata": {
        "id": "B67t6dw23MyE"
      }
    },
    {
      "cell_type": "markdown",
      "source": [
        "#### Main Movie Page data\n",
        "* Movie Length\n",
        "* Rank\n",
        "* Writer\n",
        "* Star #1\n",
        "* Star #2\n",
        "* Star #3\n",
        "* User eviews\n",
        "* Critic reviews\n",
        "* Number of photos posted\n",
        "* Storyline - Text\n",
        "* Tag line\n",
        "* Release Date - Month\n",
        "* Country of origin\n",
        "* Additional Lanaguages\n",
        "* Country of filming\n",
        "* Production companies\n",
        "* Budget\n",
        "* Opening Weekend Date\n",
        "* Gross US & Canada - Output\n",
        "* Opening weekend US & Canada - Output\n",
        "* Gross worldwide - Output\n",
        "* Color - Color\n",
        "* Color - Black&White\n",
        "* Sound mix - Dolby Digital\n",
        "* Sound mix - Dolby Atmos\n",
        "* Aspect ratio"
      ],
      "metadata": {
        "id": "57uP49Tx3Za2"
      }
    },
    {
      "cell_type": "markdown",
      "source": [
        "#### Director Page:\n",
        "* Director Age\n",
        "* Is Top 500?\n",
        "* Director Gender (Based on bio)\n",
        "* Previous film count - As Director\n",
        "* Previous film count - As Writer\n",
        "* Previous film count - As As Producer\n",
        "* Director Publicity listing count"
      ],
      "metadata": {
        "id": "GFrFPrn13upo"
      }
    },
    {
      "cell_type": "markdown",
      "source": [
        "#### Information Abount Cast:\n",
        "* Full list of cast and their profile links\n",
        "* Number of cast members\n",
        "* Produced by - Is top 500?\n",
        "* Music by - Is top 500?\n",
        "* Cinematography by  - Is top 500\n",
        "* Film Editing by   - Is top 500\n",
        "* Art Direction by  - Is top 500\n",
        "* Number of Production Management\n",
        "* Number of Art Department\n",
        "* Number of Sound Department\n",
        "* Number of Camera and Electrical Department\n",
        "* Number of Editorial Department\n",
        "* Number of Music Department\n",
        "* Number of Additional Crew"
      ],
      "metadata": {
        "id": "WJsID_wt3ujg"
      }
    },
    {
      "cell_type": "markdown",
      "source": [
        "#### Actor Page\n",
        "* Is Top 5000?\n",
        "* Is Top 500?\n",
        "* Is Top 100 (aka - Has numberical rank)\n",
        "* Is Top 10 (aka - Has numberical rank)\n",
        "* Numerical Rank (Could be none)\n",
        "* Gender\n",
        "* Age\n",
        "* Oscar nominations \n",
        "* Birth country"
      ],
      "metadata": {
        "id": "nI2XH-eX3ubL"
      }
    },
    {
      "cell_type": "markdown",
      "source": [
        "#### Aggragated data:\n",
        "* How many male stars\n",
        "* How many female stars\n",
        "* Avrage cast memeber age\n",
        "* Max/Min age of cast member\n",
        "* Number of unique birth countries of actors\n",
        "* Total number of Oscar numinatior for cast\n",
        "* Num cast members in top 5000\n",
        "* Num cast memebers in top 500\n",
        "* Num cast members in top 100\n",
        "* Num cast members in top 10"
      ],
      "metadata": {
        "id": "iJMm4uv_zRNh"
      }
    },
    {
      "cell_type": "markdown",
      "source": [
        "# IMDB Scraper"
      ],
      "metadata": {
        "id": "miwov1QlN7-G"
      }
    },
    {
      "cell_type": "markdown",
      "source": [
        "## Import Libraries"
      ],
      "metadata": {
        "id": "OCmEiQzqGt7L"
      }
    },
    {
      "cell_type": "code",
      "source": [
        "import requests\n",
        "from IPython.core.display import HTML\n",
        "import json\n",
        "from time import sleep\n",
        "import re\n",
        "import requests\n",
        "from bs4 import BeautifulSoup\n",
        "import matplotlib.pyplot as plt\n",
        "import numpy as np\n",
        "import pandas as pd\n",
        "import seaborn as sns\n",
        "import os\n",
        "import time\n",
        "import traceback\n"
      ],
      "metadata": {
        "id": "SoeHu2EVOyw6"
      },
      "execution_count": 1,
      "outputs": []
    },
    {
      "cell_type": "markdown",
      "source": [
        "## Set main variables"
      ],
      "metadata": {
        "id": "KOSm1vl34Dgh"
      }
    },
    {
      "cell_type": "code",
      "source": [
        "base_url = \"https://www.imdb.com\"\n",
        "base_folder_path = \"/content/drive/My Drive/Harvard HW/Course 4 - Final Project\"\n",
        "\n",
        "start_date = \"2022-01-01\"\n",
        "end_date = \"2022-12-31\"\n",
        "minimum_votes = 10 # Minimum vote amount to coolect movie\n",
        "start_point = 1 # Start from movie #1-50\n",
        "\n",
        "movie_search_url = f\"{base_url}/search/title/?title_type=feature&release_date={start_date},{end_date}&num_votes={minimum_votes},&{start_point}anguages=en&start=1&ref_=adv_nxt\"\n",
        "movie_search_url"
      ],
      "metadata": {
        "colab": {
          "base_uri": "https://localhost:8080/",
          "height": 36
        },
        "id": "9aLLijszN2JX",
        "outputId": "2f36b82c-618d-49e9-bfa3-4008978f808b"
      },
      "execution_count": 2,
      "outputs": [
        {
          "output_type": "execute_result",
          "data": {
            "text/plain": [
              "'https://www.imdb.com/search/title/?title_type=feature&release_date=2022-01-01,2022-12-31&num_votes=10,&1anguages=en&start=1&ref_=adv_nxt'"
            ],
            "application/vnd.google.colaboratory.intrinsic+json": {
              "type": "string"
            }
          },
          "metadata": {},
          "execution_count": 2
        }
      ]
    },
    {
      "cell_type": "code",
      "source": [
        "headers = {\n",
        "    \"User-Agent\": \"Mozilla/5.0 (Windows NT 10.0; Win64; x64) AppleWebKit/537.36 (KHTML, like Gecko) Chrome/58.0.3029.110 Safari/537.36\"\n",
        "}\n",
        "\n",
        "list_of_50_movies = requests.get(f'{movie_search_url}', headers=headers, timeout=10)\n",
        "list_of_50_movies"
      ],
      "metadata": {
        "colab": {
          "base_uri": "https://localhost:8080/"
        },
        "id": "FPZnOmt7O4ZO",
        "outputId": "fbe155d1-ca2c-4b61-9697-5dc91dea5bcb"
      },
      "execution_count": 3,
      "outputs": [
        {
          "output_type": "execute_result",
          "data": {
            "text/plain": [
              "<Response [200]>"
            ]
          },
          "metadata": {},
          "execution_count": 3
        }
      ]
    },
    {
      "cell_type": "code",
      "source": [
        "list_of_50_movies_soup = BeautifulSoup(list_of_50_movies.text, 'html.parser').find_all('div',{'class':'lister-item mode-advanced'})\n"
      ],
      "metadata": {
        "id": "fXP7YHhYPEFJ"
      },
      "execution_count": 4,
      "outputs": []
    },
    {
      "cell_type": "code",
      "source": [
        "movie_search_page = list_of_50_movies_soup[0]"
      ],
      "metadata": {
        "id": "TPVLgEErQ1ix"
      },
      "execution_count": 5,
      "outputs": []
    },
    {
      "cell_type": "markdown",
      "source": [
        "## Function: Get Movie Box details"
      ],
      "metadata": {
        "id": "tOOcl9NX4Pye"
      }
    },
    {
      "cell_type": "code",
      "source": [
        "def get_basic_details(movie_search_page):\n",
        "  search_box_info = {}\n",
        "  search_box_info['movie_name'] = movie_search_page.find('a')\n",
        "  search_box_info['movie_page_url'] = f\"{base_url}{movie_search_page.find('a')['href']}\"\n",
        "\n",
        "  try:\n",
        "    search_box_info['movie_place'] = None if not movie_search_page.find('span',{'class':'lister-item-index unbold text-primary'}) else movie_search_page.find('span',{'class':'lister-item-index unbold text-primary'}).text.replace('.','')\n",
        "    search_box_info['movie_id'] = None if not search_box_info['movie_page_url'] else search_box_info['movie_page_url'].split('/')[-2]\n",
        "    search_box_info['movie_name'] = None if not movie_search_page.find('a').find('img') else movie_search_page.find('a').find('img')['alt'].strip()\n",
        "    search_box_info['movie_thubmnail'] = None if not movie_search_page.find('a').find('img') else movie_search_page.find('a').find('img')['src']\n",
        "    search_box_info['movie_metascore'] = None if not movie_search_page.find('span', {'class': 'metascore'}) else movie_search_page.find('span', {'class': 'metascore'}).text.strip()\n",
        "    search_box_info['movie_description'] = None if not movie_search_page.find_all('p',{'class':'text-muted'}) else movie_search_page.find_all('p',{'class':'text-muted'})[1].text.strip()\n",
        "    search_box_info['runtime_min'] = None if not movie_search_page.find('span',{'class':'runtime'}) else movie_search_page.find('span',{'class':'runtime'}).text.split(' ')[0]\n",
        "\n",
        "    bottom_box_info = movie_search_page.find('p',{'class':'sort-num_votes-visible'}).find_all('span')\n",
        "    search_box_info['movie_vote_num'] = bottom_box_info[1]['data-value']\n",
        "\n",
        "    search_box_info['movie_rating'] = None if not movie_search_page.find_all('p',{'class':'text-muted'})[0].find('span',{'class':'certificate'}) else movie_search_page.find_all('p',{'class':'text-muted'})[0].find('span',{'class':'certificate'}).text.strip()\n",
        "    search_box_info['movie_genere'] = None if not movie_search_page.find_all('p',{'class':'text-muted'})[0].find('span',{'class':'genre'}) else movie_search_page.find_all('p',{'class':'text-muted'})[0].find('span',{'class':'genre'}).text.strip()\n",
        "\n",
        "    search_box_info['__SuccsefullyCollectBasicDetails'] = True;\n",
        "\n",
        "  except Exception as e:\n",
        "    print(f\"Failed extracting data for movie: {search_box_info['movie_name']}. \\nUrl: {search_box_info['movie_page_url']}.\\n Error:\\n{e}\")\n",
        "    traceback.print_exc()\n",
        "    search_box_info['__SuccsefullyCollectBasicDetails'] = False;\n",
        "\n",
        "\n",
        "  return search_box_info"
      ],
      "metadata": {
        "id": "ma8O2qtIaahp"
      },
      "execution_count": 6,
      "outputs": []
    },
    {
      "cell_type": "code",
      "source": [
        "movie_search_page = list_of_50_movies_soup[1]\n",
        "search_box_info = get_basic_details(movie_search_page)\n",
        "search_box_info\n",
        "\n"
      ],
      "metadata": {
        "colab": {
          "base_uri": "https://localhost:8080/"
        },
        "id": "nSPtu7JccDLW",
        "outputId": "db9f3714-7875-437c-be21-89f371fb7aca"
      },
      "execution_count": 7,
      "outputs": [
        {
          "output_type": "execute_result",
          "data": {
            "text/plain": [
              "{'movie_name': 'Everything Everywhere All at Once',\n",
              " 'movie_page_url': 'https://www.imdb.com/title/tt6710474/?ref_=adv_li_i',\n",
              " 'movie_place': '2',\n",
              " 'movie_id': 'tt6710474',\n",
              " 'movie_thubmnail': 'https://m.media-amazon.com/images/S/sash/4FyxwxECzL-U1J8.png',\n",
              " 'movie_metascore': '81',\n",
              " 'movie_description': 'A middle-aged Chinese immigrant is swept up into an insane adventure in which she alone can save existence by exploring other universes and connecting with the lives she could have led.',\n",
              " 'runtime_min': '139',\n",
              " 'movie_vote_num': '423762',\n",
              " 'movie_rating': 'R',\n",
              " 'movie_genere': 'Action, Adventure, Comedy',\n",
              " '__SuccsefullyCollectBasicDetails': True}"
            ]
          },
          "metadata": {},
          "execution_count": 7
        }
      ]
    },
    {
      "cell_type": "code",
      "source": [
        "movie_main_page = requests.get(search_box_info['movie_page_url'], headers=headers)\n",
        "movie_main_page_soup = BeautifulSoup(movie_main_page.text, 'html.parser')"
      ],
      "metadata": {
        "id": "HcDJ2qcBlNUM"
      },
      "execution_count": 8,
      "outputs": []
    },
    {
      "cell_type": "markdown",
      "source": [
        "## Function: Extract Movie Artists"
      ],
      "metadata": {
        "id": "Ui9hyYvhG_R8"
      }
    },
    {
      "cell_type": "code",
      "source": [
        "def extract_artist(artist_type, movie_main_page_soup):\n",
        "\n",
        "  item_dict = {}\n",
        "\n",
        "  search_result = movie_main_page_soup.find(string=f\"{artist_type}s\") if movie_main_page_soup.find(string=artist_type) is None else movie_main_page_soup.find(string=artist_type)\n",
        "  search_item_list = []\n",
        "  if search_result!=None:\n",
        "    search_item_list = search_result.find_parent().find_next_sibling().find_all('a')\n",
        "  \n",
        "  item_dict[f\"{artist_type}_count\"] = len(search_item_list)\n",
        "\n",
        "  for i,item in enumerate(search_item_list):\n",
        "    artisc_name = item.text.strip()\n",
        "    artisc_url = item['href']\n",
        "    artist_id = artisc_url.split('/')[2]\n",
        "    item_dict[f\"{artist_type}_{i+1}_name\"] = artisc_name\n",
        "    #item_dict[f\"{artist_type}_{i+1}_url\"] = artisc_url\n",
        "    item_dict[f\"{artist_type}_{i+1}_imdb_id\"] = artist_id\n",
        "\n",
        "  return item_dict\n",
        "\n",
        "print(extract_artist(\"Director\", movie_main_page_soup))\n",
        "print(extract_artist(\"Writer\", movie_main_page_soup))\n",
        "print(extract_artist(\"Star\", movie_main_page_soup))"
      ],
      "metadata": {
        "colab": {
          "base_uri": "https://localhost:8080/"
        },
        "id": "BLMezvBZ8q3N",
        "outputId": "49811284-a2cb-4411-83b6-4c354c565050"
      },
      "execution_count": 9,
      "outputs": [
        {
          "output_type": "stream",
          "name": "stdout",
          "text": [
            "{'Director_count': 2, 'Director_1_name': 'Daniel Kwan', 'Director_1_imdb_id': 'nm3453283', 'Director_2_name': 'Daniel Scheinert', 'Director_2_imdb_id': 'nm3215397'}\n",
            "{'Writer_count': 2, 'Writer_1_name': 'Daniel Kwan', 'Writer_1_imdb_id': 'nm3453283', 'Writer_2_name': 'Daniel Scheinert', 'Writer_2_imdb_id': 'nm3215397'}\n",
            "{'Star_count': 3, 'Star_1_name': 'Michelle Yeoh', 'Star_1_imdb_id': 'nm0000706', 'Star_2_name': 'Stephanie Hsu', 'Star_2_imdb_id': 'nm3513533', 'Star_3_name': 'Jamie Lee Curtis', 'Star_3_imdb_id': 'nm0000130'}\n"
          ]
        }
      ]
    },
    {
      "cell_type": "markdown",
      "source": [
        "## Function: Perform Currency Conversion"
      ],
      "metadata": {
        "id": "t8ANYROE8boz"
      }
    },
    {
      "cell_type": "code",
      "source": [
        "currency_codes = {\n",
        "    \"$\":\"USD\",\n",
        "    \"€\":\"EUR\",\n",
        "    \"£\":\"GBP\",\n",
        "    \"₹\":\"INR\",\n",
        "    \"â‚¬\": \"EUR\",\n",
        "    \"â‚¹\": \"INR\",\n",
        "    \"CA$\": \"CAD\",\n",
        "    \"NOKÂ\": \"NOK\",\n",
        "    \"Â£\": \"GBP\",\n",
        "    \"CHF\": \"CHF\",\n",
        "    \"Â¥\": \"JPY\",\n",
        "    \"PKR\": \"PKR\",\n",
        "    \"A$\": \"AUD\",\n",
        "    \"CZK\": \"CZK\",\n",
        "    \"RUR\": \"RUB\",\n",
        "    \"NZ$\": \"NZD\",\n",
        "    \"MYR\": \"MYR\",\n",
        "    \"NGN\": \"NGN\",\n",
        "    \"NOK\":\"NOK\",\n",
        "    \"A$\":\"AUD\",\n",
        "    \"â‚¬\":\"EUR\",\n",
        "    \"â‚¹\":\"INR\",\n",
        "    \"Â£\":\"GBP\",\n",
        "    \"CA$\":\"CAD\",\n",
        "    \"CHFÂ \":\"CHF\",\n",
        "    \"MYRÂ \":\"MYR\",\n",
        "    \"NGNÂ \":\"NGN\",\n",
        "    \"NOKÂ \":\"NOK\",\n",
        "    \"NZ$\":\"NZD\",\n",
        "    \"PKRÂ \":\"PKR\",\n",
        "    \"RURÂ \":\"RUB\"\n",
        "}\n",
        "\n",
        "\n",
        "currency_conversion_values = {}\n"
      ],
      "metadata": {
        "id": "xTQyDlNNRMTT"
      },
      "execution_count": 10,
      "outputs": []
    },
    {
      "cell_type": "code",
      "source": [
        "def extract_currency_symbol(s):\n",
        "    match = re.search(r\"[^\\d]+\", s)\n",
        "    if match:\n",
        "        return match.group(0).strip()\n",
        "    else:\n",
        "        return \"\""
      ],
      "metadata": {
        "id": "Ffkj0oe7Vmee"
      },
      "execution_count": 11,
      "outputs": []
    },
    {
      "cell_type": "code",
      "source": [
        "def get_currency_code(amount_string):\n",
        "  currency_symbol = extract_currency_symbol(amount_string)\n",
        "  if currency_symbol in currency_codes:\n",
        "      return currency_codes[currency_symbol]\n",
        "  else:\n",
        "    print(f\"Could not find a value for: {currency_symbol} in {amount_string}\")\n",
        "    return None"
      ],
      "metadata": {
        "id": "LFYkrlxHWeMw"
      },
      "execution_count": 12,
      "outputs": []
    },
    {
      "cell_type": "code",
      "source": [
        "def extract_numerical_value(string):\n",
        "    # Remove all non-numeric characters from the string\n",
        "    numerical_string = re.sub(r\"[^\\d.]+\", \"\", string)\n",
        "    # Convert the string to a float and return it\n",
        "    return float(numerical_string)"
      ],
      "metadata": {
        "id": "q_2ySIZiXwK8"
      },
      "execution_count": 13,
      "outputs": []
    },
    {
      "cell_type": "code",
      "source": [
        "\n",
        "with open(f'{base_folder_path}/openexchangerates.txt', 'r') as f:\n",
        "    api_key = f.read().strip()\n",
        "\n",
        "api_key\n",
        "\n",
        "def convert_string_amount_to_usd(amount):\n",
        "\n",
        "  # get the currency code and amount value\n",
        "  currency_code = get_currency_code(amount)\n",
        "  original_amount = extract_numerical_value(amount)\n",
        "  usd_amount = None\n",
        "\n",
        "  if currency_code==None:\n",
        "    usd_amount=None\n",
        "  elif currency_code!=\"USD\":\n",
        "  \n",
        "    if currency_code in currency_conversion_values:\n",
        "      exchange_rate = currency_conversion_values[currency_code]\n",
        "    else:\n",
        "      # make API request to get exchange rate for the currency code\n",
        "      url = f\"https://openexchangerates.org/api/latest.json?app_id={api_key}&symbols={currency_code}\"\n",
        "      print(amount,currency_code,original_amount,url)\n",
        "      response = requests.get(url)\n",
        "      print(response)\n",
        "      # parse the exchange rate from the API response\n",
        "      exchange_rate = response.json()[\"rates\"][currency_code]\n",
        "      \n",
        "      currency_conversion_values[currency_code] = exchange_rate\n",
        "      \n",
        "      # calculate the USD equivalent amount\n",
        "      usd_amount = round(original_amount / exchange_rate)\n",
        "      \n",
        "      print(f\"{amount} {currency_code} = {usd_amount} USD\")\n",
        "  else:\n",
        "    usd_amount = original_amount\n",
        "\n",
        "  return usd_amount,original_amount,currency_code\n",
        "\n",
        "\n",
        "\n",
        "convert_string_amount_to_usd(\"CA$15,000\")\n",
        "convert_string_amount_to_usd(\"NOKÂ 80,200,000\")\n",
        "convert_string_amount_to_usd(\"NOKÂ 20,000,000\")\n",
        "convert_string_amount_to_usd(\"â‚¹3,500,000,000\")\n",
        "currency_conversion_values"
      ],
      "metadata": {
        "colab": {
          "base_uri": "https://localhost:8080/"
        },
        "id": "TY3pGk9-N4t9",
        "outputId": "c1454810-ade8-4050-ffd7-2b7a76b9c4e5"
      },
      "execution_count": 14,
      "outputs": [
        {
          "output_type": "stream",
          "name": "stdout",
          "text": [
            "CA$15,000 CAD 15000.0 https://openexchangerates.org/api/latest.json?app_id=ac63294868f6455a91a128e22f4d9f35&symbols=CAD\n",
            "<Response [200]>\n",
            "CA$15,000 CAD = 11168 USD\n",
            "NOKÂ 80,200,000 NOK 80200000.0 https://openexchangerates.org/api/latest.json?app_id=ac63294868f6455a91a128e22f4d9f35&symbols=NOK\n",
            "<Response [200]>\n",
            "NOKÂ 80,200,000 NOK = 7685181 USD\n",
            "â‚¹3,500,000,000 INR 3500000000.0 https://openexchangerates.org/api/latest.json?app_id=ac63294868f6455a91a128e22f4d9f35&symbols=INR\n",
            "<Response [200]>\n",
            "â‚¹3,500,000,000 INR = 42705321 USD\n"
          ]
        },
        {
          "output_type": "execute_result",
          "data": {
            "text/plain": [
              "{'CAD': 1.343128, 'NOK': 10.435669, 'INR': 81.957}"
            ]
          },
          "metadata": {},
          "execution_count": 14
        }
      ]
    },
    {
      "cell_type": "markdown",
      "source": [
        "## Function: Get Movie Page Details"
      ],
      "metadata": {
        "id": "tQaXU0Ib4V6A"
      }
    },
    {
      "cell_type": "code",
      "source": [
        "def get_extended_datails(movie_page_url, movie_name):\n",
        "  movie_page_dict = {}\n",
        "\n",
        "  try:\n",
        "\n",
        "    movie_main_page = requests.get(movie_page_url, headers=headers)\n",
        "    movie_main_page_soup = BeautifulSoup(movie_main_page.text, 'html.parser')   \n",
        "\n",
        "    year_rating = movie_main_page_soup.find('ul',{\"class\":\"ipc-inline-list ipc-inline-list--show-dividers sc-afe43def-4 kdXikI baseAlt\"}).find_all('a')\n",
        "\n",
        "    movie_page_dict['movie_year'] = year_rating[0].text if len(year_rating)>0 else None\n",
        "    movie_page_dict['movie_rating'] = year_rating[1].text if len(year_rating)>1 else None\n",
        "\n",
        "    director_dict = extract_artist(\"Director\", movie_main_page_soup)\n",
        "    if director_dict[f\"Director_count\"] == 0:\n",
        "      print(f\"No Director found for movie {movie_name}. Url: {movie_page_url}\")\n",
        "    movie_page_dict.update(director_dict)\n",
        "\n",
        "    writer_dict = extract_artist(\"Writer\", movie_main_page_soup)\n",
        "    if writer_dict[f\"Writer_count\"] == 0:\n",
        "      print(f\"No Writer found for movie {movie_name}. Url: {movie_page_url}\")\n",
        "    movie_page_dict.update(writer_dict)\n",
        "\n",
        "    star_dict = extract_artist(\"Star\", movie_main_page_soup)\n",
        "    if star_dict[f\"Star_count\"] == 0:\n",
        "      print(f\"No Star found for movie {movie_name}. Url: {movie_page_url}\")\n",
        "    movie_page_dict.update(star_dict)\n",
        "\n",
        "    review_scores = movie_main_page_soup.find_all('span',{'class':'score'})\n",
        "    movie_page_dict['user_reviews_count'] = review_scores[0].text if len(review_scores)>0 else None\n",
        "    movie_page_dict['critic_reviews_count'] = review_scores[1].text if len(review_scores)>1 else None\n",
        "\n",
        "    movie_page_dict['release_date'] = movie_main_page_soup.find('a',{'class':'ipc-metadata-list-item__label ipc-metadata-list-item__label--link'}, string=\"Release date\").find_parent().find('a',{'class':'ipc-metadata-list-item__list-content-item ipc-metadata-list-item__list-content-item--link'}).text.split('(')[0].strip()\n",
        "    movie_page_dict['release_date']\n",
        "\n",
        "    movie_page_dict['budget'] = movie_main_page_soup.find('span',{'class':'ipc-metadata-list-item__label'}, string=\"Budget\")\n",
        "    if (movie_page_dict['budget']!=None):\n",
        "      movie_page_dict['budget'] = movie_page_dict['budget'].find_next_sibling().find('span',{'class':'ipc-metadata-list-item__list-content-item'}).text.split('(')[0].strip()\n",
        "\n",
        "      usd_amount,original_amount,currency_code = convert_string_amount_to_usd(movie_page_dict['budget'])\n",
        "      movie_page_dict['budget_usd'] = usd_amount\n",
        "      movie_page_dict['budget_currency'] = currency_code\n",
        "\n",
        "    movie_page_dict['gross_worldwide'] = movie_main_page_soup.find('span',{'class':'ipc-metadata-list-item__label'}, string=\"Gross worldwide\")\n",
        "    if (movie_page_dict['gross_worldwide']!=None):\n",
        "      movie_page_dict['gross_worldwide'] = movie_page_dict['gross_worldwide'].find_next_sibling().find('span',{'class':'ipc-metadata-list-item__list-content-item'}).text.split('(')[0].strip()\n",
        "      movie_page_dict['gross_worldwide'], _, _ = convert_string_amount_to_usd(movie_page_dict['gross_worldwide'])\n",
        "\n",
        "    movie_page_dict['gross_us_canada'] = movie_main_page_soup.find('span',{'class':'ipc-metadata-list-item__label'}, string=\"Gross US & Canada\")\n",
        "    if (movie_page_dict['gross_us_canada']!=None):\n",
        "      movie_page_dict['gross_us_canada'] = movie_page_dict['gross_us_canada'].find_next_sibling().find('span',{'class':'ipc-metadata-list-item__list-content-item'}).text.split('(')[0].strip()\n",
        "      movie_page_dict['gross_us_canada'], _, _ = convert_string_amount_to_usd(movie_page_dict['gross_us_canada'])\n",
        "\n",
        "    movie_page_dict['opening_weekend_us_canada'] = movie_main_page_soup.find('span',{'class':'ipc-metadata-list-item__label'}, string=\"Opening weekend US & Canada\")\n",
        "    if (movie_page_dict['opening_weekend_us_canada']!=None):\n",
        "      movie_page_dict['opening_weekend_us_canada'] = movie_page_dict['opening_weekend_us_canada'].find_next_sibling().find('span',{'class':'ipc-metadata-list-item__list-content-item'}).text.split('(')[0].strip()\n",
        "      movie_page_dict['opening_weekend_us_canada'], _, _ = convert_string_amount_to_usd(movie_page_dict['opening_weekend_us_canada'])\n",
        "\n",
        "    movie_page_dict['origin_country'] = movie_main_page_soup.find('span',{'class':'ipc-metadata-list-item__label'}, string=\"Country of origin\")\n",
        "    if (movie_page_dict['origin_country']!=None):\n",
        "      movie_page_dict['origin_country'] = movie_page_dict['origin_country'].find_next_sibling().find('a').text.split('(')[0].strip()\n",
        "\n",
        "    languages = movie_main_page_soup.find('span',string=\"Language\") if movie_main_page_soup.find('span',string=\"Languages\") is None else movie_main_page_soup.find('span',string=\"Languages\")\n",
        "    languages = [] if not languages else languages.find_next_sibling().find_all('a')\n",
        "    movie_page_dict['languages'] = \",\".join([language.text for language in languages])\n",
        "\n",
        "    movie_page_dict['__SuccsefullyCollectExtandedDetails'] = True;\n",
        "\n",
        "    \n",
        "\n",
        "  except Exception as e:\n",
        "    print(f\"Failed extracting data for movie: {movie_name}. \\nUrl: {movie_page_url}.\\n Error:\\n{e}\")\n",
        "    traceback.print_exc()\n",
        "    movie_page_dict['__SuccsefullyCollectExtandedDetails'] = False;\n",
        "\n",
        "  return movie_page_dict\n",
        "\n",
        "\n",
        "get_extended_datails(search_box_info['movie_page_url'],search_box_info['movie_name'])"
      ],
      "metadata": {
        "colab": {
          "base_uri": "https://localhost:8080/"
        },
        "id": "XH4irJSLculw",
        "outputId": "e999572e-d72b-4ff1-878d-f4d2ff3438a0"
      },
      "execution_count": 15,
      "outputs": [
        {
          "output_type": "execute_result",
          "data": {
            "text/plain": [
              "{'movie_year': '2022',\n",
              " 'movie_rating': 'R',\n",
              " 'Director_count': 2,\n",
              " 'Director_1_name': 'Daniel Kwan',\n",
              " 'Director_1_imdb_id': 'nm3453283',\n",
              " 'Director_2_name': 'Daniel Scheinert',\n",
              " 'Director_2_imdb_id': 'nm3215397',\n",
              " 'Writer_count': 2,\n",
              " 'Writer_1_name': 'Daniel Kwan',\n",
              " 'Writer_1_imdb_id': 'nm3453283',\n",
              " 'Writer_2_name': 'Daniel Scheinert',\n",
              " 'Writer_2_imdb_id': 'nm3215397',\n",
              " 'Star_count': 3,\n",
              " 'Star_1_name': 'Michelle Yeoh',\n",
              " 'Star_1_imdb_id': 'nm0000706',\n",
              " 'Star_2_name': 'Stephanie Hsu',\n",
              " 'Star_2_imdb_id': 'nm3513533',\n",
              " 'Star_3_name': 'Jamie Lee Curtis',\n",
              " 'Star_3_imdb_id': 'nm0000130',\n",
              " 'user_reviews_count': '3.3K',\n",
              " 'critic_reviews_count': '410',\n",
              " 'release_date': 'April 8, 2022',\n",
              " 'budget': '$14,300,000',\n",
              " 'budget_usd': 14300000.0,\n",
              " 'budget_currency': 'USD',\n",
              " 'gross_worldwide': 138831036.0,\n",
              " 'gross_us_canada': 77147981.0,\n",
              " 'opening_weekend_us_canada': 501305.0,\n",
              " 'origin_country': 'United States',\n",
              " 'languages': 'English,Mandarin,Cantonese',\n",
              " '__SuccsefullyCollectExtandedDetails': True}"
            ]
          },
          "metadata": {},
          "execution_count": 15
        }
      ]
    },
    {
      "cell_type": "code",
      "source": [
        "# print(search_box_info['movie_page_url'],search_box_info['movie_name'])\n",
        "# cast_url = movie_main_page_soup.find('a',{'class':'ipc-metadata-list-item__label ipc-metadata-list-item__label--link'})['href']\n",
        "# cast_url = f\"{base_url}{cast_url}\"\n",
        "# cast_url"
      ],
      "metadata": {
        "id": "vEii_FS-9zTJ"
      },
      "execution_count": 16,
      "outputs": []
    },
    {
      "cell_type": "code",
      "source": [
        "# Dynamic parameters:\n",
        "\n",
        "def get_50_movie_batch(start_point, minimum_votes = 20, start_date = \"2022-01-01\", end_date = \"2022-12-31\"):\n",
        "  movie_search_url_50_batch = f\"{base_url}/search/title/?title_type=feature&release_date={start_date},{end_date}&num_votes={minimum_votes},&user_rating=1.0,10.0&countries=us&languages=en&start={start_point}&ref_=adv_nxt\"\n",
        "  #print(f\"Start point: {start_point}. search url: {movie_search_url_50_batch}\")\n",
        "  search_page = requests.get(f'{movie_search_url_50_batch}', headers=headers, timeout=10)\n",
        "  search_page_soup = BeautifulSoup(search_page.text, 'html.parser')\n",
        "  list_of_50_movies_soup = search_page_soup.find_all('div',{'class':'lister-item mode-advanced'})\n",
        "\n",
        "  max_num_of_results = search_page_soup.find('div',{'class':'desc'}).find('span').text.split(' ')[2].replace(\",\", \"\")\n",
        "  max_num_of_results = int(max_num_of_results)\n",
        "\n",
        "  #print(f\"max_num_of_results: {max_num_of_results}\")\n",
        "  return(list_of_50_movies_soup,max_num_of_results)\n",
        "\n",
        "list_of_50_movies_soup,max_num_of_results = get_50_movie_batch(start_point = 1, minimum_votes = 20, start_date = \"2022-01-01\", end_date = \"2022-12-31\")"
      ],
      "metadata": {
        "id": "RYjnulARhT5c"
      },
      "execution_count": 17,
      "outputs": []
    },
    {
      "cell_type": "code",
      "source": [
        "# Fixed parameters:\n",
        "base_url = \"https://www.imdb.com\"\n",
        "\n",
        "start_date = \"2022-01-01\"\n",
        "end_date = \"2022-12-31\"\n",
        "minimum_votes = 20 # Minimum vote amount to coolect movie\n",
        "\n",
        "headers = {\"User-Agent\": \"Mozilla/5.0 (Windows NT 10.0; Win64; x64) AppleWebKit/537.36 (KHTML, like Gecko) Chrome/58.0.3029.110 Safari/537.36\"}"
      ],
      "metadata": {
        "id": "NZCEUr1_HFkQ"
      },
      "execution_count": 18,
      "outputs": []
    },
    {
      "cell_type": "code",
      "source": [
        "movie_dataset_path = \"/content/drive/My Drive/Harvard HW/Course 4 - Final Project/total_movie_dataset.csv\"\n",
        "if os.path.exists(movie_dataset_path):\n",
        "  movie_df = pd.read_csv(movie_dataset_path)\n",
        "  total_movie_dataset = movie_df.set_index('movie_id').T.to_dict()\n",
        "  \n",
        "else:\n",
        "  total_movie_dataset = {}\n",
        "  movie_df = pd.DataFrame(total_movie_dataset)\n",
        "\n",
        "print(f\"total_movie_dataset contains {len(total_movie_dataset)} records\")\n",
        "movie_df.head(3)"
      ],
      "metadata": {
        "colab": {
          "base_uri": "https://localhost:8080/",
          "height": 359
        },
        "id": "1HHWreXyWqRe",
        "outputId": "c654af2b-8ff2-419e-d7b8-1c38d61ead99"
      },
      "execution_count": 19,
      "outputs": [
        {
          "output_type": "stream",
          "name": "stdout",
          "text": [
            "total_movie_dataset contains 1350 records\n"
          ]
        },
        {
          "output_type": "execute_result",
          "data": {
            "text/plain": [
              "     movie_id  __SuccsefullyCollectBasicDetails  \\\n",
              "0   tt1630029                              True   \n",
              "1   tt6710474                              True   \n",
              "2  tt13833688                              True   \n",
              "\n",
              "   __SuccsefullyCollectExtandedDetails                         movie_name  \\\n",
              "0                                 True           Avatar: The Way of Water   \n",
              "1                                 True  Everything Everywhere All at Once   \n",
              "2                                 True                          The Whale   \n",
              "\n",
              "                                      movie_page_url movie_place  movie_id.1  \\\n",
              "0  https://www.imdb.com/title/tt1630029/?ref_=adv...           1   tt1630029   \n",
              "1  https://www.imdb.com/title/tt6710474/?ref_=adv...           2   tt6710474   \n",
              "2  https://www.imdb.com/title/tt13833688/?ref_=ad...           3  tt13833688   \n",
              "\n",
              "                                     movie_thubmnail  movie_metascore  \\\n",
              "0  https://m.media-amazon.com/images/S/sash/4Fyxw...             67.0   \n",
              "1  https://m.media-amazon.com/images/S/sash/4Fyxw...             81.0   \n",
              "2  https://m.media-amazon.com/images/S/sash/4Fyxw...             60.0   \n",
              "\n",
              "                                   movie_description  ...  gross_worldwide  \\\n",
              "0  Jake Sully lives with his newfound family form...  ...     2.314813e+09   \n",
              "1  A middle-aged Chinese immigrant is swept up in...  ...     1.388310e+08   \n",
              "2  A reclusive, morbidly obese English teacher at...  ...     5.497434e+07   \n",
              "\n",
              "   gross_us_canada opening_weekend_us_canada origin_country  \\\n",
              "0      682744586.0               134100226.0  United States   \n",
              "1       77147981.0                  501305.0  United States   \n",
              "2       17453440.0                  332152.0  United States   \n",
              "\n",
              "                    languages   Director_2_name Director_2_imdb_id  \\\n",
              "0                     English               NaN                NaN   \n",
              "1  English,Mandarin,Cantonese  Daniel Scheinert          nm3215397   \n",
              "2                     English               NaN                NaN   \n",
              "\n",
              "  Director_3_name  Director_3_imdb_id movie_id.2  \n",
              "0             NaN                 NaN        NaN  \n",
              "1             NaN                 NaN        NaN  \n",
              "2             NaN                 NaN        NaN  \n",
              "\n",
              "[3 rows x 48 columns]"
            ],
            "text/html": [
              "\n",
              "  <div id=\"df-aa911559-ff28-4f05-870d-3722cc44876a\">\n",
              "    <div class=\"colab-df-container\">\n",
              "      <div>\n",
              "<style scoped>\n",
              "    .dataframe tbody tr th:only-of-type {\n",
              "        vertical-align: middle;\n",
              "    }\n",
              "\n",
              "    .dataframe tbody tr th {\n",
              "        vertical-align: top;\n",
              "    }\n",
              "\n",
              "    .dataframe thead th {\n",
              "        text-align: right;\n",
              "    }\n",
              "</style>\n",
              "<table border=\"1\" class=\"dataframe\">\n",
              "  <thead>\n",
              "    <tr style=\"text-align: right;\">\n",
              "      <th></th>\n",
              "      <th>movie_id</th>\n",
              "      <th>__SuccsefullyCollectBasicDetails</th>\n",
              "      <th>__SuccsefullyCollectExtandedDetails</th>\n",
              "      <th>movie_name</th>\n",
              "      <th>movie_page_url</th>\n",
              "      <th>movie_place</th>\n",
              "      <th>movie_id.1</th>\n",
              "      <th>movie_thubmnail</th>\n",
              "      <th>movie_metascore</th>\n",
              "      <th>movie_description</th>\n",
              "      <th>...</th>\n",
              "      <th>gross_worldwide</th>\n",
              "      <th>gross_us_canada</th>\n",
              "      <th>opening_weekend_us_canada</th>\n",
              "      <th>origin_country</th>\n",
              "      <th>languages</th>\n",
              "      <th>Director_2_name</th>\n",
              "      <th>Director_2_imdb_id</th>\n",
              "      <th>Director_3_name</th>\n",
              "      <th>Director_3_imdb_id</th>\n",
              "      <th>movie_id.2</th>\n",
              "    </tr>\n",
              "  </thead>\n",
              "  <tbody>\n",
              "    <tr>\n",
              "      <th>0</th>\n",
              "      <td>tt1630029</td>\n",
              "      <td>True</td>\n",
              "      <td>True</td>\n",
              "      <td>Avatar: The Way of Water</td>\n",
              "      <td>https://www.imdb.com/title/tt1630029/?ref_=adv...</td>\n",
              "      <td>1</td>\n",
              "      <td>tt1630029</td>\n",
              "      <td>https://m.media-amazon.com/images/S/sash/4Fyxw...</td>\n",
              "      <td>67.0</td>\n",
              "      <td>Jake Sully lives with his newfound family form...</td>\n",
              "      <td>...</td>\n",
              "      <td>2.314813e+09</td>\n",
              "      <td>682744586.0</td>\n",
              "      <td>134100226.0</td>\n",
              "      <td>United States</td>\n",
              "      <td>English</td>\n",
              "      <td>NaN</td>\n",
              "      <td>NaN</td>\n",
              "      <td>NaN</td>\n",
              "      <td>NaN</td>\n",
              "      <td>NaN</td>\n",
              "    </tr>\n",
              "    <tr>\n",
              "      <th>1</th>\n",
              "      <td>tt6710474</td>\n",
              "      <td>True</td>\n",
              "      <td>True</td>\n",
              "      <td>Everything Everywhere All at Once</td>\n",
              "      <td>https://www.imdb.com/title/tt6710474/?ref_=adv...</td>\n",
              "      <td>2</td>\n",
              "      <td>tt6710474</td>\n",
              "      <td>https://m.media-amazon.com/images/S/sash/4Fyxw...</td>\n",
              "      <td>81.0</td>\n",
              "      <td>A middle-aged Chinese immigrant is swept up in...</td>\n",
              "      <td>...</td>\n",
              "      <td>1.388310e+08</td>\n",
              "      <td>77147981.0</td>\n",
              "      <td>501305.0</td>\n",
              "      <td>United States</td>\n",
              "      <td>English,Mandarin,Cantonese</td>\n",
              "      <td>Daniel Scheinert</td>\n",
              "      <td>nm3215397</td>\n",
              "      <td>NaN</td>\n",
              "      <td>NaN</td>\n",
              "      <td>NaN</td>\n",
              "    </tr>\n",
              "    <tr>\n",
              "      <th>2</th>\n",
              "      <td>tt13833688</td>\n",
              "      <td>True</td>\n",
              "      <td>True</td>\n",
              "      <td>The Whale</td>\n",
              "      <td>https://www.imdb.com/title/tt13833688/?ref_=ad...</td>\n",
              "      <td>3</td>\n",
              "      <td>tt13833688</td>\n",
              "      <td>https://m.media-amazon.com/images/S/sash/4Fyxw...</td>\n",
              "      <td>60.0</td>\n",
              "      <td>A reclusive, morbidly obese English teacher at...</td>\n",
              "      <td>...</td>\n",
              "      <td>5.497434e+07</td>\n",
              "      <td>17453440.0</td>\n",
              "      <td>332152.0</td>\n",
              "      <td>United States</td>\n",
              "      <td>English</td>\n",
              "      <td>NaN</td>\n",
              "      <td>NaN</td>\n",
              "      <td>NaN</td>\n",
              "      <td>NaN</td>\n",
              "      <td>NaN</td>\n",
              "    </tr>\n",
              "  </tbody>\n",
              "</table>\n",
              "<p>3 rows × 48 columns</p>\n",
              "</div>\n",
              "      <button class=\"colab-df-convert\" onclick=\"convertToInteractive('df-aa911559-ff28-4f05-870d-3722cc44876a')\"\n",
              "              title=\"Convert this dataframe to an interactive table.\"\n",
              "              style=\"display:none;\">\n",
              "        \n",
              "  <svg xmlns=\"http://www.w3.org/2000/svg\" height=\"24px\"viewBox=\"0 0 24 24\"\n",
              "       width=\"24px\">\n",
              "    <path d=\"M0 0h24v24H0V0z\" fill=\"none\"/>\n",
              "    <path d=\"M18.56 5.44l.94 2.06.94-2.06 2.06-.94-2.06-.94-.94-2.06-.94 2.06-2.06.94zm-11 1L8.5 8.5l.94-2.06 2.06-.94-2.06-.94L8.5 2.5l-.94 2.06-2.06.94zm10 10l.94 2.06.94-2.06 2.06-.94-2.06-.94-.94-2.06-.94 2.06-2.06.94z\"/><path d=\"M17.41 7.96l-1.37-1.37c-.4-.4-.92-.59-1.43-.59-.52 0-1.04.2-1.43.59L10.3 9.45l-7.72 7.72c-.78.78-.78 2.05 0 2.83L4 21.41c.39.39.9.59 1.41.59.51 0 1.02-.2 1.41-.59l7.78-7.78 2.81-2.81c.8-.78.8-2.07 0-2.86zM5.41 20L4 18.59l7.72-7.72 1.47 1.35L5.41 20z\"/>\n",
              "  </svg>\n",
              "      </button>\n",
              "      \n",
              "  <style>\n",
              "    .colab-df-container {\n",
              "      display:flex;\n",
              "      flex-wrap:wrap;\n",
              "      gap: 12px;\n",
              "    }\n",
              "\n",
              "    .colab-df-convert {\n",
              "      background-color: #E8F0FE;\n",
              "      border: none;\n",
              "      border-radius: 50%;\n",
              "      cursor: pointer;\n",
              "      display: none;\n",
              "      fill: #1967D2;\n",
              "      height: 32px;\n",
              "      padding: 0 0 0 0;\n",
              "      width: 32px;\n",
              "    }\n",
              "\n",
              "    .colab-df-convert:hover {\n",
              "      background-color: #E2EBFA;\n",
              "      box-shadow: 0px 1px 2px rgba(60, 64, 67, 0.3), 0px 1px 3px 1px rgba(60, 64, 67, 0.15);\n",
              "      fill: #174EA6;\n",
              "    }\n",
              "\n",
              "    [theme=dark] .colab-df-convert {\n",
              "      background-color: #3B4455;\n",
              "      fill: #D2E3FC;\n",
              "    }\n",
              "\n",
              "    [theme=dark] .colab-df-convert:hover {\n",
              "      background-color: #434B5C;\n",
              "      box-shadow: 0px 1px 3px 1px rgba(0, 0, 0, 0.15);\n",
              "      filter: drop-shadow(0px 1px 2px rgba(0, 0, 0, 0.3));\n",
              "      fill: #FFFFFF;\n",
              "    }\n",
              "  </style>\n",
              "\n",
              "      <script>\n",
              "        const buttonEl =\n",
              "          document.querySelector('#df-aa911559-ff28-4f05-870d-3722cc44876a button.colab-df-convert');\n",
              "        buttonEl.style.display =\n",
              "          google.colab.kernel.accessAllowed ? 'block' : 'none';\n",
              "\n",
              "        async function convertToInteractive(key) {\n",
              "          const element = document.querySelector('#df-aa911559-ff28-4f05-870d-3722cc44876a');\n",
              "          const dataTable =\n",
              "            await google.colab.kernel.invokeFunction('convertToInteractive',\n",
              "                                                     [key], {});\n",
              "          if (!dataTable) return;\n",
              "\n",
              "          const docLinkHtml = 'Like what you see? Visit the ' +\n",
              "            '<a target=\"_blank\" href=https://colab.research.google.com/notebooks/data_table.ipynb>data table notebook</a>'\n",
              "            + ' to learn more about interactive tables.';\n",
              "          element.innerHTML = '';\n",
              "          dataTable['output_type'] = 'display_data';\n",
              "          await google.colab.output.renderOutput(dataTable, element);\n",
              "          const docLink = document.createElement('div');\n",
              "          docLink.innerHTML = docLinkHtml;\n",
              "          element.appendChild(docLink);\n",
              "        }\n",
              "      </script>\n",
              "    </div>\n",
              "  </div>\n",
              "  "
            ]
          },
          "metadata": {},
          "execution_count": 19
        }
      ]
    },
    {
      "cell_type": "markdown",
      "source": [
        "## Cursor: Collecting movies from IMDB"
      ],
      "metadata": {
        "id": "TxMZRWuGG3SA"
      }
    },
    {
      "cell_type": "code",
      "source": [
        "start_point = 1 # Start from movie #1-50\n",
        "\n",
        "basic_data_collected = 0\n",
        "basic_data_skipped = 0\n",
        "extended_data_collected = 0\n",
        "extended_data_skipped = 0\n",
        "\n",
        "count = 1\n",
        "while start_point < max_num_of_results-50:\n",
        "\n",
        "  list_of_50_movies_soup,_ = get_50_movie_batch(start_point = start_point, minimum_votes = 20, start_date = \"2022-01-01\", end_date = \"2022-12-31\")\n",
        "\n",
        "  for i,movie in enumerate(list_of_50_movies_soup):\n",
        "    movie_data = {'__SuccsefullyCollectBasicDetails':False, '__SuccsefullyCollectExtandedDetails':False}\n",
        "\n",
        "    basic_data = get_basic_details(movie)\n",
        "    movie_id = basic_data['movie_id']\n",
        "\n",
        "    try:\n",
        "      if movie_id in total_movie_dataset.keys():\n",
        "        movie_data = total_movie_dataset[movie_id]\n",
        "\n",
        "      if movie_data['__SuccsefullyCollectBasicDetails']==True:\n",
        "        basic_data_skipped += 1\n",
        "      else:\n",
        "        basic_data_collected += 1\n",
        "        movie_data.update(basic_data)\n",
        "\n",
        "      if movie_data['__SuccsefullyCollectExtandedDetails']==True:\n",
        "        extended_data_skipped += 1\n",
        "      else:\n",
        "        extended_data_collected += 1\n",
        "        extended_data = get_extended_datails(basic_data['movie_page_url'],basic_data['movie_name'])\n",
        "        movie_data.update(extended_data)\n",
        "\n",
        "        sleep(0.1)\n",
        "    except Exception as e:\n",
        "      print(f\"Failed running cursor for movie: {movie_id}. \\nUrl: {basic_data['movie_page_url']}.\\n Error:\\n{e}\")\n",
        "      traceback.print_exc()\n",
        "\n",
        "    total_movie_dataset[movie_id] = movie_data\n",
        "    count+= 1\n",
        "\n",
        "    if (count%200 == 0):\n",
        "      print(f\"\\nRun number: {count}. basic_data_collected: {basic_data_collected}. extended_data_collected: {extended_data_collected}. basic_data_skipped: {basic_data_skipped}. extended_data_skipped: {extended_data_skipped}\")\n",
        "\n",
        "\n",
        "  movie_dataset = pd.DataFrame(total_movie_dataset).T\n",
        "  movie_dataset.to_csv(movie_dataset_path, index=True, index_label=\"movie_id\")\n",
        "\n",
        "  start_point += 50\n",
        "\n",
        "print(f\"\\nRun number: {count}. \\nbasic_data_collected: {basic_data_collected}. \\nextended_data_collected: {extended_data_collected}. \\nbasic_data_skipped: {basic_data_skipped}. \\nextended_data_skipped: {extended_data_skipped}\\n\")"
      ],
      "metadata": {
        "colab": {
          "base_uri": "https://localhost:8080/"
        },
        "id": "9ASPUpIMHT2J",
        "outputId": "c70f9877-4db5-4673-8dd2-2f514a2ed43b"
      },
      "execution_count": null,
      "outputs": [
        {
          "output_type": "stream",
          "name": "stdout",
          "text": [
            "\n",
            "Run number: 200. basic_data_collected: 0. extended_data_collected: 0. basic_data_skipped: 199. extended_data_skipped: 199\n",
            "\n",
            "Run number: 400. basic_data_collected: 0. extended_data_collected: 0. basic_data_skipped: 399. extended_data_skipped: 399\n",
            "Failed extracting data for movie: Gasoline Alley. \n",
            "Url: https://www.imdb.com/title/tt14174168/?ref_=adv_li_i.\n",
            " Error:\n",
            "'NoneType' object has no attribute 'find_all'\n"
          ]
        },
        {
          "output_type": "stream",
          "name": "stderr",
          "text": [
            "Traceback (most recent call last):\n",
            "  File \"<ipython-input-15-8a146623238c>\", line 24, in get_extended_datails\n",
            "    star_dict = extract_artist(\"Star\", movie_main_page_soup)\n",
            "  File \"<ipython-input-9-5bc69bceb996>\", line 8, in extract_artist\n",
            "    search_item_list = search_result.find_parent().find_next_sibling().find_all('a')\n",
            "AttributeError: 'NoneType' object has no attribute 'find_all'\n"
          ]
        },
        {
          "output_type": "stream",
          "name": "stdout",
          "text": [
            "\n",
            "Run number: 600. basic_data_collected: 0. extended_data_collected: 1. basic_data_skipped: 599. extended_data_skipped: 598\n",
            "\n",
            "Run number: 800. basic_data_collected: 0. extended_data_collected: 1. basic_data_skipped: 799. extended_data_skipped: 798\n"
          ]
        }
      ]
    },
    {
      "cell_type": "code",
      "source": [
        "movie_dataset = pd.DataFrame(total_movie_dataset).T\n",
        "movie_dataset.to_csv(movie_dataset_path, index=True, index_label=\"movie_id\")\n",
        "\n",
        "movie_dataset.head(5)"
      ],
      "metadata": {
        "id": "1zPMKZlwevQ5"
      },
      "execution_count": null,
      "outputs": []
    },
    {
      "cell_type": "markdown",
      "source": [
        "## Set actor variables"
      ],
      "metadata": {
        "id": "gmEs7UDA4sFA"
      }
    },
    {
      "cell_type": "code",
      "source": [
        "import requests\n",
        "from IPython.core.display import HTML\n",
        "import json\n",
        "from time import sleep\n",
        "import re\n",
        "import requests\n",
        "from bs4 import BeautifulSoup\n",
        "import matplotlib.pyplot as plt\n",
        "import numpy as np\n",
        "import pandas as pd\n",
        "import seaborn as sns\n",
        "import os\n",
        "import time\n",
        "import traceback"
      ],
      "metadata": {
        "id": "InfuPc6m64Yo"
      },
      "execution_count": null,
      "outputs": []
    },
    {
      "cell_type": "code",
      "source": [
        "movie_dataset = pd.read_csv('/content/drive/My Drive/Harvard HW/Course 4 - Final Project/total_movie_dataset.csv')\n",
        "movie_dataset.head(5)"
      ],
      "metadata": {
        "id": "mDjtqHinj9cA"
      },
      "execution_count": null,
      "outputs": []
    },
    {
      "cell_type": "markdown",
      "source": [
        "## Function: Assume Gender"
      ],
      "metadata": {
        "id": "T0RJfRFee_ik"
      }
    },
    {
      "cell_type": "code",
      "source": [
        "def assume_gender(artist_bio):\n",
        "  # Define the pronouns associated with each gender\n",
        "  male_pronouns = [\"he\", \"him\", \"his\", \"himself\"]\n",
        "  female_pronouns = [\"she\", \"her\", \"hers\", \"herself\"]\n",
        "  nonbinary_pronouns = [\"they\", \"them\", \"their\", \"themselves\"]\n",
        "\n",
        "  # Count the number of male and female pronouns in the bio\n",
        "  prnoun_count = {'Male':0, \"Female\":0, \"NonBinary\":0}\n",
        "\n",
        "  for word in artist_bio.lower().split():\n",
        "      if word in male_pronouns:\n",
        "          prnoun_count[\"Male\"] += 1\n",
        "      elif word in female_pronouns:\n",
        "          prnoun_count[\"Female\"] += 1\n",
        "      elif word in nonbinary_pronouns:\n",
        "          prnoun_count[\"NonBinary\"] += 1\n",
        "\n",
        "  # Determine the actor's gender based on the pronoun count\n",
        "  sorted_d = {k: v for k, v in sorted(prnoun_count.items(), key=lambda item: item[1], reverse=True)}\n",
        "  Gender = next(iter(sorted_d))\n",
        "\n",
        "  if prnoun_count[Gender] == 0: # If no prnoune was found\n",
        "    Gender = \"Unknown\"\n",
        "\n",
        "  return Gender\n",
        "\n",
        "# Extract the bio text\n",
        "bio_text = \"Joseph Vincent Russo is an American filmmaker and producer who works alongside his brother Anthony Russo. They have directed You, Me and Dupree, Cherry and the Marvel films Captain America: The Winter Soldier, Captain America: Civil War, Avengers: Infinity War and Avengers: Endgame. Endgame is one of the highest grossing films of all time.\"\n",
        "assume_gender(bio_text)"
      ],
      "metadata": {
        "id": "muJrvn4spKx9"
      },
      "execution_count": null,
      "outputs": []
    },
    {
      "cell_type": "code",
      "source": [
        "from datetime import datetime\n",
        "from dateutil.relativedelta import relativedelta\n",
        "from dateutil import parser\n",
        "\n",
        "def extract_artist_age(date_string):\n",
        "  try:\n",
        "    # Parse the date string into a datetime object\n",
        "    date_obj = parser.parse(date_string)\n",
        "    # Check if the date is in the future, if so - Reduce 100 years\n",
        "    if date_obj.year > datetime.now().year:\n",
        "      date_obj = date_obj.replace(year=date_obj.year - 100)\n",
        "    #print(date_obj)\n",
        "    # Calculate the difference between the current date and the date of birth\n",
        "    age = relativedelta(datetime.now(), date_obj).years\n",
        "    # Return the age as an integer\n",
        "    return age\n",
        "  except:\n",
        "    #print(f\"Cannot extract age from value: {date_string}\")\n",
        "    return None\n",
        "\n",
        "print(extract_artist_age(\"11/25/1990\"))\n",
        "print(extract_artist_age(\"16-Apr-02\"))\n",
        "print(extract_artist_age(\"\"))"
      ],
      "metadata": {
        "id": "ocSn8KhHmzKf"
      },
      "execution_count": null,
      "outputs": []
    },
    {
      "cell_type": "markdown",
      "source": [
        "## Function: Collect Rank"
      ],
      "metadata": {
        "id": "jiX7kUTS42-i"
      }
    },
    {
      "cell_type": "code",
      "source": [
        "def collect_artist_rank(artist_page_soup,artist_dict):\n",
        "  artist_rank = artist_page_soup.find('span',{'class':'sc-d462a8ef-6 hOuQwM starmeter-current-rank'}).text.strip()\n",
        "\n",
        "  artist_dict['artist_rank'] = artist_rank\n",
        "  artist_dict['Is_5000'] = False\n",
        "  artist_dict['Is_500'] = False\n",
        "  artist_dict['Is_100'] = False\n",
        "  artist_dict['Is_10'] = False\n",
        "\n",
        "  if artist_rank.lower()!=\"see rank\":\n",
        "    if artist_rank==\"Top 5,000\":\n",
        "      artist_dict['Is_5000'] = True\n",
        "    elif artist_rank==\"Top 500\":\n",
        "      artist_dict['Is_500'] = True\n",
        "      artist_dict['Is_5000'] = True\n",
        "    else:\n",
        "      try:\n",
        "        rank = int(artist_rank)   # Convert the string to an integer\n",
        "        if rank <= 100:           # Check if the rank is within the top 100\n",
        "          artist_dict['Is_100'] = True\n",
        "          artist_dict['Is_500'] = True\n",
        "          artist_dict['Is_5000'] = True\n",
        "        if rank <= 10: \n",
        "          artist_dict['Is_10'] = True\n",
        "      except ValueError:\n",
        "        print(f\"Could not interpret value {artist_rank} for artist: {artist_dict['artist_imdb_id']}. Url: {artist_dict['artist_url']}\")\n",
        "\n",
        "artist_imdb_id = \"nm14727093\"\n",
        "artist_page = requests.get(f\"https://www.imdb.com/name/{artist_imdb_id}/\", headers=headers)\n",
        "artist_page_soup = BeautifulSoup(artist_page.text, 'html.parser') \n",
        "artist_dict = {}\n",
        "artist_dict['artist_imdb_id'] = artist_imdb_id\n",
        "artist_dict['artist_type'] = \"Director\"\n",
        "artist_dict['artist_url'] = artist_page\n",
        "collect_artist_rank(artist_page_soup,artist_dict)"
      ],
      "metadata": {
        "id": "-7vuUgpgqjXS"
      },
      "execution_count": null,
      "outputs": []
    },
    {
      "cell_type": "markdown",
      "source": [
        "## Function: Extract artist info"
      ],
      "metadata": {
        "id": "v3ImIU1h49Jw"
      }
    },
    {
      "cell_type": "code",
      "source": [
        "def extract_artist_info(artist_imdb_id,col_name):\n",
        "  artist_dict = {}\n",
        "\n",
        "  artist_url_page = f\"{base_url}/name/{artist_imdb_id}\"\n",
        "  artist_dict['artist_imdb_id'] = artist_imdb_id\n",
        "  artist_dict['artist_type'] = col_name.split('_')[0]\n",
        "  artist_dict['artist_url'] = artist_url_page\n",
        "\n",
        "  try:\n",
        "    artist_page = requests.get(artist_url_page, headers=headers)\n",
        "    artist_page_soup = BeautifulSoup(artist_page.text, 'html.parser') \n",
        "\n",
        "    artist_name = artist_page_soup.find('h1',{'data-testid':'hero__pageTitle'}).find('span').text.strip()\n",
        "    artist_dict['artist_name'] = artist_name\n",
        "\n",
        "    if artist_page_soup.find('span', string=\"Born\") is not None:\n",
        "      artist_birthday = artist_page_soup.find('span',string=\"Born\").findNextSibling().text\n",
        "      artist_dict['artist_birthday'] = artist_birthday\n",
        "      artist_dict['artist_age'] = extract_artist_age(artist_birthday)\n",
        "      if artist_dict['artist_age'] == None:\n",
        "        print(f\"Unable to extract age for {artist_name}. Value: {artist_birthday} Url: {artist_url_page}\")\n",
        "      \n",
        "    artist_bio = artist_page_soup.find('div',{'class':'ipc-html-content-inner-div'})\n",
        "    if artist_bio!=None:\n",
        "      artist_gender = assume_gender(artist_bio.text)\n",
        "      artist_dict['artist_gender'] = artist_gender\n",
        "    else:\n",
        "      artist_dict['artist_gender'] = \"Unknown\"\n",
        "\n",
        "    collect_artist_rank(artist_page_soup,artist_dict)\n",
        "\n",
        "    artist_dict['award_desc'] = \"\"\n",
        "    awards = artist_page_soup.find('div',{'data-testid':'awards'})\n",
        "    if awards!=None:\n",
        "      award_desc = awards.find('a').text\n",
        "      artist_dict['award_desc'] = award_desc\n",
        "\n",
        "    artist_title = artist_dict['artist_type']\n",
        "    if artist_title == \"Star\":\n",
        "      artist_title = \"Actress\" if artist_gender==\"Female\" else \"Actor\"\n",
        "\n",
        "    if artist_page_soup.find('h3',string=artist_title) is not None:\n",
        "      previous_work = artist_page_soup.find('h3',string=artist_title).find_next().find('li', string=\"Previous\").find_next_sibling().text\n",
        "    elif artist_page_soup.find('li',string=\"Previous\") is not None:\n",
        "      previous_work = artist_page_soup.find('li',string=\"Previous\").find_next_sibling().text\n",
        "    else:\n",
        "      previous_work = 0\n",
        "      print(f\"Unable to get previous work for {artist_title}: {artist_name}. Url: {artist_url_page}\")\n",
        "      \n",
        "    artist_dict['previous_work'] = previous_work\n",
        "    artist_dict['__SuccsefullyCollectArtistDetails'] = True;\n",
        "\n",
        "    return artist_dict\n",
        "  except Exception as e:\n",
        "    print(f\"Failed extracting data for artist: {artist_imdb_id}. Url: {artist_url_page}.\\n Error:\\n{e}\")\n",
        "    traceback.print_exc()\n",
        "    artist_dict['__SuccsefullyCollectArtistDetails'] = False;\n",
        "\n",
        "artist_imdb_id = \"nm10128408\"\n",
        "col_name = \"Director_3_imdb_id\"\n",
        "extract_artist_info(artist_imdb_id,col_name)"
      ],
      "metadata": {
        "id": "QVjKflwUhi1E"
      },
      "execution_count": null,
      "outputs": []
    },
    {
      "cell_type": "markdown",
      "source": [
        "## Set Artist variables"
      ],
      "metadata": {
        "id": "YECMLiiB6Z42"
      }
    },
    {
      "cell_type": "code",
      "source": [
        "artists_dataset_path = \"/content/drive/My Drive/Harvard HW/Course 4 - Final Project/artists_datasets.csv\"\n",
        "if os.path.exists(artists_dataset_path):\n",
        "  artists_df = pd.read_csv(artists_dataset_path)\n",
        "  artists_list = artists_df.set_index('artist_imdb_id').T.to_dict()\n",
        "  \n",
        "else:\n",
        "  artists_list = {}\n",
        "  artists_df = pd.DataFrame(artists_list)\n",
        "\n",
        "print(f\"artists_list contains {len(artists_list)} records\")\n",
        "artists_df.head(3)"
      ],
      "metadata": {
        "id": "1cQdE9jBpMHE"
      },
      "execution_count": null,
      "outputs": []
    },
    {
      "cell_type": "markdown",
      "source": [
        "## Cursor: Collect Artists"
      ],
      "metadata": {
        "id": "Q4R6_7X-5DvW"
      }
    },
    {
      "cell_type": "code",
      "source": [
        "artist_cols = [col for col in movie_dataset.columns if \"imdb_id\" in col]\n",
        "\n",
        "artists_skipped = 0\n",
        "artists_collected = 0\n",
        "artist_count = 1\n",
        "for i, row in movie_dataset.iterrows():\n",
        "  artist_dict = {'artist_collected':False}\n",
        "  for col_name in artist_cols:\n",
        "    artist_imdb_id = row[col_name]\n",
        "    if type(artist_imdb_id) != float:\n",
        "      if artist_imdb_id in artists_list.keys() and artists_list[artist_imdb_id]['artist_collected']==True:\n",
        "        artist_dict = artists_list[artist_imdb_id]\n",
        "        artist_dict['artist_collected']=True\n",
        "        artists_skipped += 1\n",
        "      else:\n",
        "        artist_output = extract_artist_info(artist_imdb_id,col_name)\n",
        "        if artist_output!=None:\n",
        "          artist_dict.update(artist_output)\n",
        "          artist_dict['artist_collected']=True\n",
        "        artists_collected += 1 \n",
        "        sleep(0.1)\n",
        "\n",
        "      artists_list[artist_imdb_id] = artist_dict\n",
        "      artist_count += 1\n",
        "      if artist_count%200 == 0:\n",
        "        artist_dataset = pd.DataFrame(artists_list).T\n",
        "        artist_dataset.to_csv(artists_dataset_path, index=True, index_label=\"artist_imdb_id\")\n",
        "        print(f\"\\nSaving progress. Run {artist_count} for movie {i}. artists_collected:{artists_collected}. artists_skipped:{artists_skipped}\")\n",
        "\n",
        "artist_dataset = pd.DataFrame(artists_list).T\n",
        "artist_dataset.to_csv(artists_dataset_path, index=True, index_label=\"artist_imdb_id\")\n",
        "print(f\"\\n\\nFinished process. Total: {artist_count}. artists_collected:{artists_collected}. artists_skipped:{artists_skipped}\")"
      ],
      "metadata": {
        "id": "3ILsPPc9dUkH"
      },
      "execution_count": null,
      "outputs": []
    },
    {
      "cell_type": "code",
      "source": [
        "artist_dataset.head(5)"
      ],
      "metadata": {
        "id": "-UoBsJHZ03SZ"
      },
      "execution_count": null,
      "outputs": []
    },
    {
      "cell_type": "code",
      "source": [],
      "metadata": {
        "id": "5xeRerADuTfC"
      },
      "execution_count": null,
      "outputs": []
    }
  ]
}