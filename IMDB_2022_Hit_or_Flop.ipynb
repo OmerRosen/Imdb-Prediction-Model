{
  "nbformat": 4,
  "nbformat_minor": 0,
  "metadata": {
    "colab": {
      "provenance": [],
      "toc_visible": true,
      "mount_file_id": "1VKO5RplugE39AX9PFp1h1v2qiD8gM0hY",
      "authorship_tag": "ABX9TyM9emTW8xsU63DppBiEwxsP",
      "include_colab_link": true
    },
    "kernelspec": {
      "name": "python3",
      "display_name": "Python 3"
    },
    "language_info": {
      "name": "python"
    }
  },
  "cells": [
    {
      "cell_type": "markdown",
      "metadata": {
        "id": "view-in-github",
        "colab_type": "text"
      },
      "source": [
        "<a href=\"https://colab.research.google.com/github/OmerRosen/Kaggle/blob/main/IMDB_2022_Hit_or_Flop.ipynb\" target=\"_parent\"><img src=\"https://colab.research.google.com/assets/colab-badge.svg\" alt=\"Open In Colab\"/></a>"
      ]
    },
    {
      "cell_type": "markdown",
      "source": [
        "# IMDB 2022 - Hit or Flop"
      ],
      "metadata": {
        "id": "NQFvvfWPy8yF"
      }
    },
    {
      "cell_type": "markdown",
      "source": [
        "## Mission Statement"
      ],
      "metadata": {
        "id": "y0Rjw492zB7x"
      }
    },
    {
      "cell_type": "markdown",
      "source": [
        "### Data To Collect"
      ],
      "metadata": {
        "id": "YgCYDZTUzHKE"
      }
    },
    {
      "cell_type": "markdown",
      "source": [
        "#### Search box page:\n",
        "* Movie Id\n",
        "* Movie Title\n",
        "* Movie year\n",
        "* Rating\n",
        "* MetaScore - Outcome\n",
        "* Description\n",
        "* Poster\n",
        "* Directore name + Link\n",
        "* Stars\n",
        "* Votes - Output\n",
        "* Genre"
      ],
      "metadata": {
        "id": "B67t6dw23MyE"
      }
    },
    {
      "cell_type": "markdown",
      "source": [
        "#### Main Movie Page data\n",
        "* Movie Length\n",
        "* Rank\n",
        "* Writer\n",
        "* Star #1\n",
        "* Star #2\n",
        "* Star #3\n",
        "* User eviews\n",
        "* Critic reviews\n",
        "* Number of photos posted\n",
        "* Storyline - Text\n",
        "* Tag line\n",
        "* Release Date - Month\n",
        "* Country of origin\n",
        "* Additional Lanaguages\n",
        "* Country of filming\n",
        "* Production companies\n",
        "* Budget\n",
        "* Opening Weekend Date\n",
        "* Gross US & Canada - Output\n",
        "* Opening weekend US & Canada - Output\n",
        "* Gross worldwide - Output\n",
        "* Color - Color\n",
        "* Color - Black&White\n",
        "* Sound mix - Dolby Digital\n",
        "* Sound mix - Dolby Atmos\n",
        "* Aspect ratio"
      ],
      "metadata": {
        "id": "57uP49Tx3Za2"
      }
    },
    {
      "cell_type": "markdown",
      "source": [
        "#### Director Page:\n",
        "* Director Age\n",
        "* Is Top 500?\n",
        "* Director Gender (Based on bio)\n",
        "* Previous film count - As Director\n",
        "* Previous film count - As Writer\n",
        "* Previous film count - As As Producer\n",
        "* Director Publicity listing count"
      ],
      "metadata": {
        "id": "GFrFPrn13upo"
      }
    },
    {
      "cell_type": "markdown",
      "source": [
        "#### Information Abount Cast:\n",
        "* Full list of cast and their profile links\n",
        "* Number of cast members\n",
        "* Produced by - Is top 500?\n",
        "* Music by - Is top 500?\n",
        "* Cinematography by  - Is top 500\n",
        "* Film Editing by   - Is top 500\n",
        "* Art Direction by  - Is top 500\n",
        "* Number of Production Management\n",
        "* Number of Art Department\n",
        "* Number of Sound Department\n",
        "* Number of Camera and Electrical Department\n",
        "* Number of Editorial Department\n",
        "* Number of Music Department\n",
        "* Number of Additional Crew"
      ],
      "metadata": {
        "id": "WJsID_wt3ujg"
      }
    },
    {
      "cell_type": "markdown",
      "source": [
        "#### Actor Page\n",
        "* Is Top 5000?\n",
        "* Is Top 500?\n",
        "* Is Top 100 (aka - Has numberical rank)\n",
        "* Is Top 10 (aka - Has numberical rank)\n",
        "* Numerical Rank (Could be none)\n",
        "* Gender\n",
        "* Age\n",
        "* Oscar nominations \n",
        "* Birth country"
      ],
      "metadata": {
        "id": "nI2XH-eX3ubL"
      }
    },
    {
      "cell_type": "markdown",
      "source": [
        "#### Aggragated data:\n",
        "* How many male stars\n",
        "* How many female stars\n",
        "* Avrage cast memeber age\n",
        "* Max/Min age of cast member\n",
        "* Number of unique birth countries of actors\n",
        "* Total number of Oscar numinatior for cast\n",
        "* Num cast members in top 5000\n",
        "* Num cast memebers in top 500\n",
        "* Num cast members in top 100\n",
        "* Num cast members in top 10"
      ],
      "metadata": {
        "id": "iJMm4uv_zRNh"
      }
    },
    {
      "cell_type": "markdown",
      "source": [
        "# IMDB Scraper"
      ],
      "metadata": {
        "id": "miwov1QlN7-G"
      }
    },
    {
      "cell_type": "markdown",
      "source": [
        "## Import Libraries"
      ],
      "metadata": {
        "id": "OCmEiQzqGt7L"
      }
    },
    {
      "cell_type": "code",
      "source": [
        "import requests\n",
        "from IPython.core.display import HTML\n",
        "import json\n",
        "from time import sleep\n",
        "import re\n",
        "import requests\n",
        "from bs4 import BeautifulSoup\n",
        "import matplotlib.pyplot as plt\n",
        "import numpy as np\n",
        "import pandas as pd\n",
        "import seaborn as sns\n",
        "import os\n",
        "import time\n",
        "import traceback\n"
      ],
      "metadata": {
        "id": "SoeHu2EVOyw6"
      },
      "execution_count": 1,
      "outputs": []
    },
    {
      "cell_type": "markdown",
      "source": [
        "## Set main variables"
      ],
      "metadata": {
        "id": "KOSm1vl34Dgh"
      }
    },
    {
      "cell_type": "code",
      "source": [
        "base_url = \"https://www.imdb.com\"\n",
        "base_folder_path = \"/content/drive/My Drive/Harvard HW/Course 4 - Final Project\"\n",
        "\n",
        "start_date = \"2022-01-01\"\n",
        "end_date = \"2022-12-31\"\n",
        "minimum_votes = 10 # Minimum vote amount to coolect movie\n",
        "start_point = 1 # Start from movie #1-50\n",
        "\n",
        "movie_search_url = f\"{base_url}/search/title/?title_type=feature&release_date={start_date},{end_date}&num_votes={minimum_votes},&{start_point}anguages=en&start=1&ref_=adv_nxt\"\n",
        "movie_search_url"
      ],
      "metadata": {
        "colab": {
          "base_uri": "https://localhost:8080/",
          "height": 36
        },
        "id": "9aLLijszN2JX",
        "outputId": "bded7036-daf4-40e1-8c02-0ab06b8f9dfc"
      },
      "execution_count": 2,
      "outputs": [
        {
          "output_type": "execute_result",
          "data": {
            "text/plain": [
              "'https://www.imdb.com/search/title/?title_type=feature&release_date=2022-01-01,2022-12-31&num_votes=10,&1anguages=en&start=1&ref_=adv_nxt'"
            ],
            "application/vnd.google.colaboratory.intrinsic+json": {
              "type": "string"
            }
          },
          "metadata": {},
          "execution_count": 2
        }
      ]
    },
    {
      "cell_type": "code",
      "source": [
        "headers = {\n",
        "    \"User-Agent\": \"Mozilla/5.0 (Windows NT 10.0; Win64; x64) AppleWebKit/537.36 (KHTML, like Gecko) Chrome/58.0.3029.110 Safari/537.36\"\n",
        "}\n",
        "\n",
        "list_of_50_movies = requests.get(f'{movie_search_url}', headers=headers, timeout=10)\n",
        "list_of_50_movies"
      ],
      "metadata": {
        "colab": {
          "base_uri": "https://localhost:8080/"
        },
        "id": "FPZnOmt7O4ZO",
        "outputId": "44e84374-fe1d-4eb6-a481-e049fce29d0a"
      },
      "execution_count": 3,
      "outputs": [
        {
          "output_type": "execute_result",
          "data": {
            "text/plain": [
              "<Response [200]>"
            ]
          },
          "metadata": {},
          "execution_count": 3
        }
      ]
    },
    {
      "cell_type": "code",
      "source": [
        "list_of_50_movies_soup = BeautifulSoup(list_of_50_movies.text, 'html.parser').find_all('div',{'class':'lister-item mode-advanced'})\n"
      ],
      "metadata": {
        "id": "fXP7YHhYPEFJ"
      },
      "execution_count": 4,
      "outputs": []
    },
    {
      "cell_type": "code",
      "source": [
        "movie_search_page = list_of_50_movies_soup[0]"
      ],
      "metadata": {
        "id": "TPVLgEErQ1ix"
      },
      "execution_count": 5,
      "outputs": []
    },
    {
      "cell_type": "markdown",
      "source": [
        "## Main Functions"
      ],
      "metadata": {
        "id": "k6oNkd5D4I8M"
      }
    },
    {
      "cell_type": "markdown",
      "source": [
        "### Get Movie Box details"
      ],
      "metadata": {
        "id": "tOOcl9NX4Pye"
      }
    },
    {
      "cell_type": "code",
      "source": [
        "def get_basic_details(movie_search_page):\n",
        "  search_box_info = {}\n",
        "  search_box_info['movie_name'] = movie_search_page.find('a')\n",
        "  search_box_info['movie_page_url'] = f\"{base_url}{movie_search_page.find('a')['href']}\"\n",
        "\n",
        "  try:\n",
        "    search_box_info['movie_place'] = None if not movie_search_page.find('span',{'class':'lister-item-index unbold text-primary'}) else movie_search_page.find('span',{'class':'lister-item-index unbold text-primary'}).text.replace('.','')\n",
        "    search_box_info['movie_id'] = None if not search_box_info['movie_page_url'] else search_box_info['movie_page_url'].split('/')[-2]\n",
        "    search_box_info['movie_name'] = None if not movie_search_page.find('a').find('img') else movie_search_page.find('a').find('img')['alt'].strip()\n",
        "    search_box_info['movie_thubmnail'] = None if not movie_search_page.find('a').find('img') else movie_search_page.find('a').find('img')['src']\n",
        "    #search_box_info['movie_year'] = None if not movie_search_page.find('span',{'class':'lister-item-year text-muted unbold'}) else movie_search_page.find('span',{'class':'lister-item-year text-muted unbold'}).text.replace('(','').replace(')','')\n",
        "    #search_box_info['movie_rating'] = None if not movie_search_page.find('strong') else movie_search_page.find('strong').text\n",
        "    search_box_info['movie_metascore'] = None if not movie_search_page.find('span', {'class': 'metascore'}) else movie_search_page.find('span', {'class': 'metascore'}).text.strip()\n",
        "    search_box_info['movie_description'] = None if not movie_search_page.find_all('p',{'class':'text-muted'}) else movie_search_page.find_all('p',{'class':'text-muted'})[1].text.strip()\n",
        "    search_box_info['runtime_min'] = None if not movie_search_page.find('span',{'class':'runtime'}) else movie_search_page.find('span',{'class':'runtime'}).text.split(' ')[0]\n",
        "\n",
        "    bottom_box_info = movie_search_page.find('p',{'class':'sort-num_votes-visible'}).find_all('span')\n",
        "    search_box_info['movie_vote_num'] = bottom_box_info[1]['data-value']\n",
        "    search_box_info['movie_gross'] = bottom_box_info[4]['data-value'] if len(bottom_box_info)>2 else None;\n",
        "\n",
        "    search_box_info['movie_rating'] = None if not movie_search_page.find_all('p',{'class':'text-muted'})[0].find('span',{'class':'certificate'}) else movie_search_page.find_all('p',{'class':'text-muted'})[0].find('span',{'class':'certificate'}).text.strip()\n",
        "    search_box_info['movie_genere'] = None if not movie_search_page.find_all('p',{'class':'text-muted'})[0].find('span',{'class':'genre'}) else movie_search_page.find_all('p',{'class':'text-muted'})[0].find('span',{'class':'genre'}).text.strip()\n",
        "\n",
        "    search_box_info['__SuccsefullyCollectBasicDetails'] = True;\n",
        "\n",
        "  except Exception as e:\n",
        "    print(f\"Failed extracting data for movie: {search_box_info['movie_name']}. \\nUrl: {search_box_info['movie_page_url']}.\\n Error:\\n{e}\")\n",
        "    traceback.print_exc()\n",
        "    search_box_info['__SuccsefullyCollectBasicDetails'] = False;\n",
        "\n",
        "\n",
        "  return search_box_info"
      ],
      "metadata": {
        "id": "ma8O2qtIaahp"
      },
      "execution_count": 6,
      "outputs": []
    },
    {
      "cell_type": "code",
      "source": [
        "movie_search_page = list_of_50_movies_soup[1]\n",
        "search_box_info = get_basic_details(movie_search_page)\n",
        "search_box_info\n",
        "\n"
      ],
      "metadata": {
        "colab": {
          "base_uri": "https://localhost:8080/"
        },
        "id": "nSPtu7JccDLW",
        "outputId": "0c98c61c-abb1-4b62-8ab8-aad8ad8a1ae2"
      },
      "execution_count": 7,
      "outputs": [
        {
          "output_type": "execute_result",
          "data": {
            "text/plain": [
              "{'movie_name': 'Everything Everywhere All at Once',\n",
              " 'movie_page_url': 'https://www.imdb.com/title/tt6710474/?ref_=adv_li_i',\n",
              " 'movie_place': '2',\n",
              " 'movie_id': 'tt6710474',\n",
              " 'movie_thubmnail': 'https://m.media-amazon.com/images/S/sash/4FyxwxECzL-U1J8.png',\n",
              " 'movie_metascore': '81',\n",
              " 'movie_description': 'A middle-aged Chinese immigrant is swept up into an insane adventure in which she alone can save existence by exploring other universes and connecting with the lives she could have led.',\n",
              " 'runtime_min': '139',\n",
              " 'movie_vote_num': '414055',\n",
              " 'movie_gross': '72,861,480',\n",
              " 'movie_rating': 'R',\n",
              " 'movie_genere': 'Action, Adventure, Comedy',\n",
              " '__SuccsefullyCollectBasicDetails': True}"
            ]
          },
          "metadata": {},
          "execution_count": 7
        }
      ]
    },
    {
      "cell_type": "markdown",
      "source": [
        "### Get Movie Page Details"
      ],
      "metadata": {
        "id": "tQaXU0Ib4V6A"
      }
    },
    {
      "cell_type": "code",
      "source": [
        "movie_main_page = requests.get(search_box_info['movie_page_url'], headers=headers)\n",
        "movie_main_page_soup = BeautifulSoup(movie_main_page.text, 'html.parser')"
      ],
      "metadata": {
        "id": "HcDJ2qcBlNUM"
      },
      "execution_count": 8,
      "outputs": []
    },
    {
      "cell_type": "code",
      "source": [
        "currency_codes = {\n",
        "    \"$\":\"USD\",\n",
        "    \"€\":\"EUR\",\n",
        "    \"£\":\"GBP\",\n",
        "    \"₹\":\"INR\",\n",
        "    \"â‚¬\": \"EUR\",\n",
        "    \"â‚¹\": \"INR\",\n",
        "    \"CA$\": \"CAD\",\n",
        "    \"NOKÂ\": \"NOK\",\n",
        "    \"Â£\": \"GBP\",\n",
        "    \"CHF\": \"CHF\",\n",
        "    \"Â¥\": \"JPY\",\n",
        "    \"PKR\": \"PKR\",\n",
        "    \"A$\": \"AUD\",\n",
        "    \"CZK\": \"CZK\",\n",
        "    \"RUR\": \"RUB\",\n",
        "    \"NZ$\": \"NZD\",\n",
        "    \"MYR\": \"MYR\",\n",
        "    \"NGN\": \"NGN\"\n",
        "}\n",
        "\n",
        "\n",
        "currency_conversion_values = {}\n"
      ],
      "metadata": {
        "id": "xTQyDlNNRMTT"
      },
      "execution_count": 9,
      "outputs": []
    },
    {
      "cell_type": "code",
      "source": [
        "def extract_currency_symbol(s):\n",
        "    match = re.search(r\"[^\\d]+\", s)\n",
        "    if match:\n",
        "        return match.group(0).strip()\n",
        "    else:\n",
        "        return \"\""
      ],
      "metadata": {
        "id": "Ffkj0oe7Vmee"
      },
      "execution_count": 10,
      "outputs": []
    },
    {
      "cell_type": "code",
      "source": [
        "def get_currency_code(amount_string):\n",
        "  currency_symbol = extract_currency_symbol(amount_string)\n",
        "  if currency_symbol in currency_codes:\n",
        "      return currency_codes[currency_symbol]\n",
        "  else:\n",
        "    print(f\"Could not find a value for: {currency_symbol} in {amount_string}\")\n",
        "    return None"
      ],
      "metadata": {
        "id": "LFYkrlxHWeMw"
      },
      "execution_count": 11,
      "outputs": []
    },
    {
      "cell_type": "code",
      "source": [
        "def extract_numerical_value(string):\n",
        "    # Remove all non-numeric characters from the string\n",
        "    numerical_string = re.sub(r\"[^\\d.]+\", \"\", string)\n",
        "    # Convert the string to a float and return it\n",
        "    return float(numerical_string)"
      ],
      "metadata": {
        "id": "q_2ySIZiXwK8"
      },
      "execution_count": 12,
      "outputs": []
    },
    {
      "cell_type": "code",
      "source": [
        "\n",
        "with open(f'{base_folder_path}/openexchangerates.txt', 'r') as f:\n",
        "    api_key = f.read().strip()\n",
        "\n",
        "api_key\n",
        "\n",
        "def convert_string_amount_to_usd(amount):\n",
        "\n",
        "  # get the currency code and amount value\n",
        "  currency_code = get_currency_code(amount)\n",
        "  original_amount = extract_numerical_value(amount)\n",
        "  usd_amount = None\n",
        "\n",
        "  if currency_code==None:\n",
        "    usd_amount=None\n",
        "  elif currency_code!=\"USD\":\n",
        "  \n",
        "    if currency_code in currency_conversion_values:\n",
        "      exchange_rate = currency_conversion_values[currency_code]\n",
        "    else:\n",
        "      # make API request to get exchange rate for the currency code\n",
        "      url = f\"https://openexchangerates.org/api/latest.json?app_id={api_key}&symbols={currency_code}\"\n",
        "      print(amount,currency_code,original_amount,url)\n",
        "      response = requests.get(url)\n",
        "      print(response)\n",
        "      # parse the exchange rate from the API response\n",
        "      exchange_rate = response.json()[\"rates\"][currency_code]\n",
        "      \n",
        "      currency_conversion_values[currency_code] = exchange_rate\n",
        "      \n",
        "      # calculate the USD equivalent amount\n",
        "      usd_amount = round(original_amount / exchange_rate)\n",
        "      \n",
        "      print(f\"{amount} {currency_code} = {usd_amount} USD\")\n",
        "  else:\n",
        "    usd_amount = original_amount\n",
        "\n",
        "  return usd_amount,original_amount,currency_code\n",
        "\n",
        "\n",
        "\n",
        "convert_string_amount_to_usd(\"CA$15,000\")\n",
        "convert_string_amount_to_usd(\"NOKÂ 80,200,000\")\n",
        "convert_string_amount_to_usd(\"NOKÂ 20,000,000\")\n",
        "convert_string_amount_to_usd(\"â‚¹3,500,000,000\")\n",
        "currency_conversion_values"
      ],
      "metadata": {
        "colab": {
          "base_uri": "https://localhost:8080/"
        },
        "id": "TY3pGk9-N4t9",
        "outputId": "ef653a15-1ebd-49aa-8066-b82c8c05fac6"
      },
      "execution_count": 13,
      "outputs": [
        {
          "output_type": "stream",
          "name": "stdout",
          "text": [
            "CA$15,000 CAD 15000.0 https://openexchangerates.org/api/latest.json?app_id=ac63294868f6455a91a128e22f4d9f35&symbols=CAD\n",
            "<Response [200]>\n",
            "CA$15,000 CAD = 11163 USD\n",
            "NOKÂ 80,200,000 NOK 80200000.0 https://openexchangerates.org/api/latest.json?app_id=ac63294868f6455a91a128e22f4d9f35&symbols=NOK\n",
            "<Response [200]>\n",
            "NOKÂ 80,200,000 NOK = 7785940 USD\n",
            "â‚¹3,500,000,000 INR 3500000000.0 https://openexchangerates.org/api/latest.json?app_id=ac63294868f6455a91a128e22f4d9f35&symbols=INR\n",
            "<Response [200]>\n",
            "â‚¹3,500,000,000 INR = 42572305 USD\n"
          ]
        },
        {
          "output_type": "execute_result",
          "data": {
            "text/plain": [
              "{'CAD': 1.343698, 'NOK': 10.300619, 'INR': 82.213073}"
            ]
          },
          "metadata": {},
          "execution_count": 13
        }
      ]
    },
    {
      "cell_type": "code",
      "source": [
        "def get_extended_details(movie_page_url, movie_name):\n",
        "  movie_page_dict = {}\n",
        "\n",
        "  try:\n",
        "\n",
        "    movie_main_page = requests.get(movie_page_url, headers=headers)\n",
        "    movie_main_page_soup = BeautifulSoup(movie_main_page.text, 'html.parser')   \n",
        "\n",
        "    year_rating = movie_main_page_soup.find('ul',{\"class\":\"ipc-inline-list ipc-inline-list--show-dividers sc-afe43def-4 kdXikI baseAlt\"}).find_all('a')\n",
        "\n",
        "    movie_page_dict['movie_year'] = year_rating[0].text if len(year_rating)>0 else None\n",
        "    movie_page_dict['movie_rating'] = year_rating[1].text if len(year_rating)>1 else None\n",
        "\n",
        "    director_box = movie_main_page_soup.find('span',string=\"Director\") if movie_main_page_soup.find('span',string=\"Directors\") is None else movie_main_page_soup.find('span',string=\"Directors\")\n",
        "    if director_box == None:\n",
        "      director_box = movie_main_page_soup.find('a',string=\"Director\") if movie_main_page_soup.find('span',string=\"Directors\") is None else movie_main_page_soup.find('a',string=\"Directors\")\n",
        "    director_box = director_box.find_next_sibling()\n",
        "    movie_page_dict['director_name'] = director_box.find('a').text\n",
        "    movie_page_dict['director_url'] = f\"{base_url}{director_box.find('a')['href']}\"\n",
        "    movie_page_dict['director_id'] = movie_page_dict['director_url'].split('/')[-2]\n",
        "\n",
        "    writers_box = movie_main_page_soup.find('span',string=\"Writer\") if movie_main_page_soup.find('span',string=\"Writers\") is None else movie_main_page_soup.find('span',string=\"Writers\")\n",
        "    if writers_box == None:\n",
        "      writers_box = movie_main_page_soup.find('span',string=\"Writer\") if movie_main_page_soup.find('a',string=\"Writers\") is None else movie_main_page_soup.find('a',string=\"Writers\")\n",
        "    # If not writer specified - Assume director is also writer\n",
        "    writers_box = writers_box.find_next_sibling() if writers_box!=None else director_box\n",
        "    movie_page_dict['writer_name'] = writers_box.find('a').text\n",
        "    movie_page_dict['writer_url'] = f\"{base_url}{writers_box.find('a')['href']}\"\n",
        "    movie_page_dict['writer_id'] = movie_page_dict['writer_url'].split('/')[-2]\n",
        "\n",
        "    movie_page_dict['movie_cast_url'] = movie_main_page_soup.find('a',{'class':'ipc-metadata-list-item__label ipc-metadata-list-item__label--link'})['href']\n",
        "    movie_page_dict['movie_cast_url'] = f\"{base_url}{movie_page_dict['movie_cast_url']}\"\n",
        "    stars_box = movie_main_page_soup.find('a',{'class':'ipc-metadata-list-item__label ipc-metadata-list-item__label--link'}).find_parent().find_all('a')\n",
        "    for i,star_box in enumerate(stars_box[1:-1]):\n",
        "      star_num = f'star_{i+1}'\n",
        "      movie_page_dict[f'{star_num}_name'] = star_box.text.strip()\n",
        "      movie_page_dict[f'{star_num}_url'] = f\"{base_url}{star_box['href']}\"\n",
        "      movie_page_dict[f'{star_num}_id'] = star_box['href'].split('/')[-2]\n",
        "\n",
        "    review_scores = movie_main_page_soup.find_all('span',{'class':'score'})\n",
        "    movie_page_dict['user_reviews_count'] = review_scores[0].text if len(review_scores)>0 else None\n",
        "    movie_page_dict['critic_reviews_count'] = review_scores[1].text if len(review_scores)>1 else None\n",
        "\n",
        "    movie_page_dict['release_date'] = movie_main_page_soup.find('a',{'class':'ipc-metadata-list-item__label ipc-metadata-list-item__label--link'}, string=\"Release date\").find_parent().find('a',{'class':'ipc-metadata-list-item__list-content-item ipc-metadata-list-item__list-content-item--link'}).text.split('(')[0].strip()\n",
        "    movie_page_dict['release_date']\n",
        "\n",
        "    movie_page_dict['budget'] = movie_main_page_soup.find('span',{'class':'ipc-metadata-list-item__label'}, string=\"Budget\")\n",
        "    if (movie_page_dict['budget']!=None):\n",
        "      movie_page_dict['budget'] = movie_page_dict['budget'].find_next_sibling().find('span',{'class':'ipc-metadata-list-item__list-content-item'}).text.split('(')[0].strip()\n",
        "\n",
        "      usd_amount,original_amount,currency_code = convert_string_amount_to_usd(movie_page_dict['budget'])\n",
        "      movie_page_dict['budget_usd'] = usd_amount\n",
        "      movie_page_dict['budget_currency'] = currency_code\n",
        "\n",
        "    movie_page_dict['gross_worldwide'] = movie_main_page_soup.find('span',{'class':'ipc-metadata-list-item__label'}, string=\"Gross worldwide\")\n",
        "    if (movie_page_dict['gross_worldwide']!=None):\n",
        "      movie_page_dict['gross_worldwide'] = movie_page_dict['gross_worldwide'].find_next_sibling().find('span',{'class':'ipc-metadata-list-item__list-content-item'}).text.split('(')[0].strip()\n",
        "\n",
        "    movie_page_dict['gross_us_canada'] = movie_main_page_soup.find('span',{'class':'ipc-metadata-list-item__label'}, string=\"Gross US & Canada\")\n",
        "    if (movie_page_dict['gross_us_canada']!=None):\n",
        "      movie_page_dict['gross_us_canada'] = movie_page_dict['gross_us_canada'].find_next_sibling().find('span',{'class':'ipc-metadata-list-item__list-content-item'}).text.split('(')[0].strip()\n",
        "\n",
        "    movie_page_dict['opening_weekend_us_canada'] = movie_main_page_soup.find('span',{'class':'ipc-metadata-list-item__label'}, string=\"Opening weekend US & Canada\")\n",
        "    if (movie_page_dict['opening_weekend_us_canada']!=None):\n",
        "      movie_page_dict['opening_weekend_us_canada'] = movie_page_dict['opening_weekend_us_canada'].find_next_sibling().find('span',{'class':'ipc-metadata-list-item__list-content-item'}).text.split('(')[0].strip()\n",
        "\n",
        "    movie_page_dict['origin_country'] = movie_main_page_soup.find('span',{'class':'ipc-metadata-list-item__label'}, string=\"Country of origin\")\n",
        "    if (movie_page_dict['origin_country']!=None):\n",
        "      movie_page_dict['origin_country'] = movie_page_dict['origin_country'].find_next_sibling().find('a').text.split('(')[0].strip()\n",
        "\n",
        "    languages = movie_main_page_soup.find('span',string=\"Language\") if movie_main_page_soup.find('span',string=\"Languages\") is None else movie_main_page_soup.find('span',string=\"Languages\")\n",
        "    languages = [] if not languages else languages.find_next_sibling().find_all('a')\n",
        "    movie_page_dict['languages'] = \",\".join([language.text for language in languages])\n",
        "\n",
        "    movie_page_dict['__SuccsefullyCollectExtandedDetails'] = True;\n",
        "\n",
        "    \n",
        "\n",
        "  except Exception as e:\n",
        "    print(f\"Failed extracting data for movie: {movie_name}. \\nUrl: {movie_page_url}.\\n Error:\\n{e}\")\n",
        "    traceback.print_exc()\n",
        "    movie_page_dict['__SuccsefullyCollectExtandedDetails'] = False;\n",
        "\n",
        "  return movie_page_dict\n",
        "\n",
        "\n",
        "get_extended_details(search_box_info['movie_page_url'],search_box_info['movie_name'])"
      ],
      "metadata": {
        "colab": {
          "base_uri": "https://localhost:8080/"
        },
        "id": "XH4irJSLculw",
        "outputId": "3799f0b3-29a0-4866-e564-f1469d8d6ab7"
      },
      "execution_count": 14,
      "outputs": [
        {
          "output_type": "execute_result",
          "data": {
            "text/plain": [
              "{'movie_year': '2022',\n",
              " 'movie_rating': 'R',\n",
              " 'director_name': 'Daniel Kwan',\n",
              " 'director_url': 'https://www.imdb.com/name/nm3453283/?ref_=tt_ov_dr',\n",
              " 'director_id': 'nm3453283',\n",
              " 'writer_name': 'Daniel Kwan',\n",
              " 'writer_url': 'https://www.imdb.com/name/nm3453283/?ref_=tt_ov_wr',\n",
              " 'writer_id': 'nm3453283',\n",
              " 'movie_cast_url': 'https://www.imdb.com/title/tt6710474/fullcredits/cast?ref_=tt_ov_st_sm',\n",
              " 'star_1_name': 'Michelle Yeoh',\n",
              " 'star_1_url': 'https://www.imdb.com/name/nm0000706/?ref_=tt_ov_st',\n",
              " 'star_1_id': 'nm0000706',\n",
              " 'star_2_name': 'Stephanie Hsu',\n",
              " 'star_2_url': 'https://www.imdb.com/name/nm3513533/?ref_=tt_ov_st',\n",
              " 'star_2_id': 'nm3513533',\n",
              " 'star_3_name': 'Jamie Lee Curtis',\n",
              " 'star_3_url': 'https://www.imdb.com/name/nm0000130/?ref_=tt_ov_st',\n",
              " 'star_3_id': 'nm0000130',\n",
              " 'user_reviews_count': '3.3K',\n",
              " 'critic_reviews_count': '395',\n",
              " 'release_date': 'April 8, 2022',\n",
              " 'budget': '$14,300,000',\n",
              " 'budget_usd': 14300000.0,\n",
              " 'budget_currency': 'USD',\n",
              " 'gross_worldwide': '$135,728,167',\n",
              " 'gross_us_canada': '$77,020,896',\n",
              " 'opening_weekend_us_canada': '$501,305',\n",
              " 'origin_country': 'United States',\n",
              " 'languages': 'English,Mandarin,Cantonese',\n",
              " '__SuccsefullyCollectExtandedDetails': True}"
            ]
          },
          "metadata": {},
          "execution_count": 14
        }
      ]
    },
    {
      "cell_type": "code",
      "source": [
        "# print(search_box_info['movie_page_url'],search_box_info['movie_name'])\n",
        "# cast_url = movie_main_page_soup.find('a',{'class':'ipc-metadata-list-item__label ipc-metadata-list-item__label--link'})['href']\n",
        "# cast_url = f\"{base_url}{cast_url}\"\n",
        "# cast_url"
      ],
      "metadata": {
        "id": "vEii_FS-9zTJ"
      },
      "execution_count": 15,
      "outputs": []
    },
    {
      "cell_type": "markdown",
      "source": [
        "## Cursor for collecting movies in batches"
      ],
      "metadata": {
        "id": "TxMZRWuGG3SA"
      }
    },
    {
      "cell_type": "code",
      "source": [
        "# Fixed parameters:\n",
        "base_url = \"https://www.imdb.com\"\n",
        "\n",
        "start_date = \"2022-01-01\"\n",
        "end_date = \"2022-12-31\"\n",
        "minimum_votes = 20 # Minimum vote amount to coolect movie\n",
        "\n",
        "headers = {\"User-Agent\": \"Mozilla/5.0 (Windows NT 10.0; Win64; x64) AppleWebKit/537.36 (KHTML, like Gecko) Chrome/58.0.3029.110 Safari/537.36\"}"
      ],
      "metadata": {
        "id": "NZCEUr1_HFkQ"
      },
      "execution_count": 16,
      "outputs": []
    },
    {
      "cell_type": "code",
      "source": [
        "# Dynamic parameters:\n",
        "\n",
        "start_point = 1 # Start from movie #1-50\n",
        "\n",
        "movie_search_url_50_batch = f\"{base_url}/search/title/?title_type=feature&release_date={start_date},{end_date}&num_votes={minimum_votes},&user_rating=1.0,10.0&countries=us&languages=en&start={start_point}&ref_=adv_nxt\"\n",
        "print(f\"movie_search_url_50_batch: {movie_search_url_50_batch}\")\n",
        "search_page = requests.get(f'{movie_search_url_50_batch}', headers=headers, timeout=10)\n",
        "search_page_soup = BeautifulSoup(list_of_50_movies.text, 'html.parser')\n",
        "list_of_50_movies_soup = search_page_soup.find_all('div',{'class':'lister-item mode-advanced'})\n",
        "\n",
        "max_num_of_results = search_page_soup.find('div',{'class':'desc'}).find('span').text.split(' ')[2].replace(\",\", \"\")\n",
        "max_num_of_results = int(max_num_of_results)\n",
        "\n",
        "print(f\"max_num_of_results: {max_num_of_results}\")"
      ],
      "metadata": {
        "id": "RYjnulARhT5c",
        "colab": {
          "base_uri": "https://localhost:8080/"
        },
        "outputId": "6df96ac0-bfcf-4e5e-9cdd-eb0649e74d7b"
      },
      "execution_count": 17,
      "outputs": [
        {
          "output_type": "stream",
          "name": "stdout",
          "text": [
            "movie_search_url_50_batch: https://www.imdb.com/search/title/?title_type=feature&release_date=2022-01-01,2022-12-31&num_votes=20,&user_rating=1.0,10.0&countries=us&languages=en&start=1&ref_=adv_nxt\n",
            "max_num_of_results: 6302\n"
          ]
        }
      ]
    },
    {
      "cell_type": "code",
      "source": [
        "search_page = requests.get(f'{movie_search_url_50_batch}', headers=headers, timeout=10)\n",
        "search_page_soup = BeautifulSoup(search_page.text, 'html.parser')\n",
        "list_of_50_movies_soup = search_page_soup.find_all('div',{'class':'lister-item mode-advanced'})\n",
        "\n",
        "max_num_of_results = search_page_soup.find('div',{'class':'desc'}).find('span').text.split(' ')[2].replace(\",\", \"\")\n",
        "max_num_of_results = int(max_num_of_results)\n",
        "max_num_of_results"
      ],
      "metadata": {
        "colab": {
          "base_uri": "https://localhost:8080/"
        },
        "id": "EU7uRvT1iI9t",
        "outputId": "fcc1fb37-a6c3-4ffa-8313-e534bb8268e2"
      },
      "execution_count": 18,
      "outputs": [
        {
          "output_type": "execute_result",
          "data": {
            "text/plain": [
              "1383"
            ]
          },
          "metadata": {},
          "execution_count": 18
        }
      ]
    },
    {
      "cell_type": "code",
      "source": [
        "total_movie_dataset = []\n",
        "total_actor_dataset = []\n",
        "total_director_dataset = []\n",
        "\n",
        "start_point = 1 # Start from movie #1-50\n",
        "\n",
        "while start_point < max_num_of_results-50:\n",
        "\n",
        "  movie_search_url_50_batch = f\"{base_url}/search/title/?title_type=feature&release_date={start_date},{end_date}&num_votes={minimum_votes},&languages=en&start={start_point}&ref_=adv_nxt\"\n",
        "  print(f\"movie_search_url_50_batch start point {start_point}: {movie_search_url_50_batch}\")\n",
        "  search_page = requests.get(f'{movie_search_url_50_batch}', headers=headers, timeout=10)\n",
        "  search_page_soup = BeautifulSoup(search_page.text, 'html.parser')\n",
        "  list_of_50_movies_soup = search_page_soup.find_all('div',{'class':'lister-item mode-advanced'})\n",
        "\n",
        "  for i,movie in enumerate(list_of_50_movies_soup):\n",
        "    movie_data = {}\n",
        "\n",
        "    basic_data = get_basic_details(movie)\n",
        "    movie_data.update(basic_data)\n",
        "\n",
        "    if basic_data['__SuccsefullyCollectBasicDetails']==True:\n",
        "      movie_main_page = requests.get(basic_data['movie_page_url'], headers=headers)\n",
        "      movie_main_page_soup = BeautifulSoup(movie_main_page.text, 'html.parser')   \n",
        "\n",
        "      if i%30==0:\n",
        "        print(basic_data['movie_name'],basic_data['movie_page_url'])\n",
        "\n",
        "      extended_deta = get_extended_details(basic_data['movie_page_url'],basic_data['movie_name'])\n",
        "      movie_data.update(extended_deta)\n",
        "\n",
        "      sleep(0.1)\n",
        "\n",
        "      total_movie_dataset.append(movie_data)\n",
        "    else:\n",
        "      movie_data['__SuccsefullyCollectExtandedDetails'] = False;\n",
        "      print(f\"Skipping extanded data for: {basic_data['movie_name']} - {basic_data['movie_page_url']}\")\n",
        "\n",
        "  movie_dataset = pd.DataFrame(total_movie_dataset)\n",
        "  movie_dataset.to_csv(\"/content/drive/My Drive/Harvard HW/Course 4 - Final Project/total_movie_dataset.csv\", index=False)\n",
        "\n",
        "  start_point += 50"
      ],
      "metadata": {
        "colab": {
          "base_uri": "https://localhost:8080/"
        },
        "id": "9ASPUpIMHT2J",
        "outputId": "9ea0a88a-27f1-4e41-dd21-ef52ed9976d7"
      },
      "execution_count": 19,
      "outputs": [
        {
          "output_type": "stream",
          "name": "stdout",
          "text": [
            "movie_search_url_50_batch start point 1: https://www.imdb.com/search/title/?title_type=feature&release_date=2022-01-01,2022-12-31&num_votes=20,&languages=en&start=1&ref_=adv_nxt\n",
            "Avatar: The Way of Water https://www.imdb.com/title/tt1630029/?ref_=adv_li_i\n",
            "€10,000,000 EUR 10000000.0 https://openexchangerates.org/api/latest.json?app_id=ac63294868f6455a91a128e22f4d9f35&symbols=EUR\n",
            "<Response [200]>\n",
            "€10,000,000 EUR = 10888597 USD\n",
            "Could not find a value for: ₹ in ₹3,500,000,000\n",
            "Women Talking https://www.imdb.com/title/tt13669038/?ref_=adv_li_i\n",
            "movie_search_url_50_batch start point 51: https://www.imdb.com/search/title/?title_type=feature&release_date=2022-01-01,2022-12-31&num_votes=20,&languages=en&start=51&ref_=adv_nxt\n",
            "Terrifier 2 https://www.imdb.com/title/tt10403420/?ref_=adv_li_i\n",
            "Roald Dahl's Matilda the Musical https://www.imdb.com/title/tt3447590/?ref_=adv_li_i\n",
            "movie_search_url_50_batch start point 101: https://www.imdb.com/search/title/?title_type=feature&release_date=2022-01-01,2022-12-31&num_votes=20,&languages=en&start=101&ref_=adv_nxt\n",
            "The Devil Conspiracy https://www.imdb.com/title/tt9663168/?ref_=adv_li_i\n",
            "Speak No Evil https://www.imdb.com/title/tt14253846/?ref_=adv_li_i\n",
            "Could not find a value for: NOK in NOK 80,200,000\n",
            "movie_search_url_50_batch start point 151: https://www.imdb.com/search/title/?title_type=feature&release_date=2022-01-01,2022-12-31&num_votes=20,&languages=en&start=151&ref_=adv_nxt\n",
            "Jeepers Creepers: Reborn https://www.imdb.com/title/tt14121726/?ref_=adv_li_i\n",
            "The Next 365 Days https://www.imdb.com/title/tt21106646/?ref_=adv_li_i\n",
            "Could not find a value for: NOK in NOK 20,000,000\n",
            "movie_search_url_50_batch start point 201: https://www.imdb.com/search/title/?title_type=feature&release_date=2022-01-01,2022-12-31&num_votes=20,&languages=en&start=201&ref_=adv_nxt\n",
            "Palm Trees and Power Lines https://www.imdb.com/title/tt15257116/?ref_=adv_li_i\n",
            "£10,000 GBP 10000.0 https://openexchangerates.org/api/latest.json?app_id=ac63294868f6455a91a128e22f4d9f35&symbols=GBP\n",
            "<Response [200]>\n",
            "£10,000 GBP = 12405 USD\n",
            "Infinite Storm https://www.imdb.com/title/tt14060232/?ref_=adv_li_i\n",
            "movie_search_url_50_batch start point 251: https://www.imdb.com/search/title/?title_type=feature&release_date=2022-01-01,2022-12-31&num_votes=20,&languages=en&start=251&ref_=adv_nxt\n",
            "Spoiler Alert https://www.imdb.com/title/tt7775720/?ref_=adv_li_i\n",
            "Could not find a value for: NOK in NOK 100,000,000\n",
            "Could not find a value for: ₹ in ₹500,000,000\n",
            "Wedding Season https://www.imdb.com/title/tt11426572/?ref_=adv_li_i\n",
            "Failed extracting data for movie: The House. \n",
            "Url: https://www.imdb.com/title/tt11703050/?ref_=adv_li_i.\n",
            " Error:\n",
            "'NoneType' object has no attribute 'find_next_sibling'\n"
          ]
        },
        {
          "output_type": "stream",
          "name": "stderr",
          "text": [
            "Traceback (most recent call last):\n",
            "  File \"<ipython-input-14-4f1d2746ad1e>\", line 17, in get_extended_details\n",
            "    director_box = director_box.find_next_sibling()\n",
            "AttributeError: 'NoneType' object has no attribute 'find_next_sibling'\n"
          ]
        },
        {
          "output_type": "stream",
          "name": "stdout",
          "text": [
            "Could not find a value for: ₹ in ₹1,800,000,000\n",
            "movie_search_url_50_batch start point 301: https://www.imdb.com/search/title/?title_type=feature&release_date=2022-01-01,2022-12-31&num_votes=20,&languages=en&start=301&ref_=adv_nxt\n",
            "Play Dead https://www.imdb.com/title/tt20198774/?ref_=adv_li_i\n",
            "Could not find a value for: ₹ in ₹4,100,000,000\n",
            "Maneater https://www.imdb.com/title/tt15262370/?ref_=adv_li_i\n",
            "CHF 2,600,000 CHF 2600000.0 https://openexchangerates.org/api/latest.json?app_id=ac63294868f6455a91a128e22f4d9f35&symbols=CHF\n",
            "<Response [200]>\n",
            "CHF 2,600,000 CHF = 2845318 USD\n",
            "movie_search_url_50_batch start point 351: https://www.imdb.com/search/title/?title_type=feature&release_date=2022-01-01,2022-12-31&num_votes=20,&languages=en&start=351&ref_=adv_nxt\n",
            "Somewhere in Queens https://www.imdb.com/title/tt14097180/?ref_=adv_li_i\n",
            "Failed extracting data for movie: V/H/S/99. \n",
            "Url: https://www.imdb.com/title/tt21651560/?ref_=adv_li_i.\n",
            " Error:\n",
            "'NoneType' object has no attribute 'find_next_sibling'\n"
          ]
        },
        {
          "output_type": "stream",
          "name": "stderr",
          "text": [
            "Traceback (most recent call last):\n",
            "  File \"<ipython-input-14-4f1d2746ad1e>\", line 17, in get_extended_details\n",
            "    director_box = director_box.find_next_sibling()\n",
            "AttributeError: 'NoneType' object has no attribute 'find_next_sibling'\n"
          ]
        },
        {
          "output_type": "stream",
          "name": "stdout",
          "text": [
            "Seriously Red https://www.imdb.com/title/tt4586828/?ref_=adv_li_i\n",
            "Could not find a value for: ¥ in ¥900,000,000\n",
            "movie_search_url_50_batch start point 401: https://www.imdb.com/search/title/?title_type=feature&release_date=2022-01-01,2022-12-31&num_votes=20,&languages=en&start=401&ref_=adv_nxt\n",
            "Moloch https://www.imdb.com/title/tt14412446/?ref_=adv_li_i\n",
            "Who Invited Them https://www.imdb.com/title/tt17677178/?ref_=adv_li_i\n",
            "movie_search_url_50_batch start point 451: https://www.imdb.com/search/title/?title_type=feature&release_date=2022-01-01,2022-12-31&num_votes=20,&languages=en&start=451&ref_=adv_nxt\n",
            "The Requin https://www.imdb.com/title/tt11348232/?ref_=adv_li_i\n",
            "Failed extracting data for movie: Marmaduke. \n",
            "Url: https://www.imdb.com/title/tt8746404/?ref_=adv_li_i.\n",
            " Error:\n",
            "'NoneType' object has no attribute 'find_next_sibling'\n"
          ]
        },
        {
          "output_type": "stream",
          "name": "stderr",
          "text": [
            "Traceback (most recent call last):\n",
            "  File \"<ipython-input-14-4f1d2746ad1e>\", line 17, in get_extended_details\n",
            "    director_box = director_box.find_next_sibling()\n",
            "AttributeError: 'NoneType' object has no attribute 'find_next_sibling'\n"
          ]
        },
        {
          "output_type": "stream",
          "name": "stdout",
          "text": [
            "9 Bullets https://www.imdb.com/title/tt13680520/?ref_=adv_li_i\n",
            "movie_search_url_50_batch start point 501: https://www.imdb.com/search/title/?title_type=feature&release_date=2022-01-01,2022-12-31&num_votes=20,&languages=en&start=501&ref_=adv_nxt\n",
            "Tell It Like a Woman https://www.imdb.com/title/tt5850650/?ref_=adv_li_i\n",
            "Failed extracting data for movie: Tell It Like a Woman. \n",
            "Url: https://www.imdb.com/title/tt5850650/?ref_=adv_li_i.\n",
            " Error:\n",
            "'NoneType' object has no attribute 'find_next_sibling'\n"
          ]
        },
        {
          "output_type": "stream",
          "name": "stderr",
          "text": [
            "Traceback (most recent call last):\n",
            "  File \"<ipython-input-14-4f1d2746ad1e>\", line 17, in get_extended_details\n",
            "    director_box = director_box.find_next_sibling()\n",
            "AttributeError: 'NoneType' object has no attribute 'find_next_sibling'\n"
          ]
        },
        {
          "output_type": "stream",
          "name": "stdout",
          "text": [
            "Operation Seawolf https://www.imdb.com/title/tt13429928/?ref_=adv_li_i\n",
            "movie_search_url_50_batch start point 551: https://www.imdb.com/search/title/?title_type=feature&release_date=2022-01-01,2022-12-31&num_votes=20,&languages=en&start=551&ref_=adv_nxt\n",
            "Mothman https://www.imdb.com/title/tt17157786/?ref_=adv_li_i\n",
            "Could not find a value for: ₹ in ₹600,000,000\n",
            "Bones of Crows https://www.imdb.com/title/tt21342838/?ref_=adv_li_i\n",
            "PKR 700,000,000 PKR 700000000.0 https://openexchangerates.org/api/latest.json?app_id=ac63294868f6455a91a128e22f4d9f35&symbols=PKR\n",
            "<Response [200]>\n",
            "PKR 700,000,000 PKR = 2455055 USD\n",
            "movie_search_url_50_batch start point 601: https://www.imdb.com/search/title/?title_type=feature&release_date=2022-01-01,2022-12-31&num_votes=20,&languages=en&start=601&ref_=adv_nxt\n",
            "The Almond and the Seahorse https://www.imdb.com/title/tt7326608/?ref_=adv_li_i\n",
            "Stay the Night https://www.imdb.com/title/tt16464084/?ref_=adv_li_i\n",
            "movie_search_url_50_batch start point 651: https://www.imdb.com/search/title/?title_type=feature&release_date=2022-01-01,2022-12-31&num_votes=20,&languages=en&start=651&ref_=adv_nxt\n",
            "Revealer https://www.imdb.com/title/tt14661252/?ref_=adv_li_i\n",
            "They Wait in the Dark https://www.imdb.com/title/tt14107778/?ref_=adv_li_i\n",
            "movie_search_url_50_batch start point 701: https://www.imdb.com/search/title/?title_type=feature&release_date=2022-01-01,2022-12-31&num_votes=20,&languages=en&start=701&ref_=adv_nxt\n",
            "Don't Look at the Demon https://www.imdb.com/title/tt5249706/?ref_=adv_li_i\n",
            "A$640,000 AUD 640000.0 https://openexchangerates.org/api/latest.json?app_id=ac63294868f6455a91a128e22f4d9f35&symbols=AUD\n",
            "<Response [200]>\n",
            "A$640,000 AUD = 433894 USD\n",
            "Gatlopp https://www.imdb.com/title/tt11615616/?ref_=adv_li_i\n",
            "Failed extracting data for movie: Scare Package II: Rad Chad's Revenge. \n",
            "Url: https://www.imdb.com/title/tt16426066/?ref_=adv_li_i.\n",
            " Error:\n",
            "'NoneType' object has no attribute 'find_next_sibling'\n"
          ]
        },
        {
          "output_type": "stream",
          "name": "stderr",
          "text": [
            "Traceback (most recent call last):\n",
            "  File \"<ipython-input-14-4f1d2746ad1e>\", line 17, in get_extended_details\n",
            "    director_box = director_box.find_next_sibling()\n",
            "AttributeError: 'NoneType' object has no attribute 'find_next_sibling'\n"
          ]
        },
        {
          "output_type": "stream",
          "name": "stdout",
          "text": [
            "movie_search_url_50_batch start point 751: https://www.imdb.com/search/title/?title_type=feature&release_date=2022-01-01,2022-12-31&num_votes=20,&languages=en&start=751&ref_=adv_nxt\n",
            "The Hunted https://www.imdb.com/title/tt16102916/?ref_=adv_li_i\n",
            "Failed extracting data for movie: The Seven Faces of Jane. \n",
            "Url: https://www.imdb.com/title/tt15345936/?ref_=adv_li_i.\n",
            " Error:\n",
            "'NoneType' object has no attribute 'find_next_sibling'\n"
          ]
        },
        {
          "output_type": "stream",
          "name": "stderr",
          "text": [
            "Traceback (most recent call last):\n",
            "  File \"<ipython-input-14-4f1d2746ad1e>\", line 17, in get_extended_details\n",
            "    director_box = director_box.find_next_sibling()\n",
            "AttributeError: 'NoneType' object has no attribute 'find_next_sibling'\n"
          ]
        },
        {
          "output_type": "stream",
          "name": "stdout",
          "text": [
            "Damon's Revenge https://www.imdb.com/title/tt13797216/?ref_=adv_li_i\n",
            "Failed extracting data for movie: Satanic Hispanics. \n",
            "Url: https://www.imdb.com/title/tt22085392/?ref_=adv_li_i.\n",
            " Error:\n",
            "'NoneType' object has no attribute 'find_next_sibling'\n"
          ]
        },
        {
          "output_type": "stream",
          "name": "stderr",
          "text": [
            "Traceback (most recent call last):\n",
            "  File \"<ipython-input-14-4f1d2746ad1e>\", line 17, in get_extended_details\n",
            "    director_box = director_box.find_next_sibling()\n",
            "AttributeError: 'NoneType' object has no attribute 'find_next_sibling'\n"
          ]
        },
        {
          "output_type": "stream",
          "name": "stdout",
          "text": [
            "movie_search_url_50_batch start point 801: https://www.imdb.com/search/title/?title_type=feature&release_date=2022-01-01,2022-12-31&num_votes=20,&languages=en&start=801&ref_=adv_nxt\n",
            "Manifest West https://www.imdb.com/title/tt12164416/?ref_=adv_li_i\n",
            "Failed extracting data for movie: The SpongeBob SquarePants Movie Rehydrated. \n",
            "Url: https://www.imdb.com/title/tt12215472/?ref_=adv_li_i.\n",
            " Error:\n",
            "'NoneType' object has no attribute 'find_next_sibling'\n"
          ]
        },
        {
          "output_type": "stream",
          "name": "stderr",
          "text": [
            "Traceback (most recent call last):\n",
            "  File \"<ipython-input-14-4f1d2746ad1e>\", line 17, in get_extended_details\n",
            "    director_box = director_box.find_next_sibling()\n",
            "AttributeError: 'NoneType' object has no attribute 'find_next_sibling'\n"
          ]
        },
        {
          "output_type": "stream",
          "name": "stdout",
          "text": [
            "Wog Boys Forever https://www.imdb.com/title/tt14909354/?ref_=adv_li_i\n",
            "CZK 13,000,000 CZK 13000000.0 https://openexchangerates.org/api/latest.json?app_id=ac63294868f6455a91a128e22f4d9f35&symbols=CZK\n",
            "<Response [200]>\n",
            "CZK 13,000,000 CZK = 603472 USD\n",
            "movie_search_url_50_batch start point 851: https://www.imdb.com/search/title/?title_type=feature&release_date=2022-01-01,2022-12-31&num_votes=20,&languages=en&start=851&ref_=adv_nxt\n",
            "Corner Office https://www.imdb.com/title/tt13849558/?ref_=adv_li_i\n",
            "RUR 350,000,000 RUB 350000000.0 https://openexchangerates.org/api/latest.json?app_id=ac63294868f6455a91a128e22f4d9f35&symbols=RUB\n",
            "<Response [200]>\n",
            "RUR 350,000,000 RUB = 4450095 USD\n",
            "The Shell Collector https://www.imdb.com/title/tt21814412/?ref_=adv_li_i\n",
            "movie_search_url_50_batch start point 901: https://www.imdb.com/search/title/?title_type=feature&release_date=2022-01-01,2022-12-31&num_votes=20,&languages=en&start=901&ref_=adv_nxt\n",
            "Get Away If You Can https://www.imdb.com/title/tt15208692/?ref_=adv_li_i\n",
            "Failed extracting data for movie: Boys on Film 22: Love to Love You. \n",
            "Url: https://www.imdb.com/title/tt21147534/?ref_=adv_li_i.\n",
            " Error:\n",
            "'NoneType' object has no attribute 'find_next_sibling'\n"
          ]
        },
        {
          "output_type": "stream",
          "name": "stderr",
          "text": [
            "Traceback (most recent call last):\n",
            "  File \"<ipython-input-14-4f1d2746ad1e>\", line 17, in get_extended_details\n",
            "    director_box = director_box.find_next_sibling()\n",
            "AttributeError: 'NoneType' object has no attribute 'find_next_sibling'\n"
          ]
        },
        {
          "output_type": "stream",
          "name": "stdout",
          "text": [
            "Borrowed https://www.imdb.com/title/tt15131152/?ref_=adv_li_i\n",
            "Failed extracting data for movie: The Red Book Ritual. \n",
            "Url: https://www.imdb.com/title/tt14083716/?ref_=adv_li_i.\n",
            " Error:\n",
            "'NoneType' object has no attribute 'find_next_sibling'\n"
          ]
        },
        {
          "output_type": "stream",
          "name": "stderr",
          "text": [
            "Traceback (most recent call last):\n",
            "  File \"<ipython-input-14-4f1d2746ad1e>\", line 17, in get_extended_details\n",
            "    director_box = director_box.find_next_sibling()\n",
            "AttributeError: 'NoneType' object has no attribute 'find_next_sibling'\n"
          ]
        },
        {
          "output_type": "stream",
          "name": "stdout",
          "text": [
            "NZ$10,000,000 NZD 10000000.0 https://openexchangerates.org/api/latest.json?app_id=ac63294868f6455a91a128e22f4d9f35&symbols=NZD\n",
            "<Response [200]>\n",
            "NZ$10,000,000 NZD = 6303227 USD\n",
            "movie_search_url_50_batch start point 951: https://www.imdb.com/search/title/?title_type=feature&release_date=2022-01-01,2022-12-31&num_votes=20,&languages=en&start=951&ref_=adv_nxt\n",
            "Night's End https://www.imdb.com/title/tt14870640/?ref_=adv_li_i\n",
            "Failed extracting data for movie: With/In. \n",
            "Url: https://www.imdb.com/title/tt18753152/?ref_=adv_li_i.\n",
            " Error:\n",
            "'NoneType' object has no attribute 'find_next_sibling'\n"
          ]
        },
        {
          "output_type": "stream",
          "name": "stderr",
          "text": [
            "Traceback (most recent call last):\n",
            "  File \"<ipython-input-14-4f1d2746ad1e>\", line 17, in get_extended_details\n",
            "    director_box = director_box.find_next_sibling()\n",
            "AttributeError: 'NoneType' object has no attribute 'find_next_sibling'\n"
          ]
        },
        {
          "output_type": "stream",
          "name": "stdout",
          "text": [
            "The Virgin of Highland Park https://www.imdb.com/title/tt8731036/?ref_=adv_li_i\n",
            "Failed extracting data for movie: We Are Still Here. \n",
            "Url: https://www.imdb.com/title/tt15684938/?ref_=adv_li_i.\n",
            " Error:\n",
            "'NoneType' object has no attribute 'find_next_sibling'\n"
          ]
        },
        {
          "output_type": "stream",
          "name": "stderr",
          "text": [
            "Traceback (most recent call last):\n",
            "  File \"<ipython-input-14-4f1d2746ad1e>\", line 17, in get_extended_details\n",
            "    director_box = director_box.find_next_sibling()\n",
            "AttributeError: 'NoneType' object has no attribute 'find_next_sibling'\n"
          ]
        },
        {
          "output_type": "stream",
          "name": "stdout",
          "text": [
            "Failed extracting data for movie: Water Gate Bridge. \n",
            "Url: https://www.imdb.com/title/tt16194408/?ref_=adv_li_i.\n",
            " Error:\n",
            "'NoneType' object has no attribute 'find_next_sibling'\n"
          ]
        },
        {
          "output_type": "stream",
          "name": "stderr",
          "text": [
            "Traceback (most recent call last):\n",
            "  File \"<ipython-input-14-4f1d2746ad1e>\", line 17, in get_extended_details\n",
            "    director_box = director_box.find_next_sibling()\n",
            "AttributeError: 'NoneType' object has no attribute 'find_next_sibling'\n"
          ]
        },
        {
          "output_type": "stream",
          "name": "stdout",
          "text": [
            "movie_search_url_50_batch start point 1001: https://www.imdb.com/search/title/?title_type=feature&release_date=2022-01-01,2022-12-31&num_votes=20,&languages=en&start=1001&ref_=adv_nxt\n",
            "Low Life https://www.imdb.com/title/tt6165892/?ref_=adv_li_i\n",
            "Failed extracting data for movie: Encanto Sing-Along. \n",
            "Url: https://www.imdb.com/title/tt19175754/?ref_=adv_li_i.\n",
            " Error:\n",
            "'NoneType' object has no attribute 'find_next_sibling'\n"
          ]
        },
        {
          "output_type": "stream",
          "name": "stderr",
          "text": [
            "Traceback (most recent call last):\n",
            "  File \"<ipython-input-14-4f1d2746ad1e>\", line 17, in get_extended_details\n",
            "    director_box = director_box.find_next_sibling()\n",
            "AttributeError: 'NoneType' object has no attribute 'find_next_sibling'\n"
          ]
        },
        {
          "output_type": "stream",
          "name": "stdout",
          "text": [
            "Student Seduction https://www.imdb.com/title/tt14947744/?ref_=adv_li_i\n",
            "MYR 8,000,000 MYR 8000000.0 https://openexchangerates.org/api/latest.json?app_id=ac63294868f6455a91a128e22f4d9f35&symbols=MYR\n",
            "<Response [200]>\n",
            "MYR 8,000,000 MYR = 1815088 USD\n",
            "movie_search_url_50_batch start point 1051: https://www.imdb.com/search/title/?title_type=feature&release_date=2022-01-01,2022-12-31&num_votes=20,&languages=en&start=1051&ref_=adv_nxt\n",
            "Vide Noir https://www.imdb.com/title/tt11124146/?ref_=adv_li_i\n",
            "Moon Manor https://www.imdb.com/title/tt8946942/?ref_=adv_li_i\n",
            "movie_search_url_50_batch start point 1101: https://www.imdb.com/search/title/?title_type=feature&release_date=2022-01-01,2022-12-31&num_votes=20,&languages=en&start=1101&ref_=adv_nxt\n",
            "Presence https://www.imdb.com/title/tt12993004/?ref_=adv_li_i\n",
            "White Paradise https://www.imdb.com/title/tt19895588/?ref_=adv_li_i\n",
            "movie_search_url_50_batch start point 1151: https://www.imdb.com/search/title/?title_type=feature&release_date=2022-01-01,2022-12-31&num_votes=20,&languages=en&start=1151&ref_=adv_nxt\n",
            "Dilemma https://www.imdb.com/title/tt13334974/?ref_=adv_li_i\n",
            "The Long Dark Trail https://www.imdb.com/title/tt15389372/?ref_=adv_li_i\n",
            "movie_search_url_50_batch start point 1201: https://www.imdb.com/search/title/?title_type=feature&release_date=2022-01-01,2022-12-31&num_votes=20,&languages=en&start=1201&ref_=adv_nxt\n",
            "Adaraneeya Prarthana https://www.imdb.com/title/tt13452210/?ref_=adv_li_i\n",
            "NGN 180,000,000 NGN 180000000.0 https://openexchangerates.org/api/latest.json?app_id=ac63294868f6455a91a128e22f4d9f35&symbols=NGN\n",
            "<Response [200]>\n",
            "NGN 180,000,000 NGN = 391024 USD\n",
            "Failed extracting data for movie: Witchcraft Motion Picture Company Presents Horror Anthology: Volume 1. \n",
            "Url: https://www.imdb.com/title/tt20501878/?ref_=adv_li_i.\n",
            " Error:\n",
            "'NoneType' object has no attribute 'find_next_sibling'\n"
          ]
        },
        {
          "output_type": "stream",
          "name": "stderr",
          "text": [
            "Traceback (most recent call last):\n",
            "  File \"<ipython-input-14-4f1d2746ad1e>\", line 17, in get_extended_details\n",
            "    director_box = director_box.find_next_sibling()\n",
            "AttributeError: 'NoneType' object has no attribute 'find_next_sibling'\n"
          ]
        },
        {
          "output_type": "stream",
          "name": "stdout",
          "text": [
            "The Macabre https://www.imdb.com/title/tt11295396/?ref_=adv_li_i\n",
            "movie_search_url_50_batch start point 1251: https://www.imdb.com/search/title/?title_type=feature&release_date=2022-01-01,2022-12-31&num_votes=20,&languages=en&start=1251&ref_=adv_nxt\n",
            "Amerikatsi https://www.imdb.com/title/tt13616368/?ref_=adv_li_i\n",
            "The Third Saturday in October https://www.imdb.com/title/tt15978042/?ref_=adv_li_i\n",
            "movie_search_url_50_batch start point 1301: https://www.imdb.com/search/title/?title_type=feature&release_date=2022-01-01,2022-12-31&num_votes=20,&languages=en&start=1301&ref_=adv_nxt\n",
            "Albatross https://www.imdb.com/title/tt12992082/?ref_=adv_li_i\n",
            "Free Skate https://www.imdb.com/title/tt9587950/?ref_=adv_li_i\n"
          ]
        }
      ]
    },
    {
      "cell_type": "code",
      "source": [
        "movie_dataset = pd.DataFrame(total_movie_dataset)\n",
        "movie_dataset.to_csv(\"/content/drive/My Drive/Harvard HW/Course 4 - Final Project/total_movie_dataset.csv\", index=False)\n",
        "\n",
        "movie_dataset"
      ],
      "metadata": {
        "id": "1zPMKZlwevQ5",
        "colab": {
          "base_uri": "https://localhost:8080/",
          "height": 834
        },
        "outputId": "55dc09d0-7914-4681-d44f-d63e981e574b"
      },
      "execution_count": 20,
      "outputs": [
        {
          "output_type": "execute_result",
          "data": {
            "text/plain": [
              "                             movie_name  \\\n",
              "0              Avatar: The Way of Water   \n",
              "1     Everything Everywhere All at Once   \n",
              "2                             The Whale   \n",
              "3                   Triangle of Sadness   \n",
              "4                     Top Gun: Maverick   \n",
              "...                                 ...   \n",
              "1345         Single and Ready to Jingle   \n",
              "1346                     Last the Night   \n",
              "1347                             Runner   \n",
              "1348               Night of the Bastard   \n",
              "1349                   The Ex Obsession   \n",
              "\n",
              "                                         movie_page_url movie_place  \\\n",
              "0     https://www.imdb.com/title/tt1630029/?ref_=adv...           1   \n",
              "1     https://www.imdb.com/title/tt6710474/?ref_=adv...           2   \n",
              "2     https://www.imdb.com/title/tt13833688/?ref_=ad...           3   \n",
              "3     https://www.imdb.com/title/tt7322224/?ref_=adv...           4   \n",
              "4     https://www.imdb.com/title/tt1745960/?ref_=adv...           5   \n",
              "...                                                 ...         ...   \n",
              "1345  https://www.imdb.com/title/tt18298074/?ref_=ad...       1,346   \n",
              "1346  https://www.imdb.com/title/tt14263856/?ref_=ad...       1,347   \n",
              "1347  https://www.imdb.com/title/tt13111170/?ref_=ad...       1,348   \n",
              "1348  https://www.imdb.com/title/tt16420502/?ref_=ad...       1,349   \n",
              "1349  https://www.imdb.com/title/tt20868642/?ref_=ad...       1,350   \n",
              "\n",
              "        movie_id                                    movie_thubmnail  \\\n",
              "0      tt1630029  https://m.media-amazon.com/images/S/sash/4Fyxw...   \n",
              "1      tt6710474  https://m.media-amazon.com/images/S/sash/4Fyxw...   \n",
              "2     tt13833688  https://m.media-amazon.com/images/S/sash/4Fyxw...   \n",
              "3      tt7322224  https://m.media-amazon.com/images/S/sash/4Fyxw...   \n",
              "4      tt1745960  https://m.media-amazon.com/images/S/sash/4Fyxw...   \n",
              "...          ...                                                ...   \n",
              "1345  tt18298074  https://m.media-amazon.com/images/S/sash/4Fyxw...   \n",
              "1346  tt14263856  https://m.media-amazon.com/images/S/sash/4Fyxw...   \n",
              "1347  tt13111170  https://m.media-amazon.com/images/S/sash/4Fyxw...   \n",
              "1348  tt16420502  https://m.media-amazon.com/images/S/sash/4Fyxw...   \n",
              "1349  tt20868642  https://m.media-amazon.com/images/S/sash/4Fyxw...   \n",
              "\n",
              "     movie_metascore                                  movie_description  \\\n",
              "0                 67  Jake Sully lives with his newfound family form...   \n",
              "1                 81  A middle-aged Chinese immigrant is swept up in...   \n",
              "2                 60  A reclusive, morbidly obese English teacher at...   \n",
              "3                 63  A fashion model celebrity couple join an event...   \n",
              "4                 78  After thirty years, Maverick is still pushing ...   \n",
              "...              ...                                                ...   \n",
              "1345            None  Emma Warner, as a SVP of a toy company, spends...   \n",
              "1346            None  During the pandemic, a burned out teacher on t...   \n",
              "1347            None  An 18-year-old girl dealing with the sudden de...   \n",
              "1348            None  After an injured young woman takes refuge in h...   \n",
              "1349            None  When Kim's husband accidentally kills her ex, ...   \n",
              "\n",
              "     runtime_min movie_vote_num  movie_gross  ...        release_date  \\\n",
              "0            192         337209  659,682,302  ...   December 16, 2022   \n",
              "1            139         414055   72,861,480  ...       April 8, 2022   \n",
              "2            117         117996         None  ...   December 21, 2022   \n",
              "3            147         117987         None  ...  September 18, 2022   \n",
              "4            130         561267  718,732,821  ...        May 27, 2022   \n",
              "...          ...            ...          ...  ...                 ...   \n",
              "1345          90            362         None  ...   December 11, 2022   \n",
              "1346          88           6447         None  ...     August 11, 2022   \n",
              "1347          76             51         None  ...   September 9, 2022   \n",
              "1348          82            117         None  ...                2022   \n",
              "1349          96            103         None  ...   November 18, 2022   \n",
              "\n",
              "            budget   budget_usd budget_currency gross_worldwide  \\\n",
              "0     $350,000,000  350000000.0             USD  $2,312,242,473   \n",
              "1      $14,300,000   14300000.0             USD    $135,728,167   \n",
              "2      $10,000,000   10000000.0             USD     $53,082,539   \n",
              "3      €10,000,000   10888597.0             EUR     $25,377,810   \n",
              "4     $170,000,000  170000000.0             USD  $1,493,491,858   \n",
              "...            ...          ...             ...             ...   \n",
              "1345          None          NaN             NaN            None   \n",
              "1346          None          NaN             NaN            None   \n",
              "1347          None          NaN             NaN            None   \n",
              "1348          None          NaN             NaN            None   \n",
              "1349          None          NaN             NaN            None   \n",
              "\n",
              "     gross_us_canada opening_weekend_us_canada origin_country  \\\n",
              "0       $681,826,264              $134,100,226  United States   \n",
              "1        $77,020,896                  $501,305  United States   \n",
              "2        $17,443,137                  $332,152  United States   \n",
              "3         $4,608,096                  $214,602           None   \n",
              "4       $718,732,821              $126,707,459  United States   \n",
              "...              ...                       ...            ...   \n",
              "1345            None                      None           None   \n",
              "1346            None                      None  United States   \n",
              "1347            None                      None           None   \n",
              "1348            None                      None  United States   \n",
              "1349            None                      None  United States   \n",
              "\n",
              "                                             languages  \\\n",
              "0                                              English   \n",
              "1                           English,Mandarin,Cantonese   \n",
              "2                                              English   \n",
              "3     English,Swedish,German,French,Greek,Tagalog,Akan   \n",
              "4                                              English   \n",
              "...                                                ...   \n",
              "1345                                           English   \n",
              "1346                                           English   \n",
              "1347                                           English   \n",
              "1348                                           English   \n",
              "1349                                           English   \n",
              "\n",
              "     __SuccsefullyCollectExtandedDetails  \n",
              "0                                   True  \n",
              "1                                   True  \n",
              "2                                   True  \n",
              "3                                   True  \n",
              "4                                   True  \n",
              "...                                  ...  \n",
              "1345                                True  \n",
              "1346                                True  \n",
              "1347                                True  \n",
              "1348                                True  \n",
              "1349                                True  \n",
              "\n",
              "[1350 rows x 42 columns]"
            ],
            "text/html": [
              "\n",
              "  <div id=\"df-9dcdd658-cd82-4b2d-9b4d-1bfdb4312b19\">\n",
              "    <div class=\"colab-df-container\">\n",
              "      <div>\n",
              "<style scoped>\n",
              "    .dataframe tbody tr th:only-of-type {\n",
              "        vertical-align: middle;\n",
              "    }\n",
              "\n",
              "    .dataframe tbody tr th {\n",
              "        vertical-align: top;\n",
              "    }\n",
              "\n",
              "    .dataframe thead th {\n",
              "        text-align: right;\n",
              "    }\n",
              "</style>\n",
              "<table border=\"1\" class=\"dataframe\">\n",
              "  <thead>\n",
              "    <tr style=\"text-align: right;\">\n",
              "      <th></th>\n",
              "      <th>movie_name</th>\n",
              "      <th>movie_page_url</th>\n",
              "      <th>movie_place</th>\n",
              "      <th>movie_id</th>\n",
              "      <th>movie_thubmnail</th>\n",
              "      <th>movie_metascore</th>\n",
              "      <th>movie_description</th>\n",
              "      <th>runtime_min</th>\n",
              "      <th>movie_vote_num</th>\n",
              "      <th>movie_gross</th>\n",
              "      <th>...</th>\n",
              "      <th>release_date</th>\n",
              "      <th>budget</th>\n",
              "      <th>budget_usd</th>\n",
              "      <th>budget_currency</th>\n",
              "      <th>gross_worldwide</th>\n",
              "      <th>gross_us_canada</th>\n",
              "      <th>opening_weekend_us_canada</th>\n",
              "      <th>origin_country</th>\n",
              "      <th>languages</th>\n",
              "      <th>__SuccsefullyCollectExtandedDetails</th>\n",
              "    </tr>\n",
              "  </thead>\n",
              "  <tbody>\n",
              "    <tr>\n",
              "      <th>0</th>\n",
              "      <td>Avatar: The Way of Water</td>\n",
              "      <td>https://www.imdb.com/title/tt1630029/?ref_=adv...</td>\n",
              "      <td>1</td>\n",
              "      <td>tt1630029</td>\n",
              "      <td>https://m.media-amazon.com/images/S/sash/4Fyxw...</td>\n",
              "      <td>67</td>\n",
              "      <td>Jake Sully lives with his newfound family form...</td>\n",
              "      <td>192</td>\n",
              "      <td>337209</td>\n",
              "      <td>659,682,302</td>\n",
              "      <td>...</td>\n",
              "      <td>December 16, 2022</td>\n",
              "      <td>$350,000,000</td>\n",
              "      <td>350000000.0</td>\n",
              "      <td>USD</td>\n",
              "      <td>$2,312,242,473</td>\n",
              "      <td>$681,826,264</td>\n",
              "      <td>$134,100,226</td>\n",
              "      <td>United States</td>\n",
              "      <td>English</td>\n",
              "      <td>True</td>\n",
              "    </tr>\n",
              "    <tr>\n",
              "      <th>1</th>\n",
              "      <td>Everything Everywhere All at Once</td>\n",
              "      <td>https://www.imdb.com/title/tt6710474/?ref_=adv...</td>\n",
              "      <td>2</td>\n",
              "      <td>tt6710474</td>\n",
              "      <td>https://m.media-amazon.com/images/S/sash/4Fyxw...</td>\n",
              "      <td>81</td>\n",
              "      <td>A middle-aged Chinese immigrant is swept up in...</td>\n",
              "      <td>139</td>\n",
              "      <td>414055</td>\n",
              "      <td>72,861,480</td>\n",
              "      <td>...</td>\n",
              "      <td>April 8, 2022</td>\n",
              "      <td>$14,300,000</td>\n",
              "      <td>14300000.0</td>\n",
              "      <td>USD</td>\n",
              "      <td>$135,728,167</td>\n",
              "      <td>$77,020,896</td>\n",
              "      <td>$501,305</td>\n",
              "      <td>United States</td>\n",
              "      <td>English,Mandarin,Cantonese</td>\n",
              "      <td>True</td>\n",
              "    </tr>\n",
              "    <tr>\n",
              "      <th>2</th>\n",
              "      <td>The Whale</td>\n",
              "      <td>https://www.imdb.com/title/tt13833688/?ref_=ad...</td>\n",
              "      <td>3</td>\n",
              "      <td>tt13833688</td>\n",
              "      <td>https://m.media-amazon.com/images/S/sash/4Fyxw...</td>\n",
              "      <td>60</td>\n",
              "      <td>A reclusive, morbidly obese English teacher at...</td>\n",
              "      <td>117</td>\n",
              "      <td>117996</td>\n",
              "      <td>None</td>\n",
              "      <td>...</td>\n",
              "      <td>December 21, 2022</td>\n",
              "      <td>$10,000,000</td>\n",
              "      <td>10000000.0</td>\n",
              "      <td>USD</td>\n",
              "      <td>$53,082,539</td>\n",
              "      <td>$17,443,137</td>\n",
              "      <td>$332,152</td>\n",
              "      <td>United States</td>\n",
              "      <td>English</td>\n",
              "      <td>True</td>\n",
              "    </tr>\n",
              "    <tr>\n",
              "      <th>3</th>\n",
              "      <td>Triangle of Sadness</td>\n",
              "      <td>https://www.imdb.com/title/tt7322224/?ref_=adv...</td>\n",
              "      <td>4</td>\n",
              "      <td>tt7322224</td>\n",
              "      <td>https://m.media-amazon.com/images/S/sash/4Fyxw...</td>\n",
              "      <td>63</td>\n",
              "      <td>A fashion model celebrity couple join an event...</td>\n",
              "      <td>147</td>\n",
              "      <td>117987</td>\n",
              "      <td>None</td>\n",
              "      <td>...</td>\n",
              "      <td>September 18, 2022</td>\n",
              "      <td>€10,000,000</td>\n",
              "      <td>10888597.0</td>\n",
              "      <td>EUR</td>\n",
              "      <td>$25,377,810</td>\n",
              "      <td>$4,608,096</td>\n",
              "      <td>$214,602</td>\n",
              "      <td>None</td>\n",
              "      <td>English,Swedish,German,French,Greek,Tagalog,Akan</td>\n",
              "      <td>True</td>\n",
              "    </tr>\n",
              "    <tr>\n",
              "      <th>4</th>\n",
              "      <td>Top Gun: Maverick</td>\n",
              "      <td>https://www.imdb.com/title/tt1745960/?ref_=adv...</td>\n",
              "      <td>5</td>\n",
              "      <td>tt1745960</td>\n",
              "      <td>https://m.media-amazon.com/images/S/sash/4Fyxw...</td>\n",
              "      <td>78</td>\n",
              "      <td>After thirty years, Maverick is still pushing ...</td>\n",
              "      <td>130</td>\n",
              "      <td>561267</td>\n",
              "      <td>718,732,821</td>\n",
              "      <td>...</td>\n",
              "      <td>May 27, 2022</td>\n",
              "      <td>$170,000,000</td>\n",
              "      <td>170000000.0</td>\n",
              "      <td>USD</td>\n",
              "      <td>$1,493,491,858</td>\n",
              "      <td>$718,732,821</td>\n",
              "      <td>$126,707,459</td>\n",
              "      <td>United States</td>\n",
              "      <td>English</td>\n",
              "      <td>True</td>\n",
              "    </tr>\n",
              "    <tr>\n",
              "      <th>...</th>\n",
              "      <td>...</td>\n",
              "      <td>...</td>\n",
              "      <td>...</td>\n",
              "      <td>...</td>\n",
              "      <td>...</td>\n",
              "      <td>...</td>\n",
              "      <td>...</td>\n",
              "      <td>...</td>\n",
              "      <td>...</td>\n",
              "      <td>...</td>\n",
              "      <td>...</td>\n",
              "      <td>...</td>\n",
              "      <td>...</td>\n",
              "      <td>...</td>\n",
              "      <td>...</td>\n",
              "      <td>...</td>\n",
              "      <td>...</td>\n",
              "      <td>...</td>\n",
              "      <td>...</td>\n",
              "      <td>...</td>\n",
              "      <td>...</td>\n",
              "    </tr>\n",
              "    <tr>\n",
              "      <th>1345</th>\n",
              "      <td>Single and Ready to Jingle</td>\n",
              "      <td>https://www.imdb.com/title/tt18298074/?ref_=ad...</td>\n",
              "      <td>1,346</td>\n",
              "      <td>tt18298074</td>\n",
              "      <td>https://m.media-amazon.com/images/S/sash/4Fyxw...</td>\n",
              "      <td>None</td>\n",
              "      <td>Emma Warner, as a SVP of a toy company, spends...</td>\n",
              "      <td>90</td>\n",
              "      <td>362</td>\n",
              "      <td>None</td>\n",
              "      <td>...</td>\n",
              "      <td>December 11, 2022</td>\n",
              "      <td>None</td>\n",
              "      <td>NaN</td>\n",
              "      <td>NaN</td>\n",
              "      <td>None</td>\n",
              "      <td>None</td>\n",
              "      <td>None</td>\n",
              "      <td>None</td>\n",
              "      <td>English</td>\n",
              "      <td>True</td>\n",
              "    </tr>\n",
              "    <tr>\n",
              "      <th>1346</th>\n",
              "      <td>Last the Night</td>\n",
              "      <td>https://www.imdb.com/title/tt14263856/?ref_=ad...</td>\n",
              "      <td>1,347</td>\n",
              "      <td>tt14263856</td>\n",
              "      <td>https://m.media-amazon.com/images/S/sash/4Fyxw...</td>\n",
              "      <td>None</td>\n",
              "      <td>During the pandemic, a burned out teacher on t...</td>\n",
              "      <td>88</td>\n",
              "      <td>6447</td>\n",
              "      <td>None</td>\n",
              "      <td>...</td>\n",
              "      <td>August 11, 2022</td>\n",
              "      <td>None</td>\n",
              "      <td>NaN</td>\n",
              "      <td>NaN</td>\n",
              "      <td>None</td>\n",
              "      <td>None</td>\n",
              "      <td>None</td>\n",
              "      <td>United States</td>\n",
              "      <td>English</td>\n",
              "      <td>True</td>\n",
              "    </tr>\n",
              "    <tr>\n",
              "      <th>1347</th>\n",
              "      <td>Runner</td>\n",
              "      <td>https://www.imdb.com/title/tt13111170/?ref_=ad...</td>\n",
              "      <td>1,348</td>\n",
              "      <td>tt13111170</td>\n",
              "      <td>https://m.media-amazon.com/images/S/sash/4Fyxw...</td>\n",
              "      <td>None</td>\n",
              "      <td>An 18-year-old girl dealing with the sudden de...</td>\n",
              "      <td>76</td>\n",
              "      <td>51</td>\n",
              "      <td>None</td>\n",
              "      <td>...</td>\n",
              "      <td>September 9, 2022</td>\n",
              "      <td>None</td>\n",
              "      <td>NaN</td>\n",
              "      <td>NaN</td>\n",
              "      <td>None</td>\n",
              "      <td>None</td>\n",
              "      <td>None</td>\n",
              "      <td>None</td>\n",
              "      <td>English</td>\n",
              "      <td>True</td>\n",
              "    </tr>\n",
              "    <tr>\n",
              "      <th>1348</th>\n",
              "      <td>Night of the Bastard</td>\n",
              "      <td>https://www.imdb.com/title/tt16420502/?ref_=ad...</td>\n",
              "      <td>1,349</td>\n",
              "      <td>tt16420502</td>\n",
              "      <td>https://m.media-amazon.com/images/S/sash/4Fyxw...</td>\n",
              "      <td>None</td>\n",
              "      <td>After an injured young woman takes refuge in h...</td>\n",
              "      <td>82</td>\n",
              "      <td>117</td>\n",
              "      <td>None</td>\n",
              "      <td>...</td>\n",
              "      <td>2022</td>\n",
              "      <td>None</td>\n",
              "      <td>NaN</td>\n",
              "      <td>NaN</td>\n",
              "      <td>None</td>\n",
              "      <td>None</td>\n",
              "      <td>None</td>\n",
              "      <td>United States</td>\n",
              "      <td>English</td>\n",
              "      <td>True</td>\n",
              "    </tr>\n",
              "    <tr>\n",
              "      <th>1349</th>\n",
              "      <td>The Ex Obsession</td>\n",
              "      <td>https://www.imdb.com/title/tt20868642/?ref_=ad...</td>\n",
              "      <td>1,350</td>\n",
              "      <td>tt20868642</td>\n",
              "      <td>https://m.media-amazon.com/images/S/sash/4Fyxw...</td>\n",
              "      <td>None</td>\n",
              "      <td>When Kim's husband accidentally kills her ex, ...</td>\n",
              "      <td>96</td>\n",
              "      <td>103</td>\n",
              "      <td>None</td>\n",
              "      <td>...</td>\n",
              "      <td>November 18, 2022</td>\n",
              "      <td>None</td>\n",
              "      <td>NaN</td>\n",
              "      <td>NaN</td>\n",
              "      <td>None</td>\n",
              "      <td>None</td>\n",
              "      <td>None</td>\n",
              "      <td>United States</td>\n",
              "      <td>English</td>\n",
              "      <td>True</td>\n",
              "    </tr>\n",
              "  </tbody>\n",
              "</table>\n",
              "<p>1350 rows × 42 columns</p>\n",
              "</div>\n",
              "      <button class=\"colab-df-convert\" onclick=\"convertToInteractive('df-9dcdd658-cd82-4b2d-9b4d-1bfdb4312b19')\"\n",
              "              title=\"Convert this dataframe to an interactive table.\"\n",
              "              style=\"display:none;\">\n",
              "        \n",
              "  <svg xmlns=\"http://www.w3.org/2000/svg\" height=\"24px\"viewBox=\"0 0 24 24\"\n",
              "       width=\"24px\">\n",
              "    <path d=\"M0 0h24v24H0V0z\" fill=\"none\"/>\n",
              "    <path d=\"M18.56 5.44l.94 2.06.94-2.06 2.06-.94-2.06-.94-.94-2.06-.94 2.06-2.06.94zm-11 1L8.5 8.5l.94-2.06 2.06-.94-2.06-.94L8.5 2.5l-.94 2.06-2.06.94zm10 10l.94 2.06.94-2.06 2.06-.94-2.06-.94-.94-2.06-.94 2.06-2.06.94z\"/><path d=\"M17.41 7.96l-1.37-1.37c-.4-.4-.92-.59-1.43-.59-.52 0-1.04.2-1.43.59L10.3 9.45l-7.72 7.72c-.78.78-.78 2.05 0 2.83L4 21.41c.39.39.9.59 1.41.59.51 0 1.02-.2 1.41-.59l7.78-7.78 2.81-2.81c.8-.78.8-2.07 0-2.86zM5.41 20L4 18.59l7.72-7.72 1.47 1.35L5.41 20z\"/>\n",
              "  </svg>\n",
              "      </button>\n",
              "      \n",
              "  <style>\n",
              "    .colab-df-container {\n",
              "      display:flex;\n",
              "      flex-wrap:wrap;\n",
              "      gap: 12px;\n",
              "    }\n",
              "\n",
              "    .colab-df-convert {\n",
              "      background-color: #E8F0FE;\n",
              "      border: none;\n",
              "      border-radius: 50%;\n",
              "      cursor: pointer;\n",
              "      display: none;\n",
              "      fill: #1967D2;\n",
              "      height: 32px;\n",
              "      padding: 0 0 0 0;\n",
              "      width: 32px;\n",
              "    }\n",
              "\n",
              "    .colab-df-convert:hover {\n",
              "      background-color: #E2EBFA;\n",
              "      box-shadow: 0px 1px 2px rgba(60, 64, 67, 0.3), 0px 1px 3px 1px rgba(60, 64, 67, 0.15);\n",
              "      fill: #174EA6;\n",
              "    }\n",
              "\n",
              "    [theme=dark] .colab-df-convert {\n",
              "      background-color: #3B4455;\n",
              "      fill: #D2E3FC;\n",
              "    }\n",
              "\n",
              "    [theme=dark] .colab-df-convert:hover {\n",
              "      background-color: #434B5C;\n",
              "      box-shadow: 0px 1px 3px 1px rgba(0, 0, 0, 0.15);\n",
              "      filter: drop-shadow(0px 1px 2px rgba(0, 0, 0, 0.3));\n",
              "      fill: #FFFFFF;\n",
              "    }\n",
              "  </style>\n",
              "\n",
              "      <script>\n",
              "        const buttonEl =\n",
              "          document.querySelector('#df-9dcdd658-cd82-4b2d-9b4d-1bfdb4312b19 button.colab-df-convert');\n",
              "        buttonEl.style.display =\n",
              "          google.colab.kernel.accessAllowed ? 'block' : 'none';\n",
              "\n",
              "        async function convertToInteractive(key) {\n",
              "          const element = document.querySelector('#df-9dcdd658-cd82-4b2d-9b4d-1bfdb4312b19');\n",
              "          const dataTable =\n",
              "            await google.colab.kernel.invokeFunction('convertToInteractive',\n",
              "                                                     [key], {});\n",
              "          if (!dataTable) return;\n",
              "\n",
              "          const docLinkHtml = 'Like what you see? Visit the ' +\n",
              "            '<a target=\"_blank\" href=https://colab.research.google.com/notebooks/data_table.ipynb>data table notebook</a>'\n",
              "            + ' to learn more about interactive tables.';\n",
              "          element.innerHTML = '';\n",
              "          dataTable['output_type'] = 'display_data';\n",
              "          await google.colab.output.renderOutput(dataTable, element);\n",
              "          const docLink = document.createElement('div');\n",
              "          docLink.innerHTML = docLinkHtml;\n",
              "          element.appendChild(docLink);\n",
              "        }\n",
              "      </script>\n",
              "    </div>\n",
              "  </div>\n",
              "  "
            ]
          },
          "metadata": {},
          "execution_count": 20
        }
      ]
    },
    {
      "cell_type": "code",
      "source": [
        "languages = movie_main_page_soup.find('span',string=\"Language\") if movie_main_page_soup.find('span',string=\"Languages\") is None else movie_main_page_soup.find('span',string=\"Languages\")\n",
        "languages = [] if not languages else languages.find_next_sibling().find_all('a')\n",
        "\",\".join([language.text for language in languages])"
      ],
      "metadata": {
        "id": "-j2y88dH1chv",
        "colab": {
          "base_uri": "https://localhost:8080/",
          "height": 36
        },
        "outputId": "1fda245b-5688-4cdb-ad17-f8c236d8985b"
      },
      "execution_count": 21,
      "outputs": [
        {
          "output_type": "execute_result",
          "data": {
            "text/plain": [
              "'English'"
            ],
            "application/vnd.google.colaboratory.intrinsic+json": {
              "type": "string"
            }
          },
          "metadata": {},
          "execution_count": 21
        }
      ]
    },
    {
      "cell_type": "code",
      "source": [
        "# movie_main_page_soup\n",
        "# writers_box = movie_main_page_soup.find('span',string=\"Writer\") if movie_main_page_soup.find('a',string=\"Writers\") is None else movie_main_page_soup.find('a',string=\"Writers\")\n",
        "# writers_box = writers_box.find_next_sibling()\n",
        "# writers_box"
      ],
      "metadata": {
        "id": "mDjtqHinj9cA"
      },
      "execution_count": 22,
      "outputs": []
    },
    {
      "cell_type": "code",
      "source": [],
      "metadata": {
        "id": "3ILsPPc9dUkH"
      },
      "execution_count": 22,
      "outputs": []
    }
  ]
}